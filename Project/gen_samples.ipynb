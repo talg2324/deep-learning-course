{
 "cells": [
  {
   "cell_type": "code",
   "execution_count": 3,
   "id": "56a6820f-2811-4d1c-8816-7f5a73b4176c",
   "metadata": {},
   "outputs": [],
   "source": [
    "import sys\n",
    "sys.path.append(\".\")\n",
    "sys.path.append(\"./latent-diffusion\")\n",
    "sys.path.append('./taming-transformers')\n",
    "\n",
    "import torch\n",
    "from omegaconf import OmegaConf\n",
    "\n",
    "from ldm.util import instantiate_from_config\n",
    "\n",
    "\n",
    "def load_model_from_config(config, ckpt):\n",
    "    print(f\"Loading model from {ckpt}\")\n",
    "    # device = torch.device('cuda' if torch.cuda.is_available() else 'cpu')\n",
    "    device = torch.device('cpu')\n",
    "    pl_sd = torch.load(ckpt, weights_only=False, map_location=torch.device('cpu'))\n",
    "    sd = pl_sd[\"state_dict\"]\n",
    "    torch.save(sd, '/content/tmp_sd')\n",
    "    model = instantiate_from_config(config.model)\n",
    "    m, u = model.load_state_dict(torch.load('/content/tmp_sd', map_location=device), strict=False)\n",
    "    # model.cuda()\n",
    "    # model.eval()\n",
    "    return model, sd, pl_sd\n",
    "\n",
    "\n",
    "def get_model(model_config_path, model_ckpt_path):\n",
    "    config = OmegaConf.load(model_config_path)\n",
    "    model, sd, pl_sd = load_model_from_config(config, model_ckpt_path)\n",
    "    return model, sd, pl_sd"
   ]
  },
  {
   "cell_type": "code",
   "execution_count": null,
   "id": "d1db12fc-eae7-4e92-a873-44b30b135213",
   "metadata": {},
   "outputs": [
    {
     "name": "stdout",
     "output_type": "stream",
     "text": [
      "Loading model from ./data/dl-project-outputs/20-4-2024_5ims_20epochs/last.ckpt\n"
     ]
    }
   ],
   "source": [
    "import os\n",
    "training_output_dir = './data/dl-project-outputs'\n",
    "training_name = '20-4-2024_5ims_20epochs'\n",
    "model_config_path = os.path.join(training_output_dir, training_name, 'configs/2024-04-20T19-47-16-project.yaml')\n",
    "cin_model_config_path = os.path.join('./latent-diffusion/configs/latent-diffusion/cin256-v2.yaml')\n",
    "model_ckpt_path = os.path.join(training_output_dir, training_name, 'last.ckpt')\n",
    "# model_ckpt_path = '/content/last.ckpt'\n",
    "cin_model_ckpt_path = './latent-diffusion/models/ldm/cin256-v2/model.ckpt'\n",
    "\n",
    "# load model\n",
    "from ldm.models.diffusion.ddim import DDIMSampler\n",
    "\n",
    "# sd, pl_sd = load_model_from_config(model_config_path, model_ckpt_path)\n",
    "model, sd, pl_sd = get_model(model_config_path, model_ckpt_path)"
   ]
  },
  {
   "cell_type": "code",
   "execution_count": null,
   "id": "9ac6abfa-5078-4dd9-881d-dd68911308c0",
   "metadata": {},
   "outputs": [],
   "source": [
    "from ldm.models.diffusion.ddim import DDIMSampler\n",
    "\n",
    "sampler = DDIMSampler(model)"
   ]
  }
 ],
 "metadata": {
  "kernelspec": {
   "display_name": "Python 3 (ipykernel)",
   "language": "python",
   "name": "python3"
  },
  "language_info": {
   "codemirror_mode": {
    "name": "ipython",
    "version": 3
   },
   "file_extension": ".py",
   "mimetype": "text/x-python",
   "name": "python",
   "nbconvert_exporter": "python",
   "pygments_lexer": "ipython3",
   "version": "3.8.5"
  }
 },
 "nbformat": 4,
 "nbformat_minor": 5
}
