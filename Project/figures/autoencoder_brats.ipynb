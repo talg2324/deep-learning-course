{
 "cells": [
  {
   "cell_type": "markdown",
   "metadata": {},
   "source": [
    "# BraTS Autoencoder Training Process"
   ]
  },
  {
   "cell_type": "code",
   "execution_count": null,
   "metadata": {},
   "outputs": [],
   "source": [
    "import os\n",
    "import sys\n",
    "import torch\n",
    "import numpy as np\n",
    "from matplotlib import pyplot as plt\n",
    "from monai.bundle import ConfigParser\n",
    "\n",
    "BUNDLE = '../brats-mri/brats_mri_class_cond'\n",
    "sys.path.append(BUNDLE)\n",
    "from scripts.ct_rsna import CTSubset"
   ]
  },
  {
   "cell_type": "code",
   "execution_count": null,
   "metadata": {},
   "outputs": [],
   "source": [
    "device = torch.device('cuda:0' if torch.cuda.is_available() else 'cpu')"
   ]
  },
  {
   "cell_type": "code",
   "execution_count": null,
   "metadata": {},
   "outputs": [],
   "source": [
    "def get_autoencoder(config_file_name):\n",
    "    config = ConfigParser()\n",
    "    config.read_config(os.path.join(BUNDLE, 'configs', config_file_name))\n",
    "\n",
    "    config['bundle_root'] = BUNDLE\n",
    "    config['model_dir'] = os.path.join(BUNDLE, 'models')\n",
    "    autoencoder = config.get_parsed_content('autoencoder')\n",
    "    autoencoder.load_state_dict(torch.load(config.get_parsed_content('load_autoencoder_path', map_location=device)), strict=False)\n",
    "    return autoencoder.to(device)\n"
   ]
  },
  {
   "cell_type": "code",
   "execution_count": null,
   "metadata": {},
   "outputs": [],
   "source": [
    "mri_vae = get_autoencoder('inference.json')\n",
    "ct_vae = get_autoencoder('inference_new.json')"
   ]
  },
  {
   "cell_type": "code",
   "execution_count": null,
   "metadata": {},
   "outputs": [],
   "source": [
    "ds = CTSubset('../data/ct-rsna/train/', 'train_set_dropped_nans.csv',size=256, flip_prob=0.5, subset_len=1024)"
   ]
  },
  {
   "cell_type": "code",
   "execution_count": null,
   "metadata": {},
   "outputs": [],
   "source": [
    "np.random.seed(7)\n",
    "K = 5\n",
    "k_samples = np.random.choice(len(ds), K)\n",
    "\n",
    "fig, ax = plt.subplots(3, K, figsize=(10, 6), sharex=True, sharey=True)\n",
    "with torch.no_grad():\n",
    "    for i in range(K):\n",
    "        x = ds[k_samples[i]]['image'].to(device)\n",
    "        y1, _, _ = mri_vae(x.unsqueeze(0))\n",
    "        y2, _, _ = ct_vae(x.unsqueeze(0))\n",
    "\n",
    "        ax[0, i].imshow(x.squeeze().cpu().numpy(), vmin=0., vmax=1., cmap='gray')\n",
    "        ax[1, i].imshow(y1.squeeze().cpu().numpy(), vmin=0., vmax=1., cmap='gray')\n",
    "        ax[2, i].imshow(y2.squeeze().cpu().numpy(), vmin=0., vmax=1., cmap='gray')\n",
    "\n",
    "ax[0, 0].set_ylabel('input')\n",
    "ax[1, 0].set_ylabel('initial')\n",
    "ax[2, 0].set_ylabel('trained')\n",
    "ax[2, 0].set_xticks([])\n",
    "ax[2, 0].set_yticks([])\n",
    "plt.show()"
   ]
  },
  {
   "cell_type": "code",
   "execution_count": null,
   "metadata": {},
   "outputs": [],
   "source": [
    "loss_dict = torch.load('../data/outputs/radimagenet_perceptual_1024_30epochs/losses_dict_epoch_30')"
   ]
  },
  {
   "cell_type": "code",
   "execution_count": null,
   "metadata": {},
   "outputs": [],
   "source": [
    "x, y = zip(*loss_dict['train'])\n",
    "plt.plot(x, y, marker='o', linestyle='-')\n",
    "plt.xlabel('Epoch #')\n",
    "plt.ylabel('KL-VAE Loss')\n",
    "plt.show"
   ]
  }
 ],
 "metadata": {
  "kernelspec": {
   "display_name": "Python 3 (ipykernel)",
   "language": "python",
   "name": "python3"
  },
  "language_info": {
   "codemirror_mode": {
    "name": "ipython",
    "version": 3
   },
   "file_extension": ".py",
   "mimetype": "text/x-python",
   "name": "python",
   "nbconvert_exporter": "python",
   "pygments_lexer": "ipython3",
   "version": "3.8.5"
  }
 },
 "nbformat": 4,
 "nbformat_minor": 4
}
