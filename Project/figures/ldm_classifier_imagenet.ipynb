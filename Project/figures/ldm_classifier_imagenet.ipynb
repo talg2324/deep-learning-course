{
 "cells": [
  {
   "cell_type": "code",
   "execution_count": 1,
   "id": "437b7fa2-1fa6-4291-8d1d-f111245ebe3f",
   "metadata": {},
   "outputs": [],
   "source": [
    "# model loader - imagenet\n",
    "\n",
    "import sys\n",
    "sys.path.append(\"../.\")\n",
    "sys.path.append(\"../latent-diffusion\")\n",
    "sys.path.append('../taming-transformers')\n",
    "\n",
    "import torch\n",
    "from omegaconf import OmegaConf\n",
    "\n",
    "from ldm.util import instantiate_from_config\n",
    "\n",
    "\n",
    "def load_model_from_config(config, ckpt):\n",
    "    print(f\"Loading model from {ckpt}\")\n",
    "    device = torch.device('cuda' if torch.cuda.is_available() else 'cpu')\n",
    "    # device = torch.device('cpu')\n",
    "    pl_sd = torch.load(ckpt, weights_only=False, map_location=torch.device('cpu'))\n",
    "    sd = pl_sd[\"state_dict\"]\n",
    "    torch.save(sd, './tmp_sd')\n",
    "    model = instantiate_from_config(config.model)\n",
    "    m, u = model.load_state_dict(torch.load('./tmp_sd', map_location=device), strict=False)\n",
    "    if torch.cuda.is_available():\n",
    "        model.cuda()\n",
    "    model.eval()\n",
    "    return model, sd, pl_sd\n",
    "\n",
    "\n",
    "def get_model(model_config_path, model_ckpt_path):\n",
    "    config = OmegaConf.load(model_config_path)\n",
    "    model, sd, pl_sd = load_model_from_config(config, model_ckpt_path)\n",
    "    return model, sd, pl_sd\n"
   ]
  },
  {
   "cell_type": "code",
   "execution_count": 2,
   "id": "6b4d2cbf-67fd-4daf-82cb-c22d13e9b917",
   "metadata": {},
   "outputs": [
    {
     "ename": "ModuleNotFoundError",
     "evalue": "No module named 'sklearn'",
     "output_type": "error",
     "traceback": [
      "\u001b[0;31m---------------------------------------------------------------------------\u001b[0m",
      "\u001b[0;31mModuleNotFoundError\u001b[0m                       Traceback (most recent call last)",
      "Cell \u001b[0;32mIn[2], line 3\u001b[0m\n\u001b[1;32m      1\u001b[0m \u001b[38;5;66;03m# confusion matrix plotter\u001b[39;00m\n\u001b[0;32m----> 3\u001b[0m \u001b[38;5;28;01mfrom\u001b[39;00m \u001b[38;5;21;01msklearn\u001b[39;00m\u001b[38;5;21;01m.\u001b[39;00m\u001b[38;5;21;01mmetrics\u001b[39;00m \u001b[38;5;28;01mimport\u001b[39;00m confusion_matrix\n\u001b[1;32m      4\u001b[0m \u001b[38;5;28;01mfrom\u001b[39;00m \u001b[38;5;21;01msklearn\u001b[39;00m\u001b[38;5;21;01m.\u001b[39;00m\u001b[38;5;21;01mmetrics\u001b[39;00m \u001b[38;5;28;01mimport\u001b[39;00m confusion_matrix, ConfusionMatrixDisplay\n\u001b[1;32m      5\u001b[0m \u001b[38;5;28;01mimport\u001b[39;00m \u001b[38;5;21;01mmatplotlib\u001b[39;00m\u001b[38;5;21;01m.\u001b[39;00m\u001b[38;5;21;01mpyplot\u001b[39;00m \u001b[38;5;28;01mas\u001b[39;00m \u001b[38;5;21;01mplt\u001b[39;00m\n",
      "\u001b[0;31mModuleNotFoundError\u001b[0m: No module named 'sklearn'"
     ]
    }
   ],
   "source": [
    "# confusion matrix plotter\n",
    "\n",
    "from sklearn.metrics import confusion_matrix\n",
    "from sklearn.metrics import confusion_matrix, ConfusionMatrixDisplay\n",
    "import matplotlib.pyplot as plt\n",
    "\n",
    "def labels_to_human_labels(labels, human_labels_list):\n",
    "    human_labels = [human_labels_list[int(x.detach().cpu().numpy())] for x in labels]  \n",
    "    return human_labels\n",
    "\n",
    "def plot_confusion_matrix(true_labels, labels_pred, human_labels_list):\n",
    "    true_labels_readable = labels_to_human_labels(true_labels, human_labels_list)\n",
    "    labels_pred_readable = labels_to_human_labels(labels_pred, human_labels_list)\n",
    "    cm = confusion_matrix(true_labels_readable, labels_pred_readable, labels=human_labels_list)\n",
    "    disp = ConfusionMatrixDisplay(confusion_matrix=cm,\n",
    "                                  display_labels=human_labels_list)\n",
    "    fig, ax = plt.subplots(figsize=(12,12))\n",
    "    disp.plot(ax=ax)\n",
    "    plt.show()"
   ]
  },
  {
   "cell_type": "code",
   "execution_count": 6,
   "id": "dd4d50a2-ed55-46e3-bc47-93f04fa6b506",
   "metadata": {},
   "outputs": [
    {
     "data": {
      "text/plain": [
       "<torch._C.Generator at 0x7fc5b1e324f0>"
      ]
     },
     "execution_count": 6,
     "metadata": {},
     "output_type": "execute_result"
    }
   ],
   "source": [
    "import numpy as np\n",
    "import torch\n",
    "# set a fixed random seed (both numpy and torch)\n",
    "np.random.seed(42)\n",
    "torch.manual_seed(42)"
   ]
  },
  {
   "cell_type": "code",
   "execution_count": 7,
   "id": "5200eae0-734d-4d68-b911-a4cb94f74cbe",
   "metadata": {},
   "outputs": [],
   "source": [
    "# utilities\n",
    "\n",
    "import os\n",
    "from enum import Enum\n",
    "import pickle\n",
    "\n",
    "from diffusion_classifier.ldm_classifier_imagenet import LdmClassifier\n",
    "\n",
    "def get_training_ckpt_files(output_dir, training_name):\n",
    "  ckpt_dir = os.path.join(output_dir, training_name, 'checkpoints')\n",
    "  training_ckpt_files = [os.path.join(ckpt_dir, ckpt) for ckpt in os.listdir(ckpt_dir) if 'epoch' in ckpt]\n",
    "  return training_ckpt_files\n",
    "\n",
    "def strip_epoch_num_from_ckpt(ckpt_full_path):\n",
    "  ckpt_name = ckpt_full_path.split('/')[-1]\n",
    "  epoch_num = 1 + int(ckpt_name.split(\".\")[0].split(\"=\")[-1])\n",
    "  return epoch_num\n",
    "\n",
    "def get_training_cfg_file(output_dir, training_name):\n",
    "  cfg_dir = os.path.join(output_dir, training_name, 'configs')\n",
    "  model_cfg_files = [cfg for cfg in os.listdir(cfg_dir) if 'project' in cfg]\n",
    "  if len(model_cfg_files) == 0:\n",
    "    raise ValueError(\"configs dir empty, you may manualy pass the config file instead\")\n",
    "  if len(model_cfg_files) > 1:\n",
    "    raise ValueError(\"more than 1 config file in configs dir, you may manualy pass the config file instead\")\n",
    "  \n",
    "  return os.path.join(cfg_dir, model_cfg_files[0])\n",
    "\n",
    "\n",
    "def evaluate_accuracy_over_epochs(output_dir, \n",
    "                                  training_name, \n",
    "                                  dataset, \n",
    "                                  t_sampling_stride = 50,\n",
    "                                  n_trials = 1\n",
    "                                 ):\n",
    "    # create classification results dir under the training dir\n",
    "    clf_dir = os.path.join(output_dir, training_name, 'classification')\n",
    "    if not os.path.exists(clf_dir):\n",
    "        os.makedirs(clf_dir)\n",
    "    n_pred_files = len(os.listdir(clf_dir))\n",
    "\n",
    "    clf_res_per_epoch = {'dataset': dataset}\n",
    "    # prepare files\n",
    "    training_ckpt_files = get_training_ckpt_files(output_dir, training_name)\n",
    "    cfg_file = get_training_cfg_file(output_dir, training_name)\n",
    "\n",
    "    # loop over ckpts\n",
    "    for ckpt_file in training_ckpt_files:\n",
    "        epoch_num = strip_epoch_num_from_ckpt(ckpt_file)\n",
    "        # load model\n",
    "        model, _, _ = get_model(cfg_file, ckpt_file)\n",
    "        # instantiate ldm classifier\n",
    "        ldm_clf = LdmClassifier(model)    \n",
    "        # run classification\n",
    "        l2_labels_pred, l1_labels_pred, true_labels = ldm_clf.classify_dataset(dataset=ds,\n",
    "                                                                               batch_size=1,\n",
    "                                                                               n_trials=n_trials,\n",
    "                                                                               t_sampling_stride=t_sampling_stride)\n",
    "        # save results\n",
    "        clf_res_per_epoch[epoch_num] = {\n",
    "          'true_labels': true_labels,\n",
    "          'l1_pred_labels': l1_labels_pred,\n",
    "          'l2_pred_labels': l2_labels_pred,\n",
    "        }\n",
    "        with open(os.path.join(clf_dir, f'predictions_{n_pred_files}'), 'wb') as f:\n",
    "            pickle.dump(clf_res_per_epoch, f)\n",
    "        \n",
    "        # delete model\n",
    "        del model\n",
    "        del ldm_clf\n",
    "\n",
    "    return ldm_clf\n",
    "\n"
   ]
  },
  {
   "cell_type": "code",
   "execution_count": 8,
   "id": "499ac9c8-ba63-4d9f-aada-eef9100c942c",
   "metadata": {},
   "outputs": [],
   "source": [
    "# more imports\n",
    "import sys\n",
    "sys.path.append('./latent-diffusion/ldm/data/')\n",
    "from ct_rsna import CTDataset, CTSubset\n",
    "from torchvision import transforms\n",
    "import torch\n",
    "from matplotlib import pyplot as plt\n",
    "import numpy as np"
   ]
  },
  {
   "cell_type": "code",
   "execution_count": null,
   "id": "5bac1926-54a9-4c84-b560-e2d90b007ca7",
   "metadata": {},
   "outputs": [
    {
     "name": "stdout",
     "output_type": "stream",
     "text": [
      "Data source: validation_set_dropped_nans.csv\n",
      "    Class none: 0.0%\n",
      "    Class epidural: 0.0%\n",
      "    Class intraparenchymal: 0.0%\n",
      "    Class intraventricular: 100.0%\n",
      "    Class subarachnoid: 0.0%\n",
      "    Class subdural: 0.0%\n",
      "Loading model from ./data/outputs/2024-05-10T17-04-36_imagenet-1024/checkpoints/epoch=000004.ckpt\n",
      "LatentDiffusion: Running in eps-prediction mode\n",
      "DiffusionWrapper has 400.92 M params.\n",
      "making attention of type 'vanilla' with 512 in_channels\n",
      "Working with z of shape (1, 3, 64, 64) = 12288 dimensions.\n",
      "making attention of type 'vanilla' with 512 in_channels\n"
     ]
    },
    {
     "data": {
      "application/vnd.jupyter.widget-view+json": {
       "model_id": "4db0e3c148c242329e3787bf182faacd",
       "version_major": 2,
       "version_minor": 0
      },
      "text/plain": [
       "dataset samples:   0%|          | 0/1 [00:00<?, ?it/s]"
      ]
     },
     "metadata": {},
     "output_type": "display_data"
    },
    {
     "data": {
      "application/vnd.jupyter.widget-view+json": {
       "model_id": "2fdb759c1ee2409aa965a47f82213785",
       "version_major": 2,
       "version_minor": 0
      },
      "text/plain": [
       "class hypothsis:   0%|          | 0/6 [00:00<?, ?it/s]"
      ]
     },
     "metadata": {},
     "output_type": "display_data"
    },
    {
     "data": {
      "application/vnd.jupyter.widget-view+json": {
       "model_id": "ff8a972953204813b9fcd1465723d179",
       "version_major": 2,
       "version_minor": 0
      },
      "text/plain": [
       "diffusion sampling:   0%|          | 0/2 [00:00<?, ?it/s]"
      ]
     },
     "metadata": {},
     "output_type": "display_data"
    },
    {
     "data": {
      "application/vnd.jupyter.widget-view+json": {
       "model_id": "078224fda1d34b7a9d7ca9e0811c9ecb",
       "version_major": 2,
       "version_minor": 0
      },
      "text/plain": [
       "diffusion sampling:   0%|          | 0/2 [00:00<?, ?it/s]"
      ]
     },
     "metadata": {},
     "output_type": "display_data"
    },
    {
     "data": {
      "application/vnd.jupyter.widget-view+json": {
       "model_id": "6db3346b578e4ce89f6346af930aa8e3",
       "version_major": 2,
       "version_minor": 0
      },
      "text/plain": [
       "diffusion sampling:   0%|          | 0/2 [00:00<?, ?it/s]"
      ]
     },
     "metadata": {},
     "output_type": "display_data"
    },
    {
     "data": {
      "application/vnd.jupyter.widget-view+json": {
       "model_id": "b3a4d9761ebc444e8adb29364267f734",
       "version_major": 2,
       "version_minor": 0
      },
      "text/plain": [
       "diffusion sampling:   0%|          | 0/2 [00:00<?, ?it/s]"
      ]
     },
     "metadata": {},
     "output_type": "display_data"
    },
    {
     "data": {
      "application/vnd.jupyter.widget-view+json": {
       "model_id": "28223667bf5d4e34af1bc90d40696267",
       "version_major": 2,
       "version_minor": 0
      },
      "text/plain": [
       "diffusion sampling:   0%|          | 0/2 [00:00<?, ?it/s]"
      ]
     },
     "metadata": {},
     "output_type": "display_data"
    },
    {
     "data": {
      "application/vnd.jupyter.widget-view+json": {
       "model_id": "767c6ff8accd4509a5d75b336887b304",
       "version_major": 2,
       "version_minor": 0
      },
      "text/plain": [
       "diffusion sampling:   0%|          | 0/2 [00:00<?, ?it/s]"
      ]
     },
     "metadata": {},
     "output_type": "display_data"
    },
    {
     "name": "stdout",
     "output_type": "stream",
     "text": [
      "Loading model from ./data/outputs/2024-05-10T17-04-36_imagenet-1024/checkpoints/epoch=000009.ckpt\n"
     ]
    }
   ],
   "source": [
    "# prepare data\n",
    "train_dir = './data/ct-rsna/train'\n",
    "val_dir = './data/ct-rsna/validation'\n",
    "\n",
    "subset_len = 1\n",
    "ds = CTSubset(data_dir=val_dir, labels_file='validation_set_dropped_nans.csv', size=256, flip_prob=0., subset_len=subset_len)\n",
    "\n",
    "# LDM classifier params\n",
    "t_sampling_stride = 50\n",
    "n_trials = 1\n",
    "\n",
    "# training dir\n",
    "output_dir = './data/outputs'\n",
    "training_name = '2024-05-10T17-04-36_imagenet-1024'\n",
    "\n",
    "# evaluate\n",
    "clf_res_per_epoch = evaluate_accuracy_over_epochs(output_dir, \n",
    "                                                  training_name, \n",
    "                                                  ds, \n",
    "                                                  t_sampling_stride,\n",
    "                                                  n_trials)\n"
   ]
  }
 ],
 "metadata": {
  "kernelspec": {
   "display_name": "Python 3 (ipykernel)",
   "language": "python",
   "name": "python3"
  },
  "language_info": {
   "codemirror_mode": {
    "name": "ipython",
    "version": 3
   },
   "file_extension": ".py",
   "mimetype": "text/x-python",
   "name": "python",
   "nbconvert_exporter": "python",
   "pygments_lexer": "ipython3",
   "version": "3.8.5"
  }
 },
 "nbformat": 4,
 "nbformat_minor": 5
}
