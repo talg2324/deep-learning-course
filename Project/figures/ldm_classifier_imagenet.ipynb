{
 "cells": [
  {
   "cell_type": "code",
   "execution_count": null,
   "id": "0801c280",
   "metadata": {},
   "outputs": [],
   "source": [
    "import os\n",
    "import torch\n",
    "import pickle\n",
    "from matplotlib import pyplot as plt"
   ]
  },
  {
   "cell_type": "code",
   "execution_count": null,
   "id": "a87fecd3",
   "metadata": {},
   "outputs": [],
   "source": [
    "def plot_acc(training_name):\n",
    "    output_dir = '../data/outputs'\n",
    "    filename = os.path.join(output_dir, training_name, 'classification/predictions')\n",
    "\n",
    "    with open(filename, 'rb') as f:\n",
    "        data = pickle.load(f)\n",
    "\n",
    "    def acc(y, yhat):\n",
    "        return 100. * torch.sum(y == yhat) / yhat.shape[0]\n",
    "\n",
    "    t, score = [], []\n",
    "\n",
    "    for e in data.keys():\n",
    "        y = torch.tensor(data[e]['y'])\n",
    "        l1_pred = torch.tensor(data[e]['l1_pred'])\n",
    "        l2_pred = torch.tensor(data[e]['l2_pred'])\n",
    "\n",
    "        best = max(acc(l1_pred, y), acc(l2_pred, y))\n",
    "        t.append(e)\n",
    "        score.append(best)\n",
    "\n",
    "    training_samples = training_name.split('_')[-1].split('-')[-1]\n",
    "\n",
    "    plt.plot(t, score, label=training_samples)"
   ]
  },
  {
   "cell_type": "code",
   "execution_count": null,
   "id": "e455c593",
   "metadata": {},
   "outputs": [],
   "source": [
    "trained_models = [\n",
    "'2024-05-10T22-04-53_imagenet-256',\n",
    "'2024-05-10T21-25-21_imagenet-512',\n",
    "'2024-05-10T17-04-36_imagenet-1024',\n",
    "'2024-05-10T19-48-18_imagenet-2048'\n",
    "]\n",
    "\n",
    "for training_name in trained_models:\n",
    "    plot_acc(training_name)\n",
    "\n",
    "plt.title('Impact of data size on TransDiffusion quality')\n",
    "plt.ylabel('Classification Accuracy')\n",
    "plt.xlabel('Epoch')\n",
    "plt.legend()\n",
    "plt.show()"
   ]
  },
  {
   "cell_type": "code",
   "execution_count": null,
   "id": "6b4d2cbf-67fd-4daf-82cb-c22d13e9b917",
   "metadata": {},
   "outputs": [],
   "source": [
    "# confusion matrix plotter\n",
    "\n",
    "# from sklearn.metrics import confusion_matrix\n",
    "# from sklearn.metrics import confusion_matrix, ConfusionMatrixDisplay\n",
    "# import matplotlib.pyplot as plt\n",
    "\n",
    "# def labels_to_human_labels(labels, human_labels_list):\n",
    "#     human_labels = [human_labels_list[int(x.detach().cpu().numpy())] for x in labels]  \n",
    "#     return human_labels\n",
    "\n",
    "# def plot_confusion_matrix(true_labels, labels_pred, human_labels_list):\n",
    "#     true_labels_readable = labels_to_human_labels(true_labels, human_labels_list)\n",
    "#     labels_pred_readable = labels_to_human_labels(labels_pred, human_labels_list)\n",
    "#     cm = confusion_matrix(true_labels_readable, labels_pred_readable, labels=human_labels_list)\n",
    "#     disp = ConfusionMatrixDisplay(confusion_matrix=cm,\n",
    "#                                   display_labels=human_labels_list)\n",
    "#     fig, ax = plt.subplots(figsize=(12,12))\n",
    "#     disp.plot(ax=ax)\n",
    "#     plt.show()"
   ]
  }
 ],
 "metadata": {
  "kernelspec": {
   "display_name": "Python 3 (ipykernel)",
   "language": "python",
   "name": "python3"
  },
  "language_info": {
   "codemirror_mode": {
    "name": "ipython",
    "version": 3
   },
   "file_extension": ".py",
   "mimetype": "text/x-python",
   "name": "python",
   "nbconvert_exporter": "python",
   "pygments_lexer": "ipython3",
   "version": "3.8.5"
  }
 },
 "nbformat": 4,
 "nbformat_minor": 5
}
