{
 "cells": [
  {
   "cell_type": "markdown",
   "metadata": {},
   "source": [
    "# ImageNet Model"
   ]
  },
  {
   "cell_type": "code",
   "execution_count": 1,
   "metadata": {},
   "outputs": [],
   "source": [
    "import os\n",
    "import sys\n",
    "import torch\n",
    "import numpy as np\n",
    "from matplotlib import pyplot as plt\n",
    "from omegaconf import OmegaConf\n",
    "sys.path.append('../taming-transformers')\n",
    "sys.path.append('../latent-diffusion')\n",
    "from ldm.util import instantiate_from_config\n",
    "from ldm.data.ct_rsna import CTSubset"
   ]
  },
  {
   "cell_type": "code",
   "execution_count": 2,
   "metadata": {},
   "outputs": [],
   "source": [
    "device = torch.device('cuda:0' if torch.cuda.is_available() else 'cpu')"
   ]
  },
  {
   "cell_type": "code",
   "execution_count": null,
   "metadata": {},
   "outputs": [],
   "source": [
    "ds = CTSubset('../data/ct-rsna/train/', 'train_set_dropped_nans.csv',size=256, flip_prob=0.5, subset_len=1024)"
   ]
  },
  {
   "cell_type": "code",
   "execution_count": null,
   "metadata": {},
   "outputs": [],
   "source": [
    "def load_model_from_config(config, ckpt):\n",
    "    print(f\"Loading model from {ckpt}\")\n",
    "    pl_sd = torch.load(ckpt)#, map_location=\"cpu\")\n",
    "    sd = pl_sd[\"state_dict\"]\n",
    "    model = instantiate_from_config(config.model)\n",
    "    m, u = model.load_state_dict(sd, strict=False)\n",
    "    model.cuda()\n",
    "    model.eval()\n",
    "    return model\n",
    "\n",
    "\n",
    "def get_model():\n",
    "    config = OmegaConf.load(\"../latent-diffusion/configs/latent-diffusion/cin256-v2.yaml\")  \n",
    "    model = load_model_from_config(config, \"../latent-diffusion/models/ldm/cin256-v2/model.ckpt\")\n",
    "    return model"
   ]
  },
  {
   "cell_type": "code",
   "execution_count": null,
   "metadata": {},
   "outputs": [],
   "source": [
    "# !mkdir -p ../latent-diffusion/models/ldm/cin256-v2\n",
    "# !wget -O ../latent-diffusion/models/ldm/cin256-v2/model.ckpt https://ommer-lab.com/files/latent-diffusion/nitro/cin/model.ckpt "
   ]
  },
  {
   "cell_type": "code",
   "execution_count": null,
   "metadata": {},
   "outputs": [],
   "source": [
    "model = get_model().to(device)"
   ]
  },
  {
   "cell_type": "code",
   "execution_count": null,
   "metadata": {},
   "outputs": [],
   "source": [
    "np.random.seed(7)\n",
    "K = 5\n",
    "k_samples = np.random.choice(len(ds), K)\n",
    "\n",
    "fig, ax = plt.subplots(3, K, figsize=(10, 6), sharex=True, sharey=True)\n",
    "with torch.no_grad():\n",
    "    for i in range(K):\n",
    "        x = ds[k_samples[i]]['image'].to(device)\n",
    "        y1, _, _ = mri_vae(x.unsqueeze(0))\n",
    "        y2, _, _ = ct_vae(x.unsqueeze(0))\n",
    "\n",
    "        ax[0, i].imshow(x.squeeze().cpu().numpy(), vmin=0., vmax=1., cmap='gray')\n",
    "        ax[1, i].imshow(y1.squeeze().cpu().numpy(), vmin=0., vmax=1., cmap='gray')\n",
    "        ax[2, i].imshow(y2.squeeze().cpu().numpy(), vmin=0., vmax=1., cmap='gray')\n",
    "\n",
    "ax[0, 0].set_ylabel('input')\n",
    "ax[1, 0].set_ylabel('initial')\n",
    "ax[2, 0].set_ylabel('trained')\n",
    "ax[2, 0].set_xticks([])\n",
    "ax[2, 0].set_yticks([])\n",
    "plt.show()"
   ]
  }
 ],
 "metadata": {
  "kernelspec": {
   "display_name": "ldm",
   "language": "python",
   "name": "python3"
  },
  "language_info": {
   "codemirror_mode": {
    "name": "ipython",
    "version": 3
   },
   "file_extension": ".py",
   "mimetype": "text/x-python",
   "name": "python",
   "nbconvert_exporter": "python",
   "pygments_lexer": "ipython3",
   "version": "3.8.5"
  }
 },
 "nbformat": 4,
 "nbformat_minor": 2
}
