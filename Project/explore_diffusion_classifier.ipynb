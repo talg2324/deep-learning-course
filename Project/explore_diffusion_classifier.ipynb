{
 "cells": [
  {
   "cell_type": "code",
   "execution_count": 1,
   "id": "f6b5158f-2833-4ad8-96ed-7a73bbbff66e",
   "metadata": {},
   "outputs": [],
   "source": [
    "# model loader\n",
    "\n",
    "import sys\n",
    "sys.path.append(\".\")\n",
    "sys.path.append(\"./latent-diffusion\")\n",
    "sys.path.append('./taming-transformers')\n",
    "\n",
    "import torch\n",
    "from omegaconf import OmegaConf\n",
    "\n",
    "from ldm.util import instantiate_from_config\n",
    "\n",
    "\n",
    "def load_model_from_config(config, ckpt):\n",
    "    print(f\"Loading model from {ckpt}\")\n",
    "    device = torch.device('cuda' if torch.cuda.is_available() else 'cpu')\n",
    "    # device = torch.device('cpu')\n",
    "    pl_sd = torch.load(ckpt, weights_only=False, map_location=torch.device('cpu'))\n",
    "    sd = pl_sd[\"state_dict\"]\n",
    "    torch.save(sd, './tmp_sd')\n",
    "    model = instantiate_from_config(config.model)\n",
    "    m, u = model.load_state_dict(torch.load('./tmp_sd', map_location=device), strict=False)\n",
    "    if torch.cuda.is_available():\n",
    "        model.cuda()\n",
    "    model.eval()\n",
    "    return model, sd, pl_sd\n",
    "\n",
    "\n",
    "def get_model(model_config_path, model_ckpt_path):\n",
    "    config = OmegaConf.load(model_config_path)\n",
    "    model, sd, pl_sd = load_model_from_config(config, model_ckpt_path)\n",
    "    return model, sd, pl_sd"
   ]
  },
  {
   "cell_type": "code",
   "execution_count": 2,
   "id": "eb614885-aaa6-41b8-9f4e-cc14ddd59ffe",
   "metadata": {},
   "outputs": [
    {
     "name": "stdout",
     "output_type": "stream",
     "text": [
      "Loading model from ./latent-diffusion/models/ldm/cin256-v2/model.ckpt\n",
      "LatentDiffusion: Running in eps-prediction mode\n",
      "DiffusionWrapper has 400.92 M params.\n",
      "making attention of type 'vanilla' with 512 in_channels\n",
      "Working with z of shape (1, 3, 64, 64) = 12288 dimensions.\n",
      "making attention of type 'vanilla' with 512 in_channels\n"
     ]
    }
   ],
   "source": [
    "# load imagenet pretrained model\n",
    "import os\n",
    "\n",
    "cin_model_config_path = os.path.join('./latent-diffusion/configs/latent-diffusion/cin256-v2.yaml')\n",
    "cin_model_ckpt_path = './latent-diffusion/models/ldm/cin256-v2/model.ckpt'\n",
    "\n",
    "# load model\n",
    "model, sd, pl_sd = get_model(cin_model_config_path, cin_model_ckpt_path)\n",
    "del sd\n",
    "del pl_sd"
   ]
  },
  {
   "cell_type": "code",
   "execution_count": 4,
   "id": "f94d0d8c-062b-4219-89cc-3948946196f6",
   "metadata": {},
   "outputs": [],
   "source": [
    "# set ldm classifier\n",
    "\n",
    "from ldm_classifier import LdmClassifier\n",
    "ldm_clf = LdmClassifier(model)"
   ]
  },
  {
   "cell_type": "code",
   "execution_count": 5,
   "id": "9a96740f-13b1-474c-98c0-81a0ca137a81",
   "metadata": {},
   "outputs": [
    {
     "name": "stdout",
     "output_type": "stream",
     "text": [
      "Data source: validation_set.csv\n",
      "    Class tiger shark, Galeocerdo cuvieri: 43.5%\n",
      "    Class indigo bunting, indigo finch, indigo bird, Passerina cyanea: 25.9%\n",
      "    Class tennis ball: 30.6%\n",
      "number of samples in dataset: 108\n"
     ]
    }
   ],
   "source": [
    "import sys\n",
    "sys.path.append('./latent-diffusion/ldm/data/')\n",
    "from torchvision import transforms\n",
    "import torch\n",
    "from matplotlib import pyplot as plt\n",
    "import numpy as np\n",
    "\n",
    "from imagenet_mini import ImageNetMiniSubset, ImageNetMiniDataset\n",
    "\n",
    "# define imagenet-mini subset for classification\n",
    "\n",
    "val_dir = './data/imagenet-mini/validation'\n",
    "subset_classes = [3, 852, 14]\n",
    "imagnet_subset = ImageNetMiniSubset(data_dir=val_dir, labels_file='validation_set.csv', size=256, classes=subset_classes)\n",
    "\n",
    "print(f\"number of samples in dataset: {len(imagnet_subset)}\")"
   ]
  },
  {
   "cell_type": "code",
   "execution_count": 10,
   "id": "89006873-7866-4b7b-ba11-ba0c441b656e",
   "metadata": {},
   "outputs": [
    {
     "data": {
      "text/plain": [
       "dict_keys(['image', 'class_label', 'human_label'])"
      ]
     },
     "execution_count": 10,
     "metadata": {},
     "output_type": "execute_result"
    }
   ],
   "source": [
    "batch.keys()"
   ]
  },
  {
   "cell_type": "code",
   "execution_count": 13,
   "id": "8ef59704-6440-4804-a3cd-250e9d4862e8",
   "metadata": {},
   "outputs": [
    {
     "data": {
      "application/vnd.jupyter.widget-view+json": {
       "model_id": "1ab66f8d0d8b479a972e0786f1b8371d",
       "version_major": 2,
       "version_minor": 0
      },
      "text/plain": [
       "class hypothsis:   0%|          | 0/3 [00:00<?, ?it/s]"
      ]
     },
     "metadata": {},
     "output_type": "display_data"
    },
    {
     "data": {
      "application/vnd.jupyter.widget-view+json": {
       "model_id": "bbf51c8f53574c209ef82f25263d1dcc",
       "version_major": 2,
       "version_minor": 0
      },
      "text/plain": [
       "diffusion sampling:   0%|          | 0/200 [00:00<?, ?it/s]"
      ]
     },
     "metadata": {},
     "output_type": "display_data"
    },
    {
     "data": {
      "application/vnd.jupyter.widget-view+json": {
       "model_id": "3c1150025c744acf972858f562e05f8e",
       "version_major": 2,
       "version_minor": 0
      },
      "text/plain": [
       "diffusion sampling:   0%|          | 0/200 [00:00<?, ?it/s]"
      ]
     },
     "metadata": {},
     "output_type": "display_data"
    },
    {
     "data": {
      "application/vnd.jupyter.widget-view+json": {
       "model_id": "3136686f4f95460b95ff729296f82339",
       "version_major": 2,
       "version_minor": 0
      },
      "text/plain": [
       "diffusion sampling:   0%|          | 0/200 [00:00<?, ?it/s]"
      ]
     },
     "metadata": {},
     "output_type": "display_data"
    },
    {
     "name": "stdout",
     "output_type": "stream",
     "text": [
      "true label: tensor([14])\n",
      "L2 classification: tensor([14])\n",
      "L1 classification: tensor([14])\n"
     ]
    }
   ],
   "source": [
    "# verify ability to classify single sample:\n",
    "\n",
    "loader = torch.utils.data.DataLoader(imagnet_subset, batch_size=1, shuffle=False)\n",
    "batch = next(iter(loader))\n",
    "c_hypotheses = ldm_clf.get_class_hypotheses_for_batch(batch_size=batch['image'].shape[0], classes=subset_classes)\n",
    "# x0 = ldm_clf.get_latent_batch(batch)\n",
    "\n",
    "l2_label_pred, l1_label_pred = ldm_clf.classify_batch(batch, c_hypotheses)\n",
    "print(f\"true label: {batch['class_label']}\")\n",
    "print(f\"L2 classification: {l2_label_pred}\")\n",
    "print(f\"L1 classification: {l1_label_pred}\")"
   ]
  },
  {
   "cell_type": "code",
   "execution_count": 8,
   "id": "48c986fc-05be-47a1-8a50-8ceca9ab13ac",
   "metadata": {},
   "outputs": [
    {
     "data": {
      "application/vnd.jupyter.widget-view+json": {
       "model_id": "f018f3be523949af8c12b577ff8a09c5",
       "version_major": 2,
       "version_minor": 0
      },
      "text/plain": [
       "dataset samples:   0%|          | 0/108 [00:00<?, ?it/s]"
      ]
     },
     "metadata": {},
     "output_type": "display_data"
    },
    {
     "data": {
      "application/vnd.jupyter.widget-view+json": {
       "model_id": "c9cb10f676384b208645ceb6411e44c1",
       "version_major": 2,
       "version_minor": 0
      },
      "text/plain": [
       "class hypothsis:   0%|          | 0/3 [00:00<?, ?it/s]"
      ]
     },
     "metadata": {},
     "output_type": "display_data"
    },
    {
     "data": {
      "application/vnd.jupyter.widget-view+json": {
       "model_id": "df64580394b74bc8abba208705796d02",
       "version_major": 2,
       "version_minor": 0
      },
      "text/plain": [
       "diffusion sampling:   0%|          | 0/20 [00:00<?, ?it/s]"
      ]
     },
     "metadata": {},
     "output_type": "display_data"
    },
    {
     "data": {
      "application/vnd.jupyter.widget-view+json": {
       "model_id": "458cc6ea398847a69b15e8060cd11c25",
       "version_major": 2,
       "version_minor": 0
      },
      "text/plain": [
       "diffusion sampling:   0%|          | 0/20 [00:00<?, ?it/s]"
      ]
     },
     "metadata": {},
     "output_type": "display_data"
    },
    {
     "data": {
      "application/vnd.jupyter.widget-view+json": {
       "model_id": "ee081d0dc34f4ce0bf63779e6c4dd24b",
       "version_major": 2,
       "version_minor": 0
      },
      "text/plain": [
       "diffusion sampling:   0%|          | 0/20 [00:00<?, ?it/s]"
      ]
     },
     "metadata": {},
     "output_type": "display_data"
    },
    {
     "data": {
      "application/vnd.jupyter.widget-view+json": {
       "model_id": "26339c45a3104632846dbe98bec41353",
       "version_major": 2,
       "version_minor": 0
      },
      "text/plain": [
       "class hypothsis:   0%|          | 0/3 [00:00<?, ?it/s]"
      ]
     },
     "metadata": {},
     "output_type": "display_data"
    },
    {
     "data": {
      "application/vnd.jupyter.widget-view+json": {
       "model_id": "876cf84e86fe408ab8fff0b89a374241",
       "version_major": 2,
       "version_minor": 0
      },
      "text/plain": [
       "diffusion sampling:   0%|          | 0/20 [00:00<?, ?it/s]"
      ]
     },
     "metadata": {},
     "output_type": "display_data"
    },
    {
     "data": {
      "application/vnd.jupyter.widget-view+json": {
       "model_id": "0034d0d7f2be4bbfa842ad5956c55d02",
       "version_major": 2,
       "version_minor": 0
      },
      "text/plain": [
       "diffusion sampling:   0%|          | 0/20 [00:00<?, ?it/s]"
      ]
     },
     "metadata": {},
     "output_type": "display_data"
    },
    {
     "data": {
      "application/vnd.jupyter.widget-view+json": {
       "model_id": "b5a66de9c7b74914997572010cecfe0c",
       "version_major": 2,
       "version_minor": 0
      },
      "text/plain": [
       "diffusion sampling:   0%|          | 0/20 [00:00<?, ?it/s]"
      ]
     },
     "metadata": {},
     "output_type": "display_data"
    },
    {
     "data": {
      "application/vnd.jupyter.widget-view+json": {
       "model_id": "9dca72f814f4440e83a7b7e8ad575bb0",
       "version_major": 2,
       "version_minor": 0
      },
      "text/plain": [
       "class hypothsis:   0%|          | 0/3 [00:00<?, ?it/s]"
      ]
     },
     "metadata": {},
     "output_type": "display_data"
    },
    {
     "data": {
      "application/vnd.jupyter.widget-view+json": {
       "model_id": "7fa47571542344f3949b2b9bdbe52372",
       "version_major": 2,
       "version_minor": 0
      },
      "text/plain": [
       "diffusion sampling:   0%|          | 0/20 [00:00<?, ?it/s]"
      ]
     },
     "metadata": {},
     "output_type": "display_data"
    },
    {
     "data": {
      "application/vnd.jupyter.widget-view+json": {
       "model_id": "136408362f004983ad0e9863c18cc277",
       "version_major": 2,
       "version_minor": 0
      },
      "text/plain": [
       "diffusion sampling:   0%|          | 0/20 [00:00<?, ?it/s]"
      ]
     },
     "metadata": {},
     "output_type": "display_data"
    },
    {
     "data": {
      "application/vnd.jupyter.widget-view+json": {
       "model_id": "fad5d334e7834daca375792f8a0fa6de",
       "version_major": 2,
       "version_minor": 0
      },
      "text/plain": [
       "diffusion sampling:   0%|          | 0/20 [00:00<?, ?it/s]"
      ]
     },
     "metadata": {},
     "output_type": "display_data"
    },
    {
     "data": {
      "application/vnd.jupyter.widget-view+json": {
       "model_id": "0723c02c7f7e44a9a3fd471822e69b1c",
       "version_major": 2,
       "version_minor": 0
      },
      "text/plain": [
       "class hypothsis:   0%|          | 0/3 [00:00<?, ?it/s]"
      ]
     },
     "metadata": {},
     "output_type": "display_data"
    },
    {
     "data": {
      "application/vnd.jupyter.widget-view+json": {
       "model_id": "82bc3eefd8374b94b793eb0b3b9f5484",
       "version_major": 2,
       "version_minor": 0
      },
      "text/plain": [
       "diffusion sampling:   0%|          | 0/20 [00:00<?, ?it/s]"
      ]
     },
     "metadata": {},
     "output_type": "display_data"
    },
    {
     "data": {
      "application/vnd.jupyter.widget-view+json": {
       "model_id": "b49c9fd5fc414e2bb0470fd0bed5c8c0",
       "version_major": 2,
       "version_minor": 0
      },
      "text/plain": [
       "diffusion sampling:   0%|          | 0/20 [00:00<?, ?it/s]"
      ]
     },
     "metadata": {},
     "output_type": "display_data"
    },
    {
     "data": {
      "application/vnd.jupyter.widget-view+json": {
       "model_id": "fbb398a8ef804619ae9e7e0fc28edf8f",
       "version_major": 2,
       "version_minor": 0
      },
      "text/plain": [
       "diffusion sampling:   0%|          | 0/20 [00:00<?, ?it/s]"
      ]
     },
     "metadata": {},
     "output_type": "display_data"
    },
    {
     "data": {
      "application/vnd.jupyter.widget-view+json": {
       "model_id": "f1b009075d2043db9a1ce35e0c076dd2",
       "version_major": 2,
       "version_minor": 0
      },
      "text/plain": [
       "class hypothsis:   0%|          | 0/3 [00:00<?, ?it/s]"
      ]
     },
     "metadata": {},
     "output_type": "display_data"
    },
    {
     "data": {
      "application/vnd.jupyter.widget-view+json": {
       "model_id": "1fedb7a36a7e49779c9c47be628f4604",
       "version_major": 2,
       "version_minor": 0
      },
      "text/plain": [
       "diffusion sampling:   0%|          | 0/20 [00:00<?, ?it/s]"
      ]
     },
     "metadata": {},
     "output_type": "display_data"
    },
    {
     "data": {
      "application/vnd.jupyter.widget-view+json": {
       "model_id": "42a53a4b35b14ab496c5a77b4a1f7463",
       "version_major": 2,
       "version_minor": 0
      },
      "text/plain": [
       "diffusion sampling:   0%|          | 0/20 [00:00<?, ?it/s]"
      ]
     },
     "metadata": {},
     "output_type": "display_data"
    },
    {
     "data": {
      "application/vnd.jupyter.widget-view+json": {
       "model_id": "fc4757284bbd40e6b5eb0c2c2fe08375",
       "version_major": 2,
       "version_minor": 0
      },
      "text/plain": [
       "diffusion sampling:   0%|          | 0/20 [00:00<?, ?it/s]"
      ]
     },
     "metadata": {},
     "output_type": "display_data"
    },
    {
     "data": {
      "application/vnd.jupyter.widget-view+json": {
       "model_id": "39573fd112604439b372d5c2bb9ef692",
       "version_major": 2,
       "version_minor": 0
      },
      "text/plain": [
       "class hypothsis:   0%|          | 0/3 [00:00<?, ?it/s]"
      ]
     },
     "metadata": {},
     "output_type": "display_data"
    },
    {
     "data": {
      "application/vnd.jupyter.widget-view+json": {
       "model_id": "c79c93eb933b4bf893979e4607a5628f",
       "version_major": 2,
       "version_minor": 0
      },
      "text/plain": [
       "diffusion sampling:   0%|          | 0/20 [00:00<?, ?it/s]"
      ]
     },
     "metadata": {},
     "output_type": "display_data"
    },
    {
     "data": {
      "application/vnd.jupyter.widget-view+json": {
       "model_id": "8ee72362a3c140a28308302dd96c0d84",
       "version_major": 2,
       "version_minor": 0
      },
      "text/plain": [
       "diffusion sampling:   0%|          | 0/20 [00:00<?, ?it/s]"
      ]
     },
     "metadata": {},
     "output_type": "display_data"
    },
    {
     "data": {
      "application/vnd.jupyter.widget-view+json": {
       "model_id": "61c2f98787b94366a051f9fee49cb688",
       "version_major": 2,
       "version_minor": 0
      },
      "text/plain": [
       "diffusion sampling:   0%|          | 0/20 [00:00<?, ?it/s]"
      ]
     },
     "metadata": {},
     "output_type": "display_data"
    },
    {
     "data": {
      "application/vnd.jupyter.widget-view+json": {
       "model_id": "2f7b00d690f64c46a527b797742d2cf7",
       "version_major": 2,
       "version_minor": 0
      },
      "text/plain": [
       "class hypothsis:   0%|          | 0/3 [00:00<?, ?it/s]"
      ]
     },
     "metadata": {},
     "output_type": "display_data"
    },
    {
     "data": {
      "application/vnd.jupyter.widget-view+json": {
       "model_id": "22f530b7b5a84686b11bade8f6e6dee9",
       "version_major": 2,
       "version_minor": 0
      },
      "text/plain": [
       "diffusion sampling:   0%|          | 0/20 [00:00<?, ?it/s]"
      ]
     },
     "metadata": {},
     "output_type": "display_data"
    },
    {
     "data": {
      "application/vnd.jupyter.widget-view+json": {
       "model_id": "d36e2d16de1e4b35943d45a99eb77972",
       "version_major": 2,
       "version_minor": 0
      },
      "text/plain": [
       "diffusion sampling:   0%|          | 0/20 [00:00<?, ?it/s]"
      ]
     },
     "metadata": {},
     "output_type": "display_data"
    },
    {
     "data": {
      "application/vnd.jupyter.widget-view+json": {
       "model_id": "cc45777e6aca45e7ae698d2e856e0054",
       "version_major": 2,
       "version_minor": 0
      },
      "text/plain": [
       "diffusion sampling:   0%|          | 0/20 [00:00<?, ?it/s]"
      ]
     },
     "metadata": {},
     "output_type": "display_data"
    },
    {
     "data": {
      "application/vnd.jupyter.widget-view+json": {
       "model_id": "b06590a37b5e4677b5fa7d871785abe6",
       "version_major": 2,
       "version_minor": 0
      },
      "text/plain": [
       "class hypothsis:   0%|          | 0/3 [00:00<?, ?it/s]"
      ]
     },
     "metadata": {},
     "output_type": "display_data"
    },
    {
     "data": {
      "application/vnd.jupyter.widget-view+json": {
       "model_id": "2929a4d6594f445fb12cab65638aa8e6",
       "version_major": 2,
       "version_minor": 0
      },
      "text/plain": [
       "diffusion sampling:   0%|          | 0/20 [00:00<?, ?it/s]"
      ]
     },
     "metadata": {},
     "output_type": "display_data"
    },
    {
     "data": {
      "application/vnd.jupyter.widget-view+json": {
       "model_id": "a835ddcc5b7c42aeb35690cfc3b073cf",
       "version_major": 2,
       "version_minor": 0
      },
      "text/plain": [
       "diffusion sampling:   0%|          | 0/20 [00:00<?, ?it/s]"
      ]
     },
     "metadata": {},
     "output_type": "display_data"
    },
    {
     "data": {
      "application/vnd.jupyter.widget-view+json": {
       "model_id": "6e8a8aa92f9348ddb1455df9fdb40606",
       "version_major": 2,
       "version_minor": 0
      },
      "text/plain": [
       "diffusion sampling:   0%|          | 0/20 [00:00<?, ?it/s]"
      ]
     },
     "metadata": {},
     "output_type": "display_data"
    },
    {
     "data": {
      "application/vnd.jupyter.widget-view+json": {
       "model_id": "d3691b83ae62486c9b33f14e8e0e4198",
       "version_major": 2,
       "version_minor": 0
      },
      "text/plain": [
       "class hypothsis:   0%|          | 0/3 [00:00<?, ?it/s]"
      ]
     },
     "metadata": {},
     "output_type": "display_data"
    },
    {
     "data": {
      "application/vnd.jupyter.widget-view+json": {
       "model_id": "831e58a1dffb45239088e6534b8c4eac",
       "version_major": 2,
       "version_minor": 0
      },
      "text/plain": [
       "diffusion sampling:   0%|          | 0/20 [00:00<?, ?it/s]"
      ]
     },
     "metadata": {},
     "output_type": "display_data"
    },
    {
     "data": {
      "application/vnd.jupyter.widget-view+json": {
       "model_id": "a5ed69f3303a4b4b980fbaaf82b12a2f",
       "version_major": 2,
       "version_minor": 0
      },
      "text/plain": [
       "diffusion sampling:   0%|          | 0/20 [00:00<?, ?it/s]"
      ]
     },
     "metadata": {},
     "output_type": "display_data"
    },
    {
     "data": {
      "application/vnd.jupyter.widget-view+json": {
       "model_id": "d7a3af98a3f64dd9ac7a7884e5f7426e",
       "version_major": 2,
       "version_minor": 0
      },
      "text/plain": [
       "diffusion sampling:   0%|          | 0/20 [00:00<?, ?it/s]"
      ]
     },
     "metadata": {},
     "output_type": "display_data"
    },
    {
     "data": {
      "application/vnd.jupyter.widget-view+json": {
       "model_id": "4d9e1189127c4fa194724cd52d3e426d",
       "version_major": 2,
       "version_minor": 0
      },
      "text/plain": [
       "class hypothsis:   0%|          | 0/3 [00:00<?, ?it/s]"
      ]
     },
     "metadata": {},
     "output_type": "display_data"
    },
    {
     "data": {
      "application/vnd.jupyter.widget-view+json": {
       "model_id": "9c21e5b8fa8542daa0c90eff391c6fc5",
       "version_major": 2,
       "version_minor": 0
      },
      "text/plain": [
       "diffusion sampling:   0%|          | 0/20 [00:00<?, ?it/s]"
      ]
     },
     "metadata": {},
     "output_type": "display_data"
    },
    {
     "data": {
      "application/vnd.jupyter.widget-view+json": {
       "model_id": "7f6e700dd4164dfb9c4203e915c52330",
       "version_major": 2,
       "version_minor": 0
      },
      "text/plain": [
       "diffusion sampling:   0%|          | 0/20 [00:00<?, ?it/s]"
      ]
     },
     "metadata": {},
     "output_type": "display_data"
    },
    {
     "data": {
      "application/vnd.jupyter.widget-view+json": {
       "model_id": "0f8c3e8693114a02811b5b99f31c51f7",
       "version_major": 2,
       "version_minor": 0
      },
      "text/plain": [
       "diffusion sampling:   0%|          | 0/20 [00:00<?, ?it/s]"
      ]
     },
     "metadata": {},
     "output_type": "display_data"
    },
    {
     "data": {
      "application/vnd.jupyter.widget-view+json": {
       "model_id": "accf4277c14a428aab887fd89ca91be3",
       "version_major": 2,
       "version_minor": 0
      },
      "text/plain": [
       "class hypothsis:   0%|          | 0/3 [00:00<?, ?it/s]"
      ]
     },
     "metadata": {},
     "output_type": "display_data"
    },
    {
     "data": {
      "application/vnd.jupyter.widget-view+json": {
       "model_id": "4bd4eaefed184a2a9c3f29aca3b29dc5",
       "version_major": 2,
       "version_minor": 0
      },
      "text/plain": [
       "diffusion sampling:   0%|          | 0/20 [00:00<?, ?it/s]"
      ]
     },
     "metadata": {},
     "output_type": "display_data"
    },
    {
     "data": {
      "application/vnd.jupyter.widget-view+json": {
       "model_id": "af6419b57fa7494cb3b08e21aff30203",
       "version_major": 2,
       "version_minor": 0
      },
      "text/plain": [
       "diffusion sampling:   0%|          | 0/20 [00:00<?, ?it/s]"
      ]
     },
     "metadata": {},
     "output_type": "display_data"
    },
    {
     "data": {
      "application/vnd.jupyter.widget-view+json": {
       "model_id": "a7dc95adccc5474db85d7dfe11239d1a",
       "version_major": 2,
       "version_minor": 0
      },
      "text/plain": [
       "diffusion sampling:   0%|          | 0/20 [00:00<?, ?it/s]"
      ]
     },
     "metadata": {},
     "output_type": "display_data"
    },
    {
     "data": {
      "application/vnd.jupyter.widget-view+json": {
       "model_id": "3acde102329549e18765173537f1dd10",
       "version_major": 2,
       "version_minor": 0
      },
      "text/plain": [
       "class hypothsis:   0%|          | 0/3 [00:00<?, ?it/s]"
      ]
     },
     "metadata": {},
     "output_type": "display_data"
    },
    {
     "data": {
      "application/vnd.jupyter.widget-view+json": {
       "model_id": "631c845932914dc891c9b61c858f9487",
       "version_major": 2,
       "version_minor": 0
      },
      "text/plain": [
       "diffusion sampling:   0%|          | 0/20 [00:00<?, ?it/s]"
      ]
     },
     "metadata": {},
     "output_type": "display_data"
    },
    {
     "data": {
      "application/vnd.jupyter.widget-view+json": {
       "model_id": "18a45c5010e0425fa13ccb11d790daa7",
       "version_major": 2,
       "version_minor": 0
      },
      "text/plain": [
       "diffusion sampling:   0%|          | 0/20 [00:00<?, ?it/s]"
      ]
     },
     "metadata": {},
     "output_type": "display_data"
    },
    {
     "data": {
      "application/vnd.jupyter.widget-view+json": {
       "model_id": "ead56b20fc4c450fab6adb53edb4befe",
       "version_major": 2,
       "version_minor": 0
      },
      "text/plain": [
       "diffusion sampling:   0%|          | 0/20 [00:00<?, ?it/s]"
      ]
     },
     "metadata": {},
     "output_type": "display_data"
    },
    {
     "data": {
      "application/vnd.jupyter.widget-view+json": {
       "model_id": "99c8263a144148d8b24067e62b4718e8",
       "version_major": 2,
       "version_minor": 0
      },
      "text/plain": [
       "class hypothsis:   0%|          | 0/3 [00:00<?, ?it/s]"
      ]
     },
     "metadata": {},
     "output_type": "display_data"
    },
    {
     "data": {
      "application/vnd.jupyter.widget-view+json": {
       "model_id": "59ca2ad8fbf740d69bac12f8561e7787",
       "version_major": 2,
       "version_minor": 0
      },
      "text/plain": [
       "diffusion sampling:   0%|          | 0/20 [00:00<?, ?it/s]"
      ]
     },
     "metadata": {},
     "output_type": "display_data"
    },
    {
     "data": {
      "application/vnd.jupyter.widget-view+json": {
       "model_id": "93f1862e25834948a75f02e037e1a075",
       "version_major": 2,
       "version_minor": 0
      },
      "text/plain": [
       "diffusion sampling:   0%|          | 0/20 [00:00<?, ?it/s]"
      ]
     },
     "metadata": {},
     "output_type": "display_data"
    },
    {
     "data": {
      "application/vnd.jupyter.widget-view+json": {
       "model_id": "d5d77121b8024ab786f37eded324e051",
       "version_major": 2,
       "version_minor": 0
      },
      "text/plain": [
       "diffusion sampling:   0%|          | 0/20 [00:00<?, ?it/s]"
      ]
     },
     "metadata": {},
     "output_type": "display_data"
    },
    {
     "data": {
      "application/vnd.jupyter.widget-view+json": {
       "model_id": "c2bffe9cf50f4e4fb6bff456785f7a01",
       "version_major": 2,
       "version_minor": 0
      },
      "text/plain": [
       "class hypothsis:   0%|          | 0/3 [00:00<?, ?it/s]"
      ]
     },
     "metadata": {},
     "output_type": "display_data"
    },
    {
     "data": {
      "application/vnd.jupyter.widget-view+json": {
       "model_id": "b38bedfba9e84a02923686b324a3a131",
       "version_major": 2,
       "version_minor": 0
      },
      "text/plain": [
       "diffusion sampling:   0%|          | 0/20 [00:00<?, ?it/s]"
      ]
     },
     "metadata": {},
     "output_type": "display_data"
    },
    {
     "data": {
      "application/vnd.jupyter.widget-view+json": {
       "model_id": "6f64305c70c14ffba2170aa8a0b07568",
       "version_major": 2,
       "version_minor": 0
      },
      "text/plain": [
       "diffusion sampling:   0%|          | 0/20 [00:00<?, ?it/s]"
      ]
     },
     "metadata": {},
     "output_type": "display_data"
    },
    {
     "data": {
      "application/vnd.jupyter.widget-view+json": {
       "model_id": "57cab21ec9364e749f98a614a4f5f068",
       "version_major": 2,
       "version_minor": 0
      },
      "text/plain": [
       "diffusion sampling:   0%|          | 0/20 [00:00<?, ?it/s]"
      ]
     },
     "metadata": {},
     "output_type": "display_data"
    },
    {
     "data": {
      "application/vnd.jupyter.widget-view+json": {
       "model_id": "02e86b2855ca4697b651e0216dfefe46",
       "version_major": 2,
       "version_minor": 0
      },
      "text/plain": [
       "class hypothsis:   0%|          | 0/3 [00:00<?, ?it/s]"
      ]
     },
     "metadata": {},
     "output_type": "display_data"
    },
    {
     "data": {
      "application/vnd.jupyter.widget-view+json": {
       "model_id": "b0fe371dc5cd4188accbc39e20a48e02",
       "version_major": 2,
       "version_minor": 0
      },
      "text/plain": [
       "diffusion sampling:   0%|          | 0/20 [00:00<?, ?it/s]"
      ]
     },
     "metadata": {},
     "output_type": "display_data"
    },
    {
     "data": {
      "application/vnd.jupyter.widget-view+json": {
       "model_id": "6c395040a2e54469ae552ff3e50d8d50",
       "version_major": 2,
       "version_minor": 0
      },
      "text/plain": [
       "diffusion sampling:   0%|          | 0/20 [00:00<?, ?it/s]"
      ]
     },
     "metadata": {},
     "output_type": "display_data"
    },
    {
     "data": {
      "application/vnd.jupyter.widget-view+json": {
       "model_id": "41cda18dd6e4457fb31b0eb5273474fc",
       "version_major": 2,
       "version_minor": 0
      },
      "text/plain": [
       "diffusion sampling:   0%|          | 0/20 [00:00<?, ?it/s]"
      ]
     },
     "metadata": {},
     "output_type": "display_data"
    },
    {
     "data": {
      "application/vnd.jupyter.widget-view+json": {
       "model_id": "4f5e7fde032c4ecc9bcdeadd71bd5cb0",
       "version_major": 2,
       "version_minor": 0
      },
      "text/plain": [
       "class hypothsis:   0%|          | 0/3 [00:00<?, ?it/s]"
      ]
     },
     "metadata": {},
     "output_type": "display_data"
    },
    {
     "data": {
      "application/vnd.jupyter.widget-view+json": {
       "model_id": "5d477cdcc27340229ab2610af0a85dae",
       "version_major": 2,
       "version_minor": 0
      },
      "text/plain": [
       "diffusion sampling:   0%|          | 0/20 [00:00<?, ?it/s]"
      ]
     },
     "metadata": {},
     "output_type": "display_data"
    },
    {
     "data": {
      "application/vnd.jupyter.widget-view+json": {
       "model_id": "7b6ae95eeb024ff7b9d243da9e9252cf",
       "version_major": 2,
       "version_minor": 0
      },
      "text/plain": [
       "diffusion sampling:   0%|          | 0/20 [00:00<?, ?it/s]"
      ]
     },
     "metadata": {},
     "output_type": "display_data"
    },
    {
     "data": {
      "application/vnd.jupyter.widget-view+json": {
       "model_id": "472cad725a4441609499186f2abc9202",
       "version_major": 2,
       "version_minor": 0
      },
      "text/plain": [
       "diffusion sampling:   0%|          | 0/20 [00:00<?, ?it/s]"
      ]
     },
     "metadata": {},
     "output_type": "display_data"
    },
    {
     "data": {
      "application/vnd.jupyter.widget-view+json": {
       "model_id": "67cdcc76886b491fb8d41f963a5ebc67",
       "version_major": 2,
       "version_minor": 0
      },
      "text/plain": [
       "class hypothsis:   0%|          | 0/3 [00:00<?, ?it/s]"
      ]
     },
     "metadata": {},
     "output_type": "display_data"
    },
    {
     "data": {
      "application/vnd.jupyter.widget-view+json": {
       "model_id": "cf78ed587de1412b8ee334c95da5c679",
       "version_major": 2,
       "version_minor": 0
      },
      "text/plain": [
       "diffusion sampling:   0%|          | 0/20 [00:00<?, ?it/s]"
      ]
     },
     "metadata": {},
     "output_type": "display_data"
    },
    {
     "data": {
      "application/vnd.jupyter.widget-view+json": {
       "model_id": "5234c9daff154da7a0cbdf945c3d452a",
       "version_major": 2,
       "version_minor": 0
      },
      "text/plain": [
       "diffusion sampling:   0%|          | 0/20 [00:00<?, ?it/s]"
      ]
     },
     "metadata": {},
     "output_type": "display_data"
    },
    {
     "data": {
      "application/vnd.jupyter.widget-view+json": {
       "model_id": "67e33fb0da1f4e1d81fa370983e72dc5",
       "version_major": 2,
       "version_minor": 0
      },
      "text/plain": [
       "diffusion sampling:   0%|          | 0/20 [00:00<?, ?it/s]"
      ]
     },
     "metadata": {},
     "output_type": "display_data"
    },
    {
     "data": {
      "application/vnd.jupyter.widget-view+json": {
       "model_id": "7557ccf2aed249da8a4e7e0e79b7424f",
       "version_major": 2,
       "version_minor": 0
      },
      "text/plain": [
       "class hypothsis:   0%|          | 0/3 [00:00<?, ?it/s]"
      ]
     },
     "metadata": {},
     "output_type": "display_data"
    },
    {
     "data": {
      "application/vnd.jupyter.widget-view+json": {
       "model_id": "a4dbcf7fd1e44ae59e64abd2bf31ead1",
       "version_major": 2,
       "version_minor": 0
      },
      "text/plain": [
       "diffusion sampling:   0%|          | 0/20 [00:00<?, ?it/s]"
      ]
     },
     "metadata": {},
     "output_type": "display_data"
    },
    {
     "data": {
      "application/vnd.jupyter.widget-view+json": {
       "model_id": "80a2e96de0224dcfbcb78a901cc5b9f0",
       "version_major": 2,
       "version_minor": 0
      },
      "text/plain": [
       "diffusion sampling:   0%|          | 0/20 [00:00<?, ?it/s]"
      ]
     },
     "metadata": {},
     "output_type": "display_data"
    },
    {
     "data": {
      "application/vnd.jupyter.widget-view+json": {
       "model_id": "95774d15551f4fc999499206d5b6171f",
       "version_major": 2,
       "version_minor": 0
      },
      "text/plain": [
       "diffusion sampling:   0%|          | 0/20 [00:00<?, ?it/s]"
      ]
     },
     "metadata": {},
     "output_type": "display_data"
    },
    {
     "data": {
      "application/vnd.jupyter.widget-view+json": {
       "model_id": "f5f8cfe8cee34908b809cbe603761d2e",
       "version_major": 2,
       "version_minor": 0
      },
      "text/plain": [
       "class hypothsis:   0%|          | 0/3 [00:00<?, ?it/s]"
      ]
     },
     "metadata": {},
     "output_type": "display_data"
    },
    {
     "data": {
      "application/vnd.jupyter.widget-view+json": {
       "model_id": "6bb0322796b941cd95ace2eefe130219",
       "version_major": 2,
       "version_minor": 0
      },
      "text/plain": [
       "diffusion sampling:   0%|          | 0/20 [00:00<?, ?it/s]"
      ]
     },
     "metadata": {},
     "output_type": "display_data"
    },
    {
     "data": {
      "application/vnd.jupyter.widget-view+json": {
       "model_id": "9966da895248465abec6f7d311861a92",
       "version_major": 2,
       "version_minor": 0
      },
      "text/plain": [
       "diffusion sampling:   0%|          | 0/20 [00:00<?, ?it/s]"
      ]
     },
     "metadata": {},
     "output_type": "display_data"
    },
    {
     "data": {
      "application/vnd.jupyter.widget-view+json": {
       "model_id": "4392777a50c147cca6e2a8adc1b3c2e8",
       "version_major": 2,
       "version_minor": 0
      },
      "text/plain": [
       "diffusion sampling:   0%|          | 0/20 [00:00<?, ?it/s]"
      ]
     },
     "metadata": {},
     "output_type": "display_data"
    },
    {
     "data": {
      "application/vnd.jupyter.widget-view+json": {
       "model_id": "fd0fbe4ec8f14986aa8ad2f1f404fb7f",
       "version_major": 2,
       "version_minor": 0
      },
      "text/plain": [
       "class hypothsis:   0%|          | 0/3 [00:00<?, ?it/s]"
      ]
     },
     "metadata": {},
     "output_type": "display_data"
    },
    {
     "data": {
      "application/vnd.jupyter.widget-view+json": {
       "model_id": "f94abee3b6484e0b8e5aed7722ddc520",
       "version_major": 2,
       "version_minor": 0
      },
      "text/plain": [
       "diffusion sampling:   0%|          | 0/20 [00:00<?, ?it/s]"
      ]
     },
     "metadata": {},
     "output_type": "display_data"
    },
    {
     "data": {
      "application/vnd.jupyter.widget-view+json": {
       "model_id": "8490bf4eade94a7fb46d0e309de841bd",
       "version_major": 2,
       "version_minor": 0
      },
      "text/plain": [
       "diffusion sampling:   0%|          | 0/20 [00:00<?, ?it/s]"
      ]
     },
     "metadata": {},
     "output_type": "display_data"
    },
    {
     "data": {
      "application/vnd.jupyter.widget-view+json": {
       "model_id": "50e1ebe9b56f40488cc0fcf5b0a8d313",
       "version_major": 2,
       "version_minor": 0
      },
      "text/plain": [
       "diffusion sampling:   0%|          | 0/20 [00:00<?, ?it/s]"
      ]
     },
     "metadata": {},
     "output_type": "display_data"
    },
    {
     "data": {
      "application/vnd.jupyter.widget-view+json": {
       "model_id": "337c4f03449a411eac9858f836890764",
       "version_major": 2,
       "version_minor": 0
      },
      "text/plain": [
       "class hypothsis:   0%|          | 0/3 [00:00<?, ?it/s]"
      ]
     },
     "metadata": {},
     "output_type": "display_data"
    },
    {
     "data": {
      "application/vnd.jupyter.widget-view+json": {
       "model_id": "db5090eea6dc4d5b9b4e5e32968f9e96",
       "version_major": 2,
       "version_minor": 0
      },
      "text/plain": [
       "diffusion sampling:   0%|          | 0/20 [00:00<?, ?it/s]"
      ]
     },
     "metadata": {},
     "output_type": "display_data"
    },
    {
     "data": {
      "application/vnd.jupyter.widget-view+json": {
       "model_id": "43d132df6c5f47af8df198f8df56d412",
       "version_major": 2,
       "version_minor": 0
      },
      "text/plain": [
       "diffusion sampling:   0%|          | 0/20 [00:00<?, ?it/s]"
      ]
     },
     "metadata": {},
     "output_type": "display_data"
    },
    {
     "data": {
      "application/vnd.jupyter.widget-view+json": {
       "model_id": "a7c05d987211418d86c0ad228e6f7f77",
       "version_major": 2,
       "version_minor": 0
      },
      "text/plain": [
       "diffusion sampling:   0%|          | 0/20 [00:00<?, ?it/s]"
      ]
     },
     "metadata": {},
     "output_type": "display_data"
    },
    {
     "data": {
      "application/vnd.jupyter.widget-view+json": {
       "model_id": "bdec9eb588d346b4a5c0b721bc79bfb6",
       "version_major": 2,
       "version_minor": 0
      },
      "text/plain": [
       "class hypothsis:   0%|          | 0/3 [00:00<?, ?it/s]"
      ]
     },
     "metadata": {},
     "output_type": "display_data"
    },
    {
     "data": {
      "application/vnd.jupyter.widget-view+json": {
       "model_id": "21043ce36c8f4f88a71abc7ac1a55954",
       "version_major": 2,
       "version_minor": 0
      },
      "text/plain": [
       "diffusion sampling:   0%|          | 0/20 [00:00<?, ?it/s]"
      ]
     },
     "metadata": {},
     "output_type": "display_data"
    },
    {
     "data": {
      "application/vnd.jupyter.widget-view+json": {
       "model_id": "9b32dff2bbfc4172b36548956b7cc55b",
       "version_major": 2,
       "version_minor": 0
      },
      "text/plain": [
       "diffusion sampling:   0%|          | 0/20 [00:00<?, ?it/s]"
      ]
     },
     "metadata": {},
     "output_type": "display_data"
    },
    {
     "data": {
      "application/vnd.jupyter.widget-view+json": {
       "model_id": "d144688940c24f4e8781cf6869cd1671",
       "version_major": 2,
       "version_minor": 0
      },
      "text/plain": [
       "diffusion sampling:   0%|          | 0/20 [00:00<?, ?it/s]"
      ]
     },
     "metadata": {},
     "output_type": "display_data"
    },
    {
     "data": {
      "application/vnd.jupyter.widget-view+json": {
       "model_id": "724cbb1f1a8d416e9a5148a32a64d1fd",
       "version_major": 2,
       "version_minor": 0
      },
      "text/plain": [
       "class hypothsis:   0%|          | 0/3 [00:00<?, ?it/s]"
      ]
     },
     "metadata": {},
     "output_type": "display_data"
    },
    {
     "data": {
      "application/vnd.jupyter.widget-view+json": {
       "model_id": "402842dbfb6c4258840db02cfa1945ff",
       "version_major": 2,
       "version_minor": 0
      },
      "text/plain": [
       "diffusion sampling:   0%|          | 0/20 [00:00<?, ?it/s]"
      ]
     },
     "metadata": {},
     "output_type": "display_data"
    },
    {
     "data": {
      "application/vnd.jupyter.widget-view+json": {
       "model_id": "46339ec63ea946b4b34f1377401eef5a",
       "version_major": 2,
       "version_minor": 0
      },
      "text/plain": [
       "diffusion sampling:   0%|          | 0/20 [00:00<?, ?it/s]"
      ]
     },
     "metadata": {},
     "output_type": "display_data"
    },
    {
     "data": {
      "application/vnd.jupyter.widget-view+json": {
       "model_id": "0bcb4da3edd647fab398b579413b1d67",
       "version_major": 2,
       "version_minor": 0
      },
      "text/plain": [
       "diffusion sampling:   0%|          | 0/20 [00:00<?, ?it/s]"
      ]
     },
     "metadata": {},
     "output_type": "display_data"
    },
    {
     "data": {
      "application/vnd.jupyter.widget-view+json": {
       "model_id": "10c33513bffc4b22821b7bdbd9775435",
       "version_major": 2,
       "version_minor": 0
      },
      "text/plain": [
       "class hypothsis:   0%|          | 0/3 [00:00<?, ?it/s]"
      ]
     },
     "metadata": {},
     "output_type": "display_data"
    },
    {
     "data": {
      "application/vnd.jupyter.widget-view+json": {
       "model_id": "309101c5baa5420c9fe911ebc9e701b2",
       "version_major": 2,
       "version_minor": 0
      },
      "text/plain": [
       "diffusion sampling:   0%|          | 0/20 [00:00<?, ?it/s]"
      ]
     },
     "metadata": {},
     "output_type": "display_data"
    },
    {
     "data": {
      "application/vnd.jupyter.widget-view+json": {
       "model_id": "98b8c5181f9540b1b94379316c24f6ba",
       "version_major": 2,
       "version_minor": 0
      },
      "text/plain": [
       "diffusion sampling:   0%|          | 0/20 [00:00<?, ?it/s]"
      ]
     },
     "metadata": {},
     "output_type": "display_data"
    },
    {
     "data": {
      "application/vnd.jupyter.widget-view+json": {
       "model_id": "9d1f71a36c6d46f29399995415d3efa6",
       "version_major": 2,
       "version_minor": 0
      },
      "text/plain": [
       "diffusion sampling:   0%|          | 0/20 [00:00<?, ?it/s]"
      ]
     },
     "metadata": {},
     "output_type": "display_data"
    },
    {
     "data": {
      "application/vnd.jupyter.widget-view+json": {
       "model_id": "06a743eb33314dd195a82766abbbff46",
       "version_major": 2,
       "version_minor": 0
      },
      "text/plain": [
       "class hypothsis:   0%|          | 0/3 [00:00<?, ?it/s]"
      ]
     },
     "metadata": {},
     "output_type": "display_data"
    },
    {
     "data": {
      "application/vnd.jupyter.widget-view+json": {
       "model_id": "40316a580c1d4c649865eba22159a755",
       "version_major": 2,
       "version_minor": 0
      },
      "text/plain": [
       "diffusion sampling:   0%|          | 0/20 [00:00<?, ?it/s]"
      ]
     },
     "metadata": {},
     "output_type": "display_data"
    },
    {
     "data": {
      "application/vnd.jupyter.widget-view+json": {
       "model_id": "94c2f2d722454b8c9b4ba0fff1af1bda",
       "version_major": 2,
       "version_minor": 0
      },
      "text/plain": [
       "diffusion sampling:   0%|          | 0/20 [00:00<?, ?it/s]"
      ]
     },
     "metadata": {},
     "output_type": "display_data"
    },
    {
     "data": {
      "application/vnd.jupyter.widget-view+json": {
       "model_id": "04722b33154c4f159ce64094694f1922",
       "version_major": 2,
       "version_minor": 0
      },
      "text/plain": [
       "diffusion sampling:   0%|          | 0/20 [00:00<?, ?it/s]"
      ]
     },
     "metadata": {},
     "output_type": "display_data"
    },
    {
     "data": {
      "application/vnd.jupyter.widget-view+json": {
       "model_id": "ecc69ceb55f34568bf40a98ae613766b",
       "version_major": 2,
       "version_minor": 0
      },
      "text/plain": [
       "class hypothsis:   0%|          | 0/3 [00:00<?, ?it/s]"
      ]
     },
     "metadata": {},
     "output_type": "display_data"
    },
    {
     "data": {
      "application/vnd.jupyter.widget-view+json": {
       "model_id": "209a83d3822b4c2b81f2fc9efda2ee82",
       "version_major": 2,
       "version_minor": 0
      },
      "text/plain": [
       "diffusion sampling:   0%|          | 0/20 [00:00<?, ?it/s]"
      ]
     },
     "metadata": {},
     "output_type": "display_data"
    },
    {
     "data": {
      "application/vnd.jupyter.widget-view+json": {
       "model_id": "64abce9b18bd43beb002d65d704095b4",
       "version_major": 2,
       "version_minor": 0
      },
      "text/plain": [
       "diffusion sampling:   0%|          | 0/20 [00:00<?, ?it/s]"
      ]
     },
     "metadata": {},
     "output_type": "display_data"
    },
    {
     "data": {
      "application/vnd.jupyter.widget-view+json": {
       "model_id": "841f77743f82461a99b66740c21097b6",
       "version_major": 2,
       "version_minor": 0
      },
      "text/plain": [
       "diffusion sampling:   0%|          | 0/20 [00:00<?, ?it/s]"
      ]
     },
     "metadata": {},
     "output_type": "display_data"
    },
    {
     "data": {
      "application/vnd.jupyter.widget-view+json": {
       "model_id": "399906b97e17452bbe14e157f269cf05",
       "version_major": 2,
       "version_minor": 0
      },
      "text/plain": [
       "class hypothsis:   0%|          | 0/3 [00:00<?, ?it/s]"
      ]
     },
     "metadata": {},
     "output_type": "display_data"
    },
    {
     "data": {
      "application/vnd.jupyter.widget-view+json": {
       "model_id": "5a62ac38285444018b55b010f4aaf147",
       "version_major": 2,
       "version_minor": 0
      },
      "text/plain": [
       "diffusion sampling:   0%|          | 0/20 [00:00<?, ?it/s]"
      ]
     },
     "metadata": {},
     "output_type": "display_data"
    },
    {
     "data": {
      "application/vnd.jupyter.widget-view+json": {
       "model_id": "d4accd495d3d4effac426c548e1c0221",
       "version_major": 2,
       "version_minor": 0
      },
      "text/plain": [
       "diffusion sampling:   0%|          | 0/20 [00:00<?, ?it/s]"
      ]
     },
     "metadata": {},
     "output_type": "display_data"
    },
    {
     "data": {
      "application/vnd.jupyter.widget-view+json": {
       "model_id": "0bba7314aeec4fba979c18c79ac4901a",
       "version_major": 2,
       "version_minor": 0
      },
      "text/plain": [
       "diffusion sampling:   0%|          | 0/20 [00:00<?, ?it/s]"
      ]
     },
     "metadata": {},
     "output_type": "display_data"
    },
    {
     "data": {
      "application/vnd.jupyter.widget-view+json": {
       "model_id": "9860168274654671b78cbadefb94b1d2",
       "version_major": 2,
       "version_minor": 0
      },
      "text/plain": [
       "class hypothsis:   0%|          | 0/3 [00:00<?, ?it/s]"
      ]
     },
     "metadata": {},
     "output_type": "display_data"
    },
    {
     "data": {
      "application/vnd.jupyter.widget-view+json": {
       "model_id": "0b9cf7c02a0f4b289af226d08116457f",
       "version_major": 2,
       "version_minor": 0
      },
      "text/plain": [
       "diffusion sampling:   0%|          | 0/20 [00:00<?, ?it/s]"
      ]
     },
     "metadata": {},
     "output_type": "display_data"
    },
    {
     "data": {
      "application/vnd.jupyter.widget-view+json": {
       "model_id": "c4280f426a824dc8aafff4256df6a38b",
       "version_major": 2,
       "version_minor": 0
      },
      "text/plain": [
       "diffusion sampling:   0%|          | 0/20 [00:00<?, ?it/s]"
      ]
     },
     "metadata": {},
     "output_type": "display_data"
    },
    {
     "data": {
      "application/vnd.jupyter.widget-view+json": {
       "model_id": "1e936c20851b480b82f5dae3d854c98a",
       "version_major": 2,
       "version_minor": 0
      },
      "text/plain": [
       "diffusion sampling:   0%|          | 0/20 [00:00<?, ?it/s]"
      ]
     },
     "metadata": {},
     "output_type": "display_data"
    },
    {
     "data": {
      "application/vnd.jupyter.widget-view+json": {
       "model_id": "11551381686d4f07b15b54438873f33f",
       "version_major": 2,
       "version_minor": 0
      },
      "text/plain": [
       "class hypothsis:   0%|          | 0/3 [00:00<?, ?it/s]"
      ]
     },
     "metadata": {},
     "output_type": "display_data"
    },
    {
     "data": {
      "application/vnd.jupyter.widget-view+json": {
       "model_id": "ecc7b31e4e2e474abedaa65894829f46",
       "version_major": 2,
       "version_minor": 0
      },
      "text/plain": [
       "diffusion sampling:   0%|          | 0/20 [00:00<?, ?it/s]"
      ]
     },
     "metadata": {},
     "output_type": "display_data"
    },
    {
     "data": {
      "application/vnd.jupyter.widget-view+json": {
       "model_id": "7ff8d884646846fb87230557601483c0",
       "version_major": 2,
       "version_minor": 0
      },
      "text/plain": [
       "diffusion sampling:   0%|          | 0/20 [00:00<?, ?it/s]"
      ]
     },
     "metadata": {},
     "output_type": "display_data"
    },
    {
     "data": {
      "application/vnd.jupyter.widget-view+json": {
       "model_id": "79ec65ef74c74d4c87b37f09ab43a890",
       "version_major": 2,
       "version_minor": 0
      },
      "text/plain": [
       "diffusion sampling:   0%|          | 0/20 [00:00<?, ?it/s]"
      ]
     },
     "metadata": {},
     "output_type": "display_data"
    },
    {
     "data": {
      "application/vnd.jupyter.widget-view+json": {
       "model_id": "c055909ec65644dcb6e851b66e49a3dd",
       "version_major": 2,
       "version_minor": 0
      },
      "text/plain": [
       "class hypothsis:   0%|          | 0/3 [00:00<?, ?it/s]"
      ]
     },
     "metadata": {},
     "output_type": "display_data"
    },
    {
     "data": {
      "application/vnd.jupyter.widget-view+json": {
       "model_id": "9531ce72e249485882317088687ff452",
       "version_major": 2,
       "version_minor": 0
      },
      "text/plain": [
       "diffusion sampling:   0%|          | 0/20 [00:00<?, ?it/s]"
      ]
     },
     "metadata": {},
     "output_type": "display_data"
    },
    {
     "data": {
      "application/vnd.jupyter.widget-view+json": {
       "model_id": "9eda19973d3c4838ae84f4e636b3f9b3",
       "version_major": 2,
       "version_minor": 0
      },
      "text/plain": [
       "diffusion sampling:   0%|          | 0/20 [00:00<?, ?it/s]"
      ]
     },
     "metadata": {},
     "output_type": "display_data"
    },
    {
     "data": {
      "application/vnd.jupyter.widget-view+json": {
       "model_id": "fb4805257ccc428a80365b95124a8f7b",
       "version_major": 2,
       "version_minor": 0
      },
      "text/plain": [
       "diffusion sampling:   0%|          | 0/20 [00:00<?, ?it/s]"
      ]
     },
     "metadata": {},
     "output_type": "display_data"
    },
    {
     "data": {
      "application/vnd.jupyter.widget-view+json": {
       "model_id": "9c7a44e050494027ae9642672014153d",
       "version_major": 2,
       "version_minor": 0
      },
      "text/plain": [
       "class hypothsis:   0%|          | 0/3 [00:00<?, ?it/s]"
      ]
     },
     "metadata": {},
     "output_type": "display_data"
    },
    {
     "data": {
      "application/vnd.jupyter.widget-view+json": {
       "model_id": "60ff5a072f1a4d24819b2a32e4fca74f",
       "version_major": 2,
       "version_minor": 0
      },
      "text/plain": [
       "diffusion sampling:   0%|          | 0/20 [00:00<?, ?it/s]"
      ]
     },
     "metadata": {},
     "output_type": "display_data"
    },
    {
     "data": {
      "application/vnd.jupyter.widget-view+json": {
       "model_id": "460bf3deb5c541b1b49d1e0b4abad59e",
       "version_major": 2,
       "version_minor": 0
      },
      "text/plain": [
       "diffusion sampling:   0%|          | 0/20 [00:00<?, ?it/s]"
      ]
     },
     "metadata": {},
     "output_type": "display_data"
    },
    {
     "data": {
      "application/vnd.jupyter.widget-view+json": {
       "model_id": "60a9eb302285443f8f812bedef095edc",
       "version_major": 2,
       "version_minor": 0
      },
      "text/plain": [
       "diffusion sampling:   0%|          | 0/20 [00:00<?, ?it/s]"
      ]
     },
     "metadata": {},
     "output_type": "display_data"
    },
    {
     "data": {
      "application/vnd.jupyter.widget-view+json": {
       "model_id": "629e46655470476eac2bc67885c696ef",
       "version_major": 2,
       "version_minor": 0
      },
      "text/plain": [
       "class hypothsis:   0%|          | 0/3 [00:00<?, ?it/s]"
      ]
     },
     "metadata": {},
     "output_type": "display_data"
    },
    {
     "data": {
      "application/vnd.jupyter.widget-view+json": {
       "model_id": "42a166c395434df38d8483fbf2d93613",
       "version_major": 2,
       "version_minor": 0
      },
      "text/plain": [
       "diffusion sampling:   0%|          | 0/20 [00:00<?, ?it/s]"
      ]
     },
     "metadata": {},
     "output_type": "display_data"
    },
    {
     "data": {
      "application/vnd.jupyter.widget-view+json": {
       "model_id": "98156ad639a44208ab010d6421b4d9ad",
       "version_major": 2,
       "version_minor": 0
      },
      "text/plain": [
       "diffusion sampling:   0%|          | 0/20 [00:00<?, ?it/s]"
      ]
     },
     "metadata": {},
     "output_type": "display_data"
    },
    {
     "data": {
      "application/vnd.jupyter.widget-view+json": {
       "model_id": "eddda42fcd724721b2906e2ec6bb777d",
       "version_major": 2,
       "version_minor": 0
      },
      "text/plain": [
       "diffusion sampling:   0%|          | 0/20 [00:00<?, ?it/s]"
      ]
     },
     "metadata": {},
     "output_type": "display_data"
    },
    {
     "data": {
      "application/vnd.jupyter.widget-view+json": {
       "model_id": "17c82b0d38c54c39815ef1de08ce215c",
       "version_major": 2,
       "version_minor": 0
      },
      "text/plain": [
       "class hypothsis:   0%|          | 0/3 [00:00<?, ?it/s]"
      ]
     },
     "metadata": {},
     "output_type": "display_data"
    },
    {
     "data": {
      "application/vnd.jupyter.widget-view+json": {
       "model_id": "b4bf565ad9dc4f28b06c25dec3258132",
       "version_major": 2,
       "version_minor": 0
      },
      "text/plain": [
       "diffusion sampling:   0%|          | 0/20 [00:00<?, ?it/s]"
      ]
     },
     "metadata": {},
     "output_type": "display_data"
    },
    {
     "data": {
      "application/vnd.jupyter.widget-view+json": {
       "model_id": "4dcf9a7d2c52484b9917fff85613f113",
       "version_major": 2,
       "version_minor": 0
      },
      "text/plain": [
       "diffusion sampling:   0%|          | 0/20 [00:00<?, ?it/s]"
      ]
     },
     "metadata": {},
     "output_type": "display_data"
    },
    {
     "data": {
      "application/vnd.jupyter.widget-view+json": {
       "model_id": "2771d2011d5749e3862e3e86ac6e8375",
       "version_major": 2,
       "version_minor": 0
      },
      "text/plain": [
       "diffusion sampling:   0%|          | 0/20 [00:00<?, ?it/s]"
      ]
     },
     "metadata": {},
     "output_type": "display_data"
    },
    {
     "data": {
      "application/vnd.jupyter.widget-view+json": {
       "model_id": "2cb2da660e2a4b628c41daa5cf36fd6e",
       "version_major": 2,
       "version_minor": 0
      },
      "text/plain": [
       "class hypothsis:   0%|          | 0/3 [00:00<?, ?it/s]"
      ]
     },
     "metadata": {},
     "output_type": "display_data"
    },
    {
     "data": {
      "application/vnd.jupyter.widget-view+json": {
       "model_id": "a0c82f1e87ab4102896a3c6e7941e7d1",
       "version_major": 2,
       "version_minor": 0
      },
      "text/plain": [
       "diffusion sampling:   0%|          | 0/20 [00:00<?, ?it/s]"
      ]
     },
     "metadata": {},
     "output_type": "display_data"
    },
    {
     "data": {
      "application/vnd.jupyter.widget-view+json": {
       "model_id": "744513ece33a489fbaa9a5f4af9f103d",
       "version_major": 2,
       "version_minor": 0
      },
      "text/plain": [
       "diffusion sampling:   0%|          | 0/20 [00:00<?, ?it/s]"
      ]
     },
     "metadata": {},
     "output_type": "display_data"
    },
    {
     "data": {
      "application/vnd.jupyter.widget-view+json": {
       "model_id": "ce4bba009c7f4c8e9d834ecd2a6d57fc",
       "version_major": 2,
       "version_minor": 0
      },
      "text/plain": [
       "diffusion sampling:   0%|          | 0/20 [00:00<?, ?it/s]"
      ]
     },
     "metadata": {},
     "output_type": "display_data"
    },
    {
     "data": {
      "application/vnd.jupyter.widget-view+json": {
       "model_id": "6c3fb3e2a2f04fdcbd8ff897e7e228a9",
       "version_major": 2,
       "version_minor": 0
      },
      "text/plain": [
       "class hypothsis:   0%|          | 0/3 [00:00<?, ?it/s]"
      ]
     },
     "metadata": {},
     "output_type": "display_data"
    },
    {
     "data": {
      "application/vnd.jupyter.widget-view+json": {
       "model_id": "b18d21fef5d446bb80d7f835151eea67",
       "version_major": 2,
       "version_minor": 0
      },
      "text/plain": [
       "diffusion sampling:   0%|          | 0/20 [00:00<?, ?it/s]"
      ]
     },
     "metadata": {},
     "output_type": "display_data"
    },
    {
     "data": {
      "application/vnd.jupyter.widget-view+json": {
       "model_id": "9822278484e5444b9f49eb1255df67bd",
       "version_major": 2,
       "version_minor": 0
      },
      "text/plain": [
       "diffusion sampling:   0%|          | 0/20 [00:00<?, ?it/s]"
      ]
     },
     "metadata": {},
     "output_type": "display_data"
    },
    {
     "data": {
      "application/vnd.jupyter.widget-view+json": {
       "model_id": "e14c969ec51a40c78ba8f1861e0834e2",
       "version_major": 2,
       "version_minor": 0
      },
      "text/plain": [
       "diffusion sampling:   0%|          | 0/20 [00:00<?, ?it/s]"
      ]
     },
     "metadata": {},
     "output_type": "display_data"
    },
    {
     "data": {
      "application/vnd.jupyter.widget-view+json": {
       "model_id": "597ca37cb9d24805869461d9ebf4d639",
       "version_major": 2,
       "version_minor": 0
      },
      "text/plain": [
       "class hypothsis:   0%|          | 0/3 [00:00<?, ?it/s]"
      ]
     },
     "metadata": {},
     "output_type": "display_data"
    },
    {
     "data": {
      "application/vnd.jupyter.widget-view+json": {
       "model_id": "af881232353740c589957d94b967d5e9",
       "version_major": 2,
       "version_minor": 0
      },
      "text/plain": [
       "diffusion sampling:   0%|          | 0/20 [00:00<?, ?it/s]"
      ]
     },
     "metadata": {},
     "output_type": "display_data"
    },
    {
     "data": {
      "application/vnd.jupyter.widget-view+json": {
       "model_id": "4eefbc8325a14e77a2a51ce576e005ec",
       "version_major": 2,
       "version_minor": 0
      },
      "text/plain": [
       "diffusion sampling:   0%|          | 0/20 [00:00<?, ?it/s]"
      ]
     },
     "metadata": {},
     "output_type": "display_data"
    },
    {
     "data": {
      "application/vnd.jupyter.widget-view+json": {
       "model_id": "d291462d36014ebe976879efe16634a2",
       "version_major": 2,
       "version_minor": 0
      },
      "text/plain": [
       "diffusion sampling:   0%|          | 0/20 [00:00<?, ?it/s]"
      ]
     },
     "metadata": {},
     "output_type": "display_data"
    },
    {
     "data": {
      "application/vnd.jupyter.widget-view+json": {
       "model_id": "07d4abe20190456daea15e04f8b8d22c",
       "version_major": 2,
       "version_minor": 0
      },
      "text/plain": [
       "class hypothsis:   0%|          | 0/3 [00:00<?, ?it/s]"
      ]
     },
     "metadata": {},
     "output_type": "display_data"
    },
    {
     "data": {
      "application/vnd.jupyter.widget-view+json": {
       "model_id": "adfab7f8373a478eb43b1ed0ea443de0",
       "version_major": 2,
       "version_minor": 0
      },
      "text/plain": [
       "diffusion sampling:   0%|          | 0/20 [00:00<?, ?it/s]"
      ]
     },
     "metadata": {},
     "output_type": "display_data"
    },
    {
     "data": {
      "application/vnd.jupyter.widget-view+json": {
       "model_id": "61ae51c34fbe42e1a63299c9ed5f35eb",
       "version_major": 2,
       "version_minor": 0
      },
      "text/plain": [
       "diffusion sampling:   0%|          | 0/20 [00:00<?, ?it/s]"
      ]
     },
     "metadata": {},
     "output_type": "display_data"
    },
    {
     "data": {
      "application/vnd.jupyter.widget-view+json": {
       "model_id": "67bc449b533c4ae9b8fd68d8a5f91a20",
       "version_major": 2,
       "version_minor": 0
      },
      "text/plain": [
       "diffusion sampling:   0%|          | 0/20 [00:00<?, ?it/s]"
      ]
     },
     "metadata": {},
     "output_type": "display_data"
    },
    {
     "data": {
      "application/vnd.jupyter.widget-view+json": {
       "model_id": "e782600b0c3b43d887533e58347a445b",
       "version_major": 2,
       "version_minor": 0
      },
      "text/plain": [
       "class hypothsis:   0%|          | 0/3 [00:00<?, ?it/s]"
      ]
     },
     "metadata": {},
     "output_type": "display_data"
    },
    {
     "data": {
      "application/vnd.jupyter.widget-view+json": {
       "model_id": "7eb240e65b7d4f2d828558b446f07c03",
       "version_major": 2,
       "version_minor": 0
      },
      "text/plain": [
       "diffusion sampling:   0%|          | 0/20 [00:00<?, ?it/s]"
      ]
     },
     "metadata": {},
     "output_type": "display_data"
    },
    {
     "data": {
      "application/vnd.jupyter.widget-view+json": {
       "model_id": "7192a0cd821047788b7183f6ebc96932",
       "version_major": 2,
       "version_minor": 0
      },
      "text/plain": [
       "diffusion sampling:   0%|          | 0/20 [00:00<?, ?it/s]"
      ]
     },
     "metadata": {},
     "output_type": "display_data"
    },
    {
     "data": {
      "application/vnd.jupyter.widget-view+json": {
       "model_id": "330a818e27b74b6b930537dbc1d5e5ae",
       "version_major": 2,
       "version_minor": 0
      },
      "text/plain": [
       "diffusion sampling:   0%|          | 0/20 [00:00<?, ?it/s]"
      ]
     },
     "metadata": {},
     "output_type": "display_data"
    },
    {
     "data": {
      "application/vnd.jupyter.widget-view+json": {
       "model_id": "23da42e836c64f1180ff45d9e22cf33d",
       "version_major": 2,
       "version_minor": 0
      },
      "text/plain": [
       "class hypothsis:   0%|          | 0/3 [00:00<?, ?it/s]"
      ]
     },
     "metadata": {},
     "output_type": "display_data"
    },
    {
     "data": {
      "application/vnd.jupyter.widget-view+json": {
       "model_id": "70b6d88300204161a46bf1c2b8e2446e",
       "version_major": 2,
       "version_minor": 0
      },
      "text/plain": [
       "diffusion sampling:   0%|          | 0/20 [00:00<?, ?it/s]"
      ]
     },
     "metadata": {},
     "output_type": "display_data"
    },
    {
     "data": {
      "application/vnd.jupyter.widget-view+json": {
       "model_id": "3cfbd12870f8484cb82f032ca5172990",
       "version_major": 2,
       "version_minor": 0
      },
      "text/plain": [
       "diffusion sampling:   0%|          | 0/20 [00:00<?, ?it/s]"
      ]
     },
     "metadata": {},
     "output_type": "display_data"
    },
    {
     "data": {
      "application/vnd.jupyter.widget-view+json": {
       "model_id": "e70384dcdc9243b6a8ebb39b72c4a15a",
       "version_major": 2,
       "version_minor": 0
      },
      "text/plain": [
       "diffusion sampling:   0%|          | 0/20 [00:00<?, ?it/s]"
      ]
     },
     "metadata": {},
     "output_type": "display_data"
    },
    {
     "data": {
      "application/vnd.jupyter.widget-view+json": {
       "model_id": "d866bacb5fb34f0289da502a347a6bfb",
       "version_major": 2,
       "version_minor": 0
      },
      "text/plain": [
       "class hypothsis:   0%|          | 0/3 [00:00<?, ?it/s]"
      ]
     },
     "metadata": {},
     "output_type": "display_data"
    },
    {
     "data": {
      "application/vnd.jupyter.widget-view+json": {
       "model_id": "9510f36fff954a4e96e8ea34e7b6d247",
       "version_major": 2,
       "version_minor": 0
      },
      "text/plain": [
       "diffusion sampling:   0%|          | 0/20 [00:00<?, ?it/s]"
      ]
     },
     "metadata": {},
     "output_type": "display_data"
    },
    {
     "data": {
      "application/vnd.jupyter.widget-view+json": {
       "model_id": "05fcf3a2a1114e50b5ae9d03c44479bf",
       "version_major": 2,
       "version_minor": 0
      },
      "text/plain": [
       "diffusion sampling:   0%|          | 0/20 [00:00<?, ?it/s]"
      ]
     },
     "metadata": {},
     "output_type": "display_data"
    },
    {
     "data": {
      "application/vnd.jupyter.widget-view+json": {
       "model_id": "dbd7a387a6bc440089dc85114881028c",
       "version_major": 2,
       "version_minor": 0
      },
      "text/plain": [
       "diffusion sampling:   0%|          | 0/20 [00:00<?, ?it/s]"
      ]
     },
     "metadata": {},
     "output_type": "display_data"
    },
    {
     "data": {
      "application/vnd.jupyter.widget-view+json": {
       "model_id": "db4c71c2faac4fa39e92ff7d369b7ade",
       "version_major": 2,
       "version_minor": 0
      },
      "text/plain": [
       "class hypothsis:   0%|          | 0/3 [00:00<?, ?it/s]"
      ]
     },
     "metadata": {},
     "output_type": "display_data"
    },
    {
     "data": {
      "application/vnd.jupyter.widget-view+json": {
       "model_id": "26b3b7a447c24b329b43d722ebed3285",
       "version_major": 2,
       "version_minor": 0
      },
      "text/plain": [
       "diffusion sampling:   0%|          | 0/20 [00:00<?, ?it/s]"
      ]
     },
     "metadata": {},
     "output_type": "display_data"
    },
    {
     "data": {
      "application/vnd.jupyter.widget-view+json": {
       "model_id": "31f34ac3ee6a4014ac8d6c33095335aa",
       "version_major": 2,
       "version_minor": 0
      },
      "text/plain": [
       "diffusion sampling:   0%|          | 0/20 [00:00<?, ?it/s]"
      ]
     },
     "metadata": {},
     "output_type": "display_data"
    },
    {
     "data": {
      "application/vnd.jupyter.widget-view+json": {
       "model_id": "9b6c48ee503040b5b70a3264ce0250c2",
       "version_major": 2,
       "version_minor": 0
      },
      "text/plain": [
       "diffusion sampling:   0%|          | 0/20 [00:00<?, ?it/s]"
      ]
     },
     "metadata": {},
     "output_type": "display_data"
    },
    {
     "data": {
      "application/vnd.jupyter.widget-view+json": {
       "model_id": "8135f76041b4476e9ab7e5432e2ba981",
       "version_major": 2,
       "version_minor": 0
      },
      "text/plain": [
       "class hypothsis:   0%|          | 0/3 [00:00<?, ?it/s]"
      ]
     },
     "metadata": {},
     "output_type": "display_data"
    },
    {
     "data": {
      "application/vnd.jupyter.widget-view+json": {
       "model_id": "ce1c56f3a3224930ae38932f24c5d03c",
       "version_major": 2,
       "version_minor": 0
      },
      "text/plain": [
       "diffusion sampling:   0%|          | 0/20 [00:00<?, ?it/s]"
      ]
     },
     "metadata": {},
     "output_type": "display_data"
    },
    {
     "data": {
      "application/vnd.jupyter.widget-view+json": {
       "model_id": "cbcb08b7313c4b5887183d78453096b2",
       "version_major": 2,
       "version_minor": 0
      },
      "text/plain": [
       "diffusion sampling:   0%|          | 0/20 [00:00<?, ?it/s]"
      ]
     },
     "metadata": {},
     "output_type": "display_data"
    },
    {
     "data": {
      "application/vnd.jupyter.widget-view+json": {
       "model_id": "7499be0d64714c9fa86968f9d5d98cf0",
       "version_major": 2,
       "version_minor": 0
      },
      "text/plain": [
       "diffusion sampling:   0%|          | 0/20 [00:00<?, ?it/s]"
      ]
     },
     "metadata": {},
     "output_type": "display_data"
    },
    {
     "data": {
      "application/vnd.jupyter.widget-view+json": {
       "model_id": "6a9234e345ea40679a83eb07ccc3bad2",
       "version_major": 2,
       "version_minor": 0
      },
      "text/plain": [
       "class hypothsis:   0%|          | 0/3 [00:00<?, ?it/s]"
      ]
     },
     "metadata": {},
     "output_type": "display_data"
    },
    {
     "data": {
      "application/vnd.jupyter.widget-view+json": {
       "model_id": "6196f067e0c24449824df5e208cbe68c",
       "version_major": 2,
       "version_minor": 0
      },
      "text/plain": [
       "diffusion sampling:   0%|          | 0/20 [00:00<?, ?it/s]"
      ]
     },
     "metadata": {},
     "output_type": "display_data"
    },
    {
     "data": {
      "application/vnd.jupyter.widget-view+json": {
       "model_id": "0b288aa341cf4720a2d56c6a1f3fa54d",
       "version_major": 2,
       "version_minor": 0
      },
      "text/plain": [
       "diffusion sampling:   0%|          | 0/20 [00:00<?, ?it/s]"
      ]
     },
     "metadata": {},
     "output_type": "display_data"
    },
    {
     "data": {
      "application/vnd.jupyter.widget-view+json": {
       "model_id": "8deb7066936645adb079da230b447e17",
       "version_major": 2,
       "version_minor": 0
      },
      "text/plain": [
       "diffusion sampling:   0%|          | 0/20 [00:00<?, ?it/s]"
      ]
     },
     "metadata": {},
     "output_type": "display_data"
    },
    {
     "data": {
      "application/vnd.jupyter.widget-view+json": {
       "model_id": "92779b93e52e418aaabd548d8cda7791",
       "version_major": 2,
       "version_minor": 0
      },
      "text/plain": [
       "class hypothsis:   0%|          | 0/3 [00:00<?, ?it/s]"
      ]
     },
     "metadata": {},
     "output_type": "display_data"
    },
    {
     "data": {
      "application/vnd.jupyter.widget-view+json": {
       "model_id": "fca2cd45ae3b4654aad13c5fa255fa47",
       "version_major": 2,
       "version_minor": 0
      },
      "text/plain": [
       "diffusion sampling:   0%|          | 0/20 [00:00<?, ?it/s]"
      ]
     },
     "metadata": {},
     "output_type": "display_data"
    },
    {
     "data": {
      "application/vnd.jupyter.widget-view+json": {
       "model_id": "703d050c892a4f909945ec5bd0575db9",
       "version_major": 2,
       "version_minor": 0
      },
      "text/plain": [
       "diffusion sampling:   0%|          | 0/20 [00:00<?, ?it/s]"
      ]
     },
     "metadata": {},
     "output_type": "display_data"
    },
    {
     "data": {
      "application/vnd.jupyter.widget-view+json": {
       "model_id": "0fc7114cfa504c739a5464e7813bea6e",
       "version_major": 2,
       "version_minor": 0
      },
      "text/plain": [
       "diffusion sampling:   0%|          | 0/20 [00:00<?, ?it/s]"
      ]
     },
     "metadata": {},
     "output_type": "display_data"
    },
    {
     "data": {
      "application/vnd.jupyter.widget-view+json": {
       "model_id": "770c9e0c7f6e4578829e31c3b8446880",
       "version_major": 2,
       "version_minor": 0
      },
      "text/plain": [
       "class hypothsis:   0%|          | 0/3 [00:00<?, ?it/s]"
      ]
     },
     "metadata": {},
     "output_type": "display_data"
    },
    {
     "data": {
      "application/vnd.jupyter.widget-view+json": {
       "model_id": "f43c0811267b4639882e1c364a7d75f8",
       "version_major": 2,
       "version_minor": 0
      },
      "text/plain": [
       "diffusion sampling:   0%|          | 0/20 [00:00<?, ?it/s]"
      ]
     },
     "metadata": {},
     "output_type": "display_data"
    },
    {
     "data": {
      "application/vnd.jupyter.widget-view+json": {
       "model_id": "e588ac941e444aa0a937e471003ca7f1",
       "version_major": 2,
       "version_minor": 0
      },
      "text/plain": [
       "diffusion sampling:   0%|          | 0/20 [00:00<?, ?it/s]"
      ]
     },
     "metadata": {},
     "output_type": "display_data"
    },
    {
     "data": {
      "application/vnd.jupyter.widget-view+json": {
       "model_id": "4721d58230484bce86e3642960727b4e",
       "version_major": 2,
       "version_minor": 0
      },
      "text/plain": [
       "diffusion sampling:   0%|          | 0/20 [00:00<?, ?it/s]"
      ]
     },
     "metadata": {},
     "output_type": "display_data"
    },
    {
     "data": {
      "application/vnd.jupyter.widget-view+json": {
       "model_id": "a1cc666373bb481cb82aa65aff92a12f",
       "version_major": 2,
       "version_minor": 0
      },
      "text/plain": [
       "class hypothsis:   0%|          | 0/3 [00:00<?, ?it/s]"
      ]
     },
     "metadata": {},
     "output_type": "display_data"
    },
    {
     "data": {
      "application/vnd.jupyter.widget-view+json": {
       "model_id": "8b28106c6e7148d69b65dcd1edfbdf26",
       "version_major": 2,
       "version_minor": 0
      },
      "text/plain": [
       "diffusion sampling:   0%|          | 0/20 [00:00<?, ?it/s]"
      ]
     },
     "metadata": {},
     "output_type": "display_data"
    },
    {
     "data": {
      "application/vnd.jupyter.widget-view+json": {
       "model_id": "17ba336e02d145c398b4ef1bbc0d321d",
       "version_major": 2,
       "version_minor": 0
      },
      "text/plain": [
       "diffusion sampling:   0%|          | 0/20 [00:00<?, ?it/s]"
      ]
     },
     "metadata": {},
     "output_type": "display_data"
    },
    {
     "data": {
      "application/vnd.jupyter.widget-view+json": {
       "model_id": "a26f2cafc98f41ff8bfb68757efd640d",
       "version_major": 2,
       "version_minor": 0
      },
      "text/plain": [
       "diffusion sampling:   0%|          | 0/20 [00:00<?, ?it/s]"
      ]
     },
     "metadata": {},
     "output_type": "display_data"
    },
    {
     "data": {
      "application/vnd.jupyter.widget-view+json": {
       "model_id": "c6699fde4acf4385a5b3d19e9687d186",
       "version_major": 2,
       "version_minor": 0
      },
      "text/plain": [
       "class hypothsis:   0%|          | 0/3 [00:00<?, ?it/s]"
      ]
     },
     "metadata": {},
     "output_type": "display_data"
    },
    {
     "data": {
      "application/vnd.jupyter.widget-view+json": {
       "model_id": "a70354b2757242b68dfec4ab7d744813",
       "version_major": 2,
       "version_minor": 0
      },
      "text/plain": [
       "diffusion sampling:   0%|          | 0/20 [00:00<?, ?it/s]"
      ]
     },
     "metadata": {},
     "output_type": "display_data"
    },
    {
     "data": {
      "application/vnd.jupyter.widget-view+json": {
       "model_id": "92005beadcdd429da6c66e99d62bbd44",
       "version_major": 2,
       "version_minor": 0
      },
      "text/plain": [
       "diffusion sampling:   0%|          | 0/20 [00:00<?, ?it/s]"
      ]
     },
     "metadata": {},
     "output_type": "display_data"
    },
    {
     "data": {
      "application/vnd.jupyter.widget-view+json": {
       "model_id": "9fa7aa15403d459a8e872fea0f951841",
       "version_major": 2,
       "version_minor": 0
      },
      "text/plain": [
       "diffusion sampling:   0%|          | 0/20 [00:00<?, ?it/s]"
      ]
     },
     "metadata": {},
     "output_type": "display_data"
    },
    {
     "data": {
      "application/vnd.jupyter.widget-view+json": {
       "model_id": "cdf4710bd9c445b78075f32181a1b1d0",
       "version_major": 2,
       "version_minor": 0
      },
      "text/plain": [
       "class hypothsis:   0%|          | 0/3 [00:00<?, ?it/s]"
      ]
     },
     "metadata": {},
     "output_type": "display_data"
    },
    {
     "data": {
      "application/vnd.jupyter.widget-view+json": {
       "model_id": "f99423ac78914a83b92409cdddecd6d2",
       "version_major": 2,
       "version_minor": 0
      },
      "text/plain": [
       "diffusion sampling:   0%|          | 0/20 [00:00<?, ?it/s]"
      ]
     },
     "metadata": {},
     "output_type": "display_data"
    },
    {
     "data": {
      "application/vnd.jupyter.widget-view+json": {
       "model_id": "d6e4b5f5e4b047348e8e30a14faa1db2",
       "version_major": 2,
       "version_minor": 0
      },
      "text/plain": [
       "diffusion sampling:   0%|          | 0/20 [00:00<?, ?it/s]"
      ]
     },
     "metadata": {},
     "output_type": "display_data"
    },
    {
     "data": {
      "application/vnd.jupyter.widget-view+json": {
       "model_id": "7a320b2ce18e496eaf6ca6187fbd9e35",
       "version_major": 2,
       "version_minor": 0
      },
      "text/plain": [
       "diffusion sampling:   0%|          | 0/20 [00:00<?, ?it/s]"
      ]
     },
     "metadata": {},
     "output_type": "display_data"
    },
    {
     "data": {
      "application/vnd.jupyter.widget-view+json": {
       "model_id": "3fd454a8341c47119ccdce6fdbed94b0",
       "version_major": 2,
       "version_minor": 0
      },
      "text/plain": [
       "class hypothsis:   0%|          | 0/3 [00:00<?, ?it/s]"
      ]
     },
     "metadata": {},
     "output_type": "display_data"
    },
    {
     "data": {
      "application/vnd.jupyter.widget-view+json": {
       "model_id": "daa4719daca3452581fd97e7f24cae18",
       "version_major": 2,
       "version_minor": 0
      },
      "text/plain": [
       "diffusion sampling:   0%|          | 0/20 [00:00<?, ?it/s]"
      ]
     },
     "metadata": {},
     "output_type": "display_data"
    },
    {
     "data": {
      "application/vnd.jupyter.widget-view+json": {
       "model_id": "c02290141ad74aacaae5c04b68915de7",
       "version_major": 2,
       "version_minor": 0
      },
      "text/plain": [
       "diffusion sampling:   0%|          | 0/20 [00:00<?, ?it/s]"
      ]
     },
     "metadata": {},
     "output_type": "display_data"
    },
    {
     "data": {
      "application/vnd.jupyter.widget-view+json": {
       "model_id": "9a2507608307492ea7f82cb2652349b9",
       "version_major": 2,
       "version_minor": 0
      },
      "text/plain": [
       "diffusion sampling:   0%|          | 0/20 [00:00<?, ?it/s]"
      ]
     },
     "metadata": {},
     "output_type": "display_data"
    },
    {
     "data": {
      "application/vnd.jupyter.widget-view+json": {
       "model_id": "726ecc93003d4878a3eaf69e71e744d5",
       "version_major": 2,
       "version_minor": 0
      },
      "text/plain": [
       "class hypothsis:   0%|          | 0/3 [00:00<?, ?it/s]"
      ]
     },
     "metadata": {},
     "output_type": "display_data"
    },
    {
     "data": {
      "application/vnd.jupyter.widget-view+json": {
       "model_id": "0bcfcf1dfd5640ee8af92d7a61f5a09a",
       "version_major": 2,
       "version_minor": 0
      },
      "text/plain": [
       "diffusion sampling:   0%|          | 0/20 [00:00<?, ?it/s]"
      ]
     },
     "metadata": {},
     "output_type": "display_data"
    },
    {
     "data": {
      "application/vnd.jupyter.widget-view+json": {
       "model_id": "128d7f1f65e24d89af65cc1dbb173459",
       "version_major": 2,
       "version_minor": 0
      },
      "text/plain": [
       "diffusion sampling:   0%|          | 0/20 [00:00<?, ?it/s]"
      ]
     },
     "metadata": {},
     "output_type": "display_data"
    },
    {
     "data": {
      "application/vnd.jupyter.widget-view+json": {
       "model_id": "df367010b4d649a19d9cbabbbd9cd450",
       "version_major": 2,
       "version_minor": 0
      },
      "text/plain": [
       "diffusion sampling:   0%|          | 0/20 [00:00<?, ?it/s]"
      ]
     },
     "metadata": {},
     "output_type": "display_data"
    },
    {
     "data": {
      "application/vnd.jupyter.widget-view+json": {
       "model_id": "d68801b2df9741dca1f743da9a382740",
       "version_major": 2,
       "version_minor": 0
      },
      "text/plain": [
       "class hypothsis:   0%|          | 0/3 [00:00<?, ?it/s]"
      ]
     },
     "metadata": {},
     "output_type": "display_data"
    },
    {
     "data": {
      "application/vnd.jupyter.widget-view+json": {
       "model_id": "f239c303291c4c9bbc651b4a913aff33",
       "version_major": 2,
       "version_minor": 0
      },
      "text/plain": [
       "diffusion sampling:   0%|          | 0/20 [00:00<?, ?it/s]"
      ]
     },
     "metadata": {},
     "output_type": "display_data"
    },
    {
     "data": {
      "application/vnd.jupyter.widget-view+json": {
       "model_id": "ab9a087425574191a55dc86df7a93b45",
       "version_major": 2,
       "version_minor": 0
      },
      "text/plain": [
       "diffusion sampling:   0%|          | 0/20 [00:00<?, ?it/s]"
      ]
     },
     "metadata": {},
     "output_type": "display_data"
    },
    {
     "data": {
      "application/vnd.jupyter.widget-view+json": {
       "model_id": "f51d1754f26e44eab36a4e24943a216c",
       "version_major": 2,
       "version_minor": 0
      },
      "text/plain": [
       "diffusion sampling:   0%|          | 0/20 [00:00<?, ?it/s]"
      ]
     },
     "metadata": {},
     "output_type": "display_data"
    },
    {
     "data": {
      "application/vnd.jupyter.widget-view+json": {
       "model_id": "3c098061f41f4300b2a10224405e66bd",
       "version_major": 2,
       "version_minor": 0
      },
      "text/plain": [
       "class hypothsis:   0%|          | 0/3 [00:00<?, ?it/s]"
      ]
     },
     "metadata": {},
     "output_type": "display_data"
    },
    {
     "data": {
      "application/vnd.jupyter.widget-view+json": {
       "model_id": "cadec199012b44229f9bd41544574b47",
       "version_major": 2,
       "version_minor": 0
      },
      "text/plain": [
       "diffusion sampling:   0%|          | 0/20 [00:00<?, ?it/s]"
      ]
     },
     "metadata": {},
     "output_type": "display_data"
    },
    {
     "data": {
      "application/vnd.jupyter.widget-view+json": {
       "model_id": "82c8a03801f04fcdb8b23aef862caf64",
       "version_major": 2,
       "version_minor": 0
      },
      "text/plain": [
       "diffusion sampling:   0%|          | 0/20 [00:00<?, ?it/s]"
      ]
     },
     "metadata": {},
     "output_type": "display_data"
    },
    {
     "data": {
      "application/vnd.jupyter.widget-view+json": {
       "model_id": "09cbd2d8260d46c7ba3638b209fccc9c",
       "version_major": 2,
       "version_minor": 0
      },
      "text/plain": [
       "diffusion sampling:   0%|          | 0/20 [00:00<?, ?it/s]"
      ]
     },
     "metadata": {},
     "output_type": "display_data"
    },
    {
     "data": {
      "application/vnd.jupyter.widget-view+json": {
       "model_id": "cdf78f41aec842e9941d57404fbdf1fb",
       "version_major": 2,
       "version_minor": 0
      },
      "text/plain": [
       "class hypothsis:   0%|          | 0/3 [00:00<?, ?it/s]"
      ]
     },
     "metadata": {},
     "output_type": "display_data"
    },
    {
     "data": {
      "application/vnd.jupyter.widget-view+json": {
       "model_id": "3af877f9bb6849668e46c071a37d4e3f",
       "version_major": 2,
       "version_minor": 0
      },
      "text/plain": [
       "diffusion sampling:   0%|          | 0/20 [00:00<?, ?it/s]"
      ]
     },
     "metadata": {},
     "output_type": "display_data"
    },
    {
     "data": {
      "application/vnd.jupyter.widget-view+json": {
       "model_id": "7efcdcf23c964a6fbed98e4c47a6af47",
       "version_major": 2,
       "version_minor": 0
      },
      "text/plain": [
       "diffusion sampling:   0%|          | 0/20 [00:00<?, ?it/s]"
      ]
     },
     "metadata": {},
     "output_type": "display_data"
    },
    {
     "data": {
      "application/vnd.jupyter.widget-view+json": {
       "model_id": "acdf0d4365bf42f7a95ccef502518fea",
       "version_major": 2,
       "version_minor": 0
      },
      "text/plain": [
       "diffusion sampling:   0%|          | 0/20 [00:00<?, ?it/s]"
      ]
     },
     "metadata": {},
     "output_type": "display_data"
    },
    {
     "data": {
      "application/vnd.jupyter.widget-view+json": {
       "model_id": "6f85849a93fc4a4090755d532a494b72",
       "version_major": 2,
       "version_minor": 0
      },
      "text/plain": [
       "class hypothsis:   0%|          | 0/3 [00:00<?, ?it/s]"
      ]
     },
     "metadata": {},
     "output_type": "display_data"
    },
    {
     "data": {
      "application/vnd.jupyter.widget-view+json": {
       "model_id": "f51bf767e4b848079b8ab48ea33d1112",
       "version_major": 2,
       "version_minor": 0
      },
      "text/plain": [
       "diffusion sampling:   0%|          | 0/20 [00:00<?, ?it/s]"
      ]
     },
     "metadata": {},
     "output_type": "display_data"
    },
    {
     "data": {
      "application/vnd.jupyter.widget-view+json": {
       "model_id": "c1299419364a4529993cd034982b389a",
       "version_major": 2,
       "version_minor": 0
      },
      "text/plain": [
       "diffusion sampling:   0%|          | 0/20 [00:00<?, ?it/s]"
      ]
     },
     "metadata": {},
     "output_type": "display_data"
    },
    {
     "data": {
      "application/vnd.jupyter.widget-view+json": {
       "model_id": "c40ae11b6214400bbf9da793fbf79732",
       "version_major": 2,
       "version_minor": 0
      },
      "text/plain": [
       "diffusion sampling:   0%|          | 0/20 [00:00<?, ?it/s]"
      ]
     },
     "metadata": {},
     "output_type": "display_data"
    },
    {
     "data": {
      "application/vnd.jupyter.widget-view+json": {
       "model_id": "ff83f839f71047f4b93b441626abedd8",
       "version_major": 2,
       "version_minor": 0
      },
      "text/plain": [
       "class hypothsis:   0%|          | 0/3 [00:00<?, ?it/s]"
      ]
     },
     "metadata": {},
     "output_type": "display_data"
    },
    {
     "data": {
      "application/vnd.jupyter.widget-view+json": {
       "model_id": "62dc1d7d3c9c45f4a09b41b0c3c953cd",
       "version_major": 2,
       "version_minor": 0
      },
      "text/plain": [
       "diffusion sampling:   0%|          | 0/20 [00:00<?, ?it/s]"
      ]
     },
     "metadata": {},
     "output_type": "display_data"
    },
    {
     "data": {
      "application/vnd.jupyter.widget-view+json": {
       "model_id": "055d7b7c81104ecab79bc3eeb1cb259b",
       "version_major": 2,
       "version_minor": 0
      },
      "text/plain": [
       "diffusion sampling:   0%|          | 0/20 [00:00<?, ?it/s]"
      ]
     },
     "metadata": {},
     "output_type": "display_data"
    },
    {
     "data": {
      "application/vnd.jupyter.widget-view+json": {
       "model_id": "e7956feca07744d29b87fde57debeb39",
       "version_major": 2,
       "version_minor": 0
      },
      "text/plain": [
       "diffusion sampling:   0%|          | 0/20 [00:00<?, ?it/s]"
      ]
     },
     "metadata": {},
     "output_type": "display_data"
    },
    {
     "data": {
      "application/vnd.jupyter.widget-view+json": {
       "model_id": "feb3d32fb38a4de6995b31a0d47e5ce8",
       "version_major": 2,
       "version_minor": 0
      },
      "text/plain": [
       "class hypothsis:   0%|          | 0/3 [00:00<?, ?it/s]"
      ]
     },
     "metadata": {},
     "output_type": "display_data"
    },
    {
     "data": {
      "application/vnd.jupyter.widget-view+json": {
       "model_id": "eb4024ef07f24e799327358fc12f0631",
       "version_major": 2,
       "version_minor": 0
      },
      "text/plain": [
       "diffusion sampling:   0%|          | 0/20 [00:00<?, ?it/s]"
      ]
     },
     "metadata": {},
     "output_type": "display_data"
    },
    {
     "data": {
      "application/vnd.jupyter.widget-view+json": {
       "model_id": "acc78a58008c4205952fb254b90a4028",
       "version_major": 2,
       "version_minor": 0
      },
      "text/plain": [
       "diffusion sampling:   0%|          | 0/20 [00:00<?, ?it/s]"
      ]
     },
     "metadata": {},
     "output_type": "display_data"
    },
    {
     "data": {
      "application/vnd.jupyter.widget-view+json": {
       "model_id": "391cdaf3ae15474db051cf35305de968",
       "version_major": 2,
       "version_minor": 0
      },
      "text/plain": [
       "diffusion sampling:   0%|          | 0/20 [00:00<?, ?it/s]"
      ]
     },
     "metadata": {},
     "output_type": "display_data"
    },
    {
     "data": {
      "application/vnd.jupyter.widget-view+json": {
       "model_id": "8ca872a17ae74897afc717b278b3d9d1",
       "version_major": 2,
       "version_minor": 0
      },
      "text/plain": [
       "class hypothsis:   0%|          | 0/3 [00:00<?, ?it/s]"
      ]
     },
     "metadata": {},
     "output_type": "display_data"
    },
    {
     "data": {
      "application/vnd.jupyter.widget-view+json": {
       "model_id": "6f73b60565304cfc890cc47701664b4b",
       "version_major": 2,
       "version_minor": 0
      },
      "text/plain": [
       "diffusion sampling:   0%|          | 0/20 [00:00<?, ?it/s]"
      ]
     },
     "metadata": {},
     "output_type": "display_data"
    },
    {
     "data": {
      "application/vnd.jupyter.widget-view+json": {
       "model_id": "fcc56e47d7574990a6163c978cc560bb",
       "version_major": 2,
       "version_minor": 0
      },
      "text/plain": [
       "diffusion sampling:   0%|          | 0/20 [00:00<?, ?it/s]"
      ]
     },
     "metadata": {},
     "output_type": "display_data"
    },
    {
     "data": {
      "application/vnd.jupyter.widget-view+json": {
       "model_id": "8458a2fa4edc4267bc23929aedc93a0a",
       "version_major": 2,
       "version_minor": 0
      },
      "text/plain": [
       "diffusion sampling:   0%|          | 0/20 [00:00<?, ?it/s]"
      ]
     },
     "metadata": {},
     "output_type": "display_data"
    },
    {
     "data": {
      "application/vnd.jupyter.widget-view+json": {
       "model_id": "6fe08375718a468b86b85cc0fb8fefc0",
       "version_major": 2,
       "version_minor": 0
      },
      "text/plain": [
       "class hypothsis:   0%|          | 0/3 [00:00<?, ?it/s]"
      ]
     },
     "metadata": {},
     "output_type": "display_data"
    },
    {
     "data": {
      "application/vnd.jupyter.widget-view+json": {
       "model_id": "bb00c5755f694683b6bb7bf15a648e46",
       "version_major": 2,
       "version_minor": 0
      },
      "text/plain": [
       "diffusion sampling:   0%|          | 0/20 [00:00<?, ?it/s]"
      ]
     },
     "metadata": {},
     "output_type": "display_data"
    },
    {
     "data": {
      "application/vnd.jupyter.widget-view+json": {
       "model_id": "e8ed9f81d55849c6864f582033eddf6b",
       "version_major": 2,
       "version_minor": 0
      },
      "text/plain": [
       "diffusion sampling:   0%|          | 0/20 [00:00<?, ?it/s]"
      ]
     },
     "metadata": {},
     "output_type": "display_data"
    },
    {
     "data": {
      "application/vnd.jupyter.widget-view+json": {
       "model_id": "35524f9acab04614bd2daa07d2b9a17e",
       "version_major": 2,
       "version_minor": 0
      },
      "text/plain": [
       "diffusion sampling:   0%|          | 0/20 [00:00<?, ?it/s]"
      ]
     },
     "metadata": {},
     "output_type": "display_data"
    },
    {
     "data": {
      "application/vnd.jupyter.widget-view+json": {
       "model_id": "bd5b5f479fdc419c803509b39a734458",
       "version_major": 2,
       "version_minor": 0
      },
      "text/plain": [
       "class hypothsis:   0%|          | 0/3 [00:00<?, ?it/s]"
      ]
     },
     "metadata": {},
     "output_type": "display_data"
    },
    {
     "data": {
      "application/vnd.jupyter.widget-view+json": {
       "model_id": "f728ea8c1ca2456eaa3fcbc26a095535",
       "version_major": 2,
       "version_minor": 0
      },
      "text/plain": [
       "diffusion sampling:   0%|          | 0/20 [00:00<?, ?it/s]"
      ]
     },
     "metadata": {},
     "output_type": "display_data"
    },
    {
     "data": {
      "application/vnd.jupyter.widget-view+json": {
       "model_id": "fda694a44088426ebb1568c97183beb3",
       "version_major": 2,
       "version_minor": 0
      },
      "text/plain": [
       "diffusion sampling:   0%|          | 0/20 [00:00<?, ?it/s]"
      ]
     },
     "metadata": {},
     "output_type": "display_data"
    },
    {
     "data": {
      "application/vnd.jupyter.widget-view+json": {
       "model_id": "60626dc88bdf46e18f8c74b1df63e1a1",
       "version_major": 2,
       "version_minor": 0
      },
      "text/plain": [
       "diffusion sampling:   0%|          | 0/20 [00:00<?, ?it/s]"
      ]
     },
     "metadata": {},
     "output_type": "display_data"
    },
    {
     "data": {
      "application/vnd.jupyter.widget-view+json": {
       "model_id": "c2b507dfebbd4ebd913cdc0dc3705e16",
       "version_major": 2,
       "version_minor": 0
      },
      "text/plain": [
       "class hypothsis:   0%|          | 0/3 [00:00<?, ?it/s]"
      ]
     },
     "metadata": {},
     "output_type": "display_data"
    },
    {
     "data": {
      "application/vnd.jupyter.widget-view+json": {
       "model_id": "af34f0ba2d124df2991a511631ecec41",
       "version_major": 2,
       "version_minor": 0
      },
      "text/plain": [
       "diffusion sampling:   0%|          | 0/20 [00:00<?, ?it/s]"
      ]
     },
     "metadata": {},
     "output_type": "display_data"
    },
    {
     "data": {
      "application/vnd.jupyter.widget-view+json": {
       "model_id": "4fc0cd88bf0f494f9520afa52e32326f",
       "version_major": 2,
       "version_minor": 0
      },
      "text/plain": [
       "diffusion sampling:   0%|          | 0/20 [00:00<?, ?it/s]"
      ]
     },
     "metadata": {},
     "output_type": "display_data"
    },
    {
     "data": {
      "application/vnd.jupyter.widget-view+json": {
       "model_id": "d81b0bbb7001426686ad6a41b5188170",
       "version_major": 2,
       "version_minor": 0
      },
      "text/plain": [
       "diffusion sampling:   0%|          | 0/20 [00:00<?, ?it/s]"
      ]
     },
     "metadata": {},
     "output_type": "display_data"
    },
    {
     "data": {
      "application/vnd.jupyter.widget-view+json": {
       "model_id": "53bb45b1a5f94dc2855195a280ac1c3a",
       "version_major": 2,
       "version_minor": 0
      },
      "text/plain": [
       "class hypothsis:   0%|          | 0/3 [00:00<?, ?it/s]"
      ]
     },
     "metadata": {},
     "output_type": "display_data"
    },
    {
     "data": {
      "application/vnd.jupyter.widget-view+json": {
       "model_id": "0f6e10c14343463ea290136534de0b28",
       "version_major": 2,
       "version_minor": 0
      },
      "text/plain": [
       "diffusion sampling:   0%|          | 0/20 [00:00<?, ?it/s]"
      ]
     },
     "metadata": {},
     "output_type": "display_data"
    },
    {
     "data": {
      "application/vnd.jupyter.widget-view+json": {
       "model_id": "7b326726cb9e4f7ebce0647fa145ebea",
       "version_major": 2,
       "version_minor": 0
      },
      "text/plain": [
       "diffusion sampling:   0%|          | 0/20 [00:00<?, ?it/s]"
      ]
     },
     "metadata": {},
     "output_type": "display_data"
    },
    {
     "data": {
      "application/vnd.jupyter.widget-view+json": {
       "model_id": "e86e8217e165494abaa555f69774ca37",
       "version_major": 2,
       "version_minor": 0
      },
      "text/plain": [
       "diffusion sampling:   0%|          | 0/20 [00:00<?, ?it/s]"
      ]
     },
     "metadata": {},
     "output_type": "display_data"
    },
    {
     "data": {
      "application/vnd.jupyter.widget-view+json": {
       "model_id": "4c4ed462c5ff41f9821fa05691dfe195",
       "version_major": 2,
       "version_minor": 0
      },
      "text/plain": [
       "class hypothsis:   0%|          | 0/3 [00:00<?, ?it/s]"
      ]
     },
     "metadata": {},
     "output_type": "display_data"
    },
    {
     "data": {
      "application/vnd.jupyter.widget-view+json": {
       "model_id": "397680c044204fd8a171cecd267ec830",
       "version_major": 2,
       "version_minor": 0
      },
      "text/plain": [
       "diffusion sampling:   0%|          | 0/20 [00:00<?, ?it/s]"
      ]
     },
     "metadata": {},
     "output_type": "display_data"
    },
    {
     "data": {
      "application/vnd.jupyter.widget-view+json": {
       "model_id": "d9bf2137990545cfbbe2f6798c529547",
       "version_major": 2,
       "version_minor": 0
      },
      "text/plain": [
       "diffusion sampling:   0%|          | 0/20 [00:00<?, ?it/s]"
      ]
     },
     "metadata": {},
     "output_type": "display_data"
    },
    {
     "data": {
      "application/vnd.jupyter.widget-view+json": {
       "model_id": "759de0aeb15044408172a8b86b731801",
       "version_major": 2,
       "version_minor": 0
      },
      "text/plain": [
       "diffusion sampling:   0%|          | 0/20 [00:00<?, ?it/s]"
      ]
     },
     "metadata": {},
     "output_type": "display_data"
    },
    {
     "data": {
      "application/vnd.jupyter.widget-view+json": {
       "model_id": "96cabb9e79a847d29481425d4931dcf3",
       "version_major": 2,
       "version_minor": 0
      },
      "text/plain": [
       "class hypothsis:   0%|          | 0/3 [00:00<?, ?it/s]"
      ]
     },
     "metadata": {},
     "output_type": "display_data"
    },
    {
     "data": {
      "application/vnd.jupyter.widget-view+json": {
       "model_id": "1a66d92eefd74b4ebccbcea77967f80d",
       "version_major": 2,
       "version_minor": 0
      },
      "text/plain": [
       "diffusion sampling:   0%|          | 0/20 [00:00<?, ?it/s]"
      ]
     },
     "metadata": {},
     "output_type": "display_data"
    },
    {
     "data": {
      "application/vnd.jupyter.widget-view+json": {
       "model_id": "5a59da87f7a24470a16d4cfcc563081d",
       "version_major": 2,
       "version_minor": 0
      },
      "text/plain": [
       "diffusion sampling:   0%|          | 0/20 [00:00<?, ?it/s]"
      ]
     },
     "metadata": {},
     "output_type": "display_data"
    },
    {
     "data": {
      "application/vnd.jupyter.widget-view+json": {
       "model_id": "6c210c230ba7487db6c1f2364d284b36",
       "version_major": 2,
       "version_minor": 0
      },
      "text/plain": [
       "diffusion sampling:   0%|          | 0/20 [00:00<?, ?it/s]"
      ]
     },
     "metadata": {},
     "output_type": "display_data"
    },
    {
     "data": {
      "application/vnd.jupyter.widget-view+json": {
       "model_id": "29f64d6f22374e9eae6640e0457be68e",
       "version_major": 2,
       "version_minor": 0
      },
      "text/plain": [
       "class hypothsis:   0%|          | 0/3 [00:00<?, ?it/s]"
      ]
     },
     "metadata": {},
     "output_type": "display_data"
    },
    {
     "data": {
      "application/vnd.jupyter.widget-view+json": {
       "model_id": "675780282e564e65848b06a61076d0dc",
       "version_major": 2,
       "version_minor": 0
      },
      "text/plain": [
       "diffusion sampling:   0%|          | 0/20 [00:00<?, ?it/s]"
      ]
     },
     "metadata": {},
     "output_type": "display_data"
    },
    {
     "data": {
      "application/vnd.jupyter.widget-view+json": {
       "model_id": "ccf2262581d14141afae28237d5849c8",
       "version_major": 2,
       "version_minor": 0
      },
      "text/plain": [
       "diffusion sampling:   0%|          | 0/20 [00:00<?, ?it/s]"
      ]
     },
     "metadata": {},
     "output_type": "display_data"
    },
    {
     "data": {
      "application/vnd.jupyter.widget-view+json": {
       "model_id": "016cc1dfa8ee46ee83afc8c180ce0a48",
       "version_major": 2,
       "version_minor": 0
      },
      "text/plain": [
       "diffusion sampling:   0%|          | 0/20 [00:00<?, ?it/s]"
      ]
     },
     "metadata": {},
     "output_type": "display_data"
    },
    {
     "data": {
      "application/vnd.jupyter.widget-view+json": {
       "model_id": "8bba488b603e43b2aca5e369ea28fab5",
       "version_major": 2,
       "version_minor": 0
      },
      "text/plain": [
       "class hypothsis:   0%|          | 0/3 [00:00<?, ?it/s]"
      ]
     },
     "metadata": {},
     "output_type": "display_data"
    },
    {
     "data": {
      "application/vnd.jupyter.widget-view+json": {
       "model_id": "6af5f16fcdd542ac9ad577c25261a8f3",
       "version_major": 2,
       "version_minor": 0
      },
      "text/plain": [
       "diffusion sampling:   0%|          | 0/20 [00:00<?, ?it/s]"
      ]
     },
     "metadata": {},
     "output_type": "display_data"
    },
    {
     "data": {
      "application/vnd.jupyter.widget-view+json": {
       "model_id": "e4662d2485814ed1abf33f86ba3c91de",
       "version_major": 2,
       "version_minor": 0
      },
      "text/plain": [
       "diffusion sampling:   0%|          | 0/20 [00:00<?, ?it/s]"
      ]
     },
     "metadata": {},
     "output_type": "display_data"
    },
    {
     "data": {
      "application/vnd.jupyter.widget-view+json": {
       "model_id": "a28dcfd78fad446e9938fb37be90bb15",
       "version_major": 2,
       "version_minor": 0
      },
      "text/plain": [
       "diffusion sampling:   0%|          | 0/20 [00:00<?, ?it/s]"
      ]
     },
     "metadata": {},
     "output_type": "display_data"
    },
    {
     "data": {
      "application/vnd.jupyter.widget-view+json": {
       "model_id": "6912c43648ad4fc5b3b5d6efda4f2089",
       "version_major": 2,
       "version_minor": 0
      },
      "text/plain": [
       "class hypothsis:   0%|          | 0/3 [00:00<?, ?it/s]"
      ]
     },
     "metadata": {},
     "output_type": "display_data"
    },
    {
     "data": {
      "application/vnd.jupyter.widget-view+json": {
       "model_id": "059fed8496d949fea593272859b48471",
       "version_major": 2,
       "version_minor": 0
      },
      "text/plain": [
       "diffusion sampling:   0%|          | 0/20 [00:00<?, ?it/s]"
      ]
     },
     "metadata": {},
     "output_type": "display_data"
    },
    {
     "data": {
      "application/vnd.jupyter.widget-view+json": {
       "model_id": "97d84bb6ef9444dd8834984ca9c738df",
       "version_major": 2,
       "version_minor": 0
      },
      "text/plain": [
       "diffusion sampling:   0%|          | 0/20 [00:00<?, ?it/s]"
      ]
     },
     "metadata": {},
     "output_type": "display_data"
    },
    {
     "data": {
      "application/vnd.jupyter.widget-view+json": {
       "model_id": "9c4046a04b474961a806c41a4dea9e6d",
       "version_major": 2,
       "version_minor": 0
      },
      "text/plain": [
       "diffusion sampling:   0%|          | 0/20 [00:00<?, ?it/s]"
      ]
     },
     "metadata": {},
     "output_type": "display_data"
    },
    {
     "data": {
      "application/vnd.jupyter.widget-view+json": {
       "model_id": "809f6234ed7b4fd886884fa0583bf194",
       "version_major": 2,
       "version_minor": 0
      },
      "text/plain": [
       "class hypothsis:   0%|          | 0/3 [00:00<?, ?it/s]"
      ]
     },
     "metadata": {},
     "output_type": "display_data"
    },
    {
     "data": {
      "application/vnd.jupyter.widget-view+json": {
       "model_id": "5df509a7191e41158927d6036cbb5624",
       "version_major": 2,
       "version_minor": 0
      },
      "text/plain": [
       "diffusion sampling:   0%|          | 0/20 [00:00<?, ?it/s]"
      ]
     },
     "metadata": {},
     "output_type": "display_data"
    },
    {
     "data": {
      "application/vnd.jupyter.widget-view+json": {
       "model_id": "a056fc2964bc4d1f867da608a60bec63",
       "version_major": 2,
       "version_minor": 0
      },
      "text/plain": [
       "diffusion sampling:   0%|          | 0/20 [00:00<?, ?it/s]"
      ]
     },
     "metadata": {},
     "output_type": "display_data"
    },
    {
     "data": {
      "application/vnd.jupyter.widget-view+json": {
       "model_id": "c72ebd4b86054240bf895bf1d926a9bd",
       "version_major": 2,
       "version_minor": 0
      },
      "text/plain": [
       "diffusion sampling:   0%|          | 0/20 [00:00<?, ?it/s]"
      ]
     },
     "metadata": {},
     "output_type": "display_data"
    },
    {
     "data": {
      "application/vnd.jupyter.widget-view+json": {
       "model_id": "565f76677cf54544a171c9e7c0660ed6",
       "version_major": 2,
       "version_minor": 0
      },
      "text/plain": [
       "class hypothsis:   0%|          | 0/3 [00:00<?, ?it/s]"
      ]
     },
     "metadata": {},
     "output_type": "display_data"
    },
    {
     "data": {
      "application/vnd.jupyter.widget-view+json": {
       "model_id": "1d09cc56707d4aa68d8a8f7235488b6f",
       "version_major": 2,
       "version_minor": 0
      },
      "text/plain": [
       "diffusion sampling:   0%|          | 0/20 [00:00<?, ?it/s]"
      ]
     },
     "metadata": {},
     "output_type": "display_data"
    },
    {
     "data": {
      "application/vnd.jupyter.widget-view+json": {
       "model_id": "4b59538d9cbe4a4a9e9d793d4d468c86",
       "version_major": 2,
       "version_minor": 0
      },
      "text/plain": [
       "diffusion sampling:   0%|          | 0/20 [00:00<?, ?it/s]"
      ]
     },
     "metadata": {},
     "output_type": "display_data"
    },
    {
     "data": {
      "application/vnd.jupyter.widget-view+json": {
       "model_id": "f47c6e64f63b4747bf5ede720437b83b",
       "version_major": 2,
       "version_minor": 0
      },
      "text/plain": [
       "diffusion sampling:   0%|          | 0/20 [00:00<?, ?it/s]"
      ]
     },
     "metadata": {},
     "output_type": "display_data"
    },
    {
     "data": {
      "application/vnd.jupyter.widget-view+json": {
       "model_id": "9588839438cb4e94baabb45665897ffe",
       "version_major": 2,
       "version_minor": 0
      },
      "text/plain": [
       "class hypothsis:   0%|          | 0/3 [00:00<?, ?it/s]"
      ]
     },
     "metadata": {},
     "output_type": "display_data"
    },
    {
     "data": {
      "application/vnd.jupyter.widget-view+json": {
       "model_id": "e73e60b931ba494badcce395a93d8810",
       "version_major": 2,
       "version_minor": 0
      },
      "text/plain": [
       "diffusion sampling:   0%|          | 0/20 [00:00<?, ?it/s]"
      ]
     },
     "metadata": {},
     "output_type": "display_data"
    },
    {
     "data": {
      "application/vnd.jupyter.widget-view+json": {
       "model_id": "b7268b1bfaca476bbb89617ba2b747bc",
       "version_major": 2,
       "version_minor": 0
      },
      "text/plain": [
       "diffusion sampling:   0%|          | 0/20 [00:00<?, ?it/s]"
      ]
     },
     "metadata": {},
     "output_type": "display_data"
    },
    {
     "data": {
      "application/vnd.jupyter.widget-view+json": {
       "model_id": "20fc75ec71a04d83902e6ca6aef39639",
       "version_major": 2,
       "version_minor": 0
      },
      "text/plain": [
       "diffusion sampling:   0%|          | 0/20 [00:00<?, ?it/s]"
      ]
     },
     "metadata": {},
     "output_type": "display_data"
    },
    {
     "data": {
      "application/vnd.jupyter.widget-view+json": {
       "model_id": "267c9dea25a54bb6a932f89dc464250f",
       "version_major": 2,
       "version_minor": 0
      },
      "text/plain": [
       "class hypothsis:   0%|          | 0/3 [00:00<?, ?it/s]"
      ]
     },
     "metadata": {},
     "output_type": "display_data"
    },
    {
     "data": {
      "application/vnd.jupyter.widget-view+json": {
       "model_id": "0992324509f542d282e7a553ccd6dacf",
       "version_major": 2,
       "version_minor": 0
      },
      "text/plain": [
       "diffusion sampling:   0%|          | 0/20 [00:00<?, ?it/s]"
      ]
     },
     "metadata": {},
     "output_type": "display_data"
    },
    {
     "data": {
      "application/vnd.jupyter.widget-view+json": {
       "model_id": "fadb8b8211ac404eb646643b2f3449b9",
       "version_major": 2,
       "version_minor": 0
      },
      "text/plain": [
       "diffusion sampling:   0%|          | 0/20 [00:00<?, ?it/s]"
      ]
     },
     "metadata": {},
     "output_type": "display_data"
    },
    {
     "data": {
      "application/vnd.jupyter.widget-view+json": {
       "model_id": "1427c7208b014b16a92c39066319bb1b",
       "version_major": 2,
       "version_minor": 0
      },
      "text/plain": [
       "diffusion sampling:   0%|          | 0/20 [00:00<?, ?it/s]"
      ]
     },
     "metadata": {},
     "output_type": "display_data"
    },
    {
     "data": {
      "application/vnd.jupyter.widget-view+json": {
       "model_id": "742f60363d2648f5bb77dd500ba38830",
       "version_major": 2,
       "version_minor": 0
      },
      "text/plain": [
       "class hypothsis:   0%|          | 0/3 [00:00<?, ?it/s]"
      ]
     },
     "metadata": {},
     "output_type": "display_data"
    },
    {
     "data": {
      "application/vnd.jupyter.widget-view+json": {
       "model_id": "7384191d8caf45e782cc329c8d280434",
       "version_major": 2,
       "version_minor": 0
      },
      "text/plain": [
       "diffusion sampling:   0%|          | 0/20 [00:00<?, ?it/s]"
      ]
     },
     "metadata": {},
     "output_type": "display_data"
    },
    {
     "data": {
      "application/vnd.jupyter.widget-view+json": {
       "model_id": "7bbf1f1dd5664da984090b364b0eb8da",
       "version_major": 2,
       "version_minor": 0
      },
      "text/plain": [
       "diffusion sampling:   0%|          | 0/20 [00:00<?, ?it/s]"
      ]
     },
     "metadata": {},
     "output_type": "display_data"
    },
    {
     "data": {
      "application/vnd.jupyter.widget-view+json": {
       "model_id": "84bd64ce8f594d2bb62f2a3bea860060",
       "version_major": 2,
       "version_minor": 0
      },
      "text/plain": [
       "diffusion sampling:   0%|          | 0/20 [00:00<?, ?it/s]"
      ]
     },
     "metadata": {},
     "output_type": "display_data"
    },
    {
     "data": {
      "application/vnd.jupyter.widget-view+json": {
       "model_id": "f4f204cc1a1347acb99f072564ca74d5",
       "version_major": 2,
       "version_minor": 0
      },
      "text/plain": [
       "class hypothsis:   0%|          | 0/3 [00:00<?, ?it/s]"
      ]
     },
     "metadata": {},
     "output_type": "display_data"
    },
    {
     "data": {
      "application/vnd.jupyter.widget-view+json": {
       "model_id": "e7ad439b91b34127ae201a5fa7d73b85",
       "version_major": 2,
       "version_minor": 0
      },
      "text/plain": [
       "diffusion sampling:   0%|          | 0/20 [00:00<?, ?it/s]"
      ]
     },
     "metadata": {},
     "output_type": "display_data"
    },
    {
     "data": {
      "application/vnd.jupyter.widget-view+json": {
       "model_id": "dc7eb8ed8f814a8680b74584637e7acd",
       "version_major": 2,
       "version_minor": 0
      },
      "text/plain": [
       "diffusion sampling:   0%|          | 0/20 [00:00<?, ?it/s]"
      ]
     },
     "metadata": {},
     "output_type": "display_data"
    },
    {
     "data": {
      "application/vnd.jupyter.widget-view+json": {
       "model_id": "f805aef8e20c4e02919872bf7153e021",
       "version_major": 2,
       "version_minor": 0
      },
      "text/plain": [
       "diffusion sampling:   0%|          | 0/20 [00:00<?, ?it/s]"
      ]
     },
     "metadata": {},
     "output_type": "display_data"
    },
    {
     "data": {
      "application/vnd.jupyter.widget-view+json": {
       "model_id": "7299f3bd5fcb4c99ba326bf21ed94c27",
       "version_major": 2,
       "version_minor": 0
      },
      "text/plain": [
       "class hypothsis:   0%|          | 0/3 [00:00<?, ?it/s]"
      ]
     },
     "metadata": {},
     "output_type": "display_data"
    },
    {
     "data": {
      "application/vnd.jupyter.widget-view+json": {
       "model_id": "3603fd12c7424c31bb12ee1f46c494c4",
       "version_major": 2,
       "version_minor": 0
      },
      "text/plain": [
       "diffusion sampling:   0%|          | 0/20 [00:00<?, ?it/s]"
      ]
     },
     "metadata": {},
     "output_type": "display_data"
    },
    {
     "data": {
      "application/vnd.jupyter.widget-view+json": {
       "model_id": "917e6fbcacbf434b81fc618f9951e1a4",
       "version_major": 2,
       "version_minor": 0
      },
      "text/plain": [
       "diffusion sampling:   0%|          | 0/20 [00:00<?, ?it/s]"
      ]
     },
     "metadata": {},
     "output_type": "display_data"
    },
    {
     "data": {
      "application/vnd.jupyter.widget-view+json": {
       "model_id": "7b80553c1aab419f805f02ec0f5603cb",
       "version_major": 2,
       "version_minor": 0
      },
      "text/plain": [
       "diffusion sampling:   0%|          | 0/20 [00:00<?, ?it/s]"
      ]
     },
     "metadata": {},
     "output_type": "display_data"
    },
    {
     "data": {
      "application/vnd.jupyter.widget-view+json": {
       "model_id": "d441278474694c8dba96cf6c4d126e7e",
       "version_major": 2,
       "version_minor": 0
      },
      "text/plain": [
       "class hypothsis:   0%|          | 0/3 [00:00<?, ?it/s]"
      ]
     },
     "metadata": {},
     "output_type": "display_data"
    },
    {
     "data": {
      "application/vnd.jupyter.widget-view+json": {
       "model_id": "01aef3756d3e451c994f3f6efeb7f288",
       "version_major": 2,
       "version_minor": 0
      },
      "text/plain": [
       "diffusion sampling:   0%|          | 0/20 [00:00<?, ?it/s]"
      ]
     },
     "metadata": {},
     "output_type": "display_data"
    },
    {
     "data": {
      "application/vnd.jupyter.widget-view+json": {
       "model_id": "1acb9d5c6a5c48c4becdad7b8b31e297",
       "version_major": 2,
       "version_minor": 0
      },
      "text/plain": [
       "diffusion sampling:   0%|          | 0/20 [00:00<?, ?it/s]"
      ]
     },
     "metadata": {},
     "output_type": "display_data"
    },
    {
     "data": {
      "application/vnd.jupyter.widget-view+json": {
       "model_id": "55bf3d2d6d1a4fac8495db26277f4111",
       "version_major": 2,
       "version_minor": 0
      },
      "text/plain": [
       "diffusion sampling:   0%|          | 0/20 [00:00<?, ?it/s]"
      ]
     },
     "metadata": {},
     "output_type": "display_data"
    },
    {
     "data": {
      "application/vnd.jupyter.widget-view+json": {
       "model_id": "d364a548c07a4a57b39df74ad8942ab8",
       "version_major": 2,
       "version_minor": 0
      },
      "text/plain": [
       "class hypothsis:   0%|          | 0/3 [00:00<?, ?it/s]"
      ]
     },
     "metadata": {},
     "output_type": "display_data"
    },
    {
     "data": {
      "application/vnd.jupyter.widget-view+json": {
       "model_id": "5d4a2f129117453b984e54c0545ea3e9",
       "version_major": 2,
       "version_minor": 0
      },
      "text/plain": [
       "diffusion sampling:   0%|          | 0/20 [00:00<?, ?it/s]"
      ]
     },
     "metadata": {},
     "output_type": "display_data"
    },
    {
     "data": {
      "application/vnd.jupyter.widget-view+json": {
       "model_id": "ddc12066448c40ec8c941f7b501c7e68",
       "version_major": 2,
       "version_minor": 0
      },
      "text/plain": [
       "diffusion sampling:   0%|          | 0/20 [00:00<?, ?it/s]"
      ]
     },
     "metadata": {},
     "output_type": "display_data"
    },
    {
     "data": {
      "application/vnd.jupyter.widget-view+json": {
       "model_id": "b448136963d042e5a60906e514c93096",
       "version_major": 2,
       "version_minor": 0
      },
      "text/plain": [
       "diffusion sampling:   0%|          | 0/20 [00:00<?, ?it/s]"
      ]
     },
     "metadata": {},
     "output_type": "display_data"
    },
    {
     "data": {
      "application/vnd.jupyter.widget-view+json": {
       "model_id": "c9c5e0ce91d2456cb0c95c7a7082c00c",
       "version_major": 2,
       "version_minor": 0
      },
      "text/plain": [
       "class hypothsis:   0%|          | 0/3 [00:00<?, ?it/s]"
      ]
     },
     "metadata": {},
     "output_type": "display_data"
    },
    {
     "data": {
      "application/vnd.jupyter.widget-view+json": {
       "model_id": "eef60e8e4bef471c927e396569df483d",
       "version_major": 2,
       "version_minor": 0
      },
      "text/plain": [
       "diffusion sampling:   0%|          | 0/20 [00:00<?, ?it/s]"
      ]
     },
     "metadata": {},
     "output_type": "display_data"
    },
    {
     "data": {
      "application/vnd.jupyter.widget-view+json": {
       "model_id": "36bc3bcf0f93490d9e6d19919d2d5a57",
       "version_major": 2,
       "version_minor": 0
      },
      "text/plain": [
       "diffusion sampling:   0%|          | 0/20 [00:00<?, ?it/s]"
      ]
     },
     "metadata": {},
     "output_type": "display_data"
    },
    {
     "data": {
      "application/vnd.jupyter.widget-view+json": {
       "model_id": "4d35348441cc4f95860cae66fc1c7247",
       "version_major": 2,
       "version_minor": 0
      },
      "text/plain": [
       "diffusion sampling:   0%|          | 0/20 [00:00<?, ?it/s]"
      ]
     },
     "metadata": {},
     "output_type": "display_data"
    },
    {
     "data": {
      "application/vnd.jupyter.widget-view+json": {
       "model_id": "7436da56c8ce4da28d9daf6106d5d7bd",
       "version_major": 2,
       "version_minor": 0
      },
      "text/plain": [
       "class hypothsis:   0%|          | 0/3 [00:00<?, ?it/s]"
      ]
     },
     "metadata": {},
     "output_type": "display_data"
    },
    {
     "data": {
      "application/vnd.jupyter.widget-view+json": {
       "model_id": "0f36bb418dbc4df3920df65bb8ab7419",
       "version_major": 2,
       "version_minor": 0
      },
      "text/plain": [
       "diffusion sampling:   0%|          | 0/20 [00:00<?, ?it/s]"
      ]
     },
     "metadata": {},
     "output_type": "display_data"
    },
    {
     "data": {
      "application/vnd.jupyter.widget-view+json": {
       "model_id": "6a2ebb949a3442f083b4b55a54fb1dc0",
       "version_major": 2,
       "version_minor": 0
      },
      "text/plain": [
       "diffusion sampling:   0%|          | 0/20 [00:00<?, ?it/s]"
      ]
     },
     "metadata": {},
     "output_type": "display_data"
    },
    {
     "data": {
      "application/vnd.jupyter.widget-view+json": {
       "model_id": "8b71be4dbfdf4f64b260bc5af4590f15",
       "version_major": 2,
       "version_minor": 0
      },
      "text/plain": [
       "diffusion sampling:   0%|          | 0/20 [00:00<?, ?it/s]"
      ]
     },
     "metadata": {},
     "output_type": "display_data"
    },
    {
     "data": {
      "application/vnd.jupyter.widget-view+json": {
       "model_id": "5bda8d0b21584f7c8f0ec05fd32c063f",
       "version_major": 2,
       "version_minor": 0
      },
      "text/plain": [
       "class hypothsis:   0%|          | 0/3 [00:00<?, ?it/s]"
      ]
     },
     "metadata": {},
     "output_type": "display_data"
    },
    {
     "data": {
      "application/vnd.jupyter.widget-view+json": {
       "model_id": "d19dbb7da3904be6aacdb626df437556",
       "version_major": 2,
       "version_minor": 0
      },
      "text/plain": [
       "diffusion sampling:   0%|          | 0/20 [00:00<?, ?it/s]"
      ]
     },
     "metadata": {},
     "output_type": "display_data"
    },
    {
     "data": {
      "application/vnd.jupyter.widget-view+json": {
       "model_id": "8f171ca2d9db4bd59a2c2458b30ca373",
       "version_major": 2,
       "version_minor": 0
      },
      "text/plain": [
       "diffusion sampling:   0%|          | 0/20 [00:00<?, ?it/s]"
      ]
     },
     "metadata": {},
     "output_type": "display_data"
    },
    {
     "data": {
      "application/vnd.jupyter.widget-view+json": {
       "model_id": "07e4455e36844d6c9fb6dd5631dd6467",
       "version_major": 2,
       "version_minor": 0
      },
      "text/plain": [
       "diffusion sampling:   0%|          | 0/20 [00:00<?, ?it/s]"
      ]
     },
     "metadata": {},
     "output_type": "display_data"
    },
    {
     "data": {
      "application/vnd.jupyter.widget-view+json": {
       "model_id": "7cf77cab19834eed8e8c04fe4898bded",
       "version_major": 2,
       "version_minor": 0
      },
      "text/plain": [
       "class hypothsis:   0%|          | 0/3 [00:00<?, ?it/s]"
      ]
     },
     "metadata": {},
     "output_type": "display_data"
    },
    {
     "data": {
      "application/vnd.jupyter.widget-view+json": {
       "model_id": "7f32a2b7d84640db8b7f21a2cfae1da0",
       "version_major": 2,
       "version_minor": 0
      },
      "text/plain": [
       "diffusion sampling:   0%|          | 0/20 [00:00<?, ?it/s]"
      ]
     },
     "metadata": {},
     "output_type": "display_data"
    },
    {
     "data": {
      "application/vnd.jupyter.widget-view+json": {
       "model_id": "1bc029ac01a640428730f70b79cf1a18",
       "version_major": 2,
       "version_minor": 0
      },
      "text/plain": [
       "diffusion sampling:   0%|          | 0/20 [00:00<?, ?it/s]"
      ]
     },
     "metadata": {},
     "output_type": "display_data"
    },
    {
     "data": {
      "application/vnd.jupyter.widget-view+json": {
       "model_id": "f13a9f5a8b6e480db2620f40b17c26b4",
       "version_major": 2,
       "version_minor": 0
      },
      "text/plain": [
       "diffusion sampling:   0%|          | 0/20 [00:00<?, ?it/s]"
      ]
     },
     "metadata": {},
     "output_type": "display_data"
    },
    {
     "data": {
      "application/vnd.jupyter.widget-view+json": {
       "model_id": "11372828a62a4891b4a57146c2f747da",
       "version_major": 2,
       "version_minor": 0
      },
      "text/plain": [
       "class hypothsis:   0%|          | 0/3 [00:00<?, ?it/s]"
      ]
     },
     "metadata": {},
     "output_type": "display_data"
    },
    {
     "data": {
      "application/vnd.jupyter.widget-view+json": {
       "model_id": "7ac2963bbb5241a9a08b78ecadaf35c0",
       "version_major": 2,
       "version_minor": 0
      },
      "text/plain": [
       "diffusion sampling:   0%|          | 0/20 [00:00<?, ?it/s]"
      ]
     },
     "metadata": {},
     "output_type": "display_data"
    },
    {
     "data": {
      "application/vnd.jupyter.widget-view+json": {
       "model_id": "7188ee2b44624584af6908102168c2b4",
       "version_major": 2,
       "version_minor": 0
      },
      "text/plain": [
       "diffusion sampling:   0%|          | 0/20 [00:00<?, ?it/s]"
      ]
     },
     "metadata": {},
     "output_type": "display_data"
    },
    {
     "data": {
      "application/vnd.jupyter.widget-view+json": {
       "model_id": "4ed4573067614a43804ea98122561e17",
       "version_major": 2,
       "version_minor": 0
      },
      "text/plain": [
       "diffusion sampling:   0%|          | 0/20 [00:00<?, ?it/s]"
      ]
     },
     "metadata": {},
     "output_type": "display_data"
    },
    {
     "data": {
      "application/vnd.jupyter.widget-view+json": {
       "model_id": "de496380994c4526b23cd4712c336e32",
       "version_major": 2,
       "version_minor": 0
      },
      "text/plain": [
       "class hypothsis:   0%|          | 0/3 [00:00<?, ?it/s]"
      ]
     },
     "metadata": {},
     "output_type": "display_data"
    },
    {
     "data": {
      "application/vnd.jupyter.widget-view+json": {
       "model_id": "2262a44935d543e7aaff5b6350a9da38",
       "version_major": 2,
       "version_minor": 0
      },
      "text/plain": [
       "diffusion sampling:   0%|          | 0/20 [00:00<?, ?it/s]"
      ]
     },
     "metadata": {},
     "output_type": "display_data"
    },
    {
     "data": {
      "application/vnd.jupyter.widget-view+json": {
       "model_id": "848c3fb48b0c42d798e799d9aec1b2b6",
       "version_major": 2,
       "version_minor": 0
      },
      "text/plain": [
       "diffusion sampling:   0%|          | 0/20 [00:00<?, ?it/s]"
      ]
     },
     "metadata": {},
     "output_type": "display_data"
    },
    {
     "data": {
      "application/vnd.jupyter.widget-view+json": {
       "model_id": "d4810775e952424bab0e85b72f1f449a",
       "version_major": 2,
       "version_minor": 0
      },
      "text/plain": [
       "diffusion sampling:   0%|          | 0/20 [00:00<?, ?it/s]"
      ]
     },
     "metadata": {},
     "output_type": "display_data"
    },
    {
     "data": {
      "application/vnd.jupyter.widget-view+json": {
       "model_id": "7d84c548e6bb4fec82bfacb865a22421",
       "version_major": 2,
       "version_minor": 0
      },
      "text/plain": [
       "class hypothsis:   0%|          | 0/3 [00:00<?, ?it/s]"
      ]
     },
     "metadata": {},
     "output_type": "display_data"
    },
    {
     "data": {
      "application/vnd.jupyter.widget-view+json": {
       "model_id": "53da6de675aa4586884e4e5072d232de",
       "version_major": 2,
       "version_minor": 0
      },
      "text/plain": [
       "diffusion sampling:   0%|          | 0/20 [00:00<?, ?it/s]"
      ]
     },
     "metadata": {},
     "output_type": "display_data"
    },
    {
     "data": {
      "application/vnd.jupyter.widget-view+json": {
       "model_id": "c561b19f2f4f49ce972584cd1c48912c",
       "version_major": 2,
       "version_minor": 0
      },
      "text/plain": [
       "diffusion sampling:   0%|          | 0/20 [00:00<?, ?it/s]"
      ]
     },
     "metadata": {},
     "output_type": "display_data"
    },
    {
     "data": {
      "application/vnd.jupyter.widget-view+json": {
       "model_id": "d1ab11c0326a4bdc88f262aac8c26441",
       "version_major": 2,
       "version_minor": 0
      },
      "text/plain": [
       "diffusion sampling:   0%|          | 0/20 [00:00<?, ?it/s]"
      ]
     },
     "metadata": {},
     "output_type": "display_data"
    },
    {
     "data": {
      "application/vnd.jupyter.widget-view+json": {
       "model_id": "55fe1ce448184675a361bce67b8a0960",
       "version_major": 2,
       "version_minor": 0
      },
      "text/plain": [
       "class hypothsis:   0%|          | 0/3 [00:00<?, ?it/s]"
      ]
     },
     "metadata": {},
     "output_type": "display_data"
    },
    {
     "data": {
      "application/vnd.jupyter.widget-view+json": {
       "model_id": "d1d7d4819fa34e6b92587d621869d85c",
       "version_major": 2,
       "version_minor": 0
      },
      "text/plain": [
       "diffusion sampling:   0%|          | 0/20 [00:00<?, ?it/s]"
      ]
     },
     "metadata": {},
     "output_type": "display_data"
    },
    {
     "data": {
      "application/vnd.jupyter.widget-view+json": {
       "model_id": "a876da8028a84ee594624579b9ff34c1",
       "version_major": 2,
       "version_minor": 0
      },
      "text/plain": [
       "diffusion sampling:   0%|          | 0/20 [00:00<?, ?it/s]"
      ]
     },
     "metadata": {},
     "output_type": "display_data"
    },
    {
     "data": {
      "application/vnd.jupyter.widget-view+json": {
       "model_id": "b43c8d69976c4093bcc7a1317c9b3362",
       "version_major": 2,
       "version_minor": 0
      },
      "text/plain": [
       "diffusion sampling:   0%|          | 0/20 [00:00<?, ?it/s]"
      ]
     },
     "metadata": {},
     "output_type": "display_data"
    },
    {
     "data": {
      "application/vnd.jupyter.widget-view+json": {
       "model_id": "c55e61bb34d04a40ab2c033d095cf007",
       "version_major": 2,
       "version_minor": 0
      },
      "text/plain": [
       "class hypothsis:   0%|          | 0/3 [00:00<?, ?it/s]"
      ]
     },
     "metadata": {},
     "output_type": "display_data"
    },
    {
     "data": {
      "application/vnd.jupyter.widget-view+json": {
       "model_id": "218daddd9b3e42efb497c893c387becd",
       "version_major": 2,
       "version_minor": 0
      },
      "text/plain": [
       "diffusion sampling:   0%|          | 0/20 [00:00<?, ?it/s]"
      ]
     },
     "metadata": {},
     "output_type": "display_data"
    },
    {
     "data": {
      "application/vnd.jupyter.widget-view+json": {
       "model_id": "cad3a6b0dd5b4907877f7bdc252cf1a9",
       "version_major": 2,
       "version_minor": 0
      },
      "text/plain": [
       "diffusion sampling:   0%|          | 0/20 [00:00<?, ?it/s]"
      ]
     },
     "metadata": {},
     "output_type": "display_data"
    },
    {
     "data": {
      "application/vnd.jupyter.widget-view+json": {
       "model_id": "6810b28418844ec5b257a3a804e7e932",
       "version_major": 2,
       "version_minor": 0
      },
      "text/plain": [
       "diffusion sampling:   0%|          | 0/20 [00:00<?, ?it/s]"
      ]
     },
     "metadata": {},
     "output_type": "display_data"
    },
    {
     "data": {
      "application/vnd.jupyter.widget-view+json": {
       "model_id": "9ddae49c72cc4c2fba7d8e2ac3d05d95",
       "version_major": 2,
       "version_minor": 0
      },
      "text/plain": [
       "class hypothsis:   0%|          | 0/3 [00:00<?, ?it/s]"
      ]
     },
     "metadata": {},
     "output_type": "display_data"
    },
    {
     "data": {
      "application/vnd.jupyter.widget-view+json": {
       "model_id": "4b1ca4438e934ef08e8075697c95c16b",
       "version_major": 2,
       "version_minor": 0
      },
      "text/plain": [
       "diffusion sampling:   0%|          | 0/20 [00:00<?, ?it/s]"
      ]
     },
     "metadata": {},
     "output_type": "display_data"
    },
    {
     "data": {
      "application/vnd.jupyter.widget-view+json": {
       "model_id": "3235b9b8e5cb4e3a8b2b39958d82b66b",
       "version_major": 2,
       "version_minor": 0
      },
      "text/plain": [
       "diffusion sampling:   0%|          | 0/20 [00:00<?, ?it/s]"
      ]
     },
     "metadata": {},
     "output_type": "display_data"
    },
    {
     "data": {
      "application/vnd.jupyter.widget-view+json": {
       "model_id": "183a3e875f274917bb49a60fe038a382",
       "version_major": 2,
       "version_minor": 0
      },
      "text/plain": [
       "diffusion sampling:   0%|          | 0/20 [00:00<?, ?it/s]"
      ]
     },
     "metadata": {},
     "output_type": "display_data"
    },
    {
     "data": {
      "application/vnd.jupyter.widget-view+json": {
       "model_id": "d19dca02a4dc45d5b38aab0f74c9fe19",
       "version_major": 2,
       "version_minor": 0
      },
      "text/plain": [
       "class hypothsis:   0%|          | 0/3 [00:00<?, ?it/s]"
      ]
     },
     "metadata": {},
     "output_type": "display_data"
    },
    {
     "data": {
      "application/vnd.jupyter.widget-view+json": {
       "model_id": "c67d144ce853473298e69e8ccf9162c3",
       "version_major": 2,
       "version_minor": 0
      },
      "text/plain": [
       "diffusion sampling:   0%|          | 0/20 [00:00<?, ?it/s]"
      ]
     },
     "metadata": {},
     "output_type": "display_data"
    },
    {
     "data": {
      "application/vnd.jupyter.widget-view+json": {
       "model_id": "84ba8799a6be4b68b4bf77e99a31414f",
       "version_major": 2,
       "version_minor": 0
      },
      "text/plain": [
       "diffusion sampling:   0%|          | 0/20 [00:00<?, ?it/s]"
      ]
     },
     "metadata": {},
     "output_type": "display_data"
    },
    {
     "data": {
      "application/vnd.jupyter.widget-view+json": {
       "model_id": "e9a6ca1c99744966b759ba8d8a7c2aab",
       "version_major": 2,
       "version_minor": 0
      },
      "text/plain": [
       "diffusion sampling:   0%|          | 0/20 [00:00<?, ?it/s]"
      ]
     },
     "metadata": {},
     "output_type": "display_data"
    },
    {
     "data": {
      "application/vnd.jupyter.widget-view+json": {
       "model_id": "f40c206ecf24423abb70a5dac5f042c2",
       "version_major": 2,
       "version_minor": 0
      },
      "text/plain": [
       "class hypothsis:   0%|          | 0/3 [00:00<?, ?it/s]"
      ]
     },
     "metadata": {},
     "output_type": "display_data"
    },
    {
     "data": {
      "application/vnd.jupyter.widget-view+json": {
       "model_id": "e547eb8795ad452fa95380ddaae1be74",
       "version_major": 2,
       "version_minor": 0
      },
      "text/plain": [
       "diffusion sampling:   0%|          | 0/20 [00:00<?, ?it/s]"
      ]
     },
     "metadata": {},
     "output_type": "display_data"
    },
    {
     "data": {
      "application/vnd.jupyter.widget-view+json": {
       "model_id": "cefc7c3785af4bc5931be8250ada044c",
       "version_major": 2,
       "version_minor": 0
      },
      "text/plain": [
       "diffusion sampling:   0%|          | 0/20 [00:00<?, ?it/s]"
      ]
     },
     "metadata": {},
     "output_type": "display_data"
    },
    {
     "data": {
      "application/vnd.jupyter.widget-view+json": {
       "model_id": "917365df644a4a29acdc3806f7958485",
       "version_major": 2,
       "version_minor": 0
      },
      "text/plain": [
       "diffusion sampling:   0%|          | 0/20 [00:00<?, ?it/s]"
      ]
     },
     "metadata": {},
     "output_type": "display_data"
    },
    {
     "data": {
      "application/vnd.jupyter.widget-view+json": {
       "model_id": "2ff99656f9c54ff18838127bb89eca07",
       "version_major": 2,
       "version_minor": 0
      },
      "text/plain": [
       "class hypothsis:   0%|          | 0/3 [00:00<?, ?it/s]"
      ]
     },
     "metadata": {},
     "output_type": "display_data"
    },
    {
     "data": {
      "application/vnd.jupyter.widget-view+json": {
       "model_id": "8a1cce8c27874b2cb0003dcfa88b437d",
       "version_major": 2,
       "version_minor": 0
      },
      "text/plain": [
       "diffusion sampling:   0%|          | 0/20 [00:00<?, ?it/s]"
      ]
     },
     "metadata": {},
     "output_type": "display_data"
    },
    {
     "data": {
      "application/vnd.jupyter.widget-view+json": {
       "model_id": "2ddf7620a4b5440a893aee3ea875f051",
       "version_major": 2,
       "version_minor": 0
      },
      "text/plain": [
       "diffusion sampling:   0%|          | 0/20 [00:00<?, ?it/s]"
      ]
     },
     "metadata": {},
     "output_type": "display_data"
    },
    {
     "data": {
      "application/vnd.jupyter.widget-view+json": {
       "model_id": "ae27f7189cf14d6d998815bf467ca7a2",
       "version_major": 2,
       "version_minor": 0
      },
      "text/plain": [
       "diffusion sampling:   0%|          | 0/20 [00:00<?, ?it/s]"
      ]
     },
     "metadata": {},
     "output_type": "display_data"
    },
    {
     "data": {
      "application/vnd.jupyter.widget-view+json": {
       "model_id": "4461e393b722415baccdac2fcfb4261f",
       "version_major": 2,
       "version_minor": 0
      },
      "text/plain": [
       "class hypothsis:   0%|          | 0/3 [00:00<?, ?it/s]"
      ]
     },
     "metadata": {},
     "output_type": "display_data"
    },
    {
     "data": {
      "application/vnd.jupyter.widget-view+json": {
       "model_id": "18d609d879de47c18c5e5c7225203d41",
       "version_major": 2,
       "version_minor": 0
      },
      "text/plain": [
       "diffusion sampling:   0%|          | 0/20 [00:00<?, ?it/s]"
      ]
     },
     "metadata": {},
     "output_type": "display_data"
    },
    {
     "data": {
      "application/vnd.jupyter.widget-view+json": {
       "model_id": "0b579b9b97f143d38d5c7f287ab5aa2f",
       "version_major": 2,
       "version_minor": 0
      },
      "text/plain": [
       "diffusion sampling:   0%|          | 0/20 [00:00<?, ?it/s]"
      ]
     },
     "metadata": {},
     "output_type": "display_data"
    },
    {
     "data": {
      "application/vnd.jupyter.widget-view+json": {
       "model_id": "797eef7842804e1989ce2a9b2adf19eb",
       "version_major": 2,
       "version_minor": 0
      },
      "text/plain": [
       "diffusion sampling:   0%|          | 0/20 [00:00<?, ?it/s]"
      ]
     },
     "metadata": {},
     "output_type": "display_data"
    },
    {
     "data": {
      "application/vnd.jupyter.widget-view+json": {
       "model_id": "b56404da9ae44e5aae3054880dc547bf",
       "version_major": 2,
       "version_minor": 0
      },
      "text/plain": [
       "class hypothsis:   0%|          | 0/3 [00:00<?, ?it/s]"
      ]
     },
     "metadata": {},
     "output_type": "display_data"
    },
    {
     "data": {
      "application/vnd.jupyter.widget-view+json": {
       "model_id": "ad5d31c084b443f3a87792d4ae0070ce",
       "version_major": 2,
       "version_minor": 0
      },
      "text/plain": [
       "diffusion sampling:   0%|          | 0/20 [00:00<?, ?it/s]"
      ]
     },
     "metadata": {},
     "output_type": "display_data"
    },
    {
     "data": {
      "application/vnd.jupyter.widget-view+json": {
       "model_id": "733ef24fe11e4ea39120011e7cea9042",
       "version_major": 2,
       "version_minor": 0
      },
      "text/plain": [
       "diffusion sampling:   0%|          | 0/20 [00:00<?, ?it/s]"
      ]
     },
     "metadata": {},
     "output_type": "display_data"
    },
    {
     "data": {
      "application/vnd.jupyter.widget-view+json": {
       "model_id": "d010e54c1cc84a2cab4a9eb5b649b21a",
       "version_major": 2,
       "version_minor": 0
      },
      "text/plain": [
       "diffusion sampling:   0%|          | 0/20 [00:00<?, ?it/s]"
      ]
     },
     "metadata": {},
     "output_type": "display_data"
    },
    {
     "data": {
      "application/vnd.jupyter.widget-view+json": {
       "model_id": "970967f81ea64e9f812fe9586f37ded7",
       "version_major": 2,
       "version_minor": 0
      },
      "text/plain": [
       "class hypothsis:   0%|          | 0/3 [00:00<?, ?it/s]"
      ]
     },
     "metadata": {},
     "output_type": "display_data"
    },
    {
     "data": {
      "application/vnd.jupyter.widget-view+json": {
       "model_id": "f2ba640453234759a82484e1555e99ed",
       "version_major": 2,
       "version_minor": 0
      },
      "text/plain": [
       "diffusion sampling:   0%|          | 0/20 [00:00<?, ?it/s]"
      ]
     },
     "metadata": {},
     "output_type": "display_data"
    },
    {
     "data": {
      "application/vnd.jupyter.widget-view+json": {
       "model_id": "28ac3634134f415f817af15650310a61",
       "version_major": 2,
       "version_minor": 0
      },
      "text/plain": [
       "diffusion sampling:   0%|          | 0/20 [00:00<?, ?it/s]"
      ]
     },
     "metadata": {},
     "output_type": "display_data"
    },
    {
     "data": {
      "application/vnd.jupyter.widget-view+json": {
       "model_id": "cee3d6a8bf2f49358ad0caa988517d52",
       "version_major": 2,
       "version_minor": 0
      },
      "text/plain": [
       "diffusion sampling:   0%|          | 0/20 [00:00<?, ?it/s]"
      ]
     },
     "metadata": {},
     "output_type": "display_data"
    },
    {
     "data": {
      "application/vnd.jupyter.widget-view+json": {
       "model_id": "7a391152d1c54a548de99bd1232e0269",
       "version_major": 2,
       "version_minor": 0
      },
      "text/plain": [
       "class hypothsis:   0%|          | 0/3 [00:00<?, ?it/s]"
      ]
     },
     "metadata": {},
     "output_type": "display_data"
    },
    {
     "data": {
      "application/vnd.jupyter.widget-view+json": {
       "model_id": "62b7fa2239534892a866614ed312ad03",
       "version_major": 2,
       "version_minor": 0
      },
      "text/plain": [
       "diffusion sampling:   0%|          | 0/20 [00:00<?, ?it/s]"
      ]
     },
     "metadata": {},
     "output_type": "display_data"
    },
    {
     "data": {
      "application/vnd.jupyter.widget-view+json": {
       "model_id": "b1eac19fcff24635b37e567e7e85a7c2",
       "version_major": 2,
       "version_minor": 0
      },
      "text/plain": [
       "diffusion sampling:   0%|          | 0/20 [00:00<?, ?it/s]"
      ]
     },
     "metadata": {},
     "output_type": "display_data"
    },
    {
     "data": {
      "application/vnd.jupyter.widget-view+json": {
       "model_id": "c8e0d2af48f24840baa16165eab6d878",
       "version_major": 2,
       "version_minor": 0
      },
      "text/plain": [
       "diffusion sampling:   0%|          | 0/20 [00:00<?, ?it/s]"
      ]
     },
     "metadata": {},
     "output_type": "display_data"
    },
    {
     "data": {
      "application/vnd.jupyter.widget-view+json": {
       "model_id": "401284d720e54b41ad4f1f11b179f186",
       "version_major": 2,
       "version_minor": 0
      },
      "text/plain": [
       "class hypothsis:   0%|          | 0/3 [00:00<?, ?it/s]"
      ]
     },
     "metadata": {},
     "output_type": "display_data"
    },
    {
     "data": {
      "application/vnd.jupyter.widget-view+json": {
       "model_id": "18f6b4e13539498dbd5ca0893276516c",
       "version_major": 2,
       "version_minor": 0
      },
      "text/plain": [
       "diffusion sampling:   0%|          | 0/20 [00:00<?, ?it/s]"
      ]
     },
     "metadata": {},
     "output_type": "display_data"
    },
    {
     "data": {
      "application/vnd.jupyter.widget-view+json": {
       "model_id": "00a4bb5786d848528f161ebcd87dd2ef",
       "version_major": 2,
       "version_minor": 0
      },
      "text/plain": [
       "diffusion sampling:   0%|          | 0/20 [00:00<?, ?it/s]"
      ]
     },
     "metadata": {},
     "output_type": "display_data"
    },
    {
     "data": {
      "application/vnd.jupyter.widget-view+json": {
       "model_id": "4793e73cfdf449d59039b631dc70880c",
       "version_major": 2,
       "version_minor": 0
      },
      "text/plain": [
       "diffusion sampling:   0%|          | 0/20 [00:00<?, ?it/s]"
      ]
     },
     "metadata": {},
     "output_type": "display_data"
    },
    {
     "data": {
      "application/vnd.jupyter.widget-view+json": {
       "model_id": "6da9c80d26c046d59a177992dbf455a5",
       "version_major": 2,
       "version_minor": 0
      },
      "text/plain": [
       "class hypothsis:   0%|          | 0/3 [00:00<?, ?it/s]"
      ]
     },
     "metadata": {},
     "output_type": "display_data"
    },
    {
     "data": {
      "application/vnd.jupyter.widget-view+json": {
       "model_id": "d9ad7bb9a0e946a4ab17a7a858e35e2e",
       "version_major": 2,
       "version_minor": 0
      },
      "text/plain": [
       "diffusion sampling:   0%|          | 0/20 [00:00<?, ?it/s]"
      ]
     },
     "metadata": {},
     "output_type": "display_data"
    },
    {
     "data": {
      "application/vnd.jupyter.widget-view+json": {
       "model_id": "daaa75c087af41e0a833afd1f586f1ef",
       "version_major": 2,
       "version_minor": 0
      },
      "text/plain": [
       "diffusion sampling:   0%|          | 0/20 [00:00<?, ?it/s]"
      ]
     },
     "metadata": {},
     "output_type": "display_data"
    },
    {
     "data": {
      "application/vnd.jupyter.widget-view+json": {
       "model_id": "8e4bbe3705a34033a89b78586a908b85",
       "version_major": 2,
       "version_minor": 0
      },
      "text/plain": [
       "diffusion sampling:   0%|          | 0/20 [00:00<?, ?it/s]"
      ]
     },
     "metadata": {},
     "output_type": "display_data"
    },
    {
     "data": {
      "application/vnd.jupyter.widget-view+json": {
       "model_id": "3d635b7dab7741c69a588d9b8f641df9",
       "version_major": 2,
       "version_minor": 0
      },
      "text/plain": [
       "class hypothsis:   0%|          | 0/3 [00:00<?, ?it/s]"
      ]
     },
     "metadata": {},
     "output_type": "display_data"
    },
    {
     "data": {
      "application/vnd.jupyter.widget-view+json": {
       "model_id": "efcef4b856ae43c8891649ec1a326df3",
       "version_major": 2,
       "version_minor": 0
      },
      "text/plain": [
       "diffusion sampling:   0%|          | 0/20 [00:00<?, ?it/s]"
      ]
     },
     "metadata": {},
     "output_type": "display_data"
    },
    {
     "data": {
      "application/vnd.jupyter.widget-view+json": {
       "model_id": "1c106955f55b4726b50b59c9522fe5de",
       "version_major": 2,
       "version_minor": 0
      },
      "text/plain": [
       "diffusion sampling:   0%|          | 0/20 [00:00<?, ?it/s]"
      ]
     },
     "metadata": {},
     "output_type": "display_data"
    },
    {
     "data": {
      "application/vnd.jupyter.widget-view+json": {
       "model_id": "12870f117fbf46699df9ae49767ce27f",
       "version_major": 2,
       "version_minor": 0
      },
      "text/plain": [
       "diffusion sampling:   0%|          | 0/20 [00:00<?, ?it/s]"
      ]
     },
     "metadata": {},
     "output_type": "display_data"
    },
    {
     "data": {
      "application/vnd.jupyter.widget-view+json": {
       "model_id": "fa86604e301f48f187dca73a36c674d1",
       "version_major": 2,
       "version_minor": 0
      },
      "text/plain": [
       "class hypothsis:   0%|          | 0/3 [00:00<?, ?it/s]"
      ]
     },
     "metadata": {},
     "output_type": "display_data"
    },
    {
     "data": {
      "application/vnd.jupyter.widget-view+json": {
       "model_id": "3974f3bbd41f4db896a9b3ba1d6ff308",
       "version_major": 2,
       "version_minor": 0
      },
      "text/plain": [
       "diffusion sampling:   0%|          | 0/20 [00:00<?, ?it/s]"
      ]
     },
     "metadata": {},
     "output_type": "display_data"
    },
    {
     "data": {
      "application/vnd.jupyter.widget-view+json": {
       "model_id": "f7ae3a691c31458097a9aceaaa17ad74",
       "version_major": 2,
       "version_minor": 0
      },
      "text/plain": [
       "diffusion sampling:   0%|          | 0/20 [00:00<?, ?it/s]"
      ]
     },
     "metadata": {},
     "output_type": "display_data"
    },
    {
     "data": {
      "application/vnd.jupyter.widget-view+json": {
       "model_id": "8422b063e944480e9bcdaa6ebfddf2ab",
       "version_major": 2,
       "version_minor": 0
      },
      "text/plain": [
       "diffusion sampling:   0%|          | 0/20 [00:00<?, ?it/s]"
      ]
     },
     "metadata": {},
     "output_type": "display_data"
    },
    {
     "data": {
      "application/vnd.jupyter.widget-view+json": {
       "model_id": "efa256af9d9f4fdea77b336e2d485191",
       "version_major": 2,
       "version_minor": 0
      },
      "text/plain": [
       "class hypothsis:   0%|          | 0/3 [00:00<?, ?it/s]"
      ]
     },
     "metadata": {},
     "output_type": "display_data"
    },
    {
     "data": {
      "application/vnd.jupyter.widget-view+json": {
       "model_id": "8e9c425849274747a6d133a8b83168b2",
       "version_major": 2,
       "version_minor": 0
      },
      "text/plain": [
       "diffusion sampling:   0%|          | 0/20 [00:00<?, ?it/s]"
      ]
     },
     "metadata": {},
     "output_type": "display_data"
    },
    {
     "data": {
      "application/vnd.jupyter.widget-view+json": {
       "model_id": "9c7693dd836643ef9e951c122df50a6b",
       "version_major": 2,
       "version_minor": 0
      },
      "text/plain": [
       "diffusion sampling:   0%|          | 0/20 [00:00<?, ?it/s]"
      ]
     },
     "metadata": {},
     "output_type": "display_data"
    },
    {
     "data": {
      "application/vnd.jupyter.widget-view+json": {
       "model_id": "733b5ff5b2564060b5dd422a93446948",
       "version_major": 2,
       "version_minor": 0
      },
      "text/plain": [
       "diffusion sampling:   0%|          | 0/20 [00:00<?, ?it/s]"
      ]
     },
     "metadata": {},
     "output_type": "display_data"
    },
    {
     "data": {
      "application/vnd.jupyter.widget-view+json": {
       "model_id": "2b0d0ef53ff8408e966060b45a4c87e1",
       "version_major": 2,
       "version_minor": 0
      },
      "text/plain": [
       "class hypothsis:   0%|          | 0/3 [00:00<?, ?it/s]"
      ]
     },
     "metadata": {},
     "output_type": "display_data"
    },
    {
     "data": {
      "application/vnd.jupyter.widget-view+json": {
       "model_id": "59fc201c770c49a28cc2beaa85b6ec3b",
       "version_major": 2,
       "version_minor": 0
      },
      "text/plain": [
       "diffusion sampling:   0%|          | 0/20 [00:00<?, ?it/s]"
      ]
     },
     "metadata": {},
     "output_type": "display_data"
    },
    {
     "data": {
      "application/vnd.jupyter.widget-view+json": {
       "model_id": "ceb3da36ceaa44a08b564ea80ee360b7",
       "version_major": 2,
       "version_minor": 0
      },
      "text/plain": [
       "diffusion sampling:   0%|          | 0/20 [00:00<?, ?it/s]"
      ]
     },
     "metadata": {},
     "output_type": "display_data"
    },
    {
     "data": {
      "application/vnd.jupyter.widget-view+json": {
       "model_id": "eedf632322b14d13aafbb7325f4cccd4",
       "version_major": 2,
       "version_minor": 0
      },
      "text/plain": [
       "diffusion sampling:   0%|          | 0/20 [00:00<?, ?it/s]"
      ]
     },
     "metadata": {},
     "output_type": "display_data"
    },
    {
     "data": {
      "application/vnd.jupyter.widget-view+json": {
       "model_id": "5c166d00732743479d8da92dd0130d23",
       "version_major": 2,
       "version_minor": 0
      },
      "text/plain": [
       "class hypothsis:   0%|          | 0/3 [00:00<?, ?it/s]"
      ]
     },
     "metadata": {},
     "output_type": "display_data"
    },
    {
     "data": {
      "application/vnd.jupyter.widget-view+json": {
       "model_id": "ff60cd843a3b499493ce47cca4129522",
       "version_major": 2,
       "version_minor": 0
      },
      "text/plain": [
       "diffusion sampling:   0%|          | 0/20 [00:00<?, ?it/s]"
      ]
     },
     "metadata": {},
     "output_type": "display_data"
    },
    {
     "data": {
      "application/vnd.jupyter.widget-view+json": {
       "model_id": "85e7e143eb944f0796a84bb002812ea6",
       "version_major": 2,
       "version_minor": 0
      },
      "text/plain": [
       "diffusion sampling:   0%|          | 0/20 [00:00<?, ?it/s]"
      ]
     },
     "metadata": {},
     "output_type": "display_data"
    },
    {
     "data": {
      "application/vnd.jupyter.widget-view+json": {
       "model_id": "f695e99de8ce4f11858000d364f52f77",
       "version_major": 2,
       "version_minor": 0
      },
      "text/plain": [
       "diffusion sampling:   0%|          | 0/20 [00:00<?, ?it/s]"
      ]
     },
     "metadata": {},
     "output_type": "display_data"
    },
    {
     "data": {
      "application/vnd.jupyter.widget-view+json": {
       "model_id": "ddfae1031c52449a893c1b7ef1375002",
       "version_major": 2,
       "version_minor": 0
      },
      "text/plain": [
       "class hypothsis:   0%|          | 0/3 [00:00<?, ?it/s]"
      ]
     },
     "metadata": {},
     "output_type": "display_data"
    },
    {
     "data": {
      "application/vnd.jupyter.widget-view+json": {
       "model_id": "432b47a7cc65472fa42af2897367059d",
       "version_major": 2,
       "version_minor": 0
      },
      "text/plain": [
       "diffusion sampling:   0%|          | 0/20 [00:00<?, ?it/s]"
      ]
     },
     "metadata": {},
     "output_type": "display_data"
    },
    {
     "data": {
      "application/vnd.jupyter.widget-view+json": {
       "model_id": "d2368b1322fb4da3b8c07552f8be7daa",
       "version_major": 2,
       "version_minor": 0
      },
      "text/plain": [
       "diffusion sampling:   0%|          | 0/20 [00:00<?, ?it/s]"
      ]
     },
     "metadata": {},
     "output_type": "display_data"
    },
    {
     "data": {
      "application/vnd.jupyter.widget-view+json": {
       "model_id": "8c88a91e8a6d492a82f9da252501297b",
       "version_major": 2,
       "version_minor": 0
      },
      "text/plain": [
       "diffusion sampling:   0%|          | 0/20 [00:00<?, ?it/s]"
      ]
     },
     "metadata": {},
     "output_type": "display_data"
    },
    {
     "data": {
      "application/vnd.jupyter.widget-view+json": {
       "model_id": "afd60a77fd19440981db53d1b96861f4",
       "version_major": 2,
       "version_minor": 0
      },
      "text/plain": [
       "class hypothsis:   0%|          | 0/3 [00:00<?, ?it/s]"
      ]
     },
     "metadata": {},
     "output_type": "display_data"
    },
    {
     "data": {
      "application/vnd.jupyter.widget-view+json": {
       "model_id": "837fd44473034c2f96f06451a80afa0f",
       "version_major": 2,
       "version_minor": 0
      },
      "text/plain": [
       "diffusion sampling:   0%|          | 0/20 [00:00<?, ?it/s]"
      ]
     },
     "metadata": {},
     "output_type": "display_data"
    },
    {
     "data": {
      "application/vnd.jupyter.widget-view+json": {
       "model_id": "9ea6479c4d784ee6bc5ed64cdb77fe36",
       "version_major": 2,
       "version_minor": 0
      },
      "text/plain": [
       "diffusion sampling:   0%|          | 0/20 [00:00<?, ?it/s]"
      ]
     },
     "metadata": {},
     "output_type": "display_data"
    },
    {
     "data": {
      "application/vnd.jupyter.widget-view+json": {
       "model_id": "55195faffcb24b30a701c3cc04df468b",
       "version_major": 2,
       "version_minor": 0
      },
      "text/plain": [
       "diffusion sampling:   0%|          | 0/20 [00:00<?, ?it/s]"
      ]
     },
     "metadata": {},
     "output_type": "display_data"
    },
    {
     "data": {
      "application/vnd.jupyter.widget-view+json": {
       "model_id": "35bffa7808cf4295a4fd4b431ba4d0cd",
       "version_major": 2,
       "version_minor": 0
      },
      "text/plain": [
       "class hypothsis:   0%|          | 0/3 [00:00<?, ?it/s]"
      ]
     },
     "metadata": {},
     "output_type": "display_data"
    },
    {
     "data": {
      "application/vnd.jupyter.widget-view+json": {
       "model_id": "7844c7df97f548ae86be2501ce62a487",
       "version_major": 2,
       "version_minor": 0
      },
      "text/plain": [
       "diffusion sampling:   0%|          | 0/20 [00:00<?, ?it/s]"
      ]
     },
     "metadata": {},
     "output_type": "display_data"
    },
    {
     "data": {
      "application/vnd.jupyter.widget-view+json": {
       "model_id": "402ca1831cd54432816b9462c0014f03",
       "version_major": 2,
       "version_minor": 0
      },
      "text/plain": [
       "diffusion sampling:   0%|          | 0/20 [00:00<?, ?it/s]"
      ]
     },
     "metadata": {},
     "output_type": "display_data"
    },
    {
     "data": {
      "application/vnd.jupyter.widget-view+json": {
       "model_id": "654cf686ce0548cb8232d28dae334919",
       "version_major": 2,
       "version_minor": 0
      },
      "text/plain": [
       "diffusion sampling:   0%|          | 0/20 [00:00<?, ?it/s]"
      ]
     },
     "metadata": {},
     "output_type": "display_data"
    },
    {
     "data": {
      "application/vnd.jupyter.widget-view+json": {
       "model_id": "16a6565016c1423ea89cf50472fc154d",
       "version_major": 2,
       "version_minor": 0
      },
      "text/plain": [
       "class hypothsis:   0%|          | 0/3 [00:00<?, ?it/s]"
      ]
     },
     "metadata": {},
     "output_type": "display_data"
    },
    {
     "data": {
      "application/vnd.jupyter.widget-view+json": {
       "model_id": "bf91818198ba4b2093b8c85087229d36",
       "version_major": 2,
       "version_minor": 0
      },
      "text/plain": [
       "diffusion sampling:   0%|          | 0/20 [00:00<?, ?it/s]"
      ]
     },
     "metadata": {},
     "output_type": "display_data"
    },
    {
     "data": {
      "application/vnd.jupyter.widget-view+json": {
       "model_id": "131c9ac9e92b46ae8cca8548e7cae444",
       "version_major": 2,
       "version_minor": 0
      },
      "text/plain": [
       "diffusion sampling:   0%|          | 0/20 [00:00<?, ?it/s]"
      ]
     },
     "metadata": {},
     "output_type": "display_data"
    },
    {
     "data": {
      "application/vnd.jupyter.widget-view+json": {
       "model_id": "ef76d916a3ff476184c110f31a7ed400",
       "version_major": 2,
       "version_minor": 0
      },
      "text/plain": [
       "diffusion sampling:   0%|          | 0/20 [00:00<?, ?it/s]"
      ]
     },
     "metadata": {},
     "output_type": "display_data"
    },
    {
     "data": {
      "application/vnd.jupyter.widget-view+json": {
       "model_id": "9f9daec2e266431bbfbc5faf16f81d70",
       "version_major": 2,
       "version_minor": 0
      },
      "text/plain": [
       "class hypothsis:   0%|          | 0/3 [00:00<?, ?it/s]"
      ]
     },
     "metadata": {},
     "output_type": "display_data"
    },
    {
     "data": {
      "application/vnd.jupyter.widget-view+json": {
       "model_id": "19cca08043654c8e9aeacbfdc3f977fc",
       "version_major": 2,
       "version_minor": 0
      },
      "text/plain": [
       "diffusion sampling:   0%|          | 0/20 [00:00<?, ?it/s]"
      ]
     },
     "metadata": {},
     "output_type": "display_data"
    },
    {
     "data": {
      "application/vnd.jupyter.widget-view+json": {
       "model_id": "d43f918f149f46b2b8a75ac6b8d75465",
       "version_major": 2,
       "version_minor": 0
      },
      "text/plain": [
       "diffusion sampling:   0%|          | 0/20 [00:00<?, ?it/s]"
      ]
     },
     "metadata": {},
     "output_type": "display_data"
    },
    {
     "data": {
      "application/vnd.jupyter.widget-view+json": {
       "model_id": "c3ac632839174a1db5757727b72a3fa2",
       "version_major": 2,
       "version_minor": 0
      },
      "text/plain": [
       "diffusion sampling:   0%|          | 0/20 [00:00<?, ?it/s]"
      ]
     },
     "metadata": {},
     "output_type": "display_data"
    },
    {
     "data": {
      "application/vnd.jupyter.widget-view+json": {
       "model_id": "55718c00cd4440a6802e49319004d066",
       "version_major": 2,
       "version_minor": 0
      },
      "text/plain": [
       "class hypothsis:   0%|          | 0/3 [00:00<?, ?it/s]"
      ]
     },
     "metadata": {},
     "output_type": "display_data"
    },
    {
     "data": {
      "application/vnd.jupyter.widget-view+json": {
       "model_id": "f798a0e0bd3948398625dfe4dd3a4f4e",
       "version_major": 2,
       "version_minor": 0
      },
      "text/plain": [
       "diffusion sampling:   0%|          | 0/20 [00:00<?, ?it/s]"
      ]
     },
     "metadata": {},
     "output_type": "display_data"
    },
    {
     "data": {
      "application/vnd.jupyter.widget-view+json": {
       "model_id": "94963b7e4e6c4f758599ae20b2d59e04",
       "version_major": 2,
       "version_minor": 0
      },
      "text/plain": [
       "diffusion sampling:   0%|          | 0/20 [00:00<?, ?it/s]"
      ]
     },
     "metadata": {},
     "output_type": "display_data"
    },
    {
     "data": {
      "application/vnd.jupyter.widget-view+json": {
       "model_id": "202492bb1b224f9aaf089103453d19f7",
       "version_major": 2,
       "version_minor": 0
      },
      "text/plain": [
       "diffusion sampling:   0%|          | 0/20 [00:00<?, ?it/s]"
      ]
     },
     "metadata": {},
     "output_type": "display_data"
    },
    {
     "data": {
      "application/vnd.jupyter.widget-view+json": {
       "model_id": "fe48187fb4fa4ce0a53c19a637de3143",
       "version_major": 2,
       "version_minor": 0
      },
      "text/plain": [
       "class hypothsis:   0%|          | 0/3 [00:00<?, ?it/s]"
      ]
     },
     "metadata": {},
     "output_type": "display_data"
    },
    {
     "data": {
      "application/vnd.jupyter.widget-view+json": {
       "model_id": "d8c12a8a2321478a8f7a02453b656406",
       "version_major": 2,
       "version_minor": 0
      },
      "text/plain": [
       "diffusion sampling:   0%|          | 0/20 [00:00<?, ?it/s]"
      ]
     },
     "metadata": {},
     "output_type": "display_data"
    },
    {
     "data": {
      "application/vnd.jupyter.widget-view+json": {
       "model_id": "464e800d1a5645f49f008b38c230825d",
       "version_major": 2,
       "version_minor": 0
      },
      "text/plain": [
       "diffusion sampling:   0%|          | 0/20 [00:00<?, ?it/s]"
      ]
     },
     "metadata": {},
     "output_type": "display_data"
    },
    {
     "data": {
      "application/vnd.jupyter.widget-view+json": {
       "model_id": "61fd89015a0b43a6b104f0728b444a8c",
       "version_major": 2,
       "version_minor": 0
      },
      "text/plain": [
       "diffusion sampling:   0%|          | 0/20 [00:00<?, ?it/s]"
      ]
     },
     "metadata": {},
     "output_type": "display_data"
    },
    {
     "data": {
      "application/vnd.jupyter.widget-view+json": {
       "model_id": "5e089f41ff1b40348807d7d0d8721d10",
       "version_major": 2,
       "version_minor": 0
      },
      "text/plain": [
       "class hypothsis:   0%|          | 0/3 [00:00<?, ?it/s]"
      ]
     },
     "metadata": {},
     "output_type": "display_data"
    },
    {
     "data": {
      "application/vnd.jupyter.widget-view+json": {
       "model_id": "d7759ed9b5e34969aa5012d13194ddf1",
       "version_major": 2,
       "version_minor": 0
      },
      "text/plain": [
       "diffusion sampling:   0%|          | 0/20 [00:00<?, ?it/s]"
      ]
     },
     "metadata": {},
     "output_type": "display_data"
    },
    {
     "data": {
      "application/vnd.jupyter.widget-view+json": {
       "model_id": "761c754c364f4dcaad87bea59fe2ed07",
       "version_major": 2,
       "version_minor": 0
      },
      "text/plain": [
       "diffusion sampling:   0%|          | 0/20 [00:00<?, ?it/s]"
      ]
     },
     "metadata": {},
     "output_type": "display_data"
    },
    {
     "data": {
      "application/vnd.jupyter.widget-view+json": {
       "model_id": "48b74b15a2db49f3b3c0530809cb1702",
       "version_major": 2,
       "version_minor": 0
      },
      "text/plain": [
       "diffusion sampling:   0%|          | 0/20 [00:00<?, ?it/s]"
      ]
     },
     "metadata": {},
     "output_type": "display_data"
    },
    {
     "data": {
      "application/vnd.jupyter.widget-view+json": {
       "model_id": "47a9aad4881e4efc870af5c50ef1931c",
       "version_major": 2,
       "version_minor": 0
      },
      "text/plain": [
       "class hypothsis:   0%|          | 0/3 [00:00<?, ?it/s]"
      ]
     },
     "metadata": {},
     "output_type": "display_data"
    },
    {
     "data": {
      "application/vnd.jupyter.widget-view+json": {
       "model_id": "acbd7664f3814f14993c8b1ed7d5e78d",
       "version_major": 2,
       "version_minor": 0
      },
      "text/plain": [
       "diffusion sampling:   0%|          | 0/20 [00:00<?, ?it/s]"
      ]
     },
     "metadata": {},
     "output_type": "display_data"
    },
    {
     "data": {
      "application/vnd.jupyter.widget-view+json": {
       "model_id": "23e4b058d66c4646bc4b9d1377e12f9d",
       "version_major": 2,
       "version_minor": 0
      },
      "text/plain": [
       "diffusion sampling:   0%|          | 0/20 [00:00<?, ?it/s]"
      ]
     },
     "metadata": {},
     "output_type": "display_data"
    },
    {
     "data": {
      "application/vnd.jupyter.widget-view+json": {
       "model_id": "cd8a45b975344cbc805222d86fd2be87",
       "version_major": 2,
       "version_minor": 0
      },
      "text/plain": [
       "diffusion sampling:   0%|          | 0/20 [00:00<?, ?it/s]"
      ]
     },
     "metadata": {},
     "output_type": "display_data"
    }
   ],
   "source": [
    "# run classification for the entire dataset\n",
    "\n",
    "l2_labels_pred, l1_labels_pred, true_labels = ldm_clf.classify_dataset(dataset=imagnet_subset,\n",
    "                                                                       batch_size=1,\n",
    "                                                                       n_trials=1,\n",
    "                                                                       t_sampling_stride=50,\n",
    "                                                                       classes=subset_classes)"
   ]
  },
  {
   "cell_type": "code",
   "execution_count": 11,
   "id": "e7218cea-4b40-486c-9eb2-79e16c6b6c8b",
   "metadata": {},
   "outputs": [
    {
     "name": "stdout",
     "output_type": "stream",
     "text": [
      "L2 accuracy: 98.14814814814815\n",
      "L1 accuracy: 99.07407407407408\n"
     ]
    }
   ],
   "source": [
    "l2_acc = ldm_clf.get_classification_accuracy(l2_labels_pred, true_labels)\n",
    "l1_acc = ldm_clf.get_classification_accuracy(l1_labels_pred, true_labels)\n",
    "\n",
    "print(f\"L2 accuracy: {l2_acc}\")\n",
    "print(f\"L1 accuracy: {l1_acc}\")"
   ]
  }
 ],
 "metadata": {
  "kernelspec": {
   "display_name": "Python 3 (ipykernel)",
   "language": "python",
   "name": "python3"
  },
  "language_info": {
   "codemirror_mode": {
    "name": "ipython",
    "version": 3
   },
   "file_extension": ".py",
   "mimetype": "text/x-python",
   "name": "python",
   "nbconvert_exporter": "python",
   "pygments_lexer": "ipython3",
   "version": "3.8.5"
  }
 },
 "nbformat": 4,
 "nbformat_minor": 5
}
