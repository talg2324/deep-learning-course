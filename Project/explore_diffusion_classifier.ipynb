{
 "cells": [
  {
   "cell_type": "markdown",
   "id": "3af18e8b-df77-4a89-815e-8ba10134994c",
   "metadata": {},
   "source": [
    "# imports and utils"
   ]
  },
  {
   "cell_type": "code",
   "execution_count": 1,
   "id": "f6b5158f-2833-4ad8-96ed-7a73bbbff66e",
   "metadata": {},
   "outputs": [],
   "source": [
    "# model loader - imagenet\n",
    "\n",
    "import sys\n",
    "sys.path.append(\".\")\n",
    "sys.path.append(\"./latent-diffusion\")\n",
    "sys.path.append('./taming-transformers')\n",
    "\n",
    "import torch\n",
    "from omegaconf import OmegaConf\n",
    "\n",
    "from ldm.util import instantiate_from_config\n",
    "\n",
    "\n",
    "def load_model_from_config(config, ckpt):\n",
    "    print(f\"Loading model from {ckpt}\")\n",
    "    device = torch.device('cuda' if torch.cuda.is_available() else 'cpu')\n",
    "    # device = torch.device('cpu')\n",
    "    pl_sd = torch.load(ckpt, weights_only=False, map_location=torch.device('cpu'))\n",
    "    sd = pl_sd[\"state_dict\"]\n",
    "    # torch.save(sd, './tmp_sd')\n",
    "    model = instantiate_from_config(config.model)\n",
    "    m, u = model.load_state_dict(sd, strict=False)\n",
    "    if torch.cuda.is_available():\n",
    "        model.cuda()\n",
    "    model.eval()\n",
    "    return model, sd, pl_sd\n",
    "\n",
    "\n",
    "def get_model(model_config_path, model_ckpt_path):\n",
    "    config = OmegaConf.load(model_config_path)\n",
    "    model, sd, pl_sd = load_model_from_config(config, model_ckpt_path)\n",
    "    return model, sd, pl_sd\n",
    "\n"
   ]
  },
  {
   "cell_type": "code",
   "execution_count": 1,
   "id": "e7404044-a38d-44a3-8994-0b856391bc43",
   "metadata": {},
   "outputs": [
    {
     "name": "stderr",
     "output_type": "stream",
     "text": [
      "/opt/conda/envs/monai2/lib/python3.8/site-packages/monai/utils/tf32.py:66: UserWarning: torch.backends.cuda.matmul.allow_tf32 = True by default.\n",
      "  This value defaults to True when PyTorch version in [1.7, 1.11] and may affect precision.\n",
      "  See https://docs.monai.io/en/latest/precision_accelerating.html#precision-and-accelerating\n",
      "  warnings.warn(\n"
     ]
    }
   ],
   "source": [
    "# model loader - BraTS\n",
    "\n",
    "import os\n",
    "import sys\n",
    "import torch\n",
    "sys.path.append(\".\")\n",
    "sys.path.append(\"./brats-mri\")\n",
    "import monai\n",
    "from PIL import Image\n",
    "from tqdm import tqdm\n",
    "from monai.utils import first\n",
    "from generative.inferers import LatentDiffusionInferer\n",
    "from generative.networks.schedulers import DDIMScheduler\n",
    "\n",
    "from torch.utils.data import DataLoader\n",
    "\n",
    "from pretrained import load_autoencoder, load_unet\n",
    "import utils\n",
    "\n",
    "BUNDLE = './brats-mri/brats_mri_class_cond/'\n",
    "sys.path.append(BUNDLE)\n",
    "from scripts.inferer import LatentDiffusionInfererWithClassConditioning\n",
    "\n",
    "def get_monai_autoencoder(bundle_target, training_args, weights_override_path):\n",
    "    # load autoencoder\n",
    "    autoencoder = load_autoencoder(bundle_target,\n",
    "                                   override_model_cfg_json=training_args.config,\n",
    "                                   override_weights_load_path=weights_override_path)    \n",
    "    return autoencoder\n",
    "\n",
    "def get_monai_unet(bundle_target, training_args, weights_override_path):\n",
    "    unet = load_unet(bundle_target,\n",
    "                     context_conditioning=training_args.conditioning == 'context',\n",
    "                     override_model_cfg_json=training_args.config,\n",
    "                     override_weights_load_path=weights_override_path,\n",
    "                     use_conditioning=True)\n",
    "    return unet\n",
    "    \n",
    "def get_monai_model_dict(bundle_target, training_args, autoencoder_weights_path, unet_weights_path):\n",
    "    monai_dict = {}\n",
    "    training_args = torch.load(os.path.join(output_dir, training_name, 'training_args'))\n",
    "    monai_dict['autoencoder'] = get_monai_autoencoder(bundle_target, training_args, autoencoder_weights_path)\n",
    "    monai_dict['unet'] = get_monai_unet(bundle_target, training_args, unet_weights_path)\n",
    "    \n",
    "    # set scheduler\n",
    "    config = utils.model_config(bundle_target, training_args.config)\n",
    "    monai_dict['scheduler'] = config.get_parsed_content('noise_scheduler')\n",
    "    # set inferer\n",
    "    if training_args.conditioning in ['context', 'none']:\n",
    "        monai_dict['inferer'] = LatentDiffusionInferer(scheduler=scheduler, scale_factor=scale_factor)\n",
    "    else:\n",
    "        monai_dict['inferer'] = LatentDiffusionInfererWithClassConditioning(scheduler=scheduler, scale_factor=scale_factor)\n",
    "    return monai_dict\n"
   ]
  },
  {
   "cell_type": "code",
   "execution_count": 3,
   "id": "b6f86e46-e829-49f7-a2d4-5602b727d9d1",
   "metadata": {},
   "outputs": [],
   "source": [
    "# confusion matrix plotter\n",
    "\n",
    "from sklearn.metrics import confusion_matrix\n",
    "from sklearn.metrics import confusion_matrix, ConfusionMatrixDisplay\n",
    "import matplotlib.pyplot as plt\n",
    "\n",
    "def labels_to_human_labels(labels, human_labels_list):\n",
    "    human_labels = [human_labels_list[int(x.detach().cpu().numpy())] for x in labels]  \n",
    "    return human_labels\n",
    "\n",
    "def plot_confusion_matrix(true_labels, labels_pred, human_labels_list):\n",
    "    true_labels_readable = labels_to_human_labels(true_labels, human_labels_list)\n",
    "    labels_pred_readable = labels_to_human_labels(labels_pred, human_labels_list)\n",
    "    cm = confusion_matrix(true_labels_readable, labels_pred_readable, labels=human_labels_list)\n",
    "    disp = ConfusionMatrixDisplay(confusion_matrix=cm,\n",
    "                                  display_labels=human_labels_list)\n",
    "    fig, ax = plt.subplots(figsize=(12,12))\n",
    "    disp.plot(ax=ax)\n",
    "    plt.show()"
   ]
  },
  {
   "cell_type": "markdown",
   "id": "cb771c99-d0d3-49f5-a8cf-799f2581ae38",
   "metadata": {},
   "source": [
    "# ImageNet-mini LDM Classifier"
   ]
  },
  {
   "cell_type": "code",
   "execution_count": 2,
   "id": "eb614885-aaa6-41b8-9f4e-cc14ddd59ffe",
   "metadata": {},
   "outputs": [
    {
     "name": "stdout",
     "output_type": "stream",
     "text": [
      "Loading model from ./latent-diffusion/models/ldm/cin256-v2/model.ckpt\n",
      "LatentDiffusion: Running in eps-prediction mode\n",
      "DiffusionWrapper has 400.92 M params.\n",
      "making attention of type 'vanilla' with 512 in_channels\n",
      "Working with z of shape (1, 3, 64, 64) = 12288 dimensions.\n",
      "making attention of type 'vanilla' with 512 in_channels\n"
     ]
    }
   ],
   "source": [
    "# load imagenet pretrained model\n",
    "import os\n",
    "\n",
    "def get_model2(model_config_path, model_ckpt_path):\n",
    "    config = OmegaConf.load(model_config_path)\n",
    "    model, sd, pl_sd = load_model_from_config(config, model_ckpt_path)\n",
    "    return model, sd, pl_sd\n",
    "    \n",
    "def load_model_from_config2(config, ckpt):\n",
    "    print(f\"Loading model from {ckpt}\")\n",
    "    pl_sd = torch.load(ckpt, weights_only=False, map_location=torch.device('cpu'))\n",
    "    sd = pl_sd[\"state_dict\"]\n",
    "    model = instantiate_from_config(config.model)\n",
    "    m, u = model.load_state_dict(sd, strict=False)\n",
    "    model.eval()\n",
    "    return model.to(device), sd, pl_sd\n",
    "\n",
    "cin_model_config_path = os.path.join('./latent-diffusion/configs/latent-diffusion/cin256-v2.yaml')\n",
    "cin_model_ckpt_path = './latent-diffusion/models/ldm/cin256-v2/model.ckpt'\n",
    "\n",
    "# load model\n",
    "model, sd, pl_sd = get_model2(cin_model_config_path, cin_model_ckpt_path)\n",
    "del sd\n",
    "del pl_sd"
   ]
  },
  {
   "cell_type": "code",
   "execution_count": 3,
   "id": "f94d0d8c-062b-4219-89cc-3948946196f6",
   "metadata": {},
   "outputs": [],
   "source": [
    "import sys\n",
    "sys.path.append('./diffusion_classifier')\n",
    "# set ldm classifier\n",
    "\n",
    "from ldm_classifier_imagenet import LdmClassifier\n",
    "ldm_clf = LdmClassifier(model)"
   ]
  },
  {
   "cell_type": "code",
   "execution_count": 2,
   "id": "9a96740f-13b1-474c-98c0-81a0ca137a81",
   "metadata": {},
   "outputs": [
    {
     "ename": "FileNotFoundError",
     "evalue": "[Errno 2] No such file or directory: './data/imagenet-mini/validation/validation_set.csv'",
     "output_type": "error",
     "traceback": [
      "\u001b[0;31m---------------------------------------------------------------------------\u001b[0m",
      "\u001b[0;31mFileNotFoundError\u001b[0m                         Traceback (most recent call last)",
      "Cell \u001b[0;32mIn[2], line 15\u001b[0m\n\u001b[1;32m     13\u001b[0m val_dir \u001b[38;5;241m=\u001b[39m \u001b[38;5;124m'\u001b[39m\u001b[38;5;124m./data/imagenet-mini/validation\u001b[39m\u001b[38;5;124m'\u001b[39m\n\u001b[1;32m     14\u001b[0m subset_classes \u001b[38;5;241m=\u001b[39m [\u001b[38;5;241m3\u001b[39m, \u001b[38;5;241m852\u001b[39m, \u001b[38;5;241m14\u001b[39m, \u001b[38;5;241m222\u001b[39m, \u001b[38;5;241m888\u001b[39m, \u001b[38;5;241m173\u001b[39m, \u001b[38;5;241m405\u001b[39m, \u001b[38;5;241m16\u001b[39m]\n\u001b[0;32m---> 15\u001b[0m imagnet_subset \u001b[38;5;241m=\u001b[39m \u001b[43mImageNetMiniSubset\u001b[49m\u001b[43m(\u001b[49m\u001b[43mdata_dir\u001b[49m\u001b[38;5;241;43m=\u001b[39;49m\u001b[43mval_dir\u001b[49m\u001b[43m,\u001b[49m\u001b[43m \u001b[49m\u001b[43mlabels_file\u001b[49m\u001b[38;5;241;43m=\u001b[39;49m\u001b[38;5;124;43m'\u001b[39;49m\u001b[38;5;124;43mvalidation_set.csv\u001b[39;49m\u001b[38;5;124;43m'\u001b[39;49m\u001b[43m,\u001b[49m\u001b[43m \u001b[49m\u001b[43msize\u001b[49m\u001b[38;5;241;43m=\u001b[39;49m\u001b[38;5;241;43m256\u001b[39;49m\u001b[43m,\u001b[49m\u001b[43m \u001b[49m\u001b[43mclasses\u001b[49m\u001b[38;5;241;43m=\u001b[39;49m\u001b[43msubset_classes\u001b[49m\u001b[43m)\u001b[49m\n\u001b[1;32m     17\u001b[0m \u001b[38;5;28mprint\u001b[39m(\u001b[38;5;124mf\u001b[39m\u001b[38;5;124m\"\u001b[39m\u001b[38;5;124mnumber of samples in dataset: \u001b[39m\u001b[38;5;132;01m{\u001b[39;00m\u001b[38;5;28mlen\u001b[39m(imagnet_subset)\u001b[38;5;132;01m}\u001b[39;00m\u001b[38;5;124m\"\u001b[39m)\n",
      "File \u001b[0;32m~/deep-learning-course/Project/latent-diffusion/ldm/data/imagenet_mini.py:62\u001b[0m, in \u001b[0;36mImageNetMiniSubset.__init__\u001b[0;34m(self, data_dir, labels_file, size, classes)\u001b[0m\n\u001b[1;32m     61\u001b[0m \u001b[38;5;28;01mdef\u001b[39;00m \u001b[38;5;21m__init__\u001b[39m(\u001b[38;5;28mself\u001b[39m, data_dir, labels_file, size, classes: List[\u001b[38;5;28mint\u001b[39m]) \u001b[38;5;241m-\u001b[39m\u001b[38;5;241m>\u001b[39m \u001b[38;5;28;01mNone\u001b[39;00m:\n\u001b[0;32m---> 62\u001b[0m     \u001b[38;5;28;43msuper\u001b[39;49m\u001b[43m(\u001b[49m\u001b[43m)\u001b[49m\u001b[38;5;241;43m.\u001b[39;49m\u001b[38;5;21;43m__init__\u001b[39;49m\u001b[43m(\u001b[49m\u001b[43mdata_dir\u001b[49m\u001b[43m,\u001b[49m\u001b[43m \u001b[49m\u001b[43mlabels_file\u001b[49m\u001b[43m,\u001b[49m\u001b[43m \u001b[49m\u001b[43msize\u001b[49m\u001b[43m)\u001b[49m\n\u001b[1;32m     63\u001b[0m     \u001b[38;5;28mself\u001b[39m\u001b[38;5;241m.\u001b[39mclasses \u001b[38;5;241m=\u001b[39m classes\n\u001b[1;32m     64\u001b[0m     \u001b[38;5;28mself\u001b[39m\u001b[38;5;241m.\u001b[39mfilter_classes()\n",
      "File \u001b[0;32m~/deep-learning-course/Project/latent-diffusion/ldm/data/imagenet_mini.py:15\u001b[0m, in \u001b[0;36mImageNetMiniDataset.__init__\u001b[0;34m(self, data_dir, labels_file, size)\u001b[0m\n\u001b[1;32m     12\u001b[0m \u001b[38;5;28;01mdef\u001b[39;00m \u001b[38;5;21m__init__\u001b[39m(\u001b[38;5;28mself\u001b[39m, data_dir, labels_file, size) \u001b[38;5;241m-\u001b[39m\u001b[38;5;241m>\u001b[39m \u001b[38;5;28;01mNone\u001b[39;00m:\n\u001b[1;32m     13\u001b[0m     \u001b[38;5;28msuper\u001b[39m()\u001b[38;5;241m.\u001b[39m\u001b[38;5;21m__init__\u001b[39m()\n\u001b[0;32m---> 15\u001b[0m     labels \u001b[38;5;241m=\u001b[39m \u001b[43mpd\u001b[49m\u001b[38;5;241;43m.\u001b[39;49m\u001b[43mread_csv\u001b[49m\u001b[43m(\u001b[49m\u001b[43mos\u001b[49m\u001b[38;5;241;43m.\u001b[39;49m\u001b[43mpath\u001b[49m\u001b[38;5;241;43m.\u001b[39;49m\u001b[43mjoin\u001b[49m\u001b[43m(\u001b[49m\u001b[43mdata_dir\u001b[49m\u001b[43m,\u001b[49m\u001b[43m \u001b[49m\u001b[43mlabels_file\u001b[49m\u001b[43m)\u001b[49m\u001b[43m,\u001b[49m\u001b[43m \u001b[49m\u001b[43mindex_col\u001b[49m\u001b[38;5;241;43m=\u001b[39;49m\u001b[38;5;241;43m0\u001b[39;49m\u001b[43m)\u001b[49m\n\u001b[1;32m     16\u001b[0m     labels \u001b[38;5;241m=\u001b[39m labels\u001b[38;5;241m.\u001b[39msample(frac\u001b[38;5;241m=\u001b[39m\u001b[38;5;241m1\u001b[39m)\n\u001b[1;32m     18\u001b[0m     unnamed \u001b[38;5;241m=\u001b[39m [c \u001b[38;5;28;01mfor\u001b[39;00m c \u001b[38;5;129;01min\u001b[39;00m labels\u001b[38;5;241m.\u001b[39mcolumns \u001b[38;5;28;01mif\u001b[39;00m \u001b[38;5;124m'\u001b[39m\u001b[38;5;124mUnnamed\u001b[39m\u001b[38;5;124m'\u001b[39m \u001b[38;5;129;01min\u001b[39;00m c]\n",
      "File \u001b[0;32m/opt/conda/envs/monai2/lib/python3.8/site-packages/pandas/io/parsers/readers.py:912\u001b[0m, in \u001b[0;36mread_csv\u001b[0;34m(filepath_or_buffer, sep, delimiter, header, names, index_col, usecols, dtype, engine, converters, true_values, false_values, skipinitialspace, skiprows, skipfooter, nrows, na_values, keep_default_na, na_filter, verbose, skip_blank_lines, parse_dates, infer_datetime_format, keep_date_col, date_parser, date_format, dayfirst, cache_dates, iterator, chunksize, compression, thousands, decimal, lineterminator, quotechar, quoting, doublequote, escapechar, comment, encoding, encoding_errors, dialect, on_bad_lines, delim_whitespace, low_memory, memory_map, float_precision, storage_options, dtype_backend)\u001b[0m\n\u001b[1;32m    899\u001b[0m kwds_defaults \u001b[38;5;241m=\u001b[39m _refine_defaults_read(\n\u001b[1;32m    900\u001b[0m     dialect,\n\u001b[1;32m    901\u001b[0m     delimiter,\n\u001b[0;32m   (...)\u001b[0m\n\u001b[1;32m    908\u001b[0m     dtype_backend\u001b[38;5;241m=\u001b[39mdtype_backend,\n\u001b[1;32m    909\u001b[0m )\n\u001b[1;32m    910\u001b[0m kwds\u001b[38;5;241m.\u001b[39mupdate(kwds_defaults)\n\u001b[0;32m--> 912\u001b[0m \u001b[38;5;28;01mreturn\u001b[39;00m \u001b[43m_read\u001b[49m\u001b[43m(\u001b[49m\u001b[43mfilepath_or_buffer\u001b[49m\u001b[43m,\u001b[49m\u001b[43m \u001b[49m\u001b[43mkwds\u001b[49m\u001b[43m)\u001b[49m\n",
      "File \u001b[0;32m/opt/conda/envs/monai2/lib/python3.8/site-packages/pandas/io/parsers/readers.py:577\u001b[0m, in \u001b[0;36m_read\u001b[0;34m(filepath_or_buffer, kwds)\u001b[0m\n\u001b[1;32m    574\u001b[0m _validate_names(kwds\u001b[38;5;241m.\u001b[39mget(\u001b[38;5;124m\"\u001b[39m\u001b[38;5;124mnames\u001b[39m\u001b[38;5;124m\"\u001b[39m, \u001b[38;5;28;01mNone\u001b[39;00m))\n\u001b[1;32m    576\u001b[0m \u001b[38;5;66;03m# Create the parser.\u001b[39;00m\n\u001b[0;32m--> 577\u001b[0m parser \u001b[38;5;241m=\u001b[39m \u001b[43mTextFileReader\u001b[49m\u001b[43m(\u001b[49m\u001b[43mfilepath_or_buffer\u001b[49m\u001b[43m,\u001b[49m\u001b[43m \u001b[49m\u001b[38;5;241;43m*\u001b[39;49m\u001b[38;5;241;43m*\u001b[39;49m\u001b[43mkwds\u001b[49m\u001b[43m)\u001b[49m\n\u001b[1;32m    579\u001b[0m \u001b[38;5;28;01mif\u001b[39;00m chunksize \u001b[38;5;129;01mor\u001b[39;00m iterator:\n\u001b[1;32m    580\u001b[0m     \u001b[38;5;28;01mreturn\u001b[39;00m parser\n",
      "File \u001b[0;32m/opt/conda/envs/monai2/lib/python3.8/site-packages/pandas/io/parsers/readers.py:1407\u001b[0m, in \u001b[0;36mTextFileReader.__init__\u001b[0;34m(self, f, engine, **kwds)\u001b[0m\n\u001b[1;32m   1404\u001b[0m     \u001b[38;5;28mself\u001b[39m\u001b[38;5;241m.\u001b[39moptions[\u001b[38;5;124m\"\u001b[39m\u001b[38;5;124mhas_index_names\u001b[39m\u001b[38;5;124m\"\u001b[39m] \u001b[38;5;241m=\u001b[39m kwds[\u001b[38;5;124m\"\u001b[39m\u001b[38;5;124mhas_index_names\u001b[39m\u001b[38;5;124m\"\u001b[39m]\n\u001b[1;32m   1406\u001b[0m \u001b[38;5;28mself\u001b[39m\u001b[38;5;241m.\u001b[39mhandles: IOHandles \u001b[38;5;241m|\u001b[39m \u001b[38;5;28;01mNone\u001b[39;00m \u001b[38;5;241m=\u001b[39m \u001b[38;5;28;01mNone\u001b[39;00m\n\u001b[0;32m-> 1407\u001b[0m \u001b[38;5;28mself\u001b[39m\u001b[38;5;241m.\u001b[39m_engine \u001b[38;5;241m=\u001b[39m \u001b[38;5;28;43mself\u001b[39;49m\u001b[38;5;241;43m.\u001b[39;49m\u001b[43m_make_engine\u001b[49m\u001b[43m(\u001b[49m\u001b[43mf\u001b[49m\u001b[43m,\u001b[49m\u001b[43m \u001b[49m\u001b[38;5;28;43mself\u001b[39;49m\u001b[38;5;241;43m.\u001b[39;49m\u001b[43mengine\u001b[49m\u001b[43m)\u001b[49m\n",
      "File \u001b[0;32m/opt/conda/envs/monai2/lib/python3.8/site-packages/pandas/io/parsers/readers.py:1661\u001b[0m, in \u001b[0;36mTextFileReader._make_engine\u001b[0;34m(self, f, engine)\u001b[0m\n\u001b[1;32m   1659\u001b[0m     \u001b[38;5;28;01mif\u001b[39;00m \u001b[38;5;124m\"\u001b[39m\u001b[38;5;124mb\u001b[39m\u001b[38;5;124m\"\u001b[39m \u001b[38;5;129;01mnot\u001b[39;00m \u001b[38;5;129;01min\u001b[39;00m mode:\n\u001b[1;32m   1660\u001b[0m         mode \u001b[38;5;241m+\u001b[39m\u001b[38;5;241m=\u001b[39m \u001b[38;5;124m\"\u001b[39m\u001b[38;5;124mb\u001b[39m\u001b[38;5;124m\"\u001b[39m\n\u001b[0;32m-> 1661\u001b[0m \u001b[38;5;28mself\u001b[39m\u001b[38;5;241m.\u001b[39mhandles \u001b[38;5;241m=\u001b[39m \u001b[43mget_handle\u001b[49m\u001b[43m(\u001b[49m\n\u001b[1;32m   1662\u001b[0m \u001b[43m    \u001b[49m\u001b[43mf\u001b[49m\u001b[43m,\u001b[49m\n\u001b[1;32m   1663\u001b[0m \u001b[43m    \u001b[49m\u001b[43mmode\u001b[49m\u001b[43m,\u001b[49m\n\u001b[1;32m   1664\u001b[0m \u001b[43m    \u001b[49m\u001b[43mencoding\u001b[49m\u001b[38;5;241;43m=\u001b[39;49m\u001b[38;5;28;43mself\u001b[39;49m\u001b[38;5;241;43m.\u001b[39;49m\u001b[43moptions\u001b[49m\u001b[38;5;241;43m.\u001b[39;49m\u001b[43mget\u001b[49m\u001b[43m(\u001b[49m\u001b[38;5;124;43m\"\u001b[39;49m\u001b[38;5;124;43mencoding\u001b[39;49m\u001b[38;5;124;43m\"\u001b[39;49m\u001b[43m,\u001b[49m\u001b[43m \u001b[49m\u001b[38;5;28;43;01mNone\u001b[39;49;00m\u001b[43m)\u001b[49m\u001b[43m,\u001b[49m\n\u001b[1;32m   1665\u001b[0m \u001b[43m    \u001b[49m\u001b[43mcompression\u001b[49m\u001b[38;5;241;43m=\u001b[39;49m\u001b[38;5;28;43mself\u001b[39;49m\u001b[38;5;241;43m.\u001b[39;49m\u001b[43moptions\u001b[49m\u001b[38;5;241;43m.\u001b[39;49m\u001b[43mget\u001b[49m\u001b[43m(\u001b[49m\u001b[38;5;124;43m\"\u001b[39;49m\u001b[38;5;124;43mcompression\u001b[39;49m\u001b[38;5;124;43m\"\u001b[39;49m\u001b[43m,\u001b[49m\u001b[43m \u001b[49m\u001b[38;5;28;43;01mNone\u001b[39;49;00m\u001b[43m)\u001b[49m\u001b[43m,\u001b[49m\n\u001b[1;32m   1666\u001b[0m \u001b[43m    \u001b[49m\u001b[43mmemory_map\u001b[49m\u001b[38;5;241;43m=\u001b[39;49m\u001b[38;5;28;43mself\u001b[39;49m\u001b[38;5;241;43m.\u001b[39;49m\u001b[43moptions\u001b[49m\u001b[38;5;241;43m.\u001b[39;49m\u001b[43mget\u001b[49m\u001b[43m(\u001b[49m\u001b[38;5;124;43m\"\u001b[39;49m\u001b[38;5;124;43mmemory_map\u001b[39;49m\u001b[38;5;124;43m\"\u001b[39;49m\u001b[43m,\u001b[49m\u001b[43m \u001b[49m\u001b[38;5;28;43;01mFalse\u001b[39;49;00m\u001b[43m)\u001b[49m\u001b[43m,\u001b[49m\n\u001b[1;32m   1667\u001b[0m \u001b[43m    \u001b[49m\u001b[43mis_text\u001b[49m\u001b[38;5;241;43m=\u001b[39;49m\u001b[43mis_text\u001b[49m\u001b[43m,\u001b[49m\n\u001b[1;32m   1668\u001b[0m \u001b[43m    \u001b[49m\u001b[43merrors\u001b[49m\u001b[38;5;241;43m=\u001b[39;49m\u001b[38;5;28;43mself\u001b[39;49m\u001b[38;5;241;43m.\u001b[39;49m\u001b[43moptions\u001b[49m\u001b[38;5;241;43m.\u001b[39;49m\u001b[43mget\u001b[49m\u001b[43m(\u001b[49m\u001b[38;5;124;43m\"\u001b[39;49m\u001b[38;5;124;43mencoding_errors\u001b[39;49m\u001b[38;5;124;43m\"\u001b[39;49m\u001b[43m,\u001b[49m\u001b[43m \u001b[49m\u001b[38;5;124;43m\"\u001b[39;49m\u001b[38;5;124;43mstrict\u001b[39;49m\u001b[38;5;124;43m\"\u001b[39;49m\u001b[43m)\u001b[49m\u001b[43m,\u001b[49m\n\u001b[1;32m   1669\u001b[0m \u001b[43m    \u001b[49m\u001b[43mstorage_options\u001b[49m\u001b[38;5;241;43m=\u001b[39;49m\u001b[38;5;28;43mself\u001b[39;49m\u001b[38;5;241;43m.\u001b[39;49m\u001b[43moptions\u001b[49m\u001b[38;5;241;43m.\u001b[39;49m\u001b[43mget\u001b[49m\u001b[43m(\u001b[49m\u001b[38;5;124;43m\"\u001b[39;49m\u001b[38;5;124;43mstorage_options\u001b[39;49m\u001b[38;5;124;43m\"\u001b[39;49m\u001b[43m,\u001b[49m\u001b[43m \u001b[49m\u001b[38;5;28;43;01mNone\u001b[39;49;00m\u001b[43m)\u001b[49m\u001b[43m,\u001b[49m\n\u001b[1;32m   1670\u001b[0m \u001b[43m\u001b[49m\u001b[43m)\u001b[49m\n\u001b[1;32m   1671\u001b[0m \u001b[38;5;28;01massert\u001b[39;00m \u001b[38;5;28mself\u001b[39m\u001b[38;5;241m.\u001b[39mhandles \u001b[38;5;129;01mis\u001b[39;00m \u001b[38;5;129;01mnot\u001b[39;00m \u001b[38;5;28;01mNone\u001b[39;00m\n\u001b[1;32m   1672\u001b[0m f \u001b[38;5;241m=\u001b[39m \u001b[38;5;28mself\u001b[39m\u001b[38;5;241m.\u001b[39mhandles\u001b[38;5;241m.\u001b[39mhandle\n",
      "File \u001b[0;32m/opt/conda/envs/monai2/lib/python3.8/site-packages/pandas/io/common.py:859\u001b[0m, in \u001b[0;36mget_handle\u001b[0;34m(path_or_buf, mode, encoding, compression, memory_map, is_text, errors, storage_options)\u001b[0m\n\u001b[1;32m    854\u001b[0m \u001b[38;5;28;01melif\u001b[39;00m \u001b[38;5;28misinstance\u001b[39m(handle, \u001b[38;5;28mstr\u001b[39m):\n\u001b[1;32m    855\u001b[0m     \u001b[38;5;66;03m# Check whether the filename is to be opened in binary mode.\u001b[39;00m\n\u001b[1;32m    856\u001b[0m     \u001b[38;5;66;03m# Binary mode does not support 'encoding' and 'newline'.\u001b[39;00m\n\u001b[1;32m    857\u001b[0m     \u001b[38;5;28;01mif\u001b[39;00m ioargs\u001b[38;5;241m.\u001b[39mencoding \u001b[38;5;129;01mand\u001b[39;00m \u001b[38;5;124m\"\u001b[39m\u001b[38;5;124mb\u001b[39m\u001b[38;5;124m\"\u001b[39m \u001b[38;5;129;01mnot\u001b[39;00m \u001b[38;5;129;01min\u001b[39;00m ioargs\u001b[38;5;241m.\u001b[39mmode:\n\u001b[1;32m    858\u001b[0m         \u001b[38;5;66;03m# Encoding\u001b[39;00m\n\u001b[0;32m--> 859\u001b[0m         handle \u001b[38;5;241m=\u001b[39m \u001b[38;5;28;43mopen\u001b[39;49m\u001b[43m(\u001b[49m\n\u001b[1;32m    860\u001b[0m \u001b[43m            \u001b[49m\u001b[43mhandle\u001b[49m\u001b[43m,\u001b[49m\n\u001b[1;32m    861\u001b[0m \u001b[43m            \u001b[49m\u001b[43mioargs\u001b[49m\u001b[38;5;241;43m.\u001b[39;49m\u001b[43mmode\u001b[49m\u001b[43m,\u001b[49m\n\u001b[1;32m    862\u001b[0m \u001b[43m            \u001b[49m\u001b[43mencoding\u001b[49m\u001b[38;5;241;43m=\u001b[39;49m\u001b[43mioargs\u001b[49m\u001b[38;5;241;43m.\u001b[39;49m\u001b[43mencoding\u001b[49m\u001b[43m,\u001b[49m\n\u001b[1;32m    863\u001b[0m \u001b[43m            \u001b[49m\u001b[43merrors\u001b[49m\u001b[38;5;241;43m=\u001b[39;49m\u001b[43merrors\u001b[49m\u001b[43m,\u001b[49m\n\u001b[1;32m    864\u001b[0m \u001b[43m            \u001b[49m\u001b[43mnewline\u001b[49m\u001b[38;5;241;43m=\u001b[39;49m\u001b[38;5;124;43m\"\u001b[39;49m\u001b[38;5;124;43m\"\u001b[39;49m\u001b[43m,\u001b[49m\n\u001b[1;32m    865\u001b[0m \u001b[43m        \u001b[49m\u001b[43m)\u001b[49m\n\u001b[1;32m    866\u001b[0m     \u001b[38;5;28;01melse\u001b[39;00m:\n\u001b[1;32m    867\u001b[0m         \u001b[38;5;66;03m# Binary mode\u001b[39;00m\n\u001b[1;32m    868\u001b[0m         handle \u001b[38;5;241m=\u001b[39m \u001b[38;5;28mopen\u001b[39m(handle, ioargs\u001b[38;5;241m.\u001b[39mmode)\n",
      "\u001b[0;31mFileNotFoundError\u001b[0m: [Errno 2] No such file or directory: './data/imagenet-mini/validation/validation_set.csv'"
     ]
    }
   ],
   "source": [
    "import sys\n",
    "sys.path.append('./latent-diffusion/ldm/data/')\n",
    "from torchvision import transforms\n",
    "import torch\n",
    "from matplotlib import pyplot as plt\n",
    "import numpy as np\n",
    "\n",
    "\n",
    "from imagenet_mini import ImageNetMiniSubset, ImageNetMiniDataset\n",
    "\n",
    "# define imagenet-mini subset for classification\n",
    "\n",
    "val_dir = './data/imagenet-mini/validation'\n",
    "subset_classes = [3, 852, 14, 222, 888, 173, 405, 16]\n",
    "imagnet_subset = ImageNetMiniSubset(data_dir=val_dir, labels_file='validation_set.csv', size=256, classes=subset_classes)\n",
    "\n",
    "print(f\"number of samples in dataset: {len(imagnet_subset)}\")"
   ]
  },
  {
   "cell_type": "code",
   "execution_count": 8,
   "id": "8ef59704-6440-4804-a3cd-250e9d4862e8",
   "metadata": {},
   "outputs": [
    {
     "data": {
      "application/vnd.jupyter.widget-view+json": {
       "model_id": "5e296ac6171c41b7a2928927b77ea8af",
       "version_major": 2,
       "version_minor": 0
      },
      "text/plain": [
       "class hypothsis:   0%|          | 0/8 [00:00<?, ?it/s]"
      ]
     },
     "metadata": {},
     "output_type": "display_data"
    },
    {
     "name": "stdout",
     "output_type": "stream",
     "text": [
      "CPU times: user 2.78 s, sys: 292 ms, total: 3.08 s\n",
      "Wall time: 3.07 s\n",
      "true label: tensor([405])\n",
      "L2 classification: tensor([405])\n",
      "L1 classification: tensor([405])\n"
     ]
    }
   ],
   "source": [
    "# verify ability to classify single sample:\n",
    "\n",
    "loader = torch.utils.data.DataLoader(imagnet_subset, batch_size=1, shuffle=False)\n",
    "batch = next(iter(loader))\n",
    "c_hypotheses = ldm_clf.get_class_hypotheses_for_batch(batch_size=batch['image'].shape[0], classes=subset_classes)\n",
    "# x0 = ldm_clf.get_latent_batch(batch)\n",
    "\n",
    "%time l2_label_pred, l1_label_pred = ldm_clf.classify_batch(batch, c_hypotheses, n_trials=1, t_sampling_stride=50)\n",
    "print(f\"true label: {batch['class_label']}\")\n",
    "print(f\"L2 classification: {l2_label_pred}\")\n",
    "print(f\"L1 classification: {l1_label_pred}\")"
   ]
  },
  {
   "cell_type": "code",
   "execution_count": 6,
   "id": "48c986fc-05be-47a1-8a50-8ceca9ab13ac",
   "metadata": {
    "scrolled": true
   },
   "outputs": [
    {
     "data": {
      "application/vnd.jupyter.widget-view+json": {
       "model_id": "b64fbab151944d519c364a79da37b5f0",
       "version_major": 2,
       "version_minor": 0
      },
      "text/plain": [
       "dataset samples:   0%|          | 0/108 [00:00<?, ?it/s]"
      ]
     },
     "metadata": {},
     "output_type": "display_data"
    },
    {
     "data": {
      "application/vnd.jupyter.widget-view+json": {
       "model_id": "86e1944046814bca8c09b7170b06e3cc",
       "version_major": 2,
       "version_minor": 0
      },
      "text/plain": [
       "class hypothsis:   0%|          | 0/3 [00:00<?, ?it/s]"
      ]
     },
     "metadata": {},
     "output_type": "display_data"
    },
    {
     "data": {
      "application/vnd.jupyter.widget-view+json": {
       "model_id": "3fe7a6b34e2348a3a077a66a4604879a",
       "version_major": 2,
       "version_minor": 0
      },
      "text/plain": [
       "class hypothsis:   0%|          | 0/3 [00:00<?, ?it/s]"
      ]
     },
     "metadata": {},
     "output_type": "display_data"
    },
    {
     "data": {
      "application/vnd.jupyter.widget-view+json": {
       "model_id": "1f1482590d6a4e9eab570f020e1c8a31",
       "version_major": 2,
       "version_minor": 0
      },
      "text/plain": [
       "class hypothsis:   0%|          | 0/3 [00:00<?, ?it/s]"
      ]
     },
     "metadata": {},
     "output_type": "display_data"
    },
    {
     "data": {
      "application/vnd.jupyter.widget-view+json": {
       "model_id": "729f2f9a949d468a81c9665e1e9b88e4",
       "version_major": 2,
       "version_minor": 0
      },
      "text/plain": [
       "class hypothsis:   0%|          | 0/3 [00:00<?, ?it/s]"
      ]
     },
     "metadata": {},
     "output_type": "display_data"
    },
    {
     "data": {
      "application/vnd.jupyter.widget-view+json": {
       "model_id": "32069747cc014deea88b8fe9cbb76bf6",
       "version_major": 2,
       "version_minor": 0
      },
      "text/plain": [
       "class hypothsis:   0%|          | 0/3 [00:00<?, ?it/s]"
      ]
     },
     "metadata": {},
     "output_type": "display_data"
    },
    {
     "data": {
      "application/vnd.jupyter.widget-view+json": {
       "model_id": "2e15440fdce4461ea3e0597a7b480c30",
       "version_major": 2,
       "version_minor": 0
      },
      "text/plain": [
       "class hypothsis:   0%|          | 0/3 [00:00<?, ?it/s]"
      ]
     },
     "metadata": {},
     "output_type": "display_data"
    },
    {
     "data": {
      "application/vnd.jupyter.widget-view+json": {
       "model_id": "cc70393853b54bada75d942da7c00ba1",
       "version_major": 2,
       "version_minor": 0
      },
      "text/plain": [
       "class hypothsis:   0%|          | 0/3 [00:00<?, ?it/s]"
      ]
     },
     "metadata": {},
     "output_type": "display_data"
    },
    {
     "data": {
      "application/vnd.jupyter.widget-view+json": {
       "model_id": "6e96e0bfd31b4e378445ad6bcff77201",
       "version_major": 2,
       "version_minor": 0
      },
      "text/plain": [
       "class hypothsis:   0%|          | 0/3 [00:00<?, ?it/s]"
      ]
     },
     "metadata": {},
     "output_type": "display_data"
    },
    {
     "data": {
      "application/vnd.jupyter.widget-view+json": {
       "model_id": "f875812c4bf34fda912d7b87a4abe01f",
       "version_major": 2,
       "version_minor": 0
      },
      "text/plain": [
       "class hypothsis:   0%|          | 0/3 [00:00<?, ?it/s]"
      ]
     },
     "metadata": {},
     "output_type": "display_data"
    },
    {
     "data": {
      "application/vnd.jupyter.widget-view+json": {
       "model_id": "a788ca106d9949d591584ed9a3444c02",
       "version_major": 2,
       "version_minor": 0
      },
      "text/plain": [
       "class hypothsis:   0%|          | 0/3 [00:00<?, ?it/s]"
      ]
     },
     "metadata": {},
     "output_type": "display_data"
    },
    {
     "data": {
      "application/vnd.jupyter.widget-view+json": {
       "model_id": "ae2e446155b04dbca0c32a5290078cdd",
       "version_major": 2,
       "version_minor": 0
      },
      "text/plain": [
       "class hypothsis:   0%|          | 0/3 [00:00<?, ?it/s]"
      ]
     },
     "metadata": {},
     "output_type": "display_data"
    },
    {
     "data": {
      "application/vnd.jupyter.widget-view+json": {
       "model_id": "3adc1e2731d74dfc8c698b0f414837cb",
       "version_major": 2,
       "version_minor": 0
      },
      "text/plain": [
       "class hypothsis:   0%|          | 0/3 [00:00<?, ?it/s]"
      ]
     },
     "metadata": {},
     "output_type": "display_data"
    },
    {
     "data": {
      "application/vnd.jupyter.widget-view+json": {
       "model_id": "785495f6ad064bd6a1456592a096796b",
       "version_major": 2,
       "version_minor": 0
      },
      "text/plain": [
       "class hypothsis:   0%|          | 0/3 [00:00<?, ?it/s]"
      ]
     },
     "metadata": {},
     "output_type": "display_data"
    },
    {
     "data": {
      "application/vnd.jupyter.widget-view+json": {
       "model_id": "82b47078555a4670a91f9078fb26e468",
       "version_major": 2,
       "version_minor": 0
      },
      "text/plain": [
       "class hypothsis:   0%|          | 0/3 [00:00<?, ?it/s]"
      ]
     },
     "metadata": {},
     "output_type": "display_data"
    },
    {
     "data": {
      "application/vnd.jupyter.widget-view+json": {
       "model_id": "0b68bf44801147fba2ddb0e5b4b95a5c",
       "version_major": 2,
       "version_minor": 0
      },
      "text/plain": [
       "class hypothsis:   0%|          | 0/3 [00:00<?, ?it/s]"
      ]
     },
     "metadata": {},
     "output_type": "display_data"
    },
    {
     "data": {
      "application/vnd.jupyter.widget-view+json": {
       "model_id": "23bd5c7216264dc5bf3eae1f5abf3a8c",
       "version_major": 2,
       "version_minor": 0
      },
      "text/plain": [
       "class hypothsis:   0%|          | 0/3 [00:00<?, ?it/s]"
      ]
     },
     "metadata": {},
     "output_type": "display_data"
    },
    {
     "data": {
      "application/vnd.jupyter.widget-view+json": {
       "model_id": "3deb041e0d0e434ea9e3f25d961a7ec8",
       "version_major": 2,
       "version_minor": 0
      },
      "text/plain": [
       "class hypothsis:   0%|          | 0/3 [00:00<?, ?it/s]"
      ]
     },
     "metadata": {},
     "output_type": "display_data"
    },
    {
     "data": {
      "application/vnd.jupyter.widget-view+json": {
       "model_id": "f0bc664c7c0340f38b447d738e200101",
       "version_major": 2,
       "version_minor": 0
      },
      "text/plain": [
       "class hypothsis:   0%|          | 0/3 [00:00<?, ?it/s]"
      ]
     },
     "metadata": {},
     "output_type": "display_data"
    },
    {
     "data": {
      "application/vnd.jupyter.widget-view+json": {
       "model_id": "d4a91e2c4c69492bad5834db92139483",
       "version_major": 2,
       "version_minor": 0
      },
      "text/plain": [
       "class hypothsis:   0%|          | 0/3 [00:00<?, ?it/s]"
      ]
     },
     "metadata": {},
     "output_type": "display_data"
    },
    {
     "data": {
      "application/vnd.jupyter.widget-view+json": {
       "model_id": "73393e28475d46c881cd3d8278c4e3c0",
       "version_major": 2,
       "version_minor": 0
      },
      "text/plain": [
       "class hypothsis:   0%|          | 0/3 [00:00<?, ?it/s]"
      ]
     },
     "metadata": {},
     "output_type": "display_data"
    },
    {
     "data": {
      "application/vnd.jupyter.widget-view+json": {
       "model_id": "6ec41b94da0d49b381bf36586b0dd022",
       "version_major": 2,
       "version_minor": 0
      },
      "text/plain": [
       "class hypothsis:   0%|          | 0/3 [00:00<?, ?it/s]"
      ]
     },
     "metadata": {},
     "output_type": "display_data"
    },
    {
     "data": {
      "application/vnd.jupyter.widget-view+json": {
       "model_id": "2a6a926ce4d0448fbcd32329bfb8dd39",
       "version_major": 2,
       "version_minor": 0
      },
      "text/plain": [
       "class hypothsis:   0%|          | 0/3 [00:00<?, ?it/s]"
      ]
     },
     "metadata": {},
     "output_type": "display_data"
    },
    {
     "data": {
      "application/vnd.jupyter.widget-view+json": {
       "model_id": "f4471e9488a64d5aa0b1eff38e60b9c0",
       "version_major": 2,
       "version_minor": 0
      },
      "text/plain": [
       "class hypothsis:   0%|          | 0/3 [00:00<?, ?it/s]"
      ]
     },
     "metadata": {},
     "output_type": "display_data"
    },
    {
     "data": {
      "application/vnd.jupyter.widget-view+json": {
       "model_id": "374464ce47d342b3808425fd237315ea",
       "version_major": 2,
       "version_minor": 0
      },
      "text/plain": [
       "class hypothsis:   0%|          | 0/3 [00:00<?, ?it/s]"
      ]
     },
     "metadata": {},
     "output_type": "display_data"
    },
    {
     "data": {
      "application/vnd.jupyter.widget-view+json": {
       "model_id": "fce7488b1544409f9279f5861716e666",
       "version_major": 2,
       "version_minor": 0
      },
      "text/plain": [
       "class hypothsis:   0%|          | 0/3 [00:00<?, ?it/s]"
      ]
     },
     "metadata": {},
     "output_type": "display_data"
    },
    {
     "ename": "KeyboardInterrupt",
     "evalue": "",
     "output_type": "error",
     "traceback": [
      "\u001b[0;31m---------------------------------------------------------------------------\u001b[0m",
      "\u001b[0;31mKeyboardInterrupt\u001b[0m                         Traceback (most recent call last)",
      "Cell \u001b[0;32mIn[6], line 3\u001b[0m\n\u001b[1;32m      1\u001b[0m \u001b[38;5;66;03m# run classification for the entire dataset\u001b[39;00m\n\u001b[0;32m----> 3\u001b[0m l2_labels_pred, l1_labels_pred, true_labels \u001b[38;5;241m=\u001b[39m \u001b[43mldm_clf\u001b[49m\u001b[38;5;241;43m.\u001b[39;49m\u001b[43mclassify_dataset\u001b[49m\u001b[43m(\u001b[49m\u001b[43mdataset\u001b[49m\u001b[38;5;241;43m=\u001b[39;49m\u001b[43mimagnet_subset\u001b[49m\u001b[43m,\u001b[49m\n\u001b[1;32m      4\u001b[0m \u001b[43m                                                                       \u001b[49m\u001b[43mbatch_size\u001b[49m\u001b[38;5;241;43m=\u001b[39;49m\u001b[38;5;241;43m1\u001b[39;49m\u001b[43m,\u001b[49m\n\u001b[1;32m      5\u001b[0m \u001b[43m                                                                       \u001b[49m\u001b[43mn_trials\u001b[49m\u001b[38;5;241;43m=\u001b[39;49m\u001b[38;5;241;43m1\u001b[39;49m\u001b[43m,\u001b[49m\n\u001b[1;32m      6\u001b[0m \u001b[43m                                                                       \u001b[49m\u001b[43mt_sampling_stride\u001b[49m\u001b[38;5;241;43m=\u001b[39;49m\u001b[38;5;241;43m50\u001b[39;49m\u001b[43m,\u001b[49m\n\u001b[1;32m      7\u001b[0m \u001b[43m                                                                       \u001b[49m\u001b[43mclasses\u001b[49m\u001b[38;5;241;43m=\u001b[39;49m\u001b[43msubset_classes\u001b[49m\u001b[43m)\u001b[49m\n",
      "File \u001b[0;32m/opt/conda/envs/ldm/lib/python3.8/site-packages/torch/utils/_contextlib.py:115\u001b[0m, in \u001b[0;36mcontext_decorator.<locals>.decorate_context\u001b[0;34m(*args, **kwargs)\u001b[0m\n\u001b[1;32m    112\u001b[0m \u001b[38;5;129m@functools\u001b[39m\u001b[38;5;241m.\u001b[39mwraps(func)\n\u001b[1;32m    113\u001b[0m \u001b[38;5;28;01mdef\u001b[39;00m \u001b[38;5;21mdecorate_context\u001b[39m(\u001b[38;5;241m*\u001b[39margs, \u001b[38;5;241m*\u001b[39m\u001b[38;5;241m*\u001b[39mkwargs):\n\u001b[1;32m    114\u001b[0m     \u001b[38;5;28;01mwith\u001b[39;00m ctx_factory():\n\u001b[0;32m--> 115\u001b[0m         \u001b[38;5;28;01mreturn\u001b[39;00m \u001b[43mfunc\u001b[49m\u001b[43m(\u001b[49m\u001b[38;5;241;43m*\u001b[39;49m\u001b[43margs\u001b[49m\u001b[43m,\u001b[49m\u001b[43m \u001b[49m\u001b[38;5;241;43m*\u001b[39;49m\u001b[38;5;241;43m*\u001b[39;49m\u001b[43mkwargs\u001b[49m\u001b[43m)\u001b[49m\n",
      "File \u001b[0;32m~/deep-learning-course/Project/diffusion_classifier/diffusion_classifier_interface.py:118\u001b[0m, in \u001b[0;36mDiffusionClassifierInterface.classify_dataset\u001b[0;34m(self, dataset, batch_size, n_trials, t_sampling_stride, classes)\u001b[0m\n\u001b[1;32m    115\u001b[0m     \u001b[38;5;28;01mexcept\u001b[39;00m:\n\u001b[1;32m    116\u001b[0m         \u001b[38;5;28;01mpass\u001b[39;00m\n\u001b[0;32m--> 118\u001b[0m l2_label_pred, l1_label_pred \u001b[38;5;241m=\u001b[39m \u001b[38;5;28;43mself\u001b[39;49m\u001b[38;5;241;43m.\u001b[39;49m\u001b[43mclassify_batch\u001b[49m\u001b[43m(\u001b[49m\u001b[43mbatch\u001b[49m\u001b[43m,\u001b[49m\u001b[43m \u001b[49m\u001b[43mc_hypotheses\u001b[49m\u001b[43m,\u001b[49m\u001b[43m \u001b[49m\u001b[43mn_trials\u001b[49m\u001b[43m,\u001b[49m\u001b[43m \u001b[49m\u001b[43mt_sampling_stride\u001b[49m\u001b[43m)\u001b[49m\n\u001b[1;32m    120\u001b[0m true_labels\u001b[38;5;241m.\u001b[39mextend(batch[\u001b[38;5;124m'\u001b[39m\u001b[38;5;124mclass_label\u001b[39m\u001b[38;5;124m'\u001b[39m]\u001b[38;5;241m.\u001b[39mcpu())\n\u001b[1;32m    121\u001b[0m l2_labels_pred\u001b[38;5;241m.\u001b[39mappend(l2_label_pred)\n",
      "File \u001b[0;32m~/deep-learning-course/Project/diffusion_classifier/ldm_classifier_imagenet.py:82\u001b[0m, in \u001b[0;36mLdmClassifier.classify_batch\u001b[0;34m(self, x0, c_hypotheses, n_trials, t_sampling_stride)\u001b[0m\n\u001b[1;32m     72\u001b[0m \u001b[38;5;250m\u001b[39m\u001b[38;5;124;03m\"\"\"\u001b[39;00m\n\u001b[1;32m     73\u001b[0m \u001b[38;5;124;03mclassify a single batch\u001b[39;00m\n\u001b[1;32m     74\u001b[0m \u001b[38;5;124;03m:param x0: diffusion input\u001b[39;00m\n\u001b[0;32m   (...)\u001b[0m\n\u001b[1;32m     79\u001b[0m \u001b[38;5;124;03m:returns : torch.Tensor(L2 predicted label), torch.Tensor(L1 predicted label)\u001b[39;00m\n\u001b[1;32m     80\u001b[0m \u001b[38;5;124;03m\"\"\"\u001b[39;00m\n\u001b[1;32m     81\u001b[0m x0 \u001b[38;5;241m=\u001b[39m \u001b[38;5;28mself\u001b[39m\u001b[38;5;241m.\u001b[39mget_latent_batch(x0)\n\u001b[0;32m---> 82\u001b[0m \u001b[38;5;28;01mreturn\u001b[39;00m \u001b[38;5;28;43msuper\u001b[39;49m\u001b[43m(\u001b[49m\u001b[43mLdmClassifier\u001b[49m\u001b[43m,\u001b[49m\u001b[43m \u001b[49m\u001b[38;5;28;43mself\u001b[39;49m\u001b[43m)\u001b[49m\u001b[38;5;241;43m.\u001b[39;49m\u001b[43mclassify_batch\u001b[49m\u001b[43m(\u001b[49m\u001b[43mx0\u001b[49m\u001b[43m,\u001b[49m\u001b[43m \u001b[49m\u001b[43mc_hypotheses\u001b[49m\u001b[43m,\u001b[49m\u001b[43m \u001b[49m\u001b[43mn_trials\u001b[49m\u001b[43m,\u001b[49m\u001b[43m \u001b[49m\u001b[43mt_sampling_stride\u001b[49m\u001b[43m)\u001b[49m\n",
      "File \u001b[0;32m/opt/conda/envs/ldm/lib/python3.8/site-packages/torch/utils/_contextlib.py:115\u001b[0m, in \u001b[0;36mcontext_decorator.<locals>.decorate_context\u001b[0;34m(*args, **kwargs)\u001b[0m\n\u001b[1;32m    112\u001b[0m \u001b[38;5;129m@functools\u001b[39m\u001b[38;5;241m.\u001b[39mwraps(func)\n\u001b[1;32m    113\u001b[0m \u001b[38;5;28;01mdef\u001b[39;00m \u001b[38;5;21mdecorate_context\u001b[39m(\u001b[38;5;241m*\u001b[39margs, \u001b[38;5;241m*\u001b[39m\u001b[38;5;241m*\u001b[39mkwargs):\n\u001b[1;32m    114\u001b[0m     \u001b[38;5;28;01mwith\u001b[39;00m ctx_factory():\n\u001b[0;32m--> 115\u001b[0m         \u001b[38;5;28;01mreturn\u001b[39;00m \u001b[43mfunc\u001b[49m\u001b[43m(\u001b[49m\u001b[38;5;241;43m*\u001b[39;49m\u001b[43margs\u001b[49m\u001b[43m,\u001b[49m\u001b[43m \u001b[49m\u001b[38;5;241;43m*\u001b[39;49m\u001b[38;5;241;43m*\u001b[39;49m\u001b[43mkwargs\u001b[49m\u001b[43m)\u001b[49m\n",
      "File \u001b[0;32m~/deep-learning-course/Project/diffusion_classifier/diffusion_classifier_interface.py:146\u001b[0m, in \u001b[0;36mDiffusionClassifierInterface.classify_batch\u001b[0;34m(self, x0, c_hypotheses, n_trials, t_sampling_stride)\u001b[0m\n\u001b[1;32m    144\u001b[0m l2_c_errs \u001b[38;5;241m=\u001b[39m []\n\u001b[1;32m    145\u001b[0m \u001b[38;5;28;01mfor\u001b[39;00m c_hypo \u001b[38;5;129;01min\u001b[39;00m tqdm\u001b[38;5;241m.\u001b[39mauto\u001b[38;5;241m.\u001b[39mtqdm(c_hypotheses, desc\u001b[38;5;241m=\u001b[39m\u001b[38;5;124m\"\u001b[39m\u001b[38;5;124mclass hypothsis\u001b[39m\u001b[38;5;124m\"\u001b[39m):\n\u001b[0;32m--> 146\u001b[0m     l2_mean_err, l1_mean_err \u001b[38;5;241m=\u001b[39m \u001b[38;5;28;43mself\u001b[39;49m\u001b[38;5;241;43m.\u001b[39;49m\u001b[43meval_class_hypothesis_per_batch\u001b[49m\u001b[43m(\u001b[49m\u001b[43mx0\u001b[49m\u001b[38;5;241;43m=\u001b[39;49m\u001b[43mx0\u001b[49m\u001b[43m,\u001b[49m\n\u001b[1;32m    147\u001b[0m \u001b[43m                                                                    \u001b[49m\u001b[43mc\u001b[49m\u001b[38;5;241;43m=\u001b[39;49m\u001b[43mc_hypo\u001b[49m\u001b[43m,\u001b[49m\n\u001b[1;32m    148\u001b[0m \u001b[43m                                                                    \u001b[49m\u001b[43mn_trials\u001b[49m\u001b[38;5;241;43m=\u001b[39;49m\u001b[43mn_trials\u001b[49m\u001b[43m,\u001b[49m\n\u001b[1;32m    149\u001b[0m \u001b[43m                                                                    \u001b[49m\u001b[43mt_sampling_stride\u001b[49m\u001b[38;5;241;43m=\u001b[39;49m\u001b[43mt_sampling_stride\u001b[49m\u001b[43m)\u001b[49m\n\u001b[1;32m    150\u001b[0m     l2_c_errs\u001b[38;5;241m.\u001b[39mappend((l2_mean_err\u001b[38;5;241m.\u001b[39mcpu(), c_hypo[\u001b[38;5;124m'\u001b[39m\u001b[38;5;124mclass_label\u001b[39m\u001b[38;5;124m'\u001b[39m]\u001b[38;5;241m.\u001b[39mcpu()))\n\u001b[1;32m    151\u001b[0m     l1_c_errs\u001b[38;5;241m.\u001b[39mappend((l1_mean_err\u001b[38;5;241m.\u001b[39mcpu(), c_hypo[\u001b[38;5;124m'\u001b[39m\u001b[38;5;124mclass_label\u001b[39m\u001b[38;5;124m'\u001b[39m]\u001b[38;5;241m.\u001b[39mcpu()))\n",
      "File \u001b[0;32m/opt/conda/envs/ldm/lib/python3.8/site-packages/torch/utils/_contextlib.py:115\u001b[0m, in \u001b[0;36mcontext_decorator.<locals>.decorate_context\u001b[0;34m(*args, **kwargs)\u001b[0m\n\u001b[1;32m    112\u001b[0m \u001b[38;5;129m@functools\u001b[39m\u001b[38;5;241m.\u001b[39mwraps(func)\n\u001b[1;32m    113\u001b[0m \u001b[38;5;28;01mdef\u001b[39;00m \u001b[38;5;21mdecorate_context\u001b[39m(\u001b[38;5;241m*\u001b[39margs, \u001b[38;5;241m*\u001b[39m\u001b[38;5;241m*\u001b[39mkwargs):\n\u001b[1;32m    114\u001b[0m     \u001b[38;5;28;01mwith\u001b[39;00m ctx_factory():\n\u001b[0;32m--> 115\u001b[0m         \u001b[38;5;28;01mreturn\u001b[39;00m \u001b[43mfunc\u001b[49m\u001b[43m(\u001b[49m\u001b[38;5;241;43m*\u001b[39;49m\u001b[43margs\u001b[49m\u001b[43m,\u001b[49m\u001b[43m \u001b[49m\u001b[38;5;241;43m*\u001b[39;49m\u001b[38;5;241;43m*\u001b[39;49m\u001b[43mkwargs\u001b[49m\u001b[43m)\u001b[49m\n",
      "File \u001b[0;32m~/deep-learning-course/Project/diffusion_classifier/diffusion_classifier_interface.py:187\u001b[0m, in \u001b[0;36mDiffusionClassifierInterface.eval_class_hypothesis_per_batch\u001b[0;34m(self, x0, c, n_trials, t_sampling_stride)\u001b[0m\n\u001b[1;32m    183\u001b[0m noise \u001b[38;5;241m=\u001b[39m \u001b[38;5;28mself\u001b[39m\u001b[38;5;241m.\u001b[39mnoise[:\u001b[38;5;28mlen\u001b[39m(t_input)]\n\u001b[1;32m    185\u001b[0m \u001b[38;5;66;03m# x0 = x0.repeat(len(t_input), 1, 1, 1)\u001b[39;00m\n\u001b[0;32m--> 187\u001b[0m noise_pred \u001b[38;5;241m=\u001b[39m \u001b[38;5;28;43mself\u001b[39;49m\u001b[38;5;241;43m.\u001b[39;49m\u001b[43mget_noise_prediction\u001b[49m\u001b[43m(\u001b[49m\u001b[43mx0\u001b[49m\u001b[43m,\u001b[49m\u001b[43m \u001b[49m\u001b[43mt_input\u001b[49m\u001b[43m,\u001b[49m\u001b[43m \u001b[49m\u001b[43mnoise\u001b[49m\u001b[43m,\u001b[49m\u001b[43m \u001b[49m\u001b[43mc\u001b[49m\u001b[43m)\u001b[49m\n\u001b[1;32m    189\u001b[0m l2_loss \u001b[38;5;241m=\u001b[39m mean_flat((noise \u001b[38;5;241m-\u001b[39m noise_pred) \u001b[38;5;241m*\u001b[39m\u001b[38;5;241m*\u001b[39m \u001b[38;5;241m2\u001b[39m)\n\u001b[1;32m    190\u001b[0m l1_loss \u001b[38;5;241m=\u001b[39m mean_flat(torch\u001b[38;5;241m.\u001b[39mabs(noise \u001b[38;5;241m-\u001b[39m noise_pred))\n",
      "File \u001b[0;32m~/deep-learning-course/Project/diffusion_classifier/ldm_classifier_imagenet.py:108\u001b[0m, in \u001b[0;36mLdmClassifier.get_noise_prediction\u001b[0;34m(self, x0, t, noise, c)\u001b[0m\n\u001b[1;32m    105\u001b[0m cond_emb \u001b[38;5;241m=\u001b[39m \u001b[38;5;28mself\u001b[39m\u001b[38;5;241m.\u001b[39mget_conditioning(cond_input)\n\u001b[1;32m    107\u001b[0m \u001b[38;5;66;03m# get noise prediction from diffusion model\u001b[39;00m\n\u001b[0;32m--> 108\u001b[0m noise_pred \u001b[38;5;241m=\u001b[39m \u001b[38;5;28;43mself\u001b[39;49m\u001b[38;5;241;43m.\u001b[39;49m\u001b[43mget_diffusion_noise_prediction\u001b[49m\u001b[43m(\u001b[49m\u001b[43mnoised_latent\u001b[49m\u001b[43m,\u001b[49m\u001b[43m \u001b[49m\u001b[43mt\u001b[49m\u001b[43m,\u001b[49m\u001b[43m \u001b[49m\u001b[43mcond_emb\u001b[49m\u001b[43m)\u001b[49m\n\u001b[1;32m    109\u001b[0m \u001b[38;5;28;01mreturn\u001b[39;00m noise_pred\n",
      "File \u001b[0;32m~/deep-learning-course/Project/diffusion_classifier/ldm_classifier_imagenet.py:95\u001b[0m, in \u001b[0;36mLdmClassifier.get_diffusion_noise_prediction\u001b[0;34m(self, x0, t, conditioning)\u001b[0m\n\u001b[1;32m     94\u001b[0m \u001b[38;5;28;01mdef\u001b[39;00m \u001b[38;5;21mget_diffusion_noise_prediction\u001b[39m(\u001b[38;5;28mself\u001b[39m, x0, t, conditioning):\n\u001b[0;32m---> 95\u001b[0m     noise_pred \u001b[38;5;241m=\u001b[39m \u001b[38;5;28;43mself\u001b[39;49m\u001b[38;5;241;43m.\u001b[39;49m\u001b[43m_model\u001b[49m\u001b[38;5;241;43m.\u001b[39;49m\u001b[43mmodel\u001b[49m\u001b[43m(\u001b[49m\u001b[43mx0\u001b[49m\u001b[43m,\u001b[49m\u001b[43m \u001b[49m\u001b[43mt\u001b[49m\u001b[43m,\u001b[49m\u001b[43m \u001b[49m\u001b[38;5;241;43m*\u001b[39;49m\u001b[38;5;241;43m*\u001b[39;49m\u001b[43mconditioning\u001b[49m\u001b[43m)\u001b[49m\n\u001b[1;32m     96\u001b[0m     \u001b[38;5;28;01mreturn\u001b[39;00m noise_pred\n",
      "File \u001b[0;32m/opt/conda/envs/ldm/lib/python3.8/site-packages/torch/nn/modules/module.py:1511\u001b[0m, in \u001b[0;36mModule._wrapped_call_impl\u001b[0;34m(self, *args, **kwargs)\u001b[0m\n\u001b[1;32m   1509\u001b[0m     \u001b[38;5;28;01mreturn\u001b[39;00m \u001b[38;5;28mself\u001b[39m\u001b[38;5;241m.\u001b[39m_compiled_call_impl(\u001b[38;5;241m*\u001b[39margs, \u001b[38;5;241m*\u001b[39m\u001b[38;5;241m*\u001b[39mkwargs)  \u001b[38;5;66;03m# type: ignore[misc]\u001b[39;00m\n\u001b[1;32m   1510\u001b[0m \u001b[38;5;28;01melse\u001b[39;00m:\n\u001b[0;32m-> 1511\u001b[0m     \u001b[38;5;28;01mreturn\u001b[39;00m \u001b[38;5;28;43mself\u001b[39;49m\u001b[38;5;241;43m.\u001b[39;49m\u001b[43m_call_impl\u001b[49m\u001b[43m(\u001b[49m\u001b[38;5;241;43m*\u001b[39;49m\u001b[43margs\u001b[49m\u001b[43m,\u001b[49m\u001b[43m \u001b[49m\u001b[38;5;241;43m*\u001b[39;49m\u001b[38;5;241;43m*\u001b[39;49m\u001b[43mkwargs\u001b[49m\u001b[43m)\u001b[49m\n",
      "File \u001b[0;32m/opt/conda/envs/ldm/lib/python3.8/site-packages/torch/nn/modules/module.py:1520\u001b[0m, in \u001b[0;36mModule._call_impl\u001b[0;34m(self, *args, **kwargs)\u001b[0m\n\u001b[1;32m   1515\u001b[0m \u001b[38;5;66;03m# If we don't have any hooks, we want to skip the rest of the logic in\u001b[39;00m\n\u001b[1;32m   1516\u001b[0m \u001b[38;5;66;03m# this function, and just call forward.\u001b[39;00m\n\u001b[1;32m   1517\u001b[0m \u001b[38;5;28;01mif\u001b[39;00m \u001b[38;5;129;01mnot\u001b[39;00m (\u001b[38;5;28mself\u001b[39m\u001b[38;5;241m.\u001b[39m_backward_hooks \u001b[38;5;129;01mor\u001b[39;00m \u001b[38;5;28mself\u001b[39m\u001b[38;5;241m.\u001b[39m_backward_pre_hooks \u001b[38;5;129;01mor\u001b[39;00m \u001b[38;5;28mself\u001b[39m\u001b[38;5;241m.\u001b[39m_forward_hooks \u001b[38;5;129;01mor\u001b[39;00m \u001b[38;5;28mself\u001b[39m\u001b[38;5;241m.\u001b[39m_forward_pre_hooks\n\u001b[1;32m   1518\u001b[0m         \u001b[38;5;129;01mor\u001b[39;00m _global_backward_pre_hooks \u001b[38;5;129;01mor\u001b[39;00m _global_backward_hooks\n\u001b[1;32m   1519\u001b[0m         \u001b[38;5;129;01mor\u001b[39;00m _global_forward_hooks \u001b[38;5;129;01mor\u001b[39;00m _global_forward_pre_hooks):\n\u001b[0;32m-> 1520\u001b[0m     \u001b[38;5;28;01mreturn\u001b[39;00m \u001b[43mforward_call\u001b[49m\u001b[43m(\u001b[49m\u001b[38;5;241;43m*\u001b[39;49m\u001b[43margs\u001b[49m\u001b[43m,\u001b[49m\u001b[43m \u001b[49m\u001b[38;5;241;43m*\u001b[39;49m\u001b[38;5;241;43m*\u001b[39;49m\u001b[43mkwargs\u001b[49m\u001b[43m)\u001b[49m\n\u001b[1;32m   1522\u001b[0m \u001b[38;5;28;01mtry\u001b[39;00m:\n\u001b[1;32m   1523\u001b[0m     result \u001b[38;5;241m=\u001b[39m \u001b[38;5;28;01mNone\u001b[39;00m\n",
      "File \u001b[0;32m~/deep-learning-course/Project/latent-diffusion/ldm/models/diffusion/ddpm.py:1415\u001b[0m, in \u001b[0;36mDiffusionWrapper.forward\u001b[0;34m(self, x, t, c_concat, c_crossattn)\u001b[0m\n\u001b[1;32m   1413\u001b[0m \u001b[38;5;28;01melif\u001b[39;00m \u001b[38;5;28mself\u001b[39m\u001b[38;5;241m.\u001b[39mconditioning_key \u001b[38;5;241m==\u001b[39m \u001b[38;5;124m'\u001b[39m\u001b[38;5;124mcrossattn\u001b[39m\u001b[38;5;124m'\u001b[39m:\n\u001b[1;32m   1414\u001b[0m     cc \u001b[38;5;241m=\u001b[39m torch\u001b[38;5;241m.\u001b[39mcat(c_crossattn, \u001b[38;5;241m1\u001b[39m)\n\u001b[0;32m-> 1415\u001b[0m     out \u001b[38;5;241m=\u001b[39m \u001b[38;5;28;43mself\u001b[39;49m\u001b[38;5;241;43m.\u001b[39;49m\u001b[43mdiffusion_model\u001b[49m\u001b[43m(\u001b[49m\u001b[43mx\u001b[49m\u001b[43m,\u001b[49m\u001b[43m \u001b[49m\u001b[43mt\u001b[49m\u001b[43m,\u001b[49m\u001b[43m \u001b[49m\u001b[43mcontext\u001b[49m\u001b[38;5;241;43m=\u001b[39;49m\u001b[43mcc\u001b[49m\u001b[43m)\u001b[49m\n\u001b[1;32m   1416\u001b[0m \u001b[38;5;28;01melif\u001b[39;00m \u001b[38;5;28mself\u001b[39m\u001b[38;5;241m.\u001b[39mconditioning_key \u001b[38;5;241m==\u001b[39m \u001b[38;5;124m'\u001b[39m\u001b[38;5;124mhybrid\u001b[39m\u001b[38;5;124m'\u001b[39m:\n\u001b[1;32m   1417\u001b[0m     xc \u001b[38;5;241m=\u001b[39m torch\u001b[38;5;241m.\u001b[39mcat([x] \u001b[38;5;241m+\u001b[39m c_concat, dim\u001b[38;5;241m=\u001b[39m\u001b[38;5;241m1\u001b[39m)\n",
      "File \u001b[0;32m/opt/conda/envs/ldm/lib/python3.8/site-packages/torch/nn/modules/module.py:1511\u001b[0m, in \u001b[0;36mModule._wrapped_call_impl\u001b[0;34m(self, *args, **kwargs)\u001b[0m\n\u001b[1;32m   1509\u001b[0m     \u001b[38;5;28;01mreturn\u001b[39;00m \u001b[38;5;28mself\u001b[39m\u001b[38;5;241m.\u001b[39m_compiled_call_impl(\u001b[38;5;241m*\u001b[39margs, \u001b[38;5;241m*\u001b[39m\u001b[38;5;241m*\u001b[39mkwargs)  \u001b[38;5;66;03m# type: ignore[misc]\u001b[39;00m\n\u001b[1;32m   1510\u001b[0m \u001b[38;5;28;01melse\u001b[39;00m:\n\u001b[0;32m-> 1511\u001b[0m     \u001b[38;5;28;01mreturn\u001b[39;00m \u001b[38;5;28;43mself\u001b[39;49m\u001b[38;5;241;43m.\u001b[39;49m\u001b[43m_call_impl\u001b[49m\u001b[43m(\u001b[49m\u001b[38;5;241;43m*\u001b[39;49m\u001b[43margs\u001b[49m\u001b[43m,\u001b[49m\u001b[43m \u001b[49m\u001b[38;5;241;43m*\u001b[39;49m\u001b[38;5;241;43m*\u001b[39;49m\u001b[43mkwargs\u001b[49m\u001b[43m)\u001b[49m\n",
      "File \u001b[0;32m/opt/conda/envs/ldm/lib/python3.8/site-packages/torch/nn/modules/module.py:1520\u001b[0m, in \u001b[0;36mModule._call_impl\u001b[0;34m(self, *args, **kwargs)\u001b[0m\n\u001b[1;32m   1515\u001b[0m \u001b[38;5;66;03m# If we don't have any hooks, we want to skip the rest of the logic in\u001b[39;00m\n\u001b[1;32m   1516\u001b[0m \u001b[38;5;66;03m# this function, and just call forward.\u001b[39;00m\n\u001b[1;32m   1517\u001b[0m \u001b[38;5;28;01mif\u001b[39;00m \u001b[38;5;129;01mnot\u001b[39;00m (\u001b[38;5;28mself\u001b[39m\u001b[38;5;241m.\u001b[39m_backward_hooks \u001b[38;5;129;01mor\u001b[39;00m \u001b[38;5;28mself\u001b[39m\u001b[38;5;241m.\u001b[39m_backward_pre_hooks \u001b[38;5;129;01mor\u001b[39;00m \u001b[38;5;28mself\u001b[39m\u001b[38;5;241m.\u001b[39m_forward_hooks \u001b[38;5;129;01mor\u001b[39;00m \u001b[38;5;28mself\u001b[39m\u001b[38;5;241m.\u001b[39m_forward_pre_hooks\n\u001b[1;32m   1518\u001b[0m         \u001b[38;5;129;01mor\u001b[39;00m _global_backward_pre_hooks \u001b[38;5;129;01mor\u001b[39;00m _global_backward_hooks\n\u001b[1;32m   1519\u001b[0m         \u001b[38;5;129;01mor\u001b[39;00m _global_forward_hooks \u001b[38;5;129;01mor\u001b[39;00m _global_forward_pre_hooks):\n\u001b[0;32m-> 1520\u001b[0m     \u001b[38;5;28;01mreturn\u001b[39;00m \u001b[43mforward_call\u001b[49m\u001b[43m(\u001b[49m\u001b[38;5;241;43m*\u001b[39;49m\u001b[43margs\u001b[49m\u001b[43m,\u001b[49m\u001b[43m \u001b[49m\u001b[38;5;241;43m*\u001b[39;49m\u001b[38;5;241;43m*\u001b[39;49m\u001b[43mkwargs\u001b[49m\u001b[43m)\u001b[49m\n\u001b[1;32m   1522\u001b[0m \u001b[38;5;28;01mtry\u001b[39;00m:\n\u001b[1;32m   1523\u001b[0m     result \u001b[38;5;241m=\u001b[39m \u001b[38;5;28;01mNone\u001b[39;00m\n",
      "File \u001b[0;32m~/deep-learning-course/Project/latent-diffusion/ldm/modules/diffusionmodules/openaimodel.py:737\u001b[0m, in \u001b[0;36mUNetModel.forward\u001b[0;34m(self, x, timesteps, context, y, **kwargs)\u001b[0m\n\u001b[1;32m    735\u001b[0m \u001b[38;5;28;01mfor\u001b[39;00m module \u001b[38;5;129;01min\u001b[39;00m \u001b[38;5;28mself\u001b[39m\u001b[38;5;241m.\u001b[39moutput_blocks:\n\u001b[1;32m    736\u001b[0m     h \u001b[38;5;241m=\u001b[39m th\u001b[38;5;241m.\u001b[39mcat([h, hs\u001b[38;5;241m.\u001b[39mpop()], dim\u001b[38;5;241m=\u001b[39m\u001b[38;5;241m1\u001b[39m)\n\u001b[0;32m--> 737\u001b[0m     h \u001b[38;5;241m=\u001b[39m \u001b[43mmodule\u001b[49m\u001b[43m(\u001b[49m\u001b[43mh\u001b[49m\u001b[43m,\u001b[49m\u001b[43m \u001b[49m\u001b[43memb\u001b[49m\u001b[43m,\u001b[49m\u001b[43m \u001b[49m\u001b[43mcontext\u001b[49m\u001b[43m)\u001b[49m\n\u001b[1;32m    738\u001b[0m h \u001b[38;5;241m=\u001b[39m h\u001b[38;5;241m.\u001b[39mtype(x\u001b[38;5;241m.\u001b[39mdtype)\n\u001b[1;32m    739\u001b[0m \u001b[38;5;28;01mif\u001b[39;00m \u001b[38;5;28mself\u001b[39m\u001b[38;5;241m.\u001b[39mpredict_codebook_ids:\n",
      "File \u001b[0;32m/opt/conda/envs/ldm/lib/python3.8/site-packages/torch/nn/modules/module.py:1511\u001b[0m, in \u001b[0;36mModule._wrapped_call_impl\u001b[0;34m(self, *args, **kwargs)\u001b[0m\n\u001b[1;32m   1509\u001b[0m     \u001b[38;5;28;01mreturn\u001b[39;00m \u001b[38;5;28mself\u001b[39m\u001b[38;5;241m.\u001b[39m_compiled_call_impl(\u001b[38;5;241m*\u001b[39margs, \u001b[38;5;241m*\u001b[39m\u001b[38;5;241m*\u001b[39mkwargs)  \u001b[38;5;66;03m# type: ignore[misc]\u001b[39;00m\n\u001b[1;32m   1510\u001b[0m \u001b[38;5;28;01melse\u001b[39;00m:\n\u001b[0;32m-> 1511\u001b[0m     \u001b[38;5;28;01mreturn\u001b[39;00m \u001b[38;5;28;43mself\u001b[39;49m\u001b[38;5;241;43m.\u001b[39;49m\u001b[43m_call_impl\u001b[49m\u001b[43m(\u001b[49m\u001b[38;5;241;43m*\u001b[39;49m\u001b[43margs\u001b[49m\u001b[43m,\u001b[49m\u001b[43m \u001b[49m\u001b[38;5;241;43m*\u001b[39;49m\u001b[38;5;241;43m*\u001b[39;49m\u001b[43mkwargs\u001b[49m\u001b[43m)\u001b[49m\n",
      "File \u001b[0;32m/opt/conda/envs/ldm/lib/python3.8/site-packages/torch/nn/modules/module.py:1520\u001b[0m, in \u001b[0;36mModule._call_impl\u001b[0;34m(self, *args, **kwargs)\u001b[0m\n\u001b[1;32m   1515\u001b[0m \u001b[38;5;66;03m# If we don't have any hooks, we want to skip the rest of the logic in\u001b[39;00m\n\u001b[1;32m   1516\u001b[0m \u001b[38;5;66;03m# this function, and just call forward.\u001b[39;00m\n\u001b[1;32m   1517\u001b[0m \u001b[38;5;28;01mif\u001b[39;00m \u001b[38;5;129;01mnot\u001b[39;00m (\u001b[38;5;28mself\u001b[39m\u001b[38;5;241m.\u001b[39m_backward_hooks \u001b[38;5;129;01mor\u001b[39;00m \u001b[38;5;28mself\u001b[39m\u001b[38;5;241m.\u001b[39m_backward_pre_hooks \u001b[38;5;129;01mor\u001b[39;00m \u001b[38;5;28mself\u001b[39m\u001b[38;5;241m.\u001b[39m_forward_hooks \u001b[38;5;129;01mor\u001b[39;00m \u001b[38;5;28mself\u001b[39m\u001b[38;5;241m.\u001b[39m_forward_pre_hooks\n\u001b[1;32m   1518\u001b[0m         \u001b[38;5;129;01mor\u001b[39;00m _global_backward_pre_hooks \u001b[38;5;129;01mor\u001b[39;00m _global_backward_hooks\n\u001b[1;32m   1519\u001b[0m         \u001b[38;5;129;01mor\u001b[39;00m _global_forward_hooks \u001b[38;5;129;01mor\u001b[39;00m _global_forward_pre_hooks):\n\u001b[0;32m-> 1520\u001b[0m     \u001b[38;5;28;01mreturn\u001b[39;00m \u001b[43mforward_call\u001b[49m\u001b[43m(\u001b[49m\u001b[38;5;241;43m*\u001b[39;49m\u001b[43margs\u001b[49m\u001b[43m,\u001b[49m\u001b[43m \u001b[49m\u001b[38;5;241;43m*\u001b[39;49m\u001b[38;5;241;43m*\u001b[39;49m\u001b[43mkwargs\u001b[49m\u001b[43m)\u001b[49m\n\u001b[1;32m   1522\u001b[0m \u001b[38;5;28;01mtry\u001b[39;00m:\n\u001b[1;32m   1523\u001b[0m     result \u001b[38;5;241m=\u001b[39m \u001b[38;5;28;01mNone\u001b[39;00m\n",
      "File \u001b[0;32m~/deep-learning-course/Project/latent-diffusion/ldm/modules/diffusionmodules/openaimodel.py:83\u001b[0m, in \u001b[0;36mTimestepEmbedSequential.forward\u001b[0;34m(self, x, emb, context)\u001b[0m\n\u001b[1;32m     81\u001b[0m \u001b[38;5;28;01mfor\u001b[39;00m layer \u001b[38;5;129;01min\u001b[39;00m \u001b[38;5;28mself\u001b[39m:\n\u001b[1;32m     82\u001b[0m     \u001b[38;5;28;01mif\u001b[39;00m \u001b[38;5;28misinstance\u001b[39m(layer, TimestepBlock):\n\u001b[0;32m---> 83\u001b[0m         x \u001b[38;5;241m=\u001b[39m \u001b[43mlayer\u001b[49m\u001b[43m(\u001b[49m\u001b[43mx\u001b[49m\u001b[43m,\u001b[49m\u001b[43m \u001b[49m\u001b[43memb\u001b[49m\u001b[43m)\u001b[49m\n\u001b[1;32m     84\u001b[0m     \u001b[38;5;28;01melif\u001b[39;00m \u001b[38;5;28misinstance\u001b[39m(layer, SpatialTransformer):\n\u001b[1;32m     85\u001b[0m         x \u001b[38;5;241m=\u001b[39m layer(x, context)\n",
      "File \u001b[0;32m/opt/conda/envs/ldm/lib/python3.8/site-packages/torch/nn/modules/module.py:1511\u001b[0m, in \u001b[0;36mModule._wrapped_call_impl\u001b[0;34m(self, *args, **kwargs)\u001b[0m\n\u001b[1;32m   1509\u001b[0m     \u001b[38;5;28;01mreturn\u001b[39;00m \u001b[38;5;28mself\u001b[39m\u001b[38;5;241m.\u001b[39m_compiled_call_impl(\u001b[38;5;241m*\u001b[39margs, \u001b[38;5;241m*\u001b[39m\u001b[38;5;241m*\u001b[39mkwargs)  \u001b[38;5;66;03m# type: ignore[misc]\u001b[39;00m\n\u001b[1;32m   1510\u001b[0m \u001b[38;5;28;01melse\u001b[39;00m:\n\u001b[0;32m-> 1511\u001b[0m     \u001b[38;5;28;01mreturn\u001b[39;00m \u001b[38;5;28;43mself\u001b[39;49m\u001b[38;5;241;43m.\u001b[39;49m\u001b[43m_call_impl\u001b[49m\u001b[43m(\u001b[49m\u001b[38;5;241;43m*\u001b[39;49m\u001b[43margs\u001b[49m\u001b[43m,\u001b[49m\u001b[43m \u001b[49m\u001b[38;5;241;43m*\u001b[39;49m\u001b[38;5;241;43m*\u001b[39;49m\u001b[43mkwargs\u001b[49m\u001b[43m)\u001b[49m\n",
      "File \u001b[0;32m/opt/conda/envs/ldm/lib/python3.8/site-packages/torch/nn/modules/module.py:1520\u001b[0m, in \u001b[0;36mModule._call_impl\u001b[0;34m(self, *args, **kwargs)\u001b[0m\n\u001b[1;32m   1515\u001b[0m \u001b[38;5;66;03m# If we don't have any hooks, we want to skip the rest of the logic in\u001b[39;00m\n\u001b[1;32m   1516\u001b[0m \u001b[38;5;66;03m# this function, and just call forward.\u001b[39;00m\n\u001b[1;32m   1517\u001b[0m \u001b[38;5;28;01mif\u001b[39;00m \u001b[38;5;129;01mnot\u001b[39;00m (\u001b[38;5;28mself\u001b[39m\u001b[38;5;241m.\u001b[39m_backward_hooks \u001b[38;5;129;01mor\u001b[39;00m \u001b[38;5;28mself\u001b[39m\u001b[38;5;241m.\u001b[39m_backward_pre_hooks \u001b[38;5;129;01mor\u001b[39;00m \u001b[38;5;28mself\u001b[39m\u001b[38;5;241m.\u001b[39m_forward_hooks \u001b[38;5;129;01mor\u001b[39;00m \u001b[38;5;28mself\u001b[39m\u001b[38;5;241m.\u001b[39m_forward_pre_hooks\n\u001b[1;32m   1518\u001b[0m         \u001b[38;5;129;01mor\u001b[39;00m _global_backward_pre_hooks \u001b[38;5;129;01mor\u001b[39;00m _global_backward_hooks\n\u001b[1;32m   1519\u001b[0m         \u001b[38;5;129;01mor\u001b[39;00m _global_forward_hooks \u001b[38;5;129;01mor\u001b[39;00m _global_forward_pre_hooks):\n\u001b[0;32m-> 1520\u001b[0m     \u001b[38;5;28;01mreturn\u001b[39;00m \u001b[43mforward_call\u001b[49m\u001b[43m(\u001b[49m\u001b[38;5;241;43m*\u001b[39;49m\u001b[43margs\u001b[49m\u001b[43m,\u001b[49m\u001b[43m \u001b[49m\u001b[38;5;241;43m*\u001b[39;49m\u001b[38;5;241;43m*\u001b[39;49m\u001b[43mkwargs\u001b[49m\u001b[43m)\u001b[49m\n\u001b[1;32m   1522\u001b[0m \u001b[38;5;28;01mtry\u001b[39;00m:\n\u001b[1;32m   1523\u001b[0m     result \u001b[38;5;241m=\u001b[39m \u001b[38;5;28;01mNone\u001b[39;00m\n",
      "File \u001b[0;32m~/deep-learning-course/Project/latent-diffusion/ldm/modules/diffusionmodules/openaimodel.py:250\u001b[0m, in \u001b[0;36mResBlock.forward\u001b[0;34m(self, x, emb)\u001b[0m\n\u001b[1;32m    243\u001b[0m \u001b[38;5;28;01mdef\u001b[39;00m \u001b[38;5;21mforward\u001b[39m(\u001b[38;5;28mself\u001b[39m, x, emb):\n\u001b[1;32m    244\u001b[0m \u001b[38;5;250m    \u001b[39m\u001b[38;5;124;03m\"\"\"\u001b[39;00m\n\u001b[1;32m    245\u001b[0m \u001b[38;5;124;03m    Apply the block to a Tensor, conditioned on a timestep embedding.\u001b[39;00m\n\u001b[1;32m    246\u001b[0m \u001b[38;5;124;03m    :param x: an [N x C x ...] Tensor of features.\u001b[39;00m\n\u001b[1;32m    247\u001b[0m \u001b[38;5;124;03m    :param emb: an [N x emb_channels] Tensor of timestep embeddings.\u001b[39;00m\n\u001b[1;32m    248\u001b[0m \u001b[38;5;124;03m    :return: an [N x C x ...] Tensor of outputs.\u001b[39;00m\n\u001b[1;32m    249\u001b[0m \u001b[38;5;124;03m    \"\"\"\u001b[39;00m\n\u001b[0;32m--> 250\u001b[0m     \u001b[38;5;28;01mreturn\u001b[39;00m \u001b[43mcheckpoint\u001b[49m\u001b[43m(\u001b[49m\n\u001b[1;32m    251\u001b[0m \u001b[43m        \u001b[49m\u001b[38;5;28;43mself\u001b[39;49m\u001b[38;5;241;43m.\u001b[39;49m\u001b[43m_forward\u001b[49m\u001b[43m,\u001b[49m\u001b[43m \u001b[49m\u001b[43m(\u001b[49m\u001b[43mx\u001b[49m\u001b[43m,\u001b[49m\u001b[43m \u001b[49m\u001b[43memb\u001b[49m\u001b[43m)\u001b[49m\u001b[43m,\u001b[49m\u001b[43m \u001b[49m\u001b[38;5;28;43mself\u001b[39;49m\u001b[38;5;241;43m.\u001b[39;49m\u001b[43mparameters\u001b[49m\u001b[43m(\u001b[49m\u001b[43m)\u001b[49m\u001b[43m,\u001b[49m\u001b[43m \u001b[49m\u001b[38;5;28;43mself\u001b[39;49m\u001b[38;5;241;43m.\u001b[39;49m\u001b[43muse_checkpoint\u001b[49m\n\u001b[1;32m    252\u001b[0m \u001b[43m    \u001b[49m\u001b[43m)\u001b[49m\n",
      "File \u001b[0;32m~/deep-learning-course/Project/latent-diffusion/ldm/modules/diffusionmodules/util.py:116\u001b[0m, in \u001b[0;36mcheckpoint\u001b[0;34m(func, inputs, params, flag)\u001b[0m\n\u001b[1;32m    114\u001b[0m     \u001b[38;5;28;01mreturn\u001b[39;00m CheckpointFunction\u001b[38;5;241m.\u001b[39mapply(func, \u001b[38;5;28mlen\u001b[39m(inputs), \u001b[38;5;241m*\u001b[39margs)\n\u001b[1;32m    115\u001b[0m \u001b[38;5;28;01melse\u001b[39;00m:\n\u001b[0;32m--> 116\u001b[0m     \u001b[38;5;28;01mreturn\u001b[39;00m \u001b[43mfunc\u001b[49m\u001b[43m(\u001b[49m\u001b[38;5;241;43m*\u001b[39;49m\u001b[43minputs\u001b[49m\u001b[43m)\u001b[49m\n",
      "File \u001b[0;32m~/deep-learning-course/Project/latent-diffusion/ldm/modules/diffusionmodules/openaimodel.py:274\u001b[0m, in \u001b[0;36mResBlock._forward\u001b[0;34m(self, x, emb)\u001b[0m\n\u001b[1;32m    272\u001b[0m \u001b[38;5;28;01melse\u001b[39;00m:\n\u001b[1;32m    273\u001b[0m     h \u001b[38;5;241m=\u001b[39m h \u001b[38;5;241m+\u001b[39m emb_out\n\u001b[0;32m--> 274\u001b[0m     h \u001b[38;5;241m=\u001b[39m \u001b[38;5;28;43mself\u001b[39;49m\u001b[38;5;241;43m.\u001b[39;49m\u001b[43mout_layers\u001b[49m\u001b[43m(\u001b[49m\u001b[43mh\u001b[49m\u001b[43m)\u001b[49m\n\u001b[1;32m    275\u001b[0m \u001b[38;5;28;01mreturn\u001b[39;00m \u001b[38;5;28mself\u001b[39m\u001b[38;5;241m.\u001b[39mskip_connection(x) \u001b[38;5;241m+\u001b[39m h\n",
      "File \u001b[0;32m/opt/conda/envs/ldm/lib/python3.8/site-packages/torch/nn/modules/module.py:1511\u001b[0m, in \u001b[0;36mModule._wrapped_call_impl\u001b[0;34m(self, *args, **kwargs)\u001b[0m\n\u001b[1;32m   1509\u001b[0m     \u001b[38;5;28;01mreturn\u001b[39;00m \u001b[38;5;28mself\u001b[39m\u001b[38;5;241m.\u001b[39m_compiled_call_impl(\u001b[38;5;241m*\u001b[39margs, \u001b[38;5;241m*\u001b[39m\u001b[38;5;241m*\u001b[39mkwargs)  \u001b[38;5;66;03m# type: ignore[misc]\u001b[39;00m\n\u001b[1;32m   1510\u001b[0m \u001b[38;5;28;01melse\u001b[39;00m:\n\u001b[0;32m-> 1511\u001b[0m     \u001b[38;5;28;01mreturn\u001b[39;00m \u001b[38;5;28;43mself\u001b[39;49m\u001b[38;5;241;43m.\u001b[39;49m\u001b[43m_call_impl\u001b[49m\u001b[43m(\u001b[49m\u001b[38;5;241;43m*\u001b[39;49m\u001b[43margs\u001b[49m\u001b[43m,\u001b[49m\u001b[43m \u001b[49m\u001b[38;5;241;43m*\u001b[39;49m\u001b[38;5;241;43m*\u001b[39;49m\u001b[43mkwargs\u001b[49m\u001b[43m)\u001b[49m\n",
      "File \u001b[0;32m/opt/conda/envs/ldm/lib/python3.8/site-packages/torch/nn/modules/module.py:1520\u001b[0m, in \u001b[0;36mModule._call_impl\u001b[0;34m(self, *args, **kwargs)\u001b[0m\n\u001b[1;32m   1515\u001b[0m \u001b[38;5;66;03m# If we don't have any hooks, we want to skip the rest of the logic in\u001b[39;00m\n\u001b[1;32m   1516\u001b[0m \u001b[38;5;66;03m# this function, and just call forward.\u001b[39;00m\n\u001b[1;32m   1517\u001b[0m \u001b[38;5;28;01mif\u001b[39;00m \u001b[38;5;129;01mnot\u001b[39;00m (\u001b[38;5;28mself\u001b[39m\u001b[38;5;241m.\u001b[39m_backward_hooks \u001b[38;5;129;01mor\u001b[39;00m \u001b[38;5;28mself\u001b[39m\u001b[38;5;241m.\u001b[39m_backward_pre_hooks \u001b[38;5;129;01mor\u001b[39;00m \u001b[38;5;28mself\u001b[39m\u001b[38;5;241m.\u001b[39m_forward_hooks \u001b[38;5;129;01mor\u001b[39;00m \u001b[38;5;28mself\u001b[39m\u001b[38;5;241m.\u001b[39m_forward_pre_hooks\n\u001b[1;32m   1518\u001b[0m         \u001b[38;5;129;01mor\u001b[39;00m _global_backward_pre_hooks \u001b[38;5;129;01mor\u001b[39;00m _global_backward_hooks\n\u001b[1;32m   1519\u001b[0m         \u001b[38;5;129;01mor\u001b[39;00m _global_forward_hooks \u001b[38;5;129;01mor\u001b[39;00m _global_forward_pre_hooks):\n\u001b[0;32m-> 1520\u001b[0m     \u001b[38;5;28;01mreturn\u001b[39;00m \u001b[43mforward_call\u001b[49m\u001b[43m(\u001b[49m\u001b[38;5;241;43m*\u001b[39;49m\u001b[43margs\u001b[49m\u001b[43m,\u001b[49m\u001b[43m \u001b[49m\u001b[38;5;241;43m*\u001b[39;49m\u001b[38;5;241;43m*\u001b[39;49m\u001b[43mkwargs\u001b[49m\u001b[43m)\u001b[49m\n\u001b[1;32m   1522\u001b[0m \u001b[38;5;28;01mtry\u001b[39;00m:\n\u001b[1;32m   1523\u001b[0m     result \u001b[38;5;241m=\u001b[39m \u001b[38;5;28;01mNone\u001b[39;00m\n",
      "File \u001b[0;32m/opt/conda/envs/ldm/lib/python3.8/site-packages/torch/nn/modules/container.py:217\u001b[0m, in \u001b[0;36mSequential.forward\u001b[0;34m(self, input)\u001b[0m\n\u001b[1;32m    215\u001b[0m \u001b[38;5;28;01mdef\u001b[39;00m \u001b[38;5;21mforward\u001b[39m(\u001b[38;5;28mself\u001b[39m, \u001b[38;5;28minput\u001b[39m):\n\u001b[1;32m    216\u001b[0m     \u001b[38;5;28;01mfor\u001b[39;00m module \u001b[38;5;129;01min\u001b[39;00m \u001b[38;5;28mself\u001b[39m:\n\u001b[0;32m--> 217\u001b[0m         \u001b[38;5;28minput\u001b[39m \u001b[38;5;241m=\u001b[39m \u001b[43mmodule\u001b[49m\u001b[43m(\u001b[49m\u001b[38;5;28;43minput\u001b[39;49m\u001b[43m)\u001b[49m\n\u001b[1;32m    218\u001b[0m     \u001b[38;5;28;01mreturn\u001b[39;00m \u001b[38;5;28minput\u001b[39m\n",
      "File \u001b[0;32m/opt/conda/envs/ldm/lib/python3.8/site-packages/torch/nn/modules/module.py:1511\u001b[0m, in \u001b[0;36mModule._wrapped_call_impl\u001b[0;34m(self, *args, **kwargs)\u001b[0m\n\u001b[1;32m   1509\u001b[0m     \u001b[38;5;28;01mreturn\u001b[39;00m \u001b[38;5;28mself\u001b[39m\u001b[38;5;241m.\u001b[39m_compiled_call_impl(\u001b[38;5;241m*\u001b[39margs, \u001b[38;5;241m*\u001b[39m\u001b[38;5;241m*\u001b[39mkwargs)  \u001b[38;5;66;03m# type: ignore[misc]\u001b[39;00m\n\u001b[1;32m   1510\u001b[0m \u001b[38;5;28;01melse\u001b[39;00m:\n\u001b[0;32m-> 1511\u001b[0m     \u001b[38;5;28;01mreturn\u001b[39;00m \u001b[38;5;28;43mself\u001b[39;49m\u001b[38;5;241;43m.\u001b[39;49m\u001b[43m_call_impl\u001b[49m\u001b[43m(\u001b[49m\u001b[38;5;241;43m*\u001b[39;49m\u001b[43margs\u001b[49m\u001b[43m,\u001b[49m\u001b[43m \u001b[49m\u001b[38;5;241;43m*\u001b[39;49m\u001b[38;5;241;43m*\u001b[39;49m\u001b[43mkwargs\u001b[49m\u001b[43m)\u001b[49m\n",
      "File \u001b[0;32m/opt/conda/envs/ldm/lib/python3.8/site-packages/torch/nn/modules/module.py:1520\u001b[0m, in \u001b[0;36mModule._call_impl\u001b[0;34m(self, *args, **kwargs)\u001b[0m\n\u001b[1;32m   1515\u001b[0m \u001b[38;5;66;03m# If we don't have any hooks, we want to skip the rest of the logic in\u001b[39;00m\n\u001b[1;32m   1516\u001b[0m \u001b[38;5;66;03m# this function, and just call forward.\u001b[39;00m\n\u001b[1;32m   1517\u001b[0m \u001b[38;5;28;01mif\u001b[39;00m \u001b[38;5;129;01mnot\u001b[39;00m (\u001b[38;5;28mself\u001b[39m\u001b[38;5;241m.\u001b[39m_backward_hooks \u001b[38;5;129;01mor\u001b[39;00m \u001b[38;5;28mself\u001b[39m\u001b[38;5;241m.\u001b[39m_backward_pre_hooks \u001b[38;5;129;01mor\u001b[39;00m \u001b[38;5;28mself\u001b[39m\u001b[38;5;241m.\u001b[39m_forward_hooks \u001b[38;5;129;01mor\u001b[39;00m \u001b[38;5;28mself\u001b[39m\u001b[38;5;241m.\u001b[39m_forward_pre_hooks\n\u001b[1;32m   1518\u001b[0m         \u001b[38;5;129;01mor\u001b[39;00m _global_backward_pre_hooks \u001b[38;5;129;01mor\u001b[39;00m _global_backward_hooks\n\u001b[1;32m   1519\u001b[0m         \u001b[38;5;129;01mor\u001b[39;00m _global_forward_hooks \u001b[38;5;129;01mor\u001b[39;00m _global_forward_pre_hooks):\n\u001b[0;32m-> 1520\u001b[0m     \u001b[38;5;28;01mreturn\u001b[39;00m \u001b[43mforward_call\u001b[49m\u001b[43m(\u001b[49m\u001b[38;5;241;43m*\u001b[39;49m\u001b[43margs\u001b[49m\u001b[43m,\u001b[49m\u001b[43m \u001b[49m\u001b[38;5;241;43m*\u001b[39;49m\u001b[38;5;241;43m*\u001b[39;49m\u001b[43mkwargs\u001b[49m\u001b[43m)\u001b[49m\n\u001b[1;32m   1522\u001b[0m \u001b[38;5;28;01mtry\u001b[39;00m:\n\u001b[1;32m   1523\u001b[0m     result \u001b[38;5;241m=\u001b[39m \u001b[38;5;28;01mNone\u001b[39;00m\n",
      "File \u001b[0;32m~/deep-learning-course/Project/latent-diffusion/ldm/modules/diffusionmodules/util.py:216\u001b[0m, in \u001b[0;36mGroupNorm32.forward\u001b[0;34m(self, x)\u001b[0m\n\u001b[1;32m    215\u001b[0m \u001b[38;5;28;01mdef\u001b[39;00m \u001b[38;5;21mforward\u001b[39m(\u001b[38;5;28mself\u001b[39m, x):\n\u001b[0;32m--> 216\u001b[0m     \u001b[38;5;28;01mreturn\u001b[39;00m \u001b[38;5;28;43msuper\u001b[39;49m\u001b[43m(\u001b[49m\u001b[43m)\u001b[49m\u001b[38;5;241;43m.\u001b[39;49m\u001b[43mforward\u001b[49m\u001b[43m(\u001b[49m\u001b[43mx\u001b[49m\u001b[38;5;241;43m.\u001b[39;49m\u001b[43mfloat\u001b[49m\u001b[43m(\u001b[49m\u001b[43m)\u001b[49m\u001b[43m)\u001b[49m\u001b[38;5;241;43m.\u001b[39;49m\u001b[43mtype\u001b[49m\u001b[43m(\u001b[49m\u001b[43mx\u001b[49m\u001b[38;5;241;43m.\u001b[39;49m\u001b[43mdtype\u001b[49m\u001b[43m)\u001b[49m\n",
      "\u001b[0;31mKeyboardInterrupt\u001b[0m: "
     ]
    }
   ],
   "source": [
    "# run classification for the entire dataset\n",
    "\n",
    "l2_labels_pred, l1_labels_pred, true_labels = ldm_clf.classify_dataset(dataset=imagnet_subset,\n",
    "                                                                       batch_size=1,\n",
    "                                                                       n_trials=1,\n",
    "                                                                       t_sampling_stride=50,\n",
    "                                                                       classes=subset_classes)"
   ]
  },
  {
   "cell_type": "code",
   "execution_count": 7,
   "id": "e7218cea-4b40-486c-9eb2-79e16c6b6c8b",
   "metadata": {},
   "outputs": [
    {
     "name": "stdout",
     "output_type": "stream",
     "text": [
      "L2 accuracy: 99.04153354632588\n",
      "L1 accuracy: 98.7220447284345\n"
     ]
    },
    {
     "ename": "NameError",
     "evalue": "name 'plot_confusion_matrix' is not defined",
     "output_type": "error",
     "traceback": [
      "\u001b[0;31m---------------------------------------------------------------------------\u001b[0m",
      "\u001b[0;31mNameError\u001b[0m                                 Traceback (most recent call last)",
      "Cell \u001b[0;32mIn[7], line 7\u001b[0m\n\u001b[1;32m      4\u001b[0m \u001b[38;5;28mprint\u001b[39m(\u001b[38;5;124mf\u001b[39m\u001b[38;5;124m\"\u001b[39m\u001b[38;5;124mL2 accuracy: \u001b[39m\u001b[38;5;132;01m{\u001b[39;00ml2_acc\u001b[38;5;132;01m}\u001b[39;00m\u001b[38;5;124m\"\u001b[39m)\n\u001b[1;32m      5\u001b[0m \u001b[38;5;28mprint\u001b[39m(\u001b[38;5;124mf\u001b[39m\u001b[38;5;124m\"\u001b[39m\u001b[38;5;124mL1 accuracy: \u001b[39m\u001b[38;5;132;01m{\u001b[39;00ml1_acc\u001b[38;5;132;01m}\u001b[39;00m\u001b[38;5;124m\"\u001b[39m)\n\u001b[0;32m----> 7\u001b[0m \u001b[43mplot_confusion_matrix\u001b[49m(true_labels, l2_labels_pred, imagnet_subset\u001b[38;5;241m.\u001b[39mclass_names)\n",
      "\u001b[0;31mNameError\u001b[0m: name 'plot_confusion_matrix' is not defined"
     ]
    }
   ],
   "source": [
    "l2_acc = ldm_clf.get_classification_accuracy(l2_labels_pred, true_labels)\n",
    "l1_acc = ldm_clf.get_classification_accuracy(l1_labels_pred, true_labels)\n",
    "\n",
    "print(f\"L2 accuracy: {l2_acc}\")\n",
    "print(f\"L1 accuracy: {l1_acc}\")\n",
    "\n",
    "plot_confusion_matrix(true_labels, l2_labels_pred, imagnet_subset.class_names)"
   ]
  },
  {
   "cell_type": "markdown",
   "id": "9668ec04-359d-4a7c-af6f-c0bb8e83df69",
   "metadata": {
    "jp-MarkdownHeadingCollapsed": true
   },
   "source": [
    "# CT RSNA - LDM Classifier"
   ]
  },
  {
   "cell_type": "code",
   "execution_count": 2,
   "id": "34480532-6912-4b1e-94a8-0ba019e6ac16",
   "metadata": {},
   "outputs": [],
   "source": [
    "output_dir='outputs'\n",
    "model_name = \"cp_for_weights_only_chk\""
   ]
  },
  {
   "cell_type": "code",
   "execution_count": 3,
   "id": "f81bf482-ece3-43a2-a055-c66d46ea6c86",
   "metadata": {},
   "outputs": [
    {
     "name": "stdout",
     "output_type": "stream",
     "text": [
      "Loading model from ./data/outputs/cp_for_weights_only_chk/checkpoints/last_weights_only.ckpt\n"
     ]
    },
    {
     "name": "stderr",
     "output_type": "stream",
     "text": [
      "/opt/conda/envs/ldm/lib/python3.8/site-packages/torch/cuda/__init__.py:619: UserWarning: Can't initialize NVML\n",
      "  warnings.warn(\"Can't initialize NVML\")\n"
     ]
    },
    {
     "name": "stdout",
     "output_type": "stream",
     "text": [
      "LatentDiffusion: Running in eps-prediction mode\n",
      "DiffusionWrapper has 400.92 M params.\n",
      "making attention of type 'vanilla' with 512 in_channels\n",
      "Working with z of shape (1, 3, 64, 64) = 12288 dimensions.\n",
      "making attention of type 'vanilla' with 512 in_channels\n"
     ]
    }
   ],
   "source": [
    "# load ct-rsna model\n",
    "import os\n",
    "\n",
    "ct_model_config_path = f\"./data/{output_dir}/{model_name}/configs/2024-04-27T10-00-13-project.yaml\"\n",
    "ct_model_ckpt_path = f\"./data/{output_dir}/{model_name}/checkpoints/last_weights_only.ckpt\"\n",
    "\n",
    "# load model\n",
    "ct_model, _, _ = get_model(ct_model_config_path, ct_model_ckpt_path)\n"
   ]
  },
  {
   "cell_type": "code",
   "execution_count": 12,
   "id": "36c4633d-3f0e-437d-b0ba-a5b562290e54",
   "metadata": {},
   "outputs": [],
   "source": [
    "# set ldm classifier\n",
    "\n",
    "\n",
    "from ldm_classifier import LdmClassifier\n",
    "ct_ldm_clf = LdmClassifier(ct_model)"
   ]
  },
  {
   "cell_type": "code",
   "execution_count": 3,
   "id": "e997c140-b9d7-4353-b67b-ae2b439d033c",
   "metadata": {},
   "outputs": [
    {
     "name": "stdout",
     "output_type": "stream",
     "text": [
      "Data source: validation_set.csv\n",
      "    Class none: 52.3%\n",
      "    Class epidural: 10.9%\n",
      "    Class intraparenchymal: 12.9%\n",
      "    Class intraventricular: 9.8%\n",
      "    Class subarachnoid: 9.4%\n",
      "    Class subdural: 4.7%\n",
      "number of samples in dataset: 256\n"
     ]
    }
   ],
   "source": [
    "import sys\n",
    "sys.path.append('./latent-diffusion/ldm/data/')\n",
    "from torchvision import transforms\n",
    "import torch\n",
    "from matplotlib import pyplot as plt\n",
    "import numpy as np\n",
    "\n",
    "from ct_rsna import CTSubset, CTDataset\n",
    "\n",
    "# define imagenet-mini subset for classification\n",
    "\n",
    "val_dir = './data/ct-rsna/validation'\n",
    "ct_subset = CTSubset(data_dir=val_dir, labels_file='validation_set.csv', size=256, flip_prob=0., subset_len=256)\n",
    "subset_classes = np.unique(ct_subset.labels).tolist()\n",
    "print(f\"number of samples in dataset: {len(ct_subset)}\")"
   ]
  },
  {
   "cell_type": "code",
   "execution_count": 18,
   "id": "e14c4839-c9ff-4c8e-9264-be4bdb9d12a6",
   "metadata": {},
   "outputs": [
    {
     "data": {
      "application/vnd.jupyter.widget-view+json": {
       "model_id": "f627ccb2542c4a30852370f257f6d76a",
       "version_major": 2,
       "version_minor": 0
      },
      "text/plain": [
       "class hypothsis:   0%|          | 0/6 [00:00<?, ?it/s]"
      ]
     },
     "metadata": {},
     "output_type": "display_data"
    },
    {
     "data": {
      "application/vnd.jupyter.widget-view+json": {
       "model_id": "507f69d6fb29466994c1bac45d9e5ae8",
       "version_major": 2,
       "version_minor": 0
      },
      "text/plain": [
       "diffusion sampling:   0%|          | 0/20 [00:00<?, ?it/s]"
      ]
     },
     "metadata": {},
     "output_type": "display_data"
    },
    {
     "data": {
      "application/vnd.jupyter.widget-view+json": {
       "model_id": "b30cc8d6b48c45a19e2e5d6595a7702e",
       "version_major": 2,
       "version_minor": 0
      },
      "text/plain": [
       "diffusion sampling:   0%|          | 0/20 [00:00<?, ?it/s]"
      ]
     },
     "metadata": {},
     "output_type": "display_data"
    },
    {
     "data": {
      "application/vnd.jupyter.widget-view+json": {
       "model_id": "3a5643753cdd437899c2348a8567c386",
       "version_major": 2,
       "version_minor": 0
      },
      "text/plain": [
       "diffusion sampling:   0%|          | 0/20 [00:00<?, ?it/s]"
      ]
     },
     "metadata": {},
     "output_type": "display_data"
    },
    {
     "data": {
      "application/vnd.jupyter.widget-view+json": {
       "model_id": "72ab8b33a1cb42299e3000e22be8b3e6",
       "version_major": 2,
       "version_minor": 0
      },
      "text/plain": [
       "diffusion sampling:   0%|          | 0/20 [00:00<?, ?it/s]"
      ]
     },
     "metadata": {},
     "output_type": "display_data"
    },
    {
     "data": {
      "application/vnd.jupyter.widget-view+json": {
       "model_id": "87c680443f0c43baa709848d4789e50d",
       "version_major": 2,
       "version_minor": 0
      },
      "text/plain": [
       "diffusion sampling:   0%|          | 0/20 [00:00<?, ?it/s]"
      ]
     },
     "metadata": {},
     "output_type": "display_data"
    },
    {
     "data": {
      "application/vnd.jupyter.widget-view+json": {
       "model_id": "56f33108bd804e728389597480736c76",
       "version_major": 2,
       "version_minor": 0
      },
      "text/plain": [
       "diffusion sampling:   0%|          | 0/20 [00:00<?, ?it/s]"
      ]
     },
     "metadata": {},
     "output_type": "display_data"
    },
    {
     "name": "stdout",
     "output_type": "stream",
     "text": [
      "true label: tensor([0])\n",
      "L2 classification: tensor([1])\n",
      "L1 classification: tensor([1])\n"
     ]
    }
   ],
   "source": [
    "# verify ability to classify single sample:\n",
    "\n",
    "loader = torch.utils.data.DataLoader(ct_subset, batch_size=1, shuffle=False)\n",
    "batch = next(iter(loader))\n",
    "c_hypotheses = ct_ldm_clf.get_class_hypotheses_for_batch(batch_size=batch['image'].shape[0], classes=subset_classes)\n",
    "# x0 = ldm_clf.get_latent_batch(batch)\n",
    "\n",
    "l2_label_pred, l1_label_pred = ct_ldm_clf.classify_batch(batch, c_hypotheses, t_sampling_stride=50)\n",
    "print(f\"true label: {batch['class_label']}\")\n",
    "print(f\"L2 classification: {l2_label_pred}\")\n",
    "print(f\"L1 classification: {l1_label_pred}\")"
   ]
  },
  {
   "cell_type": "code",
   "execution_count": 19,
   "id": "f109b8b7-3365-43bb-a23c-fc252df9be03",
   "metadata": {},
   "outputs": [
    {
     "data": {
      "application/vnd.jupyter.widget-view+json": {
       "model_id": "2f935940c727429283fc637bac41ae2e",
       "version_major": 2,
       "version_minor": 0
      },
      "text/plain": [
       "dataset samples:   0%|          | 0/256 [00:00<?, ?it/s]"
      ]
     },
     "metadata": {},
     "output_type": "display_data"
    },
    {
     "data": {
      "application/vnd.jupyter.widget-view+json": {
       "model_id": "d840d1f852f04168bcb02c0b4157fee4",
       "version_major": 2,
       "version_minor": 0
      },
      "text/plain": [
       "class hypothsis:   0%|          | 0/6 [00:00<?, ?it/s]"
      ]
     },
     "metadata": {},
     "output_type": "display_data"
    },
    {
     "data": {
      "application/vnd.jupyter.widget-view+json": {
       "model_id": "963507317fd242ca8eb68a99740a5ea7",
       "version_major": 2,
       "version_minor": 0
      },
      "text/plain": [
       "diffusion sampling:   0%|          | 0/20 [00:00<?, ?it/s]"
      ]
     },
     "metadata": {},
     "output_type": "display_data"
    },
    {
     "data": {
      "application/vnd.jupyter.widget-view+json": {
       "model_id": "62e70bba75a440a5a9b02b5aa6b79965",
       "version_major": 2,
       "version_minor": 0
      },
      "text/plain": [
       "diffusion sampling:   0%|          | 0/20 [00:00<?, ?it/s]"
      ]
     },
     "metadata": {},
     "output_type": "display_data"
    },
    {
     "data": {
      "application/vnd.jupyter.widget-view+json": {
       "model_id": "770b7fbe32a54cd3861457ad69287c2f",
       "version_major": 2,
       "version_minor": 0
      },
      "text/plain": [
       "diffusion sampling:   0%|          | 0/20 [00:00<?, ?it/s]"
      ]
     },
     "metadata": {},
     "output_type": "display_data"
    },
    {
     "data": {
      "application/vnd.jupyter.widget-view+json": {
       "model_id": "11575ce53e4545a39b73bf08e3905410",
       "version_major": 2,
       "version_minor": 0
      },
      "text/plain": [
       "diffusion sampling:   0%|          | 0/20 [00:00<?, ?it/s]"
      ]
     },
     "metadata": {},
     "output_type": "display_data"
    },
    {
     "data": {
      "application/vnd.jupyter.widget-view+json": {
       "model_id": "6241d6540e6a424099bdf90ad922c126",
       "version_major": 2,
       "version_minor": 0
      },
      "text/plain": [
       "diffusion sampling:   0%|          | 0/20 [00:00<?, ?it/s]"
      ]
     },
     "metadata": {},
     "output_type": "display_data"
    },
    {
     "data": {
      "application/vnd.jupyter.widget-view+json": {
       "model_id": "f5e20980222c4a29a00b62b7e5bf6551",
       "version_major": 2,
       "version_minor": 0
      },
      "text/plain": [
       "diffusion sampling:   0%|          | 0/20 [00:00<?, ?it/s]"
      ]
     },
     "metadata": {},
     "output_type": "display_data"
    },
    {
     "data": {
      "application/vnd.jupyter.widget-view+json": {
       "model_id": "a62ae831a01a45f3964ce48a8ed152c7",
       "version_major": 2,
       "version_minor": 0
      },
      "text/plain": [
       "class hypothsis:   0%|          | 0/6 [00:00<?, ?it/s]"
      ]
     },
     "metadata": {},
     "output_type": "display_data"
    },
    {
     "data": {
      "application/vnd.jupyter.widget-view+json": {
       "model_id": "40f2e6a2f0f04a91b867cb826a1e1993",
       "version_major": 2,
       "version_minor": 0
      },
      "text/plain": [
       "diffusion sampling:   0%|          | 0/20 [00:00<?, ?it/s]"
      ]
     },
     "metadata": {},
     "output_type": "display_data"
    },
    {
     "data": {
      "application/vnd.jupyter.widget-view+json": {
       "model_id": "dc127c06112c402e980644043aa8c8ee",
       "version_major": 2,
       "version_minor": 0
      },
      "text/plain": [
       "diffusion sampling:   0%|          | 0/20 [00:00<?, ?it/s]"
      ]
     },
     "metadata": {},
     "output_type": "display_data"
    },
    {
     "data": {
      "application/vnd.jupyter.widget-view+json": {
       "model_id": "3a2253797ff64c8ca303ceee670df70e",
       "version_major": 2,
       "version_minor": 0
      },
      "text/plain": [
       "diffusion sampling:   0%|          | 0/20 [00:00<?, ?it/s]"
      ]
     },
     "metadata": {},
     "output_type": "display_data"
    },
    {
     "data": {
      "application/vnd.jupyter.widget-view+json": {
       "model_id": "54e3490f769f410eb8f3fb57d8061ce1",
       "version_major": 2,
       "version_minor": 0
      },
      "text/plain": [
       "diffusion sampling:   0%|          | 0/20 [00:00<?, ?it/s]"
      ]
     },
     "metadata": {},
     "output_type": "display_data"
    },
    {
     "data": {
      "application/vnd.jupyter.widget-view+json": {
       "model_id": "48c296fb9fa44218b83947141c8eaf3b",
       "version_major": 2,
       "version_minor": 0
      },
      "text/plain": [
       "diffusion sampling:   0%|          | 0/20 [00:00<?, ?it/s]"
      ]
     },
     "metadata": {},
     "output_type": "display_data"
    },
    {
     "data": {
      "application/vnd.jupyter.widget-view+json": {
       "model_id": "4ea296721fd84a249034b3c292f05562",
       "version_major": 2,
       "version_minor": 0
      },
      "text/plain": [
       "diffusion sampling:   0%|          | 0/20 [00:00<?, ?it/s]"
      ]
     },
     "metadata": {},
     "output_type": "display_data"
    },
    {
     "data": {
      "application/vnd.jupyter.widget-view+json": {
       "model_id": "a6b75b09b4fb4b419395f197b8e37fcc",
       "version_major": 2,
       "version_minor": 0
      },
      "text/plain": [
       "class hypothsis:   0%|          | 0/6 [00:00<?, ?it/s]"
      ]
     },
     "metadata": {},
     "output_type": "display_data"
    },
    {
     "data": {
      "application/vnd.jupyter.widget-view+json": {
       "model_id": "f347140bcd0042dc97689ba5cd88a935",
       "version_major": 2,
       "version_minor": 0
      },
      "text/plain": [
       "diffusion sampling:   0%|          | 0/20 [00:00<?, ?it/s]"
      ]
     },
     "metadata": {},
     "output_type": "display_data"
    },
    {
     "data": {
      "application/vnd.jupyter.widget-view+json": {
       "model_id": "83215cb441c64166a6202aa60e51f272",
       "version_major": 2,
       "version_minor": 0
      },
      "text/plain": [
       "diffusion sampling:   0%|          | 0/20 [00:00<?, ?it/s]"
      ]
     },
     "metadata": {},
     "output_type": "display_data"
    },
    {
     "data": {
      "application/vnd.jupyter.widget-view+json": {
       "model_id": "7cfd23075c974abd9be7e85e403732da",
       "version_major": 2,
       "version_minor": 0
      },
      "text/plain": [
       "diffusion sampling:   0%|          | 0/20 [00:00<?, ?it/s]"
      ]
     },
     "metadata": {},
     "output_type": "display_data"
    },
    {
     "data": {
      "application/vnd.jupyter.widget-view+json": {
       "model_id": "e397364630df4ac9ba74f56bda8c483c",
       "version_major": 2,
       "version_minor": 0
      },
      "text/plain": [
       "diffusion sampling:   0%|          | 0/20 [00:00<?, ?it/s]"
      ]
     },
     "metadata": {},
     "output_type": "display_data"
    },
    {
     "data": {
      "application/vnd.jupyter.widget-view+json": {
       "model_id": "9d69c3d982334ab8801b25fe2dfaf15d",
       "version_major": 2,
       "version_minor": 0
      },
      "text/plain": [
       "diffusion sampling:   0%|          | 0/20 [00:00<?, ?it/s]"
      ]
     },
     "metadata": {},
     "output_type": "display_data"
    },
    {
     "data": {
      "application/vnd.jupyter.widget-view+json": {
       "model_id": "a4d896f8c97c4040980e97615d5b4a7b",
       "version_major": 2,
       "version_minor": 0
      },
      "text/plain": [
       "diffusion sampling:   0%|          | 0/20 [00:00<?, ?it/s]"
      ]
     },
     "metadata": {},
     "output_type": "display_data"
    },
    {
     "data": {
      "application/vnd.jupyter.widget-view+json": {
       "model_id": "a5f8bcc3c0094dd28ac97162d555475d",
       "version_major": 2,
       "version_minor": 0
      },
      "text/plain": [
       "class hypothsis:   0%|          | 0/6 [00:00<?, ?it/s]"
      ]
     },
     "metadata": {},
     "output_type": "display_data"
    },
    {
     "data": {
      "application/vnd.jupyter.widget-view+json": {
       "model_id": "a29869dbcf534d84a52a768ecc9c6896",
       "version_major": 2,
       "version_minor": 0
      },
      "text/plain": [
       "diffusion sampling:   0%|          | 0/20 [00:00<?, ?it/s]"
      ]
     },
     "metadata": {},
     "output_type": "display_data"
    },
    {
     "data": {
      "application/vnd.jupyter.widget-view+json": {
       "model_id": "4b7dd43d389c4446a8a0afa37f3ad1ff",
       "version_major": 2,
       "version_minor": 0
      },
      "text/plain": [
       "diffusion sampling:   0%|          | 0/20 [00:00<?, ?it/s]"
      ]
     },
     "metadata": {},
     "output_type": "display_data"
    },
    {
     "data": {
      "application/vnd.jupyter.widget-view+json": {
       "model_id": "68e43cb2340a4815938053f538a44ca1",
       "version_major": 2,
       "version_minor": 0
      },
      "text/plain": [
       "diffusion sampling:   0%|          | 0/20 [00:00<?, ?it/s]"
      ]
     },
     "metadata": {},
     "output_type": "display_data"
    },
    {
     "data": {
      "application/vnd.jupyter.widget-view+json": {
       "model_id": "39018e3cdf534e33873d94da59ce3bb3",
       "version_major": 2,
       "version_minor": 0
      },
      "text/plain": [
       "diffusion sampling:   0%|          | 0/20 [00:00<?, ?it/s]"
      ]
     },
     "metadata": {},
     "output_type": "display_data"
    },
    {
     "data": {
      "application/vnd.jupyter.widget-view+json": {
       "model_id": "f7342a1f470546cfaf4113ab7856c137",
       "version_major": 2,
       "version_minor": 0
      },
      "text/plain": [
       "diffusion sampling:   0%|          | 0/20 [00:00<?, ?it/s]"
      ]
     },
     "metadata": {},
     "output_type": "display_data"
    },
    {
     "data": {
      "application/vnd.jupyter.widget-view+json": {
       "model_id": "57e64b1873b44f4494cfc2eabb8fe60f",
       "version_major": 2,
       "version_minor": 0
      },
      "text/plain": [
       "diffusion sampling:   0%|          | 0/20 [00:00<?, ?it/s]"
      ]
     },
     "metadata": {},
     "output_type": "display_data"
    },
    {
     "data": {
      "application/vnd.jupyter.widget-view+json": {
       "model_id": "bdd8351d068840428fc0752d9606f7e3",
       "version_major": 2,
       "version_minor": 0
      },
      "text/plain": [
       "class hypothsis:   0%|          | 0/6 [00:00<?, ?it/s]"
      ]
     },
     "metadata": {},
     "output_type": "display_data"
    },
    {
     "data": {
      "application/vnd.jupyter.widget-view+json": {
       "model_id": "413e207c84ee40518de09a59d5d6001e",
       "version_major": 2,
       "version_minor": 0
      },
      "text/plain": [
       "diffusion sampling:   0%|          | 0/20 [00:00<?, ?it/s]"
      ]
     },
     "metadata": {},
     "output_type": "display_data"
    },
    {
     "data": {
      "application/vnd.jupyter.widget-view+json": {
       "model_id": "b04a0d7309fa46ff9c6819f198c4fe21",
       "version_major": 2,
       "version_minor": 0
      },
      "text/plain": [
       "diffusion sampling:   0%|          | 0/20 [00:00<?, ?it/s]"
      ]
     },
     "metadata": {},
     "output_type": "display_data"
    },
    {
     "data": {
      "application/vnd.jupyter.widget-view+json": {
       "model_id": "ba364864bc334fda812c9134e5e64157",
       "version_major": 2,
       "version_minor": 0
      },
      "text/plain": [
       "diffusion sampling:   0%|          | 0/20 [00:00<?, ?it/s]"
      ]
     },
     "metadata": {},
     "output_type": "display_data"
    },
    {
     "data": {
      "application/vnd.jupyter.widget-view+json": {
       "model_id": "643ce989ce2f4f6090fd5053273d0898",
       "version_major": 2,
       "version_minor": 0
      },
      "text/plain": [
       "diffusion sampling:   0%|          | 0/20 [00:00<?, ?it/s]"
      ]
     },
     "metadata": {},
     "output_type": "display_data"
    },
    {
     "data": {
      "application/vnd.jupyter.widget-view+json": {
       "model_id": "5f40e15274f74d49baa30c19965ad88a",
       "version_major": 2,
       "version_minor": 0
      },
      "text/plain": [
       "diffusion sampling:   0%|          | 0/20 [00:00<?, ?it/s]"
      ]
     },
     "metadata": {},
     "output_type": "display_data"
    },
    {
     "data": {
      "application/vnd.jupyter.widget-view+json": {
       "model_id": "e97ac11b2ee44d47a98e33afbb697ef8",
       "version_major": 2,
       "version_minor": 0
      },
      "text/plain": [
       "diffusion sampling:   0%|          | 0/20 [00:00<?, ?it/s]"
      ]
     },
     "metadata": {},
     "output_type": "display_data"
    },
    {
     "data": {
      "application/vnd.jupyter.widget-view+json": {
       "model_id": "ee3f4369d7b744fda7be57c508f25775",
       "version_major": 2,
       "version_minor": 0
      },
      "text/plain": [
       "class hypothsis:   0%|          | 0/6 [00:00<?, ?it/s]"
      ]
     },
     "metadata": {},
     "output_type": "display_data"
    },
    {
     "data": {
      "application/vnd.jupyter.widget-view+json": {
       "model_id": "474b1518a43f4901ada5b121619a90bb",
       "version_major": 2,
       "version_minor": 0
      },
      "text/plain": [
       "diffusion sampling:   0%|          | 0/20 [00:00<?, ?it/s]"
      ]
     },
     "metadata": {},
     "output_type": "display_data"
    },
    {
     "data": {
      "application/vnd.jupyter.widget-view+json": {
       "model_id": "66d552ed6b984d3c9fca186c471b57e5",
       "version_major": 2,
       "version_minor": 0
      },
      "text/plain": [
       "diffusion sampling:   0%|          | 0/20 [00:00<?, ?it/s]"
      ]
     },
     "metadata": {},
     "output_type": "display_data"
    },
    {
     "data": {
      "application/vnd.jupyter.widget-view+json": {
       "model_id": "0991f81b09f440c7b3c9c8313bdc3ab4",
       "version_major": 2,
       "version_minor": 0
      },
      "text/plain": [
       "diffusion sampling:   0%|          | 0/20 [00:00<?, ?it/s]"
      ]
     },
     "metadata": {},
     "output_type": "display_data"
    },
    {
     "data": {
      "application/vnd.jupyter.widget-view+json": {
       "model_id": "098bf101121e49f1a7d9bb3de6521f44",
       "version_major": 2,
       "version_minor": 0
      },
      "text/plain": [
       "diffusion sampling:   0%|          | 0/20 [00:00<?, ?it/s]"
      ]
     },
     "metadata": {},
     "output_type": "display_data"
    },
    {
     "data": {
      "application/vnd.jupyter.widget-view+json": {
       "model_id": "32c89c031718444ca93b6f619573dd39",
       "version_major": 2,
       "version_minor": 0
      },
      "text/plain": [
       "diffusion sampling:   0%|          | 0/20 [00:00<?, ?it/s]"
      ]
     },
     "metadata": {},
     "output_type": "display_data"
    },
    {
     "data": {
      "application/vnd.jupyter.widget-view+json": {
       "model_id": "40a35bd287634bf697d6d2f8b26c3a38",
       "version_major": 2,
       "version_minor": 0
      },
      "text/plain": [
       "diffusion sampling:   0%|          | 0/20 [00:00<?, ?it/s]"
      ]
     },
     "metadata": {},
     "output_type": "display_data"
    },
    {
     "data": {
      "application/vnd.jupyter.widget-view+json": {
       "model_id": "124cff6123dd48d480a5cd7df6e4c5ab",
       "version_major": 2,
       "version_minor": 0
      },
      "text/plain": [
       "class hypothsis:   0%|          | 0/6 [00:00<?, ?it/s]"
      ]
     },
     "metadata": {},
     "output_type": "display_data"
    },
    {
     "data": {
      "application/vnd.jupyter.widget-view+json": {
       "model_id": "36a3c7b7734549bc848154284b80bd91",
       "version_major": 2,
       "version_minor": 0
      },
      "text/plain": [
       "diffusion sampling:   0%|          | 0/20 [00:00<?, ?it/s]"
      ]
     },
     "metadata": {},
     "output_type": "display_data"
    },
    {
     "data": {
      "application/vnd.jupyter.widget-view+json": {
       "model_id": "ad5764eab1194624bf589c479faa0312",
       "version_major": 2,
       "version_minor": 0
      },
      "text/plain": [
       "diffusion sampling:   0%|          | 0/20 [00:00<?, ?it/s]"
      ]
     },
     "metadata": {},
     "output_type": "display_data"
    },
    {
     "data": {
      "application/vnd.jupyter.widget-view+json": {
       "model_id": "ed05d6ffea8a4c11b73c80ca3de57753",
       "version_major": 2,
       "version_minor": 0
      },
      "text/plain": [
       "diffusion sampling:   0%|          | 0/20 [00:00<?, ?it/s]"
      ]
     },
     "metadata": {},
     "output_type": "display_data"
    },
    {
     "data": {
      "application/vnd.jupyter.widget-view+json": {
       "model_id": "147de130022a4113a9598d7d27a5ec51",
       "version_major": 2,
       "version_minor": 0
      },
      "text/plain": [
       "diffusion sampling:   0%|          | 0/20 [00:00<?, ?it/s]"
      ]
     },
     "metadata": {},
     "output_type": "display_data"
    },
    {
     "data": {
      "application/vnd.jupyter.widget-view+json": {
       "model_id": "fe55a73947ce49ccb1f345b92964e553",
       "version_major": 2,
       "version_minor": 0
      },
      "text/plain": [
       "diffusion sampling:   0%|          | 0/20 [00:00<?, ?it/s]"
      ]
     },
     "metadata": {},
     "output_type": "display_data"
    },
    {
     "data": {
      "application/vnd.jupyter.widget-view+json": {
       "model_id": "2b96f75adc034c6f8260381b74ac128a",
       "version_major": 2,
       "version_minor": 0
      },
      "text/plain": [
       "diffusion sampling:   0%|          | 0/20 [00:00<?, ?it/s]"
      ]
     },
     "metadata": {},
     "output_type": "display_data"
    },
    {
     "data": {
      "application/vnd.jupyter.widget-view+json": {
       "model_id": "5965b2ed4bd741dfb7cd32b54f6609f8",
       "version_major": 2,
       "version_minor": 0
      },
      "text/plain": [
       "class hypothsis:   0%|          | 0/6 [00:00<?, ?it/s]"
      ]
     },
     "metadata": {},
     "output_type": "display_data"
    },
    {
     "data": {
      "application/vnd.jupyter.widget-view+json": {
       "model_id": "6031727a79a6432282db5070b25dbe96",
       "version_major": 2,
       "version_minor": 0
      },
      "text/plain": [
       "diffusion sampling:   0%|          | 0/20 [00:00<?, ?it/s]"
      ]
     },
     "metadata": {},
     "output_type": "display_data"
    },
    {
     "data": {
      "application/vnd.jupyter.widget-view+json": {
       "model_id": "8730855c507e4d17a97ac703f7eacf03",
       "version_major": 2,
       "version_minor": 0
      },
      "text/plain": [
       "diffusion sampling:   0%|          | 0/20 [00:00<?, ?it/s]"
      ]
     },
     "metadata": {},
     "output_type": "display_data"
    },
    {
     "data": {
      "application/vnd.jupyter.widget-view+json": {
       "model_id": "fb3dffe41ea04454bb3a3ccfefd1d791",
       "version_major": 2,
       "version_minor": 0
      },
      "text/plain": [
       "diffusion sampling:   0%|          | 0/20 [00:00<?, ?it/s]"
      ]
     },
     "metadata": {},
     "output_type": "display_data"
    },
    {
     "data": {
      "application/vnd.jupyter.widget-view+json": {
       "model_id": "60fab68a8c9047dda8e800aa1ee263a3",
       "version_major": 2,
       "version_minor": 0
      },
      "text/plain": [
       "diffusion sampling:   0%|          | 0/20 [00:00<?, ?it/s]"
      ]
     },
     "metadata": {},
     "output_type": "display_data"
    },
    {
     "data": {
      "application/vnd.jupyter.widget-view+json": {
       "model_id": "0f2375a7bfe8486aa2a6a8083ecb7cdb",
       "version_major": 2,
       "version_minor": 0
      },
      "text/plain": [
       "diffusion sampling:   0%|          | 0/20 [00:00<?, ?it/s]"
      ]
     },
     "metadata": {},
     "output_type": "display_data"
    },
    {
     "data": {
      "application/vnd.jupyter.widget-view+json": {
       "model_id": "f1c534cdcc7745ad9313d06dc7f07e8a",
       "version_major": 2,
       "version_minor": 0
      },
      "text/plain": [
       "diffusion sampling:   0%|          | 0/20 [00:00<?, ?it/s]"
      ]
     },
     "metadata": {},
     "output_type": "display_data"
    },
    {
     "data": {
      "application/vnd.jupyter.widget-view+json": {
       "model_id": "6b70bdaa41b24e9ab5e14f83ca591807",
       "version_major": 2,
       "version_minor": 0
      },
      "text/plain": [
       "class hypothsis:   0%|          | 0/6 [00:00<?, ?it/s]"
      ]
     },
     "metadata": {},
     "output_type": "display_data"
    },
    {
     "data": {
      "application/vnd.jupyter.widget-view+json": {
       "model_id": "a84421beb4d145f6ba78332df9f6b403",
       "version_major": 2,
       "version_minor": 0
      },
      "text/plain": [
       "diffusion sampling:   0%|          | 0/20 [00:00<?, ?it/s]"
      ]
     },
     "metadata": {},
     "output_type": "display_data"
    },
    {
     "data": {
      "application/vnd.jupyter.widget-view+json": {
       "model_id": "e524fc964da34779bae21563a4bbe19a",
       "version_major": 2,
       "version_minor": 0
      },
      "text/plain": [
       "diffusion sampling:   0%|          | 0/20 [00:00<?, ?it/s]"
      ]
     },
     "metadata": {},
     "output_type": "display_data"
    },
    {
     "data": {
      "application/vnd.jupyter.widget-view+json": {
       "model_id": "9cf3e04625cb430c96520b26f39f70c7",
       "version_major": 2,
       "version_minor": 0
      },
      "text/plain": [
       "diffusion sampling:   0%|          | 0/20 [00:00<?, ?it/s]"
      ]
     },
     "metadata": {},
     "output_type": "display_data"
    },
    {
     "data": {
      "application/vnd.jupyter.widget-view+json": {
       "model_id": "e737e79ebc8e4ca7809078c72e0590ca",
       "version_major": 2,
       "version_minor": 0
      },
      "text/plain": [
       "diffusion sampling:   0%|          | 0/20 [00:00<?, ?it/s]"
      ]
     },
     "metadata": {},
     "output_type": "display_data"
    },
    {
     "data": {
      "application/vnd.jupyter.widget-view+json": {
       "model_id": "6af3bf4f34b143ef88096a7017cdcac0",
       "version_major": 2,
       "version_minor": 0
      },
      "text/plain": [
       "diffusion sampling:   0%|          | 0/20 [00:00<?, ?it/s]"
      ]
     },
     "metadata": {},
     "output_type": "display_data"
    },
    {
     "data": {
      "application/vnd.jupyter.widget-view+json": {
       "model_id": "75dd9fec210d4fdfa110632afc3783e7",
       "version_major": 2,
       "version_minor": 0
      },
      "text/plain": [
       "diffusion sampling:   0%|          | 0/20 [00:00<?, ?it/s]"
      ]
     },
     "metadata": {},
     "output_type": "display_data"
    },
    {
     "data": {
      "application/vnd.jupyter.widget-view+json": {
       "model_id": "f23d3e74aedc491ba9242bc735ebac7b",
       "version_major": 2,
       "version_minor": 0
      },
      "text/plain": [
       "class hypothsis:   0%|          | 0/6 [00:00<?, ?it/s]"
      ]
     },
     "metadata": {},
     "output_type": "display_data"
    },
    {
     "data": {
      "application/vnd.jupyter.widget-view+json": {
       "model_id": "a0a85aa2e90742768fa434455fa47116",
       "version_major": 2,
       "version_minor": 0
      },
      "text/plain": [
       "diffusion sampling:   0%|          | 0/20 [00:00<?, ?it/s]"
      ]
     },
     "metadata": {},
     "output_type": "display_data"
    },
    {
     "data": {
      "application/vnd.jupyter.widget-view+json": {
       "model_id": "ebe670b11e2c404a908504416fa77c0e",
       "version_major": 2,
       "version_minor": 0
      },
      "text/plain": [
       "diffusion sampling:   0%|          | 0/20 [00:00<?, ?it/s]"
      ]
     },
     "metadata": {},
     "output_type": "display_data"
    },
    {
     "data": {
      "application/vnd.jupyter.widget-view+json": {
       "model_id": "b05d70d4c8474c02888038b14f794cf0",
       "version_major": 2,
       "version_minor": 0
      },
      "text/plain": [
       "diffusion sampling:   0%|          | 0/20 [00:00<?, ?it/s]"
      ]
     },
     "metadata": {},
     "output_type": "display_data"
    },
    {
     "data": {
      "application/vnd.jupyter.widget-view+json": {
       "model_id": "d8f10dde42e64ba6bdb2bf143229381b",
       "version_major": 2,
       "version_minor": 0
      },
      "text/plain": [
       "diffusion sampling:   0%|          | 0/20 [00:00<?, ?it/s]"
      ]
     },
     "metadata": {},
     "output_type": "display_data"
    },
    {
     "data": {
      "application/vnd.jupyter.widget-view+json": {
       "model_id": "46d1645a15864d18b54cfa86aaf6eddb",
       "version_major": 2,
       "version_minor": 0
      },
      "text/plain": [
       "diffusion sampling:   0%|          | 0/20 [00:00<?, ?it/s]"
      ]
     },
     "metadata": {},
     "output_type": "display_data"
    },
    {
     "data": {
      "application/vnd.jupyter.widget-view+json": {
       "model_id": "ffcf282dad0c47a48acea4ebee60b275",
       "version_major": 2,
       "version_minor": 0
      },
      "text/plain": [
       "diffusion sampling:   0%|          | 0/20 [00:00<?, ?it/s]"
      ]
     },
     "metadata": {},
     "output_type": "display_data"
    },
    {
     "data": {
      "application/vnd.jupyter.widget-view+json": {
       "model_id": "2e0c3320cf68467c8cbfbee0ab1ae74e",
       "version_major": 2,
       "version_minor": 0
      },
      "text/plain": [
       "class hypothsis:   0%|          | 0/6 [00:00<?, ?it/s]"
      ]
     },
     "metadata": {},
     "output_type": "display_data"
    },
    {
     "data": {
      "application/vnd.jupyter.widget-view+json": {
       "model_id": "797fd9919a1f4a61b3f549b4d80c4f1d",
       "version_major": 2,
       "version_minor": 0
      },
      "text/plain": [
       "diffusion sampling:   0%|          | 0/20 [00:00<?, ?it/s]"
      ]
     },
     "metadata": {},
     "output_type": "display_data"
    },
    {
     "data": {
      "application/vnd.jupyter.widget-view+json": {
       "model_id": "a8903864f2354bbbb2c90267e20321a6",
       "version_major": 2,
       "version_minor": 0
      },
      "text/plain": [
       "diffusion sampling:   0%|          | 0/20 [00:00<?, ?it/s]"
      ]
     },
     "metadata": {},
     "output_type": "display_data"
    },
    {
     "data": {
      "application/vnd.jupyter.widget-view+json": {
       "model_id": "691df3ea9da8437ea191b1b13d54e68b",
       "version_major": 2,
       "version_minor": 0
      },
      "text/plain": [
       "diffusion sampling:   0%|          | 0/20 [00:00<?, ?it/s]"
      ]
     },
     "metadata": {},
     "output_type": "display_data"
    },
    {
     "data": {
      "application/vnd.jupyter.widget-view+json": {
       "model_id": "9b4a5c9acfae4e61832f06e9c70c0a48",
       "version_major": 2,
       "version_minor": 0
      },
      "text/plain": [
       "diffusion sampling:   0%|          | 0/20 [00:00<?, ?it/s]"
      ]
     },
     "metadata": {},
     "output_type": "display_data"
    },
    {
     "data": {
      "application/vnd.jupyter.widget-view+json": {
       "model_id": "58ceb75e6ca746d9bba57d4fa583b8f0",
       "version_major": 2,
       "version_minor": 0
      },
      "text/plain": [
       "diffusion sampling:   0%|          | 0/20 [00:00<?, ?it/s]"
      ]
     },
     "metadata": {},
     "output_type": "display_data"
    },
    {
     "data": {
      "application/vnd.jupyter.widget-view+json": {
       "model_id": "6d4567bfc4224ef898dd3cabc5e36ef6",
       "version_major": 2,
       "version_minor": 0
      },
      "text/plain": [
       "diffusion sampling:   0%|          | 0/20 [00:00<?, ?it/s]"
      ]
     },
     "metadata": {},
     "output_type": "display_data"
    },
    {
     "data": {
      "application/vnd.jupyter.widget-view+json": {
       "model_id": "cb076e0d0d554d6f917229231f7e301a",
       "version_major": 2,
       "version_minor": 0
      },
      "text/plain": [
       "class hypothsis:   0%|          | 0/6 [00:00<?, ?it/s]"
      ]
     },
     "metadata": {},
     "output_type": "display_data"
    },
    {
     "data": {
      "application/vnd.jupyter.widget-view+json": {
       "model_id": "a000fd54ea044605be797efd6abf4d73",
       "version_major": 2,
       "version_minor": 0
      },
      "text/plain": [
       "diffusion sampling:   0%|          | 0/20 [00:00<?, ?it/s]"
      ]
     },
     "metadata": {},
     "output_type": "display_data"
    },
    {
     "data": {
      "application/vnd.jupyter.widget-view+json": {
       "model_id": "a7a6d85da79c4fa7a6769002b29176a1",
       "version_major": 2,
       "version_minor": 0
      },
      "text/plain": [
       "diffusion sampling:   0%|          | 0/20 [00:00<?, ?it/s]"
      ]
     },
     "metadata": {},
     "output_type": "display_data"
    },
    {
     "data": {
      "application/vnd.jupyter.widget-view+json": {
       "model_id": "b23748badb3d42ada67c20c4238b9d4c",
       "version_major": 2,
       "version_minor": 0
      },
      "text/plain": [
       "diffusion sampling:   0%|          | 0/20 [00:00<?, ?it/s]"
      ]
     },
     "metadata": {},
     "output_type": "display_data"
    },
    {
     "data": {
      "application/vnd.jupyter.widget-view+json": {
       "model_id": "5938f50ba88441709a29be74c06f6e47",
       "version_major": 2,
       "version_minor": 0
      },
      "text/plain": [
       "diffusion sampling:   0%|          | 0/20 [00:00<?, ?it/s]"
      ]
     },
     "metadata": {},
     "output_type": "display_data"
    },
    {
     "data": {
      "application/vnd.jupyter.widget-view+json": {
       "model_id": "40bc046e52b842d283888ae635f69e51",
       "version_major": 2,
       "version_minor": 0
      },
      "text/plain": [
       "diffusion sampling:   0%|          | 0/20 [00:00<?, ?it/s]"
      ]
     },
     "metadata": {},
     "output_type": "display_data"
    },
    {
     "data": {
      "application/vnd.jupyter.widget-view+json": {
       "model_id": "a5363929bbf5485d9aef642cfba4d7e6",
       "version_major": 2,
       "version_minor": 0
      },
      "text/plain": [
       "diffusion sampling:   0%|          | 0/20 [00:00<?, ?it/s]"
      ]
     },
     "metadata": {},
     "output_type": "display_data"
    },
    {
     "data": {
      "application/vnd.jupyter.widget-view+json": {
       "model_id": "8955b3e5f00a4fa1ad41bb6f5d7c2bd6",
       "version_major": 2,
       "version_minor": 0
      },
      "text/plain": [
       "class hypothsis:   0%|          | 0/6 [00:00<?, ?it/s]"
      ]
     },
     "metadata": {},
     "output_type": "display_data"
    },
    {
     "data": {
      "application/vnd.jupyter.widget-view+json": {
       "model_id": "58a9ba2b396c4628a08ba89657a09330",
       "version_major": 2,
       "version_minor": 0
      },
      "text/plain": [
       "diffusion sampling:   0%|          | 0/20 [00:00<?, ?it/s]"
      ]
     },
     "metadata": {},
     "output_type": "display_data"
    },
    {
     "data": {
      "application/vnd.jupyter.widget-view+json": {
       "model_id": "74d00da908634da6b8c281e0374f4e77",
       "version_major": 2,
       "version_minor": 0
      },
      "text/plain": [
       "diffusion sampling:   0%|          | 0/20 [00:00<?, ?it/s]"
      ]
     },
     "metadata": {},
     "output_type": "display_data"
    },
    {
     "data": {
      "application/vnd.jupyter.widget-view+json": {
       "model_id": "93e2b4e5726f4fa78a773acf1f31fa83",
       "version_major": 2,
       "version_minor": 0
      },
      "text/plain": [
       "diffusion sampling:   0%|          | 0/20 [00:00<?, ?it/s]"
      ]
     },
     "metadata": {},
     "output_type": "display_data"
    },
    {
     "data": {
      "application/vnd.jupyter.widget-view+json": {
       "model_id": "4e6865c90f15422593ed3ceebe9281a0",
       "version_major": 2,
       "version_minor": 0
      },
      "text/plain": [
       "diffusion sampling:   0%|          | 0/20 [00:00<?, ?it/s]"
      ]
     },
     "metadata": {},
     "output_type": "display_data"
    },
    {
     "data": {
      "application/vnd.jupyter.widget-view+json": {
       "model_id": "62f6e73d025b4037930967b7337ee9f8",
       "version_major": 2,
       "version_minor": 0
      },
      "text/plain": [
       "diffusion sampling:   0%|          | 0/20 [00:00<?, ?it/s]"
      ]
     },
     "metadata": {},
     "output_type": "display_data"
    },
    {
     "data": {
      "application/vnd.jupyter.widget-view+json": {
       "model_id": "0d657080eb81475084fc4d58ff4558ad",
       "version_major": 2,
       "version_minor": 0
      },
      "text/plain": [
       "diffusion sampling:   0%|          | 0/20 [00:00<?, ?it/s]"
      ]
     },
     "metadata": {},
     "output_type": "display_data"
    },
    {
     "data": {
      "application/vnd.jupyter.widget-view+json": {
       "model_id": "cd7726b6d4a24baa87027a138849b515",
       "version_major": 2,
       "version_minor": 0
      },
      "text/plain": [
       "class hypothsis:   0%|          | 0/6 [00:00<?, ?it/s]"
      ]
     },
     "metadata": {},
     "output_type": "display_data"
    },
    {
     "data": {
      "application/vnd.jupyter.widget-view+json": {
       "model_id": "9344e465e53a42d6a5b44a393b79c867",
       "version_major": 2,
       "version_minor": 0
      },
      "text/plain": [
       "diffusion sampling:   0%|          | 0/20 [00:00<?, ?it/s]"
      ]
     },
     "metadata": {},
     "output_type": "display_data"
    },
    {
     "data": {
      "application/vnd.jupyter.widget-view+json": {
       "model_id": "3aa3db8fadfd42c681133f42bda94b01",
       "version_major": 2,
       "version_minor": 0
      },
      "text/plain": [
       "diffusion sampling:   0%|          | 0/20 [00:00<?, ?it/s]"
      ]
     },
     "metadata": {},
     "output_type": "display_data"
    },
    {
     "data": {
      "application/vnd.jupyter.widget-view+json": {
       "model_id": "4ef62fb2d1be42d78a84279e52bb87ce",
       "version_major": 2,
       "version_minor": 0
      },
      "text/plain": [
       "diffusion sampling:   0%|          | 0/20 [00:00<?, ?it/s]"
      ]
     },
     "metadata": {},
     "output_type": "display_data"
    },
    {
     "data": {
      "application/vnd.jupyter.widget-view+json": {
       "model_id": "3ec2019a8ee74ced987c549eb14a1c7a",
       "version_major": 2,
       "version_minor": 0
      },
      "text/plain": [
       "diffusion sampling:   0%|          | 0/20 [00:00<?, ?it/s]"
      ]
     },
     "metadata": {},
     "output_type": "display_data"
    },
    {
     "data": {
      "application/vnd.jupyter.widget-view+json": {
       "model_id": "5cd5998c0b824c90b7525ec9dfdc8a3c",
       "version_major": 2,
       "version_minor": 0
      },
      "text/plain": [
       "diffusion sampling:   0%|          | 0/20 [00:00<?, ?it/s]"
      ]
     },
     "metadata": {},
     "output_type": "display_data"
    },
    {
     "data": {
      "application/vnd.jupyter.widget-view+json": {
       "model_id": "d6f48e991e2d4a219390c19858a795bc",
       "version_major": 2,
       "version_minor": 0
      },
      "text/plain": [
       "diffusion sampling:   0%|          | 0/20 [00:00<?, ?it/s]"
      ]
     },
     "metadata": {},
     "output_type": "display_data"
    },
    {
     "data": {
      "application/vnd.jupyter.widget-view+json": {
       "model_id": "7ee6f7e1f3f544328c9bd3c9e7c78138",
       "version_major": 2,
       "version_minor": 0
      },
      "text/plain": [
       "class hypothsis:   0%|          | 0/6 [00:00<?, ?it/s]"
      ]
     },
     "metadata": {},
     "output_type": "display_data"
    },
    {
     "data": {
      "application/vnd.jupyter.widget-view+json": {
       "model_id": "9ede88d3c06a4cf78c52deac5960eb54",
       "version_major": 2,
       "version_minor": 0
      },
      "text/plain": [
       "diffusion sampling:   0%|          | 0/20 [00:00<?, ?it/s]"
      ]
     },
     "metadata": {},
     "output_type": "display_data"
    },
    {
     "data": {
      "application/vnd.jupyter.widget-view+json": {
       "model_id": "a9f5651ec01e4a38b64b76f110e439e1",
       "version_major": 2,
       "version_minor": 0
      },
      "text/plain": [
       "diffusion sampling:   0%|          | 0/20 [00:00<?, ?it/s]"
      ]
     },
     "metadata": {},
     "output_type": "display_data"
    },
    {
     "data": {
      "application/vnd.jupyter.widget-view+json": {
       "model_id": "f98ce4e1e4b144bfad5100e5a64f1331",
       "version_major": 2,
       "version_minor": 0
      },
      "text/plain": [
       "diffusion sampling:   0%|          | 0/20 [00:00<?, ?it/s]"
      ]
     },
     "metadata": {},
     "output_type": "display_data"
    },
    {
     "data": {
      "application/vnd.jupyter.widget-view+json": {
       "model_id": "0ca69f51687241bda9c609724153557e",
       "version_major": 2,
       "version_minor": 0
      },
      "text/plain": [
       "diffusion sampling:   0%|          | 0/20 [00:00<?, ?it/s]"
      ]
     },
     "metadata": {},
     "output_type": "display_data"
    },
    {
     "data": {
      "application/vnd.jupyter.widget-view+json": {
       "model_id": "3a0ad075dbac48458be66cf6a8f2dc69",
       "version_major": 2,
       "version_minor": 0
      },
      "text/plain": [
       "diffusion sampling:   0%|          | 0/20 [00:00<?, ?it/s]"
      ]
     },
     "metadata": {},
     "output_type": "display_data"
    },
    {
     "data": {
      "application/vnd.jupyter.widget-view+json": {
       "model_id": "f8ea12cb1d6c4766a166943df9195783",
       "version_major": 2,
       "version_minor": 0
      },
      "text/plain": [
       "diffusion sampling:   0%|          | 0/20 [00:00<?, ?it/s]"
      ]
     },
     "metadata": {},
     "output_type": "display_data"
    },
    {
     "data": {
      "application/vnd.jupyter.widget-view+json": {
       "model_id": "a51eb18198bd4c64b9dcd62ed5db4102",
       "version_major": 2,
       "version_minor": 0
      },
      "text/plain": [
       "class hypothsis:   0%|          | 0/6 [00:00<?, ?it/s]"
      ]
     },
     "metadata": {},
     "output_type": "display_data"
    },
    {
     "data": {
      "application/vnd.jupyter.widget-view+json": {
       "model_id": "ffc907ae64fd43d19e24bc52d60ea6f2",
       "version_major": 2,
       "version_minor": 0
      },
      "text/plain": [
       "diffusion sampling:   0%|          | 0/20 [00:00<?, ?it/s]"
      ]
     },
     "metadata": {},
     "output_type": "display_data"
    },
    {
     "data": {
      "application/vnd.jupyter.widget-view+json": {
       "model_id": "4c02561e696b48c689e65c03e2bab44d",
       "version_major": 2,
       "version_minor": 0
      },
      "text/plain": [
       "diffusion sampling:   0%|          | 0/20 [00:00<?, ?it/s]"
      ]
     },
     "metadata": {},
     "output_type": "display_data"
    },
    {
     "data": {
      "application/vnd.jupyter.widget-view+json": {
       "model_id": "0d26fdfecfe9407f839d56f6a0b61362",
       "version_major": 2,
       "version_minor": 0
      },
      "text/plain": [
       "diffusion sampling:   0%|          | 0/20 [00:00<?, ?it/s]"
      ]
     },
     "metadata": {},
     "output_type": "display_data"
    },
    {
     "data": {
      "application/vnd.jupyter.widget-view+json": {
       "model_id": "aedf5f96aebc4c7bad873b123211c927",
       "version_major": 2,
       "version_minor": 0
      },
      "text/plain": [
       "diffusion sampling:   0%|          | 0/20 [00:00<?, ?it/s]"
      ]
     },
     "metadata": {},
     "output_type": "display_data"
    },
    {
     "data": {
      "application/vnd.jupyter.widget-view+json": {
       "model_id": "7e033abb860e4e3a8b2f3196784f6b8c",
       "version_major": 2,
       "version_minor": 0
      },
      "text/plain": [
       "diffusion sampling:   0%|          | 0/20 [00:00<?, ?it/s]"
      ]
     },
     "metadata": {},
     "output_type": "display_data"
    },
    {
     "data": {
      "application/vnd.jupyter.widget-view+json": {
       "model_id": "606f451e3a3d4f4a839f538a3e415fab",
       "version_major": 2,
       "version_minor": 0
      },
      "text/plain": [
       "diffusion sampling:   0%|          | 0/20 [00:00<?, ?it/s]"
      ]
     },
     "metadata": {},
     "output_type": "display_data"
    },
    {
     "data": {
      "application/vnd.jupyter.widget-view+json": {
       "model_id": "e354382240324844bf0239964c03dac0",
       "version_major": 2,
       "version_minor": 0
      },
      "text/plain": [
       "class hypothsis:   0%|          | 0/6 [00:00<?, ?it/s]"
      ]
     },
     "metadata": {},
     "output_type": "display_data"
    },
    {
     "data": {
      "application/vnd.jupyter.widget-view+json": {
       "model_id": "b90419127cf04e4e8af5f19613021834",
       "version_major": 2,
       "version_minor": 0
      },
      "text/plain": [
       "diffusion sampling:   0%|          | 0/20 [00:00<?, ?it/s]"
      ]
     },
     "metadata": {},
     "output_type": "display_data"
    },
    {
     "data": {
      "application/vnd.jupyter.widget-view+json": {
       "model_id": "40c85d0ff8f04ee8ad540e80ba6fac29",
       "version_major": 2,
       "version_minor": 0
      },
      "text/plain": [
       "diffusion sampling:   0%|          | 0/20 [00:00<?, ?it/s]"
      ]
     },
     "metadata": {},
     "output_type": "display_data"
    },
    {
     "data": {
      "application/vnd.jupyter.widget-view+json": {
       "model_id": "319a413dbc4b4940a1de0ca880d5fe2d",
       "version_major": 2,
       "version_minor": 0
      },
      "text/plain": [
       "diffusion sampling:   0%|          | 0/20 [00:00<?, ?it/s]"
      ]
     },
     "metadata": {},
     "output_type": "display_data"
    },
    {
     "data": {
      "application/vnd.jupyter.widget-view+json": {
       "model_id": "219220ce27fb483f8142cb0fb2461353",
       "version_major": 2,
       "version_minor": 0
      },
      "text/plain": [
       "diffusion sampling:   0%|          | 0/20 [00:00<?, ?it/s]"
      ]
     },
     "metadata": {},
     "output_type": "display_data"
    },
    {
     "data": {
      "application/vnd.jupyter.widget-view+json": {
       "model_id": "7bbc34648dae48b5a12d5cf8ede67c66",
       "version_major": 2,
       "version_minor": 0
      },
      "text/plain": [
       "diffusion sampling:   0%|          | 0/20 [00:00<?, ?it/s]"
      ]
     },
     "metadata": {},
     "output_type": "display_data"
    },
    {
     "data": {
      "application/vnd.jupyter.widget-view+json": {
       "model_id": "c3a7600d53c84fa2b0479616ea51092e",
       "version_major": 2,
       "version_minor": 0
      },
      "text/plain": [
       "diffusion sampling:   0%|          | 0/20 [00:00<?, ?it/s]"
      ]
     },
     "metadata": {},
     "output_type": "display_data"
    },
    {
     "data": {
      "application/vnd.jupyter.widget-view+json": {
       "model_id": "da69b7c499ef42f1914d45c263ea6133",
       "version_major": 2,
       "version_minor": 0
      },
      "text/plain": [
       "class hypothsis:   0%|          | 0/6 [00:00<?, ?it/s]"
      ]
     },
     "metadata": {},
     "output_type": "display_data"
    },
    {
     "data": {
      "application/vnd.jupyter.widget-view+json": {
       "model_id": "e2f749dec56b41d5961e37b2ec4d353c",
       "version_major": 2,
       "version_minor": 0
      },
      "text/plain": [
       "diffusion sampling:   0%|          | 0/20 [00:00<?, ?it/s]"
      ]
     },
     "metadata": {},
     "output_type": "display_data"
    },
    {
     "data": {
      "application/vnd.jupyter.widget-view+json": {
       "model_id": "8f5bb23b458c482188210ae7bacccea5",
       "version_major": 2,
       "version_minor": 0
      },
      "text/plain": [
       "diffusion sampling:   0%|          | 0/20 [00:00<?, ?it/s]"
      ]
     },
     "metadata": {},
     "output_type": "display_data"
    },
    {
     "data": {
      "application/vnd.jupyter.widget-view+json": {
       "model_id": "1f625fd43aa3448f96cc0b94bc669e3a",
       "version_major": 2,
       "version_minor": 0
      },
      "text/plain": [
       "diffusion sampling:   0%|          | 0/20 [00:00<?, ?it/s]"
      ]
     },
     "metadata": {},
     "output_type": "display_data"
    },
    {
     "data": {
      "application/vnd.jupyter.widget-view+json": {
       "model_id": "df737c5ee695406fb5150ce065ae1642",
       "version_major": 2,
       "version_minor": 0
      },
      "text/plain": [
       "diffusion sampling:   0%|          | 0/20 [00:00<?, ?it/s]"
      ]
     },
     "metadata": {},
     "output_type": "display_data"
    },
    {
     "data": {
      "application/vnd.jupyter.widget-view+json": {
       "model_id": "5e8009fded074c179d2f6ebc0b3c7c5e",
       "version_major": 2,
       "version_minor": 0
      },
      "text/plain": [
       "diffusion sampling:   0%|          | 0/20 [00:00<?, ?it/s]"
      ]
     },
     "metadata": {},
     "output_type": "display_data"
    },
    {
     "data": {
      "application/vnd.jupyter.widget-view+json": {
       "model_id": "83167cfac9c5402f937ba71717b0ee62",
       "version_major": 2,
       "version_minor": 0
      },
      "text/plain": [
       "diffusion sampling:   0%|          | 0/20 [00:00<?, ?it/s]"
      ]
     },
     "metadata": {},
     "output_type": "display_data"
    },
    {
     "data": {
      "application/vnd.jupyter.widget-view+json": {
       "model_id": "aca65809b2714bddb66625b9cdd4cd97",
       "version_major": 2,
       "version_minor": 0
      },
      "text/plain": [
       "class hypothsis:   0%|          | 0/6 [00:00<?, ?it/s]"
      ]
     },
     "metadata": {},
     "output_type": "display_data"
    },
    {
     "data": {
      "application/vnd.jupyter.widget-view+json": {
       "model_id": "0ed1331e27824276893a361766571119",
       "version_major": 2,
       "version_minor": 0
      },
      "text/plain": [
       "diffusion sampling:   0%|          | 0/20 [00:00<?, ?it/s]"
      ]
     },
     "metadata": {},
     "output_type": "display_data"
    },
    {
     "data": {
      "application/vnd.jupyter.widget-view+json": {
       "model_id": "6ca6092cfc224fc1803e79b70a1441f5",
       "version_major": 2,
       "version_minor": 0
      },
      "text/plain": [
       "diffusion sampling:   0%|          | 0/20 [00:00<?, ?it/s]"
      ]
     },
     "metadata": {},
     "output_type": "display_data"
    },
    {
     "data": {
      "application/vnd.jupyter.widget-view+json": {
       "model_id": "216c7a2a7e754da99517a18bb6399d2f",
       "version_major": 2,
       "version_minor": 0
      },
      "text/plain": [
       "diffusion sampling:   0%|          | 0/20 [00:00<?, ?it/s]"
      ]
     },
     "metadata": {},
     "output_type": "display_data"
    },
    {
     "data": {
      "application/vnd.jupyter.widget-view+json": {
       "model_id": "877c28046cb942118446600589a9aafc",
       "version_major": 2,
       "version_minor": 0
      },
      "text/plain": [
       "diffusion sampling:   0%|          | 0/20 [00:00<?, ?it/s]"
      ]
     },
     "metadata": {},
     "output_type": "display_data"
    },
    {
     "data": {
      "application/vnd.jupyter.widget-view+json": {
       "model_id": "39e7ae0a68d8451295d0e4e93bf61047",
       "version_major": 2,
       "version_minor": 0
      },
      "text/plain": [
       "diffusion sampling:   0%|          | 0/20 [00:00<?, ?it/s]"
      ]
     },
     "metadata": {},
     "output_type": "display_data"
    },
    {
     "data": {
      "application/vnd.jupyter.widget-view+json": {
       "model_id": "b74e4069f8bd4398ae0631635c08a4c1",
       "version_major": 2,
       "version_minor": 0
      },
      "text/plain": [
       "diffusion sampling:   0%|          | 0/20 [00:00<?, ?it/s]"
      ]
     },
     "metadata": {},
     "output_type": "display_data"
    },
    {
     "data": {
      "application/vnd.jupyter.widget-view+json": {
       "model_id": "03c8815a40a84b96802a968bc079531e",
       "version_major": 2,
       "version_minor": 0
      },
      "text/plain": [
       "class hypothsis:   0%|          | 0/6 [00:00<?, ?it/s]"
      ]
     },
     "metadata": {},
     "output_type": "display_data"
    },
    {
     "data": {
      "application/vnd.jupyter.widget-view+json": {
       "model_id": "84e2e9341b85406b8841a3e5c00feb79",
       "version_major": 2,
       "version_minor": 0
      },
      "text/plain": [
       "diffusion sampling:   0%|          | 0/20 [00:00<?, ?it/s]"
      ]
     },
     "metadata": {},
     "output_type": "display_data"
    },
    {
     "data": {
      "application/vnd.jupyter.widget-view+json": {
       "model_id": "dd5985fc6bcb4b3e99067816ae3bc679",
       "version_major": 2,
       "version_minor": 0
      },
      "text/plain": [
       "diffusion sampling:   0%|          | 0/20 [00:00<?, ?it/s]"
      ]
     },
     "metadata": {},
     "output_type": "display_data"
    },
    {
     "data": {
      "application/vnd.jupyter.widget-view+json": {
       "model_id": "28bbca003ebb48bb8da202781d67de42",
       "version_major": 2,
       "version_minor": 0
      },
      "text/plain": [
       "diffusion sampling:   0%|          | 0/20 [00:00<?, ?it/s]"
      ]
     },
     "metadata": {},
     "output_type": "display_data"
    },
    {
     "data": {
      "application/vnd.jupyter.widget-view+json": {
       "model_id": "5c37e89c67d34a569b71933b1f73b86d",
       "version_major": 2,
       "version_minor": 0
      },
      "text/plain": [
       "diffusion sampling:   0%|          | 0/20 [00:00<?, ?it/s]"
      ]
     },
     "metadata": {},
     "output_type": "display_data"
    },
    {
     "data": {
      "application/vnd.jupyter.widget-view+json": {
       "model_id": "21c633f607c74422a1e33bf514146d1b",
       "version_major": 2,
       "version_minor": 0
      },
      "text/plain": [
       "diffusion sampling:   0%|          | 0/20 [00:00<?, ?it/s]"
      ]
     },
     "metadata": {},
     "output_type": "display_data"
    },
    {
     "data": {
      "application/vnd.jupyter.widget-view+json": {
       "model_id": "0d2126ddbfc24fc793556fc66ab265ff",
       "version_major": 2,
       "version_minor": 0
      },
      "text/plain": [
       "diffusion sampling:   0%|          | 0/20 [00:00<?, ?it/s]"
      ]
     },
     "metadata": {},
     "output_type": "display_data"
    },
    {
     "data": {
      "application/vnd.jupyter.widget-view+json": {
       "model_id": "8768f3b6003e47c08b4c18a3ba02d4d6",
       "version_major": 2,
       "version_minor": 0
      },
      "text/plain": [
       "class hypothsis:   0%|          | 0/6 [00:00<?, ?it/s]"
      ]
     },
     "metadata": {},
     "output_type": "display_data"
    },
    {
     "data": {
      "application/vnd.jupyter.widget-view+json": {
       "model_id": "578ccbdbb4154219938da571a46e8173",
       "version_major": 2,
       "version_minor": 0
      },
      "text/plain": [
       "diffusion sampling:   0%|          | 0/20 [00:00<?, ?it/s]"
      ]
     },
     "metadata": {},
     "output_type": "display_data"
    },
    {
     "data": {
      "application/vnd.jupyter.widget-view+json": {
       "model_id": "b796038023a648cd91e802a7765e4463",
       "version_major": 2,
       "version_minor": 0
      },
      "text/plain": [
       "diffusion sampling:   0%|          | 0/20 [00:00<?, ?it/s]"
      ]
     },
     "metadata": {},
     "output_type": "display_data"
    },
    {
     "data": {
      "application/vnd.jupyter.widget-view+json": {
       "model_id": "ae763b47a89f4022b2db46784f833ba9",
       "version_major": 2,
       "version_minor": 0
      },
      "text/plain": [
       "diffusion sampling:   0%|          | 0/20 [00:00<?, ?it/s]"
      ]
     },
     "metadata": {},
     "output_type": "display_data"
    },
    {
     "data": {
      "application/vnd.jupyter.widget-view+json": {
       "model_id": "f2bb5f213e4b402fb43ddbb0c72d8743",
       "version_major": 2,
       "version_minor": 0
      },
      "text/plain": [
       "diffusion sampling:   0%|          | 0/20 [00:00<?, ?it/s]"
      ]
     },
     "metadata": {},
     "output_type": "display_data"
    },
    {
     "data": {
      "application/vnd.jupyter.widget-view+json": {
       "model_id": "0d22ce146b6443909ab80ecef2258a81",
       "version_major": 2,
       "version_minor": 0
      },
      "text/plain": [
       "diffusion sampling:   0%|          | 0/20 [00:00<?, ?it/s]"
      ]
     },
     "metadata": {},
     "output_type": "display_data"
    },
    {
     "data": {
      "application/vnd.jupyter.widget-view+json": {
       "model_id": "ba9f938deaa74d638e67b6c5ece8b490",
       "version_major": 2,
       "version_minor": 0
      },
      "text/plain": [
       "diffusion sampling:   0%|          | 0/20 [00:00<?, ?it/s]"
      ]
     },
     "metadata": {},
     "output_type": "display_data"
    },
    {
     "data": {
      "application/vnd.jupyter.widget-view+json": {
       "model_id": "512d1407e57146eb8bf065d28b1ebca5",
       "version_major": 2,
       "version_minor": 0
      },
      "text/plain": [
       "class hypothsis:   0%|          | 0/6 [00:00<?, ?it/s]"
      ]
     },
     "metadata": {},
     "output_type": "display_data"
    },
    {
     "data": {
      "application/vnd.jupyter.widget-view+json": {
       "model_id": "bcafa2e53783464d863b3e6059926175",
       "version_major": 2,
       "version_minor": 0
      },
      "text/plain": [
       "diffusion sampling:   0%|          | 0/20 [00:00<?, ?it/s]"
      ]
     },
     "metadata": {},
     "output_type": "display_data"
    },
    {
     "data": {
      "application/vnd.jupyter.widget-view+json": {
       "model_id": "41953e2d34574793af8f535fbb76c7df",
       "version_major": 2,
       "version_minor": 0
      },
      "text/plain": [
       "diffusion sampling:   0%|          | 0/20 [00:00<?, ?it/s]"
      ]
     },
     "metadata": {},
     "output_type": "display_data"
    },
    {
     "data": {
      "application/vnd.jupyter.widget-view+json": {
       "model_id": "1b6786e639f0486bb371baecda838e6c",
       "version_major": 2,
       "version_minor": 0
      },
      "text/plain": [
       "diffusion sampling:   0%|          | 0/20 [00:00<?, ?it/s]"
      ]
     },
     "metadata": {},
     "output_type": "display_data"
    },
    {
     "data": {
      "application/vnd.jupyter.widget-view+json": {
       "model_id": "d7ceb7c8704e41768559d91f116f2ab3",
       "version_major": 2,
       "version_minor": 0
      },
      "text/plain": [
       "diffusion sampling:   0%|          | 0/20 [00:00<?, ?it/s]"
      ]
     },
     "metadata": {},
     "output_type": "display_data"
    },
    {
     "data": {
      "application/vnd.jupyter.widget-view+json": {
       "model_id": "e50fcc5b0f6749c19d0a422cafb9a54d",
       "version_major": 2,
       "version_minor": 0
      },
      "text/plain": [
       "diffusion sampling:   0%|          | 0/20 [00:00<?, ?it/s]"
      ]
     },
     "metadata": {},
     "output_type": "display_data"
    },
    {
     "data": {
      "application/vnd.jupyter.widget-view+json": {
       "model_id": "d0d1de7091cb46228d07a2c5fac57ee6",
       "version_major": 2,
       "version_minor": 0
      },
      "text/plain": [
       "diffusion sampling:   0%|          | 0/20 [00:00<?, ?it/s]"
      ]
     },
     "metadata": {},
     "output_type": "display_data"
    },
    {
     "data": {
      "application/vnd.jupyter.widget-view+json": {
       "model_id": "f2edd8c414c54834bebc8dadfca77bb4",
       "version_major": 2,
       "version_minor": 0
      },
      "text/plain": [
       "class hypothsis:   0%|          | 0/6 [00:00<?, ?it/s]"
      ]
     },
     "metadata": {},
     "output_type": "display_data"
    },
    {
     "data": {
      "application/vnd.jupyter.widget-view+json": {
       "model_id": "b670d662a97845549280511a287a732d",
       "version_major": 2,
       "version_minor": 0
      },
      "text/plain": [
       "diffusion sampling:   0%|          | 0/20 [00:00<?, ?it/s]"
      ]
     },
     "metadata": {},
     "output_type": "display_data"
    },
    {
     "data": {
      "application/vnd.jupyter.widget-view+json": {
       "model_id": "29273cda113840a3b73724eca776a9b3",
       "version_major": 2,
       "version_minor": 0
      },
      "text/plain": [
       "diffusion sampling:   0%|          | 0/20 [00:00<?, ?it/s]"
      ]
     },
     "metadata": {},
     "output_type": "display_data"
    },
    {
     "data": {
      "application/vnd.jupyter.widget-view+json": {
       "model_id": "25001d5b6bda404e9950864184e5e27b",
       "version_major": 2,
       "version_minor": 0
      },
      "text/plain": [
       "diffusion sampling:   0%|          | 0/20 [00:00<?, ?it/s]"
      ]
     },
     "metadata": {},
     "output_type": "display_data"
    },
    {
     "data": {
      "application/vnd.jupyter.widget-view+json": {
       "model_id": "288a4e7220d04b119579819c9a40e78c",
       "version_major": 2,
       "version_minor": 0
      },
      "text/plain": [
       "diffusion sampling:   0%|          | 0/20 [00:00<?, ?it/s]"
      ]
     },
     "metadata": {},
     "output_type": "display_data"
    },
    {
     "data": {
      "application/vnd.jupyter.widget-view+json": {
       "model_id": "e73fe1c641314df6bb161786e6cefc0b",
       "version_major": 2,
       "version_minor": 0
      },
      "text/plain": [
       "diffusion sampling:   0%|          | 0/20 [00:00<?, ?it/s]"
      ]
     },
     "metadata": {},
     "output_type": "display_data"
    },
    {
     "data": {
      "application/vnd.jupyter.widget-view+json": {
       "model_id": "f2d7fdbdd5c54b08893769ec03410af0",
       "version_major": 2,
       "version_minor": 0
      },
      "text/plain": [
       "diffusion sampling:   0%|          | 0/20 [00:00<?, ?it/s]"
      ]
     },
     "metadata": {},
     "output_type": "display_data"
    },
    {
     "data": {
      "application/vnd.jupyter.widget-view+json": {
       "model_id": "0b0fe94663a048a7a0639178a4a4fa62",
       "version_major": 2,
       "version_minor": 0
      },
      "text/plain": [
       "class hypothsis:   0%|          | 0/6 [00:00<?, ?it/s]"
      ]
     },
     "metadata": {},
     "output_type": "display_data"
    },
    {
     "data": {
      "application/vnd.jupyter.widget-view+json": {
       "model_id": "c98ebf616e1a43a796f6d40603bf2e7b",
       "version_major": 2,
       "version_minor": 0
      },
      "text/plain": [
       "diffusion sampling:   0%|          | 0/20 [00:00<?, ?it/s]"
      ]
     },
     "metadata": {},
     "output_type": "display_data"
    },
    {
     "data": {
      "application/vnd.jupyter.widget-view+json": {
       "model_id": "a03f63e97efe4806aa76fc95d1cce87d",
       "version_major": 2,
       "version_minor": 0
      },
      "text/plain": [
       "diffusion sampling:   0%|          | 0/20 [00:00<?, ?it/s]"
      ]
     },
     "metadata": {},
     "output_type": "display_data"
    },
    {
     "data": {
      "application/vnd.jupyter.widget-view+json": {
       "model_id": "b014c0ecfe34443e95149ad9fd9ecad5",
       "version_major": 2,
       "version_minor": 0
      },
      "text/plain": [
       "diffusion sampling:   0%|          | 0/20 [00:00<?, ?it/s]"
      ]
     },
     "metadata": {},
     "output_type": "display_data"
    },
    {
     "data": {
      "application/vnd.jupyter.widget-view+json": {
       "model_id": "e4b67dd6257d40278542525420ed168d",
       "version_major": 2,
       "version_minor": 0
      },
      "text/plain": [
       "diffusion sampling:   0%|          | 0/20 [00:00<?, ?it/s]"
      ]
     },
     "metadata": {},
     "output_type": "display_data"
    },
    {
     "data": {
      "application/vnd.jupyter.widget-view+json": {
       "model_id": "d674a0b14e224122b585a20173998f49",
       "version_major": 2,
       "version_minor": 0
      },
      "text/plain": [
       "diffusion sampling:   0%|          | 0/20 [00:00<?, ?it/s]"
      ]
     },
     "metadata": {},
     "output_type": "display_data"
    },
    {
     "data": {
      "application/vnd.jupyter.widget-view+json": {
       "model_id": "dde23f73d6834ee99639c62cf9332c56",
       "version_major": 2,
       "version_minor": 0
      },
      "text/plain": [
       "diffusion sampling:   0%|          | 0/20 [00:00<?, ?it/s]"
      ]
     },
     "metadata": {},
     "output_type": "display_data"
    },
    {
     "data": {
      "application/vnd.jupyter.widget-view+json": {
       "model_id": "ae5298c56c5a409ca14a6c92cc6ebc0b",
       "version_major": 2,
       "version_minor": 0
      },
      "text/plain": [
       "class hypothsis:   0%|          | 0/6 [00:00<?, ?it/s]"
      ]
     },
     "metadata": {},
     "output_type": "display_data"
    },
    {
     "data": {
      "application/vnd.jupyter.widget-view+json": {
       "model_id": "d44d6e5be003443aa7ae3eb74f2eb990",
       "version_major": 2,
       "version_minor": 0
      },
      "text/plain": [
       "diffusion sampling:   0%|          | 0/20 [00:00<?, ?it/s]"
      ]
     },
     "metadata": {},
     "output_type": "display_data"
    },
    {
     "data": {
      "application/vnd.jupyter.widget-view+json": {
       "model_id": "aa486a7f0fac4f7c9293159467c263af",
       "version_major": 2,
       "version_minor": 0
      },
      "text/plain": [
       "diffusion sampling:   0%|          | 0/20 [00:00<?, ?it/s]"
      ]
     },
     "metadata": {},
     "output_type": "display_data"
    },
    {
     "data": {
      "application/vnd.jupyter.widget-view+json": {
       "model_id": "5d63b8301cc340519ccb9cffc0f1dbea",
       "version_major": 2,
       "version_minor": 0
      },
      "text/plain": [
       "diffusion sampling:   0%|          | 0/20 [00:00<?, ?it/s]"
      ]
     },
     "metadata": {},
     "output_type": "display_data"
    },
    {
     "data": {
      "application/vnd.jupyter.widget-view+json": {
       "model_id": "636f42080a83438da0e5acf603d6b86a",
       "version_major": 2,
       "version_minor": 0
      },
      "text/plain": [
       "diffusion sampling:   0%|          | 0/20 [00:00<?, ?it/s]"
      ]
     },
     "metadata": {},
     "output_type": "display_data"
    },
    {
     "data": {
      "application/vnd.jupyter.widget-view+json": {
       "model_id": "f75c1dbd3a9240d68380504d9f0478cc",
       "version_major": 2,
       "version_minor": 0
      },
      "text/plain": [
       "diffusion sampling:   0%|          | 0/20 [00:00<?, ?it/s]"
      ]
     },
     "metadata": {},
     "output_type": "display_data"
    },
    {
     "data": {
      "application/vnd.jupyter.widget-view+json": {
       "model_id": "39bf91d64ab34718ba0628252f93c4a4",
       "version_major": 2,
       "version_minor": 0
      },
      "text/plain": [
       "diffusion sampling:   0%|          | 0/20 [00:00<?, ?it/s]"
      ]
     },
     "metadata": {},
     "output_type": "display_data"
    },
    {
     "data": {
      "application/vnd.jupyter.widget-view+json": {
       "model_id": "4f5480460d7446e286249f51f531e694",
       "version_major": 2,
       "version_minor": 0
      },
      "text/plain": [
       "class hypothsis:   0%|          | 0/6 [00:00<?, ?it/s]"
      ]
     },
     "metadata": {},
     "output_type": "display_data"
    },
    {
     "data": {
      "application/vnd.jupyter.widget-view+json": {
       "model_id": "591de81abaa845d88d92fac1e8599151",
       "version_major": 2,
       "version_minor": 0
      },
      "text/plain": [
       "diffusion sampling:   0%|          | 0/20 [00:00<?, ?it/s]"
      ]
     },
     "metadata": {},
     "output_type": "display_data"
    },
    {
     "data": {
      "application/vnd.jupyter.widget-view+json": {
       "model_id": "61067722289f4133a4dd49490892bf48",
       "version_major": 2,
       "version_minor": 0
      },
      "text/plain": [
       "diffusion sampling:   0%|          | 0/20 [00:00<?, ?it/s]"
      ]
     },
     "metadata": {},
     "output_type": "display_data"
    },
    {
     "data": {
      "application/vnd.jupyter.widget-view+json": {
       "model_id": "d00633b8bb6d41dbaee5218aa7eb2b6c",
       "version_major": 2,
       "version_minor": 0
      },
      "text/plain": [
       "diffusion sampling:   0%|          | 0/20 [00:00<?, ?it/s]"
      ]
     },
     "metadata": {},
     "output_type": "display_data"
    },
    {
     "data": {
      "application/vnd.jupyter.widget-view+json": {
       "model_id": "176b08e0a71a4c01a9665680d8b94e43",
       "version_major": 2,
       "version_minor": 0
      },
      "text/plain": [
       "diffusion sampling:   0%|          | 0/20 [00:00<?, ?it/s]"
      ]
     },
     "metadata": {},
     "output_type": "display_data"
    },
    {
     "data": {
      "application/vnd.jupyter.widget-view+json": {
       "model_id": "baec108e9e614a28b396abaae5bace8a",
       "version_major": 2,
       "version_minor": 0
      },
      "text/plain": [
       "diffusion sampling:   0%|          | 0/20 [00:00<?, ?it/s]"
      ]
     },
     "metadata": {},
     "output_type": "display_data"
    },
    {
     "data": {
      "application/vnd.jupyter.widget-view+json": {
       "model_id": "9a30ac9227344580bc8cc3895871ae78",
       "version_major": 2,
       "version_minor": 0
      },
      "text/plain": [
       "diffusion sampling:   0%|          | 0/20 [00:00<?, ?it/s]"
      ]
     },
     "metadata": {},
     "output_type": "display_data"
    },
    {
     "data": {
      "application/vnd.jupyter.widget-view+json": {
       "model_id": "1db77b1bc2a84727960b07f62308e67c",
       "version_major": 2,
       "version_minor": 0
      },
      "text/plain": [
       "class hypothsis:   0%|          | 0/6 [00:00<?, ?it/s]"
      ]
     },
     "metadata": {},
     "output_type": "display_data"
    },
    {
     "data": {
      "application/vnd.jupyter.widget-view+json": {
       "model_id": "1099398fed7f4c58a717958048cb52b7",
       "version_major": 2,
       "version_minor": 0
      },
      "text/plain": [
       "diffusion sampling:   0%|          | 0/20 [00:00<?, ?it/s]"
      ]
     },
     "metadata": {},
     "output_type": "display_data"
    },
    {
     "data": {
      "application/vnd.jupyter.widget-view+json": {
       "model_id": "1ff209a1ea7b4ef4b3b3c2e5f4ce59f5",
       "version_major": 2,
       "version_minor": 0
      },
      "text/plain": [
       "diffusion sampling:   0%|          | 0/20 [00:00<?, ?it/s]"
      ]
     },
     "metadata": {},
     "output_type": "display_data"
    },
    {
     "data": {
      "application/vnd.jupyter.widget-view+json": {
       "model_id": "e411155eec0c4f7d98eeaf6d06ba14d4",
       "version_major": 2,
       "version_minor": 0
      },
      "text/plain": [
       "diffusion sampling:   0%|          | 0/20 [00:00<?, ?it/s]"
      ]
     },
     "metadata": {},
     "output_type": "display_data"
    },
    {
     "data": {
      "application/vnd.jupyter.widget-view+json": {
       "model_id": "5a629779aad24aeeba8796f4749dd9b7",
       "version_major": 2,
       "version_minor": 0
      },
      "text/plain": [
       "diffusion sampling:   0%|          | 0/20 [00:00<?, ?it/s]"
      ]
     },
     "metadata": {},
     "output_type": "display_data"
    },
    {
     "data": {
      "application/vnd.jupyter.widget-view+json": {
       "model_id": "9dc15e3dda1a4247afcd6582ff937b84",
       "version_major": 2,
       "version_minor": 0
      },
      "text/plain": [
       "diffusion sampling:   0%|          | 0/20 [00:00<?, ?it/s]"
      ]
     },
     "metadata": {},
     "output_type": "display_data"
    },
    {
     "data": {
      "application/vnd.jupyter.widget-view+json": {
       "model_id": "b5de6b47561642b7afe1bd9b983f29cd",
       "version_major": 2,
       "version_minor": 0
      },
      "text/plain": [
       "diffusion sampling:   0%|          | 0/20 [00:00<?, ?it/s]"
      ]
     },
     "metadata": {},
     "output_type": "display_data"
    },
    {
     "data": {
      "application/vnd.jupyter.widget-view+json": {
       "model_id": "cf92ab336e774fc79a80d50a35290c45",
       "version_major": 2,
       "version_minor": 0
      },
      "text/plain": [
       "class hypothsis:   0%|          | 0/6 [00:00<?, ?it/s]"
      ]
     },
     "metadata": {},
     "output_type": "display_data"
    },
    {
     "data": {
      "application/vnd.jupyter.widget-view+json": {
       "model_id": "d3245859fb3d40faad818a048e19fb24",
       "version_major": 2,
       "version_minor": 0
      },
      "text/plain": [
       "diffusion sampling:   0%|          | 0/20 [00:00<?, ?it/s]"
      ]
     },
     "metadata": {},
     "output_type": "display_data"
    },
    {
     "data": {
      "application/vnd.jupyter.widget-view+json": {
       "model_id": "c63615abc4bd4b50927ad677a6b876ac",
       "version_major": 2,
       "version_minor": 0
      },
      "text/plain": [
       "diffusion sampling:   0%|          | 0/20 [00:00<?, ?it/s]"
      ]
     },
     "metadata": {},
     "output_type": "display_data"
    },
    {
     "data": {
      "application/vnd.jupyter.widget-view+json": {
       "model_id": "3c8023bd41904b88b5142b0958aa0f69",
       "version_major": 2,
       "version_minor": 0
      },
      "text/plain": [
       "diffusion sampling:   0%|          | 0/20 [00:00<?, ?it/s]"
      ]
     },
     "metadata": {},
     "output_type": "display_data"
    },
    {
     "data": {
      "application/vnd.jupyter.widget-view+json": {
       "model_id": "1e110d55d2c9439493c9ff026b9154bc",
       "version_major": 2,
       "version_minor": 0
      },
      "text/plain": [
       "diffusion sampling:   0%|          | 0/20 [00:00<?, ?it/s]"
      ]
     },
     "metadata": {},
     "output_type": "display_data"
    },
    {
     "data": {
      "application/vnd.jupyter.widget-view+json": {
       "model_id": "8a289e6b40484ba38955315085edd52d",
       "version_major": 2,
       "version_minor": 0
      },
      "text/plain": [
       "diffusion sampling:   0%|          | 0/20 [00:00<?, ?it/s]"
      ]
     },
     "metadata": {},
     "output_type": "display_data"
    },
    {
     "data": {
      "application/vnd.jupyter.widget-view+json": {
       "model_id": "a3df023975b74ac1ac154cac27c29e25",
       "version_major": 2,
       "version_minor": 0
      },
      "text/plain": [
       "diffusion sampling:   0%|          | 0/20 [00:00<?, ?it/s]"
      ]
     },
     "metadata": {},
     "output_type": "display_data"
    },
    {
     "data": {
      "application/vnd.jupyter.widget-view+json": {
       "model_id": "1d02bb95b1c240afab6410872e9f1804",
       "version_major": 2,
       "version_minor": 0
      },
      "text/plain": [
       "class hypothsis:   0%|          | 0/6 [00:00<?, ?it/s]"
      ]
     },
     "metadata": {},
     "output_type": "display_data"
    },
    {
     "data": {
      "application/vnd.jupyter.widget-view+json": {
       "model_id": "cbe7e3410a844f4e91800a9a7398ba3f",
       "version_major": 2,
       "version_minor": 0
      },
      "text/plain": [
       "diffusion sampling:   0%|          | 0/20 [00:00<?, ?it/s]"
      ]
     },
     "metadata": {},
     "output_type": "display_data"
    },
    {
     "data": {
      "application/vnd.jupyter.widget-view+json": {
       "model_id": "ce8d2220631d4b5395fe48530f3b1f63",
       "version_major": 2,
       "version_minor": 0
      },
      "text/plain": [
       "diffusion sampling:   0%|          | 0/20 [00:00<?, ?it/s]"
      ]
     },
     "metadata": {},
     "output_type": "display_data"
    },
    {
     "data": {
      "application/vnd.jupyter.widget-view+json": {
       "model_id": "37ee6321a626400da6b67e7314b1227b",
       "version_major": 2,
       "version_minor": 0
      },
      "text/plain": [
       "diffusion sampling:   0%|          | 0/20 [00:00<?, ?it/s]"
      ]
     },
     "metadata": {},
     "output_type": "display_data"
    },
    {
     "data": {
      "application/vnd.jupyter.widget-view+json": {
       "model_id": "1e10b0ee398f45f999435ea8f201face",
       "version_major": 2,
       "version_minor": 0
      },
      "text/plain": [
       "diffusion sampling:   0%|          | 0/20 [00:00<?, ?it/s]"
      ]
     },
     "metadata": {},
     "output_type": "display_data"
    },
    {
     "data": {
      "application/vnd.jupyter.widget-view+json": {
       "model_id": "3ffe99dc57f142a296810f00edc0f77f",
       "version_major": 2,
       "version_minor": 0
      },
      "text/plain": [
       "diffusion sampling:   0%|          | 0/20 [00:00<?, ?it/s]"
      ]
     },
     "metadata": {},
     "output_type": "display_data"
    },
    {
     "data": {
      "application/vnd.jupyter.widget-view+json": {
       "model_id": "5c7eb12efc484a428b0f54da97c01a88",
       "version_major": 2,
       "version_minor": 0
      },
      "text/plain": [
       "diffusion sampling:   0%|          | 0/20 [00:00<?, ?it/s]"
      ]
     },
     "metadata": {},
     "output_type": "display_data"
    },
    {
     "data": {
      "application/vnd.jupyter.widget-view+json": {
       "model_id": "11c84aa1ffa34ac2a5f37f22737b91fe",
       "version_major": 2,
       "version_minor": 0
      },
      "text/plain": [
       "class hypothsis:   0%|          | 0/6 [00:00<?, ?it/s]"
      ]
     },
     "metadata": {},
     "output_type": "display_data"
    },
    {
     "data": {
      "application/vnd.jupyter.widget-view+json": {
       "model_id": "cc9b0c5951cd4495b269b0f73ce31dcf",
       "version_major": 2,
       "version_minor": 0
      },
      "text/plain": [
       "diffusion sampling:   0%|          | 0/20 [00:00<?, ?it/s]"
      ]
     },
     "metadata": {},
     "output_type": "display_data"
    },
    {
     "data": {
      "application/vnd.jupyter.widget-view+json": {
       "model_id": "d7cc17ffa67e422d8b50b2046d1f6b8f",
       "version_major": 2,
       "version_minor": 0
      },
      "text/plain": [
       "diffusion sampling:   0%|          | 0/20 [00:00<?, ?it/s]"
      ]
     },
     "metadata": {},
     "output_type": "display_data"
    },
    {
     "data": {
      "application/vnd.jupyter.widget-view+json": {
       "model_id": "4a774f481bf349c8ad11648711461e1b",
       "version_major": 2,
       "version_minor": 0
      },
      "text/plain": [
       "diffusion sampling:   0%|          | 0/20 [00:00<?, ?it/s]"
      ]
     },
     "metadata": {},
     "output_type": "display_data"
    },
    {
     "data": {
      "application/vnd.jupyter.widget-view+json": {
       "model_id": "0171a1759ac54f68a8f6d60fba050ec9",
       "version_major": 2,
       "version_minor": 0
      },
      "text/plain": [
       "diffusion sampling:   0%|          | 0/20 [00:00<?, ?it/s]"
      ]
     },
     "metadata": {},
     "output_type": "display_data"
    },
    {
     "data": {
      "application/vnd.jupyter.widget-view+json": {
       "model_id": "473d1822e2e34d2b80a70262c6c3de62",
       "version_major": 2,
       "version_minor": 0
      },
      "text/plain": [
       "diffusion sampling:   0%|          | 0/20 [00:00<?, ?it/s]"
      ]
     },
     "metadata": {},
     "output_type": "display_data"
    },
    {
     "data": {
      "application/vnd.jupyter.widget-view+json": {
       "model_id": "dfe586ae3eec42d983269119ab866432",
       "version_major": 2,
       "version_minor": 0
      },
      "text/plain": [
       "diffusion sampling:   0%|          | 0/20 [00:00<?, ?it/s]"
      ]
     },
     "metadata": {},
     "output_type": "display_data"
    },
    {
     "data": {
      "application/vnd.jupyter.widget-view+json": {
       "model_id": "9ac43e4b103048e88738a645e72a23f7",
       "version_major": 2,
       "version_minor": 0
      },
      "text/plain": [
       "class hypothsis:   0%|          | 0/6 [00:00<?, ?it/s]"
      ]
     },
     "metadata": {},
     "output_type": "display_data"
    },
    {
     "data": {
      "application/vnd.jupyter.widget-view+json": {
       "model_id": "048a05c82b4144ef8ab88fa1ff2316c3",
       "version_major": 2,
       "version_minor": 0
      },
      "text/plain": [
       "diffusion sampling:   0%|          | 0/20 [00:00<?, ?it/s]"
      ]
     },
     "metadata": {},
     "output_type": "display_data"
    },
    {
     "data": {
      "application/vnd.jupyter.widget-view+json": {
       "model_id": "6a99f9a0dd6c4a09b7f33734a090396c",
       "version_major": 2,
       "version_minor": 0
      },
      "text/plain": [
       "diffusion sampling:   0%|          | 0/20 [00:00<?, ?it/s]"
      ]
     },
     "metadata": {},
     "output_type": "display_data"
    },
    {
     "data": {
      "application/vnd.jupyter.widget-view+json": {
       "model_id": "dd37c13fbd9242cba2baf6d83a8bda10",
       "version_major": 2,
       "version_minor": 0
      },
      "text/plain": [
       "diffusion sampling:   0%|          | 0/20 [00:00<?, ?it/s]"
      ]
     },
     "metadata": {},
     "output_type": "display_data"
    },
    {
     "data": {
      "application/vnd.jupyter.widget-view+json": {
       "model_id": "04756521ef8040ac9e4ecb781216ea6d",
       "version_major": 2,
       "version_minor": 0
      },
      "text/plain": [
       "diffusion sampling:   0%|          | 0/20 [00:00<?, ?it/s]"
      ]
     },
     "metadata": {},
     "output_type": "display_data"
    },
    {
     "data": {
      "application/vnd.jupyter.widget-view+json": {
       "model_id": "eabb071b66ee4082986d4029b7de70fc",
       "version_major": 2,
       "version_minor": 0
      },
      "text/plain": [
       "diffusion sampling:   0%|          | 0/20 [00:00<?, ?it/s]"
      ]
     },
     "metadata": {},
     "output_type": "display_data"
    },
    {
     "data": {
      "application/vnd.jupyter.widget-view+json": {
       "model_id": "df21eb7d86784a0e8f26745f9fa0db9f",
       "version_major": 2,
       "version_minor": 0
      },
      "text/plain": [
       "diffusion sampling:   0%|          | 0/20 [00:00<?, ?it/s]"
      ]
     },
     "metadata": {},
     "output_type": "display_data"
    },
    {
     "data": {
      "application/vnd.jupyter.widget-view+json": {
       "model_id": "2ad46fd8b48e46abb36821971dc53200",
       "version_major": 2,
       "version_minor": 0
      },
      "text/plain": [
       "class hypothsis:   0%|          | 0/6 [00:00<?, ?it/s]"
      ]
     },
     "metadata": {},
     "output_type": "display_data"
    },
    {
     "data": {
      "application/vnd.jupyter.widget-view+json": {
       "model_id": "e0bbaee958064525bc9a7302dd237596",
       "version_major": 2,
       "version_minor": 0
      },
      "text/plain": [
       "diffusion sampling:   0%|          | 0/20 [00:00<?, ?it/s]"
      ]
     },
     "metadata": {},
     "output_type": "display_data"
    },
    {
     "data": {
      "application/vnd.jupyter.widget-view+json": {
       "model_id": "df5aecb33b294727936ea779b9d00efe",
       "version_major": 2,
       "version_minor": 0
      },
      "text/plain": [
       "diffusion sampling:   0%|          | 0/20 [00:00<?, ?it/s]"
      ]
     },
     "metadata": {},
     "output_type": "display_data"
    },
    {
     "data": {
      "application/vnd.jupyter.widget-view+json": {
       "model_id": "25db6ede14ad43d4b8a5b3686d6bd700",
       "version_major": 2,
       "version_minor": 0
      },
      "text/plain": [
       "diffusion sampling:   0%|          | 0/20 [00:00<?, ?it/s]"
      ]
     },
     "metadata": {},
     "output_type": "display_data"
    },
    {
     "data": {
      "application/vnd.jupyter.widget-view+json": {
       "model_id": "44a4e14343574f32a52016c33a5c1f9c",
       "version_major": 2,
       "version_minor": 0
      },
      "text/plain": [
       "diffusion sampling:   0%|          | 0/20 [00:00<?, ?it/s]"
      ]
     },
     "metadata": {},
     "output_type": "display_data"
    },
    {
     "data": {
      "application/vnd.jupyter.widget-view+json": {
       "model_id": "8b954e6eb24d4e8695c55591438fba7a",
       "version_major": 2,
       "version_minor": 0
      },
      "text/plain": [
       "diffusion sampling:   0%|          | 0/20 [00:00<?, ?it/s]"
      ]
     },
     "metadata": {},
     "output_type": "display_data"
    },
    {
     "data": {
      "application/vnd.jupyter.widget-view+json": {
       "model_id": "12b7ae0076d747bbada5afa47dca5f21",
       "version_major": 2,
       "version_minor": 0
      },
      "text/plain": [
       "diffusion sampling:   0%|          | 0/20 [00:00<?, ?it/s]"
      ]
     },
     "metadata": {},
     "output_type": "display_data"
    },
    {
     "data": {
      "application/vnd.jupyter.widget-view+json": {
       "model_id": "257d0083edde432c89513847fbc314eb",
       "version_major": 2,
       "version_minor": 0
      },
      "text/plain": [
       "class hypothsis:   0%|          | 0/6 [00:00<?, ?it/s]"
      ]
     },
     "metadata": {},
     "output_type": "display_data"
    },
    {
     "data": {
      "application/vnd.jupyter.widget-view+json": {
       "model_id": "0c32ed9da5cd454e80981bb3e5a1fc06",
       "version_major": 2,
       "version_minor": 0
      },
      "text/plain": [
       "diffusion sampling:   0%|          | 0/20 [00:00<?, ?it/s]"
      ]
     },
     "metadata": {},
     "output_type": "display_data"
    },
    {
     "data": {
      "application/vnd.jupyter.widget-view+json": {
       "model_id": "7abf2bd96cef4ce2827b800054ddb2b6",
       "version_major": 2,
       "version_minor": 0
      },
      "text/plain": [
       "diffusion sampling:   0%|          | 0/20 [00:00<?, ?it/s]"
      ]
     },
     "metadata": {},
     "output_type": "display_data"
    },
    {
     "data": {
      "application/vnd.jupyter.widget-view+json": {
       "model_id": "751d63088321407cb9354ba397d984ff",
       "version_major": 2,
       "version_minor": 0
      },
      "text/plain": [
       "diffusion sampling:   0%|          | 0/20 [00:00<?, ?it/s]"
      ]
     },
     "metadata": {},
     "output_type": "display_data"
    },
    {
     "data": {
      "application/vnd.jupyter.widget-view+json": {
       "model_id": "ef19c3ba51a44a428f0462c3e2e1a541",
       "version_major": 2,
       "version_minor": 0
      },
      "text/plain": [
       "diffusion sampling:   0%|          | 0/20 [00:00<?, ?it/s]"
      ]
     },
     "metadata": {},
     "output_type": "display_data"
    },
    {
     "data": {
      "application/vnd.jupyter.widget-view+json": {
       "model_id": "73455bd9502540bdbef055028adec8ca",
       "version_major": 2,
       "version_minor": 0
      },
      "text/plain": [
       "diffusion sampling:   0%|          | 0/20 [00:00<?, ?it/s]"
      ]
     },
     "metadata": {},
     "output_type": "display_data"
    },
    {
     "data": {
      "application/vnd.jupyter.widget-view+json": {
       "model_id": "c374a975d1f348c28d09d8e87f4bec7f",
       "version_major": 2,
       "version_minor": 0
      },
      "text/plain": [
       "diffusion sampling:   0%|          | 0/20 [00:00<?, ?it/s]"
      ]
     },
     "metadata": {},
     "output_type": "display_data"
    },
    {
     "data": {
      "application/vnd.jupyter.widget-view+json": {
       "model_id": "fffa74d41d1b43fdbb0019f3d02788e9",
       "version_major": 2,
       "version_minor": 0
      },
      "text/plain": [
       "class hypothsis:   0%|          | 0/6 [00:00<?, ?it/s]"
      ]
     },
     "metadata": {},
     "output_type": "display_data"
    },
    {
     "data": {
      "application/vnd.jupyter.widget-view+json": {
       "model_id": "bfd3fc35594b4a33b2b5bff94a33c11c",
       "version_major": 2,
       "version_minor": 0
      },
      "text/plain": [
       "diffusion sampling:   0%|          | 0/20 [00:00<?, ?it/s]"
      ]
     },
     "metadata": {},
     "output_type": "display_data"
    },
    {
     "data": {
      "application/vnd.jupyter.widget-view+json": {
       "model_id": "d7a44fb17e0d4ddfa10c3bf48c1f8e08",
       "version_major": 2,
       "version_minor": 0
      },
      "text/plain": [
       "diffusion sampling:   0%|          | 0/20 [00:00<?, ?it/s]"
      ]
     },
     "metadata": {},
     "output_type": "display_data"
    },
    {
     "data": {
      "application/vnd.jupyter.widget-view+json": {
       "model_id": "c59b06a2248f437db457c29679ff7db4",
       "version_major": 2,
       "version_minor": 0
      },
      "text/plain": [
       "diffusion sampling:   0%|          | 0/20 [00:00<?, ?it/s]"
      ]
     },
     "metadata": {},
     "output_type": "display_data"
    },
    {
     "data": {
      "application/vnd.jupyter.widget-view+json": {
       "model_id": "c87df91680114df3b1cdf8504ece7bd4",
       "version_major": 2,
       "version_minor": 0
      },
      "text/plain": [
       "diffusion sampling:   0%|          | 0/20 [00:00<?, ?it/s]"
      ]
     },
     "metadata": {},
     "output_type": "display_data"
    },
    {
     "data": {
      "application/vnd.jupyter.widget-view+json": {
       "model_id": "9f6651c98855415ca7cefca29a1efefc",
       "version_major": 2,
       "version_minor": 0
      },
      "text/plain": [
       "diffusion sampling:   0%|          | 0/20 [00:00<?, ?it/s]"
      ]
     },
     "metadata": {},
     "output_type": "display_data"
    },
    {
     "data": {
      "application/vnd.jupyter.widget-view+json": {
       "model_id": "295868cd949940468c20ee30e8587bb8",
       "version_major": 2,
       "version_minor": 0
      },
      "text/plain": [
       "diffusion sampling:   0%|          | 0/20 [00:00<?, ?it/s]"
      ]
     },
     "metadata": {},
     "output_type": "display_data"
    },
    {
     "data": {
      "application/vnd.jupyter.widget-view+json": {
       "model_id": "59e8af8970a5496e91a8aba09ed5e247",
       "version_major": 2,
       "version_minor": 0
      },
      "text/plain": [
       "class hypothsis:   0%|          | 0/6 [00:00<?, ?it/s]"
      ]
     },
     "metadata": {},
     "output_type": "display_data"
    },
    {
     "data": {
      "application/vnd.jupyter.widget-view+json": {
       "model_id": "a2fc7ac5620e48d0832622ee331a32e3",
       "version_major": 2,
       "version_minor": 0
      },
      "text/plain": [
       "diffusion sampling:   0%|          | 0/20 [00:00<?, ?it/s]"
      ]
     },
     "metadata": {},
     "output_type": "display_data"
    },
    {
     "data": {
      "application/vnd.jupyter.widget-view+json": {
       "model_id": "1fd26c34d6b043ae82d05f6291706b5e",
       "version_major": 2,
       "version_minor": 0
      },
      "text/plain": [
       "diffusion sampling:   0%|          | 0/20 [00:00<?, ?it/s]"
      ]
     },
     "metadata": {},
     "output_type": "display_data"
    },
    {
     "data": {
      "application/vnd.jupyter.widget-view+json": {
       "model_id": "2ca292aee2094b41a322eadc8e0ad3e3",
       "version_major": 2,
       "version_minor": 0
      },
      "text/plain": [
       "diffusion sampling:   0%|          | 0/20 [00:00<?, ?it/s]"
      ]
     },
     "metadata": {},
     "output_type": "display_data"
    },
    {
     "data": {
      "application/vnd.jupyter.widget-view+json": {
       "model_id": "823914e91b9e42cba8b4bbd024ae2c4d",
       "version_major": 2,
       "version_minor": 0
      },
      "text/plain": [
       "diffusion sampling:   0%|          | 0/20 [00:00<?, ?it/s]"
      ]
     },
     "metadata": {},
     "output_type": "display_data"
    },
    {
     "data": {
      "application/vnd.jupyter.widget-view+json": {
       "model_id": "9aa03efef4fd48419edadc50120bda21",
       "version_major": 2,
       "version_minor": 0
      },
      "text/plain": [
       "diffusion sampling:   0%|          | 0/20 [00:00<?, ?it/s]"
      ]
     },
     "metadata": {},
     "output_type": "display_data"
    },
    {
     "data": {
      "application/vnd.jupyter.widget-view+json": {
       "model_id": "79c85278f75545ec90183a611209f8a5",
       "version_major": 2,
       "version_minor": 0
      },
      "text/plain": [
       "diffusion sampling:   0%|          | 0/20 [00:00<?, ?it/s]"
      ]
     },
     "metadata": {},
     "output_type": "display_data"
    },
    {
     "data": {
      "application/vnd.jupyter.widget-view+json": {
       "model_id": "149bb34e6f2f44f9b21d3c0b61aa902f",
       "version_major": 2,
       "version_minor": 0
      },
      "text/plain": [
       "class hypothsis:   0%|          | 0/6 [00:00<?, ?it/s]"
      ]
     },
     "metadata": {},
     "output_type": "display_data"
    },
    {
     "data": {
      "application/vnd.jupyter.widget-view+json": {
       "model_id": "e535a326a5e747c99646d0add518b2a4",
       "version_major": 2,
       "version_minor": 0
      },
      "text/plain": [
       "diffusion sampling:   0%|          | 0/20 [00:00<?, ?it/s]"
      ]
     },
     "metadata": {},
     "output_type": "display_data"
    },
    {
     "data": {
      "application/vnd.jupyter.widget-view+json": {
       "model_id": "35985890b5ff4ee6b9f3ae49278888b8",
       "version_major": 2,
       "version_minor": 0
      },
      "text/plain": [
       "diffusion sampling:   0%|          | 0/20 [00:00<?, ?it/s]"
      ]
     },
     "metadata": {},
     "output_type": "display_data"
    },
    {
     "data": {
      "application/vnd.jupyter.widget-view+json": {
       "model_id": "7162ff59e7b5418eb3e00602a48d3971",
       "version_major": 2,
       "version_minor": 0
      },
      "text/plain": [
       "diffusion sampling:   0%|          | 0/20 [00:00<?, ?it/s]"
      ]
     },
     "metadata": {},
     "output_type": "display_data"
    },
    {
     "data": {
      "application/vnd.jupyter.widget-view+json": {
       "model_id": "1118e7f951994d379d3eec98246a9e3c",
       "version_major": 2,
       "version_minor": 0
      },
      "text/plain": [
       "diffusion sampling:   0%|          | 0/20 [00:00<?, ?it/s]"
      ]
     },
     "metadata": {},
     "output_type": "display_data"
    },
    {
     "data": {
      "application/vnd.jupyter.widget-view+json": {
       "model_id": "c9eb9079208b4cac828e106dbda291b6",
       "version_major": 2,
       "version_minor": 0
      },
      "text/plain": [
       "diffusion sampling:   0%|          | 0/20 [00:00<?, ?it/s]"
      ]
     },
     "metadata": {},
     "output_type": "display_data"
    },
    {
     "data": {
      "application/vnd.jupyter.widget-view+json": {
       "model_id": "8ffb984163594918a9bfaf94e63b2dd4",
       "version_major": 2,
       "version_minor": 0
      },
      "text/plain": [
       "diffusion sampling:   0%|          | 0/20 [00:00<?, ?it/s]"
      ]
     },
     "metadata": {},
     "output_type": "display_data"
    },
    {
     "data": {
      "application/vnd.jupyter.widget-view+json": {
       "model_id": "76ed480809e64169955905e9071c94a5",
       "version_major": 2,
       "version_minor": 0
      },
      "text/plain": [
       "class hypothsis:   0%|          | 0/6 [00:00<?, ?it/s]"
      ]
     },
     "metadata": {},
     "output_type": "display_data"
    },
    {
     "data": {
      "application/vnd.jupyter.widget-view+json": {
       "model_id": "13bd5f65a72842f185e28a0814bcda8e",
       "version_major": 2,
       "version_minor": 0
      },
      "text/plain": [
       "diffusion sampling:   0%|          | 0/20 [00:00<?, ?it/s]"
      ]
     },
     "metadata": {},
     "output_type": "display_data"
    },
    {
     "data": {
      "application/vnd.jupyter.widget-view+json": {
       "model_id": "31edb1b260914b2b916eb7083c760b06",
       "version_major": 2,
       "version_minor": 0
      },
      "text/plain": [
       "diffusion sampling:   0%|          | 0/20 [00:00<?, ?it/s]"
      ]
     },
     "metadata": {},
     "output_type": "display_data"
    },
    {
     "data": {
      "application/vnd.jupyter.widget-view+json": {
       "model_id": "eb1e935d40ab4637825acd950381fe6e",
       "version_major": 2,
       "version_minor": 0
      },
      "text/plain": [
       "diffusion sampling:   0%|          | 0/20 [00:00<?, ?it/s]"
      ]
     },
     "metadata": {},
     "output_type": "display_data"
    },
    {
     "data": {
      "application/vnd.jupyter.widget-view+json": {
       "model_id": "8e8a454da1b44733a6dd57f2ce3b15fa",
       "version_major": 2,
       "version_minor": 0
      },
      "text/plain": [
       "diffusion sampling:   0%|          | 0/20 [00:00<?, ?it/s]"
      ]
     },
     "metadata": {},
     "output_type": "display_data"
    },
    {
     "data": {
      "application/vnd.jupyter.widget-view+json": {
       "model_id": "5bab2c360896407cab01c173cddcd21e",
       "version_major": 2,
       "version_minor": 0
      },
      "text/plain": [
       "diffusion sampling:   0%|          | 0/20 [00:00<?, ?it/s]"
      ]
     },
     "metadata": {},
     "output_type": "display_data"
    },
    {
     "data": {
      "application/vnd.jupyter.widget-view+json": {
       "model_id": "57a180933cd14308b3a5c1fee05b6ea6",
       "version_major": 2,
       "version_minor": 0
      },
      "text/plain": [
       "diffusion sampling:   0%|          | 0/20 [00:00<?, ?it/s]"
      ]
     },
     "metadata": {},
     "output_type": "display_data"
    },
    {
     "data": {
      "application/vnd.jupyter.widget-view+json": {
       "model_id": "fac355fcdf424ec39140e07b3fda6cfd",
       "version_major": 2,
       "version_minor": 0
      },
      "text/plain": [
       "class hypothsis:   0%|          | 0/6 [00:00<?, ?it/s]"
      ]
     },
     "metadata": {},
     "output_type": "display_data"
    },
    {
     "data": {
      "application/vnd.jupyter.widget-view+json": {
       "model_id": "c2a1ab84d5954a53a9c6562df48618e6",
       "version_major": 2,
       "version_minor": 0
      },
      "text/plain": [
       "diffusion sampling:   0%|          | 0/20 [00:00<?, ?it/s]"
      ]
     },
     "metadata": {},
     "output_type": "display_data"
    },
    {
     "data": {
      "application/vnd.jupyter.widget-view+json": {
       "model_id": "967daca7aba046a78dd7fa26a0e89b09",
       "version_major": 2,
       "version_minor": 0
      },
      "text/plain": [
       "diffusion sampling:   0%|          | 0/20 [00:00<?, ?it/s]"
      ]
     },
     "metadata": {},
     "output_type": "display_data"
    },
    {
     "data": {
      "application/vnd.jupyter.widget-view+json": {
       "model_id": "f5c7e45861254a55840d2676c8ee224d",
       "version_major": 2,
       "version_minor": 0
      },
      "text/plain": [
       "diffusion sampling:   0%|          | 0/20 [00:00<?, ?it/s]"
      ]
     },
     "metadata": {},
     "output_type": "display_data"
    },
    {
     "data": {
      "application/vnd.jupyter.widget-view+json": {
       "model_id": "0ba928229735427a9cb7d27f5ca4808f",
       "version_major": 2,
       "version_minor": 0
      },
      "text/plain": [
       "diffusion sampling:   0%|          | 0/20 [00:00<?, ?it/s]"
      ]
     },
     "metadata": {},
     "output_type": "display_data"
    },
    {
     "data": {
      "application/vnd.jupyter.widget-view+json": {
       "model_id": "2c69008132524672a39aafce64acf4b6",
       "version_major": 2,
       "version_minor": 0
      },
      "text/plain": [
       "diffusion sampling:   0%|          | 0/20 [00:00<?, ?it/s]"
      ]
     },
     "metadata": {},
     "output_type": "display_data"
    },
    {
     "data": {
      "application/vnd.jupyter.widget-view+json": {
       "model_id": "936392ecd24541fb8ab6361821e558c8",
       "version_major": 2,
       "version_minor": 0
      },
      "text/plain": [
       "diffusion sampling:   0%|          | 0/20 [00:00<?, ?it/s]"
      ]
     },
     "metadata": {},
     "output_type": "display_data"
    },
    {
     "data": {
      "application/vnd.jupyter.widget-view+json": {
       "model_id": "d31ad095645f4a5b9bb1c0d180aa731c",
       "version_major": 2,
       "version_minor": 0
      },
      "text/plain": [
       "class hypothsis:   0%|          | 0/6 [00:00<?, ?it/s]"
      ]
     },
     "metadata": {},
     "output_type": "display_data"
    },
    {
     "data": {
      "application/vnd.jupyter.widget-view+json": {
       "model_id": "8a982c97e6b44a3c84bbc1026422a4b7",
       "version_major": 2,
       "version_minor": 0
      },
      "text/plain": [
       "diffusion sampling:   0%|          | 0/20 [00:00<?, ?it/s]"
      ]
     },
     "metadata": {},
     "output_type": "display_data"
    },
    {
     "data": {
      "application/vnd.jupyter.widget-view+json": {
       "model_id": "64953409cad24eccb297abc82f44387f",
       "version_major": 2,
       "version_minor": 0
      },
      "text/plain": [
       "diffusion sampling:   0%|          | 0/20 [00:00<?, ?it/s]"
      ]
     },
     "metadata": {},
     "output_type": "display_data"
    },
    {
     "data": {
      "application/vnd.jupyter.widget-view+json": {
       "model_id": "71c829351f3f4e1abae5f5fda4178ae2",
       "version_major": 2,
       "version_minor": 0
      },
      "text/plain": [
       "diffusion sampling:   0%|          | 0/20 [00:00<?, ?it/s]"
      ]
     },
     "metadata": {},
     "output_type": "display_data"
    },
    {
     "data": {
      "application/vnd.jupyter.widget-view+json": {
       "model_id": "c79dba33a62240aa93e450deefc86055",
       "version_major": 2,
       "version_minor": 0
      },
      "text/plain": [
       "diffusion sampling:   0%|          | 0/20 [00:00<?, ?it/s]"
      ]
     },
     "metadata": {},
     "output_type": "display_data"
    },
    {
     "data": {
      "application/vnd.jupyter.widget-view+json": {
       "model_id": "52cca30024b043dd9dd9496af10270d6",
       "version_major": 2,
       "version_minor": 0
      },
      "text/plain": [
       "diffusion sampling:   0%|          | 0/20 [00:00<?, ?it/s]"
      ]
     },
     "metadata": {},
     "output_type": "display_data"
    },
    {
     "data": {
      "application/vnd.jupyter.widget-view+json": {
       "model_id": "54e27d9943ac4bc09a882fad148c2c5e",
       "version_major": 2,
       "version_minor": 0
      },
      "text/plain": [
       "diffusion sampling:   0%|          | 0/20 [00:00<?, ?it/s]"
      ]
     },
     "metadata": {},
     "output_type": "display_data"
    },
    {
     "data": {
      "application/vnd.jupyter.widget-view+json": {
       "model_id": "8554ad2c20074beabea798979d18ad18",
       "version_major": 2,
       "version_minor": 0
      },
      "text/plain": [
       "class hypothsis:   0%|          | 0/6 [00:00<?, ?it/s]"
      ]
     },
     "metadata": {},
     "output_type": "display_data"
    },
    {
     "data": {
      "application/vnd.jupyter.widget-view+json": {
       "model_id": "2b793ffdb9dd48638a5e669d17ebec1b",
       "version_major": 2,
       "version_minor": 0
      },
      "text/plain": [
       "diffusion sampling:   0%|          | 0/20 [00:00<?, ?it/s]"
      ]
     },
     "metadata": {},
     "output_type": "display_data"
    },
    {
     "data": {
      "application/vnd.jupyter.widget-view+json": {
       "model_id": "8a1266aedae548c6b5043619ac54b46f",
       "version_major": 2,
       "version_minor": 0
      },
      "text/plain": [
       "diffusion sampling:   0%|          | 0/20 [00:00<?, ?it/s]"
      ]
     },
     "metadata": {},
     "output_type": "display_data"
    },
    {
     "data": {
      "application/vnd.jupyter.widget-view+json": {
       "model_id": "975b053a9a0641358811e4347081121c",
       "version_major": 2,
       "version_minor": 0
      },
      "text/plain": [
       "diffusion sampling:   0%|          | 0/20 [00:00<?, ?it/s]"
      ]
     },
     "metadata": {},
     "output_type": "display_data"
    },
    {
     "data": {
      "application/vnd.jupyter.widget-view+json": {
       "model_id": "e9babbdf509a497faf28fd2f09142b77",
       "version_major": 2,
       "version_minor": 0
      },
      "text/plain": [
       "diffusion sampling:   0%|          | 0/20 [00:00<?, ?it/s]"
      ]
     },
     "metadata": {},
     "output_type": "display_data"
    },
    {
     "data": {
      "application/vnd.jupyter.widget-view+json": {
       "model_id": "c18d35ce328c45e18234760e4152aaab",
       "version_major": 2,
       "version_minor": 0
      },
      "text/plain": [
       "diffusion sampling:   0%|          | 0/20 [00:00<?, ?it/s]"
      ]
     },
     "metadata": {},
     "output_type": "display_data"
    },
    {
     "data": {
      "application/vnd.jupyter.widget-view+json": {
       "model_id": "42d7e44cb9344dfd89c4ee6bb4e85239",
       "version_major": 2,
       "version_minor": 0
      },
      "text/plain": [
       "diffusion sampling:   0%|          | 0/20 [00:00<?, ?it/s]"
      ]
     },
     "metadata": {},
     "output_type": "display_data"
    },
    {
     "data": {
      "application/vnd.jupyter.widget-view+json": {
       "model_id": "190668dcf0644f56b400a1ffc35500fe",
       "version_major": 2,
       "version_minor": 0
      },
      "text/plain": [
       "class hypothsis:   0%|          | 0/6 [00:00<?, ?it/s]"
      ]
     },
     "metadata": {},
     "output_type": "display_data"
    },
    {
     "data": {
      "application/vnd.jupyter.widget-view+json": {
       "model_id": "a128a7f32b6446e88fb93024ee7a1e09",
       "version_major": 2,
       "version_minor": 0
      },
      "text/plain": [
       "diffusion sampling:   0%|          | 0/20 [00:00<?, ?it/s]"
      ]
     },
     "metadata": {},
     "output_type": "display_data"
    },
    {
     "data": {
      "application/vnd.jupyter.widget-view+json": {
       "model_id": "cbd695777bef40b49d02396ac52f2121",
       "version_major": 2,
       "version_minor": 0
      },
      "text/plain": [
       "diffusion sampling:   0%|          | 0/20 [00:00<?, ?it/s]"
      ]
     },
     "metadata": {},
     "output_type": "display_data"
    },
    {
     "data": {
      "application/vnd.jupyter.widget-view+json": {
       "model_id": "59fce7f9bd694d77b2e9b36478f0f7a2",
       "version_major": 2,
       "version_minor": 0
      },
      "text/plain": [
       "diffusion sampling:   0%|          | 0/20 [00:00<?, ?it/s]"
      ]
     },
     "metadata": {},
     "output_type": "display_data"
    },
    {
     "data": {
      "application/vnd.jupyter.widget-view+json": {
       "model_id": "567feebbda864af98ae271a5485c89f8",
       "version_major": 2,
       "version_minor": 0
      },
      "text/plain": [
       "diffusion sampling:   0%|          | 0/20 [00:00<?, ?it/s]"
      ]
     },
     "metadata": {},
     "output_type": "display_data"
    },
    {
     "data": {
      "application/vnd.jupyter.widget-view+json": {
       "model_id": "8bb90e8032bc45a08f5a4d8eae898792",
       "version_major": 2,
       "version_minor": 0
      },
      "text/plain": [
       "diffusion sampling:   0%|          | 0/20 [00:00<?, ?it/s]"
      ]
     },
     "metadata": {},
     "output_type": "display_data"
    },
    {
     "data": {
      "application/vnd.jupyter.widget-view+json": {
       "model_id": "09b0264e427b470a81af44c0deae79ae",
       "version_major": 2,
       "version_minor": 0
      },
      "text/plain": [
       "diffusion sampling:   0%|          | 0/20 [00:00<?, ?it/s]"
      ]
     },
     "metadata": {},
     "output_type": "display_data"
    },
    {
     "data": {
      "application/vnd.jupyter.widget-view+json": {
       "model_id": "c252ea78fdcc4aeab70bb5992496b651",
       "version_major": 2,
       "version_minor": 0
      },
      "text/plain": [
       "class hypothsis:   0%|          | 0/6 [00:00<?, ?it/s]"
      ]
     },
     "metadata": {},
     "output_type": "display_data"
    },
    {
     "data": {
      "application/vnd.jupyter.widget-view+json": {
       "model_id": "a1ed549d917448f4bfaf2824af83c560",
       "version_major": 2,
       "version_minor": 0
      },
      "text/plain": [
       "diffusion sampling:   0%|          | 0/20 [00:00<?, ?it/s]"
      ]
     },
     "metadata": {},
     "output_type": "display_data"
    },
    {
     "data": {
      "application/vnd.jupyter.widget-view+json": {
       "model_id": "87a57c9557e74f358e58470db17ff0fd",
       "version_major": 2,
       "version_minor": 0
      },
      "text/plain": [
       "diffusion sampling:   0%|          | 0/20 [00:00<?, ?it/s]"
      ]
     },
     "metadata": {},
     "output_type": "display_data"
    },
    {
     "data": {
      "application/vnd.jupyter.widget-view+json": {
       "model_id": "593068ff79144f6fb58ac49971fff750",
       "version_major": 2,
       "version_minor": 0
      },
      "text/plain": [
       "diffusion sampling:   0%|          | 0/20 [00:00<?, ?it/s]"
      ]
     },
     "metadata": {},
     "output_type": "display_data"
    },
    {
     "data": {
      "application/vnd.jupyter.widget-view+json": {
       "model_id": "ea518412553741319ff268274f35236c",
       "version_major": 2,
       "version_minor": 0
      },
      "text/plain": [
       "diffusion sampling:   0%|          | 0/20 [00:00<?, ?it/s]"
      ]
     },
     "metadata": {},
     "output_type": "display_data"
    },
    {
     "data": {
      "application/vnd.jupyter.widget-view+json": {
       "model_id": "838c9bef816d405bbabf0c9e91c6fe30",
       "version_major": 2,
       "version_minor": 0
      },
      "text/plain": [
       "diffusion sampling:   0%|          | 0/20 [00:00<?, ?it/s]"
      ]
     },
     "metadata": {},
     "output_type": "display_data"
    },
    {
     "data": {
      "application/vnd.jupyter.widget-view+json": {
       "model_id": "5bd9af4160ae4fb38fb2153f752fdda3",
       "version_major": 2,
       "version_minor": 0
      },
      "text/plain": [
       "diffusion sampling:   0%|          | 0/20 [00:00<?, ?it/s]"
      ]
     },
     "metadata": {},
     "output_type": "display_data"
    },
    {
     "data": {
      "application/vnd.jupyter.widget-view+json": {
       "model_id": "11fca77c51c345468910dad7eed746f2",
       "version_major": 2,
       "version_minor": 0
      },
      "text/plain": [
       "class hypothsis:   0%|          | 0/6 [00:00<?, ?it/s]"
      ]
     },
     "metadata": {},
     "output_type": "display_data"
    },
    {
     "data": {
      "application/vnd.jupyter.widget-view+json": {
       "model_id": "5c91f1289b0b4163a1b0eda78f41fbdf",
       "version_major": 2,
       "version_minor": 0
      },
      "text/plain": [
       "diffusion sampling:   0%|          | 0/20 [00:00<?, ?it/s]"
      ]
     },
     "metadata": {},
     "output_type": "display_data"
    },
    {
     "data": {
      "application/vnd.jupyter.widget-view+json": {
       "model_id": "03933b25d9014389bdbae8e043f5deb5",
       "version_major": 2,
       "version_minor": 0
      },
      "text/plain": [
       "diffusion sampling:   0%|          | 0/20 [00:00<?, ?it/s]"
      ]
     },
     "metadata": {},
     "output_type": "display_data"
    },
    {
     "data": {
      "application/vnd.jupyter.widget-view+json": {
       "model_id": "e0b6c711f3084cb9960822b0d257c600",
       "version_major": 2,
       "version_minor": 0
      },
      "text/plain": [
       "diffusion sampling:   0%|          | 0/20 [00:00<?, ?it/s]"
      ]
     },
     "metadata": {},
     "output_type": "display_data"
    },
    {
     "data": {
      "application/vnd.jupyter.widget-view+json": {
       "model_id": "1d4f2ec901444639aa6a79d96844b987",
       "version_major": 2,
       "version_minor": 0
      },
      "text/plain": [
       "diffusion sampling:   0%|          | 0/20 [00:00<?, ?it/s]"
      ]
     },
     "metadata": {},
     "output_type": "display_data"
    },
    {
     "data": {
      "application/vnd.jupyter.widget-view+json": {
       "model_id": "a160fa71264045e3add3982eb61b526c",
       "version_major": 2,
       "version_minor": 0
      },
      "text/plain": [
       "diffusion sampling:   0%|          | 0/20 [00:00<?, ?it/s]"
      ]
     },
     "metadata": {},
     "output_type": "display_data"
    },
    {
     "data": {
      "application/vnd.jupyter.widget-view+json": {
       "model_id": "c74ada4a2c274095be04c7e87205604e",
       "version_major": 2,
       "version_minor": 0
      },
      "text/plain": [
       "diffusion sampling:   0%|          | 0/20 [00:00<?, ?it/s]"
      ]
     },
     "metadata": {},
     "output_type": "display_data"
    },
    {
     "data": {
      "application/vnd.jupyter.widget-view+json": {
       "model_id": "cf62576aa88942ad8462de0a9745f475",
       "version_major": 2,
       "version_minor": 0
      },
      "text/plain": [
       "class hypothsis:   0%|          | 0/6 [00:00<?, ?it/s]"
      ]
     },
     "metadata": {},
     "output_type": "display_data"
    },
    {
     "data": {
      "application/vnd.jupyter.widget-view+json": {
       "model_id": "4d15da935c9f4bf2b60c298633266ae3",
       "version_major": 2,
       "version_minor": 0
      },
      "text/plain": [
       "diffusion sampling:   0%|          | 0/20 [00:00<?, ?it/s]"
      ]
     },
     "metadata": {},
     "output_type": "display_data"
    },
    {
     "data": {
      "application/vnd.jupyter.widget-view+json": {
       "model_id": "d80919fe65b04d398a692a21868a08f4",
       "version_major": 2,
       "version_minor": 0
      },
      "text/plain": [
       "diffusion sampling:   0%|          | 0/20 [00:00<?, ?it/s]"
      ]
     },
     "metadata": {},
     "output_type": "display_data"
    },
    {
     "data": {
      "application/vnd.jupyter.widget-view+json": {
       "model_id": "df511857604048ad97637cfa73e98d2b",
       "version_major": 2,
       "version_minor": 0
      },
      "text/plain": [
       "diffusion sampling:   0%|          | 0/20 [00:00<?, ?it/s]"
      ]
     },
     "metadata": {},
     "output_type": "display_data"
    },
    {
     "data": {
      "application/vnd.jupyter.widget-view+json": {
       "model_id": "b264d879692f4110b0678755d3c3ee24",
       "version_major": 2,
       "version_minor": 0
      },
      "text/plain": [
       "diffusion sampling:   0%|          | 0/20 [00:00<?, ?it/s]"
      ]
     },
     "metadata": {},
     "output_type": "display_data"
    },
    {
     "data": {
      "application/vnd.jupyter.widget-view+json": {
       "model_id": "aa782e33f75944dc9d68cecb4904dc9f",
       "version_major": 2,
       "version_minor": 0
      },
      "text/plain": [
       "diffusion sampling:   0%|          | 0/20 [00:00<?, ?it/s]"
      ]
     },
     "metadata": {},
     "output_type": "display_data"
    },
    {
     "data": {
      "application/vnd.jupyter.widget-view+json": {
       "model_id": "c2e0364811534a199d26903594d736a4",
       "version_major": 2,
       "version_minor": 0
      },
      "text/plain": [
       "diffusion sampling:   0%|          | 0/20 [00:00<?, ?it/s]"
      ]
     },
     "metadata": {},
     "output_type": "display_data"
    },
    {
     "data": {
      "application/vnd.jupyter.widget-view+json": {
       "model_id": "042d8924584246ce8f180de84685b088",
       "version_major": 2,
       "version_minor": 0
      },
      "text/plain": [
       "class hypothsis:   0%|          | 0/6 [00:00<?, ?it/s]"
      ]
     },
     "metadata": {},
     "output_type": "display_data"
    },
    {
     "data": {
      "application/vnd.jupyter.widget-view+json": {
       "model_id": "43d377b3ca5a4c238d27fe9f9c1202c8",
       "version_major": 2,
       "version_minor": 0
      },
      "text/plain": [
       "diffusion sampling:   0%|          | 0/20 [00:00<?, ?it/s]"
      ]
     },
     "metadata": {},
     "output_type": "display_data"
    },
    {
     "data": {
      "application/vnd.jupyter.widget-view+json": {
       "model_id": "fb691af610854094ba78688fedb16229",
       "version_major": 2,
       "version_minor": 0
      },
      "text/plain": [
       "diffusion sampling:   0%|          | 0/20 [00:00<?, ?it/s]"
      ]
     },
     "metadata": {},
     "output_type": "display_data"
    },
    {
     "data": {
      "application/vnd.jupyter.widget-view+json": {
       "model_id": "ea82afeaee294b1cb10738b4d1dd93e8",
       "version_major": 2,
       "version_minor": 0
      },
      "text/plain": [
       "diffusion sampling:   0%|          | 0/20 [00:00<?, ?it/s]"
      ]
     },
     "metadata": {},
     "output_type": "display_data"
    },
    {
     "data": {
      "application/vnd.jupyter.widget-view+json": {
       "model_id": "bb6fdf2e14b642c39b9b838f40db79a4",
       "version_major": 2,
       "version_minor": 0
      },
      "text/plain": [
       "diffusion sampling:   0%|          | 0/20 [00:00<?, ?it/s]"
      ]
     },
     "metadata": {},
     "output_type": "display_data"
    },
    {
     "data": {
      "application/vnd.jupyter.widget-view+json": {
       "model_id": "5f7ef816b2e84c9d8fe20d8f166a239e",
       "version_major": 2,
       "version_minor": 0
      },
      "text/plain": [
       "diffusion sampling:   0%|          | 0/20 [00:00<?, ?it/s]"
      ]
     },
     "metadata": {},
     "output_type": "display_data"
    },
    {
     "data": {
      "application/vnd.jupyter.widget-view+json": {
       "model_id": "7dd3761965084a23831c55cf6da77c08",
       "version_major": 2,
       "version_minor": 0
      },
      "text/plain": [
       "diffusion sampling:   0%|          | 0/20 [00:00<?, ?it/s]"
      ]
     },
     "metadata": {},
     "output_type": "display_data"
    },
    {
     "data": {
      "application/vnd.jupyter.widget-view+json": {
       "model_id": "1559b8c05ae64ac9875ebd2904007426",
       "version_major": 2,
       "version_minor": 0
      },
      "text/plain": [
       "class hypothsis:   0%|          | 0/6 [00:00<?, ?it/s]"
      ]
     },
     "metadata": {},
     "output_type": "display_data"
    },
    {
     "data": {
      "application/vnd.jupyter.widget-view+json": {
       "model_id": "639ba2e1cf32494e8e3d2303f2f320de",
       "version_major": 2,
       "version_minor": 0
      },
      "text/plain": [
       "diffusion sampling:   0%|          | 0/20 [00:00<?, ?it/s]"
      ]
     },
     "metadata": {},
     "output_type": "display_data"
    },
    {
     "data": {
      "application/vnd.jupyter.widget-view+json": {
       "model_id": "c7f4f1be0dcb4586976189cb57454d55",
       "version_major": 2,
       "version_minor": 0
      },
      "text/plain": [
       "diffusion sampling:   0%|          | 0/20 [00:00<?, ?it/s]"
      ]
     },
     "metadata": {},
     "output_type": "display_data"
    },
    {
     "data": {
      "application/vnd.jupyter.widget-view+json": {
       "model_id": "f946ba5c86274adfa22d95d1e4764a17",
       "version_major": 2,
       "version_minor": 0
      },
      "text/plain": [
       "diffusion sampling:   0%|          | 0/20 [00:00<?, ?it/s]"
      ]
     },
     "metadata": {},
     "output_type": "display_data"
    },
    {
     "data": {
      "application/vnd.jupyter.widget-view+json": {
       "model_id": "201275b7af964557afa128254df94a2e",
       "version_major": 2,
       "version_minor": 0
      },
      "text/plain": [
       "diffusion sampling:   0%|          | 0/20 [00:00<?, ?it/s]"
      ]
     },
     "metadata": {},
     "output_type": "display_data"
    },
    {
     "data": {
      "application/vnd.jupyter.widget-view+json": {
       "model_id": "1655f1a6985c4f6bbc8a272f394de846",
       "version_major": 2,
       "version_minor": 0
      },
      "text/plain": [
       "diffusion sampling:   0%|          | 0/20 [00:00<?, ?it/s]"
      ]
     },
     "metadata": {},
     "output_type": "display_data"
    },
    {
     "data": {
      "application/vnd.jupyter.widget-view+json": {
       "model_id": "8a19cadc840845228ca3ac0df49ec308",
       "version_major": 2,
       "version_minor": 0
      },
      "text/plain": [
       "diffusion sampling:   0%|          | 0/20 [00:00<?, ?it/s]"
      ]
     },
     "metadata": {},
     "output_type": "display_data"
    },
    {
     "data": {
      "application/vnd.jupyter.widget-view+json": {
       "model_id": "d9dc020ddfbc46daaf0a40e95fd07ea5",
       "version_major": 2,
       "version_minor": 0
      },
      "text/plain": [
       "class hypothsis:   0%|          | 0/6 [00:00<?, ?it/s]"
      ]
     },
     "metadata": {},
     "output_type": "display_data"
    },
    {
     "data": {
      "application/vnd.jupyter.widget-view+json": {
       "model_id": "d463d37b1cc94d648b73837d8960e1b6",
       "version_major": 2,
       "version_minor": 0
      },
      "text/plain": [
       "diffusion sampling:   0%|          | 0/20 [00:00<?, ?it/s]"
      ]
     },
     "metadata": {},
     "output_type": "display_data"
    },
    {
     "data": {
      "application/vnd.jupyter.widget-view+json": {
       "model_id": "b7bc3e8723e24e4783aea268a9aaba30",
       "version_major": 2,
       "version_minor": 0
      },
      "text/plain": [
       "diffusion sampling:   0%|          | 0/20 [00:00<?, ?it/s]"
      ]
     },
     "metadata": {},
     "output_type": "display_data"
    },
    {
     "data": {
      "application/vnd.jupyter.widget-view+json": {
       "model_id": "4a6f8ef9812942bda2ff9eaeaf2c6b93",
       "version_major": 2,
       "version_minor": 0
      },
      "text/plain": [
       "diffusion sampling:   0%|          | 0/20 [00:00<?, ?it/s]"
      ]
     },
     "metadata": {},
     "output_type": "display_data"
    },
    {
     "data": {
      "application/vnd.jupyter.widget-view+json": {
       "model_id": "c58ebdf43ea441af9743d6b61ea983db",
       "version_major": 2,
       "version_minor": 0
      },
      "text/plain": [
       "diffusion sampling:   0%|          | 0/20 [00:00<?, ?it/s]"
      ]
     },
     "metadata": {},
     "output_type": "display_data"
    },
    {
     "data": {
      "application/vnd.jupyter.widget-view+json": {
       "model_id": "35d7225a11264b39bdbc4791f9e9e24d",
       "version_major": 2,
       "version_minor": 0
      },
      "text/plain": [
       "diffusion sampling:   0%|          | 0/20 [00:00<?, ?it/s]"
      ]
     },
     "metadata": {},
     "output_type": "display_data"
    },
    {
     "data": {
      "application/vnd.jupyter.widget-view+json": {
       "model_id": "f4d9b0bcdc9540d38004af90993c3dfd",
       "version_major": 2,
       "version_minor": 0
      },
      "text/plain": [
       "diffusion sampling:   0%|          | 0/20 [00:00<?, ?it/s]"
      ]
     },
     "metadata": {},
     "output_type": "display_data"
    },
    {
     "data": {
      "application/vnd.jupyter.widget-view+json": {
       "model_id": "f92c610288a44ffdaf979ba104ed20e4",
       "version_major": 2,
       "version_minor": 0
      },
      "text/plain": [
       "class hypothsis:   0%|          | 0/6 [00:00<?, ?it/s]"
      ]
     },
     "metadata": {},
     "output_type": "display_data"
    },
    {
     "data": {
      "application/vnd.jupyter.widget-view+json": {
       "model_id": "8347d633f065480ea9532e5f71d6f601",
       "version_major": 2,
       "version_minor": 0
      },
      "text/plain": [
       "diffusion sampling:   0%|          | 0/20 [00:00<?, ?it/s]"
      ]
     },
     "metadata": {},
     "output_type": "display_data"
    },
    {
     "data": {
      "application/vnd.jupyter.widget-view+json": {
       "model_id": "c8f827c0121249cb9c6947ec66e338e0",
       "version_major": 2,
       "version_minor": 0
      },
      "text/plain": [
       "diffusion sampling:   0%|          | 0/20 [00:00<?, ?it/s]"
      ]
     },
     "metadata": {},
     "output_type": "display_data"
    },
    {
     "data": {
      "application/vnd.jupyter.widget-view+json": {
       "model_id": "b5cea63566414238975844405d93090d",
       "version_major": 2,
       "version_minor": 0
      },
      "text/plain": [
       "diffusion sampling:   0%|          | 0/20 [00:00<?, ?it/s]"
      ]
     },
     "metadata": {},
     "output_type": "display_data"
    },
    {
     "data": {
      "application/vnd.jupyter.widget-view+json": {
       "model_id": "6ecaffbb59784a0bab0ec32547979cd4",
       "version_major": 2,
       "version_minor": 0
      },
      "text/plain": [
       "diffusion sampling:   0%|          | 0/20 [00:00<?, ?it/s]"
      ]
     },
     "metadata": {},
     "output_type": "display_data"
    },
    {
     "data": {
      "application/vnd.jupyter.widget-view+json": {
       "model_id": "6573f9b95c264ae1b4b31e0037010497",
       "version_major": 2,
       "version_minor": 0
      },
      "text/plain": [
       "diffusion sampling:   0%|          | 0/20 [00:00<?, ?it/s]"
      ]
     },
     "metadata": {},
     "output_type": "display_data"
    },
    {
     "data": {
      "application/vnd.jupyter.widget-view+json": {
       "model_id": "a2bf26ed8f4442c5a99c524cb0375c54",
       "version_major": 2,
       "version_minor": 0
      },
      "text/plain": [
       "diffusion sampling:   0%|          | 0/20 [00:00<?, ?it/s]"
      ]
     },
     "metadata": {},
     "output_type": "display_data"
    },
    {
     "data": {
      "application/vnd.jupyter.widget-view+json": {
       "model_id": "7dfa5ee76df64be6b05a948f1e3775ef",
       "version_major": 2,
       "version_minor": 0
      },
      "text/plain": [
       "class hypothsis:   0%|          | 0/6 [00:00<?, ?it/s]"
      ]
     },
     "metadata": {},
     "output_type": "display_data"
    },
    {
     "data": {
      "application/vnd.jupyter.widget-view+json": {
       "model_id": "67926ea367e847e99846f13d30fc4ae8",
       "version_major": 2,
       "version_minor": 0
      },
      "text/plain": [
       "diffusion sampling:   0%|          | 0/20 [00:00<?, ?it/s]"
      ]
     },
     "metadata": {},
     "output_type": "display_data"
    },
    {
     "data": {
      "application/vnd.jupyter.widget-view+json": {
       "model_id": "5e4f981a11c646e9878a671b86f52bce",
       "version_major": 2,
       "version_minor": 0
      },
      "text/plain": [
       "diffusion sampling:   0%|          | 0/20 [00:00<?, ?it/s]"
      ]
     },
     "metadata": {},
     "output_type": "display_data"
    },
    {
     "data": {
      "application/vnd.jupyter.widget-view+json": {
       "model_id": "4730316a220142e89fd26a85a63cedec",
       "version_major": 2,
       "version_minor": 0
      },
      "text/plain": [
       "diffusion sampling:   0%|          | 0/20 [00:00<?, ?it/s]"
      ]
     },
     "metadata": {},
     "output_type": "display_data"
    },
    {
     "data": {
      "application/vnd.jupyter.widget-view+json": {
       "model_id": "cb61c5ed8ecb4a8490ac4e41464e3324",
       "version_major": 2,
       "version_minor": 0
      },
      "text/plain": [
       "diffusion sampling:   0%|          | 0/20 [00:00<?, ?it/s]"
      ]
     },
     "metadata": {},
     "output_type": "display_data"
    },
    {
     "data": {
      "application/vnd.jupyter.widget-view+json": {
       "model_id": "c92d250671b54cf9a8400882abff9fb4",
       "version_major": 2,
       "version_minor": 0
      },
      "text/plain": [
       "diffusion sampling:   0%|          | 0/20 [00:00<?, ?it/s]"
      ]
     },
     "metadata": {},
     "output_type": "display_data"
    },
    {
     "data": {
      "application/vnd.jupyter.widget-view+json": {
       "model_id": "76f9b54575f6468288bda74be1eb90a2",
       "version_major": 2,
       "version_minor": 0
      },
      "text/plain": [
       "diffusion sampling:   0%|          | 0/20 [00:00<?, ?it/s]"
      ]
     },
     "metadata": {},
     "output_type": "display_data"
    },
    {
     "data": {
      "application/vnd.jupyter.widget-view+json": {
       "model_id": "c7cfe134257e4f4ea55884c9a47b562c",
       "version_major": 2,
       "version_minor": 0
      },
      "text/plain": [
       "class hypothsis:   0%|          | 0/6 [00:00<?, ?it/s]"
      ]
     },
     "metadata": {},
     "output_type": "display_data"
    },
    {
     "data": {
      "application/vnd.jupyter.widget-view+json": {
       "model_id": "b44883c834314d7a8ec51cb95a962b1b",
       "version_major": 2,
       "version_minor": 0
      },
      "text/plain": [
       "diffusion sampling:   0%|          | 0/20 [00:00<?, ?it/s]"
      ]
     },
     "metadata": {},
     "output_type": "display_data"
    },
    {
     "data": {
      "application/vnd.jupyter.widget-view+json": {
       "model_id": "fe6b8eca9d5f4dc6987d62297a4d933e",
       "version_major": 2,
       "version_minor": 0
      },
      "text/plain": [
       "diffusion sampling:   0%|          | 0/20 [00:00<?, ?it/s]"
      ]
     },
     "metadata": {},
     "output_type": "display_data"
    },
    {
     "data": {
      "application/vnd.jupyter.widget-view+json": {
       "model_id": "c000310ae515474f8d019354f78d2eef",
       "version_major": 2,
       "version_minor": 0
      },
      "text/plain": [
       "diffusion sampling:   0%|          | 0/20 [00:00<?, ?it/s]"
      ]
     },
     "metadata": {},
     "output_type": "display_data"
    },
    {
     "data": {
      "application/vnd.jupyter.widget-view+json": {
       "model_id": "93bdfa7977bf45f88bcce35189a95d65",
       "version_major": 2,
       "version_minor": 0
      },
      "text/plain": [
       "diffusion sampling:   0%|          | 0/20 [00:00<?, ?it/s]"
      ]
     },
     "metadata": {},
     "output_type": "display_data"
    },
    {
     "data": {
      "application/vnd.jupyter.widget-view+json": {
       "model_id": "a6107908739748e6a49c49f842c656b5",
       "version_major": 2,
       "version_minor": 0
      },
      "text/plain": [
       "diffusion sampling:   0%|          | 0/20 [00:00<?, ?it/s]"
      ]
     },
     "metadata": {},
     "output_type": "display_data"
    },
    {
     "data": {
      "application/vnd.jupyter.widget-view+json": {
       "model_id": "aa36bb64cd8f4d478f3c16231635a9d4",
       "version_major": 2,
       "version_minor": 0
      },
      "text/plain": [
       "diffusion sampling:   0%|          | 0/20 [00:00<?, ?it/s]"
      ]
     },
     "metadata": {},
     "output_type": "display_data"
    },
    {
     "data": {
      "application/vnd.jupyter.widget-view+json": {
       "model_id": "0c44a1cebc8e405bba83243fe18b99bb",
       "version_major": 2,
       "version_minor": 0
      },
      "text/plain": [
       "class hypothsis:   0%|          | 0/6 [00:00<?, ?it/s]"
      ]
     },
     "metadata": {},
     "output_type": "display_data"
    },
    {
     "data": {
      "application/vnd.jupyter.widget-view+json": {
       "model_id": "fb43e3826e124de585c296cac79307ca",
       "version_major": 2,
       "version_minor": 0
      },
      "text/plain": [
       "diffusion sampling:   0%|          | 0/20 [00:00<?, ?it/s]"
      ]
     },
     "metadata": {},
     "output_type": "display_data"
    },
    {
     "data": {
      "application/vnd.jupyter.widget-view+json": {
       "model_id": "e314c29cabfe411aaffe24383f5b0b43",
       "version_major": 2,
       "version_minor": 0
      },
      "text/plain": [
       "diffusion sampling:   0%|          | 0/20 [00:00<?, ?it/s]"
      ]
     },
     "metadata": {},
     "output_type": "display_data"
    },
    {
     "data": {
      "application/vnd.jupyter.widget-view+json": {
       "model_id": "b66d1e070dc04ea2bd891e8728ba28c0",
       "version_major": 2,
       "version_minor": 0
      },
      "text/plain": [
       "diffusion sampling:   0%|          | 0/20 [00:00<?, ?it/s]"
      ]
     },
     "metadata": {},
     "output_type": "display_data"
    },
    {
     "data": {
      "application/vnd.jupyter.widget-view+json": {
       "model_id": "3a64bc9fd7344c2eb25837200fb95177",
       "version_major": 2,
       "version_minor": 0
      },
      "text/plain": [
       "diffusion sampling:   0%|          | 0/20 [00:00<?, ?it/s]"
      ]
     },
     "metadata": {},
     "output_type": "display_data"
    },
    {
     "data": {
      "application/vnd.jupyter.widget-view+json": {
       "model_id": "24bbf7aa447747d7995de1c97db6be9b",
       "version_major": 2,
       "version_minor": 0
      },
      "text/plain": [
       "diffusion sampling:   0%|          | 0/20 [00:00<?, ?it/s]"
      ]
     },
     "metadata": {},
     "output_type": "display_data"
    },
    {
     "data": {
      "application/vnd.jupyter.widget-view+json": {
       "model_id": "32b9a9ba92f14ec690dbe8270fefb4b1",
       "version_major": 2,
       "version_minor": 0
      },
      "text/plain": [
       "diffusion sampling:   0%|          | 0/20 [00:00<?, ?it/s]"
      ]
     },
     "metadata": {},
     "output_type": "display_data"
    },
    {
     "data": {
      "application/vnd.jupyter.widget-view+json": {
       "model_id": "5982c598ea75472280178e5fde8a78ff",
       "version_major": 2,
       "version_minor": 0
      },
      "text/plain": [
       "class hypothsis:   0%|          | 0/6 [00:00<?, ?it/s]"
      ]
     },
     "metadata": {},
     "output_type": "display_data"
    },
    {
     "data": {
      "application/vnd.jupyter.widget-view+json": {
       "model_id": "bb033aa1205b42f89af690e762793593",
       "version_major": 2,
       "version_minor": 0
      },
      "text/plain": [
       "diffusion sampling:   0%|          | 0/20 [00:00<?, ?it/s]"
      ]
     },
     "metadata": {},
     "output_type": "display_data"
    },
    {
     "data": {
      "application/vnd.jupyter.widget-view+json": {
       "model_id": "04bcdad5a0224bf4b8109b8547335455",
       "version_major": 2,
       "version_minor": 0
      },
      "text/plain": [
       "diffusion sampling:   0%|          | 0/20 [00:00<?, ?it/s]"
      ]
     },
     "metadata": {},
     "output_type": "display_data"
    },
    {
     "data": {
      "application/vnd.jupyter.widget-view+json": {
       "model_id": "412fd1bf940745c282e0a29143c8fe96",
       "version_major": 2,
       "version_minor": 0
      },
      "text/plain": [
       "diffusion sampling:   0%|          | 0/20 [00:00<?, ?it/s]"
      ]
     },
     "metadata": {},
     "output_type": "display_data"
    },
    {
     "data": {
      "application/vnd.jupyter.widget-view+json": {
       "model_id": "18c3607afabf4a66a4d7f13e40e0b2bc",
       "version_major": 2,
       "version_minor": 0
      },
      "text/plain": [
       "diffusion sampling:   0%|          | 0/20 [00:00<?, ?it/s]"
      ]
     },
     "metadata": {},
     "output_type": "display_data"
    },
    {
     "data": {
      "application/vnd.jupyter.widget-view+json": {
       "model_id": "01f8f270e3a24ac5b9c9230d789e1b4f",
       "version_major": 2,
       "version_minor": 0
      },
      "text/plain": [
       "diffusion sampling:   0%|          | 0/20 [00:00<?, ?it/s]"
      ]
     },
     "metadata": {},
     "output_type": "display_data"
    },
    {
     "data": {
      "application/vnd.jupyter.widget-view+json": {
       "model_id": "ba23d2a241bd480d9a4f5ce052399d2c",
       "version_major": 2,
       "version_minor": 0
      },
      "text/plain": [
       "diffusion sampling:   0%|          | 0/20 [00:00<?, ?it/s]"
      ]
     },
     "metadata": {},
     "output_type": "display_data"
    },
    {
     "data": {
      "application/vnd.jupyter.widget-view+json": {
       "model_id": "6c2ca68d836c491e8ed7b05e7837abb3",
       "version_major": 2,
       "version_minor": 0
      },
      "text/plain": [
       "class hypothsis:   0%|          | 0/6 [00:00<?, ?it/s]"
      ]
     },
     "metadata": {},
     "output_type": "display_data"
    },
    {
     "data": {
      "application/vnd.jupyter.widget-view+json": {
       "model_id": "0c737e159da64023b3cc037944fd2ef3",
       "version_major": 2,
       "version_minor": 0
      },
      "text/plain": [
       "diffusion sampling:   0%|          | 0/20 [00:00<?, ?it/s]"
      ]
     },
     "metadata": {},
     "output_type": "display_data"
    },
    {
     "data": {
      "application/vnd.jupyter.widget-view+json": {
       "model_id": "068bcb835b05449b88d865adb3142562",
       "version_major": 2,
       "version_minor": 0
      },
      "text/plain": [
       "diffusion sampling:   0%|          | 0/20 [00:00<?, ?it/s]"
      ]
     },
     "metadata": {},
     "output_type": "display_data"
    },
    {
     "data": {
      "application/vnd.jupyter.widget-view+json": {
       "model_id": "1ed90412aa3647beaec81c5391b37b8d",
       "version_major": 2,
       "version_minor": 0
      },
      "text/plain": [
       "diffusion sampling:   0%|          | 0/20 [00:00<?, ?it/s]"
      ]
     },
     "metadata": {},
     "output_type": "display_data"
    },
    {
     "data": {
      "application/vnd.jupyter.widget-view+json": {
       "model_id": "f949a66b1cb4457692a09a3518354c40",
       "version_major": 2,
       "version_minor": 0
      },
      "text/plain": [
       "diffusion sampling:   0%|          | 0/20 [00:00<?, ?it/s]"
      ]
     },
     "metadata": {},
     "output_type": "display_data"
    },
    {
     "data": {
      "application/vnd.jupyter.widget-view+json": {
       "model_id": "46ffe0d002254a77904a46be57ad0b58",
       "version_major": 2,
       "version_minor": 0
      },
      "text/plain": [
       "diffusion sampling:   0%|          | 0/20 [00:00<?, ?it/s]"
      ]
     },
     "metadata": {},
     "output_type": "display_data"
    },
    {
     "data": {
      "application/vnd.jupyter.widget-view+json": {
       "model_id": "27622c0e88454ef8b2e644fb180b2303",
       "version_major": 2,
       "version_minor": 0
      },
      "text/plain": [
       "diffusion sampling:   0%|          | 0/20 [00:00<?, ?it/s]"
      ]
     },
     "metadata": {},
     "output_type": "display_data"
    },
    {
     "data": {
      "application/vnd.jupyter.widget-view+json": {
       "model_id": "927736b5ae74489594f8b5c8c87d7c71",
       "version_major": 2,
       "version_minor": 0
      },
      "text/plain": [
       "class hypothsis:   0%|          | 0/6 [00:00<?, ?it/s]"
      ]
     },
     "metadata": {},
     "output_type": "display_data"
    },
    {
     "data": {
      "application/vnd.jupyter.widget-view+json": {
       "model_id": "d98213be6fad4a41a513ad9a8b776270",
       "version_major": 2,
       "version_minor": 0
      },
      "text/plain": [
       "diffusion sampling:   0%|          | 0/20 [00:00<?, ?it/s]"
      ]
     },
     "metadata": {},
     "output_type": "display_data"
    },
    {
     "data": {
      "application/vnd.jupyter.widget-view+json": {
       "model_id": "1a9eb1e335fa428f97154e7d501e1587",
       "version_major": 2,
       "version_minor": 0
      },
      "text/plain": [
       "diffusion sampling:   0%|          | 0/20 [00:00<?, ?it/s]"
      ]
     },
     "metadata": {},
     "output_type": "display_data"
    },
    {
     "data": {
      "application/vnd.jupyter.widget-view+json": {
       "model_id": "7da61ce078c44f9989b0e925f436730e",
       "version_major": 2,
       "version_minor": 0
      },
      "text/plain": [
       "diffusion sampling:   0%|          | 0/20 [00:00<?, ?it/s]"
      ]
     },
     "metadata": {},
     "output_type": "display_data"
    },
    {
     "data": {
      "application/vnd.jupyter.widget-view+json": {
       "model_id": "445386d8719c42a4868eecaf9ccf28df",
       "version_major": 2,
       "version_minor": 0
      },
      "text/plain": [
       "diffusion sampling:   0%|          | 0/20 [00:00<?, ?it/s]"
      ]
     },
     "metadata": {},
     "output_type": "display_data"
    },
    {
     "data": {
      "application/vnd.jupyter.widget-view+json": {
       "model_id": "1a9ee4da249e461386a36b53bb188c39",
       "version_major": 2,
       "version_minor": 0
      },
      "text/plain": [
       "diffusion sampling:   0%|          | 0/20 [00:00<?, ?it/s]"
      ]
     },
     "metadata": {},
     "output_type": "display_data"
    },
    {
     "data": {
      "application/vnd.jupyter.widget-view+json": {
       "model_id": "6627a28961e9424a9cf8aa85b472e771",
       "version_major": 2,
       "version_minor": 0
      },
      "text/plain": [
       "diffusion sampling:   0%|          | 0/20 [00:00<?, ?it/s]"
      ]
     },
     "metadata": {},
     "output_type": "display_data"
    },
    {
     "data": {
      "application/vnd.jupyter.widget-view+json": {
       "model_id": "422496bcbdcc4092970f597b12eda3e8",
       "version_major": 2,
       "version_minor": 0
      },
      "text/plain": [
       "class hypothsis:   0%|          | 0/6 [00:00<?, ?it/s]"
      ]
     },
     "metadata": {},
     "output_type": "display_data"
    },
    {
     "data": {
      "application/vnd.jupyter.widget-view+json": {
       "model_id": "fdcc3377687948cfbda9f3ac0523bdab",
       "version_major": 2,
       "version_minor": 0
      },
      "text/plain": [
       "diffusion sampling:   0%|          | 0/20 [00:00<?, ?it/s]"
      ]
     },
     "metadata": {},
     "output_type": "display_data"
    },
    {
     "data": {
      "application/vnd.jupyter.widget-view+json": {
       "model_id": "64d3de12037545b08da15c7c102ee806",
       "version_major": 2,
       "version_minor": 0
      },
      "text/plain": [
       "diffusion sampling:   0%|          | 0/20 [00:00<?, ?it/s]"
      ]
     },
     "metadata": {},
     "output_type": "display_data"
    },
    {
     "data": {
      "application/vnd.jupyter.widget-view+json": {
       "model_id": "53be11e8a1c4418cb8a4cb16b870ef8e",
       "version_major": 2,
       "version_minor": 0
      },
      "text/plain": [
       "diffusion sampling:   0%|          | 0/20 [00:00<?, ?it/s]"
      ]
     },
     "metadata": {},
     "output_type": "display_data"
    },
    {
     "data": {
      "application/vnd.jupyter.widget-view+json": {
       "model_id": "8759feb493d44c108a92403d00e4f919",
       "version_major": 2,
       "version_minor": 0
      },
      "text/plain": [
       "diffusion sampling:   0%|          | 0/20 [00:00<?, ?it/s]"
      ]
     },
     "metadata": {},
     "output_type": "display_data"
    },
    {
     "data": {
      "application/vnd.jupyter.widget-view+json": {
       "model_id": "b26dd5bc70cc4f4a988af8a9ddc6b5e1",
       "version_major": 2,
       "version_minor": 0
      },
      "text/plain": [
       "diffusion sampling:   0%|          | 0/20 [00:00<?, ?it/s]"
      ]
     },
     "metadata": {},
     "output_type": "display_data"
    },
    {
     "data": {
      "application/vnd.jupyter.widget-view+json": {
       "model_id": "32ad810e021a400a942015602f8e5da7",
       "version_major": 2,
       "version_minor": 0
      },
      "text/plain": [
       "diffusion sampling:   0%|          | 0/20 [00:00<?, ?it/s]"
      ]
     },
     "metadata": {},
     "output_type": "display_data"
    },
    {
     "data": {
      "application/vnd.jupyter.widget-view+json": {
       "model_id": "b53617dc276143e787b786baa28eaad3",
       "version_major": 2,
       "version_minor": 0
      },
      "text/plain": [
       "class hypothsis:   0%|          | 0/6 [00:00<?, ?it/s]"
      ]
     },
     "metadata": {},
     "output_type": "display_data"
    },
    {
     "data": {
      "application/vnd.jupyter.widget-view+json": {
       "model_id": "833c56ae5f6d4c309f23da183b76927e",
       "version_major": 2,
       "version_minor": 0
      },
      "text/plain": [
       "diffusion sampling:   0%|          | 0/20 [00:00<?, ?it/s]"
      ]
     },
     "metadata": {},
     "output_type": "display_data"
    },
    {
     "data": {
      "application/vnd.jupyter.widget-view+json": {
       "model_id": "9c1fe3508a884cefa9af4cf2d8ff738f",
       "version_major": 2,
       "version_minor": 0
      },
      "text/plain": [
       "diffusion sampling:   0%|          | 0/20 [00:00<?, ?it/s]"
      ]
     },
     "metadata": {},
     "output_type": "display_data"
    },
    {
     "data": {
      "application/vnd.jupyter.widget-view+json": {
       "model_id": "b4529d69403b4ed7a0207965254be951",
       "version_major": 2,
       "version_minor": 0
      },
      "text/plain": [
       "diffusion sampling:   0%|          | 0/20 [00:00<?, ?it/s]"
      ]
     },
     "metadata": {},
     "output_type": "display_data"
    },
    {
     "data": {
      "application/vnd.jupyter.widget-view+json": {
       "model_id": "19f9196a94cf4654809f4b854fdad2ba",
       "version_major": 2,
       "version_minor": 0
      },
      "text/plain": [
       "diffusion sampling:   0%|          | 0/20 [00:00<?, ?it/s]"
      ]
     },
     "metadata": {},
     "output_type": "display_data"
    },
    {
     "data": {
      "application/vnd.jupyter.widget-view+json": {
       "model_id": "d2d133af28794c96b5511fbadc572bf4",
       "version_major": 2,
       "version_minor": 0
      },
      "text/plain": [
       "diffusion sampling:   0%|          | 0/20 [00:00<?, ?it/s]"
      ]
     },
     "metadata": {},
     "output_type": "display_data"
    },
    {
     "data": {
      "application/vnd.jupyter.widget-view+json": {
       "model_id": "a50f4495c4804607a221cb9b945dbfba",
       "version_major": 2,
       "version_minor": 0
      },
      "text/plain": [
       "diffusion sampling:   0%|          | 0/20 [00:00<?, ?it/s]"
      ]
     },
     "metadata": {},
     "output_type": "display_data"
    },
    {
     "data": {
      "application/vnd.jupyter.widget-view+json": {
       "model_id": "e6e14e4492354567b9a04040794ca569",
       "version_major": 2,
       "version_minor": 0
      },
      "text/plain": [
       "class hypothsis:   0%|          | 0/6 [00:00<?, ?it/s]"
      ]
     },
     "metadata": {},
     "output_type": "display_data"
    },
    {
     "data": {
      "application/vnd.jupyter.widget-view+json": {
       "model_id": "8a115941ace34b1daa86f1d297162f90",
       "version_major": 2,
       "version_minor": 0
      },
      "text/plain": [
       "diffusion sampling:   0%|          | 0/20 [00:00<?, ?it/s]"
      ]
     },
     "metadata": {},
     "output_type": "display_data"
    },
    {
     "data": {
      "application/vnd.jupyter.widget-view+json": {
       "model_id": "986a210eb0564d92b47e407931110d2b",
       "version_major": 2,
       "version_minor": 0
      },
      "text/plain": [
       "diffusion sampling:   0%|          | 0/20 [00:00<?, ?it/s]"
      ]
     },
     "metadata": {},
     "output_type": "display_data"
    },
    {
     "data": {
      "application/vnd.jupyter.widget-view+json": {
       "model_id": "0c50617f902e411b8490570fb8a0a611",
       "version_major": 2,
       "version_minor": 0
      },
      "text/plain": [
       "diffusion sampling:   0%|          | 0/20 [00:00<?, ?it/s]"
      ]
     },
     "metadata": {},
     "output_type": "display_data"
    },
    {
     "data": {
      "application/vnd.jupyter.widget-view+json": {
       "model_id": "1e841fcc0fb14e10bd58b937fb7cb5e8",
       "version_major": 2,
       "version_minor": 0
      },
      "text/plain": [
       "diffusion sampling:   0%|          | 0/20 [00:00<?, ?it/s]"
      ]
     },
     "metadata": {},
     "output_type": "display_data"
    },
    {
     "data": {
      "application/vnd.jupyter.widget-view+json": {
       "model_id": "caafc26aeead4c4baa37bd323232cf30",
       "version_major": 2,
       "version_minor": 0
      },
      "text/plain": [
       "diffusion sampling:   0%|          | 0/20 [00:00<?, ?it/s]"
      ]
     },
     "metadata": {},
     "output_type": "display_data"
    },
    {
     "data": {
      "application/vnd.jupyter.widget-view+json": {
       "model_id": "6cf6f51512174f6db22b6feb6b72adef",
       "version_major": 2,
       "version_minor": 0
      },
      "text/plain": [
       "diffusion sampling:   0%|          | 0/20 [00:00<?, ?it/s]"
      ]
     },
     "metadata": {},
     "output_type": "display_data"
    },
    {
     "data": {
      "application/vnd.jupyter.widget-view+json": {
       "model_id": "5bc5db6ddfc34575bd21b0487c461b2b",
       "version_major": 2,
       "version_minor": 0
      },
      "text/plain": [
       "class hypothsis:   0%|          | 0/6 [00:00<?, ?it/s]"
      ]
     },
     "metadata": {},
     "output_type": "display_data"
    },
    {
     "data": {
      "application/vnd.jupyter.widget-view+json": {
       "model_id": "593ffd5b601c41ffb2568a1d45ad12af",
       "version_major": 2,
       "version_minor": 0
      },
      "text/plain": [
       "diffusion sampling:   0%|          | 0/20 [00:00<?, ?it/s]"
      ]
     },
     "metadata": {},
     "output_type": "display_data"
    },
    {
     "data": {
      "application/vnd.jupyter.widget-view+json": {
       "model_id": "43858255d64a4ff895e25eed4bfa75a1",
       "version_major": 2,
       "version_minor": 0
      },
      "text/plain": [
       "diffusion sampling:   0%|          | 0/20 [00:00<?, ?it/s]"
      ]
     },
     "metadata": {},
     "output_type": "display_data"
    },
    {
     "data": {
      "application/vnd.jupyter.widget-view+json": {
       "model_id": "f11404e1b0404e3c963f3b589b87b552",
       "version_major": 2,
       "version_minor": 0
      },
      "text/plain": [
       "diffusion sampling:   0%|          | 0/20 [00:00<?, ?it/s]"
      ]
     },
     "metadata": {},
     "output_type": "display_data"
    },
    {
     "data": {
      "application/vnd.jupyter.widget-view+json": {
       "model_id": "e6fda7482630413ca5270a0e8eb3022b",
       "version_major": 2,
       "version_minor": 0
      },
      "text/plain": [
       "diffusion sampling:   0%|          | 0/20 [00:00<?, ?it/s]"
      ]
     },
     "metadata": {},
     "output_type": "display_data"
    },
    {
     "data": {
      "application/vnd.jupyter.widget-view+json": {
       "model_id": "8377760931324662b86eb4eb1b67d2bf",
       "version_major": 2,
       "version_minor": 0
      },
      "text/plain": [
       "diffusion sampling:   0%|          | 0/20 [00:00<?, ?it/s]"
      ]
     },
     "metadata": {},
     "output_type": "display_data"
    },
    {
     "data": {
      "application/vnd.jupyter.widget-view+json": {
       "model_id": "4b175eb393f349609678562e7991bc83",
       "version_major": 2,
       "version_minor": 0
      },
      "text/plain": [
       "diffusion sampling:   0%|          | 0/20 [00:00<?, ?it/s]"
      ]
     },
     "metadata": {},
     "output_type": "display_data"
    },
    {
     "data": {
      "application/vnd.jupyter.widget-view+json": {
       "model_id": "2325307eb0c84fb3a35677651563d1e7",
       "version_major": 2,
       "version_minor": 0
      },
      "text/plain": [
       "class hypothsis:   0%|          | 0/6 [00:00<?, ?it/s]"
      ]
     },
     "metadata": {},
     "output_type": "display_data"
    },
    {
     "data": {
      "application/vnd.jupyter.widget-view+json": {
       "model_id": "665ae7c757764de98ca1d15fdae53dd0",
       "version_major": 2,
       "version_minor": 0
      },
      "text/plain": [
       "diffusion sampling:   0%|          | 0/20 [00:00<?, ?it/s]"
      ]
     },
     "metadata": {},
     "output_type": "display_data"
    },
    {
     "data": {
      "application/vnd.jupyter.widget-view+json": {
       "model_id": "87665e6471fa4b5ab0721dae7ac89696",
       "version_major": 2,
       "version_minor": 0
      },
      "text/plain": [
       "diffusion sampling:   0%|          | 0/20 [00:00<?, ?it/s]"
      ]
     },
     "metadata": {},
     "output_type": "display_data"
    },
    {
     "data": {
      "application/vnd.jupyter.widget-view+json": {
       "model_id": "eb10ab0a7c8e4f8b86b58f955c019859",
       "version_major": 2,
       "version_minor": 0
      },
      "text/plain": [
       "diffusion sampling:   0%|          | 0/20 [00:00<?, ?it/s]"
      ]
     },
     "metadata": {},
     "output_type": "display_data"
    },
    {
     "data": {
      "application/vnd.jupyter.widget-view+json": {
       "model_id": "24569b4d024e40b0a550d63183577ea5",
       "version_major": 2,
       "version_minor": 0
      },
      "text/plain": [
       "diffusion sampling:   0%|          | 0/20 [00:00<?, ?it/s]"
      ]
     },
     "metadata": {},
     "output_type": "display_data"
    },
    {
     "data": {
      "application/vnd.jupyter.widget-view+json": {
       "model_id": "a3ec44033b1f4f9a835047984efa499c",
       "version_major": 2,
       "version_minor": 0
      },
      "text/plain": [
       "diffusion sampling:   0%|          | 0/20 [00:00<?, ?it/s]"
      ]
     },
     "metadata": {},
     "output_type": "display_data"
    },
    {
     "data": {
      "application/vnd.jupyter.widget-view+json": {
       "model_id": "b1e74ebd7def49668004b0350442deb9",
       "version_major": 2,
       "version_minor": 0
      },
      "text/plain": [
       "diffusion sampling:   0%|          | 0/20 [00:00<?, ?it/s]"
      ]
     },
     "metadata": {},
     "output_type": "display_data"
    },
    {
     "data": {
      "application/vnd.jupyter.widget-view+json": {
       "model_id": "023fd9e7b42047bbaaf85ca7f25d8ef2",
       "version_major": 2,
       "version_minor": 0
      },
      "text/plain": [
       "class hypothsis:   0%|          | 0/6 [00:00<?, ?it/s]"
      ]
     },
     "metadata": {},
     "output_type": "display_data"
    },
    {
     "data": {
      "application/vnd.jupyter.widget-view+json": {
       "model_id": "8b6f26711b0f4fef9fcb94d8a72e5d23",
       "version_major": 2,
       "version_minor": 0
      },
      "text/plain": [
       "diffusion sampling:   0%|          | 0/20 [00:00<?, ?it/s]"
      ]
     },
     "metadata": {},
     "output_type": "display_data"
    },
    {
     "data": {
      "application/vnd.jupyter.widget-view+json": {
       "model_id": "aa5a3d6b64044f44a9df68d9a5436914",
       "version_major": 2,
       "version_minor": 0
      },
      "text/plain": [
       "diffusion sampling:   0%|          | 0/20 [00:00<?, ?it/s]"
      ]
     },
     "metadata": {},
     "output_type": "display_data"
    },
    {
     "data": {
      "application/vnd.jupyter.widget-view+json": {
       "model_id": "d0499b69d8d44cc0977c272821594b7a",
       "version_major": 2,
       "version_minor": 0
      },
      "text/plain": [
       "diffusion sampling:   0%|          | 0/20 [00:00<?, ?it/s]"
      ]
     },
     "metadata": {},
     "output_type": "display_data"
    },
    {
     "data": {
      "application/vnd.jupyter.widget-view+json": {
       "model_id": "5261ff6150474ddfb47b3cc788bc6eca",
       "version_major": 2,
       "version_minor": 0
      },
      "text/plain": [
       "diffusion sampling:   0%|          | 0/20 [00:00<?, ?it/s]"
      ]
     },
     "metadata": {},
     "output_type": "display_data"
    },
    {
     "data": {
      "application/vnd.jupyter.widget-view+json": {
       "model_id": "9d42c4498f114cda986605daec1615ed",
       "version_major": 2,
       "version_minor": 0
      },
      "text/plain": [
       "diffusion sampling:   0%|          | 0/20 [00:00<?, ?it/s]"
      ]
     },
     "metadata": {},
     "output_type": "display_data"
    },
    {
     "data": {
      "application/vnd.jupyter.widget-view+json": {
       "model_id": "40740b9789e44ba1b8abce61e9e427c3",
       "version_major": 2,
       "version_minor": 0
      },
      "text/plain": [
       "diffusion sampling:   0%|          | 0/20 [00:00<?, ?it/s]"
      ]
     },
     "metadata": {},
     "output_type": "display_data"
    },
    {
     "data": {
      "application/vnd.jupyter.widget-view+json": {
       "model_id": "f25b273dd3474ec0849a601507cd2873",
       "version_major": 2,
       "version_minor": 0
      },
      "text/plain": [
       "class hypothsis:   0%|          | 0/6 [00:00<?, ?it/s]"
      ]
     },
     "metadata": {},
     "output_type": "display_data"
    },
    {
     "data": {
      "application/vnd.jupyter.widget-view+json": {
       "model_id": "481d04f864864ddd89941008f2e39be5",
       "version_major": 2,
       "version_minor": 0
      },
      "text/plain": [
       "diffusion sampling:   0%|          | 0/20 [00:00<?, ?it/s]"
      ]
     },
     "metadata": {},
     "output_type": "display_data"
    },
    {
     "data": {
      "application/vnd.jupyter.widget-view+json": {
       "model_id": "c3ec5adc1c7e46f1984e92764cdfcb6e",
       "version_major": 2,
       "version_minor": 0
      },
      "text/plain": [
       "diffusion sampling:   0%|          | 0/20 [00:00<?, ?it/s]"
      ]
     },
     "metadata": {},
     "output_type": "display_data"
    },
    {
     "data": {
      "application/vnd.jupyter.widget-view+json": {
       "model_id": "247cf297163c4f2e90502705e2fba08e",
       "version_major": 2,
       "version_minor": 0
      },
      "text/plain": [
       "diffusion sampling:   0%|          | 0/20 [00:00<?, ?it/s]"
      ]
     },
     "metadata": {},
     "output_type": "display_data"
    },
    {
     "data": {
      "application/vnd.jupyter.widget-view+json": {
       "model_id": "2c59954bca8a47298e46b6a98e9b63e7",
       "version_major": 2,
       "version_minor": 0
      },
      "text/plain": [
       "diffusion sampling:   0%|          | 0/20 [00:00<?, ?it/s]"
      ]
     },
     "metadata": {},
     "output_type": "display_data"
    },
    {
     "data": {
      "application/vnd.jupyter.widget-view+json": {
       "model_id": "911d32a0178a4ae5976d0f12741935f8",
       "version_major": 2,
       "version_minor": 0
      },
      "text/plain": [
       "diffusion sampling:   0%|          | 0/20 [00:00<?, ?it/s]"
      ]
     },
     "metadata": {},
     "output_type": "display_data"
    },
    {
     "data": {
      "application/vnd.jupyter.widget-view+json": {
       "model_id": "c06227e4329440c09c8d4833a1c2dca9",
       "version_major": 2,
       "version_minor": 0
      },
      "text/plain": [
       "diffusion sampling:   0%|          | 0/20 [00:00<?, ?it/s]"
      ]
     },
     "metadata": {},
     "output_type": "display_data"
    },
    {
     "data": {
      "application/vnd.jupyter.widget-view+json": {
       "model_id": "2f6516112a9f4a479deb23de9d04ac80",
       "version_major": 2,
       "version_minor": 0
      },
      "text/plain": [
       "class hypothsis:   0%|          | 0/6 [00:00<?, ?it/s]"
      ]
     },
     "metadata": {},
     "output_type": "display_data"
    },
    {
     "data": {
      "application/vnd.jupyter.widget-view+json": {
       "model_id": "75870b3ce9634080bc79e1d768e2c275",
       "version_major": 2,
       "version_minor": 0
      },
      "text/plain": [
       "diffusion sampling:   0%|          | 0/20 [00:00<?, ?it/s]"
      ]
     },
     "metadata": {},
     "output_type": "display_data"
    },
    {
     "data": {
      "application/vnd.jupyter.widget-view+json": {
       "model_id": "f33aa3b17ee84d74a585fdc5dd0b1061",
       "version_major": 2,
       "version_minor": 0
      },
      "text/plain": [
       "diffusion sampling:   0%|          | 0/20 [00:00<?, ?it/s]"
      ]
     },
     "metadata": {},
     "output_type": "display_data"
    },
    {
     "data": {
      "application/vnd.jupyter.widget-view+json": {
       "model_id": "00c22ffd368b42adba140ff60685c3ca",
       "version_major": 2,
       "version_minor": 0
      },
      "text/plain": [
       "diffusion sampling:   0%|          | 0/20 [00:00<?, ?it/s]"
      ]
     },
     "metadata": {},
     "output_type": "display_data"
    },
    {
     "data": {
      "application/vnd.jupyter.widget-view+json": {
       "model_id": "783b6267afe0448c9601a927e9a0f870",
       "version_major": 2,
       "version_minor": 0
      },
      "text/plain": [
       "diffusion sampling:   0%|          | 0/20 [00:00<?, ?it/s]"
      ]
     },
     "metadata": {},
     "output_type": "display_data"
    },
    {
     "data": {
      "application/vnd.jupyter.widget-view+json": {
       "model_id": "a57e9b6f0b8a44d5b9f009b4ebaae172",
       "version_major": 2,
       "version_minor": 0
      },
      "text/plain": [
       "diffusion sampling:   0%|          | 0/20 [00:00<?, ?it/s]"
      ]
     },
     "metadata": {},
     "output_type": "display_data"
    },
    {
     "data": {
      "application/vnd.jupyter.widget-view+json": {
       "model_id": "68044bd304d64053a66b70b1a83b6f22",
       "version_major": 2,
       "version_minor": 0
      },
      "text/plain": [
       "diffusion sampling:   0%|          | 0/20 [00:00<?, ?it/s]"
      ]
     },
     "metadata": {},
     "output_type": "display_data"
    },
    {
     "data": {
      "application/vnd.jupyter.widget-view+json": {
       "model_id": "1e6c23f8e48244b8a188afc23e7b94ee",
       "version_major": 2,
       "version_minor": 0
      },
      "text/plain": [
       "class hypothsis:   0%|          | 0/6 [00:00<?, ?it/s]"
      ]
     },
     "metadata": {},
     "output_type": "display_data"
    },
    {
     "data": {
      "application/vnd.jupyter.widget-view+json": {
       "model_id": "ba16b9f3fffc40efb03ad3da6d6c4c2b",
       "version_major": 2,
       "version_minor": 0
      },
      "text/plain": [
       "diffusion sampling:   0%|          | 0/20 [00:00<?, ?it/s]"
      ]
     },
     "metadata": {},
     "output_type": "display_data"
    },
    {
     "data": {
      "application/vnd.jupyter.widget-view+json": {
       "model_id": "e8d66eda08854fc6a1e6c8ddbc2e8a04",
       "version_major": 2,
       "version_minor": 0
      },
      "text/plain": [
       "diffusion sampling:   0%|          | 0/20 [00:00<?, ?it/s]"
      ]
     },
     "metadata": {},
     "output_type": "display_data"
    },
    {
     "data": {
      "application/vnd.jupyter.widget-view+json": {
       "model_id": "1bf32ed291e4404ba3803a26d6740adc",
       "version_major": 2,
       "version_minor": 0
      },
      "text/plain": [
       "diffusion sampling:   0%|          | 0/20 [00:00<?, ?it/s]"
      ]
     },
     "metadata": {},
     "output_type": "display_data"
    },
    {
     "data": {
      "application/vnd.jupyter.widget-view+json": {
       "model_id": "3307eef2831f4c1cb20545c0953206c8",
       "version_major": 2,
       "version_minor": 0
      },
      "text/plain": [
       "diffusion sampling:   0%|          | 0/20 [00:00<?, ?it/s]"
      ]
     },
     "metadata": {},
     "output_type": "display_data"
    },
    {
     "data": {
      "application/vnd.jupyter.widget-view+json": {
       "model_id": "d51ce7a438694177b5f09b1c0d49dfa4",
       "version_major": 2,
       "version_minor": 0
      },
      "text/plain": [
       "diffusion sampling:   0%|          | 0/20 [00:00<?, ?it/s]"
      ]
     },
     "metadata": {},
     "output_type": "display_data"
    },
    {
     "data": {
      "application/vnd.jupyter.widget-view+json": {
       "model_id": "234d8756d5d243eab3a6639c9afb7781",
       "version_major": 2,
       "version_minor": 0
      },
      "text/plain": [
       "diffusion sampling:   0%|          | 0/20 [00:00<?, ?it/s]"
      ]
     },
     "metadata": {},
     "output_type": "display_data"
    },
    {
     "data": {
      "application/vnd.jupyter.widget-view+json": {
       "model_id": "e43ff260914c46f28b7dd926e1249652",
       "version_major": 2,
       "version_minor": 0
      },
      "text/plain": [
       "class hypothsis:   0%|          | 0/6 [00:00<?, ?it/s]"
      ]
     },
     "metadata": {},
     "output_type": "display_data"
    },
    {
     "data": {
      "application/vnd.jupyter.widget-view+json": {
       "model_id": "f62e8e0504ad4fbdb26d9b32e161da6f",
       "version_major": 2,
       "version_minor": 0
      },
      "text/plain": [
       "diffusion sampling:   0%|          | 0/20 [00:00<?, ?it/s]"
      ]
     },
     "metadata": {},
     "output_type": "display_data"
    },
    {
     "data": {
      "application/vnd.jupyter.widget-view+json": {
       "model_id": "0287e74125d44e419c9bae09e8e9f773",
       "version_major": 2,
       "version_minor": 0
      },
      "text/plain": [
       "diffusion sampling:   0%|          | 0/20 [00:00<?, ?it/s]"
      ]
     },
     "metadata": {},
     "output_type": "display_data"
    },
    {
     "data": {
      "application/vnd.jupyter.widget-view+json": {
       "model_id": "5748aeec59e6499695b3e64d3aff4504",
       "version_major": 2,
       "version_minor": 0
      },
      "text/plain": [
       "diffusion sampling:   0%|          | 0/20 [00:00<?, ?it/s]"
      ]
     },
     "metadata": {},
     "output_type": "display_data"
    },
    {
     "data": {
      "application/vnd.jupyter.widget-view+json": {
       "model_id": "6d85ec81e3d04388a521418303fec10a",
       "version_major": 2,
       "version_minor": 0
      },
      "text/plain": [
       "diffusion sampling:   0%|          | 0/20 [00:00<?, ?it/s]"
      ]
     },
     "metadata": {},
     "output_type": "display_data"
    },
    {
     "data": {
      "application/vnd.jupyter.widget-view+json": {
       "model_id": "63fd9d5e39394619a0326bcab5afadab",
       "version_major": 2,
       "version_minor": 0
      },
      "text/plain": [
       "diffusion sampling:   0%|          | 0/20 [00:00<?, ?it/s]"
      ]
     },
     "metadata": {},
     "output_type": "display_data"
    },
    {
     "data": {
      "application/vnd.jupyter.widget-view+json": {
       "model_id": "c6b3b100c2994e8ba0fe895aedd422c1",
       "version_major": 2,
       "version_minor": 0
      },
      "text/plain": [
       "diffusion sampling:   0%|          | 0/20 [00:00<?, ?it/s]"
      ]
     },
     "metadata": {},
     "output_type": "display_data"
    },
    {
     "data": {
      "application/vnd.jupyter.widget-view+json": {
       "model_id": "1122b12c2c53402bb2c66c70189e6821",
       "version_major": 2,
       "version_minor": 0
      },
      "text/plain": [
       "class hypothsis:   0%|          | 0/6 [00:00<?, ?it/s]"
      ]
     },
     "metadata": {},
     "output_type": "display_data"
    },
    {
     "data": {
      "application/vnd.jupyter.widget-view+json": {
       "model_id": "3b6ed69feffa46639c3667410ae2bca7",
       "version_major": 2,
       "version_minor": 0
      },
      "text/plain": [
       "diffusion sampling:   0%|          | 0/20 [00:00<?, ?it/s]"
      ]
     },
     "metadata": {},
     "output_type": "display_data"
    },
    {
     "data": {
      "application/vnd.jupyter.widget-view+json": {
       "model_id": "5fcc3da0a5b048fd824199d5a79555ff",
       "version_major": 2,
       "version_minor": 0
      },
      "text/plain": [
       "diffusion sampling:   0%|          | 0/20 [00:00<?, ?it/s]"
      ]
     },
     "metadata": {},
     "output_type": "display_data"
    },
    {
     "data": {
      "application/vnd.jupyter.widget-view+json": {
       "model_id": "2429c2722f6d46078c8e2a744b837a41",
       "version_major": 2,
       "version_minor": 0
      },
      "text/plain": [
       "diffusion sampling:   0%|          | 0/20 [00:00<?, ?it/s]"
      ]
     },
     "metadata": {},
     "output_type": "display_data"
    },
    {
     "data": {
      "application/vnd.jupyter.widget-view+json": {
       "model_id": "3e19b0eb4b93432e91d2f6eadb410dab",
       "version_major": 2,
       "version_minor": 0
      },
      "text/plain": [
       "diffusion sampling:   0%|          | 0/20 [00:00<?, ?it/s]"
      ]
     },
     "metadata": {},
     "output_type": "display_data"
    },
    {
     "data": {
      "application/vnd.jupyter.widget-view+json": {
       "model_id": "6982bdc9be4c4e41b0758217cd87254d",
       "version_major": 2,
       "version_minor": 0
      },
      "text/plain": [
       "diffusion sampling:   0%|          | 0/20 [00:00<?, ?it/s]"
      ]
     },
     "metadata": {},
     "output_type": "display_data"
    },
    {
     "data": {
      "application/vnd.jupyter.widget-view+json": {
       "model_id": "98528bf5512540b6acedec2b50340901",
       "version_major": 2,
       "version_minor": 0
      },
      "text/plain": [
       "diffusion sampling:   0%|          | 0/20 [00:00<?, ?it/s]"
      ]
     },
     "metadata": {},
     "output_type": "display_data"
    },
    {
     "data": {
      "application/vnd.jupyter.widget-view+json": {
       "model_id": "4d2fb1d74019422ba0b9a0cf341376b5",
       "version_major": 2,
       "version_minor": 0
      },
      "text/plain": [
       "class hypothsis:   0%|          | 0/6 [00:00<?, ?it/s]"
      ]
     },
     "metadata": {},
     "output_type": "display_data"
    },
    {
     "data": {
      "application/vnd.jupyter.widget-view+json": {
       "model_id": "4667176fd5554c0ab9ebd0fb7291ad48",
       "version_major": 2,
       "version_minor": 0
      },
      "text/plain": [
       "diffusion sampling:   0%|          | 0/20 [00:00<?, ?it/s]"
      ]
     },
     "metadata": {},
     "output_type": "display_data"
    },
    {
     "data": {
      "application/vnd.jupyter.widget-view+json": {
       "model_id": "1b0120fec39d496085b460e3515dbb9e",
       "version_major": 2,
       "version_minor": 0
      },
      "text/plain": [
       "diffusion sampling:   0%|          | 0/20 [00:00<?, ?it/s]"
      ]
     },
     "metadata": {},
     "output_type": "display_data"
    },
    {
     "data": {
      "application/vnd.jupyter.widget-view+json": {
       "model_id": "f035fb94edcf43a6af1ad0e488029c59",
       "version_major": 2,
       "version_minor": 0
      },
      "text/plain": [
       "diffusion sampling:   0%|          | 0/20 [00:00<?, ?it/s]"
      ]
     },
     "metadata": {},
     "output_type": "display_data"
    },
    {
     "data": {
      "application/vnd.jupyter.widget-view+json": {
       "model_id": "4be16e1e83cd4024bb8f1a1a023f776b",
       "version_major": 2,
       "version_minor": 0
      },
      "text/plain": [
       "diffusion sampling:   0%|          | 0/20 [00:00<?, ?it/s]"
      ]
     },
     "metadata": {},
     "output_type": "display_data"
    },
    {
     "data": {
      "application/vnd.jupyter.widget-view+json": {
       "model_id": "07f5f04a2f094a4ab87056fc28c6e17c",
       "version_major": 2,
       "version_minor": 0
      },
      "text/plain": [
       "diffusion sampling:   0%|          | 0/20 [00:00<?, ?it/s]"
      ]
     },
     "metadata": {},
     "output_type": "display_data"
    },
    {
     "data": {
      "application/vnd.jupyter.widget-view+json": {
       "model_id": "5f785835e82842a4bc5a0e08ef685ff9",
       "version_major": 2,
       "version_minor": 0
      },
      "text/plain": [
       "diffusion sampling:   0%|          | 0/20 [00:00<?, ?it/s]"
      ]
     },
     "metadata": {},
     "output_type": "display_data"
    },
    {
     "data": {
      "application/vnd.jupyter.widget-view+json": {
       "model_id": "290b6e45cac84d13813ec3f791c4cbc3",
       "version_major": 2,
       "version_minor": 0
      },
      "text/plain": [
       "class hypothsis:   0%|          | 0/6 [00:00<?, ?it/s]"
      ]
     },
     "metadata": {},
     "output_type": "display_data"
    },
    {
     "data": {
      "application/vnd.jupyter.widget-view+json": {
       "model_id": "779328a5a2b04ca2946688f309dd36b8",
       "version_major": 2,
       "version_minor": 0
      },
      "text/plain": [
       "diffusion sampling:   0%|          | 0/20 [00:00<?, ?it/s]"
      ]
     },
     "metadata": {},
     "output_type": "display_data"
    },
    {
     "data": {
      "application/vnd.jupyter.widget-view+json": {
       "model_id": "8a1e5f0dfdd34310b9b4abc9c302a7fa",
       "version_major": 2,
       "version_minor": 0
      },
      "text/plain": [
       "diffusion sampling:   0%|          | 0/20 [00:00<?, ?it/s]"
      ]
     },
     "metadata": {},
     "output_type": "display_data"
    },
    {
     "data": {
      "application/vnd.jupyter.widget-view+json": {
       "model_id": "ea3c4f7b7ae244fab26012106a628564",
       "version_major": 2,
       "version_minor": 0
      },
      "text/plain": [
       "diffusion sampling:   0%|          | 0/20 [00:00<?, ?it/s]"
      ]
     },
     "metadata": {},
     "output_type": "display_data"
    },
    {
     "data": {
      "application/vnd.jupyter.widget-view+json": {
       "model_id": "46e42ab2aec544458c49aa9a7be7ffa5",
       "version_major": 2,
       "version_minor": 0
      },
      "text/plain": [
       "diffusion sampling:   0%|          | 0/20 [00:00<?, ?it/s]"
      ]
     },
     "metadata": {},
     "output_type": "display_data"
    },
    {
     "data": {
      "application/vnd.jupyter.widget-view+json": {
       "model_id": "04af5880f75c445bbcc52ebbf9682890",
       "version_major": 2,
       "version_minor": 0
      },
      "text/plain": [
       "diffusion sampling:   0%|          | 0/20 [00:00<?, ?it/s]"
      ]
     },
     "metadata": {},
     "output_type": "display_data"
    },
    {
     "data": {
      "application/vnd.jupyter.widget-view+json": {
       "model_id": "ceeafb7d803248159204a57f72fc42c7",
       "version_major": 2,
       "version_minor": 0
      },
      "text/plain": [
       "diffusion sampling:   0%|          | 0/20 [00:00<?, ?it/s]"
      ]
     },
     "metadata": {},
     "output_type": "display_data"
    },
    {
     "data": {
      "application/vnd.jupyter.widget-view+json": {
       "model_id": "aac4de153c6d4a4aa43ee710efc71145",
       "version_major": 2,
       "version_minor": 0
      },
      "text/plain": [
       "class hypothsis:   0%|          | 0/6 [00:00<?, ?it/s]"
      ]
     },
     "metadata": {},
     "output_type": "display_data"
    },
    {
     "data": {
      "application/vnd.jupyter.widget-view+json": {
       "model_id": "4453d0e9917b4f7c8a20d9e617de493c",
       "version_major": 2,
       "version_minor": 0
      },
      "text/plain": [
       "diffusion sampling:   0%|          | 0/20 [00:00<?, ?it/s]"
      ]
     },
     "metadata": {},
     "output_type": "display_data"
    },
    {
     "data": {
      "application/vnd.jupyter.widget-view+json": {
       "model_id": "04b5fbeabcf04f0cbcaeeaea70cc3dc8",
       "version_major": 2,
       "version_minor": 0
      },
      "text/plain": [
       "diffusion sampling:   0%|          | 0/20 [00:00<?, ?it/s]"
      ]
     },
     "metadata": {},
     "output_type": "display_data"
    },
    {
     "data": {
      "application/vnd.jupyter.widget-view+json": {
       "model_id": "253b263dfb12432fae4684fbdc5d5c69",
       "version_major": 2,
       "version_minor": 0
      },
      "text/plain": [
       "diffusion sampling:   0%|          | 0/20 [00:00<?, ?it/s]"
      ]
     },
     "metadata": {},
     "output_type": "display_data"
    },
    {
     "data": {
      "application/vnd.jupyter.widget-view+json": {
       "model_id": "9f4fb1f35660442397eaebe259b39123",
       "version_major": 2,
       "version_minor": 0
      },
      "text/plain": [
       "diffusion sampling:   0%|          | 0/20 [00:00<?, ?it/s]"
      ]
     },
     "metadata": {},
     "output_type": "display_data"
    },
    {
     "data": {
      "application/vnd.jupyter.widget-view+json": {
       "model_id": "659bd714c276433583bb10fea95e721e",
       "version_major": 2,
       "version_minor": 0
      },
      "text/plain": [
       "diffusion sampling:   0%|          | 0/20 [00:00<?, ?it/s]"
      ]
     },
     "metadata": {},
     "output_type": "display_data"
    },
    {
     "data": {
      "application/vnd.jupyter.widget-view+json": {
       "model_id": "5cffb43255214df790b13c3a1bf3c4d8",
       "version_major": 2,
       "version_minor": 0
      },
      "text/plain": [
       "diffusion sampling:   0%|          | 0/20 [00:00<?, ?it/s]"
      ]
     },
     "metadata": {},
     "output_type": "display_data"
    },
    {
     "data": {
      "application/vnd.jupyter.widget-view+json": {
       "model_id": "17e560c64f39462c9e69ec68a36ccfaa",
       "version_major": 2,
       "version_minor": 0
      },
      "text/plain": [
       "class hypothsis:   0%|          | 0/6 [00:00<?, ?it/s]"
      ]
     },
     "metadata": {},
     "output_type": "display_data"
    },
    {
     "data": {
      "application/vnd.jupyter.widget-view+json": {
       "model_id": "28a26ed52d5f4737aae8aec5d08fc96c",
       "version_major": 2,
       "version_minor": 0
      },
      "text/plain": [
       "diffusion sampling:   0%|          | 0/20 [00:00<?, ?it/s]"
      ]
     },
     "metadata": {},
     "output_type": "display_data"
    },
    {
     "data": {
      "application/vnd.jupyter.widget-view+json": {
       "model_id": "330719229b694794be473ea384adedb4",
       "version_major": 2,
       "version_minor": 0
      },
      "text/plain": [
       "diffusion sampling:   0%|          | 0/20 [00:00<?, ?it/s]"
      ]
     },
     "metadata": {},
     "output_type": "display_data"
    },
    {
     "data": {
      "application/vnd.jupyter.widget-view+json": {
       "model_id": "414d72d0a38143e9a9184bc4091a27b8",
       "version_major": 2,
       "version_minor": 0
      },
      "text/plain": [
       "diffusion sampling:   0%|          | 0/20 [00:00<?, ?it/s]"
      ]
     },
     "metadata": {},
     "output_type": "display_data"
    },
    {
     "data": {
      "application/vnd.jupyter.widget-view+json": {
       "model_id": "9d07facabb374f878fdcabbfd5eb081f",
       "version_major": 2,
       "version_minor": 0
      },
      "text/plain": [
       "diffusion sampling:   0%|          | 0/20 [00:00<?, ?it/s]"
      ]
     },
     "metadata": {},
     "output_type": "display_data"
    },
    {
     "data": {
      "application/vnd.jupyter.widget-view+json": {
       "model_id": "0b379e4c0a4d4172ac97a86fb6e24683",
       "version_major": 2,
       "version_minor": 0
      },
      "text/plain": [
       "diffusion sampling:   0%|          | 0/20 [00:00<?, ?it/s]"
      ]
     },
     "metadata": {},
     "output_type": "display_data"
    },
    {
     "data": {
      "application/vnd.jupyter.widget-view+json": {
       "model_id": "26d8c5b30bf645a694096f0472007d0c",
       "version_major": 2,
       "version_minor": 0
      },
      "text/plain": [
       "diffusion sampling:   0%|          | 0/20 [00:00<?, ?it/s]"
      ]
     },
     "metadata": {},
     "output_type": "display_data"
    },
    {
     "data": {
      "application/vnd.jupyter.widget-view+json": {
       "model_id": "970ba5ec10d04797b2bf825c57042c1f",
       "version_major": 2,
       "version_minor": 0
      },
      "text/plain": [
       "class hypothsis:   0%|          | 0/6 [00:00<?, ?it/s]"
      ]
     },
     "metadata": {},
     "output_type": "display_data"
    },
    {
     "data": {
      "application/vnd.jupyter.widget-view+json": {
       "model_id": "a75a5391f0694df18e7b3419c0ddbcec",
       "version_major": 2,
       "version_minor": 0
      },
      "text/plain": [
       "diffusion sampling:   0%|          | 0/20 [00:00<?, ?it/s]"
      ]
     },
     "metadata": {},
     "output_type": "display_data"
    },
    {
     "data": {
      "application/vnd.jupyter.widget-view+json": {
       "model_id": "3ae44fa0df5140f6b68f7f5262ea14a3",
       "version_major": 2,
       "version_minor": 0
      },
      "text/plain": [
       "diffusion sampling:   0%|          | 0/20 [00:00<?, ?it/s]"
      ]
     },
     "metadata": {},
     "output_type": "display_data"
    },
    {
     "data": {
      "application/vnd.jupyter.widget-view+json": {
       "model_id": "6e57edffbab3492f9abddd4de6dbe28a",
       "version_major": 2,
       "version_minor": 0
      },
      "text/plain": [
       "diffusion sampling:   0%|          | 0/20 [00:00<?, ?it/s]"
      ]
     },
     "metadata": {},
     "output_type": "display_data"
    },
    {
     "data": {
      "application/vnd.jupyter.widget-view+json": {
       "model_id": "97e6c011aa464fb68a1f608927a571a0",
       "version_major": 2,
       "version_minor": 0
      },
      "text/plain": [
       "diffusion sampling:   0%|          | 0/20 [00:00<?, ?it/s]"
      ]
     },
     "metadata": {},
     "output_type": "display_data"
    },
    {
     "data": {
      "application/vnd.jupyter.widget-view+json": {
       "model_id": "58fe8fe2f9ab488e9729aab149416992",
       "version_major": 2,
       "version_minor": 0
      },
      "text/plain": [
       "diffusion sampling:   0%|          | 0/20 [00:00<?, ?it/s]"
      ]
     },
     "metadata": {},
     "output_type": "display_data"
    },
    {
     "data": {
      "application/vnd.jupyter.widget-view+json": {
       "model_id": "24658ef391a14f79850bf397626451a5",
       "version_major": 2,
       "version_minor": 0
      },
      "text/plain": [
       "diffusion sampling:   0%|          | 0/20 [00:00<?, ?it/s]"
      ]
     },
     "metadata": {},
     "output_type": "display_data"
    },
    {
     "data": {
      "application/vnd.jupyter.widget-view+json": {
       "model_id": "70c495e6a3cf43759753832ff687fada",
       "version_major": 2,
       "version_minor": 0
      },
      "text/plain": [
       "class hypothsis:   0%|          | 0/6 [00:00<?, ?it/s]"
      ]
     },
     "metadata": {},
     "output_type": "display_data"
    },
    {
     "data": {
      "application/vnd.jupyter.widget-view+json": {
       "model_id": "ad8955f457ae4891bc242568fe239857",
       "version_major": 2,
       "version_minor": 0
      },
      "text/plain": [
       "diffusion sampling:   0%|          | 0/20 [00:00<?, ?it/s]"
      ]
     },
     "metadata": {},
     "output_type": "display_data"
    },
    {
     "data": {
      "application/vnd.jupyter.widget-view+json": {
       "model_id": "03cb74cf0c4040c1bc87cb90a464ffc3",
       "version_major": 2,
       "version_minor": 0
      },
      "text/plain": [
       "diffusion sampling:   0%|          | 0/20 [00:00<?, ?it/s]"
      ]
     },
     "metadata": {},
     "output_type": "display_data"
    },
    {
     "data": {
      "application/vnd.jupyter.widget-view+json": {
       "model_id": "aaba0ceb7da345009aa299eedffbf4d0",
       "version_major": 2,
       "version_minor": 0
      },
      "text/plain": [
       "diffusion sampling:   0%|          | 0/20 [00:00<?, ?it/s]"
      ]
     },
     "metadata": {},
     "output_type": "display_data"
    },
    {
     "data": {
      "application/vnd.jupyter.widget-view+json": {
       "model_id": "cc08624f2a694d8a8871345ef975e7e9",
       "version_major": 2,
       "version_minor": 0
      },
      "text/plain": [
       "diffusion sampling:   0%|          | 0/20 [00:00<?, ?it/s]"
      ]
     },
     "metadata": {},
     "output_type": "display_data"
    },
    {
     "data": {
      "application/vnd.jupyter.widget-view+json": {
       "model_id": "f5447d2801594dd88f29f2704b0c5335",
       "version_major": 2,
       "version_minor": 0
      },
      "text/plain": [
       "diffusion sampling:   0%|          | 0/20 [00:00<?, ?it/s]"
      ]
     },
     "metadata": {},
     "output_type": "display_data"
    },
    {
     "data": {
      "application/vnd.jupyter.widget-view+json": {
       "model_id": "7de0a0d627aa4302963ae2a708f8b66b",
       "version_major": 2,
       "version_minor": 0
      },
      "text/plain": [
       "diffusion sampling:   0%|          | 0/20 [00:00<?, ?it/s]"
      ]
     },
     "metadata": {},
     "output_type": "display_data"
    },
    {
     "data": {
      "application/vnd.jupyter.widget-view+json": {
       "model_id": "fe272109275d43f0b0e61a199fd2908f",
       "version_major": 2,
       "version_minor": 0
      },
      "text/plain": [
       "class hypothsis:   0%|          | 0/6 [00:00<?, ?it/s]"
      ]
     },
     "metadata": {},
     "output_type": "display_data"
    },
    {
     "data": {
      "application/vnd.jupyter.widget-view+json": {
       "model_id": "37f7dd7261054d66aeaf51d816119ff7",
       "version_major": 2,
       "version_minor": 0
      },
      "text/plain": [
       "diffusion sampling:   0%|          | 0/20 [00:00<?, ?it/s]"
      ]
     },
     "metadata": {},
     "output_type": "display_data"
    },
    {
     "data": {
      "application/vnd.jupyter.widget-view+json": {
       "model_id": "a639461b5d614f0abc98a5963392c18d",
       "version_major": 2,
       "version_minor": 0
      },
      "text/plain": [
       "diffusion sampling:   0%|          | 0/20 [00:00<?, ?it/s]"
      ]
     },
     "metadata": {},
     "output_type": "display_data"
    },
    {
     "data": {
      "application/vnd.jupyter.widget-view+json": {
       "model_id": "201ebfa7b6e64f6aa448f9ac25e999f6",
       "version_major": 2,
       "version_minor": 0
      },
      "text/plain": [
       "diffusion sampling:   0%|          | 0/20 [00:00<?, ?it/s]"
      ]
     },
     "metadata": {},
     "output_type": "display_data"
    },
    {
     "data": {
      "application/vnd.jupyter.widget-view+json": {
       "model_id": "1aaa80f7fcab4e55b636fc800d5c4c3d",
       "version_major": 2,
       "version_minor": 0
      },
      "text/plain": [
       "diffusion sampling:   0%|          | 0/20 [00:00<?, ?it/s]"
      ]
     },
     "metadata": {},
     "output_type": "display_data"
    },
    {
     "data": {
      "application/vnd.jupyter.widget-view+json": {
       "model_id": "3abe77b8c24348d1859098d3218d77ff",
       "version_major": 2,
       "version_minor": 0
      },
      "text/plain": [
       "diffusion sampling:   0%|          | 0/20 [00:00<?, ?it/s]"
      ]
     },
     "metadata": {},
     "output_type": "display_data"
    },
    {
     "data": {
      "application/vnd.jupyter.widget-view+json": {
       "model_id": "e517e336b6834ba290d31231f724b888",
       "version_major": 2,
       "version_minor": 0
      },
      "text/plain": [
       "diffusion sampling:   0%|          | 0/20 [00:00<?, ?it/s]"
      ]
     },
     "metadata": {},
     "output_type": "display_data"
    },
    {
     "data": {
      "application/vnd.jupyter.widget-view+json": {
       "model_id": "70204b64221d488dbd849b73c44c37e6",
       "version_major": 2,
       "version_minor": 0
      },
      "text/plain": [
       "class hypothsis:   0%|          | 0/6 [00:00<?, ?it/s]"
      ]
     },
     "metadata": {},
     "output_type": "display_data"
    },
    {
     "data": {
      "application/vnd.jupyter.widget-view+json": {
       "model_id": "5b938b4b38994dc9af5ae4fb880fc370",
       "version_major": 2,
       "version_minor": 0
      },
      "text/plain": [
       "diffusion sampling:   0%|          | 0/20 [00:00<?, ?it/s]"
      ]
     },
     "metadata": {},
     "output_type": "display_data"
    },
    {
     "data": {
      "application/vnd.jupyter.widget-view+json": {
       "model_id": "d6a91e506fb64105b5baec2899053538",
       "version_major": 2,
       "version_minor": 0
      },
      "text/plain": [
       "diffusion sampling:   0%|          | 0/20 [00:00<?, ?it/s]"
      ]
     },
     "metadata": {},
     "output_type": "display_data"
    },
    {
     "data": {
      "application/vnd.jupyter.widget-view+json": {
       "model_id": "57da6e16615844dcb8e8f42c78cc57cb",
       "version_major": 2,
       "version_minor": 0
      },
      "text/plain": [
       "diffusion sampling:   0%|          | 0/20 [00:00<?, ?it/s]"
      ]
     },
     "metadata": {},
     "output_type": "display_data"
    },
    {
     "data": {
      "application/vnd.jupyter.widget-view+json": {
       "model_id": "eb6c76f2bb724ffaa309aef27cc9b250",
       "version_major": 2,
       "version_minor": 0
      },
      "text/plain": [
       "diffusion sampling:   0%|          | 0/20 [00:00<?, ?it/s]"
      ]
     },
     "metadata": {},
     "output_type": "display_data"
    },
    {
     "data": {
      "application/vnd.jupyter.widget-view+json": {
       "model_id": "8b4010d4490b43c6a91dc2920a91f9ac",
       "version_major": 2,
       "version_minor": 0
      },
      "text/plain": [
       "diffusion sampling:   0%|          | 0/20 [00:00<?, ?it/s]"
      ]
     },
     "metadata": {},
     "output_type": "display_data"
    },
    {
     "data": {
      "application/vnd.jupyter.widget-view+json": {
       "model_id": "2e8a6fbcddfe4d17aa88f11cfada4c7d",
       "version_major": 2,
       "version_minor": 0
      },
      "text/plain": [
       "diffusion sampling:   0%|          | 0/20 [00:00<?, ?it/s]"
      ]
     },
     "metadata": {},
     "output_type": "display_data"
    },
    {
     "data": {
      "application/vnd.jupyter.widget-view+json": {
       "model_id": "fdfd3cfa1efd4e46ae9409dad12945bc",
       "version_major": 2,
       "version_minor": 0
      },
      "text/plain": [
       "class hypothsis:   0%|          | 0/6 [00:00<?, ?it/s]"
      ]
     },
     "metadata": {},
     "output_type": "display_data"
    },
    {
     "data": {
      "application/vnd.jupyter.widget-view+json": {
       "model_id": "e695003a0e5d44e195ca9c6539b18d01",
       "version_major": 2,
       "version_minor": 0
      },
      "text/plain": [
       "diffusion sampling:   0%|          | 0/20 [00:00<?, ?it/s]"
      ]
     },
     "metadata": {},
     "output_type": "display_data"
    },
    {
     "data": {
      "application/vnd.jupyter.widget-view+json": {
       "model_id": "530847261deb4420a1fca5b022b6485a",
       "version_major": 2,
       "version_minor": 0
      },
      "text/plain": [
       "diffusion sampling:   0%|          | 0/20 [00:00<?, ?it/s]"
      ]
     },
     "metadata": {},
     "output_type": "display_data"
    },
    {
     "data": {
      "application/vnd.jupyter.widget-view+json": {
       "model_id": "bfba115c43d544408363ac802638f5c8",
       "version_major": 2,
       "version_minor": 0
      },
      "text/plain": [
       "diffusion sampling:   0%|          | 0/20 [00:00<?, ?it/s]"
      ]
     },
     "metadata": {},
     "output_type": "display_data"
    },
    {
     "data": {
      "application/vnd.jupyter.widget-view+json": {
       "model_id": "06f2dd8a217a4d5993339523234967d3",
       "version_major": 2,
       "version_minor": 0
      },
      "text/plain": [
       "diffusion sampling:   0%|          | 0/20 [00:00<?, ?it/s]"
      ]
     },
     "metadata": {},
     "output_type": "display_data"
    },
    {
     "data": {
      "application/vnd.jupyter.widget-view+json": {
       "model_id": "30f4ce1ce09942f49802e4bcd75fa57e",
       "version_major": 2,
       "version_minor": 0
      },
      "text/plain": [
       "diffusion sampling:   0%|          | 0/20 [00:00<?, ?it/s]"
      ]
     },
     "metadata": {},
     "output_type": "display_data"
    },
    {
     "data": {
      "application/vnd.jupyter.widget-view+json": {
       "model_id": "cbb89df1ec504d68867baf31260770a1",
       "version_major": 2,
       "version_minor": 0
      },
      "text/plain": [
       "diffusion sampling:   0%|          | 0/20 [00:00<?, ?it/s]"
      ]
     },
     "metadata": {},
     "output_type": "display_data"
    },
    {
     "data": {
      "application/vnd.jupyter.widget-view+json": {
       "model_id": "5a8c0a55b77a4f6ebb4003a4a505b35d",
       "version_major": 2,
       "version_minor": 0
      },
      "text/plain": [
       "class hypothsis:   0%|          | 0/6 [00:00<?, ?it/s]"
      ]
     },
     "metadata": {},
     "output_type": "display_data"
    },
    {
     "data": {
      "application/vnd.jupyter.widget-view+json": {
       "model_id": "32ff2cbdd0a94562baa8db682dfd35ef",
       "version_major": 2,
       "version_minor": 0
      },
      "text/plain": [
       "diffusion sampling:   0%|          | 0/20 [00:00<?, ?it/s]"
      ]
     },
     "metadata": {},
     "output_type": "display_data"
    },
    {
     "data": {
      "application/vnd.jupyter.widget-view+json": {
       "model_id": "c09fa5bd037846e1a487a8dfd3d94d4f",
       "version_major": 2,
       "version_minor": 0
      },
      "text/plain": [
       "diffusion sampling:   0%|          | 0/20 [00:00<?, ?it/s]"
      ]
     },
     "metadata": {},
     "output_type": "display_data"
    },
    {
     "data": {
      "application/vnd.jupyter.widget-view+json": {
       "model_id": "75c30b7bed9e4f3384737d4e9d749b01",
       "version_major": 2,
       "version_minor": 0
      },
      "text/plain": [
       "diffusion sampling:   0%|          | 0/20 [00:00<?, ?it/s]"
      ]
     },
     "metadata": {},
     "output_type": "display_data"
    },
    {
     "data": {
      "application/vnd.jupyter.widget-view+json": {
       "model_id": "c77c98c6a77541549a952e9a3eb7e2bc",
       "version_major": 2,
       "version_minor": 0
      },
      "text/plain": [
       "diffusion sampling:   0%|          | 0/20 [00:00<?, ?it/s]"
      ]
     },
     "metadata": {},
     "output_type": "display_data"
    },
    {
     "data": {
      "application/vnd.jupyter.widget-view+json": {
       "model_id": "04813007b1a04589910516228179abdf",
       "version_major": 2,
       "version_minor": 0
      },
      "text/plain": [
       "diffusion sampling:   0%|          | 0/20 [00:00<?, ?it/s]"
      ]
     },
     "metadata": {},
     "output_type": "display_data"
    },
    {
     "data": {
      "application/vnd.jupyter.widget-view+json": {
       "model_id": "92663539ab2741a3b10ca79e93c5507a",
       "version_major": 2,
       "version_minor": 0
      },
      "text/plain": [
       "diffusion sampling:   0%|          | 0/20 [00:00<?, ?it/s]"
      ]
     },
     "metadata": {},
     "output_type": "display_data"
    },
    {
     "data": {
      "application/vnd.jupyter.widget-view+json": {
       "model_id": "4c19f65c78dc41ae928c8c68ec062e9a",
       "version_major": 2,
       "version_minor": 0
      },
      "text/plain": [
       "class hypothsis:   0%|          | 0/6 [00:00<?, ?it/s]"
      ]
     },
     "metadata": {},
     "output_type": "display_data"
    },
    {
     "data": {
      "application/vnd.jupyter.widget-view+json": {
       "model_id": "6f2d1fa16cee4aab9bd9a62e8c607ed0",
       "version_major": 2,
       "version_minor": 0
      },
      "text/plain": [
       "diffusion sampling:   0%|          | 0/20 [00:00<?, ?it/s]"
      ]
     },
     "metadata": {},
     "output_type": "display_data"
    },
    {
     "data": {
      "application/vnd.jupyter.widget-view+json": {
       "model_id": "559e330f223c4121a5eaf1c49af0021f",
       "version_major": 2,
       "version_minor": 0
      },
      "text/plain": [
       "diffusion sampling:   0%|          | 0/20 [00:00<?, ?it/s]"
      ]
     },
     "metadata": {},
     "output_type": "display_data"
    },
    {
     "data": {
      "application/vnd.jupyter.widget-view+json": {
       "model_id": "91d20b03f2fe484f962ddb6f3d35f208",
       "version_major": 2,
       "version_minor": 0
      },
      "text/plain": [
       "diffusion sampling:   0%|          | 0/20 [00:00<?, ?it/s]"
      ]
     },
     "metadata": {},
     "output_type": "display_data"
    },
    {
     "data": {
      "application/vnd.jupyter.widget-view+json": {
       "model_id": "8161275b38604f47a5c790f379efd8a2",
       "version_major": 2,
       "version_minor": 0
      },
      "text/plain": [
       "diffusion sampling:   0%|          | 0/20 [00:00<?, ?it/s]"
      ]
     },
     "metadata": {},
     "output_type": "display_data"
    },
    {
     "data": {
      "application/vnd.jupyter.widget-view+json": {
       "model_id": "7961da7b8da24fc3aadd7b636ca1f6fd",
       "version_major": 2,
       "version_minor": 0
      },
      "text/plain": [
       "diffusion sampling:   0%|          | 0/20 [00:00<?, ?it/s]"
      ]
     },
     "metadata": {},
     "output_type": "display_data"
    },
    {
     "data": {
      "application/vnd.jupyter.widget-view+json": {
       "model_id": "c1672fbaf3f44329973d96947ae1b4ee",
       "version_major": 2,
       "version_minor": 0
      },
      "text/plain": [
       "diffusion sampling:   0%|          | 0/20 [00:00<?, ?it/s]"
      ]
     },
     "metadata": {},
     "output_type": "display_data"
    },
    {
     "data": {
      "application/vnd.jupyter.widget-view+json": {
       "model_id": "ee93808a06e944528eb3ba6c46def6da",
       "version_major": 2,
       "version_minor": 0
      },
      "text/plain": [
       "class hypothsis:   0%|          | 0/6 [00:00<?, ?it/s]"
      ]
     },
     "metadata": {},
     "output_type": "display_data"
    },
    {
     "data": {
      "application/vnd.jupyter.widget-view+json": {
       "model_id": "5f3f52a9ba0a431797d1c5412208c8b2",
       "version_major": 2,
       "version_minor": 0
      },
      "text/plain": [
       "diffusion sampling:   0%|          | 0/20 [00:00<?, ?it/s]"
      ]
     },
     "metadata": {},
     "output_type": "display_data"
    },
    {
     "data": {
      "application/vnd.jupyter.widget-view+json": {
       "model_id": "dd5fdc684166458c861b613bfac1966f",
       "version_major": 2,
       "version_minor": 0
      },
      "text/plain": [
       "diffusion sampling:   0%|          | 0/20 [00:00<?, ?it/s]"
      ]
     },
     "metadata": {},
     "output_type": "display_data"
    },
    {
     "data": {
      "application/vnd.jupyter.widget-view+json": {
       "model_id": "37a6d655ebfd43e2bf176414fd9a9172",
       "version_major": 2,
       "version_minor": 0
      },
      "text/plain": [
       "diffusion sampling:   0%|          | 0/20 [00:00<?, ?it/s]"
      ]
     },
     "metadata": {},
     "output_type": "display_data"
    },
    {
     "data": {
      "application/vnd.jupyter.widget-view+json": {
       "model_id": "e76ee538329a4116b09b6c99a63d1b78",
       "version_major": 2,
       "version_minor": 0
      },
      "text/plain": [
       "diffusion sampling:   0%|          | 0/20 [00:00<?, ?it/s]"
      ]
     },
     "metadata": {},
     "output_type": "display_data"
    },
    {
     "data": {
      "application/vnd.jupyter.widget-view+json": {
       "model_id": "d4af2984ede94a6c8d15b8b8540396e1",
       "version_major": 2,
       "version_minor": 0
      },
      "text/plain": [
       "diffusion sampling:   0%|          | 0/20 [00:00<?, ?it/s]"
      ]
     },
     "metadata": {},
     "output_type": "display_data"
    },
    {
     "data": {
      "application/vnd.jupyter.widget-view+json": {
       "model_id": "fb42bea79a5744589f6b15d0c061d030",
       "version_major": 2,
       "version_minor": 0
      },
      "text/plain": [
       "diffusion sampling:   0%|          | 0/20 [00:00<?, ?it/s]"
      ]
     },
     "metadata": {},
     "output_type": "display_data"
    },
    {
     "data": {
      "application/vnd.jupyter.widget-view+json": {
       "model_id": "c0c913d6c1f5452d9dc6b3289653d3ba",
       "version_major": 2,
       "version_minor": 0
      },
      "text/plain": [
       "class hypothsis:   0%|          | 0/6 [00:00<?, ?it/s]"
      ]
     },
     "metadata": {},
     "output_type": "display_data"
    },
    {
     "data": {
      "application/vnd.jupyter.widget-view+json": {
       "model_id": "9ee3e847598a4842aec62d4b781f4071",
       "version_major": 2,
       "version_minor": 0
      },
      "text/plain": [
       "diffusion sampling:   0%|          | 0/20 [00:00<?, ?it/s]"
      ]
     },
     "metadata": {},
     "output_type": "display_data"
    },
    {
     "data": {
      "application/vnd.jupyter.widget-view+json": {
       "model_id": "181aabf52428476fb328f49e8b215b31",
       "version_major": 2,
       "version_minor": 0
      },
      "text/plain": [
       "diffusion sampling:   0%|          | 0/20 [00:00<?, ?it/s]"
      ]
     },
     "metadata": {},
     "output_type": "display_data"
    },
    {
     "data": {
      "application/vnd.jupyter.widget-view+json": {
       "model_id": "73ca209898ae48cc9c21e822f17f76e6",
       "version_major": 2,
       "version_minor": 0
      },
      "text/plain": [
       "diffusion sampling:   0%|          | 0/20 [00:00<?, ?it/s]"
      ]
     },
     "metadata": {},
     "output_type": "display_data"
    },
    {
     "data": {
      "application/vnd.jupyter.widget-view+json": {
       "model_id": "38cab512fbbc410c8c6cdbeae0ed14ba",
       "version_major": 2,
       "version_minor": 0
      },
      "text/plain": [
       "diffusion sampling:   0%|          | 0/20 [00:00<?, ?it/s]"
      ]
     },
     "metadata": {},
     "output_type": "display_data"
    },
    {
     "data": {
      "application/vnd.jupyter.widget-view+json": {
       "model_id": "8facc338f93b4214be388b0314ef7077",
       "version_major": 2,
       "version_minor": 0
      },
      "text/plain": [
       "diffusion sampling:   0%|          | 0/20 [00:00<?, ?it/s]"
      ]
     },
     "metadata": {},
     "output_type": "display_data"
    },
    {
     "data": {
      "application/vnd.jupyter.widget-view+json": {
       "model_id": "17ef86c87be740dfb11f6483c522e5f7",
       "version_major": 2,
       "version_minor": 0
      },
      "text/plain": [
       "diffusion sampling:   0%|          | 0/20 [00:00<?, ?it/s]"
      ]
     },
     "metadata": {},
     "output_type": "display_data"
    },
    {
     "data": {
      "application/vnd.jupyter.widget-view+json": {
       "model_id": "1b58ee435da5405f9d8f672026682a81",
       "version_major": 2,
       "version_minor": 0
      },
      "text/plain": [
       "class hypothsis:   0%|          | 0/6 [00:00<?, ?it/s]"
      ]
     },
     "metadata": {},
     "output_type": "display_data"
    },
    {
     "data": {
      "application/vnd.jupyter.widget-view+json": {
       "model_id": "0fd45788d2c1497d83d23762495ea013",
       "version_major": 2,
       "version_minor": 0
      },
      "text/plain": [
       "diffusion sampling:   0%|          | 0/20 [00:00<?, ?it/s]"
      ]
     },
     "metadata": {},
     "output_type": "display_data"
    },
    {
     "data": {
      "application/vnd.jupyter.widget-view+json": {
       "model_id": "90e43b79e4ef4b6c96529db48f2f778e",
       "version_major": 2,
       "version_minor": 0
      },
      "text/plain": [
       "diffusion sampling:   0%|          | 0/20 [00:00<?, ?it/s]"
      ]
     },
     "metadata": {},
     "output_type": "display_data"
    },
    {
     "data": {
      "application/vnd.jupyter.widget-view+json": {
       "model_id": "7504266eda614d6eb7a64345f0801b53",
       "version_major": 2,
       "version_minor": 0
      },
      "text/plain": [
       "diffusion sampling:   0%|          | 0/20 [00:00<?, ?it/s]"
      ]
     },
     "metadata": {},
     "output_type": "display_data"
    },
    {
     "data": {
      "application/vnd.jupyter.widget-view+json": {
       "model_id": "f6ef94dfae4d4677822b7de2359463d4",
       "version_major": 2,
       "version_minor": 0
      },
      "text/plain": [
       "diffusion sampling:   0%|          | 0/20 [00:00<?, ?it/s]"
      ]
     },
     "metadata": {},
     "output_type": "display_data"
    },
    {
     "data": {
      "application/vnd.jupyter.widget-view+json": {
       "model_id": "717582dad187442aa70596917360acb7",
       "version_major": 2,
       "version_minor": 0
      },
      "text/plain": [
       "diffusion sampling:   0%|          | 0/20 [00:00<?, ?it/s]"
      ]
     },
     "metadata": {},
     "output_type": "display_data"
    },
    {
     "data": {
      "application/vnd.jupyter.widget-view+json": {
       "model_id": "379fe0f0d0284abca793752004a200cc",
       "version_major": 2,
       "version_minor": 0
      },
      "text/plain": [
       "diffusion sampling:   0%|          | 0/20 [00:00<?, ?it/s]"
      ]
     },
     "metadata": {},
     "output_type": "display_data"
    },
    {
     "data": {
      "application/vnd.jupyter.widget-view+json": {
       "model_id": "5cb3c17aaa6a480b9ae067198cce366b",
       "version_major": 2,
       "version_minor": 0
      },
      "text/plain": [
       "class hypothsis:   0%|          | 0/6 [00:00<?, ?it/s]"
      ]
     },
     "metadata": {},
     "output_type": "display_data"
    },
    {
     "data": {
      "application/vnd.jupyter.widget-view+json": {
       "model_id": "fc0b5888b2f346e799d313d33308f094",
       "version_major": 2,
       "version_minor": 0
      },
      "text/plain": [
       "diffusion sampling:   0%|          | 0/20 [00:00<?, ?it/s]"
      ]
     },
     "metadata": {},
     "output_type": "display_data"
    },
    {
     "data": {
      "application/vnd.jupyter.widget-view+json": {
       "model_id": "067007ca6956469588799b79351c1b73",
       "version_major": 2,
       "version_minor": 0
      },
      "text/plain": [
       "diffusion sampling:   0%|          | 0/20 [00:00<?, ?it/s]"
      ]
     },
     "metadata": {},
     "output_type": "display_data"
    },
    {
     "data": {
      "application/vnd.jupyter.widget-view+json": {
       "model_id": "b8c650b1de084ef4a8b12cd3bf55b247",
       "version_major": 2,
       "version_minor": 0
      },
      "text/plain": [
       "diffusion sampling:   0%|          | 0/20 [00:00<?, ?it/s]"
      ]
     },
     "metadata": {},
     "output_type": "display_data"
    },
    {
     "data": {
      "application/vnd.jupyter.widget-view+json": {
       "model_id": "53eda98d5a604929bceb3872662bd01c",
       "version_major": 2,
       "version_minor": 0
      },
      "text/plain": [
       "diffusion sampling:   0%|          | 0/20 [00:00<?, ?it/s]"
      ]
     },
     "metadata": {},
     "output_type": "display_data"
    },
    {
     "data": {
      "application/vnd.jupyter.widget-view+json": {
       "model_id": "0ee0fe1d5544450cb100f5c093acb201",
       "version_major": 2,
       "version_minor": 0
      },
      "text/plain": [
       "diffusion sampling:   0%|          | 0/20 [00:00<?, ?it/s]"
      ]
     },
     "metadata": {},
     "output_type": "display_data"
    },
    {
     "data": {
      "application/vnd.jupyter.widget-view+json": {
       "model_id": "01647948d9bd424d800dbc7bbd33b2cf",
       "version_major": 2,
       "version_minor": 0
      },
      "text/plain": [
       "diffusion sampling:   0%|          | 0/20 [00:00<?, ?it/s]"
      ]
     },
     "metadata": {},
     "output_type": "display_data"
    },
    {
     "data": {
      "application/vnd.jupyter.widget-view+json": {
       "model_id": "9103ec6cb05c42dbbcd132c161f3b489",
       "version_major": 2,
       "version_minor": 0
      },
      "text/plain": [
       "class hypothsis:   0%|          | 0/6 [00:00<?, ?it/s]"
      ]
     },
     "metadata": {},
     "output_type": "display_data"
    },
    {
     "data": {
      "application/vnd.jupyter.widget-view+json": {
       "model_id": "c7f693276f3543ec85208fd0a2a81fbd",
       "version_major": 2,
       "version_minor": 0
      },
      "text/plain": [
       "diffusion sampling:   0%|          | 0/20 [00:00<?, ?it/s]"
      ]
     },
     "metadata": {},
     "output_type": "display_data"
    },
    {
     "data": {
      "application/vnd.jupyter.widget-view+json": {
       "model_id": "2058433ba44e41fa88c83cc7bbbedac7",
       "version_major": 2,
       "version_minor": 0
      },
      "text/plain": [
       "diffusion sampling:   0%|          | 0/20 [00:00<?, ?it/s]"
      ]
     },
     "metadata": {},
     "output_type": "display_data"
    },
    {
     "data": {
      "application/vnd.jupyter.widget-view+json": {
       "model_id": "919673ff9e0a45aaaba87b9e07accf23",
       "version_major": 2,
       "version_minor": 0
      },
      "text/plain": [
       "diffusion sampling:   0%|          | 0/20 [00:00<?, ?it/s]"
      ]
     },
     "metadata": {},
     "output_type": "display_data"
    },
    {
     "data": {
      "application/vnd.jupyter.widget-view+json": {
       "model_id": "1e069882b9a14b73815184e6cda5459d",
       "version_major": 2,
       "version_minor": 0
      },
      "text/plain": [
       "diffusion sampling:   0%|          | 0/20 [00:00<?, ?it/s]"
      ]
     },
     "metadata": {},
     "output_type": "display_data"
    },
    {
     "data": {
      "application/vnd.jupyter.widget-view+json": {
       "model_id": "5ed5b1c1c29d47c6a02f2944c846750d",
       "version_major": 2,
       "version_minor": 0
      },
      "text/plain": [
       "diffusion sampling:   0%|          | 0/20 [00:00<?, ?it/s]"
      ]
     },
     "metadata": {},
     "output_type": "display_data"
    },
    {
     "data": {
      "application/vnd.jupyter.widget-view+json": {
       "model_id": "07fc55a487434d649e9cd7b4d36606a7",
       "version_major": 2,
       "version_minor": 0
      },
      "text/plain": [
       "diffusion sampling:   0%|          | 0/20 [00:00<?, ?it/s]"
      ]
     },
     "metadata": {},
     "output_type": "display_data"
    },
    {
     "data": {
      "application/vnd.jupyter.widget-view+json": {
       "model_id": "86f24490098949bc8b7184bd07e47295",
       "version_major": 2,
       "version_minor": 0
      },
      "text/plain": [
       "class hypothsis:   0%|          | 0/6 [00:00<?, ?it/s]"
      ]
     },
     "metadata": {},
     "output_type": "display_data"
    },
    {
     "data": {
      "application/vnd.jupyter.widget-view+json": {
       "model_id": "72028cea6c034eeca44cb19a653ccf6d",
       "version_major": 2,
       "version_minor": 0
      },
      "text/plain": [
       "diffusion sampling:   0%|          | 0/20 [00:00<?, ?it/s]"
      ]
     },
     "metadata": {},
     "output_type": "display_data"
    },
    {
     "data": {
      "application/vnd.jupyter.widget-view+json": {
       "model_id": "6edfbcc7db2e40b5b603c50293a661d8",
       "version_major": 2,
       "version_minor": 0
      },
      "text/plain": [
       "diffusion sampling:   0%|          | 0/20 [00:00<?, ?it/s]"
      ]
     },
     "metadata": {},
     "output_type": "display_data"
    },
    {
     "data": {
      "application/vnd.jupyter.widget-view+json": {
       "model_id": "59880c6900eb4199b757b165af75edc2",
       "version_major": 2,
       "version_minor": 0
      },
      "text/plain": [
       "diffusion sampling:   0%|          | 0/20 [00:00<?, ?it/s]"
      ]
     },
     "metadata": {},
     "output_type": "display_data"
    },
    {
     "data": {
      "application/vnd.jupyter.widget-view+json": {
       "model_id": "e453def5788245ffa83f2fed78b0d133",
       "version_major": 2,
       "version_minor": 0
      },
      "text/plain": [
       "diffusion sampling:   0%|          | 0/20 [00:00<?, ?it/s]"
      ]
     },
     "metadata": {},
     "output_type": "display_data"
    },
    {
     "data": {
      "application/vnd.jupyter.widget-view+json": {
       "model_id": "2650bc0b0c83428db50494815947379a",
       "version_major": 2,
       "version_minor": 0
      },
      "text/plain": [
       "diffusion sampling:   0%|          | 0/20 [00:00<?, ?it/s]"
      ]
     },
     "metadata": {},
     "output_type": "display_data"
    },
    {
     "data": {
      "application/vnd.jupyter.widget-view+json": {
       "model_id": "21934e869fad40e78e978a191e4d538b",
       "version_major": 2,
       "version_minor": 0
      },
      "text/plain": [
       "diffusion sampling:   0%|          | 0/20 [00:00<?, ?it/s]"
      ]
     },
     "metadata": {},
     "output_type": "display_data"
    },
    {
     "data": {
      "application/vnd.jupyter.widget-view+json": {
       "model_id": "1209a5a673fe41ca821eb94d34346a1a",
       "version_major": 2,
       "version_minor": 0
      },
      "text/plain": [
       "class hypothsis:   0%|          | 0/6 [00:00<?, ?it/s]"
      ]
     },
     "metadata": {},
     "output_type": "display_data"
    },
    {
     "data": {
      "application/vnd.jupyter.widget-view+json": {
       "model_id": "75d604b6d28149d8ab1aac2ecc7ee63c",
       "version_major": 2,
       "version_minor": 0
      },
      "text/plain": [
       "diffusion sampling:   0%|          | 0/20 [00:00<?, ?it/s]"
      ]
     },
     "metadata": {},
     "output_type": "display_data"
    },
    {
     "data": {
      "application/vnd.jupyter.widget-view+json": {
       "model_id": "b66ae8a107e24759b561cb0bb7010122",
       "version_major": 2,
       "version_minor": 0
      },
      "text/plain": [
       "diffusion sampling:   0%|          | 0/20 [00:00<?, ?it/s]"
      ]
     },
     "metadata": {},
     "output_type": "display_data"
    },
    {
     "data": {
      "application/vnd.jupyter.widget-view+json": {
       "model_id": "0f58266d2cf3431daa6550c8062f2af7",
       "version_major": 2,
       "version_minor": 0
      },
      "text/plain": [
       "diffusion sampling:   0%|          | 0/20 [00:00<?, ?it/s]"
      ]
     },
     "metadata": {},
     "output_type": "display_data"
    },
    {
     "data": {
      "application/vnd.jupyter.widget-view+json": {
       "model_id": "5a9a3e8709af4536b31e425b243366ee",
       "version_major": 2,
       "version_minor": 0
      },
      "text/plain": [
       "diffusion sampling:   0%|          | 0/20 [00:00<?, ?it/s]"
      ]
     },
     "metadata": {},
     "output_type": "display_data"
    },
    {
     "data": {
      "application/vnd.jupyter.widget-view+json": {
       "model_id": "932e335a1eb345499228c7a183ad14a6",
       "version_major": 2,
       "version_minor": 0
      },
      "text/plain": [
       "diffusion sampling:   0%|          | 0/20 [00:00<?, ?it/s]"
      ]
     },
     "metadata": {},
     "output_type": "display_data"
    },
    {
     "data": {
      "application/vnd.jupyter.widget-view+json": {
       "model_id": "a510f0799d6d4288bb0b370f9fc971fd",
       "version_major": 2,
       "version_minor": 0
      },
      "text/plain": [
       "diffusion sampling:   0%|          | 0/20 [00:00<?, ?it/s]"
      ]
     },
     "metadata": {},
     "output_type": "display_data"
    },
    {
     "data": {
      "application/vnd.jupyter.widget-view+json": {
       "model_id": "ed96c30f9fda404e9136d44fe83585a3",
       "version_major": 2,
       "version_minor": 0
      },
      "text/plain": [
       "class hypothsis:   0%|          | 0/6 [00:00<?, ?it/s]"
      ]
     },
     "metadata": {},
     "output_type": "display_data"
    },
    {
     "data": {
      "application/vnd.jupyter.widget-view+json": {
       "model_id": "09affcd2fbe142448d17b5c72199071a",
       "version_major": 2,
       "version_minor": 0
      },
      "text/plain": [
       "diffusion sampling:   0%|          | 0/20 [00:00<?, ?it/s]"
      ]
     },
     "metadata": {},
     "output_type": "display_data"
    },
    {
     "data": {
      "application/vnd.jupyter.widget-view+json": {
       "model_id": "670953095f574eafbe5ae42e259b4856",
       "version_major": 2,
       "version_minor": 0
      },
      "text/plain": [
       "diffusion sampling:   0%|          | 0/20 [00:00<?, ?it/s]"
      ]
     },
     "metadata": {},
     "output_type": "display_data"
    },
    {
     "data": {
      "application/vnd.jupyter.widget-view+json": {
       "model_id": "c84c472f0c0a49e39694291ca198bc81",
       "version_major": 2,
       "version_minor": 0
      },
      "text/plain": [
       "diffusion sampling:   0%|          | 0/20 [00:00<?, ?it/s]"
      ]
     },
     "metadata": {},
     "output_type": "display_data"
    },
    {
     "data": {
      "application/vnd.jupyter.widget-view+json": {
       "model_id": "f143ca17f41142aeaf24597d419b556d",
       "version_major": 2,
       "version_minor": 0
      },
      "text/plain": [
       "diffusion sampling:   0%|          | 0/20 [00:00<?, ?it/s]"
      ]
     },
     "metadata": {},
     "output_type": "display_data"
    },
    {
     "data": {
      "application/vnd.jupyter.widget-view+json": {
       "model_id": "c557646857df490e9f528561a364155e",
       "version_major": 2,
       "version_minor": 0
      },
      "text/plain": [
       "diffusion sampling:   0%|          | 0/20 [00:00<?, ?it/s]"
      ]
     },
     "metadata": {},
     "output_type": "display_data"
    },
    {
     "data": {
      "application/vnd.jupyter.widget-view+json": {
       "model_id": "97c5928e391a46c6b7812912d78fd419",
       "version_major": 2,
       "version_minor": 0
      },
      "text/plain": [
       "diffusion sampling:   0%|          | 0/20 [00:00<?, ?it/s]"
      ]
     },
     "metadata": {},
     "output_type": "display_data"
    },
    {
     "data": {
      "application/vnd.jupyter.widget-view+json": {
       "model_id": "1f9bd575c08e465d860097c9157012d0",
       "version_major": 2,
       "version_minor": 0
      },
      "text/plain": [
       "class hypothsis:   0%|          | 0/6 [00:00<?, ?it/s]"
      ]
     },
     "metadata": {},
     "output_type": "display_data"
    },
    {
     "data": {
      "application/vnd.jupyter.widget-view+json": {
       "model_id": "6042e2fe49544261ab2d4c5c450f511c",
       "version_major": 2,
       "version_minor": 0
      },
      "text/plain": [
       "diffusion sampling:   0%|          | 0/20 [00:00<?, ?it/s]"
      ]
     },
     "metadata": {},
     "output_type": "display_data"
    },
    {
     "data": {
      "application/vnd.jupyter.widget-view+json": {
       "model_id": "3fbc2c61fe8846bb9fbc3e4ea5871a4e",
       "version_major": 2,
       "version_minor": 0
      },
      "text/plain": [
       "diffusion sampling:   0%|          | 0/20 [00:00<?, ?it/s]"
      ]
     },
     "metadata": {},
     "output_type": "display_data"
    },
    {
     "data": {
      "application/vnd.jupyter.widget-view+json": {
       "model_id": "aa84002bdcf94e6bb3072e5f79382d37",
       "version_major": 2,
       "version_minor": 0
      },
      "text/plain": [
       "diffusion sampling:   0%|          | 0/20 [00:00<?, ?it/s]"
      ]
     },
     "metadata": {},
     "output_type": "display_data"
    },
    {
     "data": {
      "application/vnd.jupyter.widget-view+json": {
       "model_id": "0405b1c38660466f827bfba6c44f6a86",
       "version_major": 2,
       "version_minor": 0
      },
      "text/plain": [
       "diffusion sampling:   0%|          | 0/20 [00:00<?, ?it/s]"
      ]
     },
     "metadata": {},
     "output_type": "display_data"
    },
    {
     "data": {
      "application/vnd.jupyter.widget-view+json": {
       "model_id": "896a0bfdcd554ee1874ad996d74ed168",
       "version_major": 2,
       "version_minor": 0
      },
      "text/plain": [
       "diffusion sampling:   0%|          | 0/20 [00:00<?, ?it/s]"
      ]
     },
     "metadata": {},
     "output_type": "display_data"
    },
    {
     "data": {
      "application/vnd.jupyter.widget-view+json": {
       "model_id": "46640eb36c744b818f67a66a2c16fb20",
       "version_major": 2,
       "version_minor": 0
      },
      "text/plain": [
       "diffusion sampling:   0%|          | 0/20 [00:00<?, ?it/s]"
      ]
     },
     "metadata": {},
     "output_type": "display_data"
    },
    {
     "data": {
      "application/vnd.jupyter.widget-view+json": {
       "model_id": "1d2acff766d44995a9400e40e0f80488",
       "version_major": 2,
       "version_minor": 0
      },
      "text/plain": [
       "class hypothsis:   0%|          | 0/6 [00:00<?, ?it/s]"
      ]
     },
     "metadata": {},
     "output_type": "display_data"
    },
    {
     "data": {
      "application/vnd.jupyter.widget-view+json": {
       "model_id": "541b66ebc6964ebf843ad567481dd40f",
       "version_major": 2,
       "version_minor": 0
      },
      "text/plain": [
       "diffusion sampling:   0%|          | 0/20 [00:00<?, ?it/s]"
      ]
     },
     "metadata": {},
     "output_type": "display_data"
    },
    {
     "data": {
      "application/vnd.jupyter.widget-view+json": {
       "model_id": "fd9d450262d7488f9ea7fab3961c0c5c",
       "version_major": 2,
       "version_minor": 0
      },
      "text/plain": [
       "diffusion sampling:   0%|          | 0/20 [00:00<?, ?it/s]"
      ]
     },
     "metadata": {},
     "output_type": "display_data"
    },
    {
     "data": {
      "application/vnd.jupyter.widget-view+json": {
       "model_id": "1207a3f22cbf4f99bbb3101444a2f6ce",
       "version_major": 2,
       "version_minor": 0
      },
      "text/plain": [
       "diffusion sampling:   0%|          | 0/20 [00:00<?, ?it/s]"
      ]
     },
     "metadata": {},
     "output_type": "display_data"
    },
    {
     "data": {
      "application/vnd.jupyter.widget-view+json": {
       "model_id": "654be125de954753b4e1ba7b318d348e",
       "version_major": 2,
       "version_minor": 0
      },
      "text/plain": [
       "diffusion sampling:   0%|          | 0/20 [00:00<?, ?it/s]"
      ]
     },
     "metadata": {},
     "output_type": "display_data"
    },
    {
     "data": {
      "application/vnd.jupyter.widget-view+json": {
       "model_id": "e7eac794fef04a6ba026cd2535c31bdf",
       "version_major": 2,
       "version_minor": 0
      },
      "text/plain": [
       "diffusion sampling:   0%|          | 0/20 [00:00<?, ?it/s]"
      ]
     },
     "metadata": {},
     "output_type": "display_data"
    },
    {
     "data": {
      "application/vnd.jupyter.widget-view+json": {
       "model_id": "08552f8228d14bc19fd56e0947b1f624",
       "version_major": 2,
       "version_minor": 0
      },
      "text/plain": [
       "diffusion sampling:   0%|          | 0/20 [00:00<?, ?it/s]"
      ]
     },
     "metadata": {},
     "output_type": "display_data"
    },
    {
     "data": {
      "application/vnd.jupyter.widget-view+json": {
       "model_id": "d1e7a2656c4340c48a8e37bdeee8b770",
       "version_major": 2,
       "version_minor": 0
      },
      "text/plain": [
       "class hypothsis:   0%|          | 0/6 [00:00<?, ?it/s]"
      ]
     },
     "metadata": {},
     "output_type": "display_data"
    },
    {
     "data": {
      "application/vnd.jupyter.widget-view+json": {
       "model_id": "ea9f8f92ed91471f858a4cfd8abc88b3",
       "version_major": 2,
       "version_minor": 0
      },
      "text/plain": [
       "diffusion sampling:   0%|          | 0/20 [00:00<?, ?it/s]"
      ]
     },
     "metadata": {},
     "output_type": "display_data"
    },
    {
     "data": {
      "application/vnd.jupyter.widget-view+json": {
       "model_id": "c69ba192f74d4df79d51b375712ee6be",
       "version_major": 2,
       "version_minor": 0
      },
      "text/plain": [
       "diffusion sampling:   0%|          | 0/20 [00:00<?, ?it/s]"
      ]
     },
     "metadata": {},
     "output_type": "display_data"
    },
    {
     "data": {
      "application/vnd.jupyter.widget-view+json": {
       "model_id": "dc1fc0c888ab4c3a9710e3f0df46ce08",
       "version_major": 2,
       "version_minor": 0
      },
      "text/plain": [
       "diffusion sampling:   0%|          | 0/20 [00:00<?, ?it/s]"
      ]
     },
     "metadata": {},
     "output_type": "display_data"
    },
    {
     "data": {
      "application/vnd.jupyter.widget-view+json": {
       "model_id": "d10dd26c49cd44128569ceded62b926e",
       "version_major": 2,
       "version_minor": 0
      },
      "text/plain": [
       "diffusion sampling:   0%|          | 0/20 [00:00<?, ?it/s]"
      ]
     },
     "metadata": {},
     "output_type": "display_data"
    },
    {
     "data": {
      "application/vnd.jupyter.widget-view+json": {
       "model_id": "044899de75d94977aa22657e6737bffb",
       "version_major": 2,
       "version_minor": 0
      },
      "text/plain": [
       "diffusion sampling:   0%|          | 0/20 [00:00<?, ?it/s]"
      ]
     },
     "metadata": {},
     "output_type": "display_data"
    },
    {
     "data": {
      "application/vnd.jupyter.widget-view+json": {
       "model_id": "0400381b383d445fbd95ec4f3dc08ae1",
       "version_major": 2,
       "version_minor": 0
      },
      "text/plain": [
       "diffusion sampling:   0%|          | 0/20 [00:00<?, ?it/s]"
      ]
     },
     "metadata": {},
     "output_type": "display_data"
    },
    {
     "data": {
      "application/vnd.jupyter.widget-view+json": {
       "model_id": "44c5e84b506f4383b20863aff359e656",
       "version_major": 2,
       "version_minor": 0
      },
      "text/plain": [
       "class hypothsis:   0%|          | 0/6 [00:00<?, ?it/s]"
      ]
     },
     "metadata": {},
     "output_type": "display_data"
    },
    {
     "data": {
      "application/vnd.jupyter.widget-view+json": {
       "model_id": "1abaccde22ec4d1da09700f3d15a2982",
       "version_major": 2,
       "version_minor": 0
      },
      "text/plain": [
       "diffusion sampling:   0%|          | 0/20 [00:00<?, ?it/s]"
      ]
     },
     "metadata": {},
     "output_type": "display_data"
    },
    {
     "data": {
      "application/vnd.jupyter.widget-view+json": {
       "model_id": "ca9972d73d6649479cce1667bbbbbed6",
       "version_major": 2,
       "version_minor": 0
      },
      "text/plain": [
       "diffusion sampling:   0%|          | 0/20 [00:00<?, ?it/s]"
      ]
     },
     "metadata": {},
     "output_type": "display_data"
    },
    {
     "data": {
      "application/vnd.jupyter.widget-view+json": {
       "model_id": "cc69ed9c0d7441b1bb1e5d6b5da96cd2",
       "version_major": 2,
       "version_minor": 0
      },
      "text/plain": [
       "diffusion sampling:   0%|          | 0/20 [00:00<?, ?it/s]"
      ]
     },
     "metadata": {},
     "output_type": "display_data"
    },
    {
     "data": {
      "application/vnd.jupyter.widget-view+json": {
       "model_id": "5ad4ff8e51f14ef3ad732930f16371bf",
       "version_major": 2,
       "version_minor": 0
      },
      "text/plain": [
       "diffusion sampling:   0%|          | 0/20 [00:00<?, ?it/s]"
      ]
     },
     "metadata": {},
     "output_type": "display_data"
    },
    {
     "data": {
      "application/vnd.jupyter.widget-view+json": {
       "model_id": "8dedf92335b64cfc83926740cd511c80",
       "version_major": 2,
       "version_minor": 0
      },
      "text/plain": [
       "diffusion sampling:   0%|          | 0/20 [00:00<?, ?it/s]"
      ]
     },
     "metadata": {},
     "output_type": "display_data"
    },
    {
     "data": {
      "application/vnd.jupyter.widget-view+json": {
       "model_id": "e2fce29ab74a45eea3cad95a919d609d",
       "version_major": 2,
       "version_minor": 0
      },
      "text/plain": [
       "diffusion sampling:   0%|          | 0/20 [00:00<?, ?it/s]"
      ]
     },
     "metadata": {},
     "output_type": "display_data"
    },
    {
     "data": {
      "application/vnd.jupyter.widget-view+json": {
       "model_id": "2705d8553ce7495b8eb6613ba4fc5f13",
       "version_major": 2,
       "version_minor": 0
      },
      "text/plain": [
       "class hypothsis:   0%|          | 0/6 [00:00<?, ?it/s]"
      ]
     },
     "metadata": {},
     "output_type": "display_data"
    },
    {
     "data": {
      "application/vnd.jupyter.widget-view+json": {
       "model_id": "5e968a3733f742c38c1638faf5c384af",
       "version_major": 2,
       "version_minor": 0
      },
      "text/plain": [
       "diffusion sampling:   0%|          | 0/20 [00:00<?, ?it/s]"
      ]
     },
     "metadata": {},
     "output_type": "display_data"
    },
    {
     "data": {
      "application/vnd.jupyter.widget-view+json": {
       "model_id": "ebfd14f6b28848fcb5c071331e0f61c6",
       "version_major": 2,
       "version_minor": 0
      },
      "text/plain": [
       "diffusion sampling:   0%|          | 0/20 [00:00<?, ?it/s]"
      ]
     },
     "metadata": {},
     "output_type": "display_data"
    },
    {
     "data": {
      "application/vnd.jupyter.widget-view+json": {
       "model_id": "1b6e344f94ac4b3dbdb34b6daff9ebe1",
       "version_major": 2,
       "version_minor": 0
      },
      "text/plain": [
       "diffusion sampling:   0%|          | 0/20 [00:00<?, ?it/s]"
      ]
     },
     "metadata": {},
     "output_type": "display_data"
    },
    {
     "data": {
      "application/vnd.jupyter.widget-view+json": {
       "model_id": "4dd6833fc0c5401f83a9a5c56ef7e465",
       "version_major": 2,
       "version_minor": 0
      },
      "text/plain": [
       "diffusion sampling:   0%|          | 0/20 [00:00<?, ?it/s]"
      ]
     },
     "metadata": {},
     "output_type": "display_data"
    },
    {
     "data": {
      "application/vnd.jupyter.widget-view+json": {
       "model_id": "963a54cc2d6f4a958c88bca673648f82",
       "version_major": 2,
       "version_minor": 0
      },
      "text/plain": [
       "diffusion sampling:   0%|          | 0/20 [00:00<?, ?it/s]"
      ]
     },
     "metadata": {},
     "output_type": "display_data"
    },
    {
     "data": {
      "application/vnd.jupyter.widget-view+json": {
       "model_id": "bd731384c91b49d3b1682c8a49f642a5",
       "version_major": 2,
       "version_minor": 0
      },
      "text/plain": [
       "diffusion sampling:   0%|          | 0/20 [00:00<?, ?it/s]"
      ]
     },
     "metadata": {},
     "output_type": "display_data"
    },
    {
     "data": {
      "application/vnd.jupyter.widget-view+json": {
       "model_id": "72a210c4aa964ef7a169fb7a29418ff6",
       "version_major": 2,
       "version_minor": 0
      },
      "text/plain": [
       "class hypothsis:   0%|          | 0/6 [00:00<?, ?it/s]"
      ]
     },
     "metadata": {},
     "output_type": "display_data"
    },
    {
     "data": {
      "application/vnd.jupyter.widget-view+json": {
       "model_id": "a0062feef9204ba495a3faa214dd3c99",
       "version_major": 2,
       "version_minor": 0
      },
      "text/plain": [
       "diffusion sampling:   0%|          | 0/20 [00:00<?, ?it/s]"
      ]
     },
     "metadata": {},
     "output_type": "display_data"
    },
    {
     "data": {
      "application/vnd.jupyter.widget-view+json": {
       "model_id": "07db0b193e7b42c5bce5ee6070ddee9b",
       "version_major": 2,
       "version_minor": 0
      },
      "text/plain": [
       "diffusion sampling:   0%|          | 0/20 [00:00<?, ?it/s]"
      ]
     },
     "metadata": {},
     "output_type": "display_data"
    },
    {
     "data": {
      "application/vnd.jupyter.widget-view+json": {
       "model_id": "94131a6aaeb1434f899dfb7787a3d728",
       "version_major": 2,
       "version_minor": 0
      },
      "text/plain": [
       "diffusion sampling:   0%|          | 0/20 [00:00<?, ?it/s]"
      ]
     },
     "metadata": {},
     "output_type": "display_data"
    },
    {
     "data": {
      "application/vnd.jupyter.widget-view+json": {
       "model_id": "8de4e9c37cef4e788c5884029b00fc4a",
       "version_major": 2,
       "version_minor": 0
      },
      "text/plain": [
       "diffusion sampling:   0%|          | 0/20 [00:00<?, ?it/s]"
      ]
     },
     "metadata": {},
     "output_type": "display_data"
    },
    {
     "data": {
      "application/vnd.jupyter.widget-view+json": {
       "model_id": "a7554830faef4f4eb685e71ddd1ad126",
       "version_major": 2,
       "version_minor": 0
      },
      "text/plain": [
       "diffusion sampling:   0%|          | 0/20 [00:00<?, ?it/s]"
      ]
     },
     "metadata": {},
     "output_type": "display_data"
    },
    {
     "data": {
      "application/vnd.jupyter.widget-view+json": {
       "model_id": "f63c519d4f2445499a3a599112abd218",
       "version_major": 2,
       "version_minor": 0
      },
      "text/plain": [
       "diffusion sampling:   0%|          | 0/20 [00:00<?, ?it/s]"
      ]
     },
     "metadata": {},
     "output_type": "display_data"
    },
    {
     "data": {
      "application/vnd.jupyter.widget-view+json": {
       "model_id": "7fd200d3ad894bac85d1b616f012cf62",
       "version_major": 2,
       "version_minor": 0
      },
      "text/plain": [
       "class hypothsis:   0%|          | 0/6 [00:00<?, ?it/s]"
      ]
     },
     "metadata": {},
     "output_type": "display_data"
    },
    {
     "data": {
      "application/vnd.jupyter.widget-view+json": {
       "model_id": "f8eef4a4377f416d971f6102ba9ff6c2",
       "version_major": 2,
       "version_minor": 0
      },
      "text/plain": [
       "diffusion sampling:   0%|          | 0/20 [00:00<?, ?it/s]"
      ]
     },
     "metadata": {},
     "output_type": "display_data"
    },
    {
     "data": {
      "application/vnd.jupyter.widget-view+json": {
       "model_id": "5da6189777e04c7f92adb019576be2fc",
       "version_major": 2,
       "version_minor": 0
      },
      "text/plain": [
       "diffusion sampling:   0%|          | 0/20 [00:00<?, ?it/s]"
      ]
     },
     "metadata": {},
     "output_type": "display_data"
    },
    {
     "data": {
      "application/vnd.jupyter.widget-view+json": {
       "model_id": "4f075944acc3439fb55276d76eefb47f",
       "version_major": 2,
       "version_minor": 0
      },
      "text/plain": [
       "diffusion sampling:   0%|          | 0/20 [00:00<?, ?it/s]"
      ]
     },
     "metadata": {},
     "output_type": "display_data"
    },
    {
     "data": {
      "application/vnd.jupyter.widget-view+json": {
       "model_id": "44ddb2eac8d64f4eb2594a8a8de44e5a",
       "version_major": 2,
       "version_minor": 0
      },
      "text/plain": [
       "diffusion sampling:   0%|          | 0/20 [00:00<?, ?it/s]"
      ]
     },
     "metadata": {},
     "output_type": "display_data"
    },
    {
     "data": {
      "application/vnd.jupyter.widget-view+json": {
       "model_id": "48ef155a773545cdba1a6e83addbd2b9",
       "version_major": 2,
       "version_minor": 0
      },
      "text/plain": [
       "diffusion sampling:   0%|          | 0/20 [00:00<?, ?it/s]"
      ]
     },
     "metadata": {},
     "output_type": "display_data"
    },
    {
     "data": {
      "application/vnd.jupyter.widget-view+json": {
       "model_id": "c69b61940e0147e89a2f61bac575b7f9",
       "version_major": 2,
       "version_minor": 0
      },
      "text/plain": [
       "diffusion sampling:   0%|          | 0/20 [00:00<?, ?it/s]"
      ]
     },
     "metadata": {},
     "output_type": "display_data"
    },
    {
     "data": {
      "application/vnd.jupyter.widget-view+json": {
       "model_id": "a4e9dbcb07184781b0d7b9fdbdf4e69c",
       "version_major": 2,
       "version_minor": 0
      },
      "text/plain": [
       "class hypothsis:   0%|          | 0/6 [00:00<?, ?it/s]"
      ]
     },
     "metadata": {},
     "output_type": "display_data"
    },
    {
     "data": {
      "application/vnd.jupyter.widget-view+json": {
       "model_id": "7faee3d5c72143ed90f07a7e2ee63351",
       "version_major": 2,
       "version_minor": 0
      },
      "text/plain": [
       "diffusion sampling:   0%|          | 0/20 [00:00<?, ?it/s]"
      ]
     },
     "metadata": {},
     "output_type": "display_data"
    },
    {
     "data": {
      "application/vnd.jupyter.widget-view+json": {
       "model_id": "382342ec5e65478881301c8d0c37e8ee",
       "version_major": 2,
       "version_minor": 0
      },
      "text/plain": [
       "diffusion sampling:   0%|          | 0/20 [00:00<?, ?it/s]"
      ]
     },
     "metadata": {},
     "output_type": "display_data"
    },
    {
     "data": {
      "application/vnd.jupyter.widget-view+json": {
       "model_id": "e1de996151fc4d9898d493e06031c8ca",
       "version_major": 2,
       "version_minor": 0
      },
      "text/plain": [
       "diffusion sampling:   0%|          | 0/20 [00:00<?, ?it/s]"
      ]
     },
     "metadata": {},
     "output_type": "display_data"
    },
    {
     "data": {
      "application/vnd.jupyter.widget-view+json": {
       "model_id": "9cffba01c90e4441bcfbe3a48f656159",
       "version_major": 2,
       "version_minor": 0
      },
      "text/plain": [
       "diffusion sampling:   0%|          | 0/20 [00:00<?, ?it/s]"
      ]
     },
     "metadata": {},
     "output_type": "display_data"
    },
    {
     "data": {
      "application/vnd.jupyter.widget-view+json": {
       "model_id": "a51bf3730d044e63adcc147cb29d3c55",
       "version_major": 2,
       "version_minor": 0
      },
      "text/plain": [
       "diffusion sampling:   0%|          | 0/20 [00:00<?, ?it/s]"
      ]
     },
     "metadata": {},
     "output_type": "display_data"
    },
    {
     "data": {
      "application/vnd.jupyter.widget-view+json": {
       "model_id": "db11da6664a84b08afe1396598c00629",
       "version_major": 2,
       "version_minor": 0
      },
      "text/plain": [
       "diffusion sampling:   0%|          | 0/20 [00:00<?, ?it/s]"
      ]
     },
     "metadata": {},
     "output_type": "display_data"
    },
    {
     "data": {
      "application/vnd.jupyter.widget-view+json": {
       "model_id": "202d4e5f64534172aa3e0bbd5731c4b1",
       "version_major": 2,
       "version_minor": 0
      },
      "text/plain": [
       "class hypothsis:   0%|          | 0/6 [00:00<?, ?it/s]"
      ]
     },
     "metadata": {},
     "output_type": "display_data"
    },
    {
     "data": {
      "application/vnd.jupyter.widget-view+json": {
       "model_id": "cada8e27a2c3464e8a0defd72ef2d38c",
       "version_major": 2,
       "version_minor": 0
      },
      "text/plain": [
       "diffusion sampling:   0%|          | 0/20 [00:00<?, ?it/s]"
      ]
     },
     "metadata": {},
     "output_type": "display_data"
    },
    {
     "data": {
      "application/vnd.jupyter.widget-view+json": {
       "model_id": "b62bf699eb8a4527b7f2ade83fee5d3a",
       "version_major": 2,
       "version_minor": 0
      },
      "text/plain": [
       "diffusion sampling:   0%|          | 0/20 [00:00<?, ?it/s]"
      ]
     },
     "metadata": {},
     "output_type": "display_data"
    },
    {
     "data": {
      "application/vnd.jupyter.widget-view+json": {
       "model_id": "63ac068d05a94407ad5a3bd7258822d9",
       "version_major": 2,
       "version_minor": 0
      },
      "text/plain": [
       "diffusion sampling:   0%|          | 0/20 [00:00<?, ?it/s]"
      ]
     },
     "metadata": {},
     "output_type": "display_data"
    },
    {
     "data": {
      "application/vnd.jupyter.widget-view+json": {
       "model_id": "c01865d5783f48a28caa19c44be1e8ad",
       "version_major": 2,
       "version_minor": 0
      },
      "text/plain": [
       "diffusion sampling:   0%|          | 0/20 [00:00<?, ?it/s]"
      ]
     },
     "metadata": {},
     "output_type": "display_data"
    },
    {
     "data": {
      "application/vnd.jupyter.widget-view+json": {
       "model_id": "5b643f9496b748b992cb58287e4d0b51",
       "version_major": 2,
       "version_minor": 0
      },
      "text/plain": [
       "diffusion sampling:   0%|          | 0/20 [00:00<?, ?it/s]"
      ]
     },
     "metadata": {},
     "output_type": "display_data"
    },
    {
     "data": {
      "application/vnd.jupyter.widget-view+json": {
       "model_id": "4754f719378f4515831f51466f420526",
       "version_major": 2,
       "version_minor": 0
      },
      "text/plain": [
       "diffusion sampling:   0%|          | 0/20 [00:00<?, ?it/s]"
      ]
     },
     "metadata": {},
     "output_type": "display_data"
    },
    {
     "data": {
      "application/vnd.jupyter.widget-view+json": {
       "model_id": "1ac8ff0667364164b372972e3bba9c57",
       "version_major": 2,
       "version_minor": 0
      },
      "text/plain": [
       "class hypothsis:   0%|          | 0/6 [00:00<?, ?it/s]"
      ]
     },
     "metadata": {},
     "output_type": "display_data"
    },
    {
     "data": {
      "application/vnd.jupyter.widget-view+json": {
       "model_id": "c9968451e00c4407a02dc841d4c793bb",
       "version_major": 2,
       "version_minor": 0
      },
      "text/plain": [
       "diffusion sampling:   0%|          | 0/20 [00:00<?, ?it/s]"
      ]
     },
     "metadata": {},
     "output_type": "display_data"
    },
    {
     "data": {
      "application/vnd.jupyter.widget-view+json": {
       "model_id": "680d8321f0e84af19c46c582edbcbc6f",
       "version_major": 2,
       "version_minor": 0
      },
      "text/plain": [
       "diffusion sampling:   0%|          | 0/20 [00:00<?, ?it/s]"
      ]
     },
     "metadata": {},
     "output_type": "display_data"
    },
    {
     "data": {
      "application/vnd.jupyter.widget-view+json": {
       "model_id": "c18e556b14a34591950be08a743969dc",
       "version_major": 2,
       "version_minor": 0
      },
      "text/plain": [
       "diffusion sampling:   0%|          | 0/20 [00:00<?, ?it/s]"
      ]
     },
     "metadata": {},
     "output_type": "display_data"
    },
    {
     "data": {
      "application/vnd.jupyter.widget-view+json": {
       "model_id": "5a77c6fd3eba449b93af2ba213a27028",
       "version_major": 2,
       "version_minor": 0
      },
      "text/plain": [
       "diffusion sampling:   0%|          | 0/20 [00:00<?, ?it/s]"
      ]
     },
     "metadata": {},
     "output_type": "display_data"
    },
    {
     "data": {
      "application/vnd.jupyter.widget-view+json": {
       "model_id": "e2d066428e35411b8850833ffd6dfb01",
       "version_major": 2,
       "version_minor": 0
      },
      "text/plain": [
       "diffusion sampling:   0%|          | 0/20 [00:00<?, ?it/s]"
      ]
     },
     "metadata": {},
     "output_type": "display_data"
    },
    {
     "data": {
      "application/vnd.jupyter.widget-view+json": {
       "model_id": "8f1a89baa92148bc8f87c2728481dff0",
       "version_major": 2,
       "version_minor": 0
      },
      "text/plain": [
       "diffusion sampling:   0%|          | 0/20 [00:00<?, ?it/s]"
      ]
     },
     "metadata": {},
     "output_type": "display_data"
    },
    {
     "data": {
      "application/vnd.jupyter.widget-view+json": {
       "model_id": "a1be5b4fe0764cfcbd7d8313b37416d9",
       "version_major": 2,
       "version_minor": 0
      },
      "text/plain": [
       "class hypothsis:   0%|          | 0/6 [00:00<?, ?it/s]"
      ]
     },
     "metadata": {},
     "output_type": "display_data"
    },
    {
     "data": {
      "application/vnd.jupyter.widget-view+json": {
       "model_id": "ac867c1ef90f4676b43c0ed49ac76966",
       "version_major": 2,
       "version_minor": 0
      },
      "text/plain": [
       "diffusion sampling:   0%|          | 0/20 [00:00<?, ?it/s]"
      ]
     },
     "metadata": {},
     "output_type": "display_data"
    },
    {
     "data": {
      "application/vnd.jupyter.widget-view+json": {
       "model_id": "428e95e1b2a14687994e64b6e583d663",
       "version_major": 2,
       "version_minor": 0
      },
      "text/plain": [
       "diffusion sampling:   0%|          | 0/20 [00:00<?, ?it/s]"
      ]
     },
     "metadata": {},
     "output_type": "display_data"
    },
    {
     "data": {
      "application/vnd.jupyter.widget-view+json": {
       "model_id": "e4aee7d47ed94d15a0d5ffbacdd88794",
       "version_major": 2,
       "version_minor": 0
      },
      "text/plain": [
       "diffusion sampling:   0%|          | 0/20 [00:00<?, ?it/s]"
      ]
     },
     "metadata": {},
     "output_type": "display_data"
    },
    {
     "data": {
      "application/vnd.jupyter.widget-view+json": {
       "model_id": "e34418817de3496db9f14fe0441b01b7",
       "version_major": 2,
       "version_minor": 0
      },
      "text/plain": [
       "diffusion sampling:   0%|          | 0/20 [00:00<?, ?it/s]"
      ]
     },
     "metadata": {},
     "output_type": "display_data"
    },
    {
     "data": {
      "application/vnd.jupyter.widget-view+json": {
       "model_id": "0419cbf5d79b4faf8372b3abef41b25a",
       "version_major": 2,
       "version_minor": 0
      },
      "text/plain": [
       "diffusion sampling:   0%|          | 0/20 [00:00<?, ?it/s]"
      ]
     },
     "metadata": {},
     "output_type": "display_data"
    },
    {
     "data": {
      "application/vnd.jupyter.widget-view+json": {
       "model_id": "190795e481c24ac6b9781fe1317d3843",
       "version_major": 2,
       "version_minor": 0
      },
      "text/plain": [
       "diffusion sampling:   0%|          | 0/20 [00:00<?, ?it/s]"
      ]
     },
     "metadata": {},
     "output_type": "display_data"
    },
    {
     "data": {
      "application/vnd.jupyter.widget-view+json": {
       "model_id": "91704d07bec943c4aed0b60a5675ef67",
       "version_major": 2,
       "version_minor": 0
      },
      "text/plain": [
       "class hypothsis:   0%|          | 0/6 [00:00<?, ?it/s]"
      ]
     },
     "metadata": {},
     "output_type": "display_data"
    },
    {
     "data": {
      "application/vnd.jupyter.widget-view+json": {
       "model_id": "2625070ae2ca4e45a6d79eed9aa415e5",
       "version_major": 2,
       "version_minor": 0
      },
      "text/plain": [
       "diffusion sampling:   0%|          | 0/20 [00:00<?, ?it/s]"
      ]
     },
     "metadata": {},
     "output_type": "display_data"
    },
    {
     "data": {
      "application/vnd.jupyter.widget-view+json": {
       "model_id": "4bca07796964433597343cecb80fe257",
       "version_major": 2,
       "version_minor": 0
      },
      "text/plain": [
       "diffusion sampling:   0%|          | 0/20 [00:00<?, ?it/s]"
      ]
     },
     "metadata": {},
     "output_type": "display_data"
    },
    {
     "data": {
      "application/vnd.jupyter.widget-view+json": {
       "model_id": "7566c6d607694e1fa5ce0b6622df9342",
       "version_major": 2,
       "version_minor": 0
      },
      "text/plain": [
       "diffusion sampling:   0%|          | 0/20 [00:00<?, ?it/s]"
      ]
     },
     "metadata": {},
     "output_type": "display_data"
    },
    {
     "data": {
      "application/vnd.jupyter.widget-view+json": {
       "model_id": "9827cd8c1ba6401f82b9cb9a67e91275",
       "version_major": 2,
       "version_minor": 0
      },
      "text/plain": [
       "diffusion sampling:   0%|          | 0/20 [00:00<?, ?it/s]"
      ]
     },
     "metadata": {},
     "output_type": "display_data"
    },
    {
     "data": {
      "application/vnd.jupyter.widget-view+json": {
       "model_id": "bda67ac67225411eaf59f78b6ab3e488",
       "version_major": 2,
       "version_minor": 0
      },
      "text/plain": [
       "diffusion sampling:   0%|          | 0/20 [00:00<?, ?it/s]"
      ]
     },
     "metadata": {},
     "output_type": "display_data"
    },
    {
     "data": {
      "application/vnd.jupyter.widget-view+json": {
       "model_id": "618500e596a2416d9a0ab59bc1346d2e",
       "version_major": 2,
       "version_minor": 0
      },
      "text/plain": [
       "diffusion sampling:   0%|          | 0/20 [00:00<?, ?it/s]"
      ]
     },
     "metadata": {},
     "output_type": "display_data"
    },
    {
     "data": {
      "application/vnd.jupyter.widget-view+json": {
       "model_id": "58c06098f62d4338a7f452d0ed7d3963",
       "version_major": 2,
       "version_minor": 0
      },
      "text/plain": [
       "class hypothsis:   0%|          | 0/6 [00:00<?, ?it/s]"
      ]
     },
     "metadata": {},
     "output_type": "display_data"
    },
    {
     "data": {
      "application/vnd.jupyter.widget-view+json": {
       "model_id": "eec45c52fef4471fbc9409b2e8d8c137",
       "version_major": 2,
       "version_minor": 0
      },
      "text/plain": [
       "diffusion sampling:   0%|          | 0/20 [00:00<?, ?it/s]"
      ]
     },
     "metadata": {},
     "output_type": "display_data"
    },
    {
     "data": {
      "application/vnd.jupyter.widget-view+json": {
       "model_id": "4091c9ae20164eb1814ff1b6fd9018c4",
       "version_major": 2,
       "version_minor": 0
      },
      "text/plain": [
       "diffusion sampling:   0%|          | 0/20 [00:00<?, ?it/s]"
      ]
     },
     "metadata": {},
     "output_type": "display_data"
    },
    {
     "data": {
      "application/vnd.jupyter.widget-view+json": {
       "model_id": "4e68de38af5448eba81f76ec5bf15bd9",
       "version_major": 2,
       "version_minor": 0
      },
      "text/plain": [
       "diffusion sampling:   0%|          | 0/20 [00:00<?, ?it/s]"
      ]
     },
     "metadata": {},
     "output_type": "display_data"
    },
    {
     "data": {
      "application/vnd.jupyter.widget-view+json": {
       "model_id": "520c6db1c288446da1f8c83bf257e566",
       "version_major": 2,
       "version_minor": 0
      },
      "text/plain": [
       "diffusion sampling:   0%|          | 0/20 [00:00<?, ?it/s]"
      ]
     },
     "metadata": {},
     "output_type": "display_data"
    },
    {
     "data": {
      "application/vnd.jupyter.widget-view+json": {
       "model_id": "a3c70d5514ee4d50a86d2a17796dc1e5",
       "version_major": 2,
       "version_minor": 0
      },
      "text/plain": [
       "diffusion sampling:   0%|          | 0/20 [00:00<?, ?it/s]"
      ]
     },
     "metadata": {},
     "output_type": "display_data"
    },
    {
     "data": {
      "application/vnd.jupyter.widget-view+json": {
       "model_id": "9024eac7e85c4cefb24b7e5af5ef1205",
       "version_major": 2,
       "version_minor": 0
      },
      "text/plain": [
       "diffusion sampling:   0%|          | 0/20 [00:00<?, ?it/s]"
      ]
     },
     "metadata": {},
     "output_type": "display_data"
    },
    {
     "data": {
      "application/vnd.jupyter.widget-view+json": {
       "model_id": "c852daf8412e4fb98a3d0363d26f9281",
       "version_major": 2,
       "version_minor": 0
      },
      "text/plain": [
       "class hypothsis:   0%|          | 0/6 [00:00<?, ?it/s]"
      ]
     },
     "metadata": {},
     "output_type": "display_data"
    },
    {
     "data": {
      "application/vnd.jupyter.widget-view+json": {
       "model_id": "f36a1d2126034a2588d8df723c43b5e6",
       "version_major": 2,
       "version_minor": 0
      },
      "text/plain": [
       "diffusion sampling:   0%|          | 0/20 [00:00<?, ?it/s]"
      ]
     },
     "metadata": {},
     "output_type": "display_data"
    },
    {
     "data": {
      "application/vnd.jupyter.widget-view+json": {
       "model_id": "b04ade5d5d644f0f92187325cb11d6b4",
       "version_major": 2,
       "version_minor": 0
      },
      "text/plain": [
       "diffusion sampling:   0%|          | 0/20 [00:00<?, ?it/s]"
      ]
     },
     "metadata": {},
     "output_type": "display_data"
    },
    {
     "data": {
      "application/vnd.jupyter.widget-view+json": {
       "model_id": "d5ac55e94b914d418368b4746ba27990",
       "version_major": 2,
       "version_minor": 0
      },
      "text/plain": [
       "diffusion sampling:   0%|          | 0/20 [00:00<?, ?it/s]"
      ]
     },
     "metadata": {},
     "output_type": "display_data"
    },
    {
     "data": {
      "application/vnd.jupyter.widget-view+json": {
       "model_id": "20378bc272804949a92b6e7073af0c8e",
       "version_major": 2,
       "version_minor": 0
      },
      "text/plain": [
       "diffusion sampling:   0%|          | 0/20 [00:00<?, ?it/s]"
      ]
     },
     "metadata": {},
     "output_type": "display_data"
    },
    {
     "data": {
      "application/vnd.jupyter.widget-view+json": {
       "model_id": "1c237910fd2b419dbba64832f9731b9d",
       "version_major": 2,
       "version_minor": 0
      },
      "text/plain": [
       "diffusion sampling:   0%|          | 0/20 [00:00<?, ?it/s]"
      ]
     },
     "metadata": {},
     "output_type": "display_data"
    },
    {
     "data": {
      "application/vnd.jupyter.widget-view+json": {
       "model_id": "b4fb8d56f71a4c8e91cdd521614d8b0d",
       "version_major": 2,
       "version_minor": 0
      },
      "text/plain": [
       "diffusion sampling:   0%|          | 0/20 [00:00<?, ?it/s]"
      ]
     },
     "metadata": {},
     "output_type": "display_data"
    },
    {
     "data": {
      "application/vnd.jupyter.widget-view+json": {
       "model_id": "41dd369c6d3146039fb13e283822352e",
       "version_major": 2,
       "version_minor": 0
      },
      "text/plain": [
       "class hypothsis:   0%|          | 0/6 [00:00<?, ?it/s]"
      ]
     },
     "metadata": {},
     "output_type": "display_data"
    },
    {
     "data": {
      "application/vnd.jupyter.widget-view+json": {
       "model_id": "e4086a4a3bc74ab3b2772c198a23bfd9",
       "version_major": 2,
       "version_minor": 0
      },
      "text/plain": [
       "diffusion sampling:   0%|          | 0/20 [00:00<?, ?it/s]"
      ]
     },
     "metadata": {},
     "output_type": "display_data"
    },
    {
     "data": {
      "application/vnd.jupyter.widget-view+json": {
       "model_id": "3bfe43ef1c994b77b8fd4cfdfa01c7c7",
       "version_major": 2,
       "version_minor": 0
      },
      "text/plain": [
       "diffusion sampling:   0%|          | 0/20 [00:00<?, ?it/s]"
      ]
     },
     "metadata": {},
     "output_type": "display_data"
    },
    {
     "data": {
      "application/vnd.jupyter.widget-view+json": {
       "model_id": "d8b8e41fc7dc43db8fbf342cfdd84ea4",
       "version_major": 2,
       "version_minor": 0
      },
      "text/plain": [
       "diffusion sampling:   0%|          | 0/20 [00:00<?, ?it/s]"
      ]
     },
     "metadata": {},
     "output_type": "display_data"
    },
    {
     "data": {
      "application/vnd.jupyter.widget-view+json": {
       "model_id": "d740282046754217b6485c2dba1e8505",
       "version_major": 2,
       "version_minor": 0
      },
      "text/plain": [
       "diffusion sampling:   0%|          | 0/20 [00:00<?, ?it/s]"
      ]
     },
     "metadata": {},
     "output_type": "display_data"
    },
    {
     "data": {
      "application/vnd.jupyter.widget-view+json": {
       "model_id": "bec74241863a4c82ba0c1f06d39306ad",
       "version_major": 2,
       "version_minor": 0
      },
      "text/plain": [
       "diffusion sampling:   0%|          | 0/20 [00:00<?, ?it/s]"
      ]
     },
     "metadata": {},
     "output_type": "display_data"
    },
    {
     "data": {
      "application/vnd.jupyter.widget-view+json": {
       "model_id": "28742bd48f3348ac9778ac7555dadc24",
       "version_major": 2,
       "version_minor": 0
      },
      "text/plain": [
       "diffusion sampling:   0%|          | 0/20 [00:00<?, ?it/s]"
      ]
     },
     "metadata": {},
     "output_type": "display_data"
    },
    {
     "data": {
      "application/vnd.jupyter.widget-view+json": {
       "model_id": "0aa02725527c498dab8a5de115f6726c",
       "version_major": 2,
       "version_minor": 0
      },
      "text/plain": [
       "class hypothsis:   0%|          | 0/6 [00:00<?, ?it/s]"
      ]
     },
     "metadata": {},
     "output_type": "display_data"
    },
    {
     "data": {
      "application/vnd.jupyter.widget-view+json": {
       "model_id": "3ce678a5cd9f450d882248c9b24ec220",
       "version_major": 2,
       "version_minor": 0
      },
      "text/plain": [
       "diffusion sampling:   0%|          | 0/20 [00:00<?, ?it/s]"
      ]
     },
     "metadata": {},
     "output_type": "display_data"
    },
    {
     "data": {
      "application/vnd.jupyter.widget-view+json": {
       "model_id": "e42bd5d1de4547d190342612637dfee4",
       "version_major": 2,
       "version_minor": 0
      },
      "text/plain": [
       "diffusion sampling:   0%|          | 0/20 [00:00<?, ?it/s]"
      ]
     },
     "metadata": {},
     "output_type": "display_data"
    },
    {
     "data": {
      "application/vnd.jupyter.widget-view+json": {
       "model_id": "d1483eadab6941479d0ce5c25d114920",
       "version_major": 2,
       "version_minor": 0
      },
      "text/plain": [
       "diffusion sampling:   0%|          | 0/20 [00:00<?, ?it/s]"
      ]
     },
     "metadata": {},
     "output_type": "display_data"
    },
    {
     "data": {
      "application/vnd.jupyter.widget-view+json": {
       "model_id": "011eefc8abfd43ad919555063fb01224",
       "version_major": 2,
       "version_minor": 0
      },
      "text/plain": [
       "diffusion sampling:   0%|          | 0/20 [00:00<?, ?it/s]"
      ]
     },
     "metadata": {},
     "output_type": "display_data"
    },
    {
     "data": {
      "application/vnd.jupyter.widget-view+json": {
       "model_id": "fb79ab358ac842089b4e2d333b881c5c",
       "version_major": 2,
       "version_minor": 0
      },
      "text/plain": [
       "diffusion sampling:   0%|          | 0/20 [00:00<?, ?it/s]"
      ]
     },
     "metadata": {},
     "output_type": "display_data"
    },
    {
     "data": {
      "application/vnd.jupyter.widget-view+json": {
       "model_id": "8b52cbd7eed24f41a598d6d089a56c3d",
       "version_major": 2,
       "version_minor": 0
      },
      "text/plain": [
       "diffusion sampling:   0%|          | 0/20 [00:00<?, ?it/s]"
      ]
     },
     "metadata": {},
     "output_type": "display_data"
    },
    {
     "data": {
      "application/vnd.jupyter.widget-view+json": {
       "model_id": "6fdee577f25849c790be33e4f47946d2",
       "version_major": 2,
       "version_minor": 0
      },
      "text/plain": [
       "class hypothsis:   0%|          | 0/6 [00:00<?, ?it/s]"
      ]
     },
     "metadata": {},
     "output_type": "display_data"
    },
    {
     "data": {
      "application/vnd.jupyter.widget-view+json": {
       "model_id": "0884520be7654cf691e00d976205bdf4",
       "version_major": 2,
       "version_minor": 0
      },
      "text/plain": [
       "diffusion sampling:   0%|          | 0/20 [00:00<?, ?it/s]"
      ]
     },
     "metadata": {},
     "output_type": "display_data"
    },
    {
     "data": {
      "application/vnd.jupyter.widget-view+json": {
       "model_id": "3e620e2dc891401c8064e3297ea21ec4",
       "version_major": 2,
       "version_minor": 0
      },
      "text/plain": [
       "diffusion sampling:   0%|          | 0/20 [00:00<?, ?it/s]"
      ]
     },
     "metadata": {},
     "output_type": "display_data"
    },
    {
     "data": {
      "application/vnd.jupyter.widget-view+json": {
       "model_id": "2a3f1247a45b4bc1a9439e86331a3ab7",
       "version_major": 2,
       "version_minor": 0
      },
      "text/plain": [
       "diffusion sampling:   0%|          | 0/20 [00:00<?, ?it/s]"
      ]
     },
     "metadata": {},
     "output_type": "display_data"
    },
    {
     "data": {
      "application/vnd.jupyter.widget-view+json": {
       "model_id": "97fa38e25f994a1caabac6fc2f2b1e5d",
       "version_major": 2,
       "version_minor": 0
      },
      "text/plain": [
       "diffusion sampling:   0%|          | 0/20 [00:00<?, ?it/s]"
      ]
     },
     "metadata": {},
     "output_type": "display_data"
    },
    {
     "data": {
      "application/vnd.jupyter.widget-view+json": {
       "model_id": "2a4fa2f6b07a45729c9e9b98d49fe17e",
       "version_major": 2,
       "version_minor": 0
      },
      "text/plain": [
       "diffusion sampling:   0%|          | 0/20 [00:00<?, ?it/s]"
      ]
     },
     "metadata": {},
     "output_type": "display_data"
    },
    {
     "data": {
      "application/vnd.jupyter.widget-view+json": {
       "model_id": "de68525ecb0e44ba918b1d810f0510c1",
       "version_major": 2,
       "version_minor": 0
      },
      "text/plain": [
       "diffusion sampling:   0%|          | 0/20 [00:00<?, ?it/s]"
      ]
     },
     "metadata": {},
     "output_type": "display_data"
    },
    {
     "data": {
      "application/vnd.jupyter.widget-view+json": {
       "model_id": "89406358f6654f93a0a63660b68e1241",
       "version_major": 2,
       "version_minor": 0
      },
      "text/plain": [
       "class hypothsis:   0%|          | 0/6 [00:00<?, ?it/s]"
      ]
     },
     "metadata": {},
     "output_type": "display_data"
    },
    {
     "data": {
      "application/vnd.jupyter.widget-view+json": {
       "model_id": "8648dab32de84600b8dd683ef3c9ff4e",
       "version_major": 2,
       "version_minor": 0
      },
      "text/plain": [
       "diffusion sampling:   0%|          | 0/20 [00:00<?, ?it/s]"
      ]
     },
     "metadata": {},
     "output_type": "display_data"
    },
    {
     "data": {
      "application/vnd.jupyter.widget-view+json": {
       "model_id": "13cb7ab037ff4d16a89a6973342b9c49",
       "version_major": 2,
       "version_minor": 0
      },
      "text/plain": [
       "diffusion sampling:   0%|          | 0/20 [00:00<?, ?it/s]"
      ]
     },
     "metadata": {},
     "output_type": "display_data"
    },
    {
     "data": {
      "application/vnd.jupyter.widget-view+json": {
       "model_id": "3f027f2c90274dc68f0e65b9a36a51b4",
       "version_major": 2,
       "version_minor": 0
      },
      "text/plain": [
       "diffusion sampling:   0%|          | 0/20 [00:00<?, ?it/s]"
      ]
     },
     "metadata": {},
     "output_type": "display_data"
    },
    {
     "data": {
      "application/vnd.jupyter.widget-view+json": {
       "model_id": "795484254557431d9c12b24e0c6157ce",
       "version_major": 2,
       "version_minor": 0
      },
      "text/plain": [
       "diffusion sampling:   0%|          | 0/20 [00:00<?, ?it/s]"
      ]
     },
     "metadata": {},
     "output_type": "display_data"
    },
    {
     "data": {
      "application/vnd.jupyter.widget-view+json": {
       "model_id": "21acbf4f310c48a086af1606b72115f3",
       "version_major": 2,
       "version_minor": 0
      },
      "text/plain": [
       "diffusion sampling:   0%|          | 0/20 [00:00<?, ?it/s]"
      ]
     },
     "metadata": {},
     "output_type": "display_data"
    },
    {
     "data": {
      "application/vnd.jupyter.widget-view+json": {
       "model_id": "b88bfb088ff341ac83354dcee6bdcfb6",
       "version_major": 2,
       "version_minor": 0
      },
      "text/plain": [
       "diffusion sampling:   0%|          | 0/20 [00:00<?, ?it/s]"
      ]
     },
     "metadata": {},
     "output_type": "display_data"
    },
    {
     "data": {
      "application/vnd.jupyter.widget-view+json": {
       "model_id": "9d5a6f88592a4b2c96b8af35c6cb13d8",
       "version_major": 2,
       "version_minor": 0
      },
      "text/plain": [
       "class hypothsis:   0%|          | 0/6 [00:00<?, ?it/s]"
      ]
     },
     "metadata": {},
     "output_type": "display_data"
    },
    {
     "data": {
      "application/vnd.jupyter.widget-view+json": {
       "model_id": "b1a8bd58ba7441cdb3dd170ec32c34e8",
       "version_major": 2,
       "version_minor": 0
      },
      "text/plain": [
       "diffusion sampling:   0%|          | 0/20 [00:00<?, ?it/s]"
      ]
     },
     "metadata": {},
     "output_type": "display_data"
    },
    {
     "data": {
      "application/vnd.jupyter.widget-view+json": {
       "model_id": "b3d3b921f88f4a11bdc4db598f0d7b62",
       "version_major": 2,
       "version_minor": 0
      },
      "text/plain": [
       "diffusion sampling:   0%|          | 0/20 [00:00<?, ?it/s]"
      ]
     },
     "metadata": {},
     "output_type": "display_data"
    },
    {
     "data": {
      "application/vnd.jupyter.widget-view+json": {
       "model_id": "95b143c75ade4cf88f0e7c84e34c8f78",
       "version_major": 2,
       "version_minor": 0
      },
      "text/plain": [
       "diffusion sampling:   0%|          | 0/20 [00:00<?, ?it/s]"
      ]
     },
     "metadata": {},
     "output_type": "display_data"
    },
    {
     "data": {
      "application/vnd.jupyter.widget-view+json": {
       "model_id": "e46d34e0cafd466389506b4c612fd981",
       "version_major": 2,
       "version_minor": 0
      },
      "text/plain": [
       "diffusion sampling:   0%|          | 0/20 [00:00<?, ?it/s]"
      ]
     },
     "metadata": {},
     "output_type": "display_data"
    },
    {
     "data": {
      "application/vnd.jupyter.widget-view+json": {
       "model_id": "5fdcaa32837b43e6b658cbf034097703",
       "version_major": 2,
       "version_minor": 0
      },
      "text/plain": [
       "diffusion sampling:   0%|          | 0/20 [00:00<?, ?it/s]"
      ]
     },
     "metadata": {},
     "output_type": "display_data"
    },
    {
     "data": {
      "application/vnd.jupyter.widget-view+json": {
       "model_id": "bd4b6361a87f4e3b84b1afa853475e55",
       "version_major": 2,
       "version_minor": 0
      },
      "text/plain": [
       "diffusion sampling:   0%|          | 0/20 [00:00<?, ?it/s]"
      ]
     },
     "metadata": {},
     "output_type": "display_data"
    },
    {
     "data": {
      "application/vnd.jupyter.widget-view+json": {
       "model_id": "d048929838144fbb9e4a3c016f6d1955",
       "version_major": 2,
       "version_minor": 0
      },
      "text/plain": [
       "class hypothsis:   0%|          | 0/6 [00:00<?, ?it/s]"
      ]
     },
     "metadata": {},
     "output_type": "display_data"
    },
    {
     "data": {
      "application/vnd.jupyter.widget-view+json": {
       "model_id": "42edec71c60148a4991e62ad69aad257",
       "version_major": 2,
       "version_minor": 0
      },
      "text/plain": [
       "diffusion sampling:   0%|          | 0/20 [00:00<?, ?it/s]"
      ]
     },
     "metadata": {},
     "output_type": "display_data"
    },
    {
     "data": {
      "application/vnd.jupyter.widget-view+json": {
       "model_id": "68351496c5cc4f62b27f9ac3c7ce572c",
       "version_major": 2,
       "version_minor": 0
      },
      "text/plain": [
       "diffusion sampling:   0%|          | 0/20 [00:00<?, ?it/s]"
      ]
     },
     "metadata": {},
     "output_type": "display_data"
    },
    {
     "data": {
      "application/vnd.jupyter.widget-view+json": {
       "model_id": "1a442c8c39644d9bbecbc9006288e2e9",
       "version_major": 2,
       "version_minor": 0
      },
      "text/plain": [
       "diffusion sampling:   0%|          | 0/20 [00:00<?, ?it/s]"
      ]
     },
     "metadata": {},
     "output_type": "display_data"
    },
    {
     "data": {
      "application/vnd.jupyter.widget-view+json": {
       "model_id": "335de17adad543bd82c7c52cd35a7845",
       "version_major": 2,
       "version_minor": 0
      },
      "text/plain": [
       "diffusion sampling:   0%|          | 0/20 [00:00<?, ?it/s]"
      ]
     },
     "metadata": {},
     "output_type": "display_data"
    },
    {
     "data": {
      "application/vnd.jupyter.widget-view+json": {
       "model_id": "c20c589936dd4847baf187d194a6711f",
       "version_major": 2,
       "version_minor": 0
      },
      "text/plain": [
       "diffusion sampling:   0%|          | 0/20 [00:00<?, ?it/s]"
      ]
     },
     "metadata": {},
     "output_type": "display_data"
    },
    {
     "data": {
      "application/vnd.jupyter.widget-view+json": {
       "model_id": "1164fee9ae834d70a0c6f27d874eab9e",
       "version_major": 2,
       "version_minor": 0
      },
      "text/plain": [
       "diffusion sampling:   0%|          | 0/20 [00:00<?, ?it/s]"
      ]
     },
     "metadata": {},
     "output_type": "display_data"
    },
    {
     "data": {
      "application/vnd.jupyter.widget-view+json": {
       "model_id": "40c3b43c48ec45129abd67045b088079",
       "version_major": 2,
       "version_minor": 0
      },
      "text/plain": [
       "class hypothsis:   0%|          | 0/6 [00:00<?, ?it/s]"
      ]
     },
     "metadata": {},
     "output_type": "display_data"
    },
    {
     "data": {
      "application/vnd.jupyter.widget-view+json": {
       "model_id": "ffdd4c2eb7a345a08ca784dfd0b78759",
       "version_major": 2,
       "version_minor": 0
      },
      "text/plain": [
       "diffusion sampling:   0%|          | 0/20 [00:00<?, ?it/s]"
      ]
     },
     "metadata": {},
     "output_type": "display_data"
    },
    {
     "data": {
      "application/vnd.jupyter.widget-view+json": {
       "model_id": "e03805087de54cb988a076b143bcdcbc",
       "version_major": 2,
       "version_minor": 0
      },
      "text/plain": [
       "diffusion sampling:   0%|          | 0/20 [00:00<?, ?it/s]"
      ]
     },
     "metadata": {},
     "output_type": "display_data"
    },
    {
     "data": {
      "application/vnd.jupyter.widget-view+json": {
       "model_id": "3efc0e30f3804b0d87ba8f8a93f3e3a0",
       "version_major": 2,
       "version_minor": 0
      },
      "text/plain": [
       "diffusion sampling:   0%|          | 0/20 [00:00<?, ?it/s]"
      ]
     },
     "metadata": {},
     "output_type": "display_data"
    },
    {
     "data": {
      "application/vnd.jupyter.widget-view+json": {
       "model_id": "fa3b5d50195245019a762d2e40e0cc2e",
       "version_major": 2,
       "version_minor": 0
      },
      "text/plain": [
       "diffusion sampling:   0%|          | 0/20 [00:00<?, ?it/s]"
      ]
     },
     "metadata": {},
     "output_type": "display_data"
    },
    {
     "data": {
      "application/vnd.jupyter.widget-view+json": {
       "model_id": "4101716a5810481f83f4d5568613cd47",
       "version_major": 2,
       "version_minor": 0
      },
      "text/plain": [
       "diffusion sampling:   0%|          | 0/20 [00:00<?, ?it/s]"
      ]
     },
     "metadata": {},
     "output_type": "display_data"
    },
    {
     "data": {
      "application/vnd.jupyter.widget-view+json": {
       "model_id": "24d5e8abf39c4e678ac1c5600972a994",
       "version_major": 2,
       "version_minor": 0
      },
      "text/plain": [
       "diffusion sampling:   0%|          | 0/20 [00:00<?, ?it/s]"
      ]
     },
     "metadata": {},
     "output_type": "display_data"
    },
    {
     "data": {
      "application/vnd.jupyter.widget-view+json": {
       "model_id": "35d98d674bda4dcd8db9daf5490db361",
       "version_major": 2,
       "version_minor": 0
      },
      "text/plain": [
       "class hypothsis:   0%|          | 0/6 [00:00<?, ?it/s]"
      ]
     },
     "metadata": {},
     "output_type": "display_data"
    },
    {
     "data": {
      "application/vnd.jupyter.widget-view+json": {
       "model_id": "c2c6d2928f9a4fca915e491f5689fbdd",
       "version_major": 2,
       "version_minor": 0
      },
      "text/plain": [
       "diffusion sampling:   0%|          | 0/20 [00:00<?, ?it/s]"
      ]
     },
     "metadata": {},
     "output_type": "display_data"
    },
    {
     "data": {
      "application/vnd.jupyter.widget-view+json": {
       "model_id": "cc3d191fe2f34a76a725e3279be18ac2",
       "version_major": 2,
       "version_minor": 0
      },
      "text/plain": [
       "diffusion sampling:   0%|          | 0/20 [00:00<?, ?it/s]"
      ]
     },
     "metadata": {},
     "output_type": "display_data"
    },
    {
     "data": {
      "application/vnd.jupyter.widget-view+json": {
       "model_id": "11fb7a41d0d7445f8890c621e8df10c1",
       "version_major": 2,
       "version_minor": 0
      },
      "text/plain": [
       "diffusion sampling:   0%|          | 0/20 [00:00<?, ?it/s]"
      ]
     },
     "metadata": {},
     "output_type": "display_data"
    },
    {
     "data": {
      "application/vnd.jupyter.widget-view+json": {
       "model_id": "0dc8942ce89a44fcad9cf655efcddff4",
       "version_major": 2,
       "version_minor": 0
      },
      "text/plain": [
       "diffusion sampling:   0%|          | 0/20 [00:00<?, ?it/s]"
      ]
     },
     "metadata": {},
     "output_type": "display_data"
    },
    {
     "data": {
      "application/vnd.jupyter.widget-view+json": {
       "model_id": "0051d552e0bd4e5783f5959d41251c8a",
       "version_major": 2,
       "version_minor": 0
      },
      "text/plain": [
       "diffusion sampling:   0%|          | 0/20 [00:00<?, ?it/s]"
      ]
     },
     "metadata": {},
     "output_type": "display_data"
    },
    {
     "data": {
      "application/vnd.jupyter.widget-view+json": {
       "model_id": "ea44f385664d410aaf798f210c6bc7ad",
       "version_major": 2,
       "version_minor": 0
      },
      "text/plain": [
       "diffusion sampling:   0%|          | 0/20 [00:00<?, ?it/s]"
      ]
     },
     "metadata": {},
     "output_type": "display_data"
    },
    {
     "data": {
      "application/vnd.jupyter.widget-view+json": {
       "model_id": "b0e1eb71c7514cd7a661da2afdc58aa2",
       "version_major": 2,
       "version_minor": 0
      },
      "text/plain": [
       "class hypothsis:   0%|          | 0/6 [00:00<?, ?it/s]"
      ]
     },
     "metadata": {},
     "output_type": "display_data"
    },
    {
     "data": {
      "application/vnd.jupyter.widget-view+json": {
       "model_id": "6bbce8ef601b4275b92a4de76c2fb5a9",
       "version_major": 2,
       "version_minor": 0
      },
      "text/plain": [
       "diffusion sampling:   0%|          | 0/20 [00:00<?, ?it/s]"
      ]
     },
     "metadata": {},
     "output_type": "display_data"
    },
    {
     "data": {
      "application/vnd.jupyter.widget-view+json": {
       "model_id": "2abeb08a53fb45e89d115a49b323637d",
       "version_major": 2,
       "version_minor": 0
      },
      "text/plain": [
       "diffusion sampling:   0%|          | 0/20 [00:00<?, ?it/s]"
      ]
     },
     "metadata": {},
     "output_type": "display_data"
    },
    {
     "data": {
      "application/vnd.jupyter.widget-view+json": {
       "model_id": "77686c24bd7e40a9b9c77b46533c2956",
       "version_major": 2,
       "version_minor": 0
      },
      "text/plain": [
       "diffusion sampling:   0%|          | 0/20 [00:00<?, ?it/s]"
      ]
     },
     "metadata": {},
     "output_type": "display_data"
    },
    {
     "data": {
      "application/vnd.jupyter.widget-view+json": {
       "model_id": "a5fb100893724596af6d182cb19581d6",
       "version_major": 2,
       "version_minor": 0
      },
      "text/plain": [
       "diffusion sampling:   0%|          | 0/20 [00:00<?, ?it/s]"
      ]
     },
     "metadata": {},
     "output_type": "display_data"
    },
    {
     "data": {
      "application/vnd.jupyter.widget-view+json": {
       "model_id": "b12c7ab5acd34623b7a5e7d3952b9eac",
       "version_major": 2,
       "version_minor": 0
      },
      "text/plain": [
       "diffusion sampling:   0%|          | 0/20 [00:00<?, ?it/s]"
      ]
     },
     "metadata": {},
     "output_type": "display_data"
    },
    {
     "data": {
      "application/vnd.jupyter.widget-view+json": {
       "model_id": "267ea729d8b54dacaa59640b7999714b",
       "version_major": 2,
       "version_minor": 0
      },
      "text/plain": [
       "diffusion sampling:   0%|          | 0/20 [00:00<?, ?it/s]"
      ]
     },
     "metadata": {},
     "output_type": "display_data"
    },
    {
     "data": {
      "application/vnd.jupyter.widget-view+json": {
       "model_id": "9496189f663448ca9251fa11cd2d81e4",
       "version_major": 2,
       "version_minor": 0
      },
      "text/plain": [
       "class hypothsis:   0%|          | 0/6 [00:00<?, ?it/s]"
      ]
     },
     "metadata": {},
     "output_type": "display_data"
    },
    {
     "data": {
      "application/vnd.jupyter.widget-view+json": {
       "model_id": "44bc133193ef41e1a034da50bbd4fc64",
       "version_major": 2,
       "version_minor": 0
      },
      "text/plain": [
       "diffusion sampling:   0%|          | 0/20 [00:00<?, ?it/s]"
      ]
     },
     "metadata": {},
     "output_type": "display_data"
    },
    {
     "data": {
      "application/vnd.jupyter.widget-view+json": {
       "model_id": "369db7733b804802bc8e50c8dccfe386",
       "version_major": 2,
       "version_minor": 0
      },
      "text/plain": [
       "diffusion sampling:   0%|          | 0/20 [00:00<?, ?it/s]"
      ]
     },
     "metadata": {},
     "output_type": "display_data"
    },
    {
     "data": {
      "application/vnd.jupyter.widget-view+json": {
       "model_id": "42d1ff6f4f2c484bb43d0c3f9a9e777e",
       "version_major": 2,
       "version_minor": 0
      },
      "text/plain": [
       "diffusion sampling:   0%|          | 0/20 [00:00<?, ?it/s]"
      ]
     },
     "metadata": {},
     "output_type": "display_data"
    },
    {
     "data": {
      "application/vnd.jupyter.widget-view+json": {
       "model_id": "a5c74d6ecaec469594e5227c95fd1a78",
       "version_major": 2,
       "version_minor": 0
      },
      "text/plain": [
       "diffusion sampling:   0%|          | 0/20 [00:00<?, ?it/s]"
      ]
     },
     "metadata": {},
     "output_type": "display_data"
    },
    {
     "data": {
      "application/vnd.jupyter.widget-view+json": {
       "model_id": "f00bf3342fc04507ac680b00fe53ba02",
       "version_major": 2,
       "version_minor": 0
      },
      "text/plain": [
       "diffusion sampling:   0%|          | 0/20 [00:00<?, ?it/s]"
      ]
     },
     "metadata": {},
     "output_type": "display_data"
    },
    {
     "data": {
      "application/vnd.jupyter.widget-view+json": {
       "model_id": "e5fd47aed34d4be7949c089d342da9a5",
       "version_major": 2,
       "version_minor": 0
      },
      "text/plain": [
       "diffusion sampling:   0%|          | 0/20 [00:00<?, ?it/s]"
      ]
     },
     "metadata": {},
     "output_type": "display_data"
    },
    {
     "data": {
      "application/vnd.jupyter.widget-view+json": {
       "model_id": "598b1e08fccf4aee9016236949ed727d",
       "version_major": 2,
       "version_minor": 0
      },
      "text/plain": [
       "class hypothsis:   0%|          | 0/6 [00:00<?, ?it/s]"
      ]
     },
     "metadata": {},
     "output_type": "display_data"
    },
    {
     "data": {
      "application/vnd.jupyter.widget-view+json": {
       "model_id": "c5bed98c781e4ac2a2c50eb2bf200b4e",
       "version_major": 2,
       "version_minor": 0
      },
      "text/plain": [
       "diffusion sampling:   0%|          | 0/20 [00:00<?, ?it/s]"
      ]
     },
     "metadata": {},
     "output_type": "display_data"
    },
    {
     "data": {
      "application/vnd.jupyter.widget-view+json": {
       "model_id": "12fd809b9f964abf91ff889149aa9dfe",
       "version_major": 2,
       "version_minor": 0
      },
      "text/plain": [
       "diffusion sampling:   0%|          | 0/20 [00:00<?, ?it/s]"
      ]
     },
     "metadata": {},
     "output_type": "display_data"
    },
    {
     "data": {
      "application/vnd.jupyter.widget-view+json": {
       "model_id": "12b0e8b12229493db1854af3f03f49ba",
       "version_major": 2,
       "version_minor": 0
      },
      "text/plain": [
       "diffusion sampling:   0%|          | 0/20 [00:00<?, ?it/s]"
      ]
     },
     "metadata": {},
     "output_type": "display_data"
    },
    {
     "data": {
      "application/vnd.jupyter.widget-view+json": {
       "model_id": "611fae6f0f7a4923a75d771a3a4befce",
       "version_major": 2,
       "version_minor": 0
      },
      "text/plain": [
       "diffusion sampling:   0%|          | 0/20 [00:00<?, ?it/s]"
      ]
     },
     "metadata": {},
     "output_type": "display_data"
    },
    {
     "data": {
      "application/vnd.jupyter.widget-view+json": {
       "model_id": "5af40c1ff11644fbbb4164620eccd1e6",
       "version_major": 2,
       "version_minor": 0
      },
      "text/plain": [
       "diffusion sampling:   0%|          | 0/20 [00:00<?, ?it/s]"
      ]
     },
     "metadata": {},
     "output_type": "display_data"
    },
    {
     "data": {
      "application/vnd.jupyter.widget-view+json": {
       "model_id": "a76e5f9f08bf49e19cce793550450521",
       "version_major": 2,
       "version_minor": 0
      },
      "text/plain": [
       "diffusion sampling:   0%|          | 0/20 [00:00<?, ?it/s]"
      ]
     },
     "metadata": {},
     "output_type": "display_data"
    },
    {
     "data": {
      "application/vnd.jupyter.widget-view+json": {
       "model_id": "3d2949bebb3647af84c3febd3b5f45f2",
       "version_major": 2,
       "version_minor": 0
      },
      "text/plain": [
       "class hypothsis:   0%|          | 0/6 [00:00<?, ?it/s]"
      ]
     },
     "metadata": {},
     "output_type": "display_data"
    },
    {
     "data": {
      "application/vnd.jupyter.widget-view+json": {
       "model_id": "7db5eb1695214cda981fad35d80983f8",
       "version_major": 2,
       "version_minor": 0
      },
      "text/plain": [
       "diffusion sampling:   0%|          | 0/20 [00:00<?, ?it/s]"
      ]
     },
     "metadata": {},
     "output_type": "display_data"
    },
    {
     "data": {
      "application/vnd.jupyter.widget-view+json": {
       "model_id": "708eaab10e114435b0ab128279f1cd6e",
       "version_major": 2,
       "version_minor": 0
      },
      "text/plain": [
       "diffusion sampling:   0%|          | 0/20 [00:00<?, ?it/s]"
      ]
     },
     "metadata": {},
     "output_type": "display_data"
    },
    {
     "data": {
      "application/vnd.jupyter.widget-view+json": {
       "model_id": "5e01bd2e6fad42c3a15ab5c852330710",
       "version_major": 2,
       "version_minor": 0
      },
      "text/plain": [
       "diffusion sampling:   0%|          | 0/20 [00:00<?, ?it/s]"
      ]
     },
     "metadata": {},
     "output_type": "display_data"
    },
    {
     "data": {
      "application/vnd.jupyter.widget-view+json": {
       "model_id": "60adedc1de28496db46bb3a69d7979fe",
       "version_major": 2,
       "version_minor": 0
      },
      "text/plain": [
       "diffusion sampling:   0%|          | 0/20 [00:00<?, ?it/s]"
      ]
     },
     "metadata": {},
     "output_type": "display_data"
    },
    {
     "data": {
      "application/vnd.jupyter.widget-view+json": {
       "model_id": "e24b911fd64f4e86b3f85538d4ead41c",
       "version_major": 2,
       "version_minor": 0
      },
      "text/plain": [
       "diffusion sampling:   0%|          | 0/20 [00:00<?, ?it/s]"
      ]
     },
     "metadata": {},
     "output_type": "display_data"
    },
    {
     "data": {
      "application/vnd.jupyter.widget-view+json": {
       "model_id": "974949b7b0b5487694980b7772e0ee83",
       "version_major": 2,
       "version_minor": 0
      },
      "text/plain": [
       "diffusion sampling:   0%|          | 0/20 [00:00<?, ?it/s]"
      ]
     },
     "metadata": {},
     "output_type": "display_data"
    },
    {
     "data": {
      "application/vnd.jupyter.widget-view+json": {
       "model_id": "607af12fc06e41d592ac6b7ba2dcbbbb",
       "version_major": 2,
       "version_minor": 0
      },
      "text/plain": [
       "class hypothsis:   0%|          | 0/6 [00:00<?, ?it/s]"
      ]
     },
     "metadata": {},
     "output_type": "display_data"
    },
    {
     "data": {
      "application/vnd.jupyter.widget-view+json": {
       "model_id": "21ec18ae5a1a4909b07d6194e3098540",
       "version_major": 2,
       "version_minor": 0
      },
      "text/plain": [
       "diffusion sampling:   0%|          | 0/20 [00:00<?, ?it/s]"
      ]
     },
     "metadata": {},
     "output_type": "display_data"
    },
    {
     "data": {
      "application/vnd.jupyter.widget-view+json": {
       "model_id": "29e5861908c84d1d803980cad6bb1581",
       "version_major": 2,
       "version_minor": 0
      },
      "text/plain": [
       "diffusion sampling:   0%|          | 0/20 [00:00<?, ?it/s]"
      ]
     },
     "metadata": {},
     "output_type": "display_data"
    },
    {
     "data": {
      "application/vnd.jupyter.widget-view+json": {
       "model_id": "53ff09f8f9724be39a4a00a2a7a010ad",
       "version_major": 2,
       "version_minor": 0
      },
      "text/plain": [
       "diffusion sampling:   0%|          | 0/20 [00:00<?, ?it/s]"
      ]
     },
     "metadata": {},
     "output_type": "display_data"
    },
    {
     "data": {
      "application/vnd.jupyter.widget-view+json": {
       "model_id": "46f3c68bf9824f409c84996b865dcdf5",
       "version_major": 2,
       "version_minor": 0
      },
      "text/plain": [
       "diffusion sampling:   0%|          | 0/20 [00:00<?, ?it/s]"
      ]
     },
     "metadata": {},
     "output_type": "display_data"
    },
    {
     "data": {
      "application/vnd.jupyter.widget-view+json": {
       "model_id": "755e697ed7ea414eaa075938be945495",
       "version_major": 2,
       "version_minor": 0
      },
      "text/plain": [
       "diffusion sampling:   0%|          | 0/20 [00:00<?, ?it/s]"
      ]
     },
     "metadata": {},
     "output_type": "display_data"
    },
    {
     "data": {
      "application/vnd.jupyter.widget-view+json": {
       "model_id": "2f9e0969602a41bfad1bc6a6e7c80944",
       "version_major": 2,
       "version_minor": 0
      },
      "text/plain": [
       "diffusion sampling:   0%|          | 0/20 [00:00<?, ?it/s]"
      ]
     },
     "metadata": {},
     "output_type": "display_data"
    },
    {
     "data": {
      "application/vnd.jupyter.widget-view+json": {
       "model_id": "7a5315c055714d9ba60c4eca95b985df",
       "version_major": 2,
       "version_minor": 0
      },
      "text/plain": [
       "class hypothsis:   0%|          | 0/6 [00:00<?, ?it/s]"
      ]
     },
     "metadata": {},
     "output_type": "display_data"
    },
    {
     "data": {
      "application/vnd.jupyter.widget-view+json": {
       "model_id": "1b985cf343854c9e954f757ff4939ffc",
       "version_major": 2,
       "version_minor": 0
      },
      "text/plain": [
       "diffusion sampling:   0%|          | 0/20 [00:00<?, ?it/s]"
      ]
     },
     "metadata": {},
     "output_type": "display_data"
    },
    {
     "data": {
      "application/vnd.jupyter.widget-view+json": {
       "model_id": "c4c36df23a814c0d89cdf5993275f871",
       "version_major": 2,
       "version_minor": 0
      },
      "text/plain": [
       "diffusion sampling:   0%|          | 0/20 [00:00<?, ?it/s]"
      ]
     },
     "metadata": {},
     "output_type": "display_data"
    },
    {
     "data": {
      "application/vnd.jupyter.widget-view+json": {
       "model_id": "ebe09609e5614b4c90ef07eee535985c",
       "version_major": 2,
       "version_minor": 0
      },
      "text/plain": [
       "diffusion sampling:   0%|          | 0/20 [00:00<?, ?it/s]"
      ]
     },
     "metadata": {},
     "output_type": "display_data"
    },
    {
     "data": {
      "application/vnd.jupyter.widget-view+json": {
       "model_id": "82655bd5d60e4e97b929603c42e5858a",
       "version_major": 2,
       "version_minor": 0
      },
      "text/plain": [
       "diffusion sampling:   0%|          | 0/20 [00:00<?, ?it/s]"
      ]
     },
     "metadata": {},
     "output_type": "display_data"
    },
    {
     "data": {
      "application/vnd.jupyter.widget-view+json": {
       "model_id": "562a3fa601ba4e678a7235e7b37d2058",
       "version_major": 2,
       "version_minor": 0
      },
      "text/plain": [
       "diffusion sampling:   0%|          | 0/20 [00:00<?, ?it/s]"
      ]
     },
     "metadata": {},
     "output_type": "display_data"
    },
    {
     "data": {
      "application/vnd.jupyter.widget-view+json": {
       "model_id": "56a9c06bf939416c8d24ad3f529822c2",
       "version_major": 2,
       "version_minor": 0
      },
      "text/plain": [
       "diffusion sampling:   0%|          | 0/20 [00:00<?, ?it/s]"
      ]
     },
     "metadata": {},
     "output_type": "display_data"
    },
    {
     "data": {
      "application/vnd.jupyter.widget-view+json": {
       "model_id": "aa74ddc8ce9e43f7aa19ff51c42e3bf5",
       "version_major": 2,
       "version_minor": 0
      },
      "text/plain": [
       "class hypothsis:   0%|          | 0/6 [00:00<?, ?it/s]"
      ]
     },
     "metadata": {},
     "output_type": "display_data"
    },
    {
     "data": {
      "application/vnd.jupyter.widget-view+json": {
       "model_id": "3959bfc29ee941d3957f73929f136fb4",
       "version_major": 2,
       "version_minor": 0
      },
      "text/plain": [
       "diffusion sampling:   0%|          | 0/20 [00:00<?, ?it/s]"
      ]
     },
     "metadata": {},
     "output_type": "display_data"
    },
    {
     "data": {
      "application/vnd.jupyter.widget-view+json": {
       "model_id": "9b52da9abc7a41aca711baec13bf7090",
       "version_major": 2,
       "version_minor": 0
      },
      "text/plain": [
       "diffusion sampling:   0%|          | 0/20 [00:00<?, ?it/s]"
      ]
     },
     "metadata": {},
     "output_type": "display_data"
    },
    {
     "data": {
      "application/vnd.jupyter.widget-view+json": {
       "model_id": "ee64836105094371baf330b5229e6b23",
       "version_major": 2,
       "version_minor": 0
      },
      "text/plain": [
       "diffusion sampling:   0%|          | 0/20 [00:00<?, ?it/s]"
      ]
     },
     "metadata": {},
     "output_type": "display_data"
    },
    {
     "data": {
      "application/vnd.jupyter.widget-view+json": {
       "model_id": "b7053799498c4346b0c34b2f320c79a5",
       "version_major": 2,
       "version_minor": 0
      },
      "text/plain": [
       "diffusion sampling:   0%|          | 0/20 [00:00<?, ?it/s]"
      ]
     },
     "metadata": {},
     "output_type": "display_data"
    },
    {
     "data": {
      "application/vnd.jupyter.widget-view+json": {
       "model_id": "b9c84a0ca10841929b4c849663b7bb80",
       "version_major": 2,
       "version_minor": 0
      },
      "text/plain": [
       "diffusion sampling:   0%|          | 0/20 [00:00<?, ?it/s]"
      ]
     },
     "metadata": {},
     "output_type": "display_data"
    },
    {
     "data": {
      "application/vnd.jupyter.widget-view+json": {
       "model_id": "a4e3f7d67f994f80990275df214abfd2",
       "version_major": 2,
       "version_minor": 0
      },
      "text/plain": [
       "diffusion sampling:   0%|          | 0/20 [00:00<?, ?it/s]"
      ]
     },
     "metadata": {},
     "output_type": "display_data"
    },
    {
     "data": {
      "application/vnd.jupyter.widget-view+json": {
       "model_id": "974fe39a6e104bcab23c9e10901710b0",
       "version_major": 2,
       "version_minor": 0
      },
      "text/plain": [
       "class hypothsis:   0%|          | 0/6 [00:00<?, ?it/s]"
      ]
     },
     "metadata": {},
     "output_type": "display_data"
    },
    {
     "data": {
      "application/vnd.jupyter.widget-view+json": {
       "model_id": "b810dc0510474d798fe926c41faa32ef",
       "version_major": 2,
       "version_minor": 0
      },
      "text/plain": [
       "diffusion sampling:   0%|          | 0/20 [00:00<?, ?it/s]"
      ]
     },
     "metadata": {},
     "output_type": "display_data"
    },
    {
     "data": {
      "application/vnd.jupyter.widget-view+json": {
       "model_id": "cae1621a65be47e99d7aa037afd21525",
       "version_major": 2,
       "version_minor": 0
      },
      "text/plain": [
       "diffusion sampling:   0%|          | 0/20 [00:00<?, ?it/s]"
      ]
     },
     "metadata": {},
     "output_type": "display_data"
    },
    {
     "data": {
      "application/vnd.jupyter.widget-view+json": {
       "model_id": "6a5417a0439e4929af3d8125aa3dcc2a",
       "version_major": 2,
       "version_minor": 0
      },
      "text/plain": [
       "diffusion sampling:   0%|          | 0/20 [00:00<?, ?it/s]"
      ]
     },
     "metadata": {},
     "output_type": "display_data"
    },
    {
     "data": {
      "application/vnd.jupyter.widget-view+json": {
       "model_id": "44e8d37b9d6c405899a2a61eb26630b0",
       "version_major": 2,
       "version_minor": 0
      },
      "text/plain": [
       "diffusion sampling:   0%|          | 0/20 [00:00<?, ?it/s]"
      ]
     },
     "metadata": {},
     "output_type": "display_data"
    },
    {
     "data": {
      "application/vnd.jupyter.widget-view+json": {
       "model_id": "3c5d4177d3e74fb786d21f5cf923a26a",
       "version_major": 2,
       "version_minor": 0
      },
      "text/plain": [
       "diffusion sampling:   0%|          | 0/20 [00:00<?, ?it/s]"
      ]
     },
     "metadata": {},
     "output_type": "display_data"
    },
    {
     "data": {
      "application/vnd.jupyter.widget-view+json": {
       "model_id": "6c433efce5a140b6873766127109c753",
       "version_major": 2,
       "version_minor": 0
      },
      "text/plain": [
       "diffusion sampling:   0%|          | 0/20 [00:00<?, ?it/s]"
      ]
     },
     "metadata": {},
     "output_type": "display_data"
    },
    {
     "data": {
      "application/vnd.jupyter.widget-view+json": {
       "model_id": "9deb20fd327841ceab7aef457ada261d",
       "version_major": 2,
       "version_minor": 0
      },
      "text/plain": [
       "class hypothsis:   0%|          | 0/6 [00:00<?, ?it/s]"
      ]
     },
     "metadata": {},
     "output_type": "display_data"
    },
    {
     "data": {
      "application/vnd.jupyter.widget-view+json": {
       "model_id": "58ead4f837bb4a7e949954501738fd97",
       "version_major": 2,
       "version_minor": 0
      },
      "text/plain": [
       "diffusion sampling:   0%|          | 0/20 [00:00<?, ?it/s]"
      ]
     },
     "metadata": {},
     "output_type": "display_data"
    },
    {
     "data": {
      "application/vnd.jupyter.widget-view+json": {
       "model_id": "d2fc70aaedf1422897700b57d8672bba",
       "version_major": 2,
       "version_minor": 0
      },
      "text/plain": [
       "diffusion sampling:   0%|          | 0/20 [00:00<?, ?it/s]"
      ]
     },
     "metadata": {},
     "output_type": "display_data"
    },
    {
     "data": {
      "application/vnd.jupyter.widget-view+json": {
       "model_id": "f67658a9b01c4003ba7d7f6252607822",
       "version_major": 2,
       "version_minor": 0
      },
      "text/plain": [
       "diffusion sampling:   0%|          | 0/20 [00:00<?, ?it/s]"
      ]
     },
     "metadata": {},
     "output_type": "display_data"
    },
    {
     "data": {
      "application/vnd.jupyter.widget-view+json": {
       "model_id": "6d06a859d200434d942d2da4d47dc5b6",
       "version_major": 2,
       "version_minor": 0
      },
      "text/plain": [
       "diffusion sampling:   0%|          | 0/20 [00:00<?, ?it/s]"
      ]
     },
     "metadata": {},
     "output_type": "display_data"
    },
    {
     "data": {
      "application/vnd.jupyter.widget-view+json": {
       "model_id": "a1ed522b2d0a423fb89141335eb8afb2",
       "version_major": 2,
       "version_minor": 0
      },
      "text/plain": [
       "diffusion sampling:   0%|          | 0/20 [00:00<?, ?it/s]"
      ]
     },
     "metadata": {},
     "output_type": "display_data"
    },
    {
     "data": {
      "application/vnd.jupyter.widget-view+json": {
       "model_id": "f6029b59c96f46e79c52c2d64a93c146",
       "version_major": 2,
       "version_minor": 0
      },
      "text/plain": [
       "diffusion sampling:   0%|          | 0/20 [00:00<?, ?it/s]"
      ]
     },
     "metadata": {},
     "output_type": "display_data"
    },
    {
     "data": {
      "application/vnd.jupyter.widget-view+json": {
       "model_id": "3bed6a9bd66547939d4f481a03c4bb71",
       "version_major": 2,
       "version_minor": 0
      },
      "text/plain": [
       "class hypothsis:   0%|          | 0/6 [00:00<?, ?it/s]"
      ]
     },
     "metadata": {},
     "output_type": "display_data"
    },
    {
     "data": {
      "application/vnd.jupyter.widget-view+json": {
       "model_id": "7ff6a041c6104778a20572d626ff6a36",
       "version_major": 2,
       "version_minor": 0
      },
      "text/plain": [
       "diffusion sampling:   0%|          | 0/20 [00:00<?, ?it/s]"
      ]
     },
     "metadata": {},
     "output_type": "display_data"
    },
    {
     "data": {
      "application/vnd.jupyter.widget-view+json": {
       "model_id": "0092d2417172465da53de0a5d0477d3d",
       "version_major": 2,
       "version_minor": 0
      },
      "text/plain": [
       "diffusion sampling:   0%|          | 0/20 [00:00<?, ?it/s]"
      ]
     },
     "metadata": {},
     "output_type": "display_data"
    },
    {
     "data": {
      "application/vnd.jupyter.widget-view+json": {
       "model_id": "9f12ec00d1b5440ab8becdeb73f5fca2",
       "version_major": 2,
       "version_minor": 0
      },
      "text/plain": [
       "diffusion sampling:   0%|          | 0/20 [00:00<?, ?it/s]"
      ]
     },
     "metadata": {},
     "output_type": "display_data"
    },
    {
     "data": {
      "application/vnd.jupyter.widget-view+json": {
       "model_id": "3eec88f37d9143b99b0b66c74df610ac",
       "version_major": 2,
       "version_minor": 0
      },
      "text/plain": [
       "diffusion sampling:   0%|          | 0/20 [00:00<?, ?it/s]"
      ]
     },
     "metadata": {},
     "output_type": "display_data"
    },
    {
     "data": {
      "application/vnd.jupyter.widget-view+json": {
       "model_id": "22110201b90347e0be866f35c9eb02b1",
       "version_major": 2,
       "version_minor": 0
      },
      "text/plain": [
       "diffusion sampling:   0%|          | 0/20 [00:00<?, ?it/s]"
      ]
     },
     "metadata": {},
     "output_type": "display_data"
    },
    {
     "data": {
      "application/vnd.jupyter.widget-view+json": {
       "model_id": "9b9ef9c6338448e1b96181984b8d818c",
       "version_major": 2,
       "version_minor": 0
      },
      "text/plain": [
       "diffusion sampling:   0%|          | 0/20 [00:00<?, ?it/s]"
      ]
     },
     "metadata": {},
     "output_type": "display_data"
    },
    {
     "data": {
      "application/vnd.jupyter.widget-view+json": {
       "model_id": "8920b19300fe4515934a9632b48eeb25",
       "version_major": 2,
       "version_minor": 0
      },
      "text/plain": [
       "class hypothsis:   0%|          | 0/6 [00:00<?, ?it/s]"
      ]
     },
     "metadata": {},
     "output_type": "display_data"
    },
    {
     "data": {
      "application/vnd.jupyter.widget-view+json": {
       "model_id": "d3d956b43b704ee8b7fa3a8a647f6ae5",
       "version_major": 2,
       "version_minor": 0
      },
      "text/plain": [
       "diffusion sampling:   0%|          | 0/20 [00:00<?, ?it/s]"
      ]
     },
     "metadata": {},
     "output_type": "display_data"
    },
    {
     "data": {
      "application/vnd.jupyter.widget-view+json": {
       "model_id": "b9d4d4353e8143918aba027cc175345c",
       "version_major": 2,
       "version_minor": 0
      },
      "text/plain": [
       "diffusion sampling:   0%|          | 0/20 [00:00<?, ?it/s]"
      ]
     },
     "metadata": {},
     "output_type": "display_data"
    },
    {
     "data": {
      "application/vnd.jupyter.widget-view+json": {
       "model_id": "88128e436ba946e8a93ab5529d8eea86",
       "version_major": 2,
       "version_minor": 0
      },
      "text/plain": [
       "diffusion sampling:   0%|          | 0/20 [00:00<?, ?it/s]"
      ]
     },
     "metadata": {},
     "output_type": "display_data"
    },
    {
     "data": {
      "application/vnd.jupyter.widget-view+json": {
       "model_id": "1d5d385c76c643a69ceca2053a7fe096",
       "version_major": 2,
       "version_minor": 0
      },
      "text/plain": [
       "diffusion sampling:   0%|          | 0/20 [00:00<?, ?it/s]"
      ]
     },
     "metadata": {},
     "output_type": "display_data"
    },
    {
     "data": {
      "application/vnd.jupyter.widget-view+json": {
       "model_id": "df077d1020944f1d9f37674917f3b5fa",
       "version_major": 2,
       "version_minor": 0
      },
      "text/plain": [
       "diffusion sampling:   0%|          | 0/20 [00:00<?, ?it/s]"
      ]
     },
     "metadata": {},
     "output_type": "display_data"
    },
    {
     "data": {
      "application/vnd.jupyter.widget-view+json": {
       "model_id": "82466b14918541e29483567076292eba",
       "version_major": 2,
       "version_minor": 0
      },
      "text/plain": [
       "diffusion sampling:   0%|          | 0/20 [00:00<?, ?it/s]"
      ]
     },
     "metadata": {},
     "output_type": "display_data"
    },
    {
     "data": {
      "application/vnd.jupyter.widget-view+json": {
       "model_id": "7dc1d872f01e4b3a9e4954ed87345732",
       "version_major": 2,
       "version_minor": 0
      },
      "text/plain": [
       "class hypothsis:   0%|          | 0/6 [00:00<?, ?it/s]"
      ]
     },
     "metadata": {},
     "output_type": "display_data"
    },
    {
     "data": {
      "application/vnd.jupyter.widget-view+json": {
       "model_id": "6cb465e620d5491da26c95a60aea21c9",
       "version_major": 2,
       "version_minor": 0
      },
      "text/plain": [
       "diffusion sampling:   0%|          | 0/20 [00:00<?, ?it/s]"
      ]
     },
     "metadata": {},
     "output_type": "display_data"
    },
    {
     "data": {
      "application/vnd.jupyter.widget-view+json": {
       "model_id": "03f0fcf1f6b4437bae0c33472df49e20",
       "version_major": 2,
       "version_minor": 0
      },
      "text/plain": [
       "diffusion sampling:   0%|          | 0/20 [00:00<?, ?it/s]"
      ]
     },
     "metadata": {},
     "output_type": "display_data"
    },
    {
     "data": {
      "application/vnd.jupyter.widget-view+json": {
       "model_id": "e57045ebe1ff490c8abb9a7ef9ce1994",
       "version_major": 2,
       "version_minor": 0
      },
      "text/plain": [
       "diffusion sampling:   0%|          | 0/20 [00:00<?, ?it/s]"
      ]
     },
     "metadata": {},
     "output_type": "display_data"
    },
    {
     "data": {
      "application/vnd.jupyter.widget-view+json": {
       "model_id": "3929f617b9ea4ef88ad24f12f6b2fb3f",
       "version_major": 2,
       "version_minor": 0
      },
      "text/plain": [
       "diffusion sampling:   0%|          | 0/20 [00:00<?, ?it/s]"
      ]
     },
     "metadata": {},
     "output_type": "display_data"
    },
    {
     "data": {
      "application/vnd.jupyter.widget-view+json": {
       "model_id": "fea73232efbe4ac5a43e3d57cc7b40e5",
       "version_major": 2,
       "version_minor": 0
      },
      "text/plain": [
       "diffusion sampling:   0%|          | 0/20 [00:00<?, ?it/s]"
      ]
     },
     "metadata": {},
     "output_type": "display_data"
    },
    {
     "data": {
      "application/vnd.jupyter.widget-view+json": {
       "model_id": "0d95b09392804f93adc14a9be407737c",
       "version_major": 2,
       "version_minor": 0
      },
      "text/plain": [
       "diffusion sampling:   0%|          | 0/20 [00:00<?, ?it/s]"
      ]
     },
     "metadata": {},
     "output_type": "display_data"
    },
    {
     "data": {
      "application/vnd.jupyter.widget-view+json": {
       "model_id": "c29a3715381f464db8f2509e8e32d101",
       "version_major": 2,
       "version_minor": 0
      },
      "text/plain": [
       "class hypothsis:   0%|          | 0/6 [00:00<?, ?it/s]"
      ]
     },
     "metadata": {},
     "output_type": "display_data"
    },
    {
     "data": {
      "application/vnd.jupyter.widget-view+json": {
       "model_id": "5e96d274023e443998b0cab7c2187d8e",
       "version_major": 2,
       "version_minor": 0
      },
      "text/plain": [
       "diffusion sampling:   0%|          | 0/20 [00:00<?, ?it/s]"
      ]
     },
     "metadata": {},
     "output_type": "display_data"
    },
    {
     "data": {
      "application/vnd.jupyter.widget-view+json": {
       "model_id": "4ece582d477b4e9e8ec0d9768beba26d",
       "version_major": 2,
       "version_minor": 0
      },
      "text/plain": [
       "diffusion sampling:   0%|          | 0/20 [00:00<?, ?it/s]"
      ]
     },
     "metadata": {},
     "output_type": "display_data"
    },
    {
     "data": {
      "application/vnd.jupyter.widget-view+json": {
       "model_id": "d538b01d378a4fb9b108539c87d2b67c",
       "version_major": 2,
       "version_minor": 0
      },
      "text/plain": [
       "diffusion sampling:   0%|          | 0/20 [00:00<?, ?it/s]"
      ]
     },
     "metadata": {},
     "output_type": "display_data"
    },
    {
     "data": {
      "application/vnd.jupyter.widget-view+json": {
       "model_id": "73876b2d22624462b7422b5bd5ae600a",
       "version_major": 2,
       "version_minor": 0
      },
      "text/plain": [
       "diffusion sampling:   0%|          | 0/20 [00:00<?, ?it/s]"
      ]
     },
     "metadata": {},
     "output_type": "display_data"
    },
    {
     "data": {
      "application/vnd.jupyter.widget-view+json": {
       "model_id": "6874a415f7d64945b04c2516de699617",
       "version_major": 2,
       "version_minor": 0
      },
      "text/plain": [
       "diffusion sampling:   0%|          | 0/20 [00:00<?, ?it/s]"
      ]
     },
     "metadata": {},
     "output_type": "display_data"
    },
    {
     "data": {
      "application/vnd.jupyter.widget-view+json": {
       "model_id": "7374de7d40ec4f57a48a88deb3311052",
       "version_major": 2,
       "version_minor": 0
      },
      "text/plain": [
       "diffusion sampling:   0%|          | 0/20 [00:00<?, ?it/s]"
      ]
     },
     "metadata": {},
     "output_type": "display_data"
    },
    {
     "data": {
      "application/vnd.jupyter.widget-view+json": {
       "model_id": "f6a3ba69cbdd45099a052aa535646cfb",
       "version_major": 2,
       "version_minor": 0
      },
      "text/plain": [
       "class hypothsis:   0%|          | 0/6 [00:00<?, ?it/s]"
      ]
     },
     "metadata": {},
     "output_type": "display_data"
    },
    {
     "data": {
      "application/vnd.jupyter.widget-view+json": {
       "model_id": "91b0b510a226451dafe02585bc07891e",
       "version_major": 2,
       "version_minor": 0
      },
      "text/plain": [
       "diffusion sampling:   0%|          | 0/20 [00:00<?, ?it/s]"
      ]
     },
     "metadata": {},
     "output_type": "display_data"
    },
    {
     "data": {
      "application/vnd.jupyter.widget-view+json": {
       "model_id": "b6e2d90698bd418888614083c694ece4",
       "version_major": 2,
       "version_minor": 0
      },
      "text/plain": [
       "diffusion sampling:   0%|          | 0/20 [00:00<?, ?it/s]"
      ]
     },
     "metadata": {},
     "output_type": "display_data"
    },
    {
     "data": {
      "application/vnd.jupyter.widget-view+json": {
       "model_id": "cd2c49566cbb4713a7001d650d46fa99",
       "version_major": 2,
       "version_minor": 0
      },
      "text/plain": [
       "diffusion sampling:   0%|          | 0/20 [00:00<?, ?it/s]"
      ]
     },
     "metadata": {},
     "output_type": "display_data"
    },
    {
     "data": {
      "application/vnd.jupyter.widget-view+json": {
       "model_id": "61dd03d87a5949e68e543211e66b86e4",
       "version_major": 2,
       "version_minor": 0
      },
      "text/plain": [
       "diffusion sampling:   0%|          | 0/20 [00:00<?, ?it/s]"
      ]
     },
     "metadata": {},
     "output_type": "display_data"
    },
    {
     "data": {
      "application/vnd.jupyter.widget-view+json": {
       "model_id": "b0d3f6fcfe8d4207ade10946683fc7cf",
       "version_major": 2,
       "version_minor": 0
      },
      "text/plain": [
       "diffusion sampling:   0%|          | 0/20 [00:00<?, ?it/s]"
      ]
     },
     "metadata": {},
     "output_type": "display_data"
    },
    {
     "data": {
      "application/vnd.jupyter.widget-view+json": {
       "model_id": "60b03ad1822541e7b963a370805f5109",
       "version_major": 2,
       "version_minor": 0
      },
      "text/plain": [
       "diffusion sampling:   0%|          | 0/20 [00:00<?, ?it/s]"
      ]
     },
     "metadata": {},
     "output_type": "display_data"
    },
    {
     "data": {
      "application/vnd.jupyter.widget-view+json": {
       "model_id": "4b92b8505b9149ba8f7c6d5564bbe5e5",
       "version_major": 2,
       "version_minor": 0
      },
      "text/plain": [
       "class hypothsis:   0%|          | 0/6 [00:00<?, ?it/s]"
      ]
     },
     "metadata": {},
     "output_type": "display_data"
    },
    {
     "data": {
      "application/vnd.jupyter.widget-view+json": {
       "model_id": "dc93fcd6c9904212ba76527ec9fc8ed6",
       "version_major": 2,
       "version_minor": 0
      },
      "text/plain": [
       "diffusion sampling:   0%|          | 0/20 [00:00<?, ?it/s]"
      ]
     },
     "metadata": {},
     "output_type": "display_data"
    },
    {
     "data": {
      "application/vnd.jupyter.widget-view+json": {
       "model_id": "ae6dca903cc141428cb355c2b3f8d51c",
       "version_major": 2,
       "version_minor": 0
      },
      "text/plain": [
       "diffusion sampling:   0%|          | 0/20 [00:00<?, ?it/s]"
      ]
     },
     "metadata": {},
     "output_type": "display_data"
    },
    {
     "data": {
      "application/vnd.jupyter.widget-view+json": {
       "model_id": "657d7674f61340368fd9d5db7aa67db7",
       "version_major": 2,
       "version_minor": 0
      },
      "text/plain": [
       "diffusion sampling:   0%|          | 0/20 [00:00<?, ?it/s]"
      ]
     },
     "metadata": {},
     "output_type": "display_data"
    },
    {
     "data": {
      "application/vnd.jupyter.widget-view+json": {
       "model_id": "a1bfa1a6c91244119f12d64072d0951f",
       "version_major": 2,
       "version_minor": 0
      },
      "text/plain": [
       "diffusion sampling:   0%|          | 0/20 [00:00<?, ?it/s]"
      ]
     },
     "metadata": {},
     "output_type": "display_data"
    },
    {
     "data": {
      "application/vnd.jupyter.widget-view+json": {
       "model_id": "fbd0a4852d8648f9951e947ed790bf4d",
       "version_major": 2,
       "version_minor": 0
      },
      "text/plain": [
       "diffusion sampling:   0%|          | 0/20 [00:00<?, ?it/s]"
      ]
     },
     "metadata": {},
     "output_type": "display_data"
    },
    {
     "data": {
      "application/vnd.jupyter.widget-view+json": {
       "model_id": "fece3e2e2321418a8f2e979f6663c5cb",
       "version_major": 2,
       "version_minor": 0
      },
      "text/plain": [
       "diffusion sampling:   0%|          | 0/20 [00:00<?, ?it/s]"
      ]
     },
     "metadata": {},
     "output_type": "display_data"
    },
    {
     "data": {
      "application/vnd.jupyter.widget-view+json": {
       "model_id": "073256e1dfad4ba185a28c90f1cb2faa",
       "version_major": 2,
       "version_minor": 0
      },
      "text/plain": [
       "class hypothsis:   0%|          | 0/6 [00:00<?, ?it/s]"
      ]
     },
     "metadata": {},
     "output_type": "display_data"
    },
    {
     "data": {
      "application/vnd.jupyter.widget-view+json": {
       "model_id": "d4fa0a3dfec043fb994c5a813b5f72e0",
       "version_major": 2,
       "version_minor": 0
      },
      "text/plain": [
       "diffusion sampling:   0%|          | 0/20 [00:00<?, ?it/s]"
      ]
     },
     "metadata": {},
     "output_type": "display_data"
    },
    {
     "data": {
      "application/vnd.jupyter.widget-view+json": {
       "model_id": "7eb87bfd4af342cfae13b84e0f113fcd",
       "version_major": 2,
       "version_minor": 0
      },
      "text/plain": [
       "diffusion sampling:   0%|          | 0/20 [00:00<?, ?it/s]"
      ]
     },
     "metadata": {},
     "output_type": "display_data"
    },
    {
     "data": {
      "application/vnd.jupyter.widget-view+json": {
       "model_id": "be6713f304634d2ba4de75a2022ec1a1",
       "version_major": 2,
       "version_minor": 0
      },
      "text/plain": [
       "diffusion sampling:   0%|          | 0/20 [00:00<?, ?it/s]"
      ]
     },
     "metadata": {},
     "output_type": "display_data"
    },
    {
     "data": {
      "application/vnd.jupyter.widget-view+json": {
       "model_id": "7e4f9c7a75b64d2691639b27cb1f919c",
       "version_major": 2,
       "version_minor": 0
      },
      "text/plain": [
       "diffusion sampling:   0%|          | 0/20 [00:00<?, ?it/s]"
      ]
     },
     "metadata": {},
     "output_type": "display_data"
    },
    {
     "data": {
      "application/vnd.jupyter.widget-view+json": {
       "model_id": "b499d21f62244b0192ad3685af32e4a1",
       "version_major": 2,
       "version_minor": 0
      },
      "text/plain": [
       "diffusion sampling:   0%|          | 0/20 [00:00<?, ?it/s]"
      ]
     },
     "metadata": {},
     "output_type": "display_data"
    },
    {
     "data": {
      "application/vnd.jupyter.widget-view+json": {
       "model_id": "7d152658a0f44267bbdc82c25d8bf3a3",
       "version_major": 2,
       "version_minor": 0
      },
      "text/plain": [
       "diffusion sampling:   0%|          | 0/20 [00:00<?, ?it/s]"
      ]
     },
     "metadata": {},
     "output_type": "display_data"
    },
    {
     "data": {
      "application/vnd.jupyter.widget-view+json": {
       "model_id": "1b1c19fede6f472997c279036159bb04",
       "version_major": 2,
       "version_minor": 0
      },
      "text/plain": [
       "class hypothsis:   0%|          | 0/6 [00:00<?, ?it/s]"
      ]
     },
     "metadata": {},
     "output_type": "display_data"
    },
    {
     "data": {
      "application/vnd.jupyter.widget-view+json": {
       "model_id": "eec4a025fffd4eb6b2cafb1564d8df03",
       "version_major": 2,
       "version_minor": 0
      },
      "text/plain": [
       "diffusion sampling:   0%|          | 0/20 [00:00<?, ?it/s]"
      ]
     },
     "metadata": {},
     "output_type": "display_data"
    },
    {
     "data": {
      "application/vnd.jupyter.widget-view+json": {
       "model_id": "17347919c7dd41ea86fef098a3fc0f1e",
       "version_major": 2,
       "version_minor": 0
      },
      "text/plain": [
       "diffusion sampling:   0%|          | 0/20 [00:00<?, ?it/s]"
      ]
     },
     "metadata": {},
     "output_type": "display_data"
    },
    {
     "data": {
      "application/vnd.jupyter.widget-view+json": {
       "model_id": "419828c76b48461baed69873584d053b",
       "version_major": 2,
       "version_minor": 0
      },
      "text/plain": [
       "diffusion sampling:   0%|          | 0/20 [00:00<?, ?it/s]"
      ]
     },
     "metadata": {},
     "output_type": "display_data"
    },
    {
     "data": {
      "application/vnd.jupyter.widget-view+json": {
       "model_id": "b14fed49ea6d4df09de8b10c000260f9",
       "version_major": 2,
       "version_minor": 0
      },
      "text/plain": [
       "diffusion sampling:   0%|          | 0/20 [00:00<?, ?it/s]"
      ]
     },
     "metadata": {},
     "output_type": "display_data"
    },
    {
     "data": {
      "application/vnd.jupyter.widget-view+json": {
       "model_id": "5ed1f56014cf4ec3bce1c378d7a65ede",
       "version_major": 2,
       "version_minor": 0
      },
      "text/plain": [
       "diffusion sampling:   0%|          | 0/20 [00:00<?, ?it/s]"
      ]
     },
     "metadata": {},
     "output_type": "display_data"
    },
    {
     "data": {
      "application/vnd.jupyter.widget-view+json": {
       "model_id": "f9be61b1a01346e097b2b5f7aad31875",
       "version_major": 2,
       "version_minor": 0
      },
      "text/plain": [
       "diffusion sampling:   0%|          | 0/20 [00:00<?, ?it/s]"
      ]
     },
     "metadata": {},
     "output_type": "display_data"
    },
    {
     "data": {
      "application/vnd.jupyter.widget-view+json": {
       "model_id": "5bf17b535f014e9c834d36365db4e75d",
       "version_major": 2,
       "version_minor": 0
      },
      "text/plain": [
       "class hypothsis:   0%|          | 0/6 [00:00<?, ?it/s]"
      ]
     },
     "metadata": {},
     "output_type": "display_data"
    },
    {
     "data": {
      "application/vnd.jupyter.widget-view+json": {
       "model_id": "516bcabace8c48e0bae9bca5f25a91ca",
       "version_major": 2,
       "version_minor": 0
      },
      "text/plain": [
       "diffusion sampling:   0%|          | 0/20 [00:00<?, ?it/s]"
      ]
     },
     "metadata": {},
     "output_type": "display_data"
    },
    {
     "data": {
      "application/vnd.jupyter.widget-view+json": {
       "model_id": "336d522767c849e5b3f91dadf2e14976",
       "version_major": 2,
       "version_minor": 0
      },
      "text/plain": [
       "diffusion sampling:   0%|          | 0/20 [00:00<?, ?it/s]"
      ]
     },
     "metadata": {},
     "output_type": "display_data"
    },
    {
     "data": {
      "application/vnd.jupyter.widget-view+json": {
       "model_id": "654d424a42e347a7830c096436821cd5",
       "version_major": 2,
       "version_minor": 0
      },
      "text/plain": [
       "diffusion sampling:   0%|          | 0/20 [00:00<?, ?it/s]"
      ]
     },
     "metadata": {},
     "output_type": "display_data"
    },
    {
     "data": {
      "application/vnd.jupyter.widget-view+json": {
       "model_id": "1d486dd4c4d745c79314bae0f7cf310e",
       "version_major": 2,
       "version_minor": 0
      },
      "text/plain": [
       "diffusion sampling:   0%|          | 0/20 [00:00<?, ?it/s]"
      ]
     },
     "metadata": {},
     "output_type": "display_data"
    },
    {
     "data": {
      "application/vnd.jupyter.widget-view+json": {
       "model_id": "f8bcea87a0a84ed7ae9384b2dbab262d",
       "version_major": 2,
       "version_minor": 0
      },
      "text/plain": [
       "diffusion sampling:   0%|          | 0/20 [00:00<?, ?it/s]"
      ]
     },
     "metadata": {},
     "output_type": "display_data"
    },
    {
     "data": {
      "application/vnd.jupyter.widget-view+json": {
       "model_id": "892c0489ac1c4cf28ba20b39595ed799",
       "version_major": 2,
       "version_minor": 0
      },
      "text/plain": [
       "diffusion sampling:   0%|          | 0/20 [00:00<?, ?it/s]"
      ]
     },
     "metadata": {},
     "output_type": "display_data"
    },
    {
     "data": {
      "application/vnd.jupyter.widget-view+json": {
       "model_id": "e9dced658d944c0d8e1b7e352ab89518",
       "version_major": 2,
       "version_minor": 0
      },
      "text/plain": [
       "class hypothsis:   0%|          | 0/6 [00:00<?, ?it/s]"
      ]
     },
     "metadata": {},
     "output_type": "display_data"
    },
    {
     "data": {
      "application/vnd.jupyter.widget-view+json": {
       "model_id": "b4ea0dce26dc4071bef300f4bac46f7d",
       "version_major": 2,
       "version_minor": 0
      },
      "text/plain": [
       "diffusion sampling:   0%|          | 0/20 [00:00<?, ?it/s]"
      ]
     },
     "metadata": {},
     "output_type": "display_data"
    },
    {
     "data": {
      "application/vnd.jupyter.widget-view+json": {
       "model_id": "0210eff785bb438fbb6c4913c1748066",
       "version_major": 2,
       "version_minor": 0
      },
      "text/plain": [
       "diffusion sampling:   0%|          | 0/20 [00:00<?, ?it/s]"
      ]
     },
     "metadata": {},
     "output_type": "display_data"
    },
    {
     "data": {
      "application/vnd.jupyter.widget-view+json": {
       "model_id": "f9a83ffe55d04eb4b56f18cd8b1964dc",
       "version_major": 2,
       "version_minor": 0
      },
      "text/plain": [
       "diffusion sampling:   0%|          | 0/20 [00:00<?, ?it/s]"
      ]
     },
     "metadata": {},
     "output_type": "display_data"
    },
    {
     "data": {
      "application/vnd.jupyter.widget-view+json": {
       "model_id": "6901220d74a248a2ae2cd40a15f82422",
       "version_major": 2,
       "version_minor": 0
      },
      "text/plain": [
       "diffusion sampling:   0%|          | 0/20 [00:00<?, ?it/s]"
      ]
     },
     "metadata": {},
     "output_type": "display_data"
    },
    {
     "data": {
      "application/vnd.jupyter.widget-view+json": {
       "model_id": "0d48b75890514dca869edfa57f5e91bb",
       "version_major": 2,
       "version_minor": 0
      },
      "text/plain": [
       "diffusion sampling:   0%|          | 0/20 [00:00<?, ?it/s]"
      ]
     },
     "metadata": {},
     "output_type": "display_data"
    },
    {
     "data": {
      "application/vnd.jupyter.widget-view+json": {
       "model_id": "a0645b5cc0534144ba609dc0dbfe763d",
       "version_major": 2,
       "version_minor": 0
      },
      "text/plain": [
       "diffusion sampling:   0%|          | 0/20 [00:00<?, ?it/s]"
      ]
     },
     "metadata": {},
     "output_type": "display_data"
    },
    {
     "data": {
      "application/vnd.jupyter.widget-view+json": {
       "model_id": "869eaaf5fb23481a87948eab33a5a62c",
       "version_major": 2,
       "version_minor": 0
      },
      "text/plain": [
       "class hypothsis:   0%|          | 0/6 [00:00<?, ?it/s]"
      ]
     },
     "metadata": {},
     "output_type": "display_data"
    },
    {
     "data": {
      "application/vnd.jupyter.widget-view+json": {
       "model_id": "82057476d647401cb7a87446ea0e2e0b",
       "version_major": 2,
       "version_minor": 0
      },
      "text/plain": [
       "diffusion sampling:   0%|          | 0/20 [00:00<?, ?it/s]"
      ]
     },
     "metadata": {},
     "output_type": "display_data"
    },
    {
     "data": {
      "application/vnd.jupyter.widget-view+json": {
       "model_id": "a3e431d8184f4ff7bc71559af267f4ab",
       "version_major": 2,
       "version_minor": 0
      },
      "text/plain": [
       "diffusion sampling:   0%|          | 0/20 [00:00<?, ?it/s]"
      ]
     },
     "metadata": {},
     "output_type": "display_data"
    },
    {
     "data": {
      "application/vnd.jupyter.widget-view+json": {
       "model_id": "e12f98072b80488fa605b603321aef74",
       "version_major": 2,
       "version_minor": 0
      },
      "text/plain": [
       "diffusion sampling:   0%|          | 0/20 [00:00<?, ?it/s]"
      ]
     },
     "metadata": {},
     "output_type": "display_data"
    },
    {
     "data": {
      "application/vnd.jupyter.widget-view+json": {
       "model_id": "887a9c7f98fe4eec9f9a30562ead5851",
       "version_major": 2,
       "version_minor": 0
      },
      "text/plain": [
       "diffusion sampling:   0%|          | 0/20 [00:00<?, ?it/s]"
      ]
     },
     "metadata": {},
     "output_type": "display_data"
    },
    {
     "data": {
      "application/vnd.jupyter.widget-view+json": {
       "model_id": "8106ce8075c14811ba5412b5ba35d428",
       "version_major": 2,
       "version_minor": 0
      },
      "text/plain": [
       "diffusion sampling:   0%|          | 0/20 [00:00<?, ?it/s]"
      ]
     },
     "metadata": {},
     "output_type": "display_data"
    },
    {
     "data": {
      "application/vnd.jupyter.widget-view+json": {
       "model_id": "eb27be79386244f0883ab020b2c03108",
       "version_major": 2,
       "version_minor": 0
      },
      "text/plain": [
       "diffusion sampling:   0%|          | 0/20 [00:00<?, ?it/s]"
      ]
     },
     "metadata": {},
     "output_type": "display_data"
    },
    {
     "data": {
      "application/vnd.jupyter.widget-view+json": {
       "model_id": "32180bd11d4845ffad86b7cb1865652e",
       "version_major": 2,
       "version_minor": 0
      },
      "text/plain": [
       "class hypothsis:   0%|          | 0/6 [00:00<?, ?it/s]"
      ]
     },
     "metadata": {},
     "output_type": "display_data"
    },
    {
     "data": {
      "application/vnd.jupyter.widget-view+json": {
       "model_id": "4b3c29290565489894b629bc36b65de7",
       "version_major": 2,
       "version_minor": 0
      },
      "text/plain": [
       "diffusion sampling:   0%|          | 0/20 [00:00<?, ?it/s]"
      ]
     },
     "metadata": {},
     "output_type": "display_data"
    },
    {
     "data": {
      "application/vnd.jupyter.widget-view+json": {
       "model_id": "6a6be36b73db407f9396c6b3c6d70e74",
       "version_major": 2,
       "version_minor": 0
      },
      "text/plain": [
       "diffusion sampling:   0%|          | 0/20 [00:00<?, ?it/s]"
      ]
     },
     "metadata": {},
     "output_type": "display_data"
    },
    {
     "data": {
      "application/vnd.jupyter.widget-view+json": {
       "model_id": "99dbc3e334ce4583956a341405d1bab4",
       "version_major": 2,
       "version_minor": 0
      },
      "text/plain": [
       "diffusion sampling:   0%|          | 0/20 [00:00<?, ?it/s]"
      ]
     },
     "metadata": {},
     "output_type": "display_data"
    },
    {
     "data": {
      "application/vnd.jupyter.widget-view+json": {
       "model_id": "02ea403d539d4804adcc97081e4b290c",
       "version_major": 2,
       "version_minor": 0
      },
      "text/plain": [
       "diffusion sampling:   0%|          | 0/20 [00:00<?, ?it/s]"
      ]
     },
     "metadata": {},
     "output_type": "display_data"
    },
    {
     "data": {
      "application/vnd.jupyter.widget-view+json": {
       "model_id": "990b057dee7544758df929a1d4ae82b0",
       "version_major": 2,
       "version_minor": 0
      },
      "text/plain": [
       "diffusion sampling:   0%|          | 0/20 [00:00<?, ?it/s]"
      ]
     },
     "metadata": {},
     "output_type": "display_data"
    },
    {
     "data": {
      "application/vnd.jupyter.widget-view+json": {
       "model_id": "f15dac9079464c4e9ab4390afa81c549",
       "version_major": 2,
       "version_minor": 0
      },
      "text/plain": [
       "diffusion sampling:   0%|          | 0/20 [00:00<?, ?it/s]"
      ]
     },
     "metadata": {},
     "output_type": "display_data"
    },
    {
     "data": {
      "application/vnd.jupyter.widget-view+json": {
       "model_id": "fb0ed2ecf4dd4c5382eeb2cc9325d1aa",
       "version_major": 2,
       "version_minor": 0
      },
      "text/plain": [
       "class hypothsis:   0%|          | 0/6 [00:00<?, ?it/s]"
      ]
     },
     "metadata": {},
     "output_type": "display_data"
    },
    {
     "data": {
      "application/vnd.jupyter.widget-view+json": {
       "model_id": "7aff6f78f0a14ed4baf94b02871839d8",
       "version_major": 2,
       "version_minor": 0
      },
      "text/plain": [
       "diffusion sampling:   0%|          | 0/20 [00:00<?, ?it/s]"
      ]
     },
     "metadata": {},
     "output_type": "display_data"
    },
    {
     "data": {
      "application/vnd.jupyter.widget-view+json": {
       "model_id": "bfb33bf524eb4b7ba6183c0e42f13bd8",
       "version_major": 2,
       "version_minor": 0
      },
      "text/plain": [
       "diffusion sampling:   0%|          | 0/20 [00:00<?, ?it/s]"
      ]
     },
     "metadata": {},
     "output_type": "display_data"
    },
    {
     "data": {
      "application/vnd.jupyter.widget-view+json": {
       "model_id": "0b27e4bf162d47a0ace283a6ff39270f",
       "version_major": 2,
       "version_minor": 0
      },
      "text/plain": [
       "diffusion sampling:   0%|          | 0/20 [00:00<?, ?it/s]"
      ]
     },
     "metadata": {},
     "output_type": "display_data"
    },
    {
     "data": {
      "application/vnd.jupyter.widget-view+json": {
       "model_id": "6e4680c07e0745928317b568d83d3967",
       "version_major": 2,
       "version_minor": 0
      },
      "text/plain": [
       "diffusion sampling:   0%|          | 0/20 [00:00<?, ?it/s]"
      ]
     },
     "metadata": {},
     "output_type": "display_data"
    },
    {
     "data": {
      "application/vnd.jupyter.widget-view+json": {
       "model_id": "28c5c2569a3b4cd3938969e609c23201",
       "version_major": 2,
       "version_minor": 0
      },
      "text/plain": [
       "diffusion sampling:   0%|          | 0/20 [00:00<?, ?it/s]"
      ]
     },
     "metadata": {},
     "output_type": "display_data"
    },
    {
     "data": {
      "application/vnd.jupyter.widget-view+json": {
       "model_id": "9fd1b8a025bc41dc9b847b0ce1184dc3",
       "version_major": 2,
       "version_minor": 0
      },
      "text/plain": [
       "diffusion sampling:   0%|          | 0/20 [00:00<?, ?it/s]"
      ]
     },
     "metadata": {},
     "output_type": "display_data"
    },
    {
     "data": {
      "application/vnd.jupyter.widget-view+json": {
       "model_id": "b64a806dd9d1440b96cda5707259604b",
       "version_major": 2,
       "version_minor": 0
      },
      "text/plain": [
       "class hypothsis:   0%|          | 0/6 [00:00<?, ?it/s]"
      ]
     },
     "metadata": {},
     "output_type": "display_data"
    },
    {
     "data": {
      "application/vnd.jupyter.widget-view+json": {
       "model_id": "ead0d6c7688240199af1d677ad6c1d93",
       "version_major": 2,
       "version_minor": 0
      },
      "text/plain": [
       "diffusion sampling:   0%|          | 0/20 [00:00<?, ?it/s]"
      ]
     },
     "metadata": {},
     "output_type": "display_data"
    },
    {
     "data": {
      "application/vnd.jupyter.widget-view+json": {
       "model_id": "dc0528d6b5d44e0a8d7e918fe7f74cbe",
       "version_major": 2,
       "version_minor": 0
      },
      "text/plain": [
       "diffusion sampling:   0%|          | 0/20 [00:00<?, ?it/s]"
      ]
     },
     "metadata": {},
     "output_type": "display_data"
    },
    {
     "data": {
      "application/vnd.jupyter.widget-view+json": {
       "model_id": "111002b180a148f9a59582686695c687",
       "version_major": 2,
       "version_minor": 0
      },
      "text/plain": [
       "diffusion sampling:   0%|          | 0/20 [00:00<?, ?it/s]"
      ]
     },
     "metadata": {},
     "output_type": "display_data"
    },
    {
     "data": {
      "application/vnd.jupyter.widget-view+json": {
       "model_id": "5a38f5b1962e408a826059d6fd39a70d",
       "version_major": 2,
       "version_minor": 0
      },
      "text/plain": [
       "diffusion sampling:   0%|          | 0/20 [00:00<?, ?it/s]"
      ]
     },
     "metadata": {},
     "output_type": "display_data"
    },
    {
     "data": {
      "application/vnd.jupyter.widget-view+json": {
       "model_id": "f9aa23a49acc4e62bbd287e6f658fa69",
       "version_major": 2,
       "version_minor": 0
      },
      "text/plain": [
       "diffusion sampling:   0%|          | 0/20 [00:00<?, ?it/s]"
      ]
     },
     "metadata": {},
     "output_type": "display_data"
    },
    {
     "data": {
      "application/vnd.jupyter.widget-view+json": {
       "model_id": "b69e27992d0c472f9b317847737ee0fa",
       "version_major": 2,
       "version_minor": 0
      },
      "text/plain": [
       "diffusion sampling:   0%|          | 0/20 [00:00<?, ?it/s]"
      ]
     },
     "metadata": {},
     "output_type": "display_data"
    },
    {
     "data": {
      "application/vnd.jupyter.widget-view+json": {
       "model_id": "bf43831d7fe14fd991e891ab737c5939",
       "version_major": 2,
       "version_minor": 0
      },
      "text/plain": [
       "class hypothsis:   0%|          | 0/6 [00:00<?, ?it/s]"
      ]
     },
     "metadata": {},
     "output_type": "display_data"
    },
    {
     "data": {
      "application/vnd.jupyter.widget-view+json": {
       "model_id": "b9d00c7f986a43e8ac2d397d99d147af",
       "version_major": 2,
       "version_minor": 0
      },
      "text/plain": [
       "diffusion sampling:   0%|          | 0/20 [00:00<?, ?it/s]"
      ]
     },
     "metadata": {},
     "output_type": "display_data"
    },
    {
     "data": {
      "application/vnd.jupyter.widget-view+json": {
       "model_id": "0d0c15a725be4075a81d5a6c7e34dbb4",
       "version_major": 2,
       "version_minor": 0
      },
      "text/plain": [
       "diffusion sampling:   0%|          | 0/20 [00:00<?, ?it/s]"
      ]
     },
     "metadata": {},
     "output_type": "display_data"
    },
    {
     "data": {
      "application/vnd.jupyter.widget-view+json": {
       "model_id": "fe8eedfc04684ba7bc19f3f5f0178aa7",
       "version_major": 2,
       "version_minor": 0
      },
      "text/plain": [
       "diffusion sampling:   0%|          | 0/20 [00:00<?, ?it/s]"
      ]
     },
     "metadata": {},
     "output_type": "display_data"
    },
    {
     "data": {
      "application/vnd.jupyter.widget-view+json": {
       "model_id": "51ea95d7ab134a7b9adc63663e9ef4c4",
       "version_major": 2,
       "version_minor": 0
      },
      "text/plain": [
       "diffusion sampling:   0%|          | 0/20 [00:00<?, ?it/s]"
      ]
     },
     "metadata": {},
     "output_type": "display_data"
    },
    {
     "data": {
      "application/vnd.jupyter.widget-view+json": {
       "model_id": "c29a50ebd0074ace949617411d6b6f20",
       "version_major": 2,
       "version_minor": 0
      },
      "text/plain": [
       "diffusion sampling:   0%|          | 0/20 [00:00<?, ?it/s]"
      ]
     },
     "metadata": {},
     "output_type": "display_data"
    },
    {
     "data": {
      "application/vnd.jupyter.widget-view+json": {
       "model_id": "0c05e3e1847341839a25377de17b53d2",
       "version_major": 2,
       "version_minor": 0
      },
      "text/plain": [
       "diffusion sampling:   0%|          | 0/20 [00:00<?, ?it/s]"
      ]
     },
     "metadata": {},
     "output_type": "display_data"
    },
    {
     "data": {
      "application/vnd.jupyter.widget-view+json": {
       "model_id": "a31e2915753c405ebf778704d42788b2",
       "version_major": 2,
       "version_minor": 0
      },
      "text/plain": [
       "class hypothsis:   0%|          | 0/6 [00:00<?, ?it/s]"
      ]
     },
     "metadata": {},
     "output_type": "display_data"
    },
    {
     "data": {
      "application/vnd.jupyter.widget-view+json": {
       "model_id": "cf47d786e35a418ab0e638b43993573f",
       "version_major": 2,
       "version_minor": 0
      },
      "text/plain": [
       "diffusion sampling:   0%|          | 0/20 [00:00<?, ?it/s]"
      ]
     },
     "metadata": {},
     "output_type": "display_data"
    },
    {
     "data": {
      "application/vnd.jupyter.widget-view+json": {
       "model_id": "9ed66482f8bb484c861daeae49778170",
       "version_major": 2,
       "version_minor": 0
      },
      "text/plain": [
       "diffusion sampling:   0%|          | 0/20 [00:00<?, ?it/s]"
      ]
     },
     "metadata": {},
     "output_type": "display_data"
    },
    {
     "data": {
      "application/vnd.jupyter.widget-view+json": {
       "model_id": "c41446176c8e4c1eb99b6bd78c170747",
       "version_major": 2,
       "version_minor": 0
      },
      "text/plain": [
       "diffusion sampling:   0%|          | 0/20 [00:00<?, ?it/s]"
      ]
     },
     "metadata": {},
     "output_type": "display_data"
    },
    {
     "data": {
      "application/vnd.jupyter.widget-view+json": {
       "model_id": "3c4014811ad347608ea11908b41b1e86",
       "version_major": 2,
       "version_minor": 0
      },
      "text/plain": [
       "diffusion sampling:   0%|          | 0/20 [00:00<?, ?it/s]"
      ]
     },
     "metadata": {},
     "output_type": "display_data"
    },
    {
     "data": {
      "application/vnd.jupyter.widget-view+json": {
       "model_id": "91b9f43a930c4607b16e82da29f87d5d",
       "version_major": 2,
       "version_minor": 0
      },
      "text/plain": [
       "diffusion sampling:   0%|          | 0/20 [00:00<?, ?it/s]"
      ]
     },
     "metadata": {},
     "output_type": "display_data"
    },
    {
     "data": {
      "application/vnd.jupyter.widget-view+json": {
       "model_id": "fedaff99d3c6411f9710da65be3da8ff",
       "version_major": 2,
       "version_minor": 0
      },
      "text/plain": [
       "diffusion sampling:   0%|          | 0/20 [00:00<?, ?it/s]"
      ]
     },
     "metadata": {},
     "output_type": "display_data"
    },
    {
     "data": {
      "application/vnd.jupyter.widget-view+json": {
       "model_id": "8bfe090cd09343feaf89296a9b9019e0",
       "version_major": 2,
       "version_minor": 0
      },
      "text/plain": [
       "class hypothsis:   0%|          | 0/6 [00:00<?, ?it/s]"
      ]
     },
     "metadata": {},
     "output_type": "display_data"
    },
    {
     "data": {
      "application/vnd.jupyter.widget-view+json": {
       "model_id": "8d91ac9fbdd64553b55e888765c7e633",
       "version_major": 2,
       "version_minor": 0
      },
      "text/plain": [
       "diffusion sampling:   0%|          | 0/20 [00:00<?, ?it/s]"
      ]
     },
     "metadata": {},
     "output_type": "display_data"
    },
    {
     "data": {
      "application/vnd.jupyter.widget-view+json": {
       "model_id": "4664f7f948b445fd8baae4bdad394ea2",
       "version_major": 2,
       "version_minor": 0
      },
      "text/plain": [
       "diffusion sampling:   0%|          | 0/20 [00:00<?, ?it/s]"
      ]
     },
     "metadata": {},
     "output_type": "display_data"
    },
    {
     "data": {
      "application/vnd.jupyter.widget-view+json": {
       "model_id": "a1619e39b51d492ba92b93c405e554cc",
       "version_major": 2,
       "version_minor": 0
      },
      "text/plain": [
       "diffusion sampling:   0%|          | 0/20 [00:00<?, ?it/s]"
      ]
     },
     "metadata": {},
     "output_type": "display_data"
    },
    {
     "data": {
      "application/vnd.jupyter.widget-view+json": {
       "model_id": "feeffab2495245f2b32d3c45cba52bc7",
       "version_major": 2,
       "version_minor": 0
      },
      "text/plain": [
       "diffusion sampling:   0%|          | 0/20 [00:00<?, ?it/s]"
      ]
     },
     "metadata": {},
     "output_type": "display_data"
    },
    {
     "data": {
      "application/vnd.jupyter.widget-view+json": {
       "model_id": "dc1c163680bb47838623f300ac1def4c",
       "version_major": 2,
       "version_minor": 0
      },
      "text/plain": [
       "diffusion sampling:   0%|          | 0/20 [00:00<?, ?it/s]"
      ]
     },
     "metadata": {},
     "output_type": "display_data"
    },
    {
     "data": {
      "application/vnd.jupyter.widget-view+json": {
       "model_id": "7dc0c95373ea4f91b417b8da0d2fdc71",
       "version_major": 2,
       "version_minor": 0
      },
      "text/plain": [
       "diffusion sampling:   0%|          | 0/20 [00:00<?, ?it/s]"
      ]
     },
     "metadata": {},
     "output_type": "display_data"
    },
    {
     "data": {
      "application/vnd.jupyter.widget-view+json": {
       "model_id": "09ba1ec8468b40479bab1516c01df885",
       "version_major": 2,
       "version_minor": 0
      },
      "text/plain": [
       "class hypothsis:   0%|          | 0/6 [00:00<?, ?it/s]"
      ]
     },
     "metadata": {},
     "output_type": "display_data"
    },
    {
     "data": {
      "application/vnd.jupyter.widget-view+json": {
       "model_id": "0367a49865db4e06af88e8c6d263f7f8",
       "version_major": 2,
       "version_minor": 0
      },
      "text/plain": [
       "diffusion sampling:   0%|          | 0/20 [00:00<?, ?it/s]"
      ]
     },
     "metadata": {},
     "output_type": "display_data"
    },
    {
     "data": {
      "application/vnd.jupyter.widget-view+json": {
       "model_id": "4beff70626874311aeab89e4fad6e6da",
       "version_major": 2,
       "version_minor": 0
      },
      "text/plain": [
       "diffusion sampling:   0%|          | 0/20 [00:00<?, ?it/s]"
      ]
     },
     "metadata": {},
     "output_type": "display_data"
    },
    {
     "data": {
      "application/vnd.jupyter.widget-view+json": {
       "model_id": "be5ebb62f12f499fb595fe0e9343ede6",
       "version_major": 2,
       "version_minor": 0
      },
      "text/plain": [
       "diffusion sampling:   0%|          | 0/20 [00:00<?, ?it/s]"
      ]
     },
     "metadata": {},
     "output_type": "display_data"
    },
    {
     "data": {
      "application/vnd.jupyter.widget-view+json": {
       "model_id": "d6ae76822a7b47e4882538613dcf3dd2",
       "version_major": 2,
       "version_minor": 0
      },
      "text/plain": [
       "diffusion sampling:   0%|          | 0/20 [00:00<?, ?it/s]"
      ]
     },
     "metadata": {},
     "output_type": "display_data"
    },
    {
     "data": {
      "application/vnd.jupyter.widget-view+json": {
       "model_id": "026f415f6c284db39da2c75fd4c2db28",
       "version_major": 2,
       "version_minor": 0
      },
      "text/plain": [
       "diffusion sampling:   0%|          | 0/20 [00:00<?, ?it/s]"
      ]
     },
     "metadata": {},
     "output_type": "display_data"
    },
    {
     "data": {
      "application/vnd.jupyter.widget-view+json": {
       "model_id": "59cac7f7d9aa47abb4edc2f3f8caf56d",
       "version_major": 2,
       "version_minor": 0
      },
      "text/plain": [
       "diffusion sampling:   0%|          | 0/20 [00:00<?, ?it/s]"
      ]
     },
     "metadata": {},
     "output_type": "display_data"
    },
    {
     "data": {
      "application/vnd.jupyter.widget-view+json": {
       "model_id": "e8903068d0d74c718b5042e004920eef",
       "version_major": 2,
       "version_minor": 0
      },
      "text/plain": [
       "class hypothsis:   0%|          | 0/6 [00:00<?, ?it/s]"
      ]
     },
     "metadata": {},
     "output_type": "display_data"
    },
    {
     "data": {
      "application/vnd.jupyter.widget-view+json": {
       "model_id": "67355d1539d74e1d89f8b13fb29e006b",
       "version_major": 2,
       "version_minor": 0
      },
      "text/plain": [
       "diffusion sampling:   0%|          | 0/20 [00:00<?, ?it/s]"
      ]
     },
     "metadata": {},
     "output_type": "display_data"
    },
    {
     "data": {
      "application/vnd.jupyter.widget-view+json": {
       "model_id": "a0868154b4c048b090e7a2b411f8b69c",
       "version_major": 2,
       "version_minor": 0
      },
      "text/plain": [
       "diffusion sampling:   0%|          | 0/20 [00:00<?, ?it/s]"
      ]
     },
     "metadata": {},
     "output_type": "display_data"
    },
    {
     "data": {
      "application/vnd.jupyter.widget-view+json": {
       "model_id": "18a8bc8196d947909fd89bb8d07436f3",
       "version_major": 2,
       "version_minor": 0
      },
      "text/plain": [
       "diffusion sampling:   0%|          | 0/20 [00:00<?, ?it/s]"
      ]
     },
     "metadata": {},
     "output_type": "display_data"
    },
    {
     "data": {
      "application/vnd.jupyter.widget-view+json": {
       "model_id": "e2c67b760abd4e96ad1a613b49ca77cb",
       "version_major": 2,
       "version_minor": 0
      },
      "text/plain": [
       "diffusion sampling:   0%|          | 0/20 [00:00<?, ?it/s]"
      ]
     },
     "metadata": {},
     "output_type": "display_data"
    },
    {
     "data": {
      "application/vnd.jupyter.widget-view+json": {
       "model_id": "8fa40dfcd68046aa8212ef3a6d9bd29b",
       "version_major": 2,
       "version_minor": 0
      },
      "text/plain": [
       "diffusion sampling:   0%|          | 0/20 [00:00<?, ?it/s]"
      ]
     },
     "metadata": {},
     "output_type": "display_data"
    },
    {
     "data": {
      "application/vnd.jupyter.widget-view+json": {
       "model_id": "f7ac91146c604afdabe18e0726dd68f6",
       "version_major": 2,
       "version_minor": 0
      },
      "text/plain": [
       "diffusion sampling:   0%|          | 0/20 [00:00<?, ?it/s]"
      ]
     },
     "metadata": {},
     "output_type": "display_data"
    },
    {
     "data": {
      "application/vnd.jupyter.widget-view+json": {
       "model_id": "5f5d6a562b8e4d77bad6996c62559356",
       "version_major": 2,
       "version_minor": 0
      },
      "text/plain": [
       "class hypothsis:   0%|          | 0/6 [00:00<?, ?it/s]"
      ]
     },
     "metadata": {},
     "output_type": "display_data"
    },
    {
     "data": {
      "application/vnd.jupyter.widget-view+json": {
       "model_id": "eeb68f86d95a4c9caff9710c8c09b245",
       "version_major": 2,
       "version_minor": 0
      },
      "text/plain": [
       "diffusion sampling:   0%|          | 0/20 [00:00<?, ?it/s]"
      ]
     },
     "metadata": {},
     "output_type": "display_data"
    },
    {
     "data": {
      "application/vnd.jupyter.widget-view+json": {
       "model_id": "dffa503602024b6aacc8994bf73ab51b",
       "version_major": 2,
       "version_minor": 0
      },
      "text/plain": [
       "diffusion sampling:   0%|          | 0/20 [00:00<?, ?it/s]"
      ]
     },
     "metadata": {},
     "output_type": "display_data"
    },
    {
     "data": {
      "application/vnd.jupyter.widget-view+json": {
       "model_id": "439c2191c5e4433ca46ecb2ad4c3b3e5",
       "version_major": 2,
       "version_minor": 0
      },
      "text/plain": [
       "diffusion sampling:   0%|          | 0/20 [00:00<?, ?it/s]"
      ]
     },
     "metadata": {},
     "output_type": "display_data"
    },
    {
     "data": {
      "application/vnd.jupyter.widget-view+json": {
       "model_id": "bc29d76c60e747ecaa2f9edac8f20325",
       "version_major": 2,
       "version_minor": 0
      },
      "text/plain": [
       "diffusion sampling:   0%|          | 0/20 [00:00<?, ?it/s]"
      ]
     },
     "metadata": {},
     "output_type": "display_data"
    },
    {
     "data": {
      "application/vnd.jupyter.widget-view+json": {
       "model_id": "8d588ad48ede4d7385b22f0273542421",
       "version_major": 2,
       "version_minor": 0
      },
      "text/plain": [
       "diffusion sampling:   0%|          | 0/20 [00:00<?, ?it/s]"
      ]
     },
     "metadata": {},
     "output_type": "display_data"
    },
    {
     "data": {
      "application/vnd.jupyter.widget-view+json": {
       "model_id": "7b2398ac4c3b4ebabd6ba0e07a73497f",
       "version_major": 2,
       "version_minor": 0
      },
      "text/plain": [
       "diffusion sampling:   0%|          | 0/20 [00:00<?, ?it/s]"
      ]
     },
     "metadata": {},
     "output_type": "display_data"
    },
    {
     "data": {
      "application/vnd.jupyter.widget-view+json": {
       "model_id": "bb42dbe042b446018cbc18e5046f69da",
       "version_major": 2,
       "version_minor": 0
      },
      "text/plain": [
       "class hypothsis:   0%|          | 0/6 [00:00<?, ?it/s]"
      ]
     },
     "metadata": {},
     "output_type": "display_data"
    },
    {
     "data": {
      "application/vnd.jupyter.widget-view+json": {
       "model_id": "bb3d6c503c8a4e85a31191f82978b11e",
       "version_major": 2,
       "version_minor": 0
      },
      "text/plain": [
       "diffusion sampling:   0%|          | 0/20 [00:00<?, ?it/s]"
      ]
     },
     "metadata": {},
     "output_type": "display_data"
    },
    {
     "data": {
      "application/vnd.jupyter.widget-view+json": {
       "model_id": "bedc0ac13bf849ef81fc7bc4d672986c",
       "version_major": 2,
       "version_minor": 0
      },
      "text/plain": [
       "diffusion sampling:   0%|          | 0/20 [00:00<?, ?it/s]"
      ]
     },
     "metadata": {},
     "output_type": "display_data"
    },
    {
     "data": {
      "application/vnd.jupyter.widget-view+json": {
       "model_id": "c04c09bdeced496f8890bf9f0c270307",
       "version_major": 2,
       "version_minor": 0
      },
      "text/plain": [
       "diffusion sampling:   0%|          | 0/20 [00:00<?, ?it/s]"
      ]
     },
     "metadata": {},
     "output_type": "display_data"
    },
    {
     "data": {
      "application/vnd.jupyter.widget-view+json": {
       "model_id": "a49607c26f9e49a0869eeb8158c139f1",
       "version_major": 2,
       "version_minor": 0
      },
      "text/plain": [
       "diffusion sampling:   0%|          | 0/20 [00:00<?, ?it/s]"
      ]
     },
     "metadata": {},
     "output_type": "display_data"
    },
    {
     "data": {
      "application/vnd.jupyter.widget-view+json": {
       "model_id": "a7d0f67457df48ada87b24010470c182",
       "version_major": 2,
       "version_minor": 0
      },
      "text/plain": [
       "diffusion sampling:   0%|          | 0/20 [00:00<?, ?it/s]"
      ]
     },
     "metadata": {},
     "output_type": "display_data"
    },
    {
     "data": {
      "application/vnd.jupyter.widget-view+json": {
       "model_id": "b578372482d8481ba4b19fef99858696",
       "version_major": 2,
       "version_minor": 0
      },
      "text/plain": [
       "diffusion sampling:   0%|          | 0/20 [00:00<?, ?it/s]"
      ]
     },
     "metadata": {},
     "output_type": "display_data"
    },
    {
     "data": {
      "application/vnd.jupyter.widget-view+json": {
       "model_id": "a0f255c5b93f474b9e147ce815f95100",
       "version_major": 2,
       "version_minor": 0
      },
      "text/plain": [
       "class hypothsis:   0%|          | 0/6 [00:00<?, ?it/s]"
      ]
     },
     "metadata": {},
     "output_type": "display_data"
    },
    {
     "data": {
      "application/vnd.jupyter.widget-view+json": {
       "model_id": "3427f3c3629849e7b1d7b1cae239fc88",
       "version_major": 2,
       "version_minor": 0
      },
      "text/plain": [
       "diffusion sampling:   0%|          | 0/20 [00:00<?, ?it/s]"
      ]
     },
     "metadata": {},
     "output_type": "display_data"
    },
    {
     "data": {
      "application/vnd.jupyter.widget-view+json": {
       "model_id": "a3844aa7dbd5439b84e59fccda1bbaa1",
       "version_major": 2,
       "version_minor": 0
      },
      "text/plain": [
       "diffusion sampling:   0%|          | 0/20 [00:00<?, ?it/s]"
      ]
     },
     "metadata": {},
     "output_type": "display_data"
    },
    {
     "data": {
      "application/vnd.jupyter.widget-view+json": {
       "model_id": "f49653f323544a1aa1890646733cb962",
       "version_major": 2,
       "version_minor": 0
      },
      "text/plain": [
       "diffusion sampling:   0%|          | 0/20 [00:00<?, ?it/s]"
      ]
     },
     "metadata": {},
     "output_type": "display_data"
    },
    {
     "data": {
      "application/vnd.jupyter.widget-view+json": {
       "model_id": "4563d463ca144210aaad184bce4f3240",
       "version_major": 2,
       "version_minor": 0
      },
      "text/plain": [
       "diffusion sampling:   0%|          | 0/20 [00:00<?, ?it/s]"
      ]
     },
     "metadata": {},
     "output_type": "display_data"
    },
    {
     "data": {
      "application/vnd.jupyter.widget-view+json": {
       "model_id": "d9d6acf216294a4ab1d3bd246208ae69",
       "version_major": 2,
       "version_minor": 0
      },
      "text/plain": [
       "diffusion sampling:   0%|          | 0/20 [00:00<?, ?it/s]"
      ]
     },
     "metadata": {},
     "output_type": "display_data"
    },
    {
     "data": {
      "application/vnd.jupyter.widget-view+json": {
       "model_id": "c21b10f7297749bc8effd8a3d701977f",
       "version_major": 2,
       "version_minor": 0
      },
      "text/plain": [
       "diffusion sampling:   0%|          | 0/20 [00:00<?, ?it/s]"
      ]
     },
     "metadata": {},
     "output_type": "display_data"
    },
    {
     "data": {
      "application/vnd.jupyter.widget-view+json": {
       "model_id": "f2889ca4f4144942848f8bf52be03ffc",
       "version_major": 2,
       "version_minor": 0
      },
      "text/plain": [
       "class hypothsis:   0%|          | 0/6 [00:00<?, ?it/s]"
      ]
     },
     "metadata": {},
     "output_type": "display_data"
    },
    {
     "data": {
      "application/vnd.jupyter.widget-view+json": {
       "model_id": "89d3b92c63ee4288a45b098247034ddd",
       "version_major": 2,
       "version_minor": 0
      },
      "text/plain": [
       "diffusion sampling:   0%|          | 0/20 [00:00<?, ?it/s]"
      ]
     },
     "metadata": {},
     "output_type": "display_data"
    },
    {
     "data": {
      "application/vnd.jupyter.widget-view+json": {
       "model_id": "fb48d0fe9c8c449080df6330791ad896",
       "version_major": 2,
       "version_minor": 0
      },
      "text/plain": [
       "diffusion sampling:   0%|          | 0/20 [00:00<?, ?it/s]"
      ]
     },
     "metadata": {},
     "output_type": "display_data"
    },
    {
     "data": {
      "application/vnd.jupyter.widget-view+json": {
       "model_id": "36ba6e9771f54e33bbe881a9085bf1eb",
       "version_major": 2,
       "version_minor": 0
      },
      "text/plain": [
       "diffusion sampling:   0%|          | 0/20 [00:00<?, ?it/s]"
      ]
     },
     "metadata": {},
     "output_type": "display_data"
    },
    {
     "data": {
      "application/vnd.jupyter.widget-view+json": {
       "model_id": "65514d20169049aa9e80b16ef2706c74",
       "version_major": 2,
       "version_minor": 0
      },
      "text/plain": [
       "diffusion sampling:   0%|          | 0/20 [00:00<?, ?it/s]"
      ]
     },
     "metadata": {},
     "output_type": "display_data"
    },
    {
     "data": {
      "application/vnd.jupyter.widget-view+json": {
       "model_id": "fb8e99fe783f4e04b0812c28b8942333",
       "version_major": 2,
       "version_minor": 0
      },
      "text/plain": [
       "diffusion sampling:   0%|          | 0/20 [00:00<?, ?it/s]"
      ]
     },
     "metadata": {},
     "output_type": "display_data"
    },
    {
     "data": {
      "application/vnd.jupyter.widget-view+json": {
       "model_id": "070c5ed0f6d748a498115c704e427651",
       "version_major": 2,
       "version_minor": 0
      },
      "text/plain": [
       "diffusion sampling:   0%|          | 0/20 [00:00<?, ?it/s]"
      ]
     },
     "metadata": {},
     "output_type": "display_data"
    },
    {
     "data": {
      "application/vnd.jupyter.widget-view+json": {
       "model_id": "8515b0c069c642dc981325f278c9c87f",
       "version_major": 2,
       "version_minor": 0
      },
      "text/plain": [
       "class hypothsis:   0%|          | 0/6 [00:00<?, ?it/s]"
      ]
     },
     "metadata": {},
     "output_type": "display_data"
    },
    {
     "data": {
      "application/vnd.jupyter.widget-view+json": {
       "model_id": "1a551331716e4d31b77b93863c326599",
       "version_major": 2,
       "version_minor": 0
      },
      "text/plain": [
       "diffusion sampling:   0%|          | 0/20 [00:00<?, ?it/s]"
      ]
     },
     "metadata": {},
     "output_type": "display_data"
    },
    {
     "data": {
      "application/vnd.jupyter.widget-view+json": {
       "model_id": "290659a8a9634158b700f97f22134587",
       "version_major": 2,
       "version_minor": 0
      },
      "text/plain": [
       "diffusion sampling:   0%|          | 0/20 [00:00<?, ?it/s]"
      ]
     },
     "metadata": {},
     "output_type": "display_data"
    },
    {
     "data": {
      "application/vnd.jupyter.widget-view+json": {
       "model_id": "b33a20e09b264668a13c37c37435a3a5",
       "version_major": 2,
       "version_minor": 0
      },
      "text/plain": [
       "diffusion sampling:   0%|          | 0/20 [00:00<?, ?it/s]"
      ]
     },
     "metadata": {},
     "output_type": "display_data"
    },
    {
     "data": {
      "application/vnd.jupyter.widget-view+json": {
       "model_id": "e1f5a9d7dc534321a7a31055f3699b86",
       "version_major": 2,
       "version_minor": 0
      },
      "text/plain": [
       "diffusion sampling:   0%|          | 0/20 [00:00<?, ?it/s]"
      ]
     },
     "metadata": {},
     "output_type": "display_data"
    },
    {
     "data": {
      "application/vnd.jupyter.widget-view+json": {
       "model_id": "901256a182a644daa2333377644f5e69",
       "version_major": 2,
       "version_minor": 0
      },
      "text/plain": [
       "diffusion sampling:   0%|          | 0/20 [00:00<?, ?it/s]"
      ]
     },
     "metadata": {},
     "output_type": "display_data"
    },
    {
     "data": {
      "application/vnd.jupyter.widget-view+json": {
       "model_id": "323d8a51ab3248588ba714f832553f8c",
       "version_major": 2,
       "version_minor": 0
      },
      "text/plain": [
       "diffusion sampling:   0%|          | 0/20 [00:00<?, ?it/s]"
      ]
     },
     "metadata": {},
     "output_type": "display_data"
    },
    {
     "data": {
      "application/vnd.jupyter.widget-view+json": {
       "model_id": "5590a161c85d4df5bf17e88e8b763b34",
       "version_major": 2,
       "version_minor": 0
      },
      "text/plain": [
       "class hypothsis:   0%|          | 0/6 [00:00<?, ?it/s]"
      ]
     },
     "metadata": {},
     "output_type": "display_data"
    },
    {
     "data": {
      "application/vnd.jupyter.widget-view+json": {
       "model_id": "555322083fcd4f77b275d65b8652cf47",
       "version_major": 2,
       "version_minor": 0
      },
      "text/plain": [
       "diffusion sampling:   0%|          | 0/20 [00:00<?, ?it/s]"
      ]
     },
     "metadata": {},
     "output_type": "display_data"
    },
    {
     "data": {
      "application/vnd.jupyter.widget-view+json": {
       "model_id": "0bd0942183e34645bf9124830028ed12",
       "version_major": 2,
       "version_minor": 0
      },
      "text/plain": [
       "diffusion sampling:   0%|          | 0/20 [00:00<?, ?it/s]"
      ]
     },
     "metadata": {},
     "output_type": "display_data"
    },
    {
     "data": {
      "application/vnd.jupyter.widget-view+json": {
       "model_id": "3fc8df5253b542aba68ced615e384844",
       "version_major": 2,
       "version_minor": 0
      },
      "text/plain": [
       "diffusion sampling:   0%|          | 0/20 [00:00<?, ?it/s]"
      ]
     },
     "metadata": {},
     "output_type": "display_data"
    },
    {
     "data": {
      "application/vnd.jupyter.widget-view+json": {
       "model_id": "230b593a6533498c9d116a2ab398fc83",
       "version_major": 2,
       "version_minor": 0
      },
      "text/plain": [
       "diffusion sampling:   0%|          | 0/20 [00:00<?, ?it/s]"
      ]
     },
     "metadata": {},
     "output_type": "display_data"
    },
    {
     "data": {
      "application/vnd.jupyter.widget-view+json": {
       "model_id": "37c5302714204e07b3fcc67015f64fe8",
       "version_major": 2,
       "version_minor": 0
      },
      "text/plain": [
       "diffusion sampling:   0%|          | 0/20 [00:00<?, ?it/s]"
      ]
     },
     "metadata": {},
     "output_type": "display_data"
    },
    {
     "data": {
      "application/vnd.jupyter.widget-view+json": {
       "model_id": "20bfaba6df4b4fb3b7b1d8fd12fdcdb4",
       "version_major": 2,
       "version_minor": 0
      },
      "text/plain": [
       "diffusion sampling:   0%|          | 0/20 [00:00<?, ?it/s]"
      ]
     },
     "metadata": {},
     "output_type": "display_data"
    },
    {
     "data": {
      "application/vnd.jupyter.widget-view+json": {
       "model_id": "56446b7b3c734d84b213b811c1f9d1cd",
       "version_major": 2,
       "version_minor": 0
      },
      "text/plain": [
       "class hypothsis:   0%|          | 0/6 [00:00<?, ?it/s]"
      ]
     },
     "metadata": {},
     "output_type": "display_data"
    },
    {
     "data": {
      "application/vnd.jupyter.widget-view+json": {
       "model_id": "17dee420a49747ec9d2d5bd26607fc82",
       "version_major": 2,
       "version_minor": 0
      },
      "text/plain": [
       "diffusion sampling:   0%|          | 0/20 [00:00<?, ?it/s]"
      ]
     },
     "metadata": {},
     "output_type": "display_data"
    },
    {
     "data": {
      "application/vnd.jupyter.widget-view+json": {
       "model_id": "11e7b024a6c54286a152a0800c37ab6a",
       "version_major": 2,
       "version_minor": 0
      },
      "text/plain": [
       "diffusion sampling:   0%|          | 0/20 [00:00<?, ?it/s]"
      ]
     },
     "metadata": {},
     "output_type": "display_data"
    },
    {
     "data": {
      "application/vnd.jupyter.widget-view+json": {
       "model_id": "09edb6118b694d31a25d44ed68aa60ac",
       "version_major": 2,
       "version_minor": 0
      },
      "text/plain": [
       "diffusion sampling:   0%|          | 0/20 [00:00<?, ?it/s]"
      ]
     },
     "metadata": {},
     "output_type": "display_data"
    },
    {
     "data": {
      "application/vnd.jupyter.widget-view+json": {
       "model_id": "8b0609456ff84f7599165bfab76ec1ee",
       "version_major": 2,
       "version_minor": 0
      },
      "text/plain": [
       "diffusion sampling:   0%|          | 0/20 [00:00<?, ?it/s]"
      ]
     },
     "metadata": {},
     "output_type": "display_data"
    },
    {
     "data": {
      "application/vnd.jupyter.widget-view+json": {
       "model_id": "9f6daf4e65274f069266556eaf0e2d4d",
       "version_major": 2,
       "version_minor": 0
      },
      "text/plain": [
       "diffusion sampling:   0%|          | 0/20 [00:00<?, ?it/s]"
      ]
     },
     "metadata": {},
     "output_type": "display_data"
    },
    {
     "data": {
      "application/vnd.jupyter.widget-view+json": {
       "model_id": "2371b76c1939470e9dc12096a54793a8",
       "version_major": 2,
       "version_minor": 0
      },
      "text/plain": [
       "diffusion sampling:   0%|          | 0/20 [00:00<?, ?it/s]"
      ]
     },
     "metadata": {},
     "output_type": "display_data"
    },
    {
     "data": {
      "application/vnd.jupyter.widget-view+json": {
       "model_id": "d4f0060ce43247c18f62039e2d41e316",
       "version_major": 2,
       "version_minor": 0
      },
      "text/plain": [
       "class hypothsis:   0%|          | 0/6 [00:00<?, ?it/s]"
      ]
     },
     "metadata": {},
     "output_type": "display_data"
    },
    {
     "data": {
      "application/vnd.jupyter.widget-view+json": {
       "model_id": "f06f03028584424ca1bcc538a72da4ad",
       "version_major": 2,
       "version_minor": 0
      },
      "text/plain": [
       "diffusion sampling:   0%|          | 0/20 [00:00<?, ?it/s]"
      ]
     },
     "metadata": {},
     "output_type": "display_data"
    },
    {
     "data": {
      "application/vnd.jupyter.widget-view+json": {
       "model_id": "8151402282cf406690bc488a5198ad6a",
       "version_major": 2,
       "version_minor": 0
      },
      "text/plain": [
       "diffusion sampling:   0%|          | 0/20 [00:00<?, ?it/s]"
      ]
     },
     "metadata": {},
     "output_type": "display_data"
    },
    {
     "data": {
      "application/vnd.jupyter.widget-view+json": {
       "model_id": "20c13aebe5cf4d4e999c80e74f276d5c",
       "version_major": 2,
       "version_minor": 0
      },
      "text/plain": [
       "diffusion sampling:   0%|          | 0/20 [00:00<?, ?it/s]"
      ]
     },
     "metadata": {},
     "output_type": "display_data"
    },
    {
     "data": {
      "application/vnd.jupyter.widget-view+json": {
       "model_id": "32ba76eb08af462eb1016e04dcafba62",
       "version_major": 2,
       "version_minor": 0
      },
      "text/plain": [
       "diffusion sampling:   0%|          | 0/20 [00:00<?, ?it/s]"
      ]
     },
     "metadata": {},
     "output_type": "display_data"
    },
    {
     "data": {
      "application/vnd.jupyter.widget-view+json": {
       "model_id": "71bb42195c014fbe9d45b1dcee401b8a",
       "version_major": 2,
       "version_minor": 0
      },
      "text/plain": [
       "diffusion sampling:   0%|          | 0/20 [00:00<?, ?it/s]"
      ]
     },
     "metadata": {},
     "output_type": "display_data"
    },
    {
     "data": {
      "application/vnd.jupyter.widget-view+json": {
       "model_id": "612720d91db54b7aa5af4c05aacfd105",
       "version_major": 2,
       "version_minor": 0
      },
      "text/plain": [
       "diffusion sampling:   0%|          | 0/20 [00:00<?, ?it/s]"
      ]
     },
     "metadata": {},
     "output_type": "display_data"
    },
    {
     "data": {
      "application/vnd.jupyter.widget-view+json": {
       "model_id": "f5c8f2b4f03f486282db56e9f11e1a1f",
       "version_major": 2,
       "version_minor": 0
      },
      "text/plain": [
       "class hypothsis:   0%|          | 0/6 [00:00<?, ?it/s]"
      ]
     },
     "metadata": {},
     "output_type": "display_data"
    },
    {
     "data": {
      "application/vnd.jupyter.widget-view+json": {
       "model_id": "5d4a4339a5d14214b2e9d0dbf0b07979",
       "version_major": 2,
       "version_minor": 0
      },
      "text/plain": [
       "diffusion sampling:   0%|          | 0/20 [00:00<?, ?it/s]"
      ]
     },
     "metadata": {},
     "output_type": "display_data"
    },
    {
     "data": {
      "application/vnd.jupyter.widget-view+json": {
       "model_id": "f75924033230494f819c5bb9336360f8",
       "version_major": 2,
       "version_minor": 0
      },
      "text/plain": [
       "diffusion sampling:   0%|          | 0/20 [00:00<?, ?it/s]"
      ]
     },
     "metadata": {},
     "output_type": "display_data"
    },
    {
     "data": {
      "application/vnd.jupyter.widget-view+json": {
       "model_id": "6e15fb0e990c4bd2918fae934b90c3b7",
       "version_major": 2,
       "version_minor": 0
      },
      "text/plain": [
       "diffusion sampling:   0%|          | 0/20 [00:00<?, ?it/s]"
      ]
     },
     "metadata": {},
     "output_type": "display_data"
    },
    {
     "data": {
      "application/vnd.jupyter.widget-view+json": {
       "model_id": "ae4f22202e4b4fbf9522120c38c0c85e",
       "version_major": 2,
       "version_minor": 0
      },
      "text/plain": [
       "diffusion sampling:   0%|          | 0/20 [00:00<?, ?it/s]"
      ]
     },
     "metadata": {},
     "output_type": "display_data"
    },
    {
     "data": {
      "application/vnd.jupyter.widget-view+json": {
       "model_id": "4ba191c76d5e4ae6ab8a1a3380b579b1",
       "version_major": 2,
       "version_minor": 0
      },
      "text/plain": [
       "diffusion sampling:   0%|          | 0/20 [00:00<?, ?it/s]"
      ]
     },
     "metadata": {},
     "output_type": "display_data"
    },
    {
     "data": {
      "application/vnd.jupyter.widget-view+json": {
       "model_id": "70984c5797d54c84b4b0f1d672988813",
       "version_major": 2,
       "version_minor": 0
      },
      "text/plain": [
       "diffusion sampling:   0%|          | 0/20 [00:00<?, ?it/s]"
      ]
     },
     "metadata": {},
     "output_type": "display_data"
    },
    {
     "data": {
      "application/vnd.jupyter.widget-view+json": {
       "model_id": "ff833faa57844478967d934df15f18f7",
       "version_major": 2,
       "version_minor": 0
      },
      "text/plain": [
       "class hypothsis:   0%|          | 0/6 [00:00<?, ?it/s]"
      ]
     },
     "metadata": {},
     "output_type": "display_data"
    },
    {
     "data": {
      "application/vnd.jupyter.widget-view+json": {
       "model_id": "dbbe077a5e6f48e2b76199fb5c4f77be",
       "version_major": 2,
       "version_minor": 0
      },
      "text/plain": [
       "diffusion sampling:   0%|          | 0/20 [00:00<?, ?it/s]"
      ]
     },
     "metadata": {},
     "output_type": "display_data"
    },
    {
     "data": {
      "application/vnd.jupyter.widget-view+json": {
       "model_id": "baf51a44cede48cba59966aa334b91cc",
       "version_major": 2,
       "version_minor": 0
      },
      "text/plain": [
       "diffusion sampling:   0%|          | 0/20 [00:00<?, ?it/s]"
      ]
     },
     "metadata": {},
     "output_type": "display_data"
    },
    {
     "data": {
      "application/vnd.jupyter.widget-view+json": {
       "model_id": "dfa03cf10cab43349be9f580fb649572",
       "version_major": 2,
       "version_minor": 0
      },
      "text/plain": [
       "diffusion sampling:   0%|          | 0/20 [00:00<?, ?it/s]"
      ]
     },
     "metadata": {},
     "output_type": "display_data"
    },
    {
     "data": {
      "application/vnd.jupyter.widget-view+json": {
       "model_id": "4ac79a632f0149579a108a537a9bf58e",
       "version_major": 2,
       "version_minor": 0
      },
      "text/plain": [
       "diffusion sampling:   0%|          | 0/20 [00:00<?, ?it/s]"
      ]
     },
     "metadata": {},
     "output_type": "display_data"
    },
    {
     "data": {
      "application/vnd.jupyter.widget-view+json": {
       "model_id": "f5389ecebae14e658ae1388c781b1995",
       "version_major": 2,
       "version_minor": 0
      },
      "text/plain": [
       "diffusion sampling:   0%|          | 0/20 [00:00<?, ?it/s]"
      ]
     },
     "metadata": {},
     "output_type": "display_data"
    },
    {
     "data": {
      "application/vnd.jupyter.widget-view+json": {
       "model_id": "7fe929e5abd449418e8aef8ba33d175f",
       "version_major": 2,
       "version_minor": 0
      },
      "text/plain": [
       "diffusion sampling:   0%|          | 0/20 [00:00<?, ?it/s]"
      ]
     },
     "metadata": {},
     "output_type": "display_data"
    },
    {
     "data": {
      "application/vnd.jupyter.widget-view+json": {
       "model_id": "afad36850f454ac1983f0cc2f3d0490a",
       "version_major": 2,
       "version_minor": 0
      },
      "text/plain": [
       "class hypothsis:   0%|          | 0/6 [00:00<?, ?it/s]"
      ]
     },
     "metadata": {},
     "output_type": "display_data"
    },
    {
     "data": {
      "application/vnd.jupyter.widget-view+json": {
       "model_id": "43b5179c30844a58a82283e4c556e758",
       "version_major": 2,
       "version_minor": 0
      },
      "text/plain": [
       "diffusion sampling:   0%|          | 0/20 [00:00<?, ?it/s]"
      ]
     },
     "metadata": {},
     "output_type": "display_data"
    },
    {
     "data": {
      "application/vnd.jupyter.widget-view+json": {
       "model_id": "118efb8259504d4eb2a6488d0245c235",
       "version_major": 2,
       "version_minor": 0
      },
      "text/plain": [
       "diffusion sampling:   0%|          | 0/20 [00:00<?, ?it/s]"
      ]
     },
     "metadata": {},
     "output_type": "display_data"
    },
    {
     "data": {
      "application/vnd.jupyter.widget-view+json": {
       "model_id": "980f38c44710425481629e9a7c602066",
       "version_major": 2,
       "version_minor": 0
      },
      "text/plain": [
       "diffusion sampling:   0%|          | 0/20 [00:00<?, ?it/s]"
      ]
     },
     "metadata": {},
     "output_type": "display_data"
    },
    {
     "data": {
      "application/vnd.jupyter.widget-view+json": {
       "model_id": "b704845966e147008ad9f11eb036b630",
       "version_major": 2,
       "version_minor": 0
      },
      "text/plain": [
       "diffusion sampling:   0%|          | 0/20 [00:00<?, ?it/s]"
      ]
     },
     "metadata": {},
     "output_type": "display_data"
    },
    {
     "data": {
      "application/vnd.jupyter.widget-view+json": {
       "model_id": "bfb1ca987223459596a3ce80b7daddc3",
       "version_major": 2,
       "version_minor": 0
      },
      "text/plain": [
       "diffusion sampling:   0%|          | 0/20 [00:00<?, ?it/s]"
      ]
     },
     "metadata": {},
     "output_type": "display_data"
    },
    {
     "data": {
      "application/vnd.jupyter.widget-view+json": {
       "model_id": "edc9bc5f9885442fbbdd854abefaee9b",
       "version_major": 2,
       "version_minor": 0
      },
      "text/plain": [
       "diffusion sampling:   0%|          | 0/20 [00:00<?, ?it/s]"
      ]
     },
     "metadata": {},
     "output_type": "display_data"
    },
    {
     "data": {
      "application/vnd.jupyter.widget-view+json": {
       "model_id": "7edba2f570c54be78cdc0bcf8bcacd4c",
       "version_major": 2,
       "version_minor": 0
      },
      "text/plain": [
       "class hypothsis:   0%|          | 0/6 [00:00<?, ?it/s]"
      ]
     },
     "metadata": {},
     "output_type": "display_data"
    },
    {
     "data": {
      "application/vnd.jupyter.widget-view+json": {
       "model_id": "89eadeef7378498cbae30ccfe4592427",
       "version_major": 2,
       "version_minor": 0
      },
      "text/plain": [
       "diffusion sampling:   0%|          | 0/20 [00:00<?, ?it/s]"
      ]
     },
     "metadata": {},
     "output_type": "display_data"
    },
    {
     "data": {
      "application/vnd.jupyter.widget-view+json": {
       "model_id": "dadb6b1bf7dc4d68bbfc14a42064478b",
       "version_major": 2,
       "version_minor": 0
      },
      "text/plain": [
       "diffusion sampling:   0%|          | 0/20 [00:00<?, ?it/s]"
      ]
     },
     "metadata": {},
     "output_type": "display_data"
    },
    {
     "data": {
      "application/vnd.jupyter.widget-view+json": {
       "model_id": "631ce0e97f3e4633989b3213aa759ddb",
       "version_major": 2,
       "version_minor": 0
      },
      "text/plain": [
       "diffusion sampling:   0%|          | 0/20 [00:00<?, ?it/s]"
      ]
     },
     "metadata": {},
     "output_type": "display_data"
    },
    {
     "data": {
      "application/vnd.jupyter.widget-view+json": {
       "model_id": "3a771e48908e4a06bfbad04380eceec3",
       "version_major": 2,
       "version_minor": 0
      },
      "text/plain": [
       "diffusion sampling:   0%|          | 0/20 [00:00<?, ?it/s]"
      ]
     },
     "metadata": {},
     "output_type": "display_data"
    },
    {
     "data": {
      "application/vnd.jupyter.widget-view+json": {
       "model_id": "587641a41d6c4ed0b00eb5183518192d",
       "version_major": 2,
       "version_minor": 0
      },
      "text/plain": [
       "diffusion sampling:   0%|          | 0/20 [00:00<?, ?it/s]"
      ]
     },
     "metadata": {},
     "output_type": "display_data"
    },
    {
     "data": {
      "application/vnd.jupyter.widget-view+json": {
       "model_id": "845bc0790f334200800d9a74d986e258",
       "version_major": 2,
       "version_minor": 0
      },
      "text/plain": [
       "diffusion sampling:   0%|          | 0/20 [00:00<?, ?it/s]"
      ]
     },
     "metadata": {},
     "output_type": "display_data"
    },
    {
     "data": {
      "application/vnd.jupyter.widget-view+json": {
       "model_id": "4e31d6e6b55d41c69fcc6edadf0606ec",
       "version_major": 2,
       "version_minor": 0
      },
      "text/plain": [
       "class hypothsis:   0%|          | 0/6 [00:00<?, ?it/s]"
      ]
     },
     "metadata": {},
     "output_type": "display_data"
    },
    {
     "data": {
      "application/vnd.jupyter.widget-view+json": {
       "model_id": "84638819fc504913859ad0a5d95b2fa0",
       "version_major": 2,
       "version_minor": 0
      },
      "text/plain": [
       "diffusion sampling:   0%|          | 0/20 [00:00<?, ?it/s]"
      ]
     },
     "metadata": {},
     "output_type": "display_data"
    },
    {
     "data": {
      "application/vnd.jupyter.widget-view+json": {
       "model_id": "633341ab1e9d4f8cadcbafd0061be7a0",
       "version_major": 2,
       "version_minor": 0
      },
      "text/plain": [
       "diffusion sampling:   0%|          | 0/20 [00:00<?, ?it/s]"
      ]
     },
     "metadata": {},
     "output_type": "display_data"
    },
    {
     "data": {
      "application/vnd.jupyter.widget-view+json": {
       "model_id": "9b48789e1582442295220184c971c3a9",
       "version_major": 2,
       "version_minor": 0
      },
      "text/plain": [
       "diffusion sampling:   0%|          | 0/20 [00:00<?, ?it/s]"
      ]
     },
     "metadata": {},
     "output_type": "display_data"
    },
    {
     "data": {
      "application/vnd.jupyter.widget-view+json": {
       "model_id": "b824de653bf44067bd689101b7b74a8c",
       "version_major": 2,
       "version_minor": 0
      },
      "text/plain": [
       "diffusion sampling:   0%|          | 0/20 [00:00<?, ?it/s]"
      ]
     },
     "metadata": {},
     "output_type": "display_data"
    },
    {
     "data": {
      "application/vnd.jupyter.widget-view+json": {
       "model_id": "d717c86572b843ffae6cae4d903ad92c",
       "version_major": 2,
       "version_minor": 0
      },
      "text/plain": [
       "diffusion sampling:   0%|          | 0/20 [00:00<?, ?it/s]"
      ]
     },
     "metadata": {},
     "output_type": "display_data"
    },
    {
     "data": {
      "application/vnd.jupyter.widget-view+json": {
       "model_id": "fd33660c1dfb46049ab2275521c7a9a7",
       "version_major": 2,
       "version_minor": 0
      },
      "text/plain": [
       "diffusion sampling:   0%|          | 0/20 [00:00<?, ?it/s]"
      ]
     },
     "metadata": {},
     "output_type": "display_data"
    },
    {
     "data": {
      "application/vnd.jupyter.widget-view+json": {
       "model_id": "9c29c08922ae47218c15fecc30b6cbfe",
       "version_major": 2,
       "version_minor": 0
      },
      "text/plain": [
       "class hypothsis:   0%|          | 0/6 [00:00<?, ?it/s]"
      ]
     },
     "metadata": {},
     "output_type": "display_data"
    },
    {
     "data": {
      "application/vnd.jupyter.widget-view+json": {
       "model_id": "caab65c5ca8a406ba7e81d375cbe50d1",
       "version_major": 2,
       "version_minor": 0
      },
      "text/plain": [
       "diffusion sampling:   0%|          | 0/20 [00:00<?, ?it/s]"
      ]
     },
     "metadata": {},
     "output_type": "display_data"
    },
    {
     "data": {
      "application/vnd.jupyter.widget-view+json": {
       "model_id": "ddbbbcc2acfa44c0ab052468178855e9",
       "version_major": 2,
       "version_minor": 0
      },
      "text/plain": [
       "diffusion sampling:   0%|          | 0/20 [00:00<?, ?it/s]"
      ]
     },
     "metadata": {},
     "output_type": "display_data"
    },
    {
     "data": {
      "application/vnd.jupyter.widget-view+json": {
       "model_id": "ab017d3bc311476a914222ba245d12aa",
       "version_major": 2,
       "version_minor": 0
      },
      "text/plain": [
       "diffusion sampling:   0%|          | 0/20 [00:00<?, ?it/s]"
      ]
     },
     "metadata": {},
     "output_type": "display_data"
    },
    {
     "data": {
      "application/vnd.jupyter.widget-view+json": {
       "model_id": "a6018964b99b4bf0812529af94394945",
       "version_major": 2,
       "version_minor": 0
      },
      "text/plain": [
       "diffusion sampling:   0%|          | 0/20 [00:00<?, ?it/s]"
      ]
     },
     "metadata": {},
     "output_type": "display_data"
    },
    {
     "data": {
      "application/vnd.jupyter.widget-view+json": {
       "model_id": "41cb4d321aba4d2cafe7ee22732cce82",
       "version_major": 2,
       "version_minor": 0
      },
      "text/plain": [
       "diffusion sampling:   0%|          | 0/20 [00:00<?, ?it/s]"
      ]
     },
     "metadata": {},
     "output_type": "display_data"
    },
    {
     "data": {
      "application/vnd.jupyter.widget-view+json": {
       "model_id": "4fccbe45eebc4a8eb6dfa037a79b06ce",
       "version_major": 2,
       "version_minor": 0
      },
      "text/plain": [
       "diffusion sampling:   0%|          | 0/20 [00:00<?, ?it/s]"
      ]
     },
     "metadata": {},
     "output_type": "display_data"
    },
    {
     "data": {
      "application/vnd.jupyter.widget-view+json": {
       "model_id": "184d5f2a9d3c41df9bd958aaab59f285",
       "version_major": 2,
       "version_minor": 0
      },
      "text/plain": [
       "class hypothsis:   0%|          | 0/6 [00:00<?, ?it/s]"
      ]
     },
     "metadata": {},
     "output_type": "display_data"
    },
    {
     "data": {
      "application/vnd.jupyter.widget-view+json": {
       "model_id": "1bca80f1f8454ba6aea8848e4917d0d1",
       "version_major": 2,
       "version_minor": 0
      },
      "text/plain": [
       "diffusion sampling:   0%|          | 0/20 [00:00<?, ?it/s]"
      ]
     },
     "metadata": {},
     "output_type": "display_data"
    },
    {
     "data": {
      "application/vnd.jupyter.widget-view+json": {
       "model_id": "72eb327ec6504f34bd7f7471184a7a8d",
       "version_major": 2,
       "version_minor": 0
      },
      "text/plain": [
       "diffusion sampling:   0%|          | 0/20 [00:00<?, ?it/s]"
      ]
     },
     "metadata": {},
     "output_type": "display_data"
    },
    {
     "data": {
      "application/vnd.jupyter.widget-view+json": {
       "model_id": "04e274fb463344638209a4fe5da5dde5",
       "version_major": 2,
       "version_minor": 0
      },
      "text/plain": [
       "diffusion sampling:   0%|          | 0/20 [00:00<?, ?it/s]"
      ]
     },
     "metadata": {},
     "output_type": "display_data"
    },
    {
     "data": {
      "application/vnd.jupyter.widget-view+json": {
       "model_id": "52cb82048d2d42f48a470dfae9d9db71",
       "version_major": 2,
       "version_minor": 0
      },
      "text/plain": [
       "diffusion sampling:   0%|          | 0/20 [00:00<?, ?it/s]"
      ]
     },
     "metadata": {},
     "output_type": "display_data"
    },
    {
     "data": {
      "application/vnd.jupyter.widget-view+json": {
       "model_id": "3f3eb0d07ab54cf0958e79b5a0c8d9f5",
       "version_major": 2,
       "version_minor": 0
      },
      "text/plain": [
       "diffusion sampling:   0%|          | 0/20 [00:00<?, ?it/s]"
      ]
     },
     "metadata": {},
     "output_type": "display_data"
    },
    {
     "data": {
      "application/vnd.jupyter.widget-view+json": {
       "model_id": "64da4979fcbe40009ee908ab8dc0c3d9",
       "version_major": 2,
       "version_minor": 0
      },
      "text/plain": [
       "diffusion sampling:   0%|          | 0/20 [00:00<?, ?it/s]"
      ]
     },
     "metadata": {},
     "output_type": "display_data"
    },
    {
     "data": {
      "application/vnd.jupyter.widget-view+json": {
       "model_id": "ac6424a4e8924dac95949d4ba14609d5",
       "version_major": 2,
       "version_minor": 0
      },
      "text/plain": [
       "class hypothsis:   0%|          | 0/6 [00:00<?, ?it/s]"
      ]
     },
     "metadata": {},
     "output_type": "display_data"
    },
    {
     "data": {
      "application/vnd.jupyter.widget-view+json": {
       "model_id": "34947a9b3ea0403aa16f50ba395f018e",
       "version_major": 2,
       "version_minor": 0
      },
      "text/plain": [
       "diffusion sampling:   0%|          | 0/20 [00:00<?, ?it/s]"
      ]
     },
     "metadata": {},
     "output_type": "display_data"
    },
    {
     "data": {
      "application/vnd.jupyter.widget-view+json": {
       "model_id": "aa4bcbed92424d498fd6d6af42f1fee7",
       "version_major": 2,
       "version_minor": 0
      },
      "text/plain": [
       "diffusion sampling:   0%|          | 0/20 [00:00<?, ?it/s]"
      ]
     },
     "metadata": {},
     "output_type": "display_data"
    },
    {
     "data": {
      "application/vnd.jupyter.widget-view+json": {
       "model_id": "140f487d0fa04b058890063b52be71c6",
       "version_major": 2,
       "version_minor": 0
      },
      "text/plain": [
       "diffusion sampling:   0%|          | 0/20 [00:00<?, ?it/s]"
      ]
     },
     "metadata": {},
     "output_type": "display_data"
    },
    {
     "data": {
      "application/vnd.jupyter.widget-view+json": {
       "model_id": "3a07f0acab194174b5a5ee47cfadd43c",
       "version_major": 2,
       "version_minor": 0
      },
      "text/plain": [
       "diffusion sampling:   0%|          | 0/20 [00:00<?, ?it/s]"
      ]
     },
     "metadata": {},
     "output_type": "display_data"
    },
    {
     "data": {
      "application/vnd.jupyter.widget-view+json": {
       "model_id": "1adccbb9e5544d34bad0b7d63c27b490",
       "version_major": 2,
       "version_minor": 0
      },
      "text/plain": [
       "diffusion sampling:   0%|          | 0/20 [00:00<?, ?it/s]"
      ]
     },
     "metadata": {},
     "output_type": "display_data"
    },
    {
     "data": {
      "application/vnd.jupyter.widget-view+json": {
       "model_id": "b199541c9ccb417fa9cb2701d94209b9",
       "version_major": 2,
       "version_minor": 0
      },
      "text/plain": [
       "diffusion sampling:   0%|          | 0/20 [00:00<?, ?it/s]"
      ]
     },
     "metadata": {},
     "output_type": "display_data"
    },
    {
     "data": {
      "application/vnd.jupyter.widget-view+json": {
       "model_id": "d061854722f8444f8ccf84f55e68fd04",
       "version_major": 2,
       "version_minor": 0
      },
      "text/plain": [
       "class hypothsis:   0%|          | 0/6 [00:00<?, ?it/s]"
      ]
     },
     "metadata": {},
     "output_type": "display_data"
    },
    {
     "data": {
      "application/vnd.jupyter.widget-view+json": {
       "model_id": "85af92e0a5544826b49afcb56cbbdc31",
       "version_major": 2,
       "version_minor": 0
      },
      "text/plain": [
       "diffusion sampling:   0%|          | 0/20 [00:00<?, ?it/s]"
      ]
     },
     "metadata": {},
     "output_type": "display_data"
    },
    {
     "data": {
      "application/vnd.jupyter.widget-view+json": {
       "model_id": "da9d0feddf54428fba7784d9b2424533",
       "version_major": 2,
       "version_minor": 0
      },
      "text/plain": [
       "diffusion sampling:   0%|          | 0/20 [00:00<?, ?it/s]"
      ]
     },
     "metadata": {},
     "output_type": "display_data"
    },
    {
     "data": {
      "application/vnd.jupyter.widget-view+json": {
       "model_id": "890a165fdf7d4dd4bc09020f23082b28",
       "version_major": 2,
       "version_minor": 0
      },
      "text/plain": [
       "diffusion sampling:   0%|          | 0/20 [00:00<?, ?it/s]"
      ]
     },
     "metadata": {},
     "output_type": "display_data"
    },
    {
     "data": {
      "application/vnd.jupyter.widget-view+json": {
       "model_id": "664c5886c74245fa934cb3275fc2c537",
       "version_major": 2,
       "version_minor": 0
      },
      "text/plain": [
       "diffusion sampling:   0%|          | 0/20 [00:00<?, ?it/s]"
      ]
     },
     "metadata": {},
     "output_type": "display_data"
    },
    {
     "data": {
      "application/vnd.jupyter.widget-view+json": {
       "model_id": "c30e3767ea834fa587c9d50c92a1cef3",
       "version_major": 2,
       "version_minor": 0
      },
      "text/plain": [
       "diffusion sampling:   0%|          | 0/20 [00:00<?, ?it/s]"
      ]
     },
     "metadata": {},
     "output_type": "display_data"
    },
    {
     "data": {
      "application/vnd.jupyter.widget-view+json": {
       "model_id": "24874108d0184ecdad4016dca7ad3968",
       "version_major": 2,
       "version_minor": 0
      },
      "text/plain": [
       "diffusion sampling:   0%|          | 0/20 [00:00<?, ?it/s]"
      ]
     },
     "metadata": {},
     "output_type": "display_data"
    },
    {
     "data": {
      "application/vnd.jupyter.widget-view+json": {
       "model_id": "b1d23f252d3b410c919742547d3344c3",
       "version_major": 2,
       "version_minor": 0
      },
      "text/plain": [
       "class hypothsis:   0%|          | 0/6 [00:00<?, ?it/s]"
      ]
     },
     "metadata": {},
     "output_type": "display_data"
    },
    {
     "data": {
      "application/vnd.jupyter.widget-view+json": {
       "model_id": "92d3b679b1e94f129cefe8b22e2bae3a",
       "version_major": 2,
       "version_minor": 0
      },
      "text/plain": [
       "diffusion sampling:   0%|          | 0/20 [00:00<?, ?it/s]"
      ]
     },
     "metadata": {},
     "output_type": "display_data"
    },
    {
     "data": {
      "application/vnd.jupyter.widget-view+json": {
       "model_id": "a4e86c6d232349a6be9c87a64acf6024",
       "version_major": 2,
       "version_minor": 0
      },
      "text/plain": [
       "diffusion sampling:   0%|          | 0/20 [00:00<?, ?it/s]"
      ]
     },
     "metadata": {},
     "output_type": "display_data"
    },
    {
     "data": {
      "application/vnd.jupyter.widget-view+json": {
       "model_id": "87393e01dc7449869d36de7f87f7c131",
       "version_major": 2,
       "version_minor": 0
      },
      "text/plain": [
       "diffusion sampling:   0%|          | 0/20 [00:00<?, ?it/s]"
      ]
     },
     "metadata": {},
     "output_type": "display_data"
    },
    {
     "data": {
      "application/vnd.jupyter.widget-view+json": {
       "model_id": "04c4f875859f420e97982ba08a2f9b8c",
       "version_major": 2,
       "version_minor": 0
      },
      "text/plain": [
       "diffusion sampling:   0%|          | 0/20 [00:00<?, ?it/s]"
      ]
     },
     "metadata": {},
     "output_type": "display_data"
    },
    {
     "data": {
      "application/vnd.jupyter.widget-view+json": {
       "model_id": "d117a7e4ec124723be1c12fbb9f80fe6",
       "version_major": 2,
       "version_minor": 0
      },
      "text/plain": [
       "diffusion sampling:   0%|          | 0/20 [00:00<?, ?it/s]"
      ]
     },
     "metadata": {},
     "output_type": "display_data"
    },
    {
     "data": {
      "application/vnd.jupyter.widget-view+json": {
       "model_id": "c97e0e25c99043a2a75c14deb044972a",
       "version_major": 2,
       "version_minor": 0
      },
      "text/plain": [
       "diffusion sampling:   0%|          | 0/20 [00:00<?, ?it/s]"
      ]
     },
     "metadata": {},
     "output_type": "display_data"
    },
    {
     "data": {
      "application/vnd.jupyter.widget-view+json": {
       "model_id": "a6af01d5349042d6abbee7cc9ea6dc94",
       "version_major": 2,
       "version_minor": 0
      },
      "text/plain": [
       "class hypothsis:   0%|          | 0/6 [00:00<?, ?it/s]"
      ]
     },
     "metadata": {},
     "output_type": "display_data"
    },
    {
     "data": {
      "application/vnd.jupyter.widget-view+json": {
       "model_id": "ceeff548d30841b48de544bd105e5a37",
       "version_major": 2,
       "version_minor": 0
      },
      "text/plain": [
       "diffusion sampling:   0%|          | 0/20 [00:00<?, ?it/s]"
      ]
     },
     "metadata": {},
     "output_type": "display_data"
    },
    {
     "data": {
      "application/vnd.jupyter.widget-view+json": {
       "model_id": "e9d2cd349e434b06a3665726d64ee1e5",
       "version_major": 2,
       "version_minor": 0
      },
      "text/plain": [
       "diffusion sampling:   0%|          | 0/20 [00:00<?, ?it/s]"
      ]
     },
     "metadata": {},
     "output_type": "display_data"
    },
    {
     "data": {
      "application/vnd.jupyter.widget-view+json": {
       "model_id": "853268e7166248948e2e0639dfa40467",
       "version_major": 2,
       "version_minor": 0
      },
      "text/plain": [
       "diffusion sampling:   0%|          | 0/20 [00:00<?, ?it/s]"
      ]
     },
     "metadata": {},
     "output_type": "display_data"
    },
    {
     "data": {
      "application/vnd.jupyter.widget-view+json": {
       "model_id": "369e2361456a4a75a0f788c49b45c612",
       "version_major": 2,
       "version_minor": 0
      },
      "text/plain": [
       "diffusion sampling:   0%|          | 0/20 [00:00<?, ?it/s]"
      ]
     },
     "metadata": {},
     "output_type": "display_data"
    },
    {
     "data": {
      "application/vnd.jupyter.widget-view+json": {
       "model_id": "e84eedb40d1d482da0c8aeb5d8eb79b2",
       "version_major": 2,
       "version_minor": 0
      },
      "text/plain": [
       "diffusion sampling:   0%|          | 0/20 [00:00<?, ?it/s]"
      ]
     },
     "metadata": {},
     "output_type": "display_data"
    },
    {
     "data": {
      "application/vnd.jupyter.widget-view+json": {
       "model_id": "4bd1950cdd954f5186e394af8b456a04",
       "version_major": 2,
       "version_minor": 0
      },
      "text/plain": [
       "diffusion sampling:   0%|          | 0/20 [00:00<?, ?it/s]"
      ]
     },
     "metadata": {},
     "output_type": "display_data"
    },
    {
     "data": {
      "application/vnd.jupyter.widget-view+json": {
       "model_id": "709871ff91094c1b83303c4605c34fb6",
       "version_major": 2,
       "version_minor": 0
      },
      "text/plain": [
       "class hypothsis:   0%|          | 0/6 [00:00<?, ?it/s]"
      ]
     },
     "metadata": {},
     "output_type": "display_data"
    },
    {
     "data": {
      "application/vnd.jupyter.widget-view+json": {
       "model_id": "0d86a5416dd543469b9670967ee3ccd7",
       "version_major": 2,
       "version_minor": 0
      },
      "text/plain": [
       "diffusion sampling:   0%|          | 0/20 [00:00<?, ?it/s]"
      ]
     },
     "metadata": {},
     "output_type": "display_data"
    },
    {
     "data": {
      "application/vnd.jupyter.widget-view+json": {
       "model_id": "c2a97630cb3c48e48499c2a5cb8bd507",
       "version_major": 2,
       "version_minor": 0
      },
      "text/plain": [
       "diffusion sampling:   0%|          | 0/20 [00:00<?, ?it/s]"
      ]
     },
     "metadata": {},
     "output_type": "display_data"
    },
    {
     "data": {
      "application/vnd.jupyter.widget-view+json": {
       "model_id": "aecf4cec41e7453eaba4fad69a01d193",
       "version_major": 2,
       "version_minor": 0
      },
      "text/plain": [
       "diffusion sampling:   0%|          | 0/20 [00:00<?, ?it/s]"
      ]
     },
     "metadata": {},
     "output_type": "display_data"
    },
    {
     "data": {
      "application/vnd.jupyter.widget-view+json": {
       "model_id": "04e50f13b6e34261b95fb0033ead7a31",
       "version_major": 2,
       "version_minor": 0
      },
      "text/plain": [
       "diffusion sampling:   0%|          | 0/20 [00:00<?, ?it/s]"
      ]
     },
     "metadata": {},
     "output_type": "display_data"
    },
    {
     "data": {
      "application/vnd.jupyter.widget-view+json": {
       "model_id": "f6234889c36d42fe9affec8a1896336a",
       "version_major": 2,
       "version_minor": 0
      },
      "text/plain": [
       "diffusion sampling:   0%|          | 0/20 [00:00<?, ?it/s]"
      ]
     },
     "metadata": {},
     "output_type": "display_data"
    },
    {
     "data": {
      "application/vnd.jupyter.widget-view+json": {
       "model_id": "928adc56516a43e28af006f28881cf4e",
       "version_major": 2,
       "version_minor": 0
      },
      "text/plain": [
       "diffusion sampling:   0%|          | 0/20 [00:00<?, ?it/s]"
      ]
     },
     "metadata": {},
     "output_type": "display_data"
    },
    {
     "data": {
      "application/vnd.jupyter.widget-view+json": {
       "model_id": "8a7c968e2d1c4636bd048cf9cc683b15",
       "version_major": 2,
       "version_minor": 0
      },
      "text/plain": [
       "class hypothsis:   0%|          | 0/6 [00:00<?, ?it/s]"
      ]
     },
     "metadata": {},
     "output_type": "display_data"
    },
    {
     "data": {
      "application/vnd.jupyter.widget-view+json": {
       "model_id": "46509cb0f46b46a2ac636269427e12cd",
       "version_major": 2,
       "version_minor": 0
      },
      "text/plain": [
       "diffusion sampling:   0%|          | 0/20 [00:00<?, ?it/s]"
      ]
     },
     "metadata": {},
     "output_type": "display_data"
    },
    {
     "data": {
      "application/vnd.jupyter.widget-view+json": {
       "model_id": "24a4ea5aa3034f528366e805c31d96da",
       "version_major": 2,
       "version_minor": 0
      },
      "text/plain": [
       "diffusion sampling:   0%|          | 0/20 [00:00<?, ?it/s]"
      ]
     },
     "metadata": {},
     "output_type": "display_data"
    },
    {
     "data": {
      "application/vnd.jupyter.widget-view+json": {
       "model_id": "53c9bf33629d4b1b962c35445e2f6bc5",
       "version_major": 2,
       "version_minor": 0
      },
      "text/plain": [
       "diffusion sampling:   0%|          | 0/20 [00:00<?, ?it/s]"
      ]
     },
     "metadata": {},
     "output_type": "display_data"
    },
    {
     "data": {
      "application/vnd.jupyter.widget-view+json": {
       "model_id": "d0ce901413db4ae4a9de89acea6920b6",
       "version_major": 2,
       "version_minor": 0
      },
      "text/plain": [
       "diffusion sampling:   0%|          | 0/20 [00:00<?, ?it/s]"
      ]
     },
     "metadata": {},
     "output_type": "display_data"
    },
    {
     "data": {
      "application/vnd.jupyter.widget-view+json": {
       "model_id": "07627f1c7eea4108bebc73673536b4d7",
       "version_major": 2,
       "version_minor": 0
      },
      "text/plain": [
       "diffusion sampling:   0%|          | 0/20 [00:00<?, ?it/s]"
      ]
     },
     "metadata": {},
     "output_type": "display_data"
    },
    {
     "data": {
      "application/vnd.jupyter.widget-view+json": {
       "model_id": "ad5b7f15eaf74c7a901aab8be42c5d4f",
       "version_major": 2,
       "version_minor": 0
      },
      "text/plain": [
       "diffusion sampling:   0%|          | 0/20 [00:00<?, ?it/s]"
      ]
     },
     "metadata": {},
     "output_type": "display_data"
    },
    {
     "data": {
      "application/vnd.jupyter.widget-view+json": {
       "model_id": "ada4c33f861a48da9a921db377643742",
       "version_major": 2,
       "version_minor": 0
      },
      "text/plain": [
       "class hypothsis:   0%|          | 0/6 [00:00<?, ?it/s]"
      ]
     },
     "metadata": {},
     "output_type": "display_data"
    },
    {
     "data": {
      "application/vnd.jupyter.widget-view+json": {
       "model_id": "ff1cba7be4094c6d93298e272fb49cde",
       "version_major": 2,
       "version_minor": 0
      },
      "text/plain": [
       "diffusion sampling:   0%|          | 0/20 [00:00<?, ?it/s]"
      ]
     },
     "metadata": {},
     "output_type": "display_data"
    },
    {
     "data": {
      "application/vnd.jupyter.widget-view+json": {
       "model_id": "d2dbe9f727dc4d59bf4bef2209684295",
       "version_major": 2,
       "version_minor": 0
      },
      "text/plain": [
       "diffusion sampling:   0%|          | 0/20 [00:00<?, ?it/s]"
      ]
     },
     "metadata": {},
     "output_type": "display_data"
    },
    {
     "data": {
      "application/vnd.jupyter.widget-view+json": {
       "model_id": "c38ca216b55c408c82b670242d11f379",
       "version_major": 2,
       "version_minor": 0
      },
      "text/plain": [
       "diffusion sampling:   0%|          | 0/20 [00:00<?, ?it/s]"
      ]
     },
     "metadata": {},
     "output_type": "display_data"
    },
    {
     "data": {
      "application/vnd.jupyter.widget-view+json": {
       "model_id": "010e96f2797e47a98e7637f4567b7ceb",
       "version_major": 2,
       "version_minor": 0
      },
      "text/plain": [
       "diffusion sampling:   0%|          | 0/20 [00:00<?, ?it/s]"
      ]
     },
     "metadata": {},
     "output_type": "display_data"
    },
    {
     "data": {
      "application/vnd.jupyter.widget-view+json": {
       "model_id": "71342037ca3f447691ae12599b28eb05",
       "version_major": 2,
       "version_minor": 0
      },
      "text/plain": [
       "diffusion sampling:   0%|          | 0/20 [00:00<?, ?it/s]"
      ]
     },
     "metadata": {},
     "output_type": "display_data"
    },
    {
     "data": {
      "application/vnd.jupyter.widget-view+json": {
       "model_id": "8f385ad02eb4447cb1c3c8c3170acf7c",
       "version_major": 2,
       "version_minor": 0
      },
      "text/plain": [
       "diffusion sampling:   0%|          | 0/20 [00:00<?, ?it/s]"
      ]
     },
     "metadata": {},
     "output_type": "display_data"
    },
    {
     "data": {
      "application/vnd.jupyter.widget-view+json": {
       "model_id": "79e12a74ed50409b92f3bcc2abc86550",
       "version_major": 2,
       "version_minor": 0
      },
      "text/plain": [
       "class hypothsis:   0%|          | 0/6 [00:00<?, ?it/s]"
      ]
     },
     "metadata": {},
     "output_type": "display_data"
    },
    {
     "data": {
      "application/vnd.jupyter.widget-view+json": {
       "model_id": "d4d0a51d97ed4d26b638abb49aab5e3f",
       "version_major": 2,
       "version_minor": 0
      },
      "text/plain": [
       "diffusion sampling:   0%|          | 0/20 [00:00<?, ?it/s]"
      ]
     },
     "metadata": {},
     "output_type": "display_data"
    },
    {
     "data": {
      "application/vnd.jupyter.widget-view+json": {
       "model_id": "41f25dfe4cd44a9ea303e9fd0cc841f0",
       "version_major": 2,
       "version_minor": 0
      },
      "text/plain": [
       "diffusion sampling:   0%|          | 0/20 [00:00<?, ?it/s]"
      ]
     },
     "metadata": {},
     "output_type": "display_data"
    },
    {
     "data": {
      "application/vnd.jupyter.widget-view+json": {
       "model_id": "be01f0a729c348768f9fdadbf0f9294b",
       "version_major": 2,
       "version_minor": 0
      },
      "text/plain": [
       "diffusion sampling:   0%|          | 0/20 [00:00<?, ?it/s]"
      ]
     },
     "metadata": {},
     "output_type": "display_data"
    },
    {
     "data": {
      "application/vnd.jupyter.widget-view+json": {
       "model_id": "7d8178668e1248e887936552277693dd",
       "version_major": 2,
       "version_minor": 0
      },
      "text/plain": [
       "diffusion sampling:   0%|          | 0/20 [00:00<?, ?it/s]"
      ]
     },
     "metadata": {},
     "output_type": "display_data"
    },
    {
     "data": {
      "application/vnd.jupyter.widget-view+json": {
       "model_id": "65b0e7a160ee42369c59f54af2777896",
       "version_major": 2,
       "version_minor": 0
      },
      "text/plain": [
       "diffusion sampling:   0%|          | 0/20 [00:00<?, ?it/s]"
      ]
     },
     "metadata": {},
     "output_type": "display_data"
    },
    {
     "data": {
      "application/vnd.jupyter.widget-view+json": {
       "model_id": "f635659f46ec48698defb53b27e9186c",
       "version_major": 2,
       "version_minor": 0
      },
      "text/plain": [
       "diffusion sampling:   0%|          | 0/20 [00:00<?, ?it/s]"
      ]
     },
     "metadata": {},
     "output_type": "display_data"
    },
    {
     "data": {
      "application/vnd.jupyter.widget-view+json": {
       "model_id": "870eedf1fcde4468a9b67c5a68a3bcd8",
       "version_major": 2,
       "version_minor": 0
      },
      "text/plain": [
       "class hypothsis:   0%|          | 0/6 [00:00<?, ?it/s]"
      ]
     },
     "metadata": {},
     "output_type": "display_data"
    },
    {
     "data": {
      "application/vnd.jupyter.widget-view+json": {
       "model_id": "d7c04288d2fe4ac18ce5ea04bbd03773",
       "version_major": 2,
       "version_minor": 0
      },
      "text/plain": [
       "diffusion sampling:   0%|          | 0/20 [00:00<?, ?it/s]"
      ]
     },
     "metadata": {},
     "output_type": "display_data"
    },
    {
     "data": {
      "application/vnd.jupyter.widget-view+json": {
       "model_id": "b33dc9006f944c468ab64eb635d15bae",
       "version_major": 2,
       "version_minor": 0
      },
      "text/plain": [
       "diffusion sampling:   0%|          | 0/20 [00:00<?, ?it/s]"
      ]
     },
     "metadata": {},
     "output_type": "display_data"
    },
    {
     "data": {
      "application/vnd.jupyter.widget-view+json": {
       "model_id": "02514d1e7f3b4d70971b30a649dab020",
       "version_major": 2,
       "version_minor": 0
      },
      "text/plain": [
       "diffusion sampling:   0%|          | 0/20 [00:00<?, ?it/s]"
      ]
     },
     "metadata": {},
     "output_type": "display_data"
    },
    {
     "data": {
      "application/vnd.jupyter.widget-view+json": {
       "model_id": "41bfdcf6058b406296a5e39bda658789",
       "version_major": 2,
       "version_minor": 0
      },
      "text/plain": [
       "diffusion sampling:   0%|          | 0/20 [00:00<?, ?it/s]"
      ]
     },
     "metadata": {},
     "output_type": "display_data"
    },
    {
     "data": {
      "application/vnd.jupyter.widget-view+json": {
       "model_id": "f8ffbfdd21c249c4b57d141889524eb0",
       "version_major": 2,
       "version_minor": 0
      },
      "text/plain": [
       "diffusion sampling:   0%|          | 0/20 [00:00<?, ?it/s]"
      ]
     },
     "metadata": {},
     "output_type": "display_data"
    },
    {
     "data": {
      "application/vnd.jupyter.widget-view+json": {
       "model_id": "5292a571f4fa43a2a6a3d14e05e8acfe",
       "version_major": 2,
       "version_minor": 0
      },
      "text/plain": [
       "diffusion sampling:   0%|          | 0/20 [00:00<?, ?it/s]"
      ]
     },
     "metadata": {},
     "output_type": "display_data"
    },
    {
     "data": {
      "application/vnd.jupyter.widget-view+json": {
       "model_id": "4da497dffa4a48e2806afafc8faed68a",
       "version_major": 2,
       "version_minor": 0
      },
      "text/plain": [
       "class hypothsis:   0%|          | 0/6 [00:00<?, ?it/s]"
      ]
     },
     "metadata": {},
     "output_type": "display_data"
    },
    {
     "data": {
      "application/vnd.jupyter.widget-view+json": {
       "model_id": "cdb7b0bbf2d64d91a94eb96e83f3b258",
       "version_major": 2,
       "version_minor": 0
      },
      "text/plain": [
       "diffusion sampling:   0%|          | 0/20 [00:00<?, ?it/s]"
      ]
     },
     "metadata": {},
     "output_type": "display_data"
    },
    {
     "data": {
      "application/vnd.jupyter.widget-view+json": {
       "model_id": "7de4606020ea4fbdb44d114bd9669af9",
       "version_major": 2,
       "version_minor": 0
      },
      "text/plain": [
       "diffusion sampling:   0%|          | 0/20 [00:00<?, ?it/s]"
      ]
     },
     "metadata": {},
     "output_type": "display_data"
    },
    {
     "data": {
      "application/vnd.jupyter.widget-view+json": {
       "model_id": "97811621630b4f47967ee82a9a77e7c8",
       "version_major": 2,
       "version_minor": 0
      },
      "text/plain": [
       "diffusion sampling:   0%|          | 0/20 [00:00<?, ?it/s]"
      ]
     },
     "metadata": {},
     "output_type": "display_data"
    },
    {
     "data": {
      "application/vnd.jupyter.widget-view+json": {
       "model_id": "a0f91b46c3dd44dca8235225ed83f173",
       "version_major": 2,
       "version_minor": 0
      },
      "text/plain": [
       "diffusion sampling:   0%|          | 0/20 [00:00<?, ?it/s]"
      ]
     },
     "metadata": {},
     "output_type": "display_data"
    },
    {
     "data": {
      "application/vnd.jupyter.widget-view+json": {
       "model_id": "2669c679d62e406a8542b1cf69646b03",
       "version_major": 2,
       "version_minor": 0
      },
      "text/plain": [
       "diffusion sampling:   0%|          | 0/20 [00:00<?, ?it/s]"
      ]
     },
     "metadata": {},
     "output_type": "display_data"
    },
    {
     "data": {
      "application/vnd.jupyter.widget-view+json": {
       "model_id": "af1bac9978ff4f198b14625af680c66d",
       "version_major": 2,
       "version_minor": 0
      },
      "text/plain": [
       "diffusion sampling:   0%|          | 0/20 [00:00<?, ?it/s]"
      ]
     },
     "metadata": {},
     "output_type": "display_data"
    },
    {
     "data": {
      "application/vnd.jupyter.widget-view+json": {
       "model_id": "955534d02fe848518b5ba6b7dc1351cf",
       "version_major": 2,
       "version_minor": 0
      },
      "text/plain": [
       "class hypothsis:   0%|          | 0/6 [00:00<?, ?it/s]"
      ]
     },
     "metadata": {},
     "output_type": "display_data"
    },
    {
     "data": {
      "application/vnd.jupyter.widget-view+json": {
       "model_id": "e7c22654880746978f1060482eab53c5",
       "version_major": 2,
       "version_minor": 0
      },
      "text/plain": [
       "diffusion sampling:   0%|          | 0/20 [00:00<?, ?it/s]"
      ]
     },
     "metadata": {},
     "output_type": "display_data"
    },
    {
     "data": {
      "application/vnd.jupyter.widget-view+json": {
       "model_id": "6247d218cbfa492dbd6cda66ea2063db",
       "version_major": 2,
       "version_minor": 0
      },
      "text/plain": [
       "diffusion sampling:   0%|          | 0/20 [00:00<?, ?it/s]"
      ]
     },
     "metadata": {},
     "output_type": "display_data"
    },
    {
     "data": {
      "application/vnd.jupyter.widget-view+json": {
       "model_id": "d78ee5850a184e3d8899ab960068f0e9",
       "version_major": 2,
       "version_minor": 0
      },
      "text/plain": [
       "diffusion sampling:   0%|          | 0/20 [00:00<?, ?it/s]"
      ]
     },
     "metadata": {},
     "output_type": "display_data"
    },
    {
     "data": {
      "application/vnd.jupyter.widget-view+json": {
       "model_id": "7d7629a773bf4166ac3e306554ca2f33",
       "version_major": 2,
       "version_minor": 0
      },
      "text/plain": [
       "diffusion sampling:   0%|          | 0/20 [00:00<?, ?it/s]"
      ]
     },
     "metadata": {},
     "output_type": "display_data"
    },
    {
     "data": {
      "application/vnd.jupyter.widget-view+json": {
       "model_id": "3ffcca8ba82143cbaf0a54aae3ea6446",
       "version_major": 2,
       "version_minor": 0
      },
      "text/plain": [
       "diffusion sampling:   0%|          | 0/20 [00:00<?, ?it/s]"
      ]
     },
     "metadata": {},
     "output_type": "display_data"
    },
    {
     "data": {
      "application/vnd.jupyter.widget-view+json": {
       "model_id": "53d5fd31b890414296154ec494126a08",
       "version_major": 2,
       "version_minor": 0
      },
      "text/plain": [
       "diffusion sampling:   0%|          | 0/20 [00:00<?, ?it/s]"
      ]
     },
     "metadata": {},
     "output_type": "display_data"
    },
    {
     "data": {
      "application/vnd.jupyter.widget-view+json": {
       "model_id": "206184baa8cf4515b558892fa9c1e9d9",
       "version_major": 2,
       "version_minor": 0
      },
      "text/plain": [
       "class hypothsis:   0%|          | 0/6 [00:00<?, ?it/s]"
      ]
     },
     "metadata": {},
     "output_type": "display_data"
    },
    {
     "data": {
      "application/vnd.jupyter.widget-view+json": {
       "model_id": "3182919b86554136a3343a636668da6a",
       "version_major": 2,
       "version_minor": 0
      },
      "text/plain": [
       "diffusion sampling:   0%|          | 0/20 [00:00<?, ?it/s]"
      ]
     },
     "metadata": {},
     "output_type": "display_data"
    },
    {
     "data": {
      "application/vnd.jupyter.widget-view+json": {
       "model_id": "d2f8cd934ca84dfd99c58d61dc3a7659",
       "version_major": 2,
       "version_minor": 0
      },
      "text/plain": [
       "diffusion sampling:   0%|          | 0/20 [00:00<?, ?it/s]"
      ]
     },
     "metadata": {},
     "output_type": "display_data"
    },
    {
     "data": {
      "application/vnd.jupyter.widget-view+json": {
       "model_id": "77a655de55b6466c98e16fc3202a9331",
       "version_major": 2,
       "version_minor": 0
      },
      "text/plain": [
       "diffusion sampling:   0%|          | 0/20 [00:00<?, ?it/s]"
      ]
     },
     "metadata": {},
     "output_type": "display_data"
    },
    {
     "data": {
      "application/vnd.jupyter.widget-view+json": {
       "model_id": "ad521e189f494af99600f04250f54774",
       "version_major": 2,
       "version_minor": 0
      },
      "text/plain": [
       "diffusion sampling:   0%|          | 0/20 [00:00<?, ?it/s]"
      ]
     },
     "metadata": {},
     "output_type": "display_data"
    },
    {
     "data": {
      "application/vnd.jupyter.widget-view+json": {
       "model_id": "9761a3476a244b149e4d8c87e3367d2b",
       "version_major": 2,
       "version_minor": 0
      },
      "text/plain": [
       "diffusion sampling:   0%|          | 0/20 [00:00<?, ?it/s]"
      ]
     },
     "metadata": {},
     "output_type": "display_data"
    },
    {
     "data": {
      "application/vnd.jupyter.widget-view+json": {
       "model_id": "7462228d89154584b746890263a9653f",
       "version_major": 2,
       "version_minor": 0
      },
      "text/plain": [
       "diffusion sampling:   0%|          | 0/20 [00:00<?, ?it/s]"
      ]
     },
     "metadata": {},
     "output_type": "display_data"
    },
    {
     "data": {
      "application/vnd.jupyter.widget-view+json": {
       "model_id": "1171f5f330e54f3f89349181e66719eb",
       "version_major": 2,
       "version_minor": 0
      },
      "text/plain": [
       "class hypothsis:   0%|          | 0/6 [00:00<?, ?it/s]"
      ]
     },
     "metadata": {},
     "output_type": "display_data"
    },
    {
     "data": {
      "application/vnd.jupyter.widget-view+json": {
       "model_id": "abf9b5e1293048d4b42731880f24558f",
       "version_major": 2,
       "version_minor": 0
      },
      "text/plain": [
       "diffusion sampling:   0%|          | 0/20 [00:00<?, ?it/s]"
      ]
     },
     "metadata": {},
     "output_type": "display_data"
    },
    {
     "data": {
      "application/vnd.jupyter.widget-view+json": {
       "model_id": "97e3d4d3b418418db232ddd21eda97cc",
       "version_major": 2,
       "version_minor": 0
      },
      "text/plain": [
       "diffusion sampling:   0%|          | 0/20 [00:00<?, ?it/s]"
      ]
     },
     "metadata": {},
     "output_type": "display_data"
    },
    {
     "data": {
      "application/vnd.jupyter.widget-view+json": {
       "model_id": "7ffc9d41e27c4c54b850c4be9fa3edbf",
       "version_major": 2,
       "version_minor": 0
      },
      "text/plain": [
       "diffusion sampling:   0%|          | 0/20 [00:00<?, ?it/s]"
      ]
     },
     "metadata": {},
     "output_type": "display_data"
    },
    {
     "data": {
      "application/vnd.jupyter.widget-view+json": {
       "model_id": "f0af50e2aa984ab284cd97552b6f0ed1",
       "version_major": 2,
       "version_minor": 0
      },
      "text/plain": [
       "diffusion sampling:   0%|          | 0/20 [00:00<?, ?it/s]"
      ]
     },
     "metadata": {},
     "output_type": "display_data"
    },
    {
     "data": {
      "application/vnd.jupyter.widget-view+json": {
       "model_id": "635a3d7055b344ce9a58829c9a5b0fab",
       "version_major": 2,
       "version_minor": 0
      },
      "text/plain": [
       "diffusion sampling:   0%|          | 0/20 [00:00<?, ?it/s]"
      ]
     },
     "metadata": {},
     "output_type": "display_data"
    },
    {
     "data": {
      "application/vnd.jupyter.widget-view+json": {
       "model_id": "f5abd10a9a7e40339ec62ea007925b4f",
       "version_major": 2,
       "version_minor": 0
      },
      "text/plain": [
       "diffusion sampling:   0%|          | 0/20 [00:00<?, ?it/s]"
      ]
     },
     "metadata": {},
     "output_type": "display_data"
    },
    {
     "data": {
      "application/vnd.jupyter.widget-view+json": {
       "model_id": "2f7a55c27ea84b188c054b2ec7bd560d",
       "version_major": 2,
       "version_minor": 0
      },
      "text/plain": [
       "class hypothsis:   0%|          | 0/6 [00:00<?, ?it/s]"
      ]
     },
     "metadata": {},
     "output_type": "display_data"
    },
    {
     "data": {
      "application/vnd.jupyter.widget-view+json": {
       "model_id": "8ab6341ccb0144b0bd0ca933917817ba",
       "version_major": 2,
       "version_minor": 0
      },
      "text/plain": [
       "diffusion sampling:   0%|          | 0/20 [00:00<?, ?it/s]"
      ]
     },
     "metadata": {},
     "output_type": "display_data"
    },
    {
     "data": {
      "application/vnd.jupyter.widget-view+json": {
       "model_id": "aeb84f528ab04be4907de22116d54668",
       "version_major": 2,
       "version_minor": 0
      },
      "text/plain": [
       "diffusion sampling:   0%|          | 0/20 [00:00<?, ?it/s]"
      ]
     },
     "metadata": {},
     "output_type": "display_data"
    },
    {
     "data": {
      "application/vnd.jupyter.widget-view+json": {
       "model_id": "fdb692db282745b0ba3e7b29aa8d8b51",
       "version_major": 2,
       "version_minor": 0
      },
      "text/plain": [
       "diffusion sampling:   0%|          | 0/20 [00:00<?, ?it/s]"
      ]
     },
     "metadata": {},
     "output_type": "display_data"
    },
    {
     "data": {
      "application/vnd.jupyter.widget-view+json": {
       "model_id": "d8762b70f61a47dd91471484736b0de0",
       "version_major": 2,
       "version_minor": 0
      },
      "text/plain": [
       "diffusion sampling:   0%|          | 0/20 [00:00<?, ?it/s]"
      ]
     },
     "metadata": {},
     "output_type": "display_data"
    },
    {
     "data": {
      "application/vnd.jupyter.widget-view+json": {
       "model_id": "377de69790f3400eb114d8561bd97c06",
       "version_major": 2,
       "version_minor": 0
      },
      "text/plain": [
       "diffusion sampling:   0%|          | 0/20 [00:00<?, ?it/s]"
      ]
     },
     "metadata": {},
     "output_type": "display_data"
    },
    {
     "data": {
      "application/vnd.jupyter.widget-view+json": {
       "model_id": "28c727b4d7544297a0aac3910dabe2ef",
       "version_major": 2,
       "version_minor": 0
      },
      "text/plain": [
       "diffusion sampling:   0%|          | 0/20 [00:00<?, ?it/s]"
      ]
     },
     "metadata": {},
     "output_type": "display_data"
    },
    {
     "data": {
      "application/vnd.jupyter.widget-view+json": {
       "model_id": "16cd44aac1c64d49a2fdf6fbfd55fc45",
       "version_major": 2,
       "version_minor": 0
      },
      "text/plain": [
       "class hypothsis:   0%|          | 0/6 [00:00<?, ?it/s]"
      ]
     },
     "metadata": {},
     "output_type": "display_data"
    },
    {
     "data": {
      "application/vnd.jupyter.widget-view+json": {
       "model_id": "753daf7eca504db49d68ab9421f7c528",
       "version_major": 2,
       "version_minor": 0
      },
      "text/plain": [
       "diffusion sampling:   0%|          | 0/20 [00:00<?, ?it/s]"
      ]
     },
     "metadata": {},
     "output_type": "display_data"
    },
    {
     "data": {
      "application/vnd.jupyter.widget-view+json": {
       "model_id": "2cba80f50645494ca65b8ccea32690d0",
       "version_major": 2,
       "version_minor": 0
      },
      "text/plain": [
       "diffusion sampling:   0%|          | 0/20 [00:00<?, ?it/s]"
      ]
     },
     "metadata": {},
     "output_type": "display_data"
    },
    {
     "data": {
      "application/vnd.jupyter.widget-view+json": {
       "model_id": "c53fd30d04d747529a02047a7f4d2a1d",
       "version_major": 2,
       "version_minor": 0
      },
      "text/plain": [
       "diffusion sampling:   0%|          | 0/20 [00:00<?, ?it/s]"
      ]
     },
     "metadata": {},
     "output_type": "display_data"
    },
    {
     "data": {
      "application/vnd.jupyter.widget-view+json": {
       "model_id": "8c99887bf7b548a088cbc94c14b70df0",
       "version_major": 2,
       "version_minor": 0
      },
      "text/plain": [
       "diffusion sampling:   0%|          | 0/20 [00:00<?, ?it/s]"
      ]
     },
     "metadata": {},
     "output_type": "display_data"
    },
    {
     "data": {
      "application/vnd.jupyter.widget-view+json": {
       "model_id": "7583ba57458747af8acdd807e9d604a8",
       "version_major": 2,
       "version_minor": 0
      },
      "text/plain": [
       "diffusion sampling:   0%|          | 0/20 [00:00<?, ?it/s]"
      ]
     },
     "metadata": {},
     "output_type": "display_data"
    },
    {
     "data": {
      "application/vnd.jupyter.widget-view+json": {
       "model_id": "127ffe6e5e9d40c891f28885f94c11d3",
       "version_major": 2,
       "version_minor": 0
      },
      "text/plain": [
       "diffusion sampling:   0%|          | 0/20 [00:00<?, ?it/s]"
      ]
     },
     "metadata": {},
     "output_type": "display_data"
    },
    {
     "data": {
      "application/vnd.jupyter.widget-view+json": {
       "model_id": "1fa0ba29c2d04c37adbc947192ee6345",
       "version_major": 2,
       "version_minor": 0
      },
      "text/plain": [
       "class hypothsis:   0%|          | 0/6 [00:00<?, ?it/s]"
      ]
     },
     "metadata": {},
     "output_type": "display_data"
    },
    {
     "data": {
      "application/vnd.jupyter.widget-view+json": {
       "model_id": "c89a97c4cc24454297811e4d56f419dc",
       "version_major": 2,
       "version_minor": 0
      },
      "text/plain": [
       "diffusion sampling:   0%|          | 0/20 [00:00<?, ?it/s]"
      ]
     },
     "metadata": {},
     "output_type": "display_data"
    },
    {
     "data": {
      "application/vnd.jupyter.widget-view+json": {
       "model_id": "435719cb42d94e6fab85b41efb766dd5",
       "version_major": 2,
       "version_minor": 0
      },
      "text/plain": [
       "diffusion sampling:   0%|          | 0/20 [00:00<?, ?it/s]"
      ]
     },
     "metadata": {},
     "output_type": "display_data"
    },
    {
     "data": {
      "application/vnd.jupyter.widget-view+json": {
       "model_id": "f95ebb3b562c43b7b183893aa3b2037a",
       "version_major": 2,
       "version_minor": 0
      },
      "text/plain": [
       "diffusion sampling:   0%|          | 0/20 [00:00<?, ?it/s]"
      ]
     },
     "metadata": {},
     "output_type": "display_data"
    },
    {
     "data": {
      "application/vnd.jupyter.widget-view+json": {
       "model_id": "fa4072d60a494240a0ce9c58599e254d",
       "version_major": 2,
       "version_minor": 0
      },
      "text/plain": [
       "diffusion sampling:   0%|          | 0/20 [00:00<?, ?it/s]"
      ]
     },
     "metadata": {},
     "output_type": "display_data"
    },
    {
     "data": {
      "application/vnd.jupyter.widget-view+json": {
       "model_id": "a89c6f57412049bb8304155b136e4847",
       "version_major": 2,
       "version_minor": 0
      },
      "text/plain": [
       "diffusion sampling:   0%|          | 0/20 [00:00<?, ?it/s]"
      ]
     },
     "metadata": {},
     "output_type": "display_data"
    },
    {
     "data": {
      "application/vnd.jupyter.widget-view+json": {
       "model_id": "53fdf0b24de64a878c0a0113d3e11405",
       "version_major": 2,
       "version_minor": 0
      },
      "text/plain": [
       "diffusion sampling:   0%|          | 0/20 [00:00<?, ?it/s]"
      ]
     },
     "metadata": {},
     "output_type": "display_data"
    },
    {
     "data": {
      "application/vnd.jupyter.widget-view+json": {
       "model_id": "b61ee0027b6f4de5807b3f45901e8a68",
       "version_major": 2,
       "version_minor": 0
      },
      "text/plain": [
       "class hypothsis:   0%|          | 0/6 [00:00<?, ?it/s]"
      ]
     },
     "metadata": {},
     "output_type": "display_data"
    },
    {
     "data": {
      "application/vnd.jupyter.widget-view+json": {
       "model_id": "126e82ff932040b3b4a084a7114c7928",
       "version_major": 2,
       "version_minor": 0
      },
      "text/plain": [
       "diffusion sampling:   0%|          | 0/20 [00:00<?, ?it/s]"
      ]
     },
     "metadata": {},
     "output_type": "display_data"
    },
    {
     "data": {
      "application/vnd.jupyter.widget-view+json": {
       "model_id": "dd361df622734c0aa625a946e8b7cde4",
       "version_major": 2,
       "version_minor": 0
      },
      "text/plain": [
       "diffusion sampling:   0%|          | 0/20 [00:00<?, ?it/s]"
      ]
     },
     "metadata": {},
     "output_type": "display_data"
    },
    {
     "data": {
      "application/vnd.jupyter.widget-view+json": {
       "model_id": "4035617c9d0848efa2013933bec02d3b",
       "version_major": 2,
       "version_minor": 0
      },
      "text/plain": [
       "diffusion sampling:   0%|          | 0/20 [00:00<?, ?it/s]"
      ]
     },
     "metadata": {},
     "output_type": "display_data"
    },
    {
     "data": {
      "application/vnd.jupyter.widget-view+json": {
       "model_id": "58cc5cbe346d425db3f7012cffae14ee",
       "version_major": 2,
       "version_minor": 0
      },
      "text/plain": [
       "diffusion sampling:   0%|          | 0/20 [00:00<?, ?it/s]"
      ]
     },
     "metadata": {},
     "output_type": "display_data"
    },
    {
     "data": {
      "application/vnd.jupyter.widget-view+json": {
       "model_id": "47b7cf331b0444c0abe096293ab308b9",
       "version_major": 2,
       "version_minor": 0
      },
      "text/plain": [
       "diffusion sampling:   0%|          | 0/20 [00:00<?, ?it/s]"
      ]
     },
     "metadata": {},
     "output_type": "display_data"
    },
    {
     "data": {
      "application/vnd.jupyter.widget-view+json": {
       "model_id": "c2ea07ac836249348c1d202f7da74e9b",
       "version_major": 2,
       "version_minor": 0
      },
      "text/plain": [
       "diffusion sampling:   0%|          | 0/20 [00:00<?, ?it/s]"
      ]
     },
     "metadata": {},
     "output_type": "display_data"
    },
    {
     "data": {
      "application/vnd.jupyter.widget-view+json": {
       "model_id": "ed45e444028841abb95d3a50a88abc01",
       "version_major": 2,
       "version_minor": 0
      },
      "text/plain": [
       "class hypothsis:   0%|          | 0/6 [00:00<?, ?it/s]"
      ]
     },
     "metadata": {},
     "output_type": "display_data"
    },
    {
     "data": {
      "application/vnd.jupyter.widget-view+json": {
       "model_id": "9adb33ea3464431daaa2e3457de92283",
       "version_major": 2,
       "version_minor": 0
      },
      "text/plain": [
       "diffusion sampling:   0%|          | 0/20 [00:00<?, ?it/s]"
      ]
     },
     "metadata": {},
     "output_type": "display_data"
    },
    {
     "data": {
      "application/vnd.jupyter.widget-view+json": {
       "model_id": "37526eceb33b410781d01541fb29a521",
       "version_major": 2,
       "version_minor": 0
      },
      "text/plain": [
       "diffusion sampling:   0%|          | 0/20 [00:00<?, ?it/s]"
      ]
     },
     "metadata": {},
     "output_type": "display_data"
    },
    {
     "data": {
      "application/vnd.jupyter.widget-view+json": {
       "model_id": "7745ac751da7434882bb36c0b059b991",
       "version_major": 2,
       "version_minor": 0
      },
      "text/plain": [
       "diffusion sampling:   0%|          | 0/20 [00:00<?, ?it/s]"
      ]
     },
     "metadata": {},
     "output_type": "display_data"
    },
    {
     "data": {
      "application/vnd.jupyter.widget-view+json": {
       "model_id": "5066c2a39d7d4fba9fff53e25781b32a",
       "version_major": 2,
       "version_minor": 0
      },
      "text/plain": [
       "diffusion sampling:   0%|          | 0/20 [00:00<?, ?it/s]"
      ]
     },
     "metadata": {},
     "output_type": "display_data"
    },
    {
     "data": {
      "application/vnd.jupyter.widget-view+json": {
       "model_id": "f5c786f024dd41e6bd0bad1a5c760947",
       "version_major": 2,
       "version_minor": 0
      },
      "text/plain": [
       "diffusion sampling:   0%|          | 0/20 [00:00<?, ?it/s]"
      ]
     },
     "metadata": {},
     "output_type": "display_data"
    },
    {
     "data": {
      "application/vnd.jupyter.widget-view+json": {
       "model_id": "a580cd7df75745fa85dd44edb44f57e0",
       "version_major": 2,
       "version_minor": 0
      },
      "text/plain": [
       "diffusion sampling:   0%|          | 0/20 [00:00<?, ?it/s]"
      ]
     },
     "metadata": {},
     "output_type": "display_data"
    },
    {
     "data": {
      "application/vnd.jupyter.widget-view+json": {
       "model_id": "c431075152654b218af3a0db6e851b1c",
       "version_major": 2,
       "version_minor": 0
      },
      "text/plain": [
       "class hypothsis:   0%|          | 0/6 [00:00<?, ?it/s]"
      ]
     },
     "metadata": {},
     "output_type": "display_data"
    },
    {
     "data": {
      "application/vnd.jupyter.widget-view+json": {
       "model_id": "21073665c1b64d9180f1ae3f5a2ebf88",
       "version_major": 2,
       "version_minor": 0
      },
      "text/plain": [
       "diffusion sampling:   0%|          | 0/20 [00:00<?, ?it/s]"
      ]
     },
     "metadata": {},
     "output_type": "display_data"
    },
    {
     "data": {
      "application/vnd.jupyter.widget-view+json": {
       "model_id": "2b35ff4f5ed54af79dfdc67ccd755099",
       "version_major": 2,
       "version_minor": 0
      },
      "text/plain": [
       "diffusion sampling:   0%|          | 0/20 [00:00<?, ?it/s]"
      ]
     },
     "metadata": {},
     "output_type": "display_data"
    },
    {
     "data": {
      "application/vnd.jupyter.widget-view+json": {
       "model_id": "41f2b2bcde284f8fac1690cd618f0335",
       "version_major": 2,
       "version_minor": 0
      },
      "text/plain": [
       "diffusion sampling:   0%|          | 0/20 [00:00<?, ?it/s]"
      ]
     },
     "metadata": {},
     "output_type": "display_data"
    },
    {
     "data": {
      "application/vnd.jupyter.widget-view+json": {
       "model_id": "fdad9e8a83fc4c31899e4279b78e7a80",
       "version_major": 2,
       "version_minor": 0
      },
      "text/plain": [
       "diffusion sampling:   0%|          | 0/20 [00:00<?, ?it/s]"
      ]
     },
     "metadata": {},
     "output_type": "display_data"
    },
    {
     "data": {
      "application/vnd.jupyter.widget-view+json": {
       "model_id": "fd1021b304ff4d47950ebc16e79e4f70",
       "version_major": 2,
       "version_minor": 0
      },
      "text/plain": [
       "diffusion sampling:   0%|          | 0/20 [00:00<?, ?it/s]"
      ]
     },
     "metadata": {},
     "output_type": "display_data"
    },
    {
     "data": {
      "application/vnd.jupyter.widget-view+json": {
       "model_id": "15ae31dd4a494617befc73f3cde3fb38",
       "version_major": 2,
       "version_minor": 0
      },
      "text/plain": [
       "diffusion sampling:   0%|          | 0/20 [00:00<?, ?it/s]"
      ]
     },
     "metadata": {},
     "output_type": "display_data"
    },
    {
     "data": {
      "application/vnd.jupyter.widget-view+json": {
       "model_id": "b112d4f9d99c445c8f4467fe719ab559",
       "version_major": 2,
       "version_minor": 0
      },
      "text/plain": [
       "class hypothsis:   0%|          | 0/6 [00:00<?, ?it/s]"
      ]
     },
     "metadata": {},
     "output_type": "display_data"
    },
    {
     "data": {
      "application/vnd.jupyter.widget-view+json": {
       "model_id": "70bd2a7c5c854aa5b2dcf71f285a5315",
       "version_major": 2,
       "version_minor": 0
      },
      "text/plain": [
       "diffusion sampling:   0%|          | 0/20 [00:00<?, ?it/s]"
      ]
     },
     "metadata": {},
     "output_type": "display_data"
    },
    {
     "data": {
      "application/vnd.jupyter.widget-view+json": {
       "model_id": "7e8b7d66735b48e38b79e58c51b53fd2",
       "version_major": 2,
       "version_minor": 0
      },
      "text/plain": [
       "diffusion sampling:   0%|          | 0/20 [00:00<?, ?it/s]"
      ]
     },
     "metadata": {},
     "output_type": "display_data"
    },
    {
     "data": {
      "application/vnd.jupyter.widget-view+json": {
       "model_id": "d854a3ee22c646ca9c38e2b2a1927fba",
       "version_major": 2,
       "version_minor": 0
      },
      "text/plain": [
       "diffusion sampling:   0%|          | 0/20 [00:00<?, ?it/s]"
      ]
     },
     "metadata": {},
     "output_type": "display_data"
    },
    {
     "data": {
      "application/vnd.jupyter.widget-view+json": {
       "model_id": "d1e430598957440fb64b385a3e247c04",
       "version_major": 2,
       "version_minor": 0
      },
      "text/plain": [
       "diffusion sampling:   0%|          | 0/20 [00:00<?, ?it/s]"
      ]
     },
     "metadata": {},
     "output_type": "display_data"
    },
    {
     "data": {
      "application/vnd.jupyter.widget-view+json": {
       "model_id": "5b3071d831634197ab4c9478d6a5d0ce",
       "version_major": 2,
       "version_minor": 0
      },
      "text/plain": [
       "diffusion sampling:   0%|          | 0/20 [00:00<?, ?it/s]"
      ]
     },
     "metadata": {},
     "output_type": "display_data"
    },
    {
     "data": {
      "application/vnd.jupyter.widget-view+json": {
       "model_id": "91b676f7902c46e2931f1bfc16a21d93",
       "version_major": 2,
       "version_minor": 0
      },
      "text/plain": [
       "diffusion sampling:   0%|          | 0/20 [00:00<?, ?it/s]"
      ]
     },
     "metadata": {},
     "output_type": "display_data"
    },
    {
     "data": {
      "application/vnd.jupyter.widget-view+json": {
       "model_id": "f18acf908b7043f4b040b8224261a49e",
       "version_major": 2,
       "version_minor": 0
      },
      "text/plain": [
       "class hypothsis:   0%|          | 0/6 [00:00<?, ?it/s]"
      ]
     },
     "metadata": {},
     "output_type": "display_data"
    },
    {
     "data": {
      "application/vnd.jupyter.widget-view+json": {
       "model_id": "b54d22930e9147988e6a63f5f4fef71d",
       "version_major": 2,
       "version_minor": 0
      },
      "text/plain": [
       "diffusion sampling:   0%|          | 0/20 [00:00<?, ?it/s]"
      ]
     },
     "metadata": {},
     "output_type": "display_data"
    },
    {
     "data": {
      "application/vnd.jupyter.widget-view+json": {
       "model_id": "9a98fc38e8984f119bda620d82b0c8a1",
       "version_major": 2,
       "version_minor": 0
      },
      "text/plain": [
       "diffusion sampling:   0%|          | 0/20 [00:00<?, ?it/s]"
      ]
     },
     "metadata": {},
     "output_type": "display_data"
    },
    {
     "data": {
      "application/vnd.jupyter.widget-view+json": {
       "model_id": "56dccd347d2d48dd9980094bacd00b56",
       "version_major": 2,
       "version_minor": 0
      },
      "text/plain": [
       "diffusion sampling:   0%|          | 0/20 [00:00<?, ?it/s]"
      ]
     },
     "metadata": {},
     "output_type": "display_data"
    },
    {
     "data": {
      "application/vnd.jupyter.widget-view+json": {
       "model_id": "cd3bc8315e244f3dbe23aa2be44c3fe0",
       "version_major": 2,
       "version_minor": 0
      },
      "text/plain": [
       "diffusion sampling:   0%|          | 0/20 [00:00<?, ?it/s]"
      ]
     },
     "metadata": {},
     "output_type": "display_data"
    },
    {
     "data": {
      "application/vnd.jupyter.widget-view+json": {
       "model_id": "fbe37119f70a42a6a87ea8685c613fda",
       "version_major": 2,
       "version_minor": 0
      },
      "text/plain": [
       "diffusion sampling:   0%|          | 0/20 [00:00<?, ?it/s]"
      ]
     },
     "metadata": {},
     "output_type": "display_data"
    },
    {
     "data": {
      "application/vnd.jupyter.widget-view+json": {
       "model_id": "dd0479e098f34f468f6172d874689de6",
       "version_major": 2,
       "version_minor": 0
      },
      "text/plain": [
       "diffusion sampling:   0%|          | 0/20 [00:00<?, ?it/s]"
      ]
     },
     "metadata": {},
     "output_type": "display_data"
    },
    {
     "data": {
      "application/vnd.jupyter.widget-view+json": {
       "model_id": "1449603648464fd2b8cfbbbe83bd16b1",
       "version_major": 2,
       "version_minor": 0
      },
      "text/plain": [
       "class hypothsis:   0%|          | 0/6 [00:00<?, ?it/s]"
      ]
     },
     "metadata": {},
     "output_type": "display_data"
    },
    {
     "data": {
      "application/vnd.jupyter.widget-view+json": {
       "model_id": "50d86cb60c7b4168b07a6797bf3fd438",
       "version_major": 2,
       "version_minor": 0
      },
      "text/plain": [
       "diffusion sampling:   0%|          | 0/20 [00:00<?, ?it/s]"
      ]
     },
     "metadata": {},
     "output_type": "display_data"
    },
    {
     "data": {
      "application/vnd.jupyter.widget-view+json": {
       "model_id": "8d710bc6d59f401c9573bd928cd648d1",
       "version_major": 2,
       "version_minor": 0
      },
      "text/plain": [
       "diffusion sampling:   0%|          | 0/20 [00:00<?, ?it/s]"
      ]
     },
     "metadata": {},
     "output_type": "display_data"
    },
    {
     "data": {
      "application/vnd.jupyter.widget-view+json": {
       "model_id": "133010cd0b114cd2b18c8583d9e105d8",
       "version_major": 2,
       "version_minor": 0
      },
      "text/plain": [
       "diffusion sampling:   0%|          | 0/20 [00:00<?, ?it/s]"
      ]
     },
     "metadata": {},
     "output_type": "display_data"
    },
    {
     "data": {
      "application/vnd.jupyter.widget-view+json": {
       "model_id": "b96601d1cdc04461939d27522d538b00",
       "version_major": 2,
       "version_minor": 0
      },
      "text/plain": [
       "diffusion sampling:   0%|          | 0/20 [00:00<?, ?it/s]"
      ]
     },
     "metadata": {},
     "output_type": "display_data"
    },
    {
     "data": {
      "application/vnd.jupyter.widget-view+json": {
       "model_id": "c2e911273b474963bb603a05f2fdb87d",
       "version_major": 2,
       "version_minor": 0
      },
      "text/plain": [
       "diffusion sampling:   0%|          | 0/20 [00:00<?, ?it/s]"
      ]
     },
     "metadata": {},
     "output_type": "display_data"
    },
    {
     "data": {
      "application/vnd.jupyter.widget-view+json": {
       "model_id": "8f9a899febf04772b1f2dc05b641d789",
       "version_major": 2,
       "version_minor": 0
      },
      "text/plain": [
       "diffusion sampling:   0%|          | 0/20 [00:00<?, ?it/s]"
      ]
     },
     "metadata": {},
     "output_type": "display_data"
    },
    {
     "data": {
      "application/vnd.jupyter.widget-view+json": {
       "model_id": "4336a1302d4d4c39b36cf2430b480703",
       "version_major": 2,
       "version_minor": 0
      },
      "text/plain": [
       "class hypothsis:   0%|          | 0/6 [00:00<?, ?it/s]"
      ]
     },
     "metadata": {},
     "output_type": "display_data"
    },
    {
     "data": {
      "application/vnd.jupyter.widget-view+json": {
       "model_id": "b957bd0a4d1f43259f6139675a0b9b84",
       "version_major": 2,
       "version_minor": 0
      },
      "text/plain": [
       "diffusion sampling:   0%|          | 0/20 [00:00<?, ?it/s]"
      ]
     },
     "metadata": {},
     "output_type": "display_data"
    },
    {
     "data": {
      "application/vnd.jupyter.widget-view+json": {
       "model_id": "63f0ac14788042fca71aba70a213923b",
       "version_major": 2,
       "version_minor": 0
      },
      "text/plain": [
       "diffusion sampling:   0%|          | 0/20 [00:00<?, ?it/s]"
      ]
     },
     "metadata": {},
     "output_type": "display_data"
    },
    {
     "data": {
      "application/vnd.jupyter.widget-view+json": {
       "model_id": "abe9481dd5dd4676bcad0950ee76978a",
       "version_major": 2,
       "version_minor": 0
      },
      "text/plain": [
       "diffusion sampling:   0%|          | 0/20 [00:00<?, ?it/s]"
      ]
     },
     "metadata": {},
     "output_type": "display_data"
    },
    {
     "data": {
      "application/vnd.jupyter.widget-view+json": {
       "model_id": "cd8f0d8321314a708c08ca79dba1dd32",
       "version_major": 2,
       "version_minor": 0
      },
      "text/plain": [
       "diffusion sampling:   0%|          | 0/20 [00:00<?, ?it/s]"
      ]
     },
     "metadata": {},
     "output_type": "display_data"
    },
    {
     "data": {
      "application/vnd.jupyter.widget-view+json": {
       "model_id": "7bb04bae3afc475596e9c889a43839a4",
       "version_major": 2,
       "version_minor": 0
      },
      "text/plain": [
       "diffusion sampling:   0%|          | 0/20 [00:00<?, ?it/s]"
      ]
     },
     "metadata": {},
     "output_type": "display_data"
    },
    {
     "data": {
      "application/vnd.jupyter.widget-view+json": {
       "model_id": "c28c5696734f4a508461a2f3dad3ccc5",
       "version_major": 2,
       "version_minor": 0
      },
      "text/plain": [
       "diffusion sampling:   0%|          | 0/20 [00:00<?, ?it/s]"
      ]
     },
     "metadata": {},
     "output_type": "display_data"
    },
    {
     "data": {
      "application/vnd.jupyter.widget-view+json": {
       "model_id": "091da09cda1b4208973f987e69279307",
       "version_major": 2,
       "version_minor": 0
      },
      "text/plain": [
       "class hypothsis:   0%|          | 0/6 [00:00<?, ?it/s]"
      ]
     },
     "metadata": {},
     "output_type": "display_data"
    },
    {
     "data": {
      "application/vnd.jupyter.widget-view+json": {
       "model_id": "62f20d8234274776946b44af9fcfed90",
       "version_major": 2,
       "version_minor": 0
      },
      "text/plain": [
       "diffusion sampling:   0%|          | 0/20 [00:00<?, ?it/s]"
      ]
     },
     "metadata": {},
     "output_type": "display_data"
    },
    {
     "data": {
      "application/vnd.jupyter.widget-view+json": {
       "model_id": "9079cd6f3fc9415e809a516e705cfb83",
       "version_major": 2,
       "version_minor": 0
      },
      "text/plain": [
       "diffusion sampling:   0%|          | 0/20 [00:00<?, ?it/s]"
      ]
     },
     "metadata": {},
     "output_type": "display_data"
    },
    {
     "data": {
      "application/vnd.jupyter.widget-view+json": {
       "model_id": "741989272a13468d8052c5340ad51cd5",
       "version_major": 2,
       "version_minor": 0
      },
      "text/plain": [
       "diffusion sampling:   0%|          | 0/20 [00:00<?, ?it/s]"
      ]
     },
     "metadata": {},
     "output_type": "display_data"
    },
    {
     "data": {
      "application/vnd.jupyter.widget-view+json": {
       "model_id": "b2c251cd87944a58a1aa03b3ceb95b98",
       "version_major": 2,
       "version_minor": 0
      },
      "text/plain": [
       "diffusion sampling:   0%|          | 0/20 [00:00<?, ?it/s]"
      ]
     },
     "metadata": {},
     "output_type": "display_data"
    },
    {
     "data": {
      "application/vnd.jupyter.widget-view+json": {
       "model_id": "9b8963d40a484e2faa152cfa7ecb0d95",
       "version_major": 2,
       "version_minor": 0
      },
      "text/plain": [
       "diffusion sampling:   0%|          | 0/20 [00:00<?, ?it/s]"
      ]
     },
     "metadata": {},
     "output_type": "display_data"
    },
    {
     "data": {
      "application/vnd.jupyter.widget-view+json": {
       "model_id": "eaed2ee78ff14e539addb9b2b3948bcc",
       "version_major": 2,
       "version_minor": 0
      },
      "text/plain": [
       "diffusion sampling:   0%|          | 0/20 [00:00<?, ?it/s]"
      ]
     },
     "metadata": {},
     "output_type": "display_data"
    },
    {
     "data": {
      "application/vnd.jupyter.widget-view+json": {
       "model_id": "6048ff2e31e24bffa396b47ef8622956",
       "version_major": 2,
       "version_minor": 0
      },
      "text/plain": [
       "class hypothsis:   0%|          | 0/6 [00:00<?, ?it/s]"
      ]
     },
     "metadata": {},
     "output_type": "display_data"
    },
    {
     "data": {
      "application/vnd.jupyter.widget-view+json": {
       "model_id": "4ec2578d058542f086b5c8cbccd0e25d",
       "version_major": 2,
       "version_minor": 0
      },
      "text/plain": [
       "diffusion sampling:   0%|          | 0/20 [00:00<?, ?it/s]"
      ]
     },
     "metadata": {},
     "output_type": "display_data"
    },
    {
     "data": {
      "application/vnd.jupyter.widget-view+json": {
       "model_id": "c568c42a770c411fa4de0541d4632dfb",
       "version_major": 2,
       "version_minor": 0
      },
      "text/plain": [
       "diffusion sampling:   0%|          | 0/20 [00:00<?, ?it/s]"
      ]
     },
     "metadata": {},
     "output_type": "display_data"
    },
    {
     "data": {
      "application/vnd.jupyter.widget-view+json": {
       "model_id": "6baaec0198244aac9561886b22f5526b",
       "version_major": 2,
       "version_minor": 0
      },
      "text/plain": [
       "diffusion sampling:   0%|          | 0/20 [00:00<?, ?it/s]"
      ]
     },
     "metadata": {},
     "output_type": "display_data"
    },
    {
     "data": {
      "application/vnd.jupyter.widget-view+json": {
       "model_id": "616a11009a144a7c8c82d3945e87b3d7",
       "version_major": 2,
       "version_minor": 0
      },
      "text/plain": [
       "diffusion sampling:   0%|          | 0/20 [00:00<?, ?it/s]"
      ]
     },
     "metadata": {},
     "output_type": "display_data"
    },
    {
     "data": {
      "application/vnd.jupyter.widget-view+json": {
       "model_id": "136aaf6340ea4e19bc2c0c5a7448f31d",
       "version_major": 2,
       "version_minor": 0
      },
      "text/plain": [
       "diffusion sampling:   0%|          | 0/20 [00:00<?, ?it/s]"
      ]
     },
     "metadata": {},
     "output_type": "display_data"
    },
    {
     "data": {
      "application/vnd.jupyter.widget-view+json": {
       "model_id": "866e81f622f1485bb008980119867ef9",
       "version_major": 2,
       "version_minor": 0
      },
      "text/plain": [
       "diffusion sampling:   0%|          | 0/20 [00:00<?, ?it/s]"
      ]
     },
     "metadata": {},
     "output_type": "display_data"
    },
    {
     "data": {
      "application/vnd.jupyter.widget-view+json": {
       "model_id": "6f9676aa0d8f4d8e8e5aa06e2f8db254",
       "version_major": 2,
       "version_minor": 0
      },
      "text/plain": [
       "class hypothsis:   0%|          | 0/6 [00:00<?, ?it/s]"
      ]
     },
     "metadata": {},
     "output_type": "display_data"
    },
    {
     "data": {
      "application/vnd.jupyter.widget-view+json": {
       "model_id": "9ade73ec37994f05912edd49f76a567b",
       "version_major": 2,
       "version_minor": 0
      },
      "text/plain": [
       "diffusion sampling:   0%|          | 0/20 [00:00<?, ?it/s]"
      ]
     },
     "metadata": {},
     "output_type": "display_data"
    },
    {
     "data": {
      "application/vnd.jupyter.widget-view+json": {
       "model_id": "028bc473e6c54af4949ae09e36948d7e",
       "version_major": 2,
       "version_minor": 0
      },
      "text/plain": [
       "diffusion sampling:   0%|          | 0/20 [00:00<?, ?it/s]"
      ]
     },
     "metadata": {},
     "output_type": "display_data"
    },
    {
     "data": {
      "application/vnd.jupyter.widget-view+json": {
       "model_id": "6692b4a62f004e84bd15719afb1d0231",
       "version_major": 2,
       "version_minor": 0
      },
      "text/plain": [
       "diffusion sampling:   0%|          | 0/20 [00:00<?, ?it/s]"
      ]
     },
     "metadata": {},
     "output_type": "display_data"
    },
    {
     "data": {
      "application/vnd.jupyter.widget-view+json": {
       "model_id": "4ca97b8babb447bf9e4b897c380e42c1",
       "version_major": 2,
       "version_minor": 0
      },
      "text/plain": [
       "diffusion sampling:   0%|          | 0/20 [00:00<?, ?it/s]"
      ]
     },
     "metadata": {},
     "output_type": "display_data"
    },
    {
     "data": {
      "application/vnd.jupyter.widget-view+json": {
       "model_id": "305928f5f5c241caad9f8ec96a19c7e3",
       "version_major": 2,
       "version_minor": 0
      },
      "text/plain": [
       "diffusion sampling:   0%|          | 0/20 [00:00<?, ?it/s]"
      ]
     },
     "metadata": {},
     "output_type": "display_data"
    },
    {
     "data": {
      "application/vnd.jupyter.widget-view+json": {
       "model_id": "05dbae00fe4f49bb8aef952661cf9a5c",
       "version_major": 2,
       "version_minor": 0
      },
      "text/plain": [
       "diffusion sampling:   0%|          | 0/20 [00:00<?, ?it/s]"
      ]
     },
     "metadata": {},
     "output_type": "display_data"
    },
    {
     "data": {
      "application/vnd.jupyter.widget-view+json": {
       "model_id": "dcc7b6396a19473582b016432521c08b",
       "version_major": 2,
       "version_minor": 0
      },
      "text/plain": [
       "class hypothsis:   0%|          | 0/6 [00:00<?, ?it/s]"
      ]
     },
     "metadata": {},
     "output_type": "display_data"
    },
    {
     "data": {
      "application/vnd.jupyter.widget-view+json": {
       "model_id": "e29d0eb5d6034c6ba94802698362290a",
       "version_major": 2,
       "version_minor": 0
      },
      "text/plain": [
       "diffusion sampling:   0%|          | 0/20 [00:00<?, ?it/s]"
      ]
     },
     "metadata": {},
     "output_type": "display_data"
    },
    {
     "data": {
      "application/vnd.jupyter.widget-view+json": {
       "model_id": "241ad4f25337461a92d69cffd0cdc61e",
       "version_major": 2,
       "version_minor": 0
      },
      "text/plain": [
       "diffusion sampling:   0%|          | 0/20 [00:00<?, ?it/s]"
      ]
     },
     "metadata": {},
     "output_type": "display_data"
    },
    {
     "data": {
      "application/vnd.jupyter.widget-view+json": {
       "model_id": "e841012f54f34b95a827507a98c3dee1",
       "version_major": 2,
       "version_minor": 0
      },
      "text/plain": [
       "diffusion sampling:   0%|          | 0/20 [00:00<?, ?it/s]"
      ]
     },
     "metadata": {},
     "output_type": "display_data"
    },
    {
     "data": {
      "application/vnd.jupyter.widget-view+json": {
       "model_id": "b3211101cdf243edbe9758bcd908a002",
       "version_major": 2,
       "version_minor": 0
      },
      "text/plain": [
       "diffusion sampling:   0%|          | 0/20 [00:00<?, ?it/s]"
      ]
     },
     "metadata": {},
     "output_type": "display_data"
    },
    {
     "data": {
      "application/vnd.jupyter.widget-view+json": {
       "model_id": "0d29e0ffc70c42e093bdcb25896e29e1",
       "version_major": 2,
       "version_minor": 0
      },
      "text/plain": [
       "diffusion sampling:   0%|          | 0/20 [00:00<?, ?it/s]"
      ]
     },
     "metadata": {},
     "output_type": "display_data"
    },
    {
     "data": {
      "application/vnd.jupyter.widget-view+json": {
       "model_id": "40d154775b5942a2a6b84674a4c3fe4a",
       "version_major": 2,
       "version_minor": 0
      },
      "text/plain": [
       "diffusion sampling:   0%|          | 0/20 [00:00<?, ?it/s]"
      ]
     },
     "metadata": {},
     "output_type": "display_data"
    },
    {
     "data": {
      "application/vnd.jupyter.widget-view+json": {
       "model_id": "72e045da650c4f31b70ac7434a216a6d",
       "version_major": 2,
       "version_minor": 0
      },
      "text/plain": [
       "class hypothsis:   0%|          | 0/6 [00:00<?, ?it/s]"
      ]
     },
     "metadata": {},
     "output_type": "display_data"
    },
    {
     "data": {
      "application/vnd.jupyter.widget-view+json": {
       "model_id": "411815b2546a45aaac537c9256847236",
       "version_major": 2,
       "version_minor": 0
      },
      "text/plain": [
       "diffusion sampling:   0%|          | 0/20 [00:00<?, ?it/s]"
      ]
     },
     "metadata": {},
     "output_type": "display_data"
    },
    {
     "data": {
      "application/vnd.jupyter.widget-view+json": {
       "model_id": "a92c413a730a412e9e77e9afb537a224",
       "version_major": 2,
       "version_minor": 0
      },
      "text/plain": [
       "diffusion sampling:   0%|          | 0/20 [00:00<?, ?it/s]"
      ]
     },
     "metadata": {},
     "output_type": "display_data"
    },
    {
     "data": {
      "application/vnd.jupyter.widget-view+json": {
       "model_id": "73d818db333e4516889e55265b4d7579",
       "version_major": 2,
       "version_minor": 0
      },
      "text/plain": [
       "diffusion sampling:   0%|          | 0/20 [00:00<?, ?it/s]"
      ]
     },
     "metadata": {},
     "output_type": "display_data"
    },
    {
     "data": {
      "application/vnd.jupyter.widget-view+json": {
       "model_id": "e3e91877163249fe8112678c9eda6955",
       "version_major": 2,
       "version_minor": 0
      },
      "text/plain": [
       "diffusion sampling:   0%|          | 0/20 [00:00<?, ?it/s]"
      ]
     },
     "metadata": {},
     "output_type": "display_data"
    },
    {
     "data": {
      "application/vnd.jupyter.widget-view+json": {
       "model_id": "69ccbb76af434a639e89031e95d6534d",
       "version_major": 2,
       "version_minor": 0
      },
      "text/plain": [
       "diffusion sampling:   0%|          | 0/20 [00:00<?, ?it/s]"
      ]
     },
     "metadata": {},
     "output_type": "display_data"
    },
    {
     "data": {
      "application/vnd.jupyter.widget-view+json": {
       "model_id": "9973e5a96e3442b3a2e93283d5b581b4",
       "version_major": 2,
       "version_minor": 0
      },
      "text/plain": [
       "diffusion sampling:   0%|          | 0/20 [00:00<?, ?it/s]"
      ]
     },
     "metadata": {},
     "output_type": "display_data"
    },
    {
     "data": {
      "application/vnd.jupyter.widget-view+json": {
       "model_id": "b51b55e2fc3049719aed31833fd1087a",
       "version_major": 2,
       "version_minor": 0
      },
      "text/plain": [
       "class hypothsis:   0%|          | 0/6 [00:00<?, ?it/s]"
      ]
     },
     "metadata": {},
     "output_type": "display_data"
    },
    {
     "data": {
      "application/vnd.jupyter.widget-view+json": {
       "model_id": "cea38a38136a4302b059253f243a4ada",
       "version_major": 2,
       "version_minor": 0
      },
      "text/plain": [
       "diffusion sampling:   0%|          | 0/20 [00:00<?, ?it/s]"
      ]
     },
     "metadata": {},
     "output_type": "display_data"
    },
    {
     "data": {
      "application/vnd.jupyter.widget-view+json": {
       "model_id": "eda867be60b644ffae8c11deaaf04f70",
       "version_major": 2,
       "version_minor": 0
      },
      "text/plain": [
       "diffusion sampling:   0%|          | 0/20 [00:00<?, ?it/s]"
      ]
     },
     "metadata": {},
     "output_type": "display_data"
    },
    {
     "data": {
      "application/vnd.jupyter.widget-view+json": {
       "model_id": "4d2ac5d06bbb462ca02a6eed54a550d7",
       "version_major": 2,
       "version_minor": 0
      },
      "text/plain": [
       "diffusion sampling:   0%|          | 0/20 [00:00<?, ?it/s]"
      ]
     },
     "metadata": {},
     "output_type": "display_data"
    },
    {
     "data": {
      "application/vnd.jupyter.widget-view+json": {
       "model_id": "9aa22584742846a6ac62bfe66fdd8390",
       "version_major": 2,
       "version_minor": 0
      },
      "text/plain": [
       "diffusion sampling:   0%|          | 0/20 [00:00<?, ?it/s]"
      ]
     },
     "metadata": {},
     "output_type": "display_data"
    },
    {
     "data": {
      "application/vnd.jupyter.widget-view+json": {
       "model_id": "12ad14aa21ac4a87a5b5f0d81068b9df",
       "version_major": 2,
       "version_minor": 0
      },
      "text/plain": [
       "diffusion sampling:   0%|          | 0/20 [00:00<?, ?it/s]"
      ]
     },
     "metadata": {},
     "output_type": "display_data"
    },
    {
     "data": {
      "application/vnd.jupyter.widget-view+json": {
       "model_id": "f7eedd013838431e80968fd8ac23b9fb",
       "version_major": 2,
       "version_minor": 0
      },
      "text/plain": [
       "diffusion sampling:   0%|          | 0/20 [00:00<?, ?it/s]"
      ]
     },
     "metadata": {},
     "output_type": "display_data"
    },
    {
     "data": {
      "application/vnd.jupyter.widget-view+json": {
       "model_id": "824b880682cb47199361a7756d70b120",
       "version_major": 2,
       "version_minor": 0
      },
      "text/plain": [
       "class hypothsis:   0%|          | 0/6 [00:00<?, ?it/s]"
      ]
     },
     "metadata": {},
     "output_type": "display_data"
    },
    {
     "data": {
      "application/vnd.jupyter.widget-view+json": {
       "model_id": "aa7097c2a1a244d486c05962b4af895f",
       "version_major": 2,
       "version_minor": 0
      },
      "text/plain": [
       "diffusion sampling:   0%|          | 0/20 [00:00<?, ?it/s]"
      ]
     },
     "metadata": {},
     "output_type": "display_data"
    },
    {
     "data": {
      "application/vnd.jupyter.widget-view+json": {
       "model_id": "338bad41c2f342e6b4ec8d2adeaa4a9f",
       "version_major": 2,
       "version_minor": 0
      },
      "text/plain": [
       "diffusion sampling:   0%|          | 0/20 [00:00<?, ?it/s]"
      ]
     },
     "metadata": {},
     "output_type": "display_data"
    },
    {
     "data": {
      "application/vnd.jupyter.widget-view+json": {
       "model_id": "e84c8cda71534d5cac77f62d47e8cd9b",
       "version_major": 2,
       "version_minor": 0
      },
      "text/plain": [
       "diffusion sampling:   0%|          | 0/20 [00:00<?, ?it/s]"
      ]
     },
     "metadata": {},
     "output_type": "display_data"
    },
    {
     "data": {
      "application/vnd.jupyter.widget-view+json": {
       "model_id": "71bf21d66dbf489a9000497456e89837",
       "version_major": 2,
       "version_minor": 0
      },
      "text/plain": [
       "diffusion sampling:   0%|          | 0/20 [00:00<?, ?it/s]"
      ]
     },
     "metadata": {},
     "output_type": "display_data"
    },
    {
     "data": {
      "application/vnd.jupyter.widget-view+json": {
       "model_id": "3eb205dac3ac47868fa5db4227156655",
       "version_major": 2,
       "version_minor": 0
      },
      "text/plain": [
       "diffusion sampling:   0%|          | 0/20 [00:00<?, ?it/s]"
      ]
     },
     "metadata": {},
     "output_type": "display_data"
    },
    {
     "data": {
      "application/vnd.jupyter.widget-view+json": {
       "model_id": "09f7b7c1bc3249d59d31dd546563a8e0",
       "version_major": 2,
       "version_minor": 0
      },
      "text/plain": [
       "diffusion sampling:   0%|          | 0/20 [00:00<?, ?it/s]"
      ]
     },
     "metadata": {},
     "output_type": "display_data"
    },
    {
     "data": {
      "application/vnd.jupyter.widget-view+json": {
       "model_id": "a9ba168610534497a01439f2585e0d46",
       "version_major": 2,
       "version_minor": 0
      },
      "text/plain": [
       "class hypothsis:   0%|          | 0/6 [00:00<?, ?it/s]"
      ]
     },
     "metadata": {},
     "output_type": "display_data"
    },
    {
     "data": {
      "application/vnd.jupyter.widget-view+json": {
       "model_id": "f36608a1546b47cf8d93cb804b4f47c2",
       "version_major": 2,
       "version_minor": 0
      },
      "text/plain": [
       "diffusion sampling:   0%|          | 0/20 [00:00<?, ?it/s]"
      ]
     },
     "metadata": {},
     "output_type": "display_data"
    },
    {
     "data": {
      "application/vnd.jupyter.widget-view+json": {
       "model_id": "7afb33a8653946a9b0ff87cdbd03d2ec",
       "version_major": 2,
       "version_minor": 0
      },
      "text/plain": [
       "diffusion sampling:   0%|          | 0/20 [00:00<?, ?it/s]"
      ]
     },
     "metadata": {},
     "output_type": "display_data"
    },
    {
     "data": {
      "application/vnd.jupyter.widget-view+json": {
       "model_id": "fe16a5768d6045cc929589bbd44cd3cf",
       "version_major": 2,
       "version_minor": 0
      },
      "text/plain": [
       "diffusion sampling:   0%|          | 0/20 [00:00<?, ?it/s]"
      ]
     },
     "metadata": {},
     "output_type": "display_data"
    },
    {
     "data": {
      "application/vnd.jupyter.widget-view+json": {
       "model_id": "bc6df1788ef8452b8239e6382ac4e547",
       "version_major": 2,
       "version_minor": 0
      },
      "text/plain": [
       "diffusion sampling:   0%|          | 0/20 [00:00<?, ?it/s]"
      ]
     },
     "metadata": {},
     "output_type": "display_data"
    },
    {
     "data": {
      "application/vnd.jupyter.widget-view+json": {
       "model_id": "6ab843ee082d49b89f3a048a2329d45c",
       "version_major": 2,
       "version_minor": 0
      },
      "text/plain": [
       "diffusion sampling:   0%|          | 0/20 [00:00<?, ?it/s]"
      ]
     },
     "metadata": {},
     "output_type": "display_data"
    },
    {
     "data": {
      "application/vnd.jupyter.widget-view+json": {
       "model_id": "5e5edcf762f34a5db79b756474de1cf4",
       "version_major": 2,
       "version_minor": 0
      },
      "text/plain": [
       "diffusion sampling:   0%|          | 0/20 [00:00<?, ?it/s]"
      ]
     },
     "metadata": {},
     "output_type": "display_data"
    },
    {
     "data": {
      "application/vnd.jupyter.widget-view+json": {
       "model_id": "774073295ec7484e95ebe4bd4d5d2574",
       "version_major": 2,
       "version_minor": 0
      },
      "text/plain": [
       "class hypothsis:   0%|          | 0/6 [00:00<?, ?it/s]"
      ]
     },
     "metadata": {},
     "output_type": "display_data"
    },
    {
     "data": {
      "application/vnd.jupyter.widget-view+json": {
       "model_id": "ad648b0d69534e86bc1c22ef45861587",
       "version_major": 2,
       "version_minor": 0
      },
      "text/plain": [
       "diffusion sampling:   0%|          | 0/20 [00:00<?, ?it/s]"
      ]
     },
     "metadata": {},
     "output_type": "display_data"
    },
    {
     "data": {
      "application/vnd.jupyter.widget-view+json": {
       "model_id": "cae054b88e7f4477aa1089fe21221643",
       "version_major": 2,
       "version_minor": 0
      },
      "text/plain": [
       "diffusion sampling:   0%|          | 0/20 [00:00<?, ?it/s]"
      ]
     },
     "metadata": {},
     "output_type": "display_data"
    },
    {
     "data": {
      "application/vnd.jupyter.widget-view+json": {
       "model_id": "43784e0830b84a858d1bf6850a97b7ee",
       "version_major": 2,
       "version_minor": 0
      },
      "text/plain": [
       "diffusion sampling:   0%|          | 0/20 [00:00<?, ?it/s]"
      ]
     },
     "metadata": {},
     "output_type": "display_data"
    },
    {
     "data": {
      "application/vnd.jupyter.widget-view+json": {
       "model_id": "6602660da8d546aa9200f5b25dc90818",
       "version_major": 2,
       "version_minor": 0
      },
      "text/plain": [
       "diffusion sampling:   0%|          | 0/20 [00:00<?, ?it/s]"
      ]
     },
     "metadata": {},
     "output_type": "display_data"
    },
    {
     "data": {
      "application/vnd.jupyter.widget-view+json": {
       "model_id": "701dd128b67f4895a6842c79ffd430aa",
       "version_major": 2,
       "version_minor": 0
      },
      "text/plain": [
       "diffusion sampling:   0%|          | 0/20 [00:00<?, ?it/s]"
      ]
     },
     "metadata": {},
     "output_type": "display_data"
    },
    {
     "data": {
      "application/vnd.jupyter.widget-view+json": {
       "model_id": "2bffc9dd154245ceb313d4d0fe19e7bc",
       "version_major": 2,
       "version_minor": 0
      },
      "text/plain": [
       "diffusion sampling:   0%|          | 0/20 [00:00<?, ?it/s]"
      ]
     },
     "metadata": {},
     "output_type": "display_data"
    },
    {
     "data": {
      "application/vnd.jupyter.widget-view+json": {
       "model_id": "f2eb99e1808f4fc1a48758755bfb6b52",
       "version_major": 2,
       "version_minor": 0
      },
      "text/plain": [
       "class hypothsis:   0%|          | 0/6 [00:00<?, ?it/s]"
      ]
     },
     "metadata": {},
     "output_type": "display_data"
    },
    {
     "data": {
      "application/vnd.jupyter.widget-view+json": {
       "model_id": "4706f7f019a84ad7820219f0f8d75f31",
       "version_major": 2,
       "version_minor": 0
      },
      "text/plain": [
       "diffusion sampling:   0%|          | 0/20 [00:00<?, ?it/s]"
      ]
     },
     "metadata": {},
     "output_type": "display_data"
    },
    {
     "data": {
      "application/vnd.jupyter.widget-view+json": {
       "model_id": "0d76cc39629b4658a40397db089fe231",
       "version_major": 2,
       "version_minor": 0
      },
      "text/plain": [
       "diffusion sampling:   0%|          | 0/20 [00:00<?, ?it/s]"
      ]
     },
     "metadata": {},
     "output_type": "display_data"
    },
    {
     "data": {
      "application/vnd.jupyter.widget-view+json": {
       "model_id": "e1fb89cf4f8f4bbfa39443fa64ca9845",
       "version_major": 2,
       "version_minor": 0
      },
      "text/plain": [
       "diffusion sampling:   0%|          | 0/20 [00:00<?, ?it/s]"
      ]
     },
     "metadata": {},
     "output_type": "display_data"
    },
    {
     "data": {
      "application/vnd.jupyter.widget-view+json": {
       "model_id": "61dba8d0aa914099adc1dbbd4a55e8f7",
       "version_major": 2,
       "version_minor": 0
      },
      "text/plain": [
       "diffusion sampling:   0%|          | 0/20 [00:00<?, ?it/s]"
      ]
     },
     "metadata": {},
     "output_type": "display_data"
    },
    {
     "data": {
      "application/vnd.jupyter.widget-view+json": {
       "model_id": "6f4e09d7396a40a8bb66f7818a2a3e08",
       "version_major": 2,
       "version_minor": 0
      },
      "text/plain": [
       "diffusion sampling:   0%|          | 0/20 [00:00<?, ?it/s]"
      ]
     },
     "metadata": {},
     "output_type": "display_data"
    },
    {
     "data": {
      "application/vnd.jupyter.widget-view+json": {
       "model_id": "0044300ea5c84a109b5ed60398409f23",
       "version_major": 2,
       "version_minor": 0
      },
      "text/plain": [
       "diffusion sampling:   0%|          | 0/20 [00:00<?, ?it/s]"
      ]
     },
     "metadata": {},
     "output_type": "display_data"
    },
    {
     "data": {
      "application/vnd.jupyter.widget-view+json": {
       "model_id": "2e75ff93a856493d892647f015a6f50a",
       "version_major": 2,
       "version_minor": 0
      },
      "text/plain": [
       "class hypothsis:   0%|          | 0/6 [00:00<?, ?it/s]"
      ]
     },
     "metadata": {},
     "output_type": "display_data"
    },
    {
     "data": {
      "application/vnd.jupyter.widget-view+json": {
       "model_id": "34c701a08d6a4e899ef72e9795a5c1dc",
       "version_major": 2,
       "version_minor": 0
      },
      "text/plain": [
       "diffusion sampling:   0%|          | 0/20 [00:00<?, ?it/s]"
      ]
     },
     "metadata": {},
     "output_type": "display_data"
    },
    {
     "data": {
      "application/vnd.jupyter.widget-view+json": {
       "model_id": "6dbef8e2c68047a29ae5cb38e86df802",
       "version_major": 2,
       "version_minor": 0
      },
      "text/plain": [
       "diffusion sampling:   0%|          | 0/20 [00:00<?, ?it/s]"
      ]
     },
     "metadata": {},
     "output_type": "display_data"
    },
    {
     "data": {
      "application/vnd.jupyter.widget-view+json": {
       "model_id": "adb93aee247f4613b69bec9258054f0d",
       "version_major": 2,
       "version_minor": 0
      },
      "text/plain": [
       "diffusion sampling:   0%|          | 0/20 [00:00<?, ?it/s]"
      ]
     },
     "metadata": {},
     "output_type": "display_data"
    },
    {
     "data": {
      "application/vnd.jupyter.widget-view+json": {
       "model_id": "a5631e74c9ed47ea9996bd0d7be6ae90",
       "version_major": 2,
       "version_minor": 0
      },
      "text/plain": [
       "diffusion sampling:   0%|          | 0/20 [00:00<?, ?it/s]"
      ]
     },
     "metadata": {},
     "output_type": "display_data"
    },
    {
     "data": {
      "application/vnd.jupyter.widget-view+json": {
       "model_id": "74fd601a39864f41b8f1a4b70294e767",
       "version_major": 2,
       "version_minor": 0
      },
      "text/plain": [
       "diffusion sampling:   0%|          | 0/20 [00:00<?, ?it/s]"
      ]
     },
     "metadata": {},
     "output_type": "display_data"
    },
    {
     "data": {
      "application/vnd.jupyter.widget-view+json": {
       "model_id": "f20d0ce1c29c45d1af9dceb6db3ba71a",
       "version_major": 2,
       "version_minor": 0
      },
      "text/plain": [
       "diffusion sampling:   0%|          | 0/20 [00:00<?, ?it/s]"
      ]
     },
     "metadata": {},
     "output_type": "display_data"
    },
    {
     "data": {
      "application/vnd.jupyter.widget-view+json": {
       "model_id": "b8303628719a4f3cb1cf3c0adf19857d",
       "version_major": 2,
       "version_minor": 0
      },
      "text/plain": [
       "class hypothsis:   0%|          | 0/6 [00:00<?, ?it/s]"
      ]
     },
     "metadata": {},
     "output_type": "display_data"
    },
    {
     "data": {
      "application/vnd.jupyter.widget-view+json": {
       "model_id": "34adbff68368403e9b3921984468ac3f",
       "version_major": 2,
       "version_minor": 0
      },
      "text/plain": [
       "diffusion sampling:   0%|          | 0/20 [00:00<?, ?it/s]"
      ]
     },
     "metadata": {},
     "output_type": "display_data"
    },
    {
     "data": {
      "application/vnd.jupyter.widget-view+json": {
       "model_id": "02b9f228021245aa81865660e8764827",
       "version_major": 2,
       "version_minor": 0
      },
      "text/plain": [
       "diffusion sampling:   0%|          | 0/20 [00:00<?, ?it/s]"
      ]
     },
     "metadata": {},
     "output_type": "display_data"
    },
    {
     "data": {
      "application/vnd.jupyter.widget-view+json": {
       "model_id": "f64e85890b9d4351a63d8e61b241b074",
       "version_major": 2,
       "version_minor": 0
      },
      "text/plain": [
       "diffusion sampling:   0%|          | 0/20 [00:00<?, ?it/s]"
      ]
     },
     "metadata": {},
     "output_type": "display_data"
    },
    {
     "data": {
      "application/vnd.jupyter.widget-view+json": {
       "model_id": "795652d66c4f4ac18d15593050a22bd2",
       "version_major": 2,
       "version_minor": 0
      },
      "text/plain": [
       "diffusion sampling:   0%|          | 0/20 [00:00<?, ?it/s]"
      ]
     },
     "metadata": {},
     "output_type": "display_data"
    },
    {
     "data": {
      "application/vnd.jupyter.widget-view+json": {
       "model_id": "b33e688195224dc18981125008e31837",
       "version_major": 2,
       "version_minor": 0
      },
      "text/plain": [
       "diffusion sampling:   0%|          | 0/20 [00:00<?, ?it/s]"
      ]
     },
     "metadata": {},
     "output_type": "display_data"
    },
    {
     "data": {
      "application/vnd.jupyter.widget-view+json": {
       "model_id": "603bb06fbcc446fe86750c0ec7d01d10",
       "version_major": 2,
       "version_minor": 0
      },
      "text/plain": [
       "diffusion sampling:   0%|          | 0/20 [00:00<?, ?it/s]"
      ]
     },
     "metadata": {},
     "output_type": "display_data"
    },
    {
     "data": {
      "application/vnd.jupyter.widget-view+json": {
       "model_id": "eb8497c3c4fd44809e99f074654767a2",
       "version_major": 2,
       "version_minor": 0
      },
      "text/plain": [
       "class hypothsis:   0%|          | 0/6 [00:00<?, ?it/s]"
      ]
     },
     "metadata": {},
     "output_type": "display_data"
    },
    {
     "data": {
      "application/vnd.jupyter.widget-view+json": {
       "model_id": "bbbc2663f71b436492e6427a1fa5f4a4",
       "version_major": 2,
       "version_minor": 0
      },
      "text/plain": [
       "diffusion sampling:   0%|          | 0/20 [00:00<?, ?it/s]"
      ]
     },
     "metadata": {},
     "output_type": "display_data"
    },
    {
     "data": {
      "application/vnd.jupyter.widget-view+json": {
       "model_id": "3757187d4dc5452c8800e181d92a39ce",
       "version_major": 2,
       "version_minor": 0
      },
      "text/plain": [
       "diffusion sampling:   0%|          | 0/20 [00:00<?, ?it/s]"
      ]
     },
     "metadata": {},
     "output_type": "display_data"
    },
    {
     "data": {
      "application/vnd.jupyter.widget-view+json": {
       "model_id": "72f3219ed9814565b85da54adbbc946e",
       "version_major": 2,
       "version_minor": 0
      },
      "text/plain": [
       "diffusion sampling:   0%|          | 0/20 [00:00<?, ?it/s]"
      ]
     },
     "metadata": {},
     "output_type": "display_data"
    },
    {
     "data": {
      "application/vnd.jupyter.widget-view+json": {
       "model_id": "7b0aad91819948ec8dfa46feb80b665c",
       "version_major": 2,
       "version_minor": 0
      },
      "text/plain": [
       "diffusion sampling:   0%|          | 0/20 [00:00<?, ?it/s]"
      ]
     },
     "metadata": {},
     "output_type": "display_data"
    },
    {
     "data": {
      "application/vnd.jupyter.widget-view+json": {
       "model_id": "c4838dbb43d640389439962dd37eb192",
       "version_major": 2,
       "version_minor": 0
      },
      "text/plain": [
       "diffusion sampling:   0%|          | 0/20 [00:00<?, ?it/s]"
      ]
     },
     "metadata": {},
     "output_type": "display_data"
    },
    {
     "data": {
      "application/vnd.jupyter.widget-view+json": {
       "model_id": "c9e2d6ba04e84f48996447c3c979dfa7",
       "version_major": 2,
       "version_minor": 0
      },
      "text/plain": [
       "diffusion sampling:   0%|          | 0/20 [00:00<?, ?it/s]"
      ]
     },
     "metadata": {},
     "output_type": "display_data"
    },
    {
     "data": {
      "application/vnd.jupyter.widget-view+json": {
       "model_id": "76a5bac6d7d546bda3b956e21b432667",
       "version_major": 2,
       "version_minor": 0
      },
      "text/plain": [
       "class hypothsis:   0%|          | 0/6 [00:00<?, ?it/s]"
      ]
     },
     "metadata": {},
     "output_type": "display_data"
    },
    {
     "data": {
      "application/vnd.jupyter.widget-view+json": {
       "model_id": "63e9820c8a04415b85c8f812b89fda37",
       "version_major": 2,
       "version_minor": 0
      },
      "text/plain": [
       "diffusion sampling:   0%|          | 0/20 [00:00<?, ?it/s]"
      ]
     },
     "metadata": {},
     "output_type": "display_data"
    },
    {
     "data": {
      "application/vnd.jupyter.widget-view+json": {
       "model_id": "dfebf7c69779477ea6fcbdbae3766139",
       "version_major": 2,
       "version_minor": 0
      },
      "text/plain": [
       "diffusion sampling:   0%|          | 0/20 [00:00<?, ?it/s]"
      ]
     },
     "metadata": {},
     "output_type": "display_data"
    },
    {
     "data": {
      "application/vnd.jupyter.widget-view+json": {
       "model_id": "0678527b7a0d419b9524d91a6d224478",
       "version_major": 2,
       "version_minor": 0
      },
      "text/plain": [
       "diffusion sampling:   0%|          | 0/20 [00:00<?, ?it/s]"
      ]
     },
     "metadata": {},
     "output_type": "display_data"
    },
    {
     "data": {
      "application/vnd.jupyter.widget-view+json": {
       "model_id": "da2b2994526549819ed46ccfc6650f3f",
       "version_major": 2,
       "version_minor": 0
      },
      "text/plain": [
       "diffusion sampling:   0%|          | 0/20 [00:00<?, ?it/s]"
      ]
     },
     "metadata": {},
     "output_type": "display_data"
    },
    {
     "data": {
      "application/vnd.jupyter.widget-view+json": {
       "model_id": "ef9922653af84768b7b4a728bad60de5",
       "version_major": 2,
       "version_minor": 0
      },
      "text/plain": [
       "diffusion sampling:   0%|          | 0/20 [00:00<?, ?it/s]"
      ]
     },
     "metadata": {},
     "output_type": "display_data"
    },
    {
     "data": {
      "application/vnd.jupyter.widget-view+json": {
       "model_id": "2e7c0f7c8d904bf185424392d663bfed",
       "version_major": 2,
       "version_minor": 0
      },
      "text/plain": [
       "diffusion sampling:   0%|          | 0/20 [00:00<?, ?it/s]"
      ]
     },
     "metadata": {},
     "output_type": "display_data"
    },
    {
     "data": {
      "application/vnd.jupyter.widget-view+json": {
       "model_id": "8952b407a0c64dc29c93cd58830798ee",
       "version_major": 2,
       "version_minor": 0
      },
      "text/plain": [
       "class hypothsis:   0%|          | 0/6 [00:00<?, ?it/s]"
      ]
     },
     "metadata": {},
     "output_type": "display_data"
    },
    {
     "data": {
      "application/vnd.jupyter.widget-view+json": {
       "model_id": "a73d629137e14ff1b302a9d2803333db",
       "version_major": 2,
       "version_minor": 0
      },
      "text/plain": [
       "diffusion sampling:   0%|          | 0/20 [00:00<?, ?it/s]"
      ]
     },
     "metadata": {},
     "output_type": "display_data"
    },
    {
     "data": {
      "application/vnd.jupyter.widget-view+json": {
       "model_id": "8f5b73b2ee9e4432bf60d3a5de9fa9c0",
       "version_major": 2,
       "version_minor": 0
      },
      "text/plain": [
       "diffusion sampling:   0%|          | 0/20 [00:00<?, ?it/s]"
      ]
     },
     "metadata": {},
     "output_type": "display_data"
    },
    {
     "data": {
      "application/vnd.jupyter.widget-view+json": {
       "model_id": "53d60a244f294cceab1831f4d2adb73d",
       "version_major": 2,
       "version_minor": 0
      },
      "text/plain": [
       "diffusion sampling:   0%|          | 0/20 [00:00<?, ?it/s]"
      ]
     },
     "metadata": {},
     "output_type": "display_data"
    },
    {
     "data": {
      "application/vnd.jupyter.widget-view+json": {
       "model_id": "dc37db370bab404888b4e20ec840b6d3",
       "version_major": 2,
       "version_minor": 0
      },
      "text/plain": [
       "diffusion sampling:   0%|          | 0/20 [00:00<?, ?it/s]"
      ]
     },
     "metadata": {},
     "output_type": "display_data"
    },
    {
     "data": {
      "application/vnd.jupyter.widget-view+json": {
       "model_id": "c4f3c0e434064cf296fe87fdb38833fc",
       "version_major": 2,
       "version_minor": 0
      },
      "text/plain": [
       "diffusion sampling:   0%|          | 0/20 [00:00<?, ?it/s]"
      ]
     },
     "metadata": {},
     "output_type": "display_data"
    },
    {
     "data": {
      "application/vnd.jupyter.widget-view+json": {
       "model_id": "3ab0947631bf451982f4bf6ca34ca0dc",
       "version_major": 2,
       "version_minor": 0
      },
      "text/plain": [
       "diffusion sampling:   0%|          | 0/20 [00:00<?, ?it/s]"
      ]
     },
     "metadata": {},
     "output_type": "display_data"
    },
    {
     "data": {
      "application/vnd.jupyter.widget-view+json": {
       "model_id": "8b95cd9bacf94d6ea7c8b59d8170ab1e",
       "version_major": 2,
       "version_minor": 0
      },
      "text/plain": [
       "class hypothsis:   0%|          | 0/6 [00:00<?, ?it/s]"
      ]
     },
     "metadata": {},
     "output_type": "display_data"
    },
    {
     "data": {
      "application/vnd.jupyter.widget-view+json": {
       "model_id": "400636121643426a9876c462bd69fd9d",
       "version_major": 2,
       "version_minor": 0
      },
      "text/plain": [
       "diffusion sampling:   0%|          | 0/20 [00:00<?, ?it/s]"
      ]
     },
     "metadata": {},
     "output_type": "display_data"
    },
    {
     "data": {
      "application/vnd.jupyter.widget-view+json": {
       "model_id": "e24a3633dfdd4ef4a2089039c3de23f3",
       "version_major": 2,
       "version_minor": 0
      },
      "text/plain": [
       "diffusion sampling:   0%|          | 0/20 [00:00<?, ?it/s]"
      ]
     },
     "metadata": {},
     "output_type": "display_data"
    },
    {
     "data": {
      "application/vnd.jupyter.widget-view+json": {
       "model_id": "4606b886fb20449ca48caa76b3938cdc",
       "version_major": 2,
       "version_minor": 0
      },
      "text/plain": [
       "diffusion sampling:   0%|          | 0/20 [00:00<?, ?it/s]"
      ]
     },
     "metadata": {},
     "output_type": "display_data"
    },
    {
     "data": {
      "application/vnd.jupyter.widget-view+json": {
       "model_id": "e80ef43cb7e34550bf155bd77046b10c",
       "version_major": 2,
       "version_minor": 0
      },
      "text/plain": [
       "diffusion sampling:   0%|          | 0/20 [00:00<?, ?it/s]"
      ]
     },
     "metadata": {},
     "output_type": "display_data"
    },
    {
     "data": {
      "application/vnd.jupyter.widget-view+json": {
       "model_id": "eba46d1157fc4ae2b7232b6b4d7507ea",
       "version_major": 2,
       "version_minor": 0
      },
      "text/plain": [
       "diffusion sampling:   0%|          | 0/20 [00:00<?, ?it/s]"
      ]
     },
     "metadata": {},
     "output_type": "display_data"
    },
    {
     "data": {
      "application/vnd.jupyter.widget-view+json": {
       "model_id": "05869dd3f11a497c9d286d406cf31e59",
       "version_major": 2,
       "version_minor": 0
      },
      "text/plain": [
       "diffusion sampling:   0%|          | 0/20 [00:00<?, ?it/s]"
      ]
     },
     "metadata": {},
     "output_type": "display_data"
    },
    {
     "data": {
      "application/vnd.jupyter.widget-view+json": {
       "model_id": "aed611e47db14b31b4a0fdfbadea8822",
       "version_major": 2,
       "version_minor": 0
      },
      "text/plain": [
       "class hypothsis:   0%|          | 0/6 [00:00<?, ?it/s]"
      ]
     },
     "metadata": {},
     "output_type": "display_data"
    },
    {
     "data": {
      "application/vnd.jupyter.widget-view+json": {
       "model_id": "42d2e544c5fa4c3789a69f6d3cd213db",
       "version_major": 2,
       "version_minor": 0
      },
      "text/plain": [
       "diffusion sampling:   0%|          | 0/20 [00:00<?, ?it/s]"
      ]
     },
     "metadata": {},
     "output_type": "display_data"
    },
    {
     "data": {
      "application/vnd.jupyter.widget-view+json": {
       "model_id": "17a39bba39c54bc49d0d8ee658d9a2ea",
       "version_major": 2,
       "version_minor": 0
      },
      "text/plain": [
       "diffusion sampling:   0%|          | 0/20 [00:00<?, ?it/s]"
      ]
     },
     "metadata": {},
     "output_type": "display_data"
    },
    {
     "data": {
      "application/vnd.jupyter.widget-view+json": {
       "model_id": "be611f98b7b84182a07ea5b237dc64d6",
       "version_major": 2,
       "version_minor": 0
      },
      "text/plain": [
       "diffusion sampling:   0%|          | 0/20 [00:00<?, ?it/s]"
      ]
     },
     "metadata": {},
     "output_type": "display_data"
    },
    {
     "data": {
      "application/vnd.jupyter.widget-view+json": {
       "model_id": "a38d1f92cfc840838cf4e078ac407b3d",
       "version_major": 2,
       "version_minor": 0
      },
      "text/plain": [
       "diffusion sampling:   0%|          | 0/20 [00:00<?, ?it/s]"
      ]
     },
     "metadata": {},
     "output_type": "display_data"
    },
    {
     "data": {
      "application/vnd.jupyter.widget-view+json": {
       "model_id": "5864bc77dac94ed0b127a598c0c20d4d",
       "version_major": 2,
       "version_minor": 0
      },
      "text/plain": [
       "diffusion sampling:   0%|          | 0/20 [00:00<?, ?it/s]"
      ]
     },
     "metadata": {},
     "output_type": "display_data"
    },
    {
     "data": {
      "application/vnd.jupyter.widget-view+json": {
       "model_id": "337b8704c2f94711b6794c258c98e124",
       "version_major": 2,
       "version_minor": 0
      },
      "text/plain": [
       "diffusion sampling:   0%|          | 0/20 [00:00<?, ?it/s]"
      ]
     },
     "metadata": {},
     "output_type": "display_data"
    },
    {
     "data": {
      "application/vnd.jupyter.widget-view+json": {
       "model_id": "dad73fef8f134828bef1a7747d0c3192",
       "version_major": 2,
       "version_minor": 0
      },
      "text/plain": [
       "class hypothsis:   0%|          | 0/6 [00:00<?, ?it/s]"
      ]
     },
     "metadata": {},
     "output_type": "display_data"
    },
    {
     "data": {
      "application/vnd.jupyter.widget-view+json": {
       "model_id": "fbc3797d45c44e4dbff1be927d1b7913",
       "version_major": 2,
       "version_minor": 0
      },
      "text/plain": [
       "diffusion sampling:   0%|          | 0/20 [00:00<?, ?it/s]"
      ]
     },
     "metadata": {},
     "output_type": "display_data"
    },
    {
     "data": {
      "application/vnd.jupyter.widget-view+json": {
       "model_id": "6c84bdfe9dbc4982a91b5f5e32967590",
       "version_major": 2,
       "version_minor": 0
      },
      "text/plain": [
       "diffusion sampling:   0%|          | 0/20 [00:00<?, ?it/s]"
      ]
     },
     "metadata": {},
     "output_type": "display_data"
    },
    {
     "data": {
      "application/vnd.jupyter.widget-view+json": {
       "model_id": "443919c65d39459f80ff2c47fbb78285",
       "version_major": 2,
       "version_minor": 0
      },
      "text/plain": [
       "diffusion sampling:   0%|          | 0/20 [00:00<?, ?it/s]"
      ]
     },
     "metadata": {},
     "output_type": "display_data"
    },
    {
     "data": {
      "application/vnd.jupyter.widget-view+json": {
       "model_id": "e59ef4867f7e4c2f81d6281c3e76438d",
       "version_major": 2,
       "version_minor": 0
      },
      "text/plain": [
       "diffusion sampling:   0%|          | 0/20 [00:00<?, ?it/s]"
      ]
     },
     "metadata": {},
     "output_type": "display_data"
    },
    {
     "data": {
      "application/vnd.jupyter.widget-view+json": {
       "model_id": "dce9d7d379cd4f5ebf496f0cd679da6b",
       "version_major": 2,
       "version_minor": 0
      },
      "text/plain": [
       "diffusion sampling:   0%|          | 0/20 [00:00<?, ?it/s]"
      ]
     },
     "metadata": {},
     "output_type": "display_data"
    },
    {
     "data": {
      "application/vnd.jupyter.widget-view+json": {
       "model_id": "3cc4f599143f42aead55998adcae15e1",
       "version_major": 2,
       "version_minor": 0
      },
      "text/plain": [
       "diffusion sampling:   0%|          | 0/20 [00:00<?, ?it/s]"
      ]
     },
     "metadata": {},
     "output_type": "display_data"
    },
    {
     "data": {
      "application/vnd.jupyter.widget-view+json": {
       "model_id": "1c35eca70e7b49dca4143dea773dd561",
       "version_major": 2,
       "version_minor": 0
      },
      "text/plain": [
       "class hypothsis:   0%|          | 0/6 [00:00<?, ?it/s]"
      ]
     },
     "metadata": {},
     "output_type": "display_data"
    },
    {
     "data": {
      "application/vnd.jupyter.widget-view+json": {
       "model_id": "40234c5686d3461ea794b54afcdfa309",
       "version_major": 2,
       "version_minor": 0
      },
      "text/plain": [
       "diffusion sampling:   0%|          | 0/20 [00:00<?, ?it/s]"
      ]
     },
     "metadata": {},
     "output_type": "display_data"
    },
    {
     "data": {
      "application/vnd.jupyter.widget-view+json": {
       "model_id": "910878b3b79848e4ab1b8b21a3194126",
       "version_major": 2,
       "version_minor": 0
      },
      "text/plain": [
       "diffusion sampling:   0%|          | 0/20 [00:00<?, ?it/s]"
      ]
     },
     "metadata": {},
     "output_type": "display_data"
    },
    {
     "data": {
      "application/vnd.jupyter.widget-view+json": {
       "model_id": "be3ee536ff134140a90c9268ae54cee2",
       "version_major": 2,
       "version_minor": 0
      },
      "text/plain": [
       "diffusion sampling:   0%|          | 0/20 [00:00<?, ?it/s]"
      ]
     },
     "metadata": {},
     "output_type": "display_data"
    },
    {
     "data": {
      "application/vnd.jupyter.widget-view+json": {
       "model_id": "b27d2f422180442c885b7fc4e386bf10",
       "version_major": 2,
       "version_minor": 0
      },
      "text/plain": [
       "diffusion sampling:   0%|          | 0/20 [00:00<?, ?it/s]"
      ]
     },
     "metadata": {},
     "output_type": "display_data"
    },
    {
     "data": {
      "application/vnd.jupyter.widget-view+json": {
       "model_id": "be2cec38cef6452083b28d9c75c3e5fd",
       "version_major": 2,
       "version_minor": 0
      },
      "text/plain": [
       "diffusion sampling:   0%|          | 0/20 [00:00<?, ?it/s]"
      ]
     },
     "metadata": {},
     "output_type": "display_data"
    },
    {
     "data": {
      "application/vnd.jupyter.widget-view+json": {
       "model_id": "264ceabd60c94e02a4ea48b6770c71d8",
       "version_major": 2,
       "version_minor": 0
      },
      "text/plain": [
       "diffusion sampling:   0%|          | 0/20 [00:00<?, ?it/s]"
      ]
     },
     "metadata": {},
     "output_type": "display_data"
    },
    {
     "data": {
      "application/vnd.jupyter.widget-view+json": {
       "model_id": "f9bf3bd0ebbd454987460ad6ba277477",
       "version_major": 2,
       "version_minor": 0
      },
      "text/plain": [
       "class hypothsis:   0%|          | 0/6 [00:00<?, ?it/s]"
      ]
     },
     "metadata": {},
     "output_type": "display_data"
    },
    {
     "data": {
      "application/vnd.jupyter.widget-view+json": {
       "model_id": "93508fd8cb534586aa1acf5e1726dd68",
       "version_major": 2,
       "version_minor": 0
      },
      "text/plain": [
       "diffusion sampling:   0%|          | 0/20 [00:00<?, ?it/s]"
      ]
     },
     "metadata": {},
     "output_type": "display_data"
    },
    {
     "data": {
      "application/vnd.jupyter.widget-view+json": {
       "model_id": "8a2dc8d3198741d796116801de49722c",
       "version_major": 2,
       "version_minor": 0
      },
      "text/plain": [
       "diffusion sampling:   0%|          | 0/20 [00:00<?, ?it/s]"
      ]
     },
     "metadata": {},
     "output_type": "display_data"
    },
    {
     "data": {
      "application/vnd.jupyter.widget-view+json": {
       "model_id": "c337775c7904432b99397cd160220211",
       "version_major": 2,
       "version_minor": 0
      },
      "text/plain": [
       "diffusion sampling:   0%|          | 0/20 [00:00<?, ?it/s]"
      ]
     },
     "metadata": {},
     "output_type": "display_data"
    },
    {
     "data": {
      "application/vnd.jupyter.widget-view+json": {
       "model_id": "556e4768d5bf428283b154b4df780c7d",
       "version_major": 2,
       "version_minor": 0
      },
      "text/plain": [
       "diffusion sampling:   0%|          | 0/20 [00:00<?, ?it/s]"
      ]
     },
     "metadata": {},
     "output_type": "display_data"
    },
    {
     "data": {
      "application/vnd.jupyter.widget-view+json": {
       "model_id": "8b94c05c68134996b8c752c5b19dfd11",
       "version_major": 2,
       "version_minor": 0
      },
      "text/plain": [
       "diffusion sampling:   0%|          | 0/20 [00:00<?, ?it/s]"
      ]
     },
     "metadata": {},
     "output_type": "display_data"
    },
    {
     "data": {
      "application/vnd.jupyter.widget-view+json": {
       "model_id": "5004f601f66944e4bfed6d6cd459a93d",
       "version_major": 2,
       "version_minor": 0
      },
      "text/plain": [
       "diffusion sampling:   0%|          | 0/20 [00:00<?, ?it/s]"
      ]
     },
     "metadata": {},
     "output_type": "display_data"
    },
    {
     "data": {
      "application/vnd.jupyter.widget-view+json": {
       "model_id": "ca17c7fe4f724efdb92613094efc72b3",
       "version_major": 2,
       "version_minor": 0
      },
      "text/plain": [
       "class hypothsis:   0%|          | 0/6 [00:00<?, ?it/s]"
      ]
     },
     "metadata": {},
     "output_type": "display_data"
    },
    {
     "data": {
      "application/vnd.jupyter.widget-view+json": {
       "model_id": "a9c8c53d663b49808dad258b5fe24aaf",
       "version_major": 2,
       "version_minor": 0
      },
      "text/plain": [
       "diffusion sampling:   0%|          | 0/20 [00:00<?, ?it/s]"
      ]
     },
     "metadata": {},
     "output_type": "display_data"
    },
    {
     "data": {
      "application/vnd.jupyter.widget-view+json": {
       "model_id": "28b9ef01d4e64d4e971f2332e1502eca",
       "version_major": 2,
       "version_minor": 0
      },
      "text/plain": [
       "diffusion sampling:   0%|          | 0/20 [00:00<?, ?it/s]"
      ]
     },
     "metadata": {},
     "output_type": "display_data"
    },
    {
     "data": {
      "application/vnd.jupyter.widget-view+json": {
       "model_id": "3ab34449374349b99cb8d1602e4afc02",
       "version_major": 2,
       "version_minor": 0
      },
      "text/plain": [
       "diffusion sampling:   0%|          | 0/20 [00:00<?, ?it/s]"
      ]
     },
     "metadata": {},
     "output_type": "display_data"
    },
    {
     "data": {
      "application/vnd.jupyter.widget-view+json": {
       "model_id": "d25aedd4cf114b98a89851093d147e2d",
       "version_major": 2,
       "version_minor": 0
      },
      "text/plain": [
       "diffusion sampling:   0%|          | 0/20 [00:00<?, ?it/s]"
      ]
     },
     "metadata": {},
     "output_type": "display_data"
    },
    {
     "data": {
      "application/vnd.jupyter.widget-view+json": {
       "model_id": "ad2d4dcb0f514aad8aaf429c6c0af52b",
       "version_major": 2,
       "version_minor": 0
      },
      "text/plain": [
       "diffusion sampling:   0%|          | 0/20 [00:00<?, ?it/s]"
      ]
     },
     "metadata": {},
     "output_type": "display_data"
    },
    {
     "data": {
      "application/vnd.jupyter.widget-view+json": {
       "model_id": "f049dbadc8d6412e805892bd502b6474",
       "version_major": 2,
       "version_minor": 0
      },
      "text/plain": [
       "diffusion sampling:   0%|          | 0/20 [00:00<?, ?it/s]"
      ]
     },
     "metadata": {},
     "output_type": "display_data"
    },
    {
     "data": {
      "application/vnd.jupyter.widget-view+json": {
       "model_id": "b221052f64b1434381db9daaf6b33687",
       "version_major": 2,
       "version_minor": 0
      },
      "text/plain": [
       "class hypothsis:   0%|          | 0/6 [00:00<?, ?it/s]"
      ]
     },
     "metadata": {},
     "output_type": "display_data"
    },
    {
     "data": {
      "application/vnd.jupyter.widget-view+json": {
       "model_id": "1a912b9d75534be491a45a53e164ca8f",
       "version_major": 2,
       "version_minor": 0
      },
      "text/plain": [
       "diffusion sampling:   0%|          | 0/20 [00:00<?, ?it/s]"
      ]
     },
     "metadata": {},
     "output_type": "display_data"
    },
    {
     "data": {
      "application/vnd.jupyter.widget-view+json": {
       "model_id": "1ff57e1759b643f2b066adc378b07d2b",
       "version_major": 2,
       "version_minor": 0
      },
      "text/plain": [
       "diffusion sampling:   0%|          | 0/20 [00:00<?, ?it/s]"
      ]
     },
     "metadata": {},
     "output_type": "display_data"
    },
    {
     "data": {
      "application/vnd.jupyter.widget-view+json": {
       "model_id": "b50d870cef6b4ce3957036d21bf45fe0",
       "version_major": 2,
       "version_minor": 0
      },
      "text/plain": [
       "diffusion sampling:   0%|          | 0/20 [00:00<?, ?it/s]"
      ]
     },
     "metadata": {},
     "output_type": "display_data"
    },
    {
     "data": {
      "application/vnd.jupyter.widget-view+json": {
       "model_id": "0342fb427e424359b47c4814844c78ea",
       "version_major": 2,
       "version_minor": 0
      },
      "text/plain": [
       "diffusion sampling:   0%|          | 0/20 [00:00<?, ?it/s]"
      ]
     },
     "metadata": {},
     "output_type": "display_data"
    },
    {
     "data": {
      "application/vnd.jupyter.widget-view+json": {
       "model_id": "ffe481641e264997bf52b70fd1554fa2",
       "version_major": 2,
       "version_minor": 0
      },
      "text/plain": [
       "diffusion sampling:   0%|          | 0/20 [00:00<?, ?it/s]"
      ]
     },
     "metadata": {},
     "output_type": "display_data"
    },
    {
     "data": {
      "application/vnd.jupyter.widget-view+json": {
       "model_id": "da6c5cebbd7546bc878700aea9a78c04",
       "version_major": 2,
       "version_minor": 0
      },
      "text/plain": [
       "diffusion sampling:   0%|          | 0/20 [00:00<?, ?it/s]"
      ]
     },
     "metadata": {},
     "output_type": "display_data"
    },
    {
     "data": {
      "application/vnd.jupyter.widget-view+json": {
       "model_id": "7d6596755bc044bab5949ac5280bf526",
       "version_major": 2,
       "version_minor": 0
      },
      "text/plain": [
       "class hypothsis:   0%|          | 0/6 [00:00<?, ?it/s]"
      ]
     },
     "metadata": {},
     "output_type": "display_data"
    },
    {
     "data": {
      "application/vnd.jupyter.widget-view+json": {
       "model_id": "3aca6463497f48a28328c7979faac618",
       "version_major": 2,
       "version_minor": 0
      },
      "text/plain": [
       "diffusion sampling:   0%|          | 0/20 [00:00<?, ?it/s]"
      ]
     },
     "metadata": {},
     "output_type": "display_data"
    },
    {
     "data": {
      "application/vnd.jupyter.widget-view+json": {
       "model_id": "50de477faac64c0d972a230787dccbbb",
       "version_major": 2,
       "version_minor": 0
      },
      "text/plain": [
       "diffusion sampling:   0%|          | 0/20 [00:00<?, ?it/s]"
      ]
     },
     "metadata": {},
     "output_type": "display_data"
    },
    {
     "data": {
      "application/vnd.jupyter.widget-view+json": {
       "model_id": "7815e1246f8a40838985d37fd3beabd4",
       "version_major": 2,
       "version_minor": 0
      },
      "text/plain": [
       "diffusion sampling:   0%|          | 0/20 [00:00<?, ?it/s]"
      ]
     },
     "metadata": {},
     "output_type": "display_data"
    },
    {
     "data": {
      "application/vnd.jupyter.widget-view+json": {
       "model_id": "d7b5b2bcc717413fb37d76099a15e42c",
       "version_major": 2,
       "version_minor": 0
      },
      "text/plain": [
       "diffusion sampling:   0%|          | 0/20 [00:00<?, ?it/s]"
      ]
     },
     "metadata": {},
     "output_type": "display_data"
    },
    {
     "data": {
      "application/vnd.jupyter.widget-view+json": {
       "model_id": "f45f853e065e4afc912dff03c97540ac",
       "version_major": 2,
       "version_minor": 0
      },
      "text/plain": [
       "diffusion sampling:   0%|          | 0/20 [00:00<?, ?it/s]"
      ]
     },
     "metadata": {},
     "output_type": "display_data"
    },
    {
     "data": {
      "application/vnd.jupyter.widget-view+json": {
       "model_id": "62322906d9e141a0b6945b53e3c72386",
       "version_major": 2,
       "version_minor": 0
      },
      "text/plain": [
       "diffusion sampling:   0%|          | 0/20 [00:00<?, ?it/s]"
      ]
     },
     "metadata": {},
     "output_type": "display_data"
    },
    {
     "data": {
      "application/vnd.jupyter.widget-view+json": {
       "model_id": "34b6fcb51d394de4bff63594e87835b0",
       "version_major": 2,
       "version_minor": 0
      },
      "text/plain": [
       "class hypothsis:   0%|          | 0/6 [00:00<?, ?it/s]"
      ]
     },
     "metadata": {},
     "output_type": "display_data"
    },
    {
     "data": {
      "application/vnd.jupyter.widget-view+json": {
       "model_id": "aa2c41a243ae422f8c1d8344ac6b73ee",
       "version_major": 2,
       "version_minor": 0
      },
      "text/plain": [
       "diffusion sampling:   0%|          | 0/20 [00:00<?, ?it/s]"
      ]
     },
     "metadata": {},
     "output_type": "display_data"
    },
    {
     "data": {
      "application/vnd.jupyter.widget-view+json": {
       "model_id": "8e262775273344a4aae8e4814d60b283",
       "version_major": 2,
       "version_minor": 0
      },
      "text/plain": [
       "diffusion sampling:   0%|          | 0/20 [00:00<?, ?it/s]"
      ]
     },
     "metadata": {},
     "output_type": "display_data"
    },
    {
     "data": {
      "application/vnd.jupyter.widget-view+json": {
       "model_id": "772698574f054e2aa0a6fb6eb2345e19",
       "version_major": 2,
       "version_minor": 0
      },
      "text/plain": [
       "diffusion sampling:   0%|          | 0/20 [00:00<?, ?it/s]"
      ]
     },
     "metadata": {},
     "output_type": "display_data"
    },
    {
     "data": {
      "application/vnd.jupyter.widget-view+json": {
       "model_id": "11c7ecf99a5e4e11a87414b5f2f02e00",
       "version_major": 2,
       "version_minor": 0
      },
      "text/plain": [
       "diffusion sampling:   0%|          | 0/20 [00:00<?, ?it/s]"
      ]
     },
     "metadata": {},
     "output_type": "display_data"
    },
    {
     "data": {
      "application/vnd.jupyter.widget-view+json": {
       "model_id": "aae6c37dcad048bba023be0f3f30e408",
       "version_major": 2,
       "version_minor": 0
      },
      "text/plain": [
       "diffusion sampling:   0%|          | 0/20 [00:00<?, ?it/s]"
      ]
     },
     "metadata": {},
     "output_type": "display_data"
    },
    {
     "data": {
      "application/vnd.jupyter.widget-view+json": {
       "model_id": "d78e7d61cefb4bb3a2bc8f0b6c59c498",
       "version_major": 2,
       "version_minor": 0
      },
      "text/plain": [
       "diffusion sampling:   0%|          | 0/20 [00:00<?, ?it/s]"
      ]
     },
     "metadata": {},
     "output_type": "display_data"
    },
    {
     "data": {
      "application/vnd.jupyter.widget-view+json": {
       "model_id": "cd94679e6f4c4ccc82f618ef1a598942",
       "version_major": 2,
       "version_minor": 0
      },
      "text/plain": [
       "class hypothsis:   0%|          | 0/6 [00:00<?, ?it/s]"
      ]
     },
     "metadata": {},
     "output_type": "display_data"
    },
    {
     "data": {
      "application/vnd.jupyter.widget-view+json": {
       "model_id": "889223aa81a247ae9c7cca1e167cf2e6",
       "version_major": 2,
       "version_minor": 0
      },
      "text/plain": [
       "diffusion sampling:   0%|          | 0/20 [00:00<?, ?it/s]"
      ]
     },
     "metadata": {},
     "output_type": "display_data"
    },
    {
     "data": {
      "application/vnd.jupyter.widget-view+json": {
       "model_id": "9acdfcb9040b40ff99651c93bc6b924f",
       "version_major": 2,
       "version_minor": 0
      },
      "text/plain": [
       "diffusion sampling:   0%|          | 0/20 [00:00<?, ?it/s]"
      ]
     },
     "metadata": {},
     "output_type": "display_data"
    },
    {
     "data": {
      "application/vnd.jupyter.widget-view+json": {
       "model_id": "85ed9fd78324439ebda5bb2a757697a8",
       "version_major": 2,
       "version_minor": 0
      },
      "text/plain": [
       "diffusion sampling:   0%|          | 0/20 [00:00<?, ?it/s]"
      ]
     },
     "metadata": {},
     "output_type": "display_data"
    },
    {
     "data": {
      "application/vnd.jupyter.widget-view+json": {
       "model_id": "6c728fed48604e4dab3f30e2d6e94dd0",
       "version_major": 2,
       "version_minor": 0
      },
      "text/plain": [
       "diffusion sampling:   0%|          | 0/20 [00:00<?, ?it/s]"
      ]
     },
     "metadata": {},
     "output_type": "display_data"
    },
    {
     "data": {
      "application/vnd.jupyter.widget-view+json": {
       "model_id": "66c3355bcb1e42c29cda4b803b4382ee",
       "version_major": 2,
       "version_minor": 0
      },
      "text/plain": [
       "diffusion sampling:   0%|          | 0/20 [00:00<?, ?it/s]"
      ]
     },
     "metadata": {},
     "output_type": "display_data"
    },
    {
     "data": {
      "application/vnd.jupyter.widget-view+json": {
       "model_id": "aa5437f892ae4aca89f4073af6c79700",
       "version_major": 2,
       "version_minor": 0
      },
      "text/plain": [
       "diffusion sampling:   0%|          | 0/20 [00:00<?, ?it/s]"
      ]
     },
     "metadata": {},
     "output_type": "display_data"
    },
    {
     "data": {
      "application/vnd.jupyter.widget-view+json": {
       "model_id": "ab53498d463d4ecab75201df9213b2b3",
       "version_major": 2,
       "version_minor": 0
      },
      "text/plain": [
       "class hypothsis:   0%|          | 0/6 [00:00<?, ?it/s]"
      ]
     },
     "metadata": {},
     "output_type": "display_data"
    },
    {
     "data": {
      "application/vnd.jupyter.widget-view+json": {
       "model_id": "9f143e3b548a4e13a5a8f8c8bb415fe0",
       "version_major": 2,
       "version_minor": 0
      },
      "text/plain": [
       "diffusion sampling:   0%|          | 0/20 [00:00<?, ?it/s]"
      ]
     },
     "metadata": {},
     "output_type": "display_data"
    },
    {
     "data": {
      "application/vnd.jupyter.widget-view+json": {
       "model_id": "6cd03c878a5b4709b18048ccda17bf83",
       "version_major": 2,
       "version_minor": 0
      },
      "text/plain": [
       "diffusion sampling:   0%|          | 0/20 [00:00<?, ?it/s]"
      ]
     },
     "metadata": {},
     "output_type": "display_data"
    },
    {
     "data": {
      "application/vnd.jupyter.widget-view+json": {
       "model_id": "de59d4ef792d4896a12de98d8c5416a4",
       "version_major": 2,
       "version_minor": 0
      },
      "text/plain": [
       "diffusion sampling:   0%|          | 0/20 [00:00<?, ?it/s]"
      ]
     },
     "metadata": {},
     "output_type": "display_data"
    },
    {
     "data": {
      "application/vnd.jupyter.widget-view+json": {
       "model_id": "5394111c9fe14c9abde6491a25ccad4e",
       "version_major": 2,
       "version_minor": 0
      },
      "text/plain": [
       "diffusion sampling:   0%|          | 0/20 [00:00<?, ?it/s]"
      ]
     },
     "metadata": {},
     "output_type": "display_data"
    },
    {
     "data": {
      "application/vnd.jupyter.widget-view+json": {
       "model_id": "70cd3a2c44314f2ca3b82b680860f61a",
       "version_major": 2,
       "version_minor": 0
      },
      "text/plain": [
       "diffusion sampling:   0%|          | 0/20 [00:00<?, ?it/s]"
      ]
     },
     "metadata": {},
     "output_type": "display_data"
    },
    {
     "data": {
      "application/vnd.jupyter.widget-view+json": {
       "model_id": "1b3e5ecaa00a4d0ab42c16337b1451e9",
       "version_major": 2,
       "version_minor": 0
      },
      "text/plain": [
       "diffusion sampling:   0%|          | 0/20 [00:00<?, ?it/s]"
      ]
     },
     "metadata": {},
     "output_type": "display_data"
    },
    {
     "data": {
      "application/vnd.jupyter.widget-view+json": {
       "model_id": "454f2a2503bf43a8ae2ca987baa5c784",
       "version_major": 2,
       "version_minor": 0
      },
      "text/plain": [
       "class hypothsis:   0%|          | 0/6 [00:00<?, ?it/s]"
      ]
     },
     "metadata": {},
     "output_type": "display_data"
    },
    {
     "data": {
      "application/vnd.jupyter.widget-view+json": {
       "model_id": "be81b60fd9f146e8a3a6fb9083ad3b48",
       "version_major": 2,
       "version_minor": 0
      },
      "text/plain": [
       "diffusion sampling:   0%|          | 0/20 [00:00<?, ?it/s]"
      ]
     },
     "metadata": {},
     "output_type": "display_data"
    },
    {
     "data": {
      "application/vnd.jupyter.widget-view+json": {
       "model_id": "77856ad6ff7b4aacb2d550a21ad00825",
       "version_major": 2,
       "version_minor": 0
      },
      "text/plain": [
       "diffusion sampling:   0%|          | 0/20 [00:00<?, ?it/s]"
      ]
     },
     "metadata": {},
     "output_type": "display_data"
    },
    {
     "data": {
      "application/vnd.jupyter.widget-view+json": {
       "model_id": "1cb5085b4b9749e78b05220306c3b354",
       "version_major": 2,
       "version_minor": 0
      },
      "text/plain": [
       "diffusion sampling:   0%|          | 0/20 [00:00<?, ?it/s]"
      ]
     },
     "metadata": {},
     "output_type": "display_data"
    },
    {
     "data": {
      "application/vnd.jupyter.widget-view+json": {
       "model_id": "821580e6e91d4d66bf3502ac4873034b",
       "version_major": 2,
       "version_minor": 0
      },
      "text/plain": [
       "diffusion sampling:   0%|          | 0/20 [00:00<?, ?it/s]"
      ]
     },
     "metadata": {},
     "output_type": "display_data"
    },
    {
     "data": {
      "application/vnd.jupyter.widget-view+json": {
       "model_id": "918a3e1f0bcf4dbf90c34225ce510d9b",
       "version_major": 2,
       "version_minor": 0
      },
      "text/plain": [
       "diffusion sampling:   0%|          | 0/20 [00:00<?, ?it/s]"
      ]
     },
     "metadata": {},
     "output_type": "display_data"
    },
    {
     "data": {
      "application/vnd.jupyter.widget-view+json": {
       "model_id": "1ba15b717dfe461c8f78796a9256c7b9",
       "version_major": 2,
       "version_minor": 0
      },
      "text/plain": [
       "diffusion sampling:   0%|          | 0/20 [00:00<?, ?it/s]"
      ]
     },
     "metadata": {},
     "output_type": "display_data"
    },
    {
     "data": {
      "application/vnd.jupyter.widget-view+json": {
       "model_id": "db2990accf8e450490e1a2778fa10a59",
       "version_major": 2,
       "version_minor": 0
      },
      "text/plain": [
       "class hypothsis:   0%|          | 0/6 [00:00<?, ?it/s]"
      ]
     },
     "metadata": {},
     "output_type": "display_data"
    },
    {
     "data": {
      "application/vnd.jupyter.widget-view+json": {
       "model_id": "d3ef8160eccb4d6cb4d6aefcab2f9784",
       "version_major": 2,
       "version_minor": 0
      },
      "text/plain": [
       "diffusion sampling:   0%|          | 0/20 [00:00<?, ?it/s]"
      ]
     },
     "metadata": {},
     "output_type": "display_data"
    },
    {
     "data": {
      "application/vnd.jupyter.widget-view+json": {
       "model_id": "c18ca085a0f947e0a45cc61a1dc94233",
       "version_major": 2,
       "version_minor": 0
      },
      "text/plain": [
       "diffusion sampling:   0%|          | 0/20 [00:00<?, ?it/s]"
      ]
     },
     "metadata": {},
     "output_type": "display_data"
    },
    {
     "data": {
      "application/vnd.jupyter.widget-view+json": {
       "model_id": "00a7dbdd89614d5692d6e1b3741b8c0f",
       "version_major": 2,
       "version_minor": 0
      },
      "text/plain": [
       "diffusion sampling:   0%|          | 0/20 [00:00<?, ?it/s]"
      ]
     },
     "metadata": {},
     "output_type": "display_data"
    },
    {
     "data": {
      "application/vnd.jupyter.widget-view+json": {
       "model_id": "aeb84f0192714400a8282f2e9b30eecf",
       "version_major": 2,
       "version_minor": 0
      },
      "text/plain": [
       "diffusion sampling:   0%|          | 0/20 [00:00<?, ?it/s]"
      ]
     },
     "metadata": {},
     "output_type": "display_data"
    },
    {
     "data": {
      "application/vnd.jupyter.widget-view+json": {
       "model_id": "16ddd34d7f044310bd11bdb9dcf72582",
       "version_major": 2,
       "version_minor": 0
      },
      "text/plain": [
       "diffusion sampling:   0%|          | 0/20 [00:00<?, ?it/s]"
      ]
     },
     "metadata": {},
     "output_type": "display_data"
    },
    {
     "data": {
      "application/vnd.jupyter.widget-view+json": {
       "model_id": "f36d3a10b68443fcab8ad28ec90a4203",
       "version_major": 2,
       "version_minor": 0
      },
      "text/plain": [
       "diffusion sampling:   0%|          | 0/20 [00:00<?, ?it/s]"
      ]
     },
     "metadata": {},
     "output_type": "display_data"
    },
    {
     "data": {
      "application/vnd.jupyter.widget-view+json": {
       "model_id": "e358563f5cfd40ffb54020cb7e31d8ed",
       "version_major": 2,
       "version_minor": 0
      },
      "text/plain": [
       "class hypothsis:   0%|          | 0/6 [00:00<?, ?it/s]"
      ]
     },
     "metadata": {},
     "output_type": "display_data"
    },
    {
     "data": {
      "application/vnd.jupyter.widget-view+json": {
       "model_id": "131fffcb82e44ad9968cdc94bfa6d86f",
       "version_major": 2,
       "version_minor": 0
      },
      "text/plain": [
       "diffusion sampling:   0%|          | 0/20 [00:00<?, ?it/s]"
      ]
     },
     "metadata": {},
     "output_type": "display_data"
    },
    {
     "data": {
      "application/vnd.jupyter.widget-view+json": {
       "model_id": "9ebf69cd3822483c99d490709bc8e6cd",
       "version_major": 2,
       "version_minor": 0
      },
      "text/plain": [
       "diffusion sampling:   0%|          | 0/20 [00:00<?, ?it/s]"
      ]
     },
     "metadata": {},
     "output_type": "display_data"
    },
    {
     "data": {
      "application/vnd.jupyter.widget-view+json": {
       "model_id": "6c20bb38cfe142f288bfefca9601b3c4",
       "version_major": 2,
       "version_minor": 0
      },
      "text/plain": [
       "diffusion sampling:   0%|          | 0/20 [00:00<?, ?it/s]"
      ]
     },
     "metadata": {},
     "output_type": "display_data"
    },
    {
     "data": {
      "application/vnd.jupyter.widget-view+json": {
       "model_id": "598101fcfddc48e895499dfd3998df9c",
       "version_major": 2,
       "version_minor": 0
      },
      "text/plain": [
       "diffusion sampling:   0%|          | 0/20 [00:00<?, ?it/s]"
      ]
     },
     "metadata": {},
     "output_type": "display_data"
    },
    {
     "data": {
      "application/vnd.jupyter.widget-view+json": {
       "model_id": "b530af2efcca47b985ee3eb81e1b6b33",
       "version_major": 2,
       "version_minor": 0
      },
      "text/plain": [
       "diffusion sampling:   0%|          | 0/20 [00:00<?, ?it/s]"
      ]
     },
     "metadata": {},
     "output_type": "display_data"
    },
    {
     "data": {
      "application/vnd.jupyter.widget-view+json": {
       "model_id": "d05b30f4cda64e0fb4bf40042f4f7c71",
       "version_major": 2,
       "version_minor": 0
      },
      "text/plain": [
       "diffusion sampling:   0%|          | 0/20 [00:00<?, ?it/s]"
      ]
     },
     "metadata": {},
     "output_type": "display_data"
    },
    {
     "data": {
      "application/vnd.jupyter.widget-view+json": {
       "model_id": "51581b8214414c419df18ba82092454d",
       "version_major": 2,
       "version_minor": 0
      },
      "text/plain": [
       "class hypothsis:   0%|          | 0/6 [00:00<?, ?it/s]"
      ]
     },
     "metadata": {},
     "output_type": "display_data"
    },
    {
     "data": {
      "application/vnd.jupyter.widget-view+json": {
       "model_id": "80c24fa0348840d5861bf02f6d2f6103",
       "version_major": 2,
       "version_minor": 0
      },
      "text/plain": [
       "diffusion sampling:   0%|          | 0/20 [00:00<?, ?it/s]"
      ]
     },
     "metadata": {},
     "output_type": "display_data"
    },
    {
     "data": {
      "application/vnd.jupyter.widget-view+json": {
       "model_id": "9d43ef5ad63647679b7c83853bc5fb9f",
       "version_major": 2,
       "version_minor": 0
      },
      "text/plain": [
       "diffusion sampling:   0%|          | 0/20 [00:00<?, ?it/s]"
      ]
     },
     "metadata": {},
     "output_type": "display_data"
    },
    {
     "data": {
      "application/vnd.jupyter.widget-view+json": {
       "model_id": "227ab3c8a1004ec48aa1461e11478e96",
       "version_major": 2,
       "version_minor": 0
      },
      "text/plain": [
       "diffusion sampling:   0%|          | 0/20 [00:00<?, ?it/s]"
      ]
     },
     "metadata": {},
     "output_type": "display_data"
    },
    {
     "data": {
      "application/vnd.jupyter.widget-view+json": {
       "model_id": "0cf27313b49045cd9799f04ce1668394",
       "version_major": 2,
       "version_minor": 0
      },
      "text/plain": [
       "diffusion sampling:   0%|          | 0/20 [00:00<?, ?it/s]"
      ]
     },
     "metadata": {},
     "output_type": "display_data"
    },
    {
     "data": {
      "application/vnd.jupyter.widget-view+json": {
       "model_id": "07cb879636a744de9f2f76f97c81bdd5",
       "version_major": 2,
       "version_minor": 0
      },
      "text/plain": [
       "diffusion sampling:   0%|          | 0/20 [00:00<?, ?it/s]"
      ]
     },
     "metadata": {},
     "output_type": "display_data"
    },
    {
     "data": {
      "application/vnd.jupyter.widget-view+json": {
       "model_id": "a1afc11b0d9a426fbf5c9ba1f18fdfc1",
       "version_major": 2,
       "version_minor": 0
      },
      "text/plain": [
       "diffusion sampling:   0%|          | 0/20 [00:00<?, ?it/s]"
      ]
     },
     "metadata": {},
     "output_type": "display_data"
    },
    {
     "data": {
      "application/vnd.jupyter.widget-view+json": {
       "model_id": "426787c11ed346a29cdea9d9671a1a9c",
       "version_major": 2,
       "version_minor": 0
      },
      "text/plain": [
       "class hypothsis:   0%|          | 0/6 [00:00<?, ?it/s]"
      ]
     },
     "metadata": {},
     "output_type": "display_data"
    },
    {
     "data": {
      "application/vnd.jupyter.widget-view+json": {
       "model_id": "b39b78ac49bf47eca9207fcbb677dfe8",
       "version_major": 2,
       "version_minor": 0
      },
      "text/plain": [
       "diffusion sampling:   0%|          | 0/20 [00:00<?, ?it/s]"
      ]
     },
     "metadata": {},
     "output_type": "display_data"
    },
    {
     "data": {
      "application/vnd.jupyter.widget-view+json": {
       "model_id": "a63bc039c63b47da9c2a08609334cdec",
       "version_major": 2,
       "version_minor": 0
      },
      "text/plain": [
       "diffusion sampling:   0%|          | 0/20 [00:00<?, ?it/s]"
      ]
     },
     "metadata": {},
     "output_type": "display_data"
    },
    {
     "data": {
      "application/vnd.jupyter.widget-view+json": {
       "model_id": "4e627c3671b44638b574a93a46290616",
       "version_major": 2,
       "version_minor": 0
      },
      "text/plain": [
       "diffusion sampling:   0%|          | 0/20 [00:00<?, ?it/s]"
      ]
     },
     "metadata": {},
     "output_type": "display_data"
    },
    {
     "data": {
      "application/vnd.jupyter.widget-view+json": {
       "model_id": "c9d65c632c0b45ed96790f1bba599366",
       "version_major": 2,
       "version_minor": 0
      },
      "text/plain": [
       "diffusion sampling:   0%|          | 0/20 [00:00<?, ?it/s]"
      ]
     },
     "metadata": {},
     "output_type": "display_data"
    },
    {
     "data": {
      "application/vnd.jupyter.widget-view+json": {
       "model_id": "af3ebd42cb564c6fb9b5a6ef72e7c92a",
       "version_major": 2,
       "version_minor": 0
      },
      "text/plain": [
       "diffusion sampling:   0%|          | 0/20 [00:00<?, ?it/s]"
      ]
     },
     "metadata": {},
     "output_type": "display_data"
    },
    {
     "data": {
      "application/vnd.jupyter.widget-view+json": {
       "model_id": "45e6594a09104f28935d9e86023d0501",
       "version_major": 2,
       "version_minor": 0
      },
      "text/plain": [
       "diffusion sampling:   0%|          | 0/20 [00:00<?, ?it/s]"
      ]
     },
     "metadata": {},
     "output_type": "display_data"
    },
    {
     "data": {
      "application/vnd.jupyter.widget-view+json": {
       "model_id": "29910afcc7fa4be99d6036c55fd2a6ba",
       "version_major": 2,
       "version_minor": 0
      },
      "text/plain": [
       "class hypothsis:   0%|          | 0/6 [00:00<?, ?it/s]"
      ]
     },
     "metadata": {},
     "output_type": "display_data"
    },
    {
     "data": {
      "application/vnd.jupyter.widget-view+json": {
       "model_id": "dd67f73b75bc47f697794d36a94d526d",
       "version_major": 2,
       "version_minor": 0
      },
      "text/plain": [
       "diffusion sampling:   0%|          | 0/20 [00:00<?, ?it/s]"
      ]
     },
     "metadata": {},
     "output_type": "display_data"
    },
    {
     "data": {
      "application/vnd.jupyter.widget-view+json": {
       "model_id": "9491b74afd844aedab635c3f2e23b00c",
       "version_major": 2,
       "version_minor": 0
      },
      "text/plain": [
       "diffusion sampling:   0%|          | 0/20 [00:00<?, ?it/s]"
      ]
     },
     "metadata": {},
     "output_type": "display_data"
    },
    {
     "data": {
      "application/vnd.jupyter.widget-view+json": {
       "model_id": "8d8bfac4f9154ed0a5bd604b1e2b8037",
       "version_major": 2,
       "version_minor": 0
      },
      "text/plain": [
       "diffusion sampling:   0%|          | 0/20 [00:00<?, ?it/s]"
      ]
     },
     "metadata": {},
     "output_type": "display_data"
    },
    {
     "data": {
      "application/vnd.jupyter.widget-view+json": {
       "model_id": "ea158ee57f8e410ba502e02bed8b9057",
       "version_major": 2,
       "version_minor": 0
      },
      "text/plain": [
       "diffusion sampling:   0%|          | 0/20 [00:00<?, ?it/s]"
      ]
     },
     "metadata": {},
     "output_type": "display_data"
    },
    {
     "data": {
      "application/vnd.jupyter.widget-view+json": {
       "model_id": "7bdf9e36fb9446e7b4c525f76cfa761e",
       "version_major": 2,
       "version_minor": 0
      },
      "text/plain": [
       "diffusion sampling:   0%|          | 0/20 [00:00<?, ?it/s]"
      ]
     },
     "metadata": {},
     "output_type": "display_data"
    },
    {
     "data": {
      "application/vnd.jupyter.widget-view+json": {
       "model_id": "e9d663997e7843ac93f4e8d69babc9e8",
       "version_major": 2,
       "version_minor": 0
      },
      "text/plain": [
       "diffusion sampling:   0%|          | 0/20 [00:00<?, ?it/s]"
      ]
     },
     "metadata": {},
     "output_type": "display_data"
    },
    {
     "data": {
      "application/vnd.jupyter.widget-view+json": {
       "model_id": "5478b0627cc64472af101a08e02e5328",
       "version_major": 2,
       "version_minor": 0
      },
      "text/plain": [
       "class hypothsis:   0%|          | 0/6 [00:00<?, ?it/s]"
      ]
     },
     "metadata": {},
     "output_type": "display_data"
    },
    {
     "data": {
      "application/vnd.jupyter.widget-view+json": {
       "model_id": "0c85c27db1034044adc41ed1092dea24",
       "version_major": 2,
       "version_minor": 0
      },
      "text/plain": [
       "diffusion sampling:   0%|          | 0/20 [00:00<?, ?it/s]"
      ]
     },
     "metadata": {},
     "output_type": "display_data"
    },
    {
     "data": {
      "application/vnd.jupyter.widget-view+json": {
       "model_id": "faae7eaf38a14214b8b4acc44db4ca1c",
       "version_major": 2,
       "version_minor": 0
      },
      "text/plain": [
       "diffusion sampling:   0%|          | 0/20 [00:00<?, ?it/s]"
      ]
     },
     "metadata": {},
     "output_type": "display_data"
    },
    {
     "data": {
      "application/vnd.jupyter.widget-view+json": {
       "model_id": "b41dbb46428c433ab5c8f1fb2f9b03c2",
       "version_major": 2,
       "version_minor": 0
      },
      "text/plain": [
       "diffusion sampling:   0%|          | 0/20 [00:00<?, ?it/s]"
      ]
     },
     "metadata": {},
     "output_type": "display_data"
    },
    {
     "data": {
      "application/vnd.jupyter.widget-view+json": {
       "model_id": "8513b61661da4691a1d035d4089a28e8",
       "version_major": 2,
       "version_minor": 0
      },
      "text/plain": [
       "diffusion sampling:   0%|          | 0/20 [00:00<?, ?it/s]"
      ]
     },
     "metadata": {},
     "output_type": "display_data"
    },
    {
     "data": {
      "application/vnd.jupyter.widget-view+json": {
       "model_id": "c3ebacf9b1184b6c92007852666e1849",
       "version_major": 2,
       "version_minor": 0
      },
      "text/plain": [
       "diffusion sampling:   0%|          | 0/20 [00:00<?, ?it/s]"
      ]
     },
     "metadata": {},
     "output_type": "display_data"
    },
    {
     "data": {
      "application/vnd.jupyter.widget-view+json": {
       "model_id": "5fc1ef3c75a140f192796dbe7a1b3cbe",
       "version_major": 2,
       "version_minor": 0
      },
      "text/plain": [
       "diffusion sampling:   0%|          | 0/20 [00:00<?, ?it/s]"
      ]
     },
     "metadata": {},
     "output_type": "display_data"
    },
    {
     "data": {
      "application/vnd.jupyter.widget-view+json": {
       "model_id": "b8a1ec30d6d24b3aacc0d3410f999e50",
       "version_major": 2,
       "version_minor": 0
      },
      "text/plain": [
       "class hypothsis:   0%|          | 0/6 [00:00<?, ?it/s]"
      ]
     },
     "metadata": {},
     "output_type": "display_data"
    },
    {
     "data": {
      "application/vnd.jupyter.widget-view+json": {
       "model_id": "4bd30b25e6d54601acb802594a3ecbb3",
       "version_major": 2,
       "version_minor": 0
      },
      "text/plain": [
       "diffusion sampling:   0%|          | 0/20 [00:00<?, ?it/s]"
      ]
     },
     "metadata": {},
     "output_type": "display_data"
    },
    {
     "data": {
      "application/vnd.jupyter.widget-view+json": {
       "model_id": "1db095fbc4234d549e1cb098d651e58b",
       "version_major": 2,
       "version_minor": 0
      },
      "text/plain": [
       "diffusion sampling:   0%|          | 0/20 [00:00<?, ?it/s]"
      ]
     },
     "metadata": {},
     "output_type": "display_data"
    },
    {
     "data": {
      "application/vnd.jupyter.widget-view+json": {
       "model_id": "34e9b23eaf0a45e4bd07bd707a531936",
       "version_major": 2,
       "version_minor": 0
      },
      "text/plain": [
       "diffusion sampling:   0%|          | 0/20 [00:00<?, ?it/s]"
      ]
     },
     "metadata": {},
     "output_type": "display_data"
    },
    {
     "data": {
      "application/vnd.jupyter.widget-view+json": {
       "model_id": "e4654e4fd4684573b8da67ad20f50824",
       "version_major": 2,
       "version_minor": 0
      },
      "text/plain": [
       "diffusion sampling:   0%|          | 0/20 [00:00<?, ?it/s]"
      ]
     },
     "metadata": {},
     "output_type": "display_data"
    },
    {
     "data": {
      "application/vnd.jupyter.widget-view+json": {
       "model_id": "cde9f3ed51c64f84a17620bd4492e9c7",
       "version_major": 2,
       "version_minor": 0
      },
      "text/plain": [
       "diffusion sampling:   0%|          | 0/20 [00:00<?, ?it/s]"
      ]
     },
     "metadata": {},
     "output_type": "display_data"
    },
    {
     "data": {
      "application/vnd.jupyter.widget-view+json": {
       "model_id": "a31d577a356c4012a59e7cbe26fb2f85",
       "version_major": 2,
       "version_minor": 0
      },
      "text/plain": [
       "diffusion sampling:   0%|          | 0/20 [00:00<?, ?it/s]"
      ]
     },
     "metadata": {},
     "output_type": "display_data"
    },
    {
     "data": {
      "application/vnd.jupyter.widget-view+json": {
       "model_id": "edbd790e20e84746a741f044af510a85",
       "version_major": 2,
       "version_minor": 0
      },
      "text/plain": [
       "class hypothsis:   0%|          | 0/6 [00:00<?, ?it/s]"
      ]
     },
     "metadata": {},
     "output_type": "display_data"
    },
    {
     "data": {
      "application/vnd.jupyter.widget-view+json": {
       "model_id": "1c83f12c02c94758857af2f735e040bc",
       "version_major": 2,
       "version_minor": 0
      },
      "text/plain": [
       "diffusion sampling:   0%|          | 0/20 [00:00<?, ?it/s]"
      ]
     },
     "metadata": {},
     "output_type": "display_data"
    },
    {
     "data": {
      "application/vnd.jupyter.widget-view+json": {
       "model_id": "ed7880564f77482aa02b66e9b1430a8f",
       "version_major": 2,
       "version_minor": 0
      },
      "text/plain": [
       "diffusion sampling:   0%|          | 0/20 [00:00<?, ?it/s]"
      ]
     },
     "metadata": {},
     "output_type": "display_data"
    },
    {
     "data": {
      "application/vnd.jupyter.widget-view+json": {
       "model_id": "8640df61057c482888112dee02c1184b",
       "version_major": 2,
       "version_minor": 0
      },
      "text/plain": [
       "diffusion sampling:   0%|          | 0/20 [00:00<?, ?it/s]"
      ]
     },
     "metadata": {},
     "output_type": "display_data"
    },
    {
     "data": {
      "application/vnd.jupyter.widget-view+json": {
       "model_id": "8f7245a23a9a4fe7a3e96946b089b50a",
       "version_major": 2,
       "version_minor": 0
      },
      "text/plain": [
       "diffusion sampling:   0%|          | 0/20 [00:00<?, ?it/s]"
      ]
     },
     "metadata": {},
     "output_type": "display_data"
    },
    {
     "data": {
      "application/vnd.jupyter.widget-view+json": {
       "model_id": "57cc899996a94104874689f059d99650",
       "version_major": 2,
       "version_minor": 0
      },
      "text/plain": [
       "diffusion sampling:   0%|          | 0/20 [00:00<?, ?it/s]"
      ]
     },
     "metadata": {},
     "output_type": "display_data"
    },
    {
     "data": {
      "application/vnd.jupyter.widget-view+json": {
       "model_id": "cdc8f8b2d2e24fbfaa339ca8ca64e97a",
       "version_major": 2,
       "version_minor": 0
      },
      "text/plain": [
       "diffusion sampling:   0%|          | 0/20 [00:00<?, ?it/s]"
      ]
     },
     "metadata": {},
     "output_type": "display_data"
    },
    {
     "data": {
      "application/vnd.jupyter.widget-view+json": {
       "model_id": "38be02a81aad4943b649c17701564b83",
       "version_major": 2,
       "version_minor": 0
      },
      "text/plain": [
       "class hypothsis:   0%|          | 0/6 [00:00<?, ?it/s]"
      ]
     },
     "metadata": {},
     "output_type": "display_data"
    },
    {
     "data": {
      "application/vnd.jupyter.widget-view+json": {
       "model_id": "67f813b96f5347e796bf2697aa7956ea",
       "version_major": 2,
       "version_minor": 0
      },
      "text/plain": [
       "diffusion sampling:   0%|          | 0/20 [00:00<?, ?it/s]"
      ]
     },
     "metadata": {},
     "output_type": "display_data"
    },
    {
     "data": {
      "application/vnd.jupyter.widget-view+json": {
       "model_id": "634419996a834311952a63c50e6ce979",
       "version_major": 2,
       "version_minor": 0
      },
      "text/plain": [
       "diffusion sampling:   0%|          | 0/20 [00:00<?, ?it/s]"
      ]
     },
     "metadata": {},
     "output_type": "display_data"
    },
    {
     "data": {
      "application/vnd.jupyter.widget-view+json": {
       "model_id": "22edcc0470d94277a609e0fc8fac380a",
       "version_major": 2,
       "version_minor": 0
      },
      "text/plain": [
       "diffusion sampling:   0%|          | 0/20 [00:00<?, ?it/s]"
      ]
     },
     "metadata": {},
     "output_type": "display_data"
    },
    {
     "data": {
      "application/vnd.jupyter.widget-view+json": {
       "model_id": "ec6709d1e87945aabd4c381568495188",
       "version_major": 2,
       "version_minor": 0
      },
      "text/plain": [
       "diffusion sampling:   0%|          | 0/20 [00:00<?, ?it/s]"
      ]
     },
     "metadata": {},
     "output_type": "display_data"
    },
    {
     "data": {
      "application/vnd.jupyter.widget-view+json": {
       "model_id": "8b8a0a3e0d124fe6a684fd8a2b35f69c",
       "version_major": 2,
       "version_minor": 0
      },
      "text/plain": [
       "diffusion sampling:   0%|          | 0/20 [00:00<?, ?it/s]"
      ]
     },
     "metadata": {},
     "output_type": "display_data"
    },
    {
     "data": {
      "application/vnd.jupyter.widget-view+json": {
       "model_id": "9b680daf920f44088a7b7e606c9e47fa",
       "version_major": 2,
       "version_minor": 0
      },
      "text/plain": [
       "diffusion sampling:   0%|          | 0/20 [00:00<?, ?it/s]"
      ]
     },
     "metadata": {},
     "output_type": "display_data"
    },
    {
     "data": {
      "application/vnd.jupyter.widget-view+json": {
       "model_id": "d4020948e32f4e0ca32104e2f504abde",
       "version_major": 2,
       "version_minor": 0
      },
      "text/plain": [
       "class hypothsis:   0%|          | 0/6 [00:00<?, ?it/s]"
      ]
     },
     "metadata": {},
     "output_type": "display_data"
    },
    {
     "data": {
      "application/vnd.jupyter.widget-view+json": {
       "model_id": "4859a9989da0403981cbaa2309cccc01",
       "version_major": 2,
       "version_minor": 0
      },
      "text/plain": [
       "diffusion sampling:   0%|          | 0/20 [00:00<?, ?it/s]"
      ]
     },
     "metadata": {},
     "output_type": "display_data"
    },
    {
     "data": {
      "application/vnd.jupyter.widget-view+json": {
       "model_id": "95af86f7a6e445a18e0d81bed4d74b28",
       "version_major": 2,
       "version_minor": 0
      },
      "text/plain": [
       "diffusion sampling:   0%|          | 0/20 [00:00<?, ?it/s]"
      ]
     },
     "metadata": {},
     "output_type": "display_data"
    },
    {
     "data": {
      "application/vnd.jupyter.widget-view+json": {
       "model_id": "5acb5a2777fa4de19f121c34bc682205",
       "version_major": 2,
       "version_minor": 0
      },
      "text/plain": [
       "diffusion sampling:   0%|          | 0/20 [00:00<?, ?it/s]"
      ]
     },
     "metadata": {},
     "output_type": "display_data"
    },
    {
     "data": {
      "application/vnd.jupyter.widget-view+json": {
       "model_id": "65f2ba3308c5487e8f02285350cf0bae",
       "version_major": 2,
       "version_minor": 0
      },
      "text/plain": [
       "diffusion sampling:   0%|          | 0/20 [00:00<?, ?it/s]"
      ]
     },
     "metadata": {},
     "output_type": "display_data"
    },
    {
     "data": {
      "application/vnd.jupyter.widget-view+json": {
       "model_id": "228f94b32a364dfe92e26d61827df1b2",
       "version_major": 2,
       "version_minor": 0
      },
      "text/plain": [
       "diffusion sampling:   0%|          | 0/20 [00:00<?, ?it/s]"
      ]
     },
     "metadata": {},
     "output_type": "display_data"
    },
    {
     "data": {
      "application/vnd.jupyter.widget-view+json": {
       "model_id": "8b5bb8febee9460589771dfd061c1a40",
       "version_major": 2,
       "version_minor": 0
      },
      "text/plain": [
       "diffusion sampling:   0%|          | 0/20 [00:00<?, ?it/s]"
      ]
     },
     "metadata": {},
     "output_type": "display_data"
    },
    {
     "data": {
      "application/vnd.jupyter.widget-view+json": {
       "model_id": "825c774dcdef4abe9e2090cdcddbb342",
       "version_major": 2,
       "version_minor": 0
      },
      "text/plain": [
       "class hypothsis:   0%|          | 0/6 [00:00<?, ?it/s]"
      ]
     },
     "metadata": {},
     "output_type": "display_data"
    },
    {
     "data": {
      "application/vnd.jupyter.widget-view+json": {
       "model_id": "b598832900b84118887a47b1b2467c76",
       "version_major": 2,
       "version_minor": 0
      },
      "text/plain": [
       "diffusion sampling:   0%|          | 0/20 [00:00<?, ?it/s]"
      ]
     },
     "metadata": {},
     "output_type": "display_data"
    },
    {
     "data": {
      "application/vnd.jupyter.widget-view+json": {
       "model_id": "b2e07d317639487386f37f7a08d5d1bf",
       "version_major": 2,
       "version_minor": 0
      },
      "text/plain": [
       "diffusion sampling:   0%|          | 0/20 [00:00<?, ?it/s]"
      ]
     },
     "metadata": {},
     "output_type": "display_data"
    },
    {
     "data": {
      "application/vnd.jupyter.widget-view+json": {
       "model_id": "a1563de31708427eb11373809b8c0fd4",
       "version_major": 2,
       "version_minor": 0
      },
      "text/plain": [
       "diffusion sampling:   0%|          | 0/20 [00:00<?, ?it/s]"
      ]
     },
     "metadata": {},
     "output_type": "display_data"
    },
    {
     "data": {
      "application/vnd.jupyter.widget-view+json": {
       "model_id": "2490e07e6c3e4a2a8275d8ac7885f019",
       "version_major": 2,
       "version_minor": 0
      },
      "text/plain": [
       "diffusion sampling:   0%|          | 0/20 [00:00<?, ?it/s]"
      ]
     },
     "metadata": {},
     "output_type": "display_data"
    },
    {
     "data": {
      "application/vnd.jupyter.widget-view+json": {
       "model_id": "6662359d43174b869857d40c46b7c6de",
       "version_major": 2,
       "version_minor": 0
      },
      "text/plain": [
       "diffusion sampling:   0%|          | 0/20 [00:00<?, ?it/s]"
      ]
     },
     "metadata": {},
     "output_type": "display_data"
    },
    {
     "data": {
      "application/vnd.jupyter.widget-view+json": {
       "model_id": "6a655f15bf194fbcb71a01a8595b5915",
       "version_major": 2,
       "version_minor": 0
      },
      "text/plain": [
       "diffusion sampling:   0%|          | 0/20 [00:00<?, ?it/s]"
      ]
     },
     "metadata": {},
     "output_type": "display_data"
    },
    {
     "data": {
      "application/vnd.jupyter.widget-view+json": {
       "model_id": "66bf8e3f0d084b9394a0cfa7dde1d22d",
       "version_major": 2,
       "version_minor": 0
      },
      "text/plain": [
       "class hypothsis:   0%|          | 0/6 [00:00<?, ?it/s]"
      ]
     },
     "metadata": {},
     "output_type": "display_data"
    },
    {
     "data": {
      "application/vnd.jupyter.widget-view+json": {
       "model_id": "30987ca9228a4079a95e8728605ac6d3",
       "version_major": 2,
       "version_minor": 0
      },
      "text/plain": [
       "diffusion sampling:   0%|          | 0/20 [00:00<?, ?it/s]"
      ]
     },
     "metadata": {},
     "output_type": "display_data"
    },
    {
     "data": {
      "application/vnd.jupyter.widget-view+json": {
       "model_id": "3a390a91b31148348b738cd7af7fdf70",
       "version_major": 2,
       "version_minor": 0
      },
      "text/plain": [
       "diffusion sampling:   0%|          | 0/20 [00:00<?, ?it/s]"
      ]
     },
     "metadata": {},
     "output_type": "display_data"
    },
    {
     "data": {
      "application/vnd.jupyter.widget-view+json": {
       "model_id": "f12b073dd8294ae98caa1a8f3d1ef965",
       "version_major": 2,
       "version_minor": 0
      },
      "text/plain": [
       "diffusion sampling:   0%|          | 0/20 [00:00<?, ?it/s]"
      ]
     },
     "metadata": {},
     "output_type": "display_data"
    },
    {
     "data": {
      "application/vnd.jupyter.widget-view+json": {
       "model_id": "d8fda5433aca4738be5fba029f66931b",
       "version_major": 2,
       "version_minor": 0
      },
      "text/plain": [
       "diffusion sampling:   0%|          | 0/20 [00:00<?, ?it/s]"
      ]
     },
     "metadata": {},
     "output_type": "display_data"
    },
    {
     "data": {
      "application/vnd.jupyter.widget-view+json": {
       "model_id": "3eb6614405354779862b70fce723d9ae",
       "version_major": 2,
       "version_minor": 0
      },
      "text/plain": [
       "diffusion sampling:   0%|          | 0/20 [00:00<?, ?it/s]"
      ]
     },
     "metadata": {},
     "output_type": "display_data"
    },
    {
     "data": {
      "application/vnd.jupyter.widget-view+json": {
       "model_id": "912925dc6b244e22aefecdacc1a208ad",
       "version_major": 2,
       "version_minor": 0
      },
      "text/plain": [
       "diffusion sampling:   0%|          | 0/20 [00:00<?, ?it/s]"
      ]
     },
     "metadata": {},
     "output_type": "display_data"
    },
    {
     "data": {
      "application/vnd.jupyter.widget-view+json": {
       "model_id": "0c601b4047d64a84be66401eebdbcb19",
       "version_major": 2,
       "version_minor": 0
      },
      "text/plain": [
       "class hypothsis:   0%|          | 0/6 [00:00<?, ?it/s]"
      ]
     },
     "metadata": {},
     "output_type": "display_data"
    },
    {
     "data": {
      "application/vnd.jupyter.widget-view+json": {
       "model_id": "ed660e236bcb47a0a97a3d463e413807",
       "version_major": 2,
       "version_minor": 0
      },
      "text/plain": [
       "diffusion sampling:   0%|          | 0/20 [00:00<?, ?it/s]"
      ]
     },
     "metadata": {},
     "output_type": "display_data"
    },
    {
     "data": {
      "application/vnd.jupyter.widget-view+json": {
       "model_id": "dae54215033d4b4f8b8cec3f8d2cd8fc",
       "version_major": 2,
       "version_minor": 0
      },
      "text/plain": [
       "diffusion sampling:   0%|          | 0/20 [00:00<?, ?it/s]"
      ]
     },
     "metadata": {},
     "output_type": "display_data"
    },
    {
     "data": {
      "application/vnd.jupyter.widget-view+json": {
       "model_id": "71b2d9ddf3494802837099498e2a3fa5",
       "version_major": 2,
       "version_minor": 0
      },
      "text/plain": [
       "diffusion sampling:   0%|          | 0/20 [00:00<?, ?it/s]"
      ]
     },
     "metadata": {},
     "output_type": "display_data"
    },
    {
     "data": {
      "application/vnd.jupyter.widget-view+json": {
       "model_id": "dd810ee2471c4cb498b7e67f52e1abe7",
       "version_major": 2,
       "version_minor": 0
      },
      "text/plain": [
       "diffusion sampling:   0%|          | 0/20 [00:00<?, ?it/s]"
      ]
     },
     "metadata": {},
     "output_type": "display_data"
    },
    {
     "data": {
      "application/vnd.jupyter.widget-view+json": {
       "model_id": "009a5b4af6ed4182a44a9982e575819f",
       "version_major": 2,
       "version_minor": 0
      },
      "text/plain": [
       "diffusion sampling:   0%|          | 0/20 [00:00<?, ?it/s]"
      ]
     },
     "metadata": {},
     "output_type": "display_data"
    },
    {
     "data": {
      "application/vnd.jupyter.widget-view+json": {
       "model_id": "ff14aa35e07e445dbcefa8f53cd5473e",
       "version_major": 2,
       "version_minor": 0
      },
      "text/plain": [
       "diffusion sampling:   0%|          | 0/20 [00:00<?, ?it/s]"
      ]
     },
     "metadata": {},
     "output_type": "display_data"
    },
    {
     "data": {
      "application/vnd.jupyter.widget-view+json": {
       "model_id": "292f7322962a48dbb4a0802cbd322a05",
       "version_major": 2,
       "version_minor": 0
      },
      "text/plain": [
       "class hypothsis:   0%|          | 0/6 [00:00<?, ?it/s]"
      ]
     },
     "metadata": {},
     "output_type": "display_data"
    },
    {
     "data": {
      "application/vnd.jupyter.widget-view+json": {
       "model_id": "b4322b4e33da4536b23cd478fde59b44",
       "version_major": 2,
       "version_minor": 0
      },
      "text/plain": [
       "diffusion sampling:   0%|          | 0/20 [00:00<?, ?it/s]"
      ]
     },
     "metadata": {},
     "output_type": "display_data"
    },
    {
     "data": {
      "application/vnd.jupyter.widget-view+json": {
       "model_id": "1ec647b364264a40bed9d99e6be90cf5",
       "version_major": 2,
       "version_minor": 0
      },
      "text/plain": [
       "diffusion sampling:   0%|          | 0/20 [00:00<?, ?it/s]"
      ]
     },
     "metadata": {},
     "output_type": "display_data"
    },
    {
     "data": {
      "application/vnd.jupyter.widget-view+json": {
       "model_id": "2dd4507402b44e8ea648270d458ec375",
       "version_major": 2,
       "version_minor": 0
      },
      "text/plain": [
       "diffusion sampling:   0%|          | 0/20 [00:00<?, ?it/s]"
      ]
     },
     "metadata": {},
     "output_type": "display_data"
    },
    {
     "data": {
      "application/vnd.jupyter.widget-view+json": {
       "model_id": "a6e81953eb22471782f27b2c7a88cadd",
       "version_major": 2,
       "version_minor": 0
      },
      "text/plain": [
       "diffusion sampling:   0%|          | 0/20 [00:00<?, ?it/s]"
      ]
     },
     "metadata": {},
     "output_type": "display_data"
    },
    {
     "data": {
      "application/vnd.jupyter.widget-view+json": {
       "model_id": "04105803d31d4e5ea10b8dc3fc9b3e0d",
       "version_major": 2,
       "version_minor": 0
      },
      "text/plain": [
       "diffusion sampling:   0%|          | 0/20 [00:00<?, ?it/s]"
      ]
     },
     "metadata": {},
     "output_type": "display_data"
    },
    {
     "data": {
      "application/vnd.jupyter.widget-view+json": {
       "model_id": "9bb0c7a5d8a044bc99dcc50e2b86d781",
       "version_major": 2,
       "version_minor": 0
      },
      "text/plain": [
       "diffusion sampling:   0%|          | 0/20 [00:00<?, ?it/s]"
      ]
     },
     "metadata": {},
     "output_type": "display_data"
    },
    {
     "data": {
      "application/vnd.jupyter.widget-view+json": {
       "model_id": "0a195fc41403437f96d54e39ac56a439",
       "version_major": 2,
       "version_minor": 0
      },
      "text/plain": [
       "class hypothsis:   0%|          | 0/6 [00:00<?, ?it/s]"
      ]
     },
     "metadata": {},
     "output_type": "display_data"
    },
    {
     "data": {
      "application/vnd.jupyter.widget-view+json": {
       "model_id": "c7571f852d2540c49325271207fdc6c2",
       "version_major": 2,
       "version_minor": 0
      },
      "text/plain": [
       "diffusion sampling:   0%|          | 0/20 [00:00<?, ?it/s]"
      ]
     },
     "metadata": {},
     "output_type": "display_data"
    },
    {
     "data": {
      "application/vnd.jupyter.widget-view+json": {
       "model_id": "1c4a9ea9cf604582b4e5809eb6f5b9c7",
       "version_major": 2,
       "version_minor": 0
      },
      "text/plain": [
       "diffusion sampling:   0%|          | 0/20 [00:00<?, ?it/s]"
      ]
     },
     "metadata": {},
     "output_type": "display_data"
    },
    {
     "data": {
      "application/vnd.jupyter.widget-view+json": {
       "model_id": "d9c32d3065774e1ea228ff7f5fe4b393",
       "version_major": 2,
       "version_minor": 0
      },
      "text/plain": [
       "diffusion sampling:   0%|          | 0/20 [00:00<?, ?it/s]"
      ]
     },
     "metadata": {},
     "output_type": "display_data"
    },
    {
     "data": {
      "application/vnd.jupyter.widget-view+json": {
       "model_id": "3d708f90c4ed487ca4490eb86098964e",
       "version_major": 2,
       "version_minor": 0
      },
      "text/plain": [
       "diffusion sampling:   0%|          | 0/20 [00:00<?, ?it/s]"
      ]
     },
     "metadata": {},
     "output_type": "display_data"
    },
    {
     "data": {
      "application/vnd.jupyter.widget-view+json": {
       "model_id": "5e4b25f1b2eb48a69cdfb33618c7334d",
       "version_major": 2,
       "version_minor": 0
      },
      "text/plain": [
       "diffusion sampling:   0%|          | 0/20 [00:00<?, ?it/s]"
      ]
     },
     "metadata": {},
     "output_type": "display_data"
    },
    {
     "data": {
      "application/vnd.jupyter.widget-view+json": {
       "model_id": "bc66a939f4354ed887cf9c11483c705c",
       "version_major": 2,
       "version_minor": 0
      },
      "text/plain": [
       "diffusion sampling:   0%|          | 0/20 [00:00<?, ?it/s]"
      ]
     },
     "metadata": {},
     "output_type": "display_data"
    },
    {
     "data": {
      "application/vnd.jupyter.widget-view+json": {
       "model_id": "6d8df5ea653344c98b0275a14c07e02e",
       "version_major": 2,
       "version_minor": 0
      },
      "text/plain": [
       "class hypothsis:   0%|          | 0/6 [00:00<?, ?it/s]"
      ]
     },
     "metadata": {},
     "output_type": "display_data"
    },
    {
     "data": {
      "application/vnd.jupyter.widget-view+json": {
       "model_id": "f60f2e98328f426180c7b8f70b936895",
       "version_major": 2,
       "version_minor": 0
      },
      "text/plain": [
       "diffusion sampling:   0%|          | 0/20 [00:00<?, ?it/s]"
      ]
     },
     "metadata": {},
     "output_type": "display_data"
    },
    {
     "data": {
      "application/vnd.jupyter.widget-view+json": {
       "model_id": "c6f01e54da734a65a638dfd16f86d60b",
       "version_major": 2,
       "version_minor": 0
      },
      "text/plain": [
       "diffusion sampling:   0%|          | 0/20 [00:00<?, ?it/s]"
      ]
     },
     "metadata": {},
     "output_type": "display_data"
    },
    {
     "data": {
      "application/vnd.jupyter.widget-view+json": {
       "model_id": "9271b34cc474458f894d4ab631600a28",
       "version_major": 2,
       "version_minor": 0
      },
      "text/plain": [
       "diffusion sampling:   0%|          | 0/20 [00:00<?, ?it/s]"
      ]
     },
     "metadata": {},
     "output_type": "display_data"
    },
    {
     "data": {
      "application/vnd.jupyter.widget-view+json": {
       "model_id": "5ee3e00d6d454861849ce25fbd20dabf",
       "version_major": 2,
       "version_minor": 0
      },
      "text/plain": [
       "diffusion sampling:   0%|          | 0/20 [00:00<?, ?it/s]"
      ]
     },
     "metadata": {},
     "output_type": "display_data"
    },
    {
     "data": {
      "application/vnd.jupyter.widget-view+json": {
       "model_id": "58aac164fdce4624b715dfce5fc7bf9c",
       "version_major": 2,
       "version_minor": 0
      },
      "text/plain": [
       "diffusion sampling:   0%|          | 0/20 [00:00<?, ?it/s]"
      ]
     },
     "metadata": {},
     "output_type": "display_data"
    },
    {
     "data": {
      "application/vnd.jupyter.widget-view+json": {
       "model_id": "1350b0c3f7134c83a0688e86252b4214",
       "version_major": 2,
       "version_minor": 0
      },
      "text/plain": [
       "diffusion sampling:   0%|          | 0/20 [00:00<?, ?it/s]"
      ]
     },
     "metadata": {},
     "output_type": "display_data"
    },
    {
     "data": {
      "application/vnd.jupyter.widget-view+json": {
       "model_id": "529b445bdf354210a0d5a67eaa5901e0",
       "version_major": 2,
       "version_minor": 0
      },
      "text/plain": [
       "class hypothsis:   0%|          | 0/6 [00:00<?, ?it/s]"
      ]
     },
     "metadata": {},
     "output_type": "display_data"
    },
    {
     "data": {
      "application/vnd.jupyter.widget-view+json": {
       "model_id": "256c0a10c49b4ebb9f09bd457bc2b21d",
       "version_major": 2,
       "version_minor": 0
      },
      "text/plain": [
       "diffusion sampling:   0%|          | 0/20 [00:00<?, ?it/s]"
      ]
     },
     "metadata": {},
     "output_type": "display_data"
    },
    {
     "data": {
      "application/vnd.jupyter.widget-view+json": {
       "model_id": "4b5711aa4164415fa4dc4b52db4698d6",
       "version_major": 2,
       "version_minor": 0
      },
      "text/plain": [
       "diffusion sampling:   0%|          | 0/20 [00:00<?, ?it/s]"
      ]
     },
     "metadata": {},
     "output_type": "display_data"
    },
    {
     "data": {
      "application/vnd.jupyter.widget-view+json": {
       "model_id": "ea3bac53bd514a1382b1b4abd6e6630d",
       "version_major": 2,
       "version_minor": 0
      },
      "text/plain": [
       "diffusion sampling:   0%|          | 0/20 [00:00<?, ?it/s]"
      ]
     },
     "metadata": {},
     "output_type": "display_data"
    },
    {
     "data": {
      "application/vnd.jupyter.widget-view+json": {
       "model_id": "b537bd08ccc74a95a58e3a4ca15eeddd",
       "version_major": 2,
       "version_minor": 0
      },
      "text/plain": [
       "diffusion sampling:   0%|          | 0/20 [00:00<?, ?it/s]"
      ]
     },
     "metadata": {},
     "output_type": "display_data"
    },
    {
     "data": {
      "application/vnd.jupyter.widget-view+json": {
       "model_id": "e45736e4446d4adaa866ebf62244bd13",
       "version_major": 2,
       "version_minor": 0
      },
      "text/plain": [
       "diffusion sampling:   0%|          | 0/20 [00:00<?, ?it/s]"
      ]
     },
     "metadata": {},
     "output_type": "display_data"
    },
    {
     "data": {
      "application/vnd.jupyter.widget-view+json": {
       "model_id": "7427de4b44eb4ef5adff179bf192cc3d",
       "version_major": 2,
       "version_minor": 0
      },
      "text/plain": [
       "diffusion sampling:   0%|          | 0/20 [00:00<?, ?it/s]"
      ]
     },
     "metadata": {},
     "output_type": "display_data"
    },
    {
     "data": {
      "application/vnd.jupyter.widget-view+json": {
       "model_id": "e56b1af83e564a95b3f66a7f4e129799",
       "version_major": 2,
       "version_minor": 0
      },
      "text/plain": [
       "class hypothsis:   0%|          | 0/6 [00:00<?, ?it/s]"
      ]
     },
     "metadata": {},
     "output_type": "display_data"
    },
    {
     "data": {
      "application/vnd.jupyter.widget-view+json": {
       "model_id": "0bfc5232dfdc44d9a36926e77fec1767",
       "version_major": 2,
       "version_minor": 0
      },
      "text/plain": [
       "diffusion sampling:   0%|          | 0/20 [00:00<?, ?it/s]"
      ]
     },
     "metadata": {},
     "output_type": "display_data"
    },
    {
     "data": {
      "application/vnd.jupyter.widget-view+json": {
       "model_id": "9976a98213f346168c66f852df15a300",
       "version_major": 2,
       "version_minor": 0
      },
      "text/plain": [
       "diffusion sampling:   0%|          | 0/20 [00:00<?, ?it/s]"
      ]
     },
     "metadata": {},
     "output_type": "display_data"
    },
    {
     "data": {
      "application/vnd.jupyter.widget-view+json": {
       "model_id": "98248e67b71448f48e378ad232ddd16e",
       "version_major": 2,
       "version_minor": 0
      },
      "text/plain": [
       "diffusion sampling:   0%|          | 0/20 [00:00<?, ?it/s]"
      ]
     },
     "metadata": {},
     "output_type": "display_data"
    },
    {
     "data": {
      "application/vnd.jupyter.widget-view+json": {
       "model_id": "f2d1888f7a744be08a2a90e432aaad1b",
       "version_major": 2,
       "version_minor": 0
      },
      "text/plain": [
       "diffusion sampling:   0%|          | 0/20 [00:00<?, ?it/s]"
      ]
     },
     "metadata": {},
     "output_type": "display_data"
    },
    {
     "data": {
      "application/vnd.jupyter.widget-view+json": {
       "model_id": "b9c441c16fe64976b5f2f4a62a498605",
       "version_major": 2,
       "version_minor": 0
      },
      "text/plain": [
       "diffusion sampling:   0%|          | 0/20 [00:00<?, ?it/s]"
      ]
     },
     "metadata": {},
     "output_type": "display_data"
    },
    {
     "data": {
      "application/vnd.jupyter.widget-view+json": {
       "model_id": "bc06846aa2974f8c9acbf7d0bd2293a7",
       "version_major": 2,
       "version_minor": 0
      },
      "text/plain": [
       "diffusion sampling:   0%|          | 0/20 [00:00<?, ?it/s]"
      ]
     },
     "metadata": {},
     "output_type": "display_data"
    },
    {
     "data": {
      "application/vnd.jupyter.widget-view+json": {
       "model_id": "500b7da1231e4a7c8844ce952721fc96",
       "version_major": 2,
       "version_minor": 0
      },
      "text/plain": [
       "class hypothsis:   0%|          | 0/6 [00:00<?, ?it/s]"
      ]
     },
     "metadata": {},
     "output_type": "display_data"
    },
    {
     "data": {
      "application/vnd.jupyter.widget-view+json": {
       "model_id": "12e8a2eefa73467a9407e16213d10b23",
       "version_major": 2,
       "version_minor": 0
      },
      "text/plain": [
       "diffusion sampling:   0%|          | 0/20 [00:00<?, ?it/s]"
      ]
     },
     "metadata": {},
     "output_type": "display_data"
    },
    {
     "data": {
      "application/vnd.jupyter.widget-view+json": {
       "model_id": "2b1eaa9c896b4f7f99ec44fee6063b34",
       "version_major": 2,
       "version_minor": 0
      },
      "text/plain": [
       "diffusion sampling:   0%|          | 0/20 [00:00<?, ?it/s]"
      ]
     },
     "metadata": {},
     "output_type": "display_data"
    },
    {
     "data": {
      "application/vnd.jupyter.widget-view+json": {
       "model_id": "ecb51552e7394493ae68cfd6227f74e1",
       "version_major": 2,
       "version_minor": 0
      },
      "text/plain": [
       "diffusion sampling:   0%|          | 0/20 [00:00<?, ?it/s]"
      ]
     },
     "metadata": {},
     "output_type": "display_data"
    },
    {
     "data": {
      "application/vnd.jupyter.widget-view+json": {
       "model_id": "b116e1f70e3b47c8b2f82df32f8fba2d",
       "version_major": 2,
       "version_minor": 0
      },
      "text/plain": [
       "diffusion sampling:   0%|          | 0/20 [00:00<?, ?it/s]"
      ]
     },
     "metadata": {},
     "output_type": "display_data"
    },
    {
     "data": {
      "application/vnd.jupyter.widget-view+json": {
       "model_id": "09bab713065a4b4da1844271b44b6b0c",
       "version_major": 2,
       "version_minor": 0
      },
      "text/plain": [
       "diffusion sampling:   0%|          | 0/20 [00:00<?, ?it/s]"
      ]
     },
     "metadata": {},
     "output_type": "display_data"
    },
    {
     "data": {
      "application/vnd.jupyter.widget-view+json": {
       "model_id": "cca6e5f919f548c594c16881cdce2fce",
       "version_major": 2,
       "version_minor": 0
      },
      "text/plain": [
       "diffusion sampling:   0%|          | 0/20 [00:00<?, ?it/s]"
      ]
     },
     "metadata": {},
     "output_type": "display_data"
    },
    {
     "data": {
      "application/vnd.jupyter.widget-view+json": {
       "model_id": "8b7b2a4b89db447e9ce953ce7d29c983",
       "version_major": 2,
       "version_minor": 0
      },
      "text/plain": [
       "class hypothsis:   0%|          | 0/6 [00:00<?, ?it/s]"
      ]
     },
     "metadata": {},
     "output_type": "display_data"
    },
    {
     "data": {
      "application/vnd.jupyter.widget-view+json": {
       "model_id": "002d3e9927d345a0b13ba436e2f6eaf6",
       "version_major": 2,
       "version_minor": 0
      },
      "text/plain": [
       "diffusion sampling:   0%|          | 0/20 [00:00<?, ?it/s]"
      ]
     },
     "metadata": {},
     "output_type": "display_data"
    },
    {
     "data": {
      "application/vnd.jupyter.widget-view+json": {
       "model_id": "a75cdd07712c4001bc2419637d07940c",
       "version_major": 2,
       "version_minor": 0
      },
      "text/plain": [
       "diffusion sampling:   0%|          | 0/20 [00:00<?, ?it/s]"
      ]
     },
     "metadata": {},
     "output_type": "display_data"
    },
    {
     "data": {
      "application/vnd.jupyter.widget-view+json": {
       "model_id": "dbc2cc9bc75044908ed6390fbd927040",
       "version_major": 2,
       "version_minor": 0
      },
      "text/plain": [
       "diffusion sampling:   0%|          | 0/20 [00:00<?, ?it/s]"
      ]
     },
     "metadata": {},
     "output_type": "display_data"
    },
    {
     "data": {
      "application/vnd.jupyter.widget-view+json": {
       "model_id": "ff15dace379f49e7a4ee823d63ae0673",
       "version_major": 2,
       "version_minor": 0
      },
      "text/plain": [
       "diffusion sampling:   0%|          | 0/20 [00:00<?, ?it/s]"
      ]
     },
     "metadata": {},
     "output_type": "display_data"
    },
    {
     "data": {
      "application/vnd.jupyter.widget-view+json": {
       "model_id": "1aa1611723ac42749539f2c015d470b5",
       "version_major": 2,
       "version_minor": 0
      },
      "text/plain": [
       "diffusion sampling:   0%|          | 0/20 [00:00<?, ?it/s]"
      ]
     },
     "metadata": {},
     "output_type": "display_data"
    },
    {
     "data": {
      "application/vnd.jupyter.widget-view+json": {
       "model_id": "25e6818c98c543a6a123481374120587",
       "version_major": 2,
       "version_minor": 0
      },
      "text/plain": [
       "diffusion sampling:   0%|          | 0/20 [00:00<?, ?it/s]"
      ]
     },
     "metadata": {},
     "output_type": "display_data"
    },
    {
     "data": {
      "application/vnd.jupyter.widget-view+json": {
       "model_id": "ed59e93eacf34fc792920a381ab268b5",
       "version_major": 2,
       "version_minor": 0
      },
      "text/plain": [
       "class hypothsis:   0%|          | 0/6 [00:00<?, ?it/s]"
      ]
     },
     "metadata": {},
     "output_type": "display_data"
    },
    {
     "data": {
      "application/vnd.jupyter.widget-view+json": {
       "model_id": "790c3acf14f648dc96f22d902d08fff4",
       "version_major": 2,
       "version_minor": 0
      },
      "text/plain": [
       "diffusion sampling:   0%|          | 0/20 [00:00<?, ?it/s]"
      ]
     },
     "metadata": {},
     "output_type": "display_data"
    },
    {
     "data": {
      "application/vnd.jupyter.widget-view+json": {
       "model_id": "33865b78198b41e790e590f1dcf1c980",
       "version_major": 2,
       "version_minor": 0
      },
      "text/plain": [
       "diffusion sampling:   0%|          | 0/20 [00:00<?, ?it/s]"
      ]
     },
     "metadata": {},
     "output_type": "display_data"
    },
    {
     "data": {
      "application/vnd.jupyter.widget-view+json": {
       "model_id": "186ed585647f4d979254e57f1b16af56",
       "version_major": 2,
       "version_minor": 0
      },
      "text/plain": [
       "diffusion sampling:   0%|          | 0/20 [00:00<?, ?it/s]"
      ]
     },
     "metadata": {},
     "output_type": "display_data"
    },
    {
     "data": {
      "application/vnd.jupyter.widget-view+json": {
       "model_id": "fc504c575ec2480b8d700ea26d0b090b",
       "version_major": 2,
       "version_minor": 0
      },
      "text/plain": [
       "diffusion sampling:   0%|          | 0/20 [00:00<?, ?it/s]"
      ]
     },
     "metadata": {},
     "output_type": "display_data"
    },
    {
     "data": {
      "application/vnd.jupyter.widget-view+json": {
       "model_id": "ab967722f3914c12b06a3502c9e3c7ef",
       "version_major": 2,
       "version_minor": 0
      },
      "text/plain": [
       "diffusion sampling:   0%|          | 0/20 [00:00<?, ?it/s]"
      ]
     },
     "metadata": {},
     "output_type": "display_data"
    },
    {
     "data": {
      "application/vnd.jupyter.widget-view+json": {
       "model_id": "6fac2fe5caab49a5abd7ccdc76a47527",
       "version_major": 2,
       "version_minor": 0
      },
      "text/plain": [
       "diffusion sampling:   0%|          | 0/20 [00:00<?, ?it/s]"
      ]
     },
     "metadata": {},
     "output_type": "display_data"
    },
    {
     "data": {
      "application/vnd.jupyter.widget-view+json": {
       "model_id": "003f8c523c254223b44c22e867782104",
       "version_major": 2,
       "version_minor": 0
      },
      "text/plain": [
       "class hypothsis:   0%|          | 0/6 [00:00<?, ?it/s]"
      ]
     },
     "metadata": {},
     "output_type": "display_data"
    },
    {
     "data": {
      "application/vnd.jupyter.widget-view+json": {
       "model_id": "13ca9e23e780457c8dd54e2c2227d347",
       "version_major": 2,
       "version_minor": 0
      },
      "text/plain": [
       "diffusion sampling:   0%|          | 0/20 [00:00<?, ?it/s]"
      ]
     },
     "metadata": {},
     "output_type": "display_data"
    },
    {
     "data": {
      "application/vnd.jupyter.widget-view+json": {
       "model_id": "e912e9f7ee644010b6267b0c508e97a2",
       "version_major": 2,
       "version_minor": 0
      },
      "text/plain": [
       "diffusion sampling:   0%|          | 0/20 [00:00<?, ?it/s]"
      ]
     },
     "metadata": {},
     "output_type": "display_data"
    },
    {
     "data": {
      "application/vnd.jupyter.widget-view+json": {
       "model_id": "40aa108efeba45c3a858b62b0e19a666",
       "version_major": 2,
       "version_minor": 0
      },
      "text/plain": [
       "diffusion sampling:   0%|          | 0/20 [00:00<?, ?it/s]"
      ]
     },
     "metadata": {},
     "output_type": "display_data"
    },
    {
     "data": {
      "application/vnd.jupyter.widget-view+json": {
       "model_id": "0594ce08ec4a4409852fb6bf79154453",
       "version_major": 2,
       "version_minor": 0
      },
      "text/plain": [
       "diffusion sampling:   0%|          | 0/20 [00:00<?, ?it/s]"
      ]
     },
     "metadata": {},
     "output_type": "display_data"
    },
    {
     "data": {
      "application/vnd.jupyter.widget-view+json": {
       "model_id": "4a4ec509ddce442aaa5d16b883aedcae",
       "version_major": 2,
       "version_minor": 0
      },
      "text/plain": [
       "diffusion sampling:   0%|          | 0/20 [00:00<?, ?it/s]"
      ]
     },
     "metadata": {},
     "output_type": "display_data"
    },
    {
     "data": {
      "application/vnd.jupyter.widget-view+json": {
       "model_id": "877886f0939f4efb8c86e960f01077ca",
       "version_major": 2,
       "version_minor": 0
      },
      "text/plain": [
       "diffusion sampling:   0%|          | 0/20 [00:00<?, ?it/s]"
      ]
     },
     "metadata": {},
     "output_type": "display_data"
    },
    {
     "data": {
      "application/vnd.jupyter.widget-view+json": {
       "model_id": "82ebed8736b2477792c04ebc245bcd73",
       "version_major": 2,
       "version_minor": 0
      },
      "text/plain": [
       "class hypothsis:   0%|          | 0/6 [00:00<?, ?it/s]"
      ]
     },
     "metadata": {},
     "output_type": "display_data"
    },
    {
     "data": {
      "application/vnd.jupyter.widget-view+json": {
       "model_id": "cd9f71b32c9645b3923b0e5f610f20b7",
       "version_major": 2,
       "version_minor": 0
      },
      "text/plain": [
       "diffusion sampling:   0%|          | 0/20 [00:00<?, ?it/s]"
      ]
     },
     "metadata": {},
     "output_type": "display_data"
    },
    {
     "data": {
      "application/vnd.jupyter.widget-view+json": {
       "model_id": "ad8c231415c04f3abe4c16d1b118225c",
       "version_major": 2,
       "version_minor": 0
      },
      "text/plain": [
       "diffusion sampling:   0%|          | 0/20 [00:00<?, ?it/s]"
      ]
     },
     "metadata": {},
     "output_type": "display_data"
    },
    {
     "data": {
      "application/vnd.jupyter.widget-view+json": {
       "model_id": "60faff8332c949b484f56c49814be09f",
       "version_major": 2,
       "version_minor": 0
      },
      "text/plain": [
       "diffusion sampling:   0%|          | 0/20 [00:00<?, ?it/s]"
      ]
     },
     "metadata": {},
     "output_type": "display_data"
    },
    {
     "data": {
      "application/vnd.jupyter.widget-view+json": {
       "model_id": "a015e27c83e84da3930cec2a944e0948",
       "version_major": 2,
       "version_minor": 0
      },
      "text/plain": [
       "diffusion sampling:   0%|          | 0/20 [00:00<?, ?it/s]"
      ]
     },
     "metadata": {},
     "output_type": "display_data"
    },
    {
     "data": {
      "application/vnd.jupyter.widget-view+json": {
       "model_id": "6f6ca60da8394bb3a5da3733daac02f5",
       "version_major": 2,
       "version_minor": 0
      },
      "text/plain": [
       "diffusion sampling:   0%|          | 0/20 [00:00<?, ?it/s]"
      ]
     },
     "metadata": {},
     "output_type": "display_data"
    },
    {
     "data": {
      "application/vnd.jupyter.widget-view+json": {
       "model_id": "d1429e8185594a82b3b3b76911ad39d2",
       "version_major": 2,
       "version_minor": 0
      },
      "text/plain": [
       "diffusion sampling:   0%|          | 0/20 [00:00<?, ?it/s]"
      ]
     },
     "metadata": {},
     "output_type": "display_data"
    },
    {
     "data": {
      "application/vnd.jupyter.widget-view+json": {
       "model_id": "063e5e421d07401491ff3f0ceea204ab",
       "version_major": 2,
       "version_minor": 0
      },
      "text/plain": [
       "class hypothsis:   0%|          | 0/6 [00:00<?, ?it/s]"
      ]
     },
     "metadata": {},
     "output_type": "display_data"
    },
    {
     "data": {
      "application/vnd.jupyter.widget-view+json": {
       "model_id": "adcf196360544588bd5720ffc982dab0",
       "version_major": 2,
       "version_minor": 0
      },
      "text/plain": [
       "diffusion sampling:   0%|          | 0/20 [00:00<?, ?it/s]"
      ]
     },
     "metadata": {},
     "output_type": "display_data"
    },
    {
     "data": {
      "application/vnd.jupyter.widget-view+json": {
       "model_id": "cf392e86dc6f4311b0294af51e6a88fc",
       "version_major": 2,
       "version_minor": 0
      },
      "text/plain": [
       "diffusion sampling:   0%|          | 0/20 [00:00<?, ?it/s]"
      ]
     },
     "metadata": {},
     "output_type": "display_data"
    },
    {
     "data": {
      "application/vnd.jupyter.widget-view+json": {
       "model_id": "d75fecdaa2eb4e86a07a416abe9f38e2",
       "version_major": 2,
       "version_minor": 0
      },
      "text/plain": [
       "diffusion sampling:   0%|          | 0/20 [00:00<?, ?it/s]"
      ]
     },
     "metadata": {},
     "output_type": "display_data"
    },
    {
     "data": {
      "application/vnd.jupyter.widget-view+json": {
       "model_id": "862e514c063841779d98b10c34dd97c1",
       "version_major": 2,
       "version_minor": 0
      },
      "text/plain": [
       "diffusion sampling:   0%|          | 0/20 [00:00<?, ?it/s]"
      ]
     },
     "metadata": {},
     "output_type": "display_data"
    },
    {
     "data": {
      "application/vnd.jupyter.widget-view+json": {
       "model_id": "eba0acddc20c427e9bb20e8b0e02bafd",
       "version_major": 2,
       "version_minor": 0
      },
      "text/plain": [
       "diffusion sampling:   0%|          | 0/20 [00:00<?, ?it/s]"
      ]
     },
     "metadata": {},
     "output_type": "display_data"
    },
    {
     "data": {
      "application/vnd.jupyter.widget-view+json": {
       "model_id": "3a4f34f0fffc4f3bbe5a7c3c1842f9a7",
       "version_major": 2,
       "version_minor": 0
      },
      "text/plain": [
       "diffusion sampling:   0%|          | 0/20 [00:00<?, ?it/s]"
      ]
     },
     "metadata": {},
     "output_type": "display_data"
    },
    {
     "data": {
      "application/vnd.jupyter.widget-view+json": {
       "model_id": "f3b469ef1cde4b0b99fc30086474c7de",
       "version_major": 2,
       "version_minor": 0
      },
      "text/plain": [
       "class hypothsis:   0%|          | 0/6 [00:00<?, ?it/s]"
      ]
     },
     "metadata": {},
     "output_type": "display_data"
    },
    {
     "data": {
      "application/vnd.jupyter.widget-view+json": {
       "model_id": "b20d374c0b084e8dabbaf4cac359c53d",
       "version_major": 2,
       "version_minor": 0
      },
      "text/plain": [
       "diffusion sampling:   0%|          | 0/20 [00:00<?, ?it/s]"
      ]
     },
     "metadata": {},
     "output_type": "display_data"
    },
    {
     "data": {
      "application/vnd.jupyter.widget-view+json": {
       "model_id": "56d9e440662749e1974a620aaedfd54b",
       "version_major": 2,
       "version_minor": 0
      },
      "text/plain": [
       "diffusion sampling:   0%|          | 0/20 [00:00<?, ?it/s]"
      ]
     },
     "metadata": {},
     "output_type": "display_data"
    },
    {
     "data": {
      "application/vnd.jupyter.widget-view+json": {
       "model_id": "c55e37897ef046bfa7241ea5fdaab02c",
       "version_major": 2,
       "version_minor": 0
      },
      "text/plain": [
       "diffusion sampling:   0%|          | 0/20 [00:00<?, ?it/s]"
      ]
     },
     "metadata": {},
     "output_type": "display_data"
    },
    {
     "data": {
      "application/vnd.jupyter.widget-view+json": {
       "model_id": "6d6c748e282c4b95a4c7155a88b5ece4",
       "version_major": 2,
       "version_minor": 0
      },
      "text/plain": [
       "diffusion sampling:   0%|          | 0/20 [00:00<?, ?it/s]"
      ]
     },
     "metadata": {},
     "output_type": "display_data"
    },
    {
     "data": {
      "application/vnd.jupyter.widget-view+json": {
       "model_id": "a6bdd7a1e42342c0bd5cf4db6aecebc0",
       "version_major": 2,
       "version_minor": 0
      },
      "text/plain": [
       "diffusion sampling:   0%|          | 0/20 [00:00<?, ?it/s]"
      ]
     },
     "metadata": {},
     "output_type": "display_data"
    },
    {
     "data": {
      "application/vnd.jupyter.widget-view+json": {
       "model_id": "eced8c9ac85e42be96510f846041707f",
       "version_major": 2,
       "version_minor": 0
      },
      "text/plain": [
       "diffusion sampling:   0%|          | 0/20 [00:00<?, ?it/s]"
      ]
     },
     "metadata": {},
     "output_type": "display_data"
    },
    {
     "data": {
      "application/vnd.jupyter.widget-view+json": {
       "model_id": "a4668175d70c489599af63cd46ca2232",
       "version_major": 2,
       "version_minor": 0
      },
      "text/plain": [
       "class hypothsis:   0%|          | 0/6 [00:00<?, ?it/s]"
      ]
     },
     "metadata": {},
     "output_type": "display_data"
    },
    {
     "data": {
      "application/vnd.jupyter.widget-view+json": {
       "model_id": "8f4f6e412c6c4277a84eca8405877d28",
       "version_major": 2,
       "version_minor": 0
      },
      "text/plain": [
       "diffusion sampling:   0%|          | 0/20 [00:00<?, ?it/s]"
      ]
     },
     "metadata": {},
     "output_type": "display_data"
    },
    {
     "data": {
      "application/vnd.jupyter.widget-view+json": {
       "model_id": "fc87409c30b842b3a45fd2bc686c7ef9",
       "version_major": 2,
       "version_minor": 0
      },
      "text/plain": [
       "diffusion sampling:   0%|          | 0/20 [00:00<?, ?it/s]"
      ]
     },
     "metadata": {},
     "output_type": "display_data"
    },
    {
     "data": {
      "application/vnd.jupyter.widget-view+json": {
       "model_id": "fdcd604e496a4df8901f99bb31ca3835",
       "version_major": 2,
       "version_minor": 0
      },
      "text/plain": [
       "diffusion sampling:   0%|          | 0/20 [00:00<?, ?it/s]"
      ]
     },
     "metadata": {},
     "output_type": "display_data"
    },
    {
     "data": {
      "application/vnd.jupyter.widget-view+json": {
       "model_id": "03663e2a2531436c8b6f47e936846feb",
       "version_major": 2,
       "version_minor": 0
      },
      "text/plain": [
       "diffusion sampling:   0%|          | 0/20 [00:00<?, ?it/s]"
      ]
     },
     "metadata": {},
     "output_type": "display_data"
    },
    {
     "data": {
      "application/vnd.jupyter.widget-view+json": {
       "model_id": "54a27b88e3a948b5a71f164ecac2ea77",
       "version_major": 2,
       "version_minor": 0
      },
      "text/plain": [
       "diffusion sampling:   0%|          | 0/20 [00:00<?, ?it/s]"
      ]
     },
     "metadata": {},
     "output_type": "display_data"
    },
    {
     "data": {
      "application/vnd.jupyter.widget-view+json": {
       "model_id": "d3d8dd5e4cd2459dad16739cf6f458bc",
       "version_major": 2,
       "version_minor": 0
      },
      "text/plain": [
       "diffusion sampling:   0%|          | 0/20 [00:00<?, ?it/s]"
      ]
     },
     "metadata": {},
     "output_type": "display_data"
    },
    {
     "data": {
      "application/vnd.jupyter.widget-view+json": {
       "model_id": "5021c404fa8e47dab8d2d2a59d037e53",
       "version_major": 2,
       "version_minor": 0
      },
      "text/plain": [
       "class hypothsis:   0%|          | 0/6 [00:00<?, ?it/s]"
      ]
     },
     "metadata": {},
     "output_type": "display_data"
    },
    {
     "data": {
      "application/vnd.jupyter.widget-view+json": {
       "model_id": "525c1e76f6164c1ab7832b230577532a",
       "version_major": 2,
       "version_minor": 0
      },
      "text/plain": [
       "diffusion sampling:   0%|          | 0/20 [00:00<?, ?it/s]"
      ]
     },
     "metadata": {},
     "output_type": "display_data"
    },
    {
     "data": {
      "application/vnd.jupyter.widget-view+json": {
       "model_id": "501d0ee1e9cd45198484d6f653d6ce14",
       "version_major": 2,
       "version_minor": 0
      },
      "text/plain": [
       "diffusion sampling:   0%|          | 0/20 [00:00<?, ?it/s]"
      ]
     },
     "metadata": {},
     "output_type": "display_data"
    },
    {
     "data": {
      "application/vnd.jupyter.widget-view+json": {
       "model_id": "04f703f9d25f4ccd9e80f6ebac7520eb",
       "version_major": 2,
       "version_minor": 0
      },
      "text/plain": [
       "diffusion sampling:   0%|          | 0/20 [00:00<?, ?it/s]"
      ]
     },
     "metadata": {},
     "output_type": "display_data"
    },
    {
     "data": {
      "application/vnd.jupyter.widget-view+json": {
       "model_id": "62d8986321b044f1b953d9da7a74aa4b",
       "version_major": 2,
       "version_minor": 0
      },
      "text/plain": [
       "diffusion sampling:   0%|          | 0/20 [00:00<?, ?it/s]"
      ]
     },
     "metadata": {},
     "output_type": "display_data"
    },
    {
     "data": {
      "application/vnd.jupyter.widget-view+json": {
       "model_id": "06b802c5489b41689a6d5d5f8a271c29",
       "version_major": 2,
       "version_minor": 0
      },
      "text/plain": [
       "diffusion sampling:   0%|          | 0/20 [00:00<?, ?it/s]"
      ]
     },
     "metadata": {},
     "output_type": "display_data"
    },
    {
     "data": {
      "application/vnd.jupyter.widget-view+json": {
       "model_id": "dd7bb29d93ef4dccbcb501408200390e",
       "version_major": 2,
       "version_minor": 0
      },
      "text/plain": [
       "diffusion sampling:   0%|          | 0/20 [00:00<?, ?it/s]"
      ]
     },
     "metadata": {},
     "output_type": "display_data"
    },
    {
     "data": {
      "application/vnd.jupyter.widget-view+json": {
       "model_id": "cfd2462b7c5a44ad9970ba6643d3b25d",
       "version_major": 2,
       "version_minor": 0
      },
      "text/plain": [
       "class hypothsis:   0%|          | 0/6 [00:00<?, ?it/s]"
      ]
     },
     "metadata": {},
     "output_type": "display_data"
    },
    {
     "data": {
      "application/vnd.jupyter.widget-view+json": {
       "model_id": "98b0a476716748bd9673382402cdb78f",
       "version_major": 2,
       "version_minor": 0
      },
      "text/plain": [
       "diffusion sampling:   0%|          | 0/20 [00:00<?, ?it/s]"
      ]
     },
     "metadata": {},
     "output_type": "display_data"
    },
    {
     "data": {
      "application/vnd.jupyter.widget-view+json": {
       "model_id": "491adbb097204764acf733e94fb72d75",
       "version_major": 2,
       "version_minor": 0
      },
      "text/plain": [
       "diffusion sampling:   0%|          | 0/20 [00:00<?, ?it/s]"
      ]
     },
     "metadata": {},
     "output_type": "display_data"
    },
    {
     "data": {
      "application/vnd.jupyter.widget-view+json": {
       "model_id": "940d017bc170411ca03c54a4ba03abe5",
       "version_major": 2,
       "version_minor": 0
      },
      "text/plain": [
       "diffusion sampling:   0%|          | 0/20 [00:00<?, ?it/s]"
      ]
     },
     "metadata": {},
     "output_type": "display_data"
    },
    {
     "data": {
      "application/vnd.jupyter.widget-view+json": {
       "model_id": "e309847307074816b39887d72294ade5",
       "version_major": 2,
       "version_minor": 0
      },
      "text/plain": [
       "diffusion sampling:   0%|          | 0/20 [00:00<?, ?it/s]"
      ]
     },
     "metadata": {},
     "output_type": "display_data"
    },
    {
     "data": {
      "application/vnd.jupyter.widget-view+json": {
       "model_id": "cec2fee91615495aa195d8d335087ecb",
       "version_major": 2,
       "version_minor": 0
      },
      "text/plain": [
       "diffusion sampling:   0%|          | 0/20 [00:00<?, ?it/s]"
      ]
     },
     "metadata": {},
     "output_type": "display_data"
    },
    {
     "data": {
      "application/vnd.jupyter.widget-view+json": {
       "model_id": "96dfa87379624989b7a9a38a7f06ee26",
       "version_major": 2,
       "version_minor": 0
      },
      "text/plain": [
       "diffusion sampling:   0%|          | 0/20 [00:00<?, ?it/s]"
      ]
     },
     "metadata": {},
     "output_type": "display_data"
    },
    {
     "data": {
      "application/vnd.jupyter.widget-view+json": {
       "model_id": "84bbcdab91f94f8a851cce5ffaf84cda",
       "version_major": 2,
       "version_minor": 0
      },
      "text/plain": [
       "class hypothsis:   0%|          | 0/6 [00:00<?, ?it/s]"
      ]
     },
     "metadata": {},
     "output_type": "display_data"
    },
    {
     "data": {
      "application/vnd.jupyter.widget-view+json": {
       "model_id": "76c3962d7623462783bcb543b58ff599",
       "version_major": 2,
       "version_minor": 0
      },
      "text/plain": [
       "diffusion sampling:   0%|          | 0/20 [00:00<?, ?it/s]"
      ]
     },
     "metadata": {},
     "output_type": "display_data"
    },
    {
     "data": {
      "application/vnd.jupyter.widget-view+json": {
       "model_id": "44c14abb75b04b74a8aebceb6d7c4218",
       "version_major": 2,
       "version_minor": 0
      },
      "text/plain": [
       "diffusion sampling:   0%|          | 0/20 [00:00<?, ?it/s]"
      ]
     },
     "metadata": {},
     "output_type": "display_data"
    },
    {
     "data": {
      "application/vnd.jupyter.widget-view+json": {
       "model_id": "45505521143b43d69c8a0a84515865fc",
       "version_major": 2,
       "version_minor": 0
      },
      "text/plain": [
       "diffusion sampling:   0%|          | 0/20 [00:00<?, ?it/s]"
      ]
     },
     "metadata": {},
     "output_type": "display_data"
    },
    {
     "data": {
      "application/vnd.jupyter.widget-view+json": {
       "model_id": "f714c9422e0c4e92a6b703203bc8761e",
       "version_major": 2,
       "version_minor": 0
      },
      "text/plain": [
       "diffusion sampling:   0%|          | 0/20 [00:00<?, ?it/s]"
      ]
     },
     "metadata": {},
     "output_type": "display_data"
    },
    {
     "data": {
      "application/vnd.jupyter.widget-view+json": {
       "model_id": "48ade8e60fd3440881f9f00c6b794be6",
       "version_major": 2,
       "version_minor": 0
      },
      "text/plain": [
       "diffusion sampling:   0%|          | 0/20 [00:00<?, ?it/s]"
      ]
     },
     "metadata": {},
     "output_type": "display_data"
    },
    {
     "data": {
      "application/vnd.jupyter.widget-view+json": {
       "model_id": "34d93a69323c49159676a0e1cd1b9ad1",
       "version_major": 2,
       "version_minor": 0
      },
      "text/plain": [
       "diffusion sampling:   0%|          | 0/20 [00:00<?, ?it/s]"
      ]
     },
     "metadata": {},
     "output_type": "display_data"
    },
    {
     "data": {
      "application/vnd.jupyter.widget-view+json": {
       "model_id": "1d8ecb0abf7d4d2bbfc34d8f5e7fe7c8",
       "version_major": 2,
       "version_minor": 0
      },
      "text/plain": [
       "class hypothsis:   0%|          | 0/6 [00:00<?, ?it/s]"
      ]
     },
     "metadata": {},
     "output_type": "display_data"
    },
    {
     "data": {
      "application/vnd.jupyter.widget-view+json": {
       "model_id": "a8848c975be34a1ab5027bb60e043aa1",
       "version_major": 2,
       "version_minor": 0
      },
      "text/plain": [
       "diffusion sampling:   0%|          | 0/20 [00:00<?, ?it/s]"
      ]
     },
     "metadata": {},
     "output_type": "display_data"
    },
    {
     "data": {
      "application/vnd.jupyter.widget-view+json": {
       "model_id": "ae4d523734ac464b9e71b723cf6565bd",
       "version_major": 2,
       "version_minor": 0
      },
      "text/plain": [
       "diffusion sampling:   0%|          | 0/20 [00:00<?, ?it/s]"
      ]
     },
     "metadata": {},
     "output_type": "display_data"
    },
    {
     "data": {
      "application/vnd.jupyter.widget-view+json": {
       "model_id": "992aef8cfd9d41f7b710e7b9f4a7f4fd",
       "version_major": 2,
       "version_minor": 0
      },
      "text/plain": [
       "diffusion sampling:   0%|          | 0/20 [00:00<?, ?it/s]"
      ]
     },
     "metadata": {},
     "output_type": "display_data"
    },
    {
     "data": {
      "application/vnd.jupyter.widget-view+json": {
       "model_id": "08041eb300f34e0bb9835b4591067c5a",
       "version_major": 2,
       "version_minor": 0
      },
      "text/plain": [
       "diffusion sampling:   0%|          | 0/20 [00:00<?, ?it/s]"
      ]
     },
     "metadata": {},
     "output_type": "display_data"
    },
    {
     "data": {
      "application/vnd.jupyter.widget-view+json": {
       "model_id": "e6fdc8ff72f54916b4d150544495ad73",
       "version_major": 2,
       "version_minor": 0
      },
      "text/plain": [
       "diffusion sampling:   0%|          | 0/20 [00:00<?, ?it/s]"
      ]
     },
     "metadata": {},
     "output_type": "display_data"
    },
    {
     "data": {
      "application/vnd.jupyter.widget-view+json": {
       "model_id": "8e0d24211d9642a3bcf65dcc18cbdb32",
       "version_major": 2,
       "version_minor": 0
      },
      "text/plain": [
       "diffusion sampling:   0%|          | 0/20 [00:00<?, ?it/s]"
      ]
     },
     "metadata": {},
     "output_type": "display_data"
    },
    {
     "data": {
      "application/vnd.jupyter.widget-view+json": {
       "model_id": "5ae383a2739b4fdc90739b3f754526cf",
       "version_major": 2,
       "version_minor": 0
      },
      "text/plain": [
       "class hypothsis:   0%|          | 0/6 [00:00<?, ?it/s]"
      ]
     },
     "metadata": {},
     "output_type": "display_data"
    },
    {
     "data": {
      "application/vnd.jupyter.widget-view+json": {
       "model_id": "ba7be5e233564c02b9cf4a26fc0cc38e",
       "version_major": 2,
       "version_minor": 0
      },
      "text/plain": [
       "diffusion sampling:   0%|          | 0/20 [00:00<?, ?it/s]"
      ]
     },
     "metadata": {},
     "output_type": "display_data"
    },
    {
     "data": {
      "application/vnd.jupyter.widget-view+json": {
       "model_id": "aea81441358840f4921fb0e644807c01",
       "version_major": 2,
       "version_minor": 0
      },
      "text/plain": [
       "diffusion sampling:   0%|          | 0/20 [00:00<?, ?it/s]"
      ]
     },
     "metadata": {},
     "output_type": "display_data"
    },
    {
     "data": {
      "application/vnd.jupyter.widget-view+json": {
       "model_id": "406a3c0c9c6547d69214c49142527610",
       "version_major": 2,
       "version_minor": 0
      },
      "text/plain": [
       "diffusion sampling:   0%|          | 0/20 [00:00<?, ?it/s]"
      ]
     },
     "metadata": {},
     "output_type": "display_data"
    },
    {
     "data": {
      "application/vnd.jupyter.widget-view+json": {
       "model_id": "34c8972cd6bc4166a132975a725ce430",
       "version_major": 2,
       "version_minor": 0
      },
      "text/plain": [
       "diffusion sampling:   0%|          | 0/20 [00:00<?, ?it/s]"
      ]
     },
     "metadata": {},
     "output_type": "display_data"
    },
    {
     "data": {
      "application/vnd.jupyter.widget-view+json": {
       "model_id": "37b7b8afcc5d4198bc501012ae9cd77f",
       "version_major": 2,
       "version_minor": 0
      },
      "text/plain": [
       "diffusion sampling:   0%|          | 0/20 [00:00<?, ?it/s]"
      ]
     },
     "metadata": {},
     "output_type": "display_data"
    },
    {
     "data": {
      "application/vnd.jupyter.widget-view+json": {
       "model_id": "cc3301e3dc5c4b7893a03c1aa33ed879",
       "version_major": 2,
       "version_minor": 0
      },
      "text/plain": [
       "diffusion sampling:   0%|          | 0/20 [00:00<?, ?it/s]"
      ]
     },
     "metadata": {},
     "output_type": "display_data"
    },
    {
     "data": {
      "application/vnd.jupyter.widget-view+json": {
       "model_id": "b43d76039b1c42c59f337f85cb7e37a8",
       "version_major": 2,
       "version_minor": 0
      },
      "text/plain": [
       "class hypothsis:   0%|          | 0/6 [00:00<?, ?it/s]"
      ]
     },
     "metadata": {},
     "output_type": "display_data"
    },
    {
     "data": {
      "application/vnd.jupyter.widget-view+json": {
       "model_id": "8130312f9ad54202a874155ae4d67469",
       "version_major": 2,
       "version_minor": 0
      },
      "text/plain": [
       "diffusion sampling:   0%|          | 0/20 [00:00<?, ?it/s]"
      ]
     },
     "metadata": {},
     "output_type": "display_data"
    },
    {
     "data": {
      "application/vnd.jupyter.widget-view+json": {
       "model_id": "c2719a573e244030a6b417ae9785b724",
       "version_major": 2,
       "version_minor": 0
      },
      "text/plain": [
       "diffusion sampling:   0%|          | 0/20 [00:00<?, ?it/s]"
      ]
     },
     "metadata": {},
     "output_type": "display_data"
    },
    {
     "data": {
      "application/vnd.jupyter.widget-view+json": {
       "model_id": "c9623b45cd134ed1bf510e0f79f76783",
       "version_major": 2,
       "version_minor": 0
      },
      "text/plain": [
       "diffusion sampling:   0%|          | 0/20 [00:00<?, ?it/s]"
      ]
     },
     "metadata": {},
     "output_type": "display_data"
    },
    {
     "data": {
      "application/vnd.jupyter.widget-view+json": {
       "model_id": "ae81f723c18e4cb092e96d04d73b3d8a",
       "version_major": 2,
       "version_minor": 0
      },
      "text/plain": [
       "diffusion sampling:   0%|          | 0/20 [00:00<?, ?it/s]"
      ]
     },
     "metadata": {},
     "output_type": "display_data"
    },
    {
     "data": {
      "application/vnd.jupyter.widget-view+json": {
       "model_id": "55a73ca4845f4560904c5c97659d05ed",
       "version_major": 2,
       "version_minor": 0
      },
      "text/plain": [
       "diffusion sampling:   0%|          | 0/20 [00:00<?, ?it/s]"
      ]
     },
     "metadata": {},
     "output_type": "display_data"
    },
    {
     "data": {
      "application/vnd.jupyter.widget-view+json": {
       "model_id": "12b4ce1bbd3f4ab685998e3e423fc996",
       "version_major": 2,
       "version_minor": 0
      },
      "text/plain": [
       "diffusion sampling:   0%|          | 0/20 [00:00<?, ?it/s]"
      ]
     },
     "metadata": {},
     "output_type": "display_data"
    },
    {
     "data": {
      "application/vnd.jupyter.widget-view+json": {
       "model_id": "9e0de88f35fc4f098fbacf19b02fccd2",
       "version_major": 2,
       "version_minor": 0
      },
      "text/plain": [
       "class hypothsis:   0%|          | 0/6 [00:00<?, ?it/s]"
      ]
     },
     "metadata": {},
     "output_type": "display_data"
    },
    {
     "data": {
      "application/vnd.jupyter.widget-view+json": {
       "model_id": "3a05bcdafcf443dda52ea4fc29c1560d",
       "version_major": 2,
       "version_minor": 0
      },
      "text/plain": [
       "diffusion sampling:   0%|          | 0/20 [00:00<?, ?it/s]"
      ]
     },
     "metadata": {},
     "output_type": "display_data"
    },
    {
     "data": {
      "application/vnd.jupyter.widget-view+json": {
       "model_id": "03b297f699c545c69f042b1229ec059a",
       "version_major": 2,
       "version_minor": 0
      },
      "text/plain": [
       "diffusion sampling:   0%|          | 0/20 [00:00<?, ?it/s]"
      ]
     },
     "metadata": {},
     "output_type": "display_data"
    },
    {
     "data": {
      "application/vnd.jupyter.widget-view+json": {
       "model_id": "d4eb23c7aa054217a630f074fa9b6bb3",
       "version_major": 2,
       "version_minor": 0
      },
      "text/plain": [
       "diffusion sampling:   0%|          | 0/20 [00:00<?, ?it/s]"
      ]
     },
     "metadata": {},
     "output_type": "display_data"
    },
    {
     "data": {
      "application/vnd.jupyter.widget-view+json": {
       "model_id": "fde8351bc15145fcb47d7bfb794a3c3c",
       "version_major": 2,
       "version_minor": 0
      },
      "text/plain": [
       "diffusion sampling:   0%|          | 0/20 [00:00<?, ?it/s]"
      ]
     },
     "metadata": {},
     "output_type": "display_data"
    },
    {
     "data": {
      "application/vnd.jupyter.widget-view+json": {
       "model_id": "beba35f400664f8ba9604f8ffb721a2a",
       "version_major": 2,
       "version_minor": 0
      },
      "text/plain": [
       "diffusion sampling:   0%|          | 0/20 [00:00<?, ?it/s]"
      ]
     },
     "metadata": {},
     "output_type": "display_data"
    },
    {
     "data": {
      "application/vnd.jupyter.widget-view+json": {
       "model_id": "69a8a42a11ed46fd84e4b281375d81e6",
       "version_major": 2,
       "version_minor": 0
      },
      "text/plain": [
       "diffusion sampling:   0%|          | 0/20 [00:00<?, ?it/s]"
      ]
     },
     "metadata": {},
     "output_type": "display_data"
    },
    {
     "data": {
      "application/vnd.jupyter.widget-view+json": {
       "model_id": "9b485feedba34770ad1b7296818b5ea4",
       "version_major": 2,
       "version_minor": 0
      },
      "text/plain": [
       "class hypothsis:   0%|          | 0/6 [00:00<?, ?it/s]"
      ]
     },
     "metadata": {},
     "output_type": "display_data"
    },
    {
     "data": {
      "application/vnd.jupyter.widget-view+json": {
       "model_id": "06383935a71a43b2b23f93399442fda2",
       "version_major": 2,
       "version_minor": 0
      },
      "text/plain": [
       "diffusion sampling:   0%|          | 0/20 [00:00<?, ?it/s]"
      ]
     },
     "metadata": {},
     "output_type": "display_data"
    },
    {
     "data": {
      "application/vnd.jupyter.widget-view+json": {
       "model_id": "18d42486e4cc4ca89f500f70a96dda0a",
       "version_major": 2,
       "version_minor": 0
      },
      "text/plain": [
       "diffusion sampling:   0%|          | 0/20 [00:00<?, ?it/s]"
      ]
     },
     "metadata": {},
     "output_type": "display_data"
    },
    {
     "data": {
      "application/vnd.jupyter.widget-view+json": {
       "model_id": "65bb91a6f36c4d759b2f1273f2099fee",
       "version_major": 2,
       "version_minor": 0
      },
      "text/plain": [
       "diffusion sampling:   0%|          | 0/20 [00:00<?, ?it/s]"
      ]
     },
     "metadata": {},
     "output_type": "display_data"
    },
    {
     "data": {
      "application/vnd.jupyter.widget-view+json": {
       "model_id": "684d0b700b814351abd2e559dcf1a73c",
       "version_major": 2,
       "version_minor": 0
      },
      "text/plain": [
       "diffusion sampling:   0%|          | 0/20 [00:00<?, ?it/s]"
      ]
     },
     "metadata": {},
     "output_type": "display_data"
    },
    {
     "data": {
      "application/vnd.jupyter.widget-view+json": {
       "model_id": "49e15f57df0a44e2912efe5a86041ee7",
       "version_major": 2,
       "version_minor": 0
      },
      "text/plain": [
       "diffusion sampling:   0%|          | 0/20 [00:00<?, ?it/s]"
      ]
     },
     "metadata": {},
     "output_type": "display_data"
    },
    {
     "data": {
      "application/vnd.jupyter.widget-view+json": {
       "model_id": "5c7082e719b74b48b615a06268b88d45",
       "version_major": 2,
       "version_minor": 0
      },
      "text/plain": [
       "diffusion sampling:   0%|          | 0/20 [00:00<?, ?it/s]"
      ]
     },
     "metadata": {},
     "output_type": "display_data"
    },
    {
     "data": {
      "application/vnd.jupyter.widget-view+json": {
       "model_id": "26ef6a9ea4a04f3596f5f068ee8ca57b",
       "version_major": 2,
       "version_minor": 0
      },
      "text/plain": [
       "class hypothsis:   0%|          | 0/6 [00:00<?, ?it/s]"
      ]
     },
     "metadata": {},
     "output_type": "display_data"
    },
    {
     "data": {
      "application/vnd.jupyter.widget-view+json": {
       "model_id": "8ea816755f81473992300562a9b03b93",
       "version_major": 2,
       "version_minor": 0
      },
      "text/plain": [
       "diffusion sampling:   0%|          | 0/20 [00:00<?, ?it/s]"
      ]
     },
     "metadata": {},
     "output_type": "display_data"
    },
    {
     "data": {
      "application/vnd.jupyter.widget-view+json": {
       "model_id": "3888a98c22d041fd86c3c11adaf8858f",
       "version_major": 2,
       "version_minor": 0
      },
      "text/plain": [
       "diffusion sampling:   0%|          | 0/20 [00:00<?, ?it/s]"
      ]
     },
     "metadata": {},
     "output_type": "display_data"
    },
    {
     "data": {
      "application/vnd.jupyter.widget-view+json": {
       "model_id": "48174d2f38394e9bb7c477d353cf55c0",
       "version_major": 2,
       "version_minor": 0
      },
      "text/plain": [
       "diffusion sampling:   0%|          | 0/20 [00:00<?, ?it/s]"
      ]
     },
     "metadata": {},
     "output_type": "display_data"
    },
    {
     "data": {
      "application/vnd.jupyter.widget-view+json": {
       "model_id": "fab0b8e5b24e42d5b4eaefb0c90bbb61",
       "version_major": 2,
       "version_minor": 0
      },
      "text/plain": [
       "diffusion sampling:   0%|          | 0/20 [00:00<?, ?it/s]"
      ]
     },
     "metadata": {},
     "output_type": "display_data"
    },
    {
     "data": {
      "application/vnd.jupyter.widget-view+json": {
       "model_id": "3a57bce5e7f7471dadf7103edefe6ee1",
       "version_major": 2,
       "version_minor": 0
      },
      "text/plain": [
       "diffusion sampling:   0%|          | 0/20 [00:00<?, ?it/s]"
      ]
     },
     "metadata": {},
     "output_type": "display_data"
    },
    {
     "data": {
      "application/vnd.jupyter.widget-view+json": {
       "model_id": "ab1f5e9106ef4db6b4c68d7d2fc688c8",
       "version_major": 2,
       "version_minor": 0
      },
      "text/plain": [
       "diffusion sampling:   0%|          | 0/20 [00:00<?, ?it/s]"
      ]
     },
     "metadata": {},
     "output_type": "display_data"
    },
    {
     "data": {
      "application/vnd.jupyter.widget-view+json": {
       "model_id": "e6ffce79f12e43b88e0b1eb1a5361c78",
       "version_major": 2,
       "version_minor": 0
      },
      "text/plain": [
       "class hypothsis:   0%|          | 0/6 [00:00<?, ?it/s]"
      ]
     },
     "metadata": {},
     "output_type": "display_data"
    },
    {
     "data": {
      "application/vnd.jupyter.widget-view+json": {
       "model_id": "4ff31c42793945edbd1c539581ab91b3",
       "version_major": 2,
       "version_minor": 0
      },
      "text/plain": [
       "diffusion sampling:   0%|          | 0/20 [00:00<?, ?it/s]"
      ]
     },
     "metadata": {},
     "output_type": "display_data"
    },
    {
     "data": {
      "application/vnd.jupyter.widget-view+json": {
       "model_id": "673126231182438db84faa05a785d185",
       "version_major": 2,
       "version_minor": 0
      },
      "text/plain": [
       "diffusion sampling:   0%|          | 0/20 [00:00<?, ?it/s]"
      ]
     },
     "metadata": {},
     "output_type": "display_data"
    },
    {
     "data": {
      "application/vnd.jupyter.widget-view+json": {
       "model_id": "b7a6a08327514c6ba4b775748385efa3",
       "version_major": 2,
       "version_minor": 0
      },
      "text/plain": [
       "diffusion sampling:   0%|          | 0/20 [00:00<?, ?it/s]"
      ]
     },
     "metadata": {},
     "output_type": "display_data"
    },
    {
     "data": {
      "application/vnd.jupyter.widget-view+json": {
       "model_id": "46396ae73d3d42dd92ff8fdc627920eb",
       "version_major": 2,
       "version_minor": 0
      },
      "text/plain": [
       "diffusion sampling:   0%|          | 0/20 [00:00<?, ?it/s]"
      ]
     },
     "metadata": {},
     "output_type": "display_data"
    },
    {
     "data": {
      "application/vnd.jupyter.widget-view+json": {
       "model_id": "4214b14218b044078046892969b673cd",
       "version_major": 2,
       "version_minor": 0
      },
      "text/plain": [
       "diffusion sampling:   0%|          | 0/20 [00:00<?, ?it/s]"
      ]
     },
     "metadata": {},
     "output_type": "display_data"
    },
    {
     "data": {
      "application/vnd.jupyter.widget-view+json": {
       "model_id": "b2215bbe5cf8428493041d36bad6c168",
       "version_major": 2,
       "version_minor": 0
      },
      "text/plain": [
       "diffusion sampling:   0%|          | 0/20 [00:00<?, ?it/s]"
      ]
     },
     "metadata": {},
     "output_type": "display_data"
    },
    {
     "data": {
      "application/vnd.jupyter.widget-view+json": {
       "model_id": "b28b27a04cc54c138a0146a040c32594",
       "version_major": 2,
       "version_minor": 0
      },
      "text/plain": [
       "class hypothsis:   0%|          | 0/6 [00:00<?, ?it/s]"
      ]
     },
     "metadata": {},
     "output_type": "display_data"
    },
    {
     "data": {
      "application/vnd.jupyter.widget-view+json": {
       "model_id": "8d5c14faf62d4f8297a7d7a2342d4a6c",
       "version_major": 2,
       "version_minor": 0
      },
      "text/plain": [
       "diffusion sampling:   0%|          | 0/20 [00:00<?, ?it/s]"
      ]
     },
     "metadata": {},
     "output_type": "display_data"
    },
    {
     "data": {
      "application/vnd.jupyter.widget-view+json": {
       "model_id": "76464911c6334fa497ab2ea174839f7e",
       "version_major": 2,
       "version_minor": 0
      },
      "text/plain": [
       "diffusion sampling:   0%|          | 0/20 [00:00<?, ?it/s]"
      ]
     },
     "metadata": {},
     "output_type": "display_data"
    },
    {
     "data": {
      "application/vnd.jupyter.widget-view+json": {
       "model_id": "af3ba110458242ef9163cbc4be75d33a",
       "version_major": 2,
       "version_minor": 0
      },
      "text/plain": [
       "diffusion sampling:   0%|          | 0/20 [00:00<?, ?it/s]"
      ]
     },
     "metadata": {},
     "output_type": "display_data"
    },
    {
     "data": {
      "application/vnd.jupyter.widget-view+json": {
       "model_id": "d7923739d39c40a38f672bed23a617b1",
       "version_major": 2,
       "version_minor": 0
      },
      "text/plain": [
       "diffusion sampling:   0%|          | 0/20 [00:00<?, ?it/s]"
      ]
     },
     "metadata": {},
     "output_type": "display_data"
    },
    {
     "data": {
      "application/vnd.jupyter.widget-view+json": {
       "model_id": "daba28133aab4bff9316cfed0db0850c",
       "version_major": 2,
       "version_minor": 0
      },
      "text/plain": [
       "diffusion sampling:   0%|          | 0/20 [00:00<?, ?it/s]"
      ]
     },
     "metadata": {},
     "output_type": "display_data"
    },
    {
     "data": {
      "application/vnd.jupyter.widget-view+json": {
       "model_id": "f558034ba7de486aab7a27e14c9bcfc0",
       "version_major": 2,
       "version_minor": 0
      },
      "text/plain": [
       "diffusion sampling:   0%|          | 0/20 [00:00<?, ?it/s]"
      ]
     },
     "metadata": {},
     "output_type": "display_data"
    },
    {
     "data": {
      "application/vnd.jupyter.widget-view+json": {
       "model_id": "c6bea59f8bf84d1c83ad5237b6c2bf6b",
       "version_major": 2,
       "version_minor": 0
      },
      "text/plain": [
       "class hypothsis:   0%|          | 0/6 [00:00<?, ?it/s]"
      ]
     },
     "metadata": {},
     "output_type": "display_data"
    },
    {
     "data": {
      "application/vnd.jupyter.widget-view+json": {
       "model_id": "bd95b996946547de885e4ccc9f900a96",
       "version_major": 2,
       "version_minor": 0
      },
      "text/plain": [
       "diffusion sampling:   0%|          | 0/20 [00:00<?, ?it/s]"
      ]
     },
     "metadata": {},
     "output_type": "display_data"
    },
    {
     "data": {
      "application/vnd.jupyter.widget-view+json": {
       "model_id": "d2a0f38420814ecfb721a6766714fe04",
       "version_major": 2,
       "version_minor": 0
      },
      "text/plain": [
       "diffusion sampling:   0%|          | 0/20 [00:00<?, ?it/s]"
      ]
     },
     "metadata": {},
     "output_type": "display_data"
    },
    {
     "data": {
      "application/vnd.jupyter.widget-view+json": {
       "model_id": "332097c11e964ebface7ca4fa8559e9b",
       "version_major": 2,
       "version_minor": 0
      },
      "text/plain": [
       "diffusion sampling:   0%|          | 0/20 [00:00<?, ?it/s]"
      ]
     },
     "metadata": {},
     "output_type": "display_data"
    },
    {
     "data": {
      "application/vnd.jupyter.widget-view+json": {
       "model_id": "88feee3df52343bb830f78b6b130b260",
       "version_major": 2,
       "version_minor": 0
      },
      "text/plain": [
       "diffusion sampling:   0%|          | 0/20 [00:00<?, ?it/s]"
      ]
     },
     "metadata": {},
     "output_type": "display_data"
    },
    {
     "data": {
      "application/vnd.jupyter.widget-view+json": {
       "model_id": "65078f27032d40cc99130b15cd028d61",
       "version_major": 2,
       "version_minor": 0
      },
      "text/plain": [
       "diffusion sampling:   0%|          | 0/20 [00:00<?, ?it/s]"
      ]
     },
     "metadata": {},
     "output_type": "display_data"
    },
    {
     "data": {
      "application/vnd.jupyter.widget-view+json": {
       "model_id": "c97b2a8016994ea0aa390dc7b3d3bf77",
       "version_major": 2,
       "version_minor": 0
      },
      "text/plain": [
       "diffusion sampling:   0%|          | 0/20 [00:00<?, ?it/s]"
      ]
     },
     "metadata": {},
     "output_type": "display_data"
    },
    {
     "data": {
      "application/vnd.jupyter.widget-view+json": {
       "model_id": "cedd420cd43b421191bc7be5b02f678c",
       "version_major": 2,
       "version_minor": 0
      },
      "text/plain": [
       "class hypothsis:   0%|          | 0/6 [00:00<?, ?it/s]"
      ]
     },
     "metadata": {},
     "output_type": "display_data"
    },
    {
     "data": {
      "application/vnd.jupyter.widget-view+json": {
       "model_id": "342da650c9de49b2aec0e12b4cb9f784",
       "version_major": 2,
       "version_minor": 0
      },
      "text/plain": [
       "diffusion sampling:   0%|          | 0/20 [00:00<?, ?it/s]"
      ]
     },
     "metadata": {},
     "output_type": "display_data"
    },
    {
     "data": {
      "application/vnd.jupyter.widget-view+json": {
       "model_id": "6317774df6164db8a583bfb36b0baf27",
       "version_major": 2,
       "version_minor": 0
      },
      "text/plain": [
       "diffusion sampling:   0%|          | 0/20 [00:00<?, ?it/s]"
      ]
     },
     "metadata": {},
     "output_type": "display_data"
    },
    {
     "data": {
      "application/vnd.jupyter.widget-view+json": {
       "model_id": "f80736a476e446ccb5fa762ee2d3f45e",
       "version_major": 2,
       "version_minor": 0
      },
      "text/plain": [
       "diffusion sampling:   0%|          | 0/20 [00:00<?, ?it/s]"
      ]
     },
     "metadata": {},
     "output_type": "display_data"
    },
    {
     "data": {
      "application/vnd.jupyter.widget-view+json": {
       "model_id": "b47ba76b219f47c4b674affaebb2539d",
       "version_major": 2,
       "version_minor": 0
      },
      "text/plain": [
       "diffusion sampling:   0%|          | 0/20 [00:00<?, ?it/s]"
      ]
     },
     "metadata": {},
     "output_type": "display_data"
    },
    {
     "data": {
      "application/vnd.jupyter.widget-view+json": {
       "model_id": "8123dfeee3e64cc1a83a5119b0de62bd",
       "version_major": 2,
       "version_minor": 0
      },
      "text/plain": [
       "diffusion sampling:   0%|          | 0/20 [00:00<?, ?it/s]"
      ]
     },
     "metadata": {},
     "output_type": "display_data"
    },
    {
     "data": {
      "application/vnd.jupyter.widget-view+json": {
       "model_id": "ab5db83739d841a4b5e8aea5e08d3f65",
       "version_major": 2,
       "version_minor": 0
      },
      "text/plain": [
       "diffusion sampling:   0%|          | 0/20 [00:00<?, ?it/s]"
      ]
     },
     "metadata": {},
     "output_type": "display_data"
    },
    {
     "data": {
      "application/vnd.jupyter.widget-view+json": {
       "model_id": "5fca625bf74041338d2ad8ad4fced278",
       "version_major": 2,
       "version_minor": 0
      },
      "text/plain": [
       "class hypothsis:   0%|          | 0/6 [00:00<?, ?it/s]"
      ]
     },
     "metadata": {},
     "output_type": "display_data"
    },
    {
     "data": {
      "application/vnd.jupyter.widget-view+json": {
       "model_id": "9f619f41f7f24a8ea8da45a2db8c4f64",
       "version_major": 2,
       "version_minor": 0
      },
      "text/plain": [
       "diffusion sampling:   0%|          | 0/20 [00:00<?, ?it/s]"
      ]
     },
     "metadata": {},
     "output_type": "display_data"
    },
    {
     "data": {
      "application/vnd.jupyter.widget-view+json": {
       "model_id": "069da4e7f6fa43e99e7a9e7c1f186192",
       "version_major": 2,
       "version_minor": 0
      },
      "text/plain": [
       "diffusion sampling:   0%|          | 0/20 [00:00<?, ?it/s]"
      ]
     },
     "metadata": {},
     "output_type": "display_data"
    },
    {
     "data": {
      "application/vnd.jupyter.widget-view+json": {
       "model_id": "6b51bade7dd54e09aa413e4a12c7e2ec",
       "version_major": 2,
       "version_minor": 0
      },
      "text/plain": [
       "diffusion sampling:   0%|          | 0/20 [00:00<?, ?it/s]"
      ]
     },
     "metadata": {},
     "output_type": "display_data"
    },
    {
     "data": {
      "application/vnd.jupyter.widget-view+json": {
       "model_id": "f168f74d9e66408eaddd63d51ff0b0b7",
       "version_major": 2,
       "version_minor": 0
      },
      "text/plain": [
       "diffusion sampling:   0%|          | 0/20 [00:00<?, ?it/s]"
      ]
     },
     "metadata": {},
     "output_type": "display_data"
    },
    {
     "data": {
      "application/vnd.jupyter.widget-view+json": {
       "model_id": "b940edef38934a0db59d43054ed629ed",
       "version_major": 2,
       "version_minor": 0
      },
      "text/plain": [
       "diffusion sampling:   0%|          | 0/20 [00:00<?, ?it/s]"
      ]
     },
     "metadata": {},
     "output_type": "display_data"
    },
    {
     "data": {
      "application/vnd.jupyter.widget-view+json": {
       "model_id": "e8ed25e14ca94364ab9dd9d5a87a7f04",
       "version_major": 2,
       "version_minor": 0
      },
      "text/plain": [
       "diffusion sampling:   0%|          | 0/20 [00:00<?, ?it/s]"
      ]
     },
     "metadata": {},
     "output_type": "display_data"
    },
    {
     "data": {
      "application/vnd.jupyter.widget-view+json": {
       "model_id": "23bb29c91d9c4a1daca46e9b8ae3ae41",
       "version_major": 2,
       "version_minor": 0
      },
      "text/plain": [
       "class hypothsis:   0%|          | 0/6 [00:00<?, ?it/s]"
      ]
     },
     "metadata": {},
     "output_type": "display_data"
    },
    {
     "data": {
      "application/vnd.jupyter.widget-view+json": {
       "model_id": "3b0d2edb91294772bd9d904c534e1e0c",
       "version_major": 2,
       "version_minor": 0
      },
      "text/plain": [
       "diffusion sampling:   0%|          | 0/20 [00:00<?, ?it/s]"
      ]
     },
     "metadata": {},
     "output_type": "display_data"
    },
    {
     "data": {
      "application/vnd.jupyter.widget-view+json": {
       "model_id": "0c14fcb349bc4f04bff5757027c305ad",
       "version_major": 2,
       "version_minor": 0
      },
      "text/plain": [
       "diffusion sampling:   0%|          | 0/20 [00:00<?, ?it/s]"
      ]
     },
     "metadata": {},
     "output_type": "display_data"
    },
    {
     "data": {
      "application/vnd.jupyter.widget-view+json": {
       "model_id": "af475dd0f3304c3b8f4fbbf8295d36c7",
       "version_major": 2,
       "version_minor": 0
      },
      "text/plain": [
       "diffusion sampling:   0%|          | 0/20 [00:00<?, ?it/s]"
      ]
     },
     "metadata": {},
     "output_type": "display_data"
    },
    {
     "data": {
      "application/vnd.jupyter.widget-view+json": {
       "model_id": "09fbe3dcd56542dfb0028fbe8530b55c",
       "version_major": 2,
       "version_minor": 0
      },
      "text/plain": [
       "diffusion sampling:   0%|          | 0/20 [00:00<?, ?it/s]"
      ]
     },
     "metadata": {},
     "output_type": "display_data"
    },
    {
     "data": {
      "application/vnd.jupyter.widget-view+json": {
       "model_id": "89610e3ef94e46e98357ca99e469584b",
       "version_major": 2,
       "version_minor": 0
      },
      "text/plain": [
       "diffusion sampling:   0%|          | 0/20 [00:00<?, ?it/s]"
      ]
     },
     "metadata": {},
     "output_type": "display_data"
    },
    {
     "data": {
      "application/vnd.jupyter.widget-view+json": {
       "model_id": "d8bd7b6a53614a4cb68a43e6ced73f87",
       "version_major": 2,
       "version_minor": 0
      },
      "text/plain": [
       "diffusion sampling:   0%|          | 0/20 [00:00<?, ?it/s]"
      ]
     },
     "metadata": {},
     "output_type": "display_data"
    },
    {
     "data": {
      "application/vnd.jupyter.widget-view+json": {
       "model_id": "295e92f2e90f415fbe3496f4d321289c",
       "version_major": 2,
       "version_minor": 0
      },
      "text/plain": [
       "class hypothsis:   0%|          | 0/6 [00:00<?, ?it/s]"
      ]
     },
     "metadata": {},
     "output_type": "display_data"
    },
    {
     "data": {
      "application/vnd.jupyter.widget-view+json": {
       "model_id": "80984b407872429d89279dc56285deb2",
       "version_major": 2,
       "version_minor": 0
      },
      "text/plain": [
       "diffusion sampling:   0%|          | 0/20 [00:00<?, ?it/s]"
      ]
     },
     "metadata": {},
     "output_type": "display_data"
    },
    {
     "data": {
      "application/vnd.jupyter.widget-view+json": {
       "model_id": "372e48b0e1e2469fa05d34b6ca372097",
       "version_major": 2,
       "version_minor": 0
      },
      "text/plain": [
       "diffusion sampling:   0%|          | 0/20 [00:00<?, ?it/s]"
      ]
     },
     "metadata": {},
     "output_type": "display_data"
    },
    {
     "data": {
      "application/vnd.jupyter.widget-view+json": {
       "model_id": "a13204356bee4b12908402b08bc466f0",
       "version_major": 2,
       "version_minor": 0
      },
      "text/plain": [
       "diffusion sampling:   0%|          | 0/20 [00:00<?, ?it/s]"
      ]
     },
     "metadata": {},
     "output_type": "display_data"
    },
    {
     "data": {
      "application/vnd.jupyter.widget-view+json": {
       "model_id": "54384819cda94ef2b65e6d4e22006ba2",
       "version_major": 2,
       "version_minor": 0
      },
      "text/plain": [
       "diffusion sampling:   0%|          | 0/20 [00:00<?, ?it/s]"
      ]
     },
     "metadata": {},
     "output_type": "display_data"
    },
    {
     "data": {
      "application/vnd.jupyter.widget-view+json": {
       "model_id": "4d6132d65abb4d04aaa87dda92238beb",
       "version_major": 2,
       "version_minor": 0
      },
      "text/plain": [
       "diffusion sampling:   0%|          | 0/20 [00:00<?, ?it/s]"
      ]
     },
     "metadata": {},
     "output_type": "display_data"
    },
    {
     "data": {
      "application/vnd.jupyter.widget-view+json": {
       "model_id": "fe74623305a149f28852c02de1608214",
       "version_major": 2,
       "version_minor": 0
      },
      "text/plain": [
       "diffusion sampling:   0%|          | 0/20 [00:00<?, ?it/s]"
      ]
     },
     "metadata": {},
     "output_type": "display_data"
    },
    {
     "data": {
      "application/vnd.jupyter.widget-view+json": {
       "model_id": "6562acfc76ee4cfeae2ce2e78a8246fe",
       "version_major": 2,
       "version_minor": 0
      },
      "text/plain": [
       "class hypothsis:   0%|          | 0/6 [00:00<?, ?it/s]"
      ]
     },
     "metadata": {},
     "output_type": "display_data"
    },
    {
     "data": {
      "application/vnd.jupyter.widget-view+json": {
       "model_id": "bfc87fa497da4d0fb0549850019945ac",
       "version_major": 2,
       "version_minor": 0
      },
      "text/plain": [
       "diffusion sampling:   0%|          | 0/20 [00:00<?, ?it/s]"
      ]
     },
     "metadata": {},
     "output_type": "display_data"
    },
    {
     "data": {
      "application/vnd.jupyter.widget-view+json": {
       "model_id": "6f4c38a8337e44e191b2c17cd223650f",
       "version_major": 2,
       "version_minor": 0
      },
      "text/plain": [
       "diffusion sampling:   0%|          | 0/20 [00:00<?, ?it/s]"
      ]
     },
     "metadata": {},
     "output_type": "display_data"
    },
    {
     "data": {
      "application/vnd.jupyter.widget-view+json": {
       "model_id": "b458db453c7f4ed68703da23111add22",
       "version_major": 2,
       "version_minor": 0
      },
      "text/plain": [
       "diffusion sampling:   0%|          | 0/20 [00:00<?, ?it/s]"
      ]
     },
     "metadata": {},
     "output_type": "display_data"
    },
    {
     "data": {
      "application/vnd.jupyter.widget-view+json": {
       "model_id": "ef09a772ce554912984bed8d49be0698",
       "version_major": 2,
       "version_minor": 0
      },
      "text/plain": [
       "diffusion sampling:   0%|          | 0/20 [00:00<?, ?it/s]"
      ]
     },
     "metadata": {},
     "output_type": "display_data"
    },
    {
     "data": {
      "application/vnd.jupyter.widget-view+json": {
       "model_id": "1f9f1d18f753473b869f931616d3f4c3",
       "version_major": 2,
       "version_minor": 0
      },
      "text/plain": [
       "diffusion sampling:   0%|          | 0/20 [00:00<?, ?it/s]"
      ]
     },
     "metadata": {},
     "output_type": "display_data"
    },
    {
     "data": {
      "application/vnd.jupyter.widget-view+json": {
       "model_id": "c6ea2b36e90944a3b4763536636e1449",
       "version_major": 2,
       "version_minor": 0
      },
      "text/plain": [
       "diffusion sampling:   0%|          | 0/20 [00:00<?, ?it/s]"
      ]
     },
     "metadata": {},
     "output_type": "display_data"
    },
    {
     "data": {
      "application/vnd.jupyter.widget-view+json": {
       "model_id": "237c850b283e431ab4691e24c1a4d47b",
       "version_major": 2,
       "version_minor": 0
      },
      "text/plain": [
       "class hypothsis:   0%|          | 0/6 [00:00<?, ?it/s]"
      ]
     },
     "metadata": {},
     "output_type": "display_data"
    },
    {
     "data": {
      "application/vnd.jupyter.widget-view+json": {
       "model_id": "22bd0fbfeed34e9b96a9e4fc8cfa8c61",
       "version_major": 2,
       "version_minor": 0
      },
      "text/plain": [
       "diffusion sampling:   0%|          | 0/20 [00:00<?, ?it/s]"
      ]
     },
     "metadata": {},
     "output_type": "display_data"
    },
    {
     "data": {
      "application/vnd.jupyter.widget-view+json": {
       "model_id": "18e7893df5ba4ae8a65c3ed908a30333",
       "version_major": 2,
       "version_minor": 0
      },
      "text/plain": [
       "diffusion sampling:   0%|          | 0/20 [00:00<?, ?it/s]"
      ]
     },
     "metadata": {},
     "output_type": "display_data"
    },
    {
     "data": {
      "application/vnd.jupyter.widget-view+json": {
       "model_id": "09aade6f43e847ccb082dfd13284ce6f",
       "version_major": 2,
       "version_minor": 0
      },
      "text/plain": [
       "diffusion sampling:   0%|          | 0/20 [00:00<?, ?it/s]"
      ]
     },
     "metadata": {},
     "output_type": "display_data"
    },
    {
     "data": {
      "application/vnd.jupyter.widget-view+json": {
       "model_id": "bde0ad5eabd34d469b3c7ab8de67e55d",
       "version_major": 2,
       "version_minor": 0
      },
      "text/plain": [
       "diffusion sampling:   0%|          | 0/20 [00:00<?, ?it/s]"
      ]
     },
     "metadata": {},
     "output_type": "display_data"
    },
    {
     "data": {
      "application/vnd.jupyter.widget-view+json": {
       "model_id": "b2362d89c61b4545b1d97f2e3b3aaaa0",
       "version_major": 2,
       "version_minor": 0
      },
      "text/plain": [
       "diffusion sampling:   0%|          | 0/20 [00:00<?, ?it/s]"
      ]
     },
     "metadata": {},
     "output_type": "display_data"
    },
    {
     "data": {
      "application/vnd.jupyter.widget-view+json": {
       "model_id": "95313964de754e7f85c0eda8a9323b0e",
       "version_major": 2,
       "version_minor": 0
      },
      "text/plain": [
       "diffusion sampling:   0%|          | 0/20 [00:00<?, ?it/s]"
      ]
     },
     "metadata": {},
     "output_type": "display_data"
    },
    {
     "data": {
      "application/vnd.jupyter.widget-view+json": {
       "model_id": "ab5596737ada419c8b7416012679cf01",
       "version_major": 2,
       "version_minor": 0
      },
      "text/plain": [
       "class hypothsis:   0%|          | 0/6 [00:00<?, ?it/s]"
      ]
     },
     "metadata": {},
     "output_type": "display_data"
    },
    {
     "data": {
      "application/vnd.jupyter.widget-view+json": {
       "model_id": "228e8efb0bed4400903306d10ce68168",
       "version_major": 2,
       "version_minor": 0
      },
      "text/plain": [
       "diffusion sampling:   0%|          | 0/20 [00:00<?, ?it/s]"
      ]
     },
     "metadata": {},
     "output_type": "display_data"
    },
    {
     "data": {
      "application/vnd.jupyter.widget-view+json": {
       "model_id": "3c50672ac1cb42d79618cf727a784510",
       "version_major": 2,
       "version_minor": 0
      },
      "text/plain": [
       "diffusion sampling:   0%|          | 0/20 [00:00<?, ?it/s]"
      ]
     },
     "metadata": {},
     "output_type": "display_data"
    },
    {
     "data": {
      "application/vnd.jupyter.widget-view+json": {
       "model_id": "09203c92396c4958b0603b2265b5d900",
       "version_major": 2,
       "version_minor": 0
      },
      "text/plain": [
       "diffusion sampling:   0%|          | 0/20 [00:00<?, ?it/s]"
      ]
     },
     "metadata": {},
     "output_type": "display_data"
    },
    {
     "data": {
      "application/vnd.jupyter.widget-view+json": {
       "model_id": "6f39ceea960f4e458271877e3efec47f",
       "version_major": 2,
       "version_minor": 0
      },
      "text/plain": [
       "diffusion sampling:   0%|          | 0/20 [00:00<?, ?it/s]"
      ]
     },
     "metadata": {},
     "output_type": "display_data"
    },
    {
     "data": {
      "application/vnd.jupyter.widget-view+json": {
       "model_id": "91e4ee3d8ce043d797135454310b398d",
       "version_major": 2,
       "version_minor": 0
      },
      "text/plain": [
       "diffusion sampling:   0%|          | 0/20 [00:00<?, ?it/s]"
      ]
     },
     "metadata": {},
     "output_type": "display_data"
    },
    {
     "data": {
      "application/vnd.jupyter.widget-view+json": {
       "model_id": "bcd4b73d54b9486aa80d78ea3aa04d73",
       "version_major": 2,
       "version_minor": 0
      },
      "text/plain": [
       "diffusion sampling:   0%|          | 0/20 [00:00<?, ?it/s]"
      ]
     },
     "metadata": {},
     "output_type": "display_data"
    },
    {
     "data": {
      "application/vnd.jupyter.widget-view+json": {
       "model_id": "7e43d97d672f4f5187f9ce67426fd96c",
       "version_major": 2,
       "version_minor": 0
      },
      "text/plain": [
       "class hypothsis:   0%|          | 0/6 [00:00<?, ?it/s]"
      ]
     },
     "metadata": {},
     "output_type": "display_data"
    },
    {
     "data": {
      "application/vnd.jupyter.widget-view+json": {
       "model_id": "e8d113cfee5d45bdba5311b9195d688c",
       "version_major": 2,
       "version_minor": 0
      },
      "text/plain": [
       "diffusion sampling:   0%|          | 0/20 [00:00<?, ?it/s]"
      ]
     },
     "metadata": {},
     "output_type": "display_data"
    },
    {
     "data": {
      "application/vnd.jupyter.widget-view+json": {
       "model_id": "584c1c36834445cfb3280a72d61bfada",
       "version_major": 2,
       "version_minor": 0
      },
      "text/plain": [
       "diffusion sampling:   0%|          | 0/20 [00:00<?, ?it/s]"
      ]
     },
     "metadata": {},
     "output_type": "display_data"
    },
    {
     "data": {
      "application/vnd.jupyter.widget-view+json": {
       "model_id": "31b32aebaba34314add500c333bf1cf2",
       "version_major": 2,
       "version_minor": 0
      },
      "text/plain": [
       "diffusion sampling:   0%|          | 0/20 [00:00<?, ?it/s]"
      ]
     },
     "metadata": {},
     "output_type": "display_data"
    },
    {
     "data": {
      "application/vnd.jupyter.widget-view+json": {
       "model_id": "40eb465531b74d628e7344dcc4b0f63b",
       "version_major": 2,
       "version_minor": 0
      },
      "text/plain": [
       "diffusion sampling:   0%|          | 0/20 [00:00<?, ?it/s]"
      ]
     },
     "metadata": {},
     "output_type": "display_data"
    },
    {
     "data": {
      "application/vnd.jupyter.widget-view+json": {
       "model_id": "c8198e39a46146cc8e58f0929593cbe5",
       "version_major": 2,
       "version_minor": 0
      },
      "text/plain": [
       "diffusion sampling:   0%|          | 0/20 [00:00<?, ?it/s]"
      ]
     },
     "metadata": {},
     "output_type": "display_data"
    },
    {
     "data": {
      "application/vnd.jupyter.widget-view+json": {
       "model_id": "dfbff2f263c04c458beca2563e71f69c",
       "version_major": 2,
       "version_minor": 0
      },
      "text/plain": [
       "diffusion sampling:   0%|          | 0/20 [00:00<?, ?it/s]"
      ]
     },
     "metadata": {},
     "output_type": "display_data"
    },
    {
     "data": {
      "application/vnd.jupyter.widget-view+json": {
       "model_id": "07c3e57cf8fe42cbad813f92935b9878",
       "version_major": 2,
       "version_minor": 0
      },
      "text/plain": [
       "class hypothsis:   0%|          | 0/6 [00:00<?, ?it/s]"
      ]
     },
     "metadata": {},
     "output_type": "display_data"
    },
    {
     "data": {
      "application/vnd.jupyter.widget-view+json": {
       "model_id": "4e444a3ab3ce450e94167aa853c4c411",
       "version_major": 2,
       "version_minor": 0
      },
      "text/plain": [
       "diffusion sampling:   0%|          | 0/20 [00:00<?, ?it/s]"
      ]
     },
     "metadata": {},
     "output_type": "display_data"
    },
    {
     "data": {
      "application/vnd.jupyter.widget-view+json": {
       "model_id": "274488de4ad84a7aa4842162082bc7fe",
       "version_major": 2,
       "version_minor": 0
      },
      "text/plain": [
       "diffusion sampling:   0%|          | 0/20 [00:00<?, ?it/s]"
      ]
     },
     "metadata": {},
     "output_type": "display_data"
    },
    {
     "data": {
      "application/vnd.jupyter.widget-view+json": {
       "model_id": "1d95b4ee6162476e86c14f6ef1cbcd7d",
       "version_major": 2,
       "version_minor": 0
      },
      "text/plain": [
       "diffusion sampling:   0%|          | 0/20 [00:00<?, ?it/s]"
      ]
     },
     "metadata": {},
     "output_type": "display_data"
    },
    {
     "data": {
      "application/vnd.jupyter.widget-view+json": {
       "model_id": "359a1ebc10d5498982d37366feb87487",
       "version_major": 2,
       "version_minor": 0
      },
      "text/plain": [
       "diffusion sampling:   0%|          | 0/20 [00:00<?, ?it/s]"
      ]
     },
     "metadata": {},
     "output_type": "display_data"
    },
    {
     "data": {
      "application/vnd.jupyter.widget-view+json": {
       "model_id": "9738d9f894a3452b80ccd1677d4a92a2",
       "version_major": 2,
       "version_minor": 0
      },
      "text/plain": [
       "diffusion sampling:   0%|          | 0/20 [00:00<?, ?it/s]"
      ]
     },
     "metadata": {},
     "output_type": "display_data"
    },
    {
     "data": {
      "application/vnd.jupyter.widget-view+json": {
       "model_id": "291961073ea24c54a3e02b66aedef1cb",
       "version_major": 2,
       "version_minor": 0
      },
      "text/plain": [
       "diffusion sampling:   0%|          | 0/20 [00:00<?, ?it/s]"
      ]
     },
     "metadata": {},
     "output_type": "display_data"
    },
    {
     "data": {
      "application/vnd.jupyter.widget-view+json": {
       "model_id": "8321653991c747dd8fce4927c086113f",
       "version_major": 2,
       "version_minor": 0
      },
      "text/plain": [
       "class hypothsis:   0%|          | 0/6 [00:00<?, ?it/s]"
      ]
     },
     "metadata": {},
     "output_type": "display_data"
    },
    {
     "data": {
      "application/vnd.jupyter.widget-view+json": {
       "model_id": "f31e747fe4214132aafe382e3baa50e2",
       "version_major": 2,
       "version_minor": 0
      },
      "text/plain": [
       "diffusion sampling:   0%|          | 0/20 [00:00<?, ?it/s]"
      ]
     },
     "metadata": {},
     "output_type": "display_data"
    },
    {
     "data": {
      "application/vnd.jupyter.widget-view+json": {
       "model_id": "d2f94bffc29c4fca954d0e10a86461b4",
       "version_major": 2,
       "version_minor": 0
      },
      "text/plain": [
       "diffusion sampling:   0%|          | 0/20 [00:00<?, ?it/s]"
      ]
     },
     "metadata": {},
     "output_type": "display_data"
    },
    {
     "data": {
      "application/vnd.jupyter.widget-view+json": {
       "model_id": "134a445a0a0d4121a26751c0bc7c305b",
       "version_major": 2,
       "version_minor": 0
      },
      "text/plain": [
       "diffusion sampling:   0%|          | 0/20 [00:00<?, ?it/s]"
      ]
     },
     "metadata": {},
     "output_type": "display_data"
    },
    {
     "data": {
      "application/vnd.jupyter.widget-view+json": {
       "model_id": "12201967e76d45e7beb9327550bed2c6",
       "version_major": 2,
       "version_minor": 0
      },
      "text/plain": [
       "diffusion sampling:   0%|          | 0/20 [00:00<?, ?it/s]"
      ]
     },
     "metadata": {},
     "output_type": "display_data"
    },
    {
     "data": {
      "application/vnd.jupyter.widget-view+json": {
       "model_id": "9fe91b06d1ab45c29842a47ce9cf494e",
       "version_major": 2,
       "version_minor": 0
      },
      "text/plain": [
       "diffusion sampling:   0%|          | 0/20 [00:00<?, ?it/s]"
      ]
     },
     "metadata": {},
     "output_type": "display_data"
    },
    {
     "data": {
      "application/vnd.jupyter.widget-view+json": {
       "model_id": "19d04de8bb3f495abd8096f497881e63",
       "version_major": 2,
       "version_minor": 0
      },
      "text/plain": [
       "diffusion sampling:   0%|          | 0/20 [00:00<?, ?it/s]"
      ]
     },
     "metadata": {},
     "output_type": "display_data"
    },
    {
     "data": {
      "application/vnd.jupyter.widget-view+json": {
       "model_id": "833c259ee6c34abfb4ea8e75940412f2",
       "version_major": 2,
       "version_minor": 0
      },
      "text/plain": [
       "class hypothsis:   0%|          | 0/6 [00:00<?, ?it/s]"
      ]
     },
     "metadata": {},
     "output_type": "display_data"
    },
    {
     "data": {
      "application/vnd.jupyter.widget-view+json": {
       "model_id": "8d11fc25c5d34b1db115c5b215c8d4f1",
       "version_major": 2,
       "version_minor": 0
      },
      "text/plain": [
       "diffusion sampling:   0%|          | 0/20 [00:00<?, ?it/s]"
      ]
     },
     "metadata": {},
     "output_type": "display_data"
    },
    {
     "data": {
      "application/vnd.jupyter.widget-view+json": {
       "model_id": "fe3e610f3b4a494bad10e748a6a1517d",
       "version_major": 2,
       "version_minor": 0
      },
      "text/plain": [
       "diffusion sampling:   0%|          | 0/20 [00:00<?, ?it/s]"
      ]
     },
     "metadata": {},
     "output_type": "display_data"
    },
    {
     "data": {
      "application/vnd.jupyter.widget-view+json": {
       "model_id": "c8a791bd8fa944ee8a84d44e55daaace",
       "version_major": 2,
       "version_minor": 0
      },
      "text/plain": [
       "diffusion sampling:   0%|          | 0/20 [00:00<?, ?it/s]"
      ]
     },
     "metadata": {},
     "output_type": "display_data"
    },
    {
     "data": {
      "application/vnd.jupyter.widget-view+json": {
       "model_id": "dc078f374c0e47a290257515031442c0",
       "version_major": 2,
       "version_minor": 0
      },
      "text/plain": [
       "diffusion sampling:   0%|          | 0/20 [00:00<?, ?it/s]"
      ]
     },
     "metadata": {},
     "output_type": "display_data"
    },
    {
     "data": {
      "application/vnd.jupyter.widget-view+json": {
       "model_id": "5b1bb4a9f1e34f809544716734ca553f",
       "version_major": 2,
       "version_minor": 0
      },
      "text/plain": [
       "diffusion sampling:   0%|          | 0/20 [00:00<?, ?it/s]"
      ]
     },
     "metadata": {},
     "output_type": "display_data"
    },
    {
     "data": {
      "application/vnd.jupyter.widget-view+json": {
       "model_id": "1abb8c4a7a0e45b5abc0d131d701b75d",
       "version_major": 2,
       "version_minor": 0
      },
      "text/plain": [
       "diffusion sampling:   0%|          | 0/20 [00:00<?, ?it/s]"
      ]
     },
     "metadata": {},
     "output_type": "display_data"
    },
    {
     "data": {
      "application/vnd.jupyter.widget-view+json": {
       "model_id": "585045925c8e4a109a10bf952c858dd8",
       "version_major": 2,
       "version_minor": 0
      },
      "text/plain": [
       "class hypothsis:   0%|          | 0/6 [00:00<?, ?it/s]"
      ]
     },
     "metadata": {},
     "output_type": "display_data"
    },
    {
     "data": {
      "application/vnd.jupyter.widget-view+json": {
       "model_id": "e3b5a31427be4f968bece0d0c26e258d",
       "version_major": 2,
       "version_minor": 0
      },
      "text/plain": [
       "diffusion sampling:   0%|          | 0/20 [00:00<?, ?it/s]"
      ]
     },
     "metadata": {},
     "output_type": "display_data"
    },
    {
     "data": {
      "application/vnd.jupyter.widget-view+json": {
       "model_id": "58678a3bbe7b4ab493388d100c881462",
       "version_major": 2,
       "version_minor": 0
      },
      "text/plain": [
       "diffusion sampling:   0%|          | 0/20 [00:00<?, ?it/s]"
      ]
     },
     "metadata": {},
     "output_type": "display_data"
    },
    {
     "data": {
      "application/vnd.jupyter.widget-view+json": {
       "model_id": "68be32fe17a744819a97da80ec9d93ff",
       "version_major": 2,
       "version_minor": 0
      },
      "text/plain": [
       "diffusion sampling:   0%|          | 0/20 [00:00<?, ?it/s]"
      ]
     },
     "metadata": {},
     "output_type": "display_data"
    },
    {
     "data": {
      "application/vnd.jupyter.widget-view+json": {
       "model_id": "7ae2dd31a70b42fdbcc2f5cd24f7d169",
       "version_major": 2,
       "version_minor": 0
      },
      "text/plain": [
       "diffusion sampling:   0%|          | 0/20 [00:00<?, ?it/s]"
      ]
     },
     "metadata": {},
     "output_type": "display_data"
    },
    {
     "data": {
      "application/vnd.jupyter.widget-view+json": {
       "model_id": "f104308653604c1dbc94ce7716bb22b4",
       "version_major": 2,
       "version_minor": 0
      },
      "text/plain": [
       "diffusion sampling:   0%|          | 0/20 [00:00<?, ?it/s]"
      ]
     },
     "metadata": {},
     "output_type": "display_data"
    },
    {
     "data": {
      "application/vnd.jupyter.widget-view+json": {
       "model_id": "763229831f0c4922a344be2bb36baeb6",
       "version_major": 2,
       "version_minor": 0
      },
      "text/plain": [
       "diffusion sampling:   0%|          | 0/20 [00:00<?, ?it/s]"
      ]
     },
     "metadata": {},
     "output_type": "display_data"
    },
    {
     "data": {
      "application/vnd.jupyter.widget-view+json": {
       "model_id": "6f7c991773c94cce997c2a84de29b86c",
       "version_major": 2,
       "version_minor": 0
      },
      "text/plain": [
       "class hypothsis:   0%|          | 0/6 [00:00<?, ?it/s]"
      ]
     },
     "metadata": {},
     "output_type": "display_data"
    },
    {
     "data": {
      "application/vnd.jupyter.widget-view+json": {
       "model_id": "1c289c87f6004c0d84cb1552f438cd21",
       "version_major": 2,
       "version_minor": 0
      },
      "text/plain": [
       "diffusion sampling:   0%|          | 0/20 [00:00<?, ?it/s]"
      ]
     },
     "metadata": {},
     "output_type": "display_data"
    },
    {
     "data": {
      "application/vnd.jupyter.widget-view+json": {
       "model_id": "521fc6e948ce4ca1b8cc8b05f23635a9",
       "version_major": 2,
       "version_minor": 0
      },
      "text/plain": [
       "diffusion sampling:   0%|          | 0/20 [00:00<?, ?it/s]"
      ]
     },
     "metadata": {},
     "output_type": "display_data"
    },
    {
     "data": {
      "application/vnd.jupyter.widget-view+json": {
       "model_id": "4234f9c7bc5d403080fff2d294be97fd",
       "version_major": 2,
       "version_minor": 0
      },
      "text/plain": [
       "diffusion sampling:   0%|          | 0/20 [00:00<?, ?it/s]"
      ]
     },
     "metadata": {},
     "output_type": "display_data"
    },
    {
     "data": {
      "application/vnd.jupyter.widget-view+json": {
       "model_id": "fd6d48f7bd1144c5b2d445970a9defee",
       "version_major": 2,
       "version_minor": 0
      },
      "text/plain": [
       "diffusion sampling:   0%|          | 0/20 [00:00<?, ?it/s]"
      ]
     },
     "metadata": {},
     "output_type": "display_data"
    },
    {
     "data": {
      "application/vnd.jupyter.widget-view+json": {
       "model_id": "d58e11d6cb36466ca4c45182649f0e91",
       "version_major": 2,
       "version_minor": 0
      },
      "text/plain": [
       "diffusion sampling:   0%|          | 0/20 [00:00<?, ?it/s]"
      ]
     },
     "metadata": {},
     "output_type": "display_data"
    },
    {
     "data": {
      "application/vnd.jupyter.widget-view+json": {
       "model_id": "3cbf32b94b1a431080abc56218d8c53b",
       "version_major": 2,
       "version_minor": 0
      },
      "text/plain": [
       "diffusion sampling:   0%|          | 0/20 [00:00<?, ?it/s]"
      ]
     },
     "metadata": {},
     "output_type": "display_data"
    },
    {
     "data": {
      "application/vnd.jupyter.widget-view+json": {
       "model_id": "67ff6db7abb04bca91ddfe507d2d4ca1",
       "version_major": 2,
       "version_minor": 0
      },
      "text/plain": [
       "class hypothsis:   0%|          | 0/6 [00:00<?, ?it/s]"
      ]
     },
     "metadata": {},
     "output_type": "display_data"
    },
    {
     "data": {
      "application/vnd.jupyter.widget-view+json": {
       "model_id": "91c5a9087f4a460f842bb5a6e5684e96",
       "version_major": 2,
       "version_minor": 0
      },
      "text/plain": [
       "diffusion sampling:   0%|          | 0/20 [00:00<?, ?it/s]"
      ]
     },
     "metadata": {},
     "output_type": "display_data"
    },
    {
     "data": {
      "application/vnd.jupyter.widget-view+json": {
       "model_id": "e87a79e3537342f1b9acaad4a6300f8a",
       "version_major": 2,
       "version_minor": 0
      },
      "text/plain": [
       "diffusion sampling:   0%|          | 0/20 [00:00<?, ?it/s]"
      ]
     },
     "metadata": {},
     "output_type": "display_data"
    },
    {
     "data": {
      "application/vnd.jupyter.widget-view+json": {
       "model_id": "74153cad21a44464b8cf1b257f5a1fac",
       "version_major": 2,
       "version_minor": 0
      },
      "text/plain": [
       "diffusion sampling:   0%|          | 0/20 [00:00<?, ?it/s]"
      ]
     },
     "metadata": {},
     "output_type": "display_data"
    },
    {
     "data": {
      "application/vnd.jupyter.widget-view+json": {
       "model_id": "4fc348bcc9364d58a9eb578d9be0c7f3",
       "version_major": 2,
       "version_minor": 0
      },
      "text/plain": [
       "diffusion sampling:   0%|          | 0/20 [00:00<?, ?it/s]"
      ]
     },
     "metadata": {},
     "output_type": "display_data"
    },
    {
     "data": {
      "application/vnd.jupyter.widget-view+json": {
       "model_id": "a4423ee06fe94cf8b094724af9eb32a4",
       "version_major": 2,
       "version_minor": 0
      },
      "text/plain": [
       "diffusion sampling:   0%|          | 0/20 [00:00<?, ?it/s]"
      ]
     },
     "metadata": {},
     "output_type": "display_data"
    },
    {
     "data": {
      "application/vnd.jupyter.widget-view+json": {
       "model_id": "37199fe07b2e411184cc08112697cf0f",
       "version_major": 2,
       "version_minor": 0
      },
      "text/plain": [
       "diffusion sampling:   0%|          | 0/20 [00:00<?, ?it/s]"
      ]
     },
     "metadata": {},
     "output_type": "display_data"
    },
    {
     "data": {
      "application/vnd.jupyter.widget-view+json": {
       "model_id": "a8567e4911584b63a4a5fd7f28a5e398",
       "version_major": 2,
       "version_minor": 0
      },
      "text/plain": [
       "class hypothsis:   0%|          | 0/6 [00:00<?, ?it/s]"
      ]
     },
     "metadata": {},
     "output_type": "display_data"
    },
    {
     "data": {
      "application/vnd.jupyter.widget-view+json": {
       "model_id": "1730c43535e04195be4edd4cb08371e0",
       "version_major": 2,
       "version_minor": 0
      },
      "text/plain": [
       "diffusion sampling:   0%|          | 0/20 [00:00<?, ?it/s]"
      ]
     },
     "metadata": {},
     "output_type": "display_data"
    },
    {
     "data": {
      "application/vnd.jupyter.widget-view+json": {
       "model_id": "ff66fe982d96471aa576b1388975ec68",
       "version_major": 2,
       "version_minor": 0
      },
      "text/plain": [
       "diffusion sampling:   0%|          | 0/20 [00:00<?, ?it/s]"
      ]
     },
     "metadata": {},
     "output_type": "display_data"
    },
    {
     "data": {
      "application/vnd.jupyter.widget-view+json": {
       "model_id": "7461a1462c364a9d8958a3d69f1381a1",
       "version_major": 2,
       "version_minor": 0
      },
      "text/plain": [
       "diffusion sampling:   0%|          | 0/20 [00:00<?, ?it/s]"
      ]
     },
     "metadata": {},
     "output_type": "display_data"
    },
    {
     "data": {
      "application/vnd.jupyter.widget-view+json": {
       "model_id": "3ca7c4df836840118b4dd9b121ac8364",
       "version_major": 2,
       "version_minor": 0
      },
      "text/plain": [
       "diffusion sampling:   0%|          | 0/20 [00:00<?, ?it/s]"
      ]
     },
     "metadata": {},
     "output_type": "display_data"
    },
    {
     "data": {
      "application/vnd.jupyter.widget-view+json": {
       "model_id": "16c6a34a76e04cf2878577a14454b2a0",
       "version_major": 2,
       "version_minor": 0
      },
      "text/plain": [
       "diffusion sampling:   0%|          | 0/20 [00:00<?, ?it/s]"
      ]
     },
     "metadata": {},
     "output_type": "display_data"
    },
    {
     "data": {
      "application/vnd.jupyter.widget-view+json": {
       "model_id": "9b7d4caad42a4f41a0f545e061c3b5b5",
       "version_major": 2,
       "version_minor": 0
      },
      "text/plain": [
       "diffusion sampling:   0%|          | 0/20 [00:00<?, ?it/s]"
      ]
     },
     "metadata": {},
     "output_type": "display_data"
    },
    {
     "data": {
      "application/vnd.jupyter.widget-view+json": {
       "model_id": "ba995eb2278a45acb9f2a578195456e4",
       "version_major": 2,
       "version_minor": 0
      },
      "text/plain": [
       "class hypothsis:   0%|          | 0/6 [00:00<?, ?it/s]"
      ]
     },
     "metadata": {},
     "output_type": "display_data"
    },
    {
     "data": {
      "application/vnd.jupyter.widget-view+json": {
       "model_id": "382d811edd8b49a6b5c3d53dec44d366",
       "version_major": 2,
       "version_minor": 0
      },
      "text/plain": [
       "diffusion sampling:   0%|          | 0/20 [00:00<?, ?it/s]"
      ]
     },
     "metadata": {},
     "output_type": "display_data"
    },
    {
     "data": {
      "application/vnd.jupyter.widget-view+json": {
       "model_id": "da2906ea97a5486abbb29cd9a54d7bfc",
       "version_major": 2,
       "version_minor": 0
      },
      "text/plain": [
       "diffusion sampling:   0%|          | 0/20 [00:00<?, ?it/s]"
      ]
     },
     "metadata": {},
     "output_type": "display_data"
    },
    {
     "data": {
      "application/vnd.jupyter.widget-view+json": {
       "model_id": "088c0c88e519463c9577308806944e35",
       "version_major": 2,
       "version_minor": 0
      },
      "text/plain": [
       "diffusion sampling:   0%|          | 0/20 [00:00<?, ?it/s]"
      ]
     },
     "metadata": {},
     "output_type": "display_data"
    },
    {
     "data": {
      "application/vnd.jupyter.widget-view+json": {
       "model_id": "431d639d11a8488f910407ac4ea0164e",
       "version_major": 2,
       "version_minor": 0
      },
      "text/plain": [
       "diffusion sampling:   0%|          | 0/20 [00:00<?, ?it/s]"
      ]
     },
     "metadata": {},
     "output_type": "display_data"
    },
    {
     "data": {
      "application/vnd.jupyter.widget-view+json": {
       "model_id": "a8c9fe25b9b74565b5be6efad7b3a36d",
       "version_major": 2,
       "version_minor": 0
      },
      "text/plain": [
       "diffusion sampling:   0%|          | 0/20 [00:00<?, ?it/s]"
      ]
     },
     "metadata": {},
     "output_type": "display_data"
    },
    {
     "data": {
      "application/vnd.jupyter.widget-view+json": {
       "model_id": "77cdb3eba00c487381ffe088f8593f7d",
       "version_major": 2,
       "version_minor": 0
      },
      "text/plain": [
       "diffusion sampling:   0%|          | 0/20 [00:00<?, ?it/s]"
      ]
     },
     "metadata": {},
     "output_type": "display_data"
    },
    {
     "data": {
      "application/vnd.jupyter.widget-view+json": {
       "model_id": "086dc951199542e7be05c62f1e6848ed",
       "version_major": 2,
       "version_minor": 0
      },
      "text/plain": [
       "class hypothsis:   0%|          | 0/6 [00:00<?, ?it/s]"
      ]
     },
     "metadata": {},
     "output_type": "display_data"
    },
    {
     "data": {
      "application/vnd.jupyter.widget-view+json": {
       "model_id": "f8f96368b4734efc85547de677de0021",
       "version_major": 2,
       "version_minor": 0
      },
      "text/plain": [
       "diffusion sampling:   0%|          | 0/20 [00:00<?, ?it/s]"
      ]
     },
     "metadata": {},
     "output_type": "display_data"
    },
    {
     "data": {
      "application/vnd.jupyter.widget-view+json": {
       "model_id": "92643481f1e644b086a98acd774b18cc",
       "version_major": 2,
       "version_minor": 0
      },
      "text/plain": [
       "diffusion sampling:   0%|          | 0/20 [00:00<?, ?it/s]"
      ]
     },
     "metadata": {},
     "output_type": "display_data"
    },
    {
     "data": {
      "application/vnd.jupyter.widget-view+json": {
       "model_id": "b16606d679cd4fd6900123c35d84f6ff",
       "version_major": 2,
       "version_minor": 0
      },
      "text/plain": [
       "diffusion sampling:   0%|          | 0/20 [00:00<?, ?it/s]"
      ]
     },
     "metadata": {},
     "output_type": "display_data"
    },
    {
     "data": {
      "application/vnd.jupyter.widget-view+json": {
       "model_id": "187df5f2cc294e839a277a6611ac515d",
       "version_major": 2,
       "version_minor": 0
      },
      "text/plain": [
       "diffusion sampling:   0%|          | 0/20 [00:00<?, ?it/s]"
      ]
     },
     "metadata": {},
     "output_type": "display_data"
    },
    {
     "data": {
      "application/vnd.jupyter.widget-view+json": {
       "model_id": "2a0dd91d1f474130909b9e26bbe94e06",
       "version_major": 2,
       "version_minor": 0
      },
      "text/plain": [
       "diffusion sampling:   0%|          | 0/20 [00:00<?, ?it/s]"
      ]
     },
     "metadata": {},
     "output_type": "display_data"
    },
    {
     "data": {
      "application/vnd.jupyter.widget-view+json": {
       "model_id": "2227d0b579af48cea1459d5279d7dea1",
       "version_major": 2,
       "version_minor": 0
      },
      "text/plain": [
       "diffusion sampling:   0%|          | 0/20 [00:00<?, ?it/s]"
      ]
     },
     "metadata": {},
     "output_type": "display_data"
    },
    {
     "data": {
      "application/vnd.jupyter.widget-view+json": {
       "model_id": "0f409ce9396f4608b29b702ea758f444",
       "version_major": 2,
       "version_minor": 0
      },
      "text/plain": [
       "class hypothsis:   0%|          | 0/6 [00:00<?, ?it/s]"
      ]
     },
     "metadata": {},
     "output_type": "display_data"
    },
    {
     "data": {
      "application/vnd.jupyter.widget-view+json": {
       "model_id": "74d673a13ba84061ae7e282df30c7076",
       "version_major": 2,
       "version_minor": 0
      },
      "text/plain": [
       "diffusion sampling:   0%|          | 0/20 [00:00<?, ?it/s]"
      ]
     },
     "metadata": {},
     "output_type": "display_data"
    },
    {
     "data": {
      "application/vnd.jupyter.widget-view+json": {
       "model_id": "bfaa15d85e6844feb1d8edc7e70c1a3d",
       "version_major": 2,
       "version_minor": 0
      },
      "text/plain": [
       "diffusion sampling:   0%|          | 0/20 [00:00<?, ?it/s]"
      ]
     },
     "metadata": {},
     "output_type": "display_data"
    },
    {
     "data": {
      "application/vnd.jupyter.widget-view+json": {
       "model_id": "5aa249c2ce5641fbbeb686f234154e2c",
       "version_major": 2,
       "version_minor": 0
      },
      "text/plain": [
       "diffusion sampling:   0%|          | 0/20 [00:00<?, ?it/s]"
      ]
     },
     "metadata": {},
     "output_type": "display_data"
    },
    {
     "data": {
      "application/vnd.jupyter.widget-view+json": {
       "model_id": "bc70528ab5d343bb8d136bf51045e6a2",
       "version_major": 2,
       "version_minor": 0
      },
      "text/plain": [
       "diffusion sampling:   0%|          | 0/20 [00:00<?, ?it/s]"
      ]
     },
     "metadata": {},
     "output_type": "display_data"
    },
    {
     "data": {
      "application/vnd.jupyter.widget-view+json": {
       "model_id": "7998d399010b473080e88879eeebe440",
       "version_major": 2,
       "version_minor": 0
      },
      "text/plain": [
       "diffusion sampling:   0%|          | 0/20 [00:00<?, ?it/s]"
      ]
     },
     "metadata": {},
     "output_type": "display_data"
    },
    {
     "data": {
      "application/vnd.jupyter.widget-view+json": {
       "model_id": "e23a4b8a57ee49de8bf108a969fab862",
       "version_major": 2,
       "version_minor": 0
      },
      "text/plain": [
       "diffusion sampling:   0%|          | 0/20 [00:00<?, ?it/s]"
      ]
     },
     "metadata": {},
     "output_type": "display_data"
    },
    {
     "data": {
      "application/vnd.jupyter.widget-view+json": {
       "model_id": "afd9626e8012436ab63af88739784d11",
       "version_major": 2,
       "version_minor": 0
      },
      "text/plain": [
       "class hypothsis:   0%|          | 0/6 [00:00<?, ?it/s]"
      ]
     },
     "metadata": {},
     "output_type": "display_data"
    },
    {
     "data": {
      "application/vnd.jupyter.widget-view+json": {
       "model_id": "cfcef63e97054ce9a71cc6fd246040ef",
       "version_major": 2,
       "version_minor": 0
      },
      "text/plain": [
       "diffusion sampling:   0%|          | 0/20 [00:00<?, ?it/s]"
      ]
     },
     "metadata": {},
     "output_type": "display_data"
    },
    {
     "data": {
      "application/vnd.jupyter.widget-view+json": {
       "model_id": "a7e6aeaf45ea4127a73554477feba114",
       "version_major": 2,
       "version_minor": 0
      },
      "text/plain": [
       "diffusion sampling:   0%|          | 0/20 [00:00<?, ?it/s]"
      ]
     },
     "metadata": {},
     "output_type": "display_data"
    },
    {
     "data": {
      "application/vnd.jupyter.widget-view+json": {
       "model_id": "233932b1e7d341a29857a8b942949a06",
       "version_major": 2,
       "version_minor": 0
      },
      "text/plain": [
       "diffusion sampling:   0%|          | 0/20 [00:00<?, ?it/s]"
      ]
     },
     "metadata": {},
     "output_type": "display_data"
    },
    {
     "data": {
      "application/vnd.jupyter.widget-view+json": {
       "model_id": "ebc587a67dc443c4b3cebf6bec98a3f9",
       "version_major": 2,
       "version_minor": 0
      },
      "text/plain": [
       "diffusion sampling:   0%|          | 0/20 [00:00<?, ?it/s]"
      ]
     },
     "metadata": {},
     "output_type": "display_data"
    },
    {
     "data": {
      "application/vnd.jupyter.widget-view+json": {
       "model_id": "503ffb6f375c462b8c78229f3aec8c8e",
       "version_major": 2,
       "version_minor": 0
      },
      "text/plain": [
       "diffusion sampling:   0%|          | 0/20 [00:00<?, ?it/s]"
      ]
     },
     "metadata": {},
     "output_type": "display_data"
    },
    {
     "data": {
      "application/vnd.jupyter.widget-view+json": {
       "model_id": "d65b3c3182ce4e25a47bcf66b9ef36ae",
       "version_major": 2,
       "version_minor": 0
      },
      "text/plain": [
       "diffusion sampling:   0%|          | 0/20 [00:00<?, ?it/s]"
      ]
     },
     "metadata": {},
     "output_type": "display_data"
    }
   ],
   "source": [
    "# run classification for the entire dataset\n",
    "\n",
    "l2_labels_pred, l1_labels_pred, true_labels = ct_ldm_clf.classify_dataset(dataset=ct_subset,\n",
    "                                                                          batch_size=1,\n",
    "                                                                          n_trials=1,\n",
    "                                                                          t_sampling_stride=50,\n",
    "                                                                          classes=subset_classes)"
   ]
  },
  {
   "cell_type": "code",
   "execution_count": 29,
   "id": "231edc2a-71d0-4c38-9c45-a4f4b183a823",
   "metadata": {},
   "outputs": [],
   "source": [
    "import pickle\n",
    "with open('tmp_true.npy', 'wb') as f:\n",
    "    pickle.dump(true_labels, f)\n",
    "with open('tmp_l2_pred.npy', 'wb') as f:\n",
    "    pickle.dump(l2_labels_pred, f)\n"
   ]
  },
  {
   "cell_type": "code",
   "execution_count": 30,
   "id": "f7d7cc28-ac1b-4bbb-9489-905c255bc251",
   "metadata": {},
   "outputs": [],
   "source": [
    "import pickle\n",
    "with open('tmp_true.npy', 'rb') as f:\n",
    "    true_labels = pickle.load(f)\n",
    "with open('tmp_l2_pred.npy', 'rb') as f:\n",
    "    l2_labels_pred = pickle.load(f)"
   ]
  },
  {
   "cell_type": "code",
   "execution_count": 33,
   "id": "c156d51a-28f8-4d65-9d41-2093a387f182",
   "metadata": {},
   "outputs": [
    {
     "data": {
      "image/png": "[encoded data removed]",
      "text/plain": [
       "<Figure size 1200x1200 with 2 Axes>"
      ]
     },
     "metadata": {},
     "output_type": "display_data"
    }
   ],
   "source": [
    "plot_confusion_matrix(true_labels, l2_labels_pred, ct_subset.class_names)"
   ]
  },
  {
   "cell_type": "code",
   "execution_count": 20,
   "id": "91bc6541-25c8-4e57-a1ed-f7d9cb1ce067",
   "metadata": {},
   "outputs": [
    {
     "name": "stdout",
     "output_type": "stream",
     "text": [
      "L2 accuracy: 26.171875\n",
      "L1 accuracy: 25.78125\n"
     ]
    },
    {
     "ename": "ModuleNotFoundError",
     "evalue": "No module named 'sklearn'",
     "output_type": "error",
     "traceback": [
      "\u001b[0;31m---------------------------------------------------------------------------\u001b[0m",
      "\u001b[0;31mModuleNotFoundError\u001b[0m                       Traceback (most recent call last)",
      "Cell \u001b[0;32mIn[20], line 7\u001b[0m\n\u001b[1;32m      4\u001b[0m \u001b[38;5;28mprint\u001b[39m(\u001b[38;5;124mf\u001b[39m\u001b[38;5;124m\"\u001b[39m\u001b[38;5;124mL2 accuracy: \u001b[39m\u001b[38;5;132;01m{\u001b[39;00ml2_acc\u001b[38;5;132;01m}\u001b[39;00m\u001b[38;5;124m\"\u001b[39m)\n\u001b[1;32m      5\u001b[0m \u001b[38;5;28mprint\u001b[39m(\u001b[38;5;124mf\u001b[39m\u001b[38;5;124m\"\u001b[39m\u001b[38;5;124mL1 accuracy: \u001b[39m\u001b[38;5;132;01m{\u001b[39;00ml1_acc\u001b[38;5;132;01m}\u001b[39;00m\u001b[38;5;124m\"\u001b[39m)\n\u001b[0;32m----> 7\u001b[0m \u001b[38;5;28;01mfrom\u001b[39;00m \u001b[38;5;21;01msklearn\u001b[39;00m\u001b[38;5;21;01m.\u001b[39;00m\u001b[38;5;21;01mmetrics\u001b[39;00m \u001b[38;5;28;01mimport\u001b[39;00m confusion_matrix\n\u001b[1;32m      8\u001b[0m \u001b[38;5;28;01mfrom\u001b[39;00m \u001b[38;5;21;01msklearn\u001b[39;00m\u001b[38;5;21;01m.\u001b[39;00m\u001b[38;5;21;01mmetrics\u001b[39;00m \u001b[38;5;28;01mimport\u001b[39;00m confusion_matrix, ConfusionMatrixDisplay\n\u001b[1;32m      9\u001b[0m \u001b[38;5;28;01mimport\u001b[39;00m \u001b[38;5;21;01mmatplotlib\u001b[39;00m\u001b[38;5;21;01m.\u001b[39;00m\u001b[38;5;21;01mpyplot\u001b[39;00m \u001b[38;5;28;01mas\u001b[39;00m \u001b[38;5;21;01mplt\u001b[39;00m\n",
      "\u001b[0;31mModuleNotFoundError\u001b[0m: No module named 'sklearn'"
     ]
    }
   ],
   "source": [
    "l2_acc = ct_ldm_clf.get_classification_accuracy(l2_labels_pred, true_labels)\n",
    "l1_acc = ct_ldm_clf.get_classification_accuracy(l1_labels_pred, true_labels)\n",
    "\n",
    "print(f\"L2 accuracy: {l2_acc}\")\n",
    "print(f\"L1 accuracy: {l1_acc}\")\n",
    "\n",
    "from sklearn.metrics import confusion_matrix\n",
    "from sklearn.metrics import confusion_matrix, ConfusionMatrixDisplay\n",
    "import matplotlib.pyplot as plt\n",
    "\n",
    "cm = confusion_matrix(true_labels, l2_labels_pred, labels=imagnet_subset.class_names)\n",
    "disp = ConfusionMatrixDisplay(confusion_matrix=cm,\n",
    "                               display_labels=imagnet_subset.class_names)\n",
    "\n",
    "disp.plot()\n",
    "plt.show()"
   ]
  },
  {
   "cell_type": "markdown",
   "id": "8c2fdbb3-3f95-4548-b89a-23f315960d33",
   "metadata": {},
   "source": [
    "# Diffusion Classifier - accuracy evaluation"
   ]
  },
  {
   "cell_type": "code",
   "execution_count": 4,
   "id": "751d8401-2fe3-4445-a3b3-f1b29282cf6c",
   "metadata": {},
   "outputs": [
    {
     "data": {
      "text/plain": [
       "<torch._C.Generator at 0x7f32584ca6d0>"
      ]
     },
     "execution_count": 4,
     "metadata": {},
     "output_type": "execute_result"
    }
   ],
   "source": [
    "import numpy as np\n",
    "import torch\n",
    "# set a fixed random seed (both numpy and torch)\n",
    "np.random.seed(42)\n",
    "torch.manual_seed(42)"
   ]
  },
  {
   "cell_type": "code",
   "execution_count": 5,
   "id": "5d5743dd-0736-4e85-a51a-3822de9fdf69",
   "metadata": {},
   "outputs": [
    {
     "ename": "ValueError",
     "evalue": "transformers.__spec__ is None",
     "output_type": "error",
     "traceback": [
      "\u001b[0;31m---------------------------------------------------------------------------\u001b[0m",
      "\u001b[0;31mValueError\u001b[0m                                Traceback (most recent call last)",
      "Cell \u001b[0;32mIn[5], line 5\u001b[0m\n\u001b[1;32m      2\u001b[0m \u001b[38;5;28;01mfrom\u001b[39;00m \u001b[38;5;21;01menum\u001b[39;00m \u001b[38;5;28;01mimport\u001b[39;00m Enum\n\u001b[1;32m      3\u001b[0m \u001b[38;5;28;01mimport\u001b[39;00m \u001b[38;5;21;01mpickle\u001b[39;00m\n\u001b[0;32m----> 5\u001b[0m \u001b[38;5;28;01mfrom\u001b[39;00m \u001b[38;5;21;01mldm_classifier\u001b[39;00m \u001b[38;5;28;01mimport\u001b[39;00m LdmClassifier, MonaiLdmClassifier\n\u001b[1;32m      7\u001b[0m \u001b[38;5;28;01mdef\u001b[39;00m \u001b[38;5;21mget_training_ckpt_files\u001b[39m(output_dir, training_name):\n\u001b[1;32m      8\u001b[0m   ckpt_dir \u001b[38;5;241m=\u001b[39m os\u001b[38;5;241m.\u001b[39mpath\u001b[38;5;241m.\u001b[39mjoin(output_dir, training_name, \u001b[38;5;124m'\u001b[39m\u001b[38;5;124mcheckpoints\u001b[39m\u001b[38;5;124m'\u001b[39m)\n",
      "File \u001b[0;32m~/deep-learning-course/Project/ldm_classifier.py:11\u001b[0m\n\u001b[1;32m      8\u001b[0m sys\u001b[38;5;241m.\u001b[39mpath\u001b[38;5;241m.\u001b[39mappend(\u001b[38;5;124m'\u001b[39m\u001b[38;5;124mlatent-diffusion\u001b[39m\u001b[38;5;124m'\u001b[39m)\n\u001b[1;32m      9\u001b[0m sys\u001b[38;5;241m.\u001b[39mpath\u001b[38;5;241m.\u001b[39mappend(\u001b[38;5;124m'\u001b[39m\u001b[38;5;124mlatent-diffusion/ldm/data/\u001b[39m\u001b[38;5;124m'\u001b[39m)\n\u001b[0;32m---> 11\u001b[0m \u001b[38;5;28;01mfrom\u001b[39;00m \u001b[38;5;21;01mldm\u001b[39;00m\u001b[38;5;21;01m.\u001b[39;00m\u001b[38;5;21;01mmodels\u001b[39;00m\u001b[38;5;21;01m.\u001b[39;00m\u001b[38;5;21;01mdiffusion\u001b[39;00m\u001b[38;5;21;01m.\u001b[39;00m\u001b[38;5;21;01mddpm\u001b[39;00m \u001b[38;5;28;01mimport\u001b[39;00m LatentDiffusion\n\u001b[1;32m     12\u001b[0m \u001b[38;5;28;01mfrom\u001b[39;00m \u001b[38;5;21;01mgenerative\u001b[39;00m\u001b[38;5;21;01m.\u001b[39;00m\u001b[38;5;21;01mnetworks\u001b[39;00m\u001b[38;5;21;01m.\u001b[39;00m\u001b[38;5;21;01mnets\u001b[39;00m \u001b[38;5;28;01mimport\u001b[39;00m DiffusionModelUNet, AutoencoderKL\n\u001b[1;32m     14\u001b[0m \u001b[38;5;28;01mfrom\u001b[39;00m \u001b[38;5;21;01mtorch\u001b[39;00m\u001b[38;5;21;01m.\u001b[39;00m\u001b[38;5;21;01mutils\u001b[39;00m\u001b[38;5;21;01m.\u001b[39;00m\u001b[38;5;21;01mdata\u001b[39;00m \u001b[38;5;28;01mimport\u001b[39;00m Dataset\n",
      "File \u001b[0;32m~/deep-learning-course/Project/latent-diffusion/ldm/models/diffusion/ddpm.py:12\u001b[0m\n\u001b[1;32m     10\u001b[0m \u001b[38;5;28;01mimport\u001b[39;00m \u001b[38;5;21;01mtorch\u001b[39;00m\u001b[38;5;21;01m.\u001b[39;00m\u001b[38;5;21;01mnn\u001b[39;00m \u001b[38;5;28;01mas\u001b[39;00m \u001b[38;5;21;01mnn\u001b[39;00m\n\u001b[1;32m     11\u001b[0m \u001b[38;5;28;01mimport\u001b[39;00m \u001b[38;5;21;01mnumpy\u001b[39;00m \u001b[38;5;28;01mas\u001b[39;00m \u001b[38;5;21;01mnp\u001b[39;00m\n\u001b[0;32m---> 12\u001b[0m \u001b[38;5;28;01mimport\u001b[39;00m \u001b[38;5;21;01mpytorch_lightning\u001b[39;00m \u001b[38;5;28;01mas\u001b[39;00m \u001b[38;5;21;01mpl\u001b[39;00m\n\u001b[1;32m     13\u001b[0m \u001b[38;5;28;01mfrom\u001b[39;00m \u001b[38;5;21;01mtorch\u001b[39;00m\u001b[38;5;21;01m.\u001b[39;00m\u001b[38;5;21;01moptim\u001b[39;00m\u001b[38;5;21;01m.\u001b[39;00m\u001b[38;5;21;01mlr_scheduler\u001b[39;00m \u001b[38;5;28;01mimport\u001b[39;00m LambdaLR\n\u001b[1;32m     14\u001b[0m \u001b[38;5;28;01mfrom\u001b[39;00m \u001b[38;5;21;01meinops\u001b[39;00m \u001b[38;5;28;01mimport\u001b[39;00m rearrange, repeat\n",
      "File \u001b[0;32m/opt/conda/envs/ldm/lib/python3.8/site-packages/pytorch_lightning/__init__.py:20\u001b[0m\n\u001b[1;32m     17\u001b[0m _PACKAGE_ROOT \u001b[38;5;241m=\u001b[39m os\u001b[38;5;241m.\u001b[39mpath\u001b[38;5;241m.\u001b[39mdirname(\u001b[38;5;18m__file__\u001b[39m)\n\u001b[1;32m     18\u001b[0m _PROJECT_ROOT \u001b[38;5;241m=\u001b[39m os\u001b[38;5;241m.\u001b[39mpath\u001b[38;5;241m.\u001b[39mdirname(_PACKAGE_ROOT)\n\u001b[0;32m---> 20\u001b[0m \u001b[38;5;28;01mfrom\u001b[39;00m \u001b[38;5;21;01mpytorch_lightning\u001b[39;00m \u001b[38;5;28;01mimport\u001b[39;00m metrics  \u001b[38;5;66;03m# noqa: E402\u001b[39;00m\n\u001b[1;32m     21\u001b[0m \u001b[38;5;28;01mfrom\u001b[39;00m \u001b[38;5;21;01mpytorch_lightning\u001b[39;00m\u001b[38;5;21;01m.\u001b[39;00m\u001b[38;5;21;01mcallbacks\u001b[39;00m \u001b[38;5;28;01mimport\u001b[39;00m Callback  \u001b[38;5;66;03m# noqa: E402\u001b[39;00m\n\u001b[1;32m     22\u001b[0m \u001b[38;5;28;01mfrom\u001b[39;00m \u001b[38;5;21;01mpytorch_lightning\u001b[39;00m\u001b[38;5;21;01m.\u001b[39;00m\u001b[38;5;21;01mcore\u001b[39;00m \u001b[38;5;28;01mimport\u001b[39;00m LightningDataModule, LightningModule  \u001b[38;5;66;03m# noqa: E402\u001b[39;00m\n",
      "File \u001b[0;32m/opt/conda/envs/ldm/lib/python3.8/site-packages/pytorch_lightning/metrics/__init__.py:15\u001b[0m\n\u001b[1;32m      1\u001b[0m \u001b[38;5;66;03m# Copyright The PyTorch Lightning team.\u001b[39;00m\n\u001b[1;32m      2\u001b[0m \u001b[38;5;66;03m#\u001b[39;00m\n\u001b[1;32m      3\u001b[0m \u001b[38;5;66;03m# Licensed under the Apache License, Version 2.0 (the \"License\");\u001b[39;00m\n\u001b[0;32m   (...)\u001b[0m\n\u001b[1;32m     12\u001b[0m \u001b[38;5;66;03m# See the License for the specific language governing permissions and\u001b[39;00m\n\u001b[1;32m     13\u001b[0m \u001b[38;5;66;03m# limitations under the License.\u001b[39;00m\n\u001b[0;32m---> 15\u001b[0m \u001b[38;5;28;01mfrom\u001b[39;00m \u001b[38;5;21;01mpytorch_lightning\u001b[39;00m\u001b[38;5;21;01m.\u001b[39;00m\u001b[38;5;21;01mmetrics\u001b[39;00m\u001b[38;5;21;01m.\u001b[39;00m\u001b[38;5;21;01mclassification\u001b[39;00m \u001b[38;5;28;01mimport\u001b[39;00m (  \u001b[38;5;66;03m# noqa: F401\u001b[39;00m\n\u001b[1;32m     16\u001b[0m     Accuracy,\n\u001b[1;32m     17\u001b[0m     AUC,\n\u001b[1;32m     18\u001b[0m     AUROC,\n\u001b[1;32m     19\u001b[0m     AveragePrecision,\n\u001b[1;32m     20\u001b[0m     ConfusionMatrix,\n\u001b[1;32m     21\u001b[0m     F1,\n\u001b[1;32m     22\u001b[0m     FBeta,\n\u001b[1;32m     23\u001b[0m     HammingDistance,\n\u001b[1;32m     24\u001b[0m     IoU,\n\u001b[1;32m     25\u001b[0m     Precision,\n\u001b[1;32m     26\u001b[0m     PrecisionRecallCurve,\n\u001b[1;32m     27\u001b[0m     Recall,\n\u001b[1;32m     28\u001b[0m     ROC,\n\u001b[1;32m     29\u001b[0m     StatScores,\n\u001b[1;32m     30\u001b[0m )\n\u001b[1;32m     31\u001b[0m \u001b[38;5;28;01mfrom\u001b[39;00m \u001b[38;5;21;01mpytorch_lightning\u001b[39;00m\u001b[38;5;21;01m.\u001b[39;00m\u001b[38;5;21;01mmetrics\u001b[39;00m\u001b[38;5;21;01m.\u001b[39;00m\u001b[38;5;21;01mmetric\u001b[39;00m \u001b[38;5;28;01mimport\u001b[39;00m Metric, MetricCollection  \u001b[38;5;66;03m# noqa: F401\u001b[39;00m\n\u001b[1;32m     32\u001b[0m \u001b[38;5;28;01mfrom\u001b[39;00m \u001b[38;5;21;01mpytorch_lightning\u001b[39;00m\u001b[38;5;21;01m.\u001b[39;00m\u001b[38;5;21;01mmetrics\u001b[39;00m\u001b[38;5;21;01m.\u001b[39;00m\u001b[38;5;21;01mregression\u001b[39;00m \u001b[38;5;28;01mimport\u001b[39;00m (  \u001b[38;5;66;03m# noqa: F401\u001b[39;00m\n\u001b[1;32m     33\u001b[0m     ExplainedVariance,\n\u001b[1;32m     34\u001b[0m     MeanAbsoluteError,\n\u001b[0;32m   (...)\u001b[0m\n\u001b[1;32m     39\u001b[0m     SSIM,\n\u001b[1;32m     40\u001b[0m )\n",
      "File \u001b[0;32m/opt/conda/envs/ldm/lib/python3.8/site-packages/pytorch_lightning/metrics/classification/__init__.py:14\u001b[0m\n\u001b[1;32m      1\u001b[0m \u001b[38;5;66;03m# Copyright The PyTorch Lightning team.\u001b[39;00m\n\u001b[1;32m      2\u001b[0m \u001b[38;5;66;03m#\u001b[39;00m\n\u001b[1;32m      3\u001b[0m \u001b[38;5;66;03m# Licensed under the Apache License, Version 2.0 (the \"License\");\u001b[39;00m\n\u001b[0;32m   (...)\u001b[0m\n\u001b[1;32m     12\u001b[0m \u001b[38;5;66;03m# See the License for the specific language governing permissions and\u001b[39;00m\n\u001b[1;32m     13\u001b[0m \u001b[38;5;66;03m# limitations under the License.\u001b[39;00m\n\u001b[0;32m---> 14\u001b[0m \u001b[38;5;28;01mfrom\u001b[39;00m \u001b[38;5;21;01mpytorch_lightning\u001b[39;00m\u001b[38;5;21;01m.\u001b[39;00m\u001b[38;5;21;01mmetrics\u001b[39;00m\u001b[38;5;21;01m.\u001b[39;00m\u001b[38;5;21;01mclassification\u001b[39;00m\u001b[38;5;21;01m.\u001b[39;00m\u001b[38;5;21;01maccuracy\u001b[39;00m \u001b[38;5;28;01mimport\u001b[39;00m Accuracy  \u001b[38;5;66;03m# noqa: F401\u001b[39;00m\n\u001b[1;32m     15\u001b[0m \u001b[38;5;28;01mfrom\u001b[39;00m \u001b[38;5;21;01mpytorch_lightning\u001b[39;00m\u001b[38;5;21;01m.\u001b[39;00m\u001b[38;5;21;01mmetrics\u001b[39;00m\u001b[38;5;21;01m.\u001b[39;00m\u001b[38;5;21;01mclassification\u001b[39;00m\u001b[38;5;21;01m.\u001b[39;00m\u001b[38;5;21;01mauc\u001b[39;00m \u001b[38;5;28;01mimport\u001b[39;00m AUC  \u001b[38;5;66;03m# noqa: F401\u001b[39;00m\n\u001b[1;32m     16\u001b[0m \u001b[38;5;28;01mfrom\u001b[39;00m \u001b[38;5;21;01mpytorch_lightning\u001b[39;00m\u001b[38;5;21;01m.\u001b[39;00m\u001b[38;5;21;01mmetrics\u001b[39;00m\u001b[38;5;21;01m.\u001b[39;00m\u001b[38;5;21;01mclassification\u001b[39;00m\u001b[38;5;21;01m.\u001b[39;00m\u001b[38;5;21;01mauroc\u001b[39;00m \u001b[38;5;28;01mimport\u001b[39;00m AUROC  \u001b[38;5;66;03m# noqa: F401\u001b[39;00m\n",
      "File \u001b[0;32m/opt/conda/envs/ldm/lib/python3.8/site-packages/pytorch_lightning/metrics/classification/accuracy.py:16\u001b[0m\n\u001b[1;32m      1\u001b[0m \u001b[38;5;66;03m# Copyright The PyTorch Lightning team.\u001b[39;00m\n\u001b[1;32m      2\u001b[0m \u001b[38;5;66;03m#\u001b[39;00m\n\u001b[1;32m      3\u001b[0m \u001b[38;5;66;03m# Licensed under the Apache License, Version 2.0 (the \"License\");\u001b[39;00m\n\u001b[0;32m   (...)\u001b[0m\n\u001b[1;32m     12\u001b[0m \u001b[38;5;66;03m# See the License for the specific language governing permissions and\u001b[39;00m\n\u001b[1;32m     13\u001b[0m \u001b[38;5;66;03m# limitations under the License.\u001b[39;00m\n\u001b[1;32m     14\u001b[0m \u001b[38;5;28;01mfrom\u001b[39;00m \u001b[38;5;21;01mtyping\u001b[39;00m \u001b[38;5;28;01mimport\u001b[39;00m Any, Callable, Optional\n\u001b[0;32m---> 16\u001b[0m \u001b[38;5;28;01mfrom\u001b[39;00m \u001b[38;5;21;01mtorchmetrics\u001b[39;00m \u001b[38;5;28;01mimport\u001b[39;00m Accuracy \u001b[38;5;28;01mas\u001b[39;00m _Accuracy\n\u001b[1;32m     18\u001b[0m \u001b[38;5;28;01mfrom\u001b[39;00m \u001b[38;5;21;01mpytorch_lightning\u001b[39;00m\u001b[38;5;21;01m.\u001b[39;00m\u001b[38;5;21;01mmetrics\u001b[39;00m\u001b[38;5;21;01m.\u001b[39;00m\u001b[38;5;21;01mutils\u001b[39;00m \u001b[38;5;28;01mimport\u001b[39;00m deprecated_metrics, void\n\u001b[1;32m     21\u001b[0m \u001b[38;5;28;01mclass\u001b[39;00m \u001b[38;5;21;01mAccuracy\u001b[39;00m(_Accuracy):\n",
      "File \u001b[0;32m/opt/conda/envs/ldm/lib/python3.8/site-packages/torchmetrics/__init__.py:14\u001b[0m\n\u001b[1;32m     11\u001b[0m _PACKAGE_ROOT \u001b[38;5;241m=\u001b[39m os\u001b[38;5;241m.\u001b[39mpath\u001b[38;5;241m.\u001b[39mdirname(\u001b[38;5;18m__file__\u001b[39m)\n\u001b[1;32m     12\u001b[0m _PROJECT_ROOT \u001b[38;5;241m=\u001b[39m os\u001b[38;5;241m.\u001b[39mpath\u001b[38;5;241m.\u001b[39mdirname(_PACKAGE_ROOT)\n\u001b[0;32m---> 14\u001b[0m \u001b[38;5;28;01mfrom\u001b[39;00m \u001b[38;5;21;01mtorchmetrics\u001b[39;00m \u001b[38;5;28;01mimport\u001b[39;00m functional  \u001b[38;5;66;03m# noqa: E402\u001b[39;00m\n\u001b[1;32m     15\u001b[0m \u001b[38;5;28;01mfrom\u001b[39;00m \u001b[38;5;21;01mtorchmetrics\u001b[39;00m\u001b[38;5;21;01m.\u001b[39;00m\u001b[38;5;21;01maggregation\u001b[39;00m \u001b[38;5;28;01mimport\u001b[39;00m CatMetric, MaxMetric, MeanMetric, MinMetric, SumMetric  \u001b[38;5;66;03m# noqa: E402\u001b[39;00m\n\u001b[1;32m     16\u001b[0m \u001b[38;5;28;01mfrom\u001b[39;00m \u001b[38;5;21;01mtorchmetrics\u001b[39;00m\u001b[38;5;21;01m.\u001b[39;00m\u001b[38;5;21;01maudio\u001b[39;00m \u001b[38;5;28;01mimport\u001b[39;00m PESQ, PIT, SI_SDR, SI_SNR, SNR, STOI  \u001b[38;5;66;03m# noqa: E402\u001b[39;00m\n",
      "File \u001b[0;32m/opt/conda/envs/ldm/lib/python3.8/site-packages/torchmetrics/functional/__init__.py:14\u001b[0m\n\u001b[1;32m      1\u001b[0m \u001b[38;5;66;03m# Copyright The PyTorch Lightning team.\u001b[39;00m\n\u001b[1;32m      2\u001b[0m \u001b[38;5;66;03m#\u001b[39;00m\n\u001b[1;32m      3\u001b[0m \u001b[38;5;66;03m# Licensed under the Apache License, Version 2.0 (the \"License\");\u001b[39;00m\n\u001b[0;32m   (...)\u001b[0m\n\u001b[1;32m     12\u001b[0m \u001b[38;5;66;03m# See the License for the specific language governing permissions and\u001b[39;00m\n\u001b[1;32m     13\u001b[0m \u001b[38;5;66;03m# limitations under the License.\u001b[39;00m\n\u001b[0;32m---> 14\u001b[0m \u001b[38;5;28;01mfrom\u001b[39;00m \u001b[38;5;21;01mtorchmetrics\u001b[39;00m\u001b[38;5;21;01m.\u001b[39;00m\u001b[38;5;21;01mfunctional\u001b[39;00m\u001b[38;5;21;01m.\u001b[39;00m\u001b[38;5;21;01maudio\u001b[39;00m\u001b[38;5;21;01m.\u001b[39;00m\u001b[38;5;21;01mpesq\u001b[39;00m \u001b[38;5;28;01mimport\u001b[39;00m pesq\n\u001b[1;32m     15\u001b[0m \u001b[38;5;28;01mfrom\u001b[39;00m \u001b[38;5;21;01mtorchmetrics\u001b[39;00m\u001b[38;5;21;01m.\u001b[39;00m\u001b[38;5;21;01mfunctional\u001b[39;00m\u001b[38;5;21;01m.\u001b[39;00m\u001b[38;5;21;01maudio\u001b[39;00m\u001b[38;5;21;01m.\u001b[39;00m\u001b[38;5;21;01mpit\u001b[39;00m \u001b[38;5;28;01mimport\u001b[39;00m pit, pit_permutate\n\u001b[1;32m     16\u001b[0m \u001b[38;5;28;01mfrom\u001b[39;00m \u001b[38;5;21;01mtorchmetrics\u001b[39;00m\u001b[38;5;21;01m.\u001b[39;00m\u001b[38;5;21;01mfunctional\u001b[39;00m\u001b[38;5;21;01m.\u001b[39;00m\u001b[38;5;21;01maudio\u001b[39;00m\u001b[38;5;21;01m.\u001b[39;00m\u001b[38;5;21;01msi_sdr\u001b[39;00m \u001b[38;5;28;01mimport\u001b[39;00m si_sdr\n",
      "File \u001b[0;32m/opt/conda/envs/ldm/lib/python3.8/site-packages/torchmetrics/functional/audio/__init__.py:14\u001b[0m\n\u001b[1;32m      1\u001b[0m \u001b[38;5;66;03m# Copyright The PyTorch Lightning team.\u001b[39;00m\n\u001b[1;32m      2\u001b[0m \u001b[38;5;66;03m#\u001b[39;00m\n\u001b[1;32m      3\u001b[0m \u001b[38;5;66;03m# Licensed under the Apache License, Version 2.0 (the \"License\");\u001b[39;00m\n\u001b[0;32m   (...)\u001b[0m\n\u001b[1;32m     12\u001b[0m \u001b[38;5;66;03m# See the License for the specific language governing permissions and\u001b[39;00m\n\u001b[1;32m     13\u001b[0m \u001b[38;5;66;03m# limitations under the License.\u001b[39;00m\n\u001b[0;32m---> 14\u001b[0m \u001b[38;5;28;01mfrom\u001b[39;00m \u001b[38;5;21;01mtorchmetrics\u001b[39;00m\u001b[38;5;21;01m.\u001b[39;00m\u001b[38;5;21;01mfunctional\u001b[39;00m\u001b[38;5;21;01m.\u001b[39;00m\u001b[38;5;21;01maudio\u001b[39;00m\u001b[38;5;21;01m.\u001b[39;00m\u001b[38;5;21;01mpesq\u001b[39;00m \u001b[38;5;28;01mimport\u001b[39;00m pesq  \u001b[38;5;66;03m# noqa: F401\u001b[39;00m\n\u001b[1;32m     15\u001b[0m \u001b[38;5;28;01mfrom\u001b[39;00m \u001b[38;5;21;01mtorchmetrics\u001b[39;00m\u001b[38;5;21;01m.\u001b[39;00m\u001b[38;5;21;01mfunctional\u001b[39;00m\u001b[38;5;21;01m.\u001b[39;00m\u001b[38;5;21;01maudio\u001b[39;00m\u001b[38;5;21;01m.\u001b[39;00m\u001b[38;5;21;01mpit\u001b[39;00m \u001b[38;5;28;01mimport\u001b[39;00m pit, pit_permutate  \u001b[38;5;66;03m# noqa: F401\u001b[39;00m\n\u001b[1;32m     16\u001b[0m \u001b[38;5;28;01mfrom\u001b[39;00m \u001b[38;5;21;01mtorchmetrics\u001b[39;00m\u001b[38;5;21;01m.\u001b[39;00m\u001b[38;5;21;01mfunctional\u001b[39;00m\u001b[38;5;21;01m.\u001b[39;00m\u001b[38;5;21;01maudio\u001b[39;00m\u001b[38;5;21;01m.\u001b[39;00m\u001b[38;5;21;01msi_sdr\u001b[39;00m \u001b[38;5;28;01mimport\u001b[39;00m si_sdr  \u001b[38;5;66;03m# noqa: F401\u001b[39;00m\n",
      "File \u001b[0;32m/opt/conda/envs/ldm/lib/python3.8/site-packages/torchmetrics/functional/audio/pesq.py:16\u001b[0m\n\u001b[1;32m      1\u001b[0m \u001b[38;5;66;03m# Copyright The PyTorch Lightning team.\u001b[39;00m\n\u001b[1;32m      2\u001b[0m \u001b[38;5;66;03m#\u001b[39;00m\n\u001b[1;32m      3\u001b[0m \u001b[38;5;66;03m# Licensed under the Apache License, Version 2.0 (the \"License\");\u001b[39;00m\n\u001b[0;32m   (...)\u001b[0m\n\u001b[1;32m     12\u001b[0m \u001b[38;5;66;03m# See the License for the specific language governing permissions and\u001b[39;00m\n\u001b[1;32m     13\u001b[0m \u001b[38;5;66;03m# limitations under the License.\u001b[39;00m\n\u001b[1;32m     14\u001b[0m \u001b[38;5;28;01mimport\u001b[39;00m \u001b[38;5;21;01mnumpy\u001b[39;00m \u001b[38;5;28;01mas\u001b[39;00m \u001b[38;5;21;01mnp\u001b[39;00m\n\u001b[0;32m---> 16\u001b[0m \u001b[38;5;28;01mfrom\u001b[39;00m \u001b[38;5;21;01mtorchmetrics\u001b[39;00m\u001b[38;5;21;01m.\u001b[39;00m\u001b[38;5;21;01mutilities\u001b[39;00m\u001b[38;5;21;01m.\u001b[39;00m\u001b[38;5;21;01mimports\u001b[39;00m \u001b[38;5;28;01mimport\u001b[39;00m _PESQ_AVAILABLE\n\u001b[1;32m     18\u001b[0m \u001b[38;5;28;01mif\u001b[39;00m _PESQ_AVAILABLE:\n\u001b[1;32m     19\u001b[0m     \u001b[38;5;28;01mimport\u001b[39;00m \u001b[38;5;21;01mpesq\u001b[39;00m \u001b[38;5;28;01mas\u001b[39;00m \u001b[38;5;21;01mpesq_backend\u001b[39;00m\n",
      "File \u001b[0;32m/opt/conda/envs/ldm/lib/python3.8/site-packages/torchmetrics/utilities/imports.py:87\u001b[0m\n\u001b[1;32m     85\u001b[0m _TORCHVISION_GREATER_EQUAL_0_8: Optional[\u001b[38;5;28mbool\u001b[39m] \u001b[38;5;241m=\u001b[39m _compare_version(\u001b[38;5;124m\"\u001b[39m\u001b[38;5;124mtorchvision\u001b[39m\u001b[38;5;124m\"\u001b[39m, operator\u001b[38;5;241m.\u001b[39mge, \u001b[38;5;124m\"\u001b[39m\u001b[38;5;124m0.8.0\u001b[39m\u001b[38;5;124m\"\u001b[39m)\n\u001b[1;32m     86\u001b[0m _TQDM_AVAILABLE: \u001b[38;5;28mbool\u001b[39m \u001b[38;5;241m=\u001b[39m _module_available(\u001b[38;5;124m\"\u001b[39m\u001b[38;5;124mtqdm\u001b[39m\u001b[38;5;124m\"\u001b[39m)\n\u001b[0;32m---> 87\u001b[0m _TRANSFORMERS_AVAILABLE: \u001b[38;5;28mbool\u001b[39m \u001b[38;5;241m=\u001b[39m \u001b[43m_module_available\u001b[49m\u001b[43m(\u001b[49m\u001b[38;5;124;43m\"\u001b[39;49m\u001b[38;5;124;43mtransformers\u001b[39;49m\u001b[38;5;124;43m\"\u001b[39;49m\u001b[43m)\u001b[49m\n\u001b[1;32m     88\u001b[0m _PESQ_AVAILABLE: \u001b[38;5;28mbool\u001b[39m \u001b[38;5;241m=\u001b[39m _module_available(\u001b[38;5;124m\"\u001b[39m\u001b[38;5;124mpesq\u001b[39m\u001b[38;5;124m\"\u001b[39m)\n\u001b[1;32m     89\u001b[0m _SACREBLEU_AVAILABLE: \u001b[38;5;28mbool\u001b[39m \u001b[38;5;241m=\u001b[39m _module_available(\u001b[38;5;124m\"\u001b[39m\u001b[38;5;124msacrebleu\u001b[39m\u001b[38;5;124m\"\u001b[39m)\n",
      "File \u001b[0;32m/opt/conda/envs/ldm/lib/python3.8/site-packages/torchmetrics/utilities/imports.py:33\u001b[0m, in \u001b[0;36m_module_available\u001b[0;34m(module_path)\u001b[0m\n\u001b[1;32m     25\u001b[0m \u001b[38;5;250m\u001b[39m\u001b[38;5;124;03m\"\"\"Check if a path is available in your environment.\u001b[39;00m\n\u001b[1;32m     26\u001b[0m \n\u001b[1;32m     27\u001b[0m \u001b[38;5;124;03m>>> _module_available('os')\u001b[39;00m\n\u001b[0;32m   (...)\u001b[0m\n\u001b[1;32m     30\u001b[0m \u001b[38;5;124;03mFalse\u001b[39;00m\n\u001b[1;32m     31\u001b[0m \u001b[38;5;124;03m\"\"\"\u001b[39;00m\n\u001b[1;32m     32\u001b[0m \u001b[38;5;28;01mtry\u001b[39;00m:\n\u001b[0;32m---> 33\u001b[0m     \u001b[38;5;28;01mreturn\u001b[39;00m \u001b[43mfind_spec\u001b[49m\u001b[43m(\u001b[49m\u001b[43mmodule_path\u001b[49m\u001b[43m)\u001b[49m \u001b[38;5;129;01mis\u001b[39;00m \u001b[38;5;129;01mnot\u001b[39;00m \u001b[38;5;28;01mNone\u001b[39;00m\n\u001b[1;32m     34\u001b[0m \u001b[38;5;28;01mexcept\u001b[39;00m \u001b[38;5;167;01mAttributeError\u001b[39;00m:\n\u001b[1;32m     35\u001b[0m     \u001b[38;5;66;03m# Python 3.6\u001b[39;00m\n\u001b[1;32m     36\u001b[0m     \u001b[38;5;28;01mreturn\u001b[39;00m \u001b[38;5;28;01mFalse\u001b[39;00m\n",
      "File \u001b[0;32m/opt/conda/envs/ldm/lib/python3.8/importlib/util.py:114\u001b[0m, in \u001b[0;36mfind_spec\u001b[0;34m(name, package)\u001b[0m\n\u001b[1;32m    112\u001b[0m \u001b[38;5;28;01melse\u001b[39;00m:\n\u001b[1;32m    113\u001b[0m     \u001b[38;5;28;01mif\u001b[39;00m spec \u001b[38;5;129;01mis\u001b[39;00m \u001b[38;5;28;01mNone\u001b[39;00m:\n\u001b[0;32m--> 114\u001b[0m         \u001b[38;5;28;01mraise\u001b[39;00m \u001b[38;5;167;01mValueError\u001b[39;00m(\u001b[38;5;124m'\u001b[39m\u001b[38;5;132;01m{}\u001b[39;00m\u001b[38;5;124m.__spec__ is None\u001b[39m\u001b[38;5;124m'\u001b[39m\u001b[38;5;241m.\u001b[39mformat(name))\n\u001b[1;32m    115\u001b[0m     \u001b[38;5;28;01mreturn\u001b[39;00m spec\n",
      "\u001b[0;31mValueError\u001b[0m: transformers.__spec__ is None"
     ]
    }
   ],
   "source": [
    "import os\n",
    "from enum import Enum\n",
    "import pickle\n",
    "\n",
    "from ldm_classifier import LdmClassifier, MonaiLdmClassifier\n",
    "\n",
    "def get_training_ckpt_files(output_dir, training_name):\n",
    "  ckpt_dir = os.path.join(output_dir, training_name, 'checkpoints')\n",
    "  training_ckpt_files = [os.path.join(ckpt_dir, ckpt) for ckpt in os.listdir(ckpt_dir) if 'epoch' in ckpt]\n",
    "  return training_ckpt_files\n",
    "\n",
    "def strip_epoch_num_from_ckpt(ckpt_full_path, framework_type):\n",
    "  ckpt_name = ckpt_full_path.split('/')[-1]\n",
    "  if framework_type is FrameworkType.Imagenet:\n",
    "      epoch_num = 1 + int(ckpt_name.split(\".\")[0].split(\"=\")[-1])\n",
    "  elif framework_type is FrameworkType.Monai:\n",
    "      epoch_num = int(ckpt_name.split(\".\")[0].split(\"_\")[-1])\n",
    "  else:\n",
    "      raise ValueError(f'framework_type {framework_type} not in [t for t in FrameworkType]')\n",
    "  return epoch_num\n",
    "\n",
    "def get_training_cfg_file(output_dir, training_name):\n",
    "  cfg_dir = os.path.join(output_dir, training_name, 'configs')\n",
    "  model_cfg_files = [cfg for cfg in os.listdir(cfg_dir) if 'project' in cfg]\n",
    "  if len(model_cfg_files) == 0:\n",
    "    raise ValueError(\"configs dir empty, you may manualy pass the config file instead\")\n",
    "  if len(model_cfg_files) > 1:\n",
    "    raise ValueError(\"more than 1 config file in configs dir, you may manualy pass the config file instead\")\n",
    "  \n",
    "  return os.path.join(cfg_dir, model_cfg_files[0])\n",
    "\n",
    "\n",
    "def get_monai_training_ckpt_files(output_dir, training_name):\n",
    "  ckpt_dir = os.path.join(output_dir, training_name)\n",
    "  autoencoder_ckpt_files = [os.path.join(ckpt_dir, ckpt) for ckpt in os.listdir(ckpt_dir) if 'autoencoder' in ckpt]\n",
    "  unet_ckpt_files = [os.path.join(ckpt_dir, ckpt) for ckpt in os.listdir(ckpt_dir) if 'diffusion' in ckpt]\n",
    "  return autoencoder_ckpt_files, unet_ckpt_files\n",
    "\n",
    "class FrameworkType(Enum):\n",
    "    Imagenet = 0\n",
    "    Monai = 1\n",
    "\n",
    "def evaluate_accuracy_over_epochs(output_dir, \n",
    "                                  training_name, \n",
    "                                  dataset, \n",
    "                                  framework_type: FrameworkType,\n",
    "                                  t_sampling_stride = 50,\n",
    "                                  n_trials = 1\n",
    "                                 ):\n",
    "    # create classification results dir under the training dir\n",
    "    clf_dir = os.path.join(output_dir, training_name, 'classification')\n",
    "    if not os.path.exists(clf_dir):\n",
    "        os.makedirs(clf_dir)\n",
    "    n_pred_files = len(os.listdir(clf_dir))\n",
    "\n",
    "    clf_res_per_epoch = {'dataset': dataset}\n",
    "    \n",
    "    if framework_type is FrameworkType.Imagenet:\n",
    "        # prepare files\n",
    "        training_ckpt_files = get_training_ckpt_files(output_dir, training_name)\n",
    "        cfg_file = get_training_cfg_file(output_dir, training_name)\n",
    "\n",
    "        # loop over ckpts\n",
    "        for ckpt_file in training_ckpt_files:\n",
    "            epoch_num = strip_epoch_num_from_ckpt(ckpt_file, framework_type)\n",
    "            # load model\n",
    "            model, _, _ = get_model(cfg_file, ckpt_file)\n",
    "            # instantiate ldm classifier\n",
    "            ldm_clf = LdmClassifier(model)    \n",
    "            # run classification\n",
    "            l2_labels_pred, l1_labels_pred, true_labels = ldm_clf.classify_dataset(dataset=ds,\n",
    "                                                                                   batch_size=1,\n",
    "                                                                                   n_trials=n_trials,\n",
    "                                                                                   t_sampling_stride=t_sampling_stride)\n",
    "            # save results\n",
    "            clf_res_per_epoch[epoch_num] = {\n",
    "              'true_labels': true_labels,\n",
    "              'l1_pred_labels': l1_labels_pred,\n",
    "              'l2_pred_labels': l2_labels_pred,\n",
    "            }\n",
    "            with open(os.path.join(clf_dir, f'predictions_{n_pred_files}'), 'wb') as f:\n",
    "                pickle.dump(clf_res_per_epoch, f)\n",
    "            \n",
    "            # delete model\n",
    "            del model\n",
    "            del ldm_clf\n",
    "    \n",
    "    elif framework_type is FrameworkType.Monai:\n",
    "        bundle_target\n",
    "        # prepare files\n",
    "        autencoder_ckpt_files, unet_ckpt_files = get_monai_training_ckpt_files(output_dir, training_name)\n",
    "        # loop over ckpts\n",
    "        for autoenc_ckpt, unet_ckpt in zip(autencoder_ckpt_files, unet_ckpt_files):\n",
    "            epoch_num = strip_epoch_num_from_ckpt(autoenc_ckpt, framework_type)\n",
    "            # load model\n",
    "            model_dict = get_monai_model_dict(BUNDLE, training_args, autoenc_ckpt, unet_ckpt)\n",
    "            # instantiate ldm classifier\n",
    "            ldm_clf = MonaiLdmClassifier(**model_dict)\n",
    "            # run classification\n",
    "            l2_labels_pred, l1_labels_pred, true_labels = ldm_clf.classify_dataset(dataset=ds,\n",
    "                                                                                   batch_size=1,\n",
    "                                                                                   n_trials=n_trials,\n",
    "                                                                                   t_sampling_stride=t_sampling_stride)\n",
    "            # save results\n",
    "            clf_res_per_epoch[epoch_num] = {\n",
    "              'true_labels': true_labels,\n",
    "              'l1_pred_labels': l1_labels_pred,\n",
    "              'l2_pred_labels': l2_labels_pred,\n",
    "            }\n",
    "            with open(os.path.join(clf_dir, f'predictions_{n_pred_files}'), 'wb') as f:\n",
    "                pickle.dump(clf_res_per_epoch, f)\n",
    "            \n",
    "            # delete model\n",
    "            del model\n",
    "            del ldm_clf\n",
    "    else:\n",
    "        raise ValueError(f'framework_type {framework_type} not in [t for t in FrameworkType]')\n",
    "    return clf_res_per_epoch\n",
    "\n"
   ]
  },
  {
   "cell_type": "markdown",
   "id": "3070b5ab-f2e4-400e-8eb3-081348fd21e4",
   "metadata": {
    "jp-MarkdownHeadingCollapsed": true
   },
   "source": [
    "# ImageNet LDM accuracy evaluation"
   ]
  },
  {
   "cell_type": "code",
   "execution_count": 1,
   "id": "130d1acb-d783-4bb6-90ec-7e1b4db03cee",
   "metadata": {},
   "outputs": [
    {
     "ename": "ModuleNotFoundError",
     "evalue": "No module named 'pandas'",
     "output_type": "error",
     "traceback": [
      "\u001b[0;31m---------------------------------------------------------------------------\u001b[0m",
      "\u001b[0;31mModuleNotFoundError\u001b[0m                       Traceback (most recent call last)",
      "Cell \u001b[0;32mIn[1], line 3\u001b[0m\n\u001b[1;32m      1\u001b[0m \u001b[38;5;28;01mimport\u001b[39;00m \u001b[38;5;21;01msys\u001b[39;00m\n\u001b[1;32m      2\u001b[0m sys\u001b[38;5;241m.\u001b[39mpath\u001b[38;5;241m.\u001b[39mappend(\u001b[38;5;124m'\u001b[39m\u001b[38;5;124m./latent-diffusion/ldm/data/\u001b[39m\u001b[38;5;124m'\u001b[39m)\n\u001b[0;32m----> 3\u001b[0m \u001b[38;5;28;01mfrom\u001b[39;00m \u001b[38;5;21;01mct_rsna\u001b[39;00m \u001b[38;5;28;01mimport\u001b[39;00m CTDataset, CTSubset\n\u001b[1;32m      4\u001b[0m \u001b[38;5;28;01mfrom\u001b[39;00m \u001b[38;5;21;01mtorchvision\u001b[39;00m \u001b[38;5;28;01mimport\u001b[39;00m transforms\n\u001b[1;32m      5\u001b[0m \u001b[38;5;28;01mimport\u001b[39;00m \u001b[38;5;21;01mtorch\u001b[39;00m\n",
      "File \u001b[0;32m~/deep-learning-course/Project/./latent-diffusion/ldm/data/ct_rsna.py:4\u001b[0m\n\u001b[1;32m      2\u001b[0m \u001b[38;5;28;01mimport\u001b[39;00m \u001b[38;5;21;01mtorch\u001b[39;00m\n\u001b[1;32m      3\u001b[0m \u001b[38;5;28;01mimport\u001b[39;00m \u001b[38;5;21;01mnumpy\u001b[39;00m \u001b[38;5;28;01mas\u001b[39;00m \u001b[38;5;21;01mnp\u001b[39;00m\n\u001b[0;32m----> 4\u001b[0m \u001b[38;5;28;01mimport\u001b[39;00m \u001b[38;5;21;01mpandas\u001b[39;00m \u001b[38;5;28;01mas\u001b[39;00m \u001b[38;5;21;01mpd\u001b[39;00m\n\u001b[1;32m      5\u001b[0m \u001b[38;5;28;01mfrom\u001b[39;00m \u001b[38;5;21;01mtorch\u001b[39;00m\u001b[38;5;21;01m.\u001b[39;00m\u001b[38;5;21;01mutils\u001b[39;00m\u001b[38;5;21;01m.\u001b[39;00m\u001b[38;5;21;01mdata\u001b[39;00m \u001b[38;5;28;01mimport\u001b[39;00m Dataset\n\u001b[1;32m      6\u001b[0m \u001b[38;5;28;01mfrom\u001b[39;00m \u001b[38;5;21;01mtorchvision\u001b[39;00m \u001b[38;5;28;01mimport\u001b[39;00m transforms\n",
      "\u001b[0;31mModuleNotFoundError\u001b[0m: No module named 'pandas'"
     ]
    }
   ],
   "source": [
    "import sys\n",
    "sys.path.append('./latent-diffusion/ldm/data/')\n",
    "from ct_rsna import CTDataset, CTSubset\n",
    "from torchvision import transforms\n",
    "import torch\n",
    "from matplotlib import pyplot as plt\n",
    "import numpy as np\n"
   ]
  },
  {
   "cell_type": "code",
   "execution_count": null,
   "id": "cfe7dced-6c84-4066-a0fd-3d0351c4aa42",
   "metadata": {},
   "outputs": [
    {
     "name": "stdout",
     "output_type": "stream",
     "text": [
      "Loading model from ./data/outputs/2024-05-10T17-04-36_imagenet-1024/checkpoints/epoch=000004.ckpt\n",
      "LatentDiffusion: Running in eps-prediction mode\n",
      "DiffusionWrapper has 400.92 M params.\n",
      "making attention of type 'vanilla' with 512 in_channels\n",
      "Working with z of shape (1, 3, 64, 64) = 12288 dimensions.\n",
      "making attention of type 'vanilla' with 512 in_channels\n"
     ]
    },
    {
     "data": {
      "application/vnd.jupyter.widget-view+json": {
       "model_id": "aeb70aa8259543d6a674de80e0b58259",
       "version_major": 2,
       "version_minor": 0
      },
      "text/plain": [
       "dataset samples:   0%|          | 0/1 [00:00<?, ?it/s]"
      ]
     },
     "metadata": {},
     "output_type": "display_data"
    },
    {
     "data": {
      "application/vnd.jupyter.widget-view+json": {
       "model_id": "3ba03366b8384f59973e4c740ca75ef2",
       "version_major": 2,
       "version_minor": 0
      },
      "text/plain": [
       "class hypothsis:   0%|          | 0/6 [00:00<?, ?it/s]"
      ]
     },
     "metadata": {},
     "output_type": "display_data"
    },
    {
     "data": {
      "application/vnd.jupyter.widget-view+json": {
       "model_id": "8082d536c8a544a1b112eebf79c7937c",
       "version_major": 2,
       "version_minor": 0
      },
      "text/plain": [
       "diffusion sampling:   0%|          | 0/2 [00:00<?, ?it/s]"
      ]
     },
     "metadata": {},
     "output_type": "display_data"
    },
    {
     "name": "stderr",
     "output_type": "stream",
     "text": [
      "/opt/conda/envs/ldm/lib/python3.8/site-packages/torch/amp/autocast_mode.py:250: UserWarning: User provided device_type of 'cuda', but CUDA is not available. Disabling\n",
      "  warnings.warn(\n"
     ]
    },
    {
     "data": {
      "application/vnd.jupyter.widget-view+json": {
       "model_id": "7e96039235594d3487391b6059858b2d",
       "version_major": 2,
       "version_minor": 0
      },
      "text/plain": [
       "diffusion sampling:   0%|          | 0/2 [00:00<?, ?it/s]"
      ]
     },
     "metadata": {},
     "output_type": "display_data"
    },
    {
     "data": {
      "application/vnd.jupyter.widget-view+json": {
       "model_id": "ed5056a6ff224ad7b839a828de849a2a",
       "version_major": 2,
       "version_minor": 0
      },
      "text/plain": [
       "diffusion sampling:   0%|          | 0/2 [00:00<?, ?it/s]"
      ]
     },
     "metadata": {},
     "output_type": "display_data"
    },
    {
     "data": {
      "application/vnd.jupyter.widget-view+json": {
       "model_id": "6726a608777f4ffabcb47063ad0d18a0",
       "version_major": 2,
       "version_minor": 0
      },
      "text/plain": [
       "diffusion sampling:   0%|          | 0/2 [00:00<?, ?it/s]"
      ]
     },
     "metadata": {},
     "output_type": "display_data"
    },
    {
     "data": {
      "application/vnd.jupyter.widget-view+json": {
       "model_id": "3cc794e10dd34cfea6ee40e834b18b22",
       "version_major": 2,
       "version_minor": 0
      },
      "text/plain": [
       "diffusion sampling:   0%|          | 0/2 [00:00<?, ?it/s]"
      ]
     },
     "metadata": {},
     "output_type": "display_data"
    },
    {
     "data": {
      "application/vnd.jupyter.widget-view+json": {
       "model_id": "1aa80935b106452e902a0c73e6f003ca",
       "version_major": 2,
       "version_minor": 0
      },
      "text/plain": [
       "diffusion sampling:   0%|          | 0/2 [00:00<?, ?it/s]"
      ]
     },
     "metadata": {},
     "output_type": "display_data"
    },
    {
     "name": "stdout",
     "output_type": "stream",
     "text": [
      "Loading model from ./data/outputs/2024-05-10T17-04-36_imagenet-1024/checkpoints/epoch=000009.ckpt\n",
      "LatentDiffusion: Running in eps-prediction mode\n",
      "DiffusionWrapper has 400.92 M params.\n",
      "making attention of type 'vanilla' with 512 in_channels\n",
      "Working with z of shape (1, 3, 64, 64) = 12288 dimensions.\n",
      "making attention of type 'vanilla' with 512 in_channels\n"
     ]
    }
   ],
   "source": [
    "# prepare data\n",
    "train_dir = './data/ct-rsna/train'\n",
    "val_dir = './data/ct-rsna/validation'\n",
    "\n",
    "subset_len = 1\n",
    "ds = CTSubset(data_dir=val_dir, labels_file='validation_set_dropped_nans.csv', size=256, flip_prob=0., subset_len=subset_len)\n",
    "\n",
    "# LDM classifier params\n",
    "t_sampling_stride = 50\n",
    "n_trials = 1\n",
    "\n",
    "# training dir\n",
    "output_dir = './data/outputs'\n",
    "training_name = '2024-05-10T17-04-36_imagenet-1024'\n",
    "\n",
    "# evaluate\n",
    "clf_res_per_epoch = evaluate_accuracy_over_epochs(output_dir, \n",
    "                                                  training_name, \n",
    "                                                  ds, \n",
    "                                                  FrameworkType.Imagenet,\n",
    "                                                  t_sampling_stride,\n",
    "                                                  n_trials)\n"
   ]
  },
  {
   "cell_type": "markdown",
   "id": "00b23b41-7825-4ce9-95df-87f3510aa11c",
   "metadata": {},
   "source": [
    "# MONAI - classification accuracy evaluation"
   ]
  },
  {
   "cell_type": "code",
   "execution_count": 1,
   "id": "82f8e26d-d003-48c8-ba6a-18f8ed1abb9a",
   "metadata": {},
   "outputs": [
    {
     "name": "stderr",
     "output_type": "stream",
     "text": [
      "/opt/conda/envs/monai/lib/python3.11/site-packages/torchvision/io/image.py:13: UserWarning: Failed to load image Python extension: 'libc10_cuda.so: cannot open shared object file: No such file or directory'If you don't plan on using image functionality from `torchvision.io`, you can ignore this warning. Otherwise, there might be something wrong with your environment. Did you have `libjpeg` or `libpng` installed before building `torchvision` from source?\n",
      "  warn(\n"
     ]
    }
   ],
   "source": [
    "import sys\n",
    "sys.path.append('./latent-diffusion/ldm/data/')\n",
    "from ct_rsna import CTDataset, CTSubset\n",
    "from torchvision import transforms\n",
    "import torch\n",
    "from matplotlib import pyplot as plt\n",
    "import numpy as np"
   ]
  },
  {
   "cell_type": "code",
   "execution_count": null,
   "id": "0967e66a-72bc-4560-b983-82e86390a344",
   "metadata": {},
   "outputs": [],
   "source": [
    "# prepare data\n",
    "train_dir = './data/ct-rsna/train'\n",
    "val_dir = './data/ct-rsna/validation'\n",
    "\n",
    "subset_len = 1\n",
    "ds = CTSubset(data_dir=val_dir, labels_file='validation_set_dropped_nans.csv', size=256, flip_prob=0., subset_len=subset_len)\n",
    "\n",
    "# LDM classifier params\n",
    "t_sampling_stride = 50\n",
    "n_trials = 1\n",
    "\n",
    "# training dir\n",
    "output_dir = './data/outputs'\n",
    "training_name = '2024-05-10T17-04-36_imagenet-1024'\n",
    "\n",
    "# evaluate\n",
    "clf_res_per_epoch = evaluate_accuracy_over_epochs(output_dir, \n",
    "                                                  training_name, \n",
    "                                                  ds, \n",
    "                                                  FrameworkType.Monai,\n",
    "                                                  t_sampling_stride,\n",
    "                                                  n_trials)\n"
   ]
  },
  {
   "cell_type": "code",
   "execution_count": null,
   "id": "221117ec-4275-44ec-bb1e-c093f06003a0",
   "metadata": {},
   "outputs": [],
   "source": []
  }
 ],
 "metadata": {
  "kernelspec": {
   "display_name": "Python 3 (ipykernel)",
   "language": "python",
   "name": "python3"
  },
  "language_info": {
   "codemirror_mode": {
    "name": "ipython",
    "version": 3
   },
   "file_extension": ".py",
   "mimetype": "text/x-python",
   "name": "python",
   "nbconvert_exporter": "python",
   "pygments_lexer": "ipython3",
   "version": "3.8.5"
  }
 },
 "nbformat": 4,
 "nbformat_minor": 5
}
