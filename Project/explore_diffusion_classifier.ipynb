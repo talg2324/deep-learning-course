{
 "cells": [
  {
   "cell_type": "code",
   "execution_count": 1,
   "id": "f6b5158f-2833-4ad8-96ed-7a73bbbff66e",
   "metadata": {},
   "outputs": [],
   "source": [
    "# model loader\n",
    "\n",
    "import sys\n",
    "sys.path.append(\".\")\n",
    "sys.path.append(\"./latent-diffusion\")\n",
    "sys.path.append('./taming-transformers')\n",
    "\n",
    "import torch\n",
    "from omegaconf import OmegaConf\n",
    "\n",
    "from ldm.util import instantiate_from_config\n",
    "\n",
    "\n",
    "def load_model_from_config(config, ckpt):\n",
    "    print(f\"Loading model from {ckpt}\")\n",
    "    device = torch.device('cuda' if torch.cuda.is_available() else 'cpu')\n",
    "    # device = torch.device('cpu')\n",
    "    pl_sd = torch.load(ckpt, weights_only=False, map_location=torch.device('cpu'))\n",
    "    sd = pl_sd[\"state_dict\"]\n",
    "    torch.save(sd, './tmp_sd')\n",
    "    model = instantiate_from_config(config.model)\n",
    "    m, u = model.load_state_dict(torch.load('./tmp_sd', map_location=device), strict=False)\n",
    "    if torch.cuda.is_available():\n",
    "        model.cuda()\n",
    "    model.eval()\n",
    "    return model, sd, pl_sd\n",
    "\n",
    "\n",
    "def get_model(model_config_path, model_ckpt_path):\n",
    "    config = OmegaConf.load(model_config_path)\n",
    "    model, sd, pl_sd = load_model_from_config(config, model_ckpt_path)\n",
    "    return model, sd, pl_sd"
   ]
  },
  {
   "cell_type": "code",
   "execution_count": 2,
   "id": "eb614885-aaa6-41b8-9f4e-cc14ddd59ffe",
   "metadata": {},
   "outputs": [
    {
     "name": "stdout",
     "output_type": "stream",
     "text": [
      "Loading model from ./latent-diffusion/models/ldm/cin256-v2/model.ckpt\n",
      "LatentDiffusion: Running in eps-prediction mode\n",
      "DiffusionWrapper has 400.92 M params.\n",
      "making attention of type 'vanilla' with 512 in_channels\n",
      "Working with z of shape (1, 3, 64, 64) = 12288 dimensions.\n",
      "making attention of type 'vanilla' with 512 in_channels\n"
     ]
    }
   ],
   "source": [
    "# load imagenet pretrained model\n",
    "import os\n",
    "\n",
    "cin_model_config_path = os.path.join('./latent-diffusion/configs/latent-diffusion/cin256-v2.yaml')\n",
    "cin_model_ckpt_path = './latent-diffusion/models/ldm/cin256-v2/model.ckpt'\n",
    "\n",
    "# load model\n",
    "model, sd, pl_sd = get_model(cin_model_config_path, cin_model_ckpt_path)\n",
    "del sd\n",
    "del pl_sd"
   ]
  },
  {
   "cell_type": "code",
   "execution_count": 3,
   "id": "f94d0d8c-062b-4219-89cc-3948946196f6",
   "metadata": {},
   "outputs": [],
   "source": [
    "# set ldm classifier\n",
    "\n",
    "from ldm_classifier import LdmClassifier\n",
    "ldm_clf = LdmClassifier(model)"
   ]
  },
  {
   "cell_type": "code",
   "execution_count": 4,
   "id": "9a96740f-13b1-474c-98c0-81a0ca137a81",
   "metadata": {},
   "outputs": [
    {
     "name": "stdout",
     "output_type": "stream",
     "text": [
      "Data source: validation_set.csv\n",
      "    Class tench, Tinca tinca: 48.6%\n",
      "    Class goldfish, Carassius auratus: 51.4%\n",
      "number of samples in dataset: 70\n"
     ]
    }
   ],
   "source": [
    "import sys\n",
    "sys.path.append('./latent-diffusion/ldm/data/')\n",
    "from torchvision import transforms\n",
    "import torch\n",
    "from matplotlib import pyplot as plt\n",
    "import numpy as np\n",
    "\n",
    "from imagenet_mini import ImageNetMiniSubset, ImageNetMiniDataset\n",
    "\n",
    "# define imagenet-mini subset for classification\n",
    "\n",
    "val_dir = './data/imagenet-mini/validation'\n",
    "subset_classes = [0, 1]\n",
    "imagnet_subset = ImageNetMiniSubset(data_dir=val_dir, labels_file='validation_set.csv', size=256, classes=subset_classes)\n",
    "\n",
    "print(f\"number of samples in dataset: {len(imagnet_subset)}\")"
   ]
  },
  {
   "cell_type": "code",
   "execution_count": 5,
   "id": "8ef59704-6440-4804-a3cd-250e9d4862e8",
   "metadata": {},
   "outputs": [
    {
     "data": {
      "application/vnd.jupyter.widget-view+json": {
       "model_id": "db10de48fb1f47149d7cd5f56fcd0116",
       "version_major": 2,
       "version_minor": 0
      },
      "text/plain": [
       "class hypothsis:   0%|          | 0/2 [00:00<?, ?it/s]"
      ]
     },
     "metadata": {},
     "output_type": "display_data"
    },
    {
     "data": {
      "application/vnd.jupyter.widget-view+json": {
       "model_id": "0c6a155cc2e345e88f56683fe7af52a0",
       "version_major": 2,
       "version_minor": 0
      },
      "text/plain": [
       "diffusion sampling:   0%|          | 0/200 [00:00<?, ?it/s]"
      ]
     },
     "metadata": {},
     "output_type": "display_data"
    },
    {
     "name": "stdout",
     "output_type": "stream",
     "text": [
      "mean pred errors: tensor([0.1780, 0.2576])\n",
      "mean L2, L1 pred errors: (tensor(0.1780), tensor(0.2576))\n"
     ]
    },
    {
     "data": {
      "application/vnd.jupyter.widget-view+json": {
       "model_id": "d2d11a56b4294003b4316d7e21a969cd",
       "version_major": 2,
       "version_minor": 0
      },
      "text/plain": [
       "diffusion sampling:   0%|          | 0/200 [00:00<?, ?it/s]"
      ]
     },
     "metadata": {},
     "output_type": "display_data"
    },
    {
     "name": "stdout",
     "output_type": "stream",
     "text": [
      "mean pred errors: tensor([0.1773, 0.2565])\n",
      "mean L2, L1 pred errors: (tensor(0.1773), tensor(0.2565))\n",
      "true label: tensor([1])\n",
      "L2 classification: tensor([1], device='cuda:0')\n",
      "L1 classification: tensor([1], device='cuda:0')\n"
     ]
    }
   ],
   "source": [
    "# verify ability to classify single sample:\n",
    "\n",
    "loader = torch.utils.data.DataLoader(imagnet_subset, batch_size=1, shuffle=False)\n",
    "batch = next(iter(loader))\n",
    "x0, c_hypotheses = ldm_clf.get_latent_batch(batch, classes=[0, 1])\n",
    "\n",
    "l2_label_pred, l1_label_pred = ldm_clf.classify_batch(x0, c_hypotheses)\n",
    "print(f\"true label: {batch['class_label']}\")\n",
    "print(f\"L2 classification: {l2_label_pred}\")\n",
    "print(f\"L1 classification: {l1_label_pred}\")"
   ]
  },
  {
   "cell_type": "code",
   "execution_count": 11,
   "id": "48c986fc-05be-47a1-8a50-8ceca9ab13ac",
   "metadata": {},
   "outputs": [
    {
     "data": {
      "application/vnd.jupyter.widget-view+json": {
       "model_id": "c42d3a892bff4025965e9567a67ae44e",
       "version_major": 2,
       "version_minor": 0
      },
      "text/plain": [
       "dataset samples:   0%|          | 0/70 [00:00<?, ?it/s]"
      ]
     },
     "metadata": {},
     "output_type": "display_data"
    },
    {
     "data": {
      "application/vnd.jupyter.widget-view+json": {
       "model_id": "b83c173fd7ca451c9cc4e041f65bebf8",
       "version_major": 2,
       "version_minor": 0
      },
      "text/plain": [
       "class hypothsis:   0%|          | 0/2 [00:00<?, ?it/s]"
      ]
     },
     "metadata": {},
     "output_type": "display_data"
    },
    {
     "data": {
      "application/vnd.jupyter.widget-view+json": {
       "model_id": "f435a942ffbd4c41a07dfaa49b74f8d4",
       "version_major": 2,
       "version_minor": 0
      },
      "text/plain": [
       "diffusion sampling:   0%|          | 0/200 [00:00<?, ?it/s]"
      ]
     },
     "metadata": {},
     "output_type": "display_data"
    },
    {
     "data": {
      "application/vnd.jupyter.widget-view+json": {
       "model_id": "921f2da605d548a7b0cb82bc03777257",
       "version_major": 2,
       "version_minor": 0
      },
      "text/plain": [
       "diffusion sampling:   0%|          | 0/200 [00:00<?, ?it/s]"
      ]
     },
     "metadata": {},
     "output_type": "display_data"
    },
    {
     "data": {
      "application/vnd.jupyter.widget-view+json": {
       "model_id": "52b37b9ddea64b7895b5bb293be3de1d",
       "version_major": 2,
       "version_minor": 0
      },
      "text/plain": [
       "class hypothsis:   0%|          | 0/2 [00:00<?, ?it/s]"
      ]
     },
     "metadata": {},
     "output_type": "display_data"
    },
    {
     "data": {
      "application/vnd.jupyter.widget-view+json": {
       "model_id": "a3da2c7fa9b246f38c311299ffb739bc",
       "version_major": 2,
       "version_minor": 0
      },
      "text/plain": [
       "diffusion sampling:   0%|          | 0/200 [00:00<?, ?it/s]"
      ]
     },
     "metadata": {},
     "output_type": "display_data"
    },
    {
     "data": {
      "application/vnd.jupyter.widget-view+json": {
       "model_id": "ef2e892b2dbf404d90ce58ca885bb888",
       "version_major": 2,
       "version_minor": 0
      },
      "text/plain": [
       "diffusion sampling:   0%|          | 0/200 [00:00<?, ?it/s]"
      ]
     },
     "metadata": {},
     "output_type": "display_data"
    },
    {
     "data": {
      "application/vnd.jupyter.widget-view+json": {
       "model_id": "230b82d994fc4fe1b6910bcd482fb882",
       "version_major": 2,
       "version_minor": 0
      },
      "text/plain": [
       "class hypothsis:   0%|          | 0/2 [00:00<?, ?it/s]"
      ]
     },
     "metadata": {},
     "output_type": "display_data"
    },
    {
     "data": {
      "application/vnd.jupyter.widget-view+json": {
       "model_id": "ae99435075a74cbb93ee9332243d8763",
       "version_major": 2,
       "version_minor": 0
      },
      "text/plain": [
       "diffusion sampling:   0%|          | 0/200 [00:00<?, ?it/s]"
      ]
     },
     "metadata": {},
     "output_type": "display_data"
    },
    {
     "data": {
      "application/vnd.jupyter.widget-view+json": {
       "model_id": "7ad30c950da0492f9bfb00b382440097",
       "version_major": 2,
       "version_minor": 0
      },
      "text/plain": [
       "diffusion sampling:   0%|          | 0/200 [00:00<?, ?it/s]"
      ]
     },
     "metadata": {},
     "output_type": "display_data"
    },
    {
     "data": {
      "application/vnd.jupyter.widget-view+json": {
       "model_id": "5f5a9959421d473c83514a6f33e5f71b",
       "version_major": 2,
       "version_minor": 0
      },
      "text/plain": [
       "class hypothsis:   0%|          | 0/2 [00:00<?, ?it/s]"
      ]
     },
     "metadata": {},
     "output_type": "display_data"
    },
    {
     "data": {
      "application/vnd.jupyter.widget-view+json": {
       "model_id": "9dd1b4f004354a3f9ed3b6d590921424",
       "version_major": 2,
       "version_minor": 0
      },
      "text/plain": [
       "diffusion sampling:   0%|          | 0/200 [00:00<?, ?it/s]"
      ]
     },
     "metadata": {},
     "output_type": "display_data"
    },
    {
     "data": {
      "application/vnd.jupyter.widget-view+json": {
       "model_id": "81394d4604314010bb75d2461fd93e45",
       "version_major": 2,
       "version_minor": 0
      },
      "text/plain": [
       "diffusion sampling:   0%|          | 0/200 [00:00<?, ?it/s]"
      ]
     },
     "metadata": {},
     "output_type": "display_data"
    },
    {
     "data": {
      "application/vnd.jupyter.widget-view+json": {
       "model_id": "981dc9e83538406fb00444ed0c95cdf7",
       "version_major": 2,
       "version_minor": 0
      },
      "text/plain": [
       "class hypothsis:   0%|          | 0/2 [00:00<?, ?it/s]"
      ]
     },
     "metadata": {},
     "output_type": "display_data"
    },
    {
     "data": {
      "application/vnd.jupyter.widget-view+json": {
       "model_id": "bcd95d2119e94c09b1195ef7d5230f71",
       "version_major": 2,
       "version_minor": 0
      },
      "text/plain": [
       "diffusion sampling:   0%|          | 0/200 [00:00<?, ?it/s]"
      ]
     },
     "metadata": {},
     "output_type": "display_data"
    },
    {
     "data": {
      "application/vnd.jupyter.widget-view+json": {
       "model_id": "cd4999dfc9aa4375a99d55acee4014dc",
       "version_major": 2,
       "version_minor": 0
      },
      "text/plain": [
       "diffusion sampling:   0%|          | 0/200 [00:00<?, ?it/s]"
      ]
     },
     "metadata": {},
     "output_type": "display_data"
    },
    {
     "data": {
      "application/vnd.jupyter.widget-view+json": {
       "model_id": "7945b3b9577b4d6ab7164012fde83fbb",
       "version_major": 2,
       "version_minor": 0
      },
      "text/plain": [
       "class hypothsis:   0%|          | 0/2 [00:00<?, ?it/s]"
      ]
     },
     "metadata": {},
     "output_type": "display_data"
    },
    {
     "data": {
      "application/vnd.jupyter.widget-view+json": {
       "model_id": "37ddabc58b94418b8851173abe4f05d5",
       "version_major": 2,
       "version_minor": 0
      },
      "text/plain": [
       "diffusion sampling:   0%|          | 0/200 [00:00<?, ?it/s]"
      ]
     },
     "metadata": {},
     "output_type": "display_data"
    },
    {
     "data": {
      "application/vnd.jupyter.widget-view+json": {
       "model_id": "0f2914df19d44c70ae535890a6827f70",
       "version_major": 2,
       "version_minor": 0
      },
      "text/plain": [
       "diffusion sampling:   0%|          | 0/200 [00:00<?, ?it/s]"
      ]
     },
     "metadata": {},
     "output_type": "display_data"
    },
    {
     "data": {
      "application/vnd.jupyter.widget-view+json": {
       "model_id": "250e33f2834246b79da665040ccd4263",
       "version_major": 2,
       "version_minor": 0
      },
      "text/plain": [
       "class hypothsis:   0%|          | 0/2 [00:00<?, ?it/s]"
      ]
     },
     "metadata": {},
     "output_type": "display_data"
    },
    {
     "data": {
      "application/vnd.jupyter.widget-view+json": {
       "model_id": "1a47e8f380654441a2e0e406ee9f4828",
       "version_major": 2,
       "version_minor": 0
      },
      "text/plain": [
       "diffusion sampling:   0%|          | 0/200 [00:00<?, ?it/s]"
      ]
     },
     "metadata": {},
     "output_type": "display_data"
    },
    {
     "data": {
      "application/vnd.jupyter.widget-view+json": {
       "model_id": "1a2ff0345d37449e900b3ee6728d6051",
       "version_major": 2,
       "version_minor": 0
      },
      "text/plain": [
       "diffusion sampling:   0%|          | 0/200 [00:00<?, ?it/s]"
      ]
     },
     "metadata": {},
     "output_type": "display_data"
    },
    {
     "data": {
      "application/vnd.jupyter.widget-view+json": {
       "model_id": "261ec653ef954f26b48ffb5f597b82bf",
       "version_major": 2,
       "version_minor": 0
      },
      "text/plain": [
       "class hypothsis:   0%|          | 0/2 [00:00<?, ?it/s]"
      ]
     },
     "metadata": {},
     "output_type": "display_data"
    },
    {
     "data": {
      "application/vnd.jupyter.widget-view+json": {
       "model_id": "b71e25288fda495a81be829824baf6d5",
       "version_major": 2,
       "version_minor": 0
      },
      "text/plain": [
       "diffusion sampling:   0%|          | 0/200 [00:00<?, ?it/s]"
      ]
     },
     "metadata": {},
     "output_type": "display_data"
    },
    {
     "data": {
      "application/vnd.jupyter.widget-view+json": {
       "model_id": "3928500f35324803b6b269eeca3d295a",
       "version_major": 2,
       "version_minor": 0
      },
      "text/plain": [
       "diffusion sampling:   0%|          | 0/200 [00:00<?, ?it/s]"
      ]
     },
     "metadata": {},
     "output_type": "display_data"
    },
    {
     "data": {
      "application/vnd.jupyter.widget-view+json": {
       "model_id": "c4704803a9214e8091265da5b2097bc5",
       "version_major": 2,
       "version_minor": 0
      },
      "text/plain": [
       "class hypothsis:   0%|          | 0/2 [00:00<?, ?it/s]"
      ]
     },
     "metadata": {},
     "output_type": "display_data"
    },
    {
     "data": {
      "application/vnd.jupyter.widget-view+json": {
       "model_id": "32c9149736224e74b684db1e8f0ef48f",
       "version_major": 2,
       "version_minor": 0
      },
      "text/plain": [
       "diffusion sampling:   0%|          | 0/200 [00:00<?, ?it/s]"
      ]
     },
     "metadata": {},
     "output_type": "display_data"
    },
    {
     "data": {
      "application/vnd.jupyter.widget-view+json": {
       "model_id": "a4433f50142c427eaea04291c0ebb57c",
       "version_major": 2,
       "version_minor": 0
      },
      "text/plain": [
       "diffusion sampling:   0%|          | 0/200 [00:00<?, ?it/s]"
      ]
     },
     "metadata": {},
     "output_type": "display_data"
    },
    {
     "data": {
      "application/vnd.jupyter.widget-view+json": {
       "model_id": "b5dd9775d5e74a3ba1f8d4b35d9e997e",
       "version_major": 2,
       "version_minor": 0
      },
      "text/plain": [
       "class hypothsis:   0%|          | 0/2 [00:00<?, ?it/s]"
      ]
     },
     "metadata": {},
     "output_type": "display_data"
    },
    {
     "data": {
      "application/vnd.jupyter.widget-view+json": {
       "model_id": "9f59b99d4d904891aae761272b535907",
       "version_major": 2,
       "version_minor": 0
      },
      "text/plain": [
       "diffusion sampling:   0%|          | 0/200 [00:00<?, ?it/s]"
      ]
     },
     "metadata": {},
     "output_type": "display_data"
    },
    {
     "data": {
      "application/vnd.jupyter.widget-view+json": {
       "model_id": "d2470a75253f41f6b42397542f2eae65",
       "version_major": 2,
       "version_minor": 0
      },
      "text/plain": [
       "diffusion sampling:   0%|          | 0/200 [00:00<?, ?it/s]"
      ]
     },
     "metadata": {},
     "output_type": "display_data"
    },
    {
     "data": {
      "application/vnd.jupyter.widget-view+json": {
       "model_id": "60d4df2694f74a1a961e1990aa12688a",
       "version_major": 2,
       "version_minor": 0
      },
      "text/plain": [
       "class hypothsis:   0%|          | 0/2 [00:00<?, ?it/s]"
      ]
     },
     "metadata": {},
     "output_type": "display_data"
    },
    {
     "data": {
      "application/vnd.jupyter.widget-view+json": {
       "model_id": "f649b74455d6426f871a0491a82e54dc",
       "version_major": 2,
       "version_minor": 0
      },
      "text/plain": [
       "diffusion sampling:   0%|          | 0/200 [00:00<?, ?it/s]"
      ]
     },
     "metadata": {},
     "output_type": "display_data"
    },
    {
     "data": {
      "application/vnd.jupyter.widget-view+json": {
       "model_id": "6394e08a97c74cf6bdac25596378ebe2",
       "version_major": 2,
       "version_minor": 0
      },
      "text/plain": [
       "diffusion sampling:   0%|          | 0/200 [00:00<?, ?it/s]"
      ]
     },
     "metadata": {},
     "output_type": "display_data"
    },
    {
     "data": {
      "application/vnd.jupyter.widget-view+json": {
       "model_id": "79492a2b0941417dbd280769c73ef2b1",
       "version_major": 2,
       "version_minor": 0
      },
      "text/plain": [
       "class hypothsis:   0%|          | 0/2 [00:00<?, ?it/s]"
      ]
     },
     "metadata": {},
     "output_type": "display_data"
    },
    {
     "data": {
      "application/vnd.jupyter.widget-view+json": {
       "model_id": "5206021060134345954676403dee781f",
       "version_major": 2,
       "version_minor": 0
      },
      "text/plain": [
       "diffusion sampling:   0%|          | 0/200 [00:00<?, ?it/s]"
      ]
     },
     "metadata": {},
     "output_type": "display_data"
    },
    {
     "data": {
      "application/vnd.jupyter.widget-view+json": {
       "model_id": "7af0279d07a14cb4983a6a6bcbe71422",
       "version_major": 2,
       "version_minor": 0
      },
      "text/plain": [
       "diffusion sampling:   0%|          | 0/200 [00:00<?, ?it/s]"
      ]
     },
     "metadata": {},
     "output_type": "display_data"
    },
    {
     "data": {
      "application/vnd.jupyter.widget-view+json": {
       "model_id": "9d96a9d3a212471787712a10f121ccbd",
       "version_major": 2,
       "version_minor": 0
      },
      "text/plain": [
       "class hypothsis:   0%|          | 0/2 [00:00<?, ?it/s]"
      ]
     },
     "metadata": {},
     "output_type": "display_data"
    },
    {
     "data": {
      "application/vnd.jupyter.widget-view+json": {
       "model_id": "664458beb6ad4e19a781a85e2b4880eb",
       "version_major": 2,
       "version_minor": 0
      },
      "text/plain": [
       "diffusion sampling:   0%|          | 0/200 [00:00<?, ?it/s]"
      ]
     },
     "metadata": {},
     "output_type": "display_data"
    },
    {
     "data": {
      "application/vnd.jupyter.widget-view+json": {
       "model_id": "e42af0fc6c724aae891694a385e19ca9",
       "version_major": 2,
       "version_minor": 0
      },
      "text/plain": [
       "diffusion sampling:   0%|          | 0/200 [00:00<?, ?it/s]"
      ]
     },
     "metadata": {},
     "output_type": "display_data"
    },
    {
     "data": {
      "application/vnd.jupyter.widget-view+json": {
       "model_id": "690a4d9c9fe7400ca50ca093b268dec0",
       "version_major": 2,
       "version_minor": 0
      },
      "text/plain": [
       "class hypothsis:   0%|          | 0/2 [00:00<?, ?it/s]"
      ]
     },
     "metadata": {},
     "output_type": "display_data"
    },
    {
     "data": {
      "application/vnd.jupyter.widget-view+json": {
       "model_id": "56825d98010945f3bd6d77445fa88641",
       "version_major": 2,
       "version_minor": 0
      },
      "text/plain": [
       "diffusion sampling:   0%|          | 0/200 [00:00<?, ?it/s]"
      ]
     },
     "metadata": {},
     "output_type": "display_data"
    },
    {
     "data": {
      "application/vnd.jupyter.widget-view+json": {
       "model_id": "9b95b4dd66b143c0afd353606027f856",
       "version_major": 2,
       "version_minor": 0
      },
      "text/plain": [
       "diffusion sampling:   0%|          | 0/200 [00:00<?, ?it/s]"
      ]
     },
     "metadata": {},
     "output_type": "display_data"
    },
    {
     "data": {
      "application/vnd.jupyter.widget-view+json": {
       "model_id": "f8ce93b6c33641ad88f2bf694d308506",
       "version_major": 2,
       "version_minor": 0
      },
      "text/plain": [
       "class hypothsis:   0%|          | 0/2 [00:00<?, ?it/s]"
      ]
     },
     "metadata": {},
     "output_type": "display_data"
    },
    {
     "data": {
      "application/vnd.jupyter.widget-view+json": {
       "model_id": "22ffe3e22ad94ce8a2ab116d69689b02",
       "version_major": 2,
       "version_minor": 0
      },
      "text/plain": [
       "diffusion sampling:   0%|          | 0/200 [00:00<?, ?it/s]"
      ]
     },
     "metadata": {},
     "output_type": "display_data"
    },
    {
     "data": {
      "application/vnd.jupyter.widget-view+json": {
       "model_id": "25febe3bfc924016a8c877da4a0d9a5b",
       "version_major": 2,
       "version_minor": 0
      },
      "text/plain": [
       "diffusion sampling:   0%|          | 0/200 [00:00<?, ?it/s]"
      ]
     },
     "metadata": {},
     "output_type": "display_data"
    },
    {
     "data": {
      "application/vnd.jupyter.widget-view+json": {
       "model_id": "2d318aa5bf3c483c9db978cef8e13fac",
       "version_major": 2,
       "version_minor": 0
      },
      "text/plain": [
       "class hypothsis:   0%|          | 0/2 [00:00<?, ?it/s]"
      ]
     },
     "metadata": {},
     "output_type": "display_data"
    },
    {
     "data": {
      "application/vnd.jupyter.widget-view+json": {
       "model_id": "afaa65a5c164419082afdfcc163fb2f6",
       "version_major": 2,
       "version_minor": 0
      },
      "text/plain": [
       "diffusion sampling:   0%|          | 0/200 [00:00<?, ?it/s]"
      ]
     },
     "metadata": {},
     "output_type": "display_data"
    },
    {
     "data": {
      "application/vnd.jupyter.widget-view+json": {
       "model_id": "f252f0191eb842c2a4314b52889c86f0",
       "version_major": 2,
       "version_minor": 0
      },
      "text/plain": [
       "diffusion sampling:   0%|          | 0/200 [00:00<?, ?it/s]"
      ]
     },
     "metadata": {},
     "output_type": "display_data"
    },
    {
     "data": {
      "application/vnd.jupyter.widget-view+json": {
       "model_id": "cd6df64b21ed4eeea26977620a0e2ff4",
       "version_major": 2,
       "version_minor": 0
      },
      "text/plain": [
       "class hypothsis:   0%|          | 0/2 [00:00<?, ?it/s]"
      ]
     },
     "metadata": {},
     "output_type": "display_data"
    },
    {
     "data": {
      "application/vnd.jupyter.widget-view+json": {
       "model_id": "75b64f89029a48da94277d777e200b81",
       "version_major": 2,
       "version_minor": 0
      },
      "text/plain": [
       "diffusion sampling:   0%|          | 0/200 [00:00<?, ?it/s]"
      ]
     },
     "metadata": {},
     "output_type": "display_data"
    },
    {
     "data": {
      "application/vnd.jupyter.widget-view+json": {
       "model_id": "bf57968ae6c045c4896fafb3aa6919b8",
       "version_major": 2,
       "version_minor": 0
      },
      "text/plain": [
       "diffusion sampling:   0%|          | 0/200 [00:00<?, ?it/s]"
      ]
     },
     "metadata": {},
     "output_type": "display_data"
    },
    {
     "data": {
      "application/vnd.jupyter.widget-view+json": {
       "model_id": "fabf056064e34229aeeefa5f025be62a",
       "version_major": 2,
       "version_minor": 0
      },
      "text/plain": [
       "class hypothsis:   0%|          | 0/2 [00:00<?, ?it/s]"
      ]
     },
     "metadata": {},
     "output_type": "display_data"
    },
    {
     "data": {
      "application/vnd.jupyter.widget-view+json": {
       "model_id": "c6178fcf06244b99989f9f4657f79f51",
       "version_major": 2,
       "version_minor": 0
      },
      "text/plain": [
       "diffusion sampling:   0%|          | 0/200 [00:00<?, ?it/s]"
      ]
     },
     "metadata": {},
     "output_type": "display_data"
    },
    {
     "data": {
      "application/vnd.jupyter.widget-view+json": {
       "model_id": "63a1dfed25dd403eaf38e735779274ab",
       "version_major": 2,
       "version_minor": 0
      },
      "text/plain": [
       "diffusion sampling:   0%|          | 0/200 [00:00<?, ?it/s]"
      ]
     },
     "metadata": {},
     "output_type": "display_data"
    },
    {
     "data": {
      "application/vnd.jupyter.widget-view+json": {
       "model_id": "32bc2ff7f9a84cf382cbd8116c3cd290",
       "version_major": 2,
       "version_minor": 0
      },
      "text/plain": [
       "class hypothsis:   0%|          | 0/2 [00:00<?, ?it/s]"
      ]
     },
     "metadata": {},
     "output_type": "display_data"
    },
    {
     "data": {
      "application/vnd.jupyter.widget-view+json": {
       "model_id": "f2081ff918484745a880d7f883926c57",
       "version_major": 2,
       "version_minor": 0
      },
      "text/plain": [
       "diffusion sampling:   0%|          | 0/200 [00:00<?, ?it/s]"
      ]
     },
     "metadata": {},
     "output_type": "display_data"
    },
    {
     "data": {
      "application/vnd.jupyter.widget-view+json": {
       "model_id": "7ab7e8d85dab425eb39b18f938585284",
       "version_major": 2,
       "version_minor": 0
      },
      "text/plain": [
       "diffusion sampling:   0%|          | 0/200 [00:00<?, ?it/s]"
      ]
     },
     "metadata": {},
     "output_type": "display_data"
    },
    {
     "data": {
      "application/vnd.jupyter.widget-view+json": {
       "model_id": "4dc189bf65a54a45b2bd1ae16e7bf1f4",
       "version_major": 2,
       "version_minor": 0
      },
      "text/plain": [
       "class hypothsis:   0%|          | 0/2 [00:00<?, ?it/s]"
      ]
     },
     "metadata": {},
     "output_type": "display_data"
    },
    {
     "data": {
      "application/vnd.jupyter.widget-view+json": {
       "model_id": "2fa36a327c274071a3b9d24e945a3cf1",
       "version_major": 2,
       "version_minor": 0
      },
      "text/plain": [
       "diffusion sampling:   0%|          | 0/200 [00:00<?, ?it/s]"
      ]
     },
     "metadata": {},
     "output_type": "display_data"
    },
    {
     "data": {
      "application/vnd.jupyter.widget-view+json": {
       "model_id": "bbd01959a3df4d7087d970451fd1c8fa",
       "version_major": 2,
       "version_minor": 0
      },
      "text/plain": [
       "diffusion sampling:   0%|          | 0/200 [00:00<?, ?it/s]"
      ]
     },
     "metadata": {},
     "output_type": "display_data"
    },
    {
     "data": {
      "application/vnd.jupyter.widget-view+json": {
       "model_id": "8e52effb39174015a6794fc88625c01c",
       "version_major": 2,
       "version_minor": 0
      },
      "text/plain": [
       "class hypothsis:   0%|          | 0/2 [00:00<?, ?it/s]"
      ]
     },
     "metadata": {},
     "output_type": "display_data"
    },
    {
     "data": {
      "application/vnd.jupyter.widget-view+json": {
       "model_id": "6664c5a1b3224e1fae3537bcd673dd23",
       "version_major": 2,
       "version_minor": 0
      },
      "text/plain": [
       "diffusion sampling:   0%|          | 0/200 [00:00<?, ?it/s]"
      ]
     },
     "metadata": {},
     "output_type": "display_data"
    },
    {
     "data": {
      "application/vnd.jupyter.widget-view+json": {
       "model_id": "60be46b8ca254769936d4dd16c8d8f2a",
       "version_major": 2,
       "version_minor": 0
      },
      "text/plain": [
       "diffusion sampling:   0%|          | 0/200 [00:00<?, ?it/s]"
      ]
     },
     "metadata": {},
     "output_type": "display_data"
    },
    {
     "data": {
      "application/vnd.jupyter.widget-view+json": {
       "model_id": "65744355dfa94554a1ba98955cf35ef3",
       "version_major": 2,
       "version_minor": 0
      },
      "text/plain": [
       "class hypothsis:   0%|          | 0/2 [00:00<?, ?it/s]"
      ]
     },
     "metadata": {},
     "output_type": "display_data"
    },
    {
     "data": {
      "application/vnd.jupyter.widget-view+json": {
       "model_id": "6801ec4a09f44ac287a6ddd07beb35db",
       "version_major": 2,
       "version_minor": 0
      },
      "text/plain": [
       "diffusion sampling:   0%|          | 0/200 [00:00<?, ?it/s]"
      ]
     },
     "metadata": {},
     "output_type": "display_data"
    },
    {
     "data": {
      "application/vnd.jupyter.widget-view+json": {
       "model_id": "3df5b8c0e2c84cd289cca252eced1646",
       "version_major": 2,
       "version_minor": 0
      },
      "text/plain": [
       "diffusion sampling:   0%|          | 0/200 [00:00<?, ?it/s]"
      ]
     },
     "metadata": {},
     "output_type": "display_data"
    },
    {
     "data": {
      "application/vnd.jupyter.widget-view+json": {
       "model_id": "8ff88cd928964b7fbc620e3c301ca0c8",
       "version_major": 2,
       "version_minor": 0
      },
      "text/plain": [
       "class hypothsis:   0%|          | 0/2 [00:00<?, ?it/s]"
      ]
     },
     "metadata": {},
     "output_type": "display_data"
    },
    {
     "data": {
      "application/vnd.jupyter.widget-view+json": {
       "model_id": "e4c0aecf21734768bd48869be2ffe6dc",
       "version_major": 2,
       "version_minor": 0
      },
      "text/plain": [
       "diffusion sampling:   0%|          | 0/200 [00:00<?, ?it/s]"
      ]
     },
     "metadata": {},
     "output_type": "display_data"
    },
    {
     "data": {
      "application/vnd.jupyter.widget-view+json": {
       "model_id": "7428b120559c465f801045d7903d5fee",
       "version_major": 2,
       "version_minor": 0
      },
      "text/plain": [
       "diffusion sampling:   0%|          | 0/200 [00:00<?, ?it/s]"
      ]
     },
     "metadata": {},
     "output_type": "display_data"
    },
    {
     "data": {
      "application/vnd.jupyter.widget-view+json": {
       "model_id": "ea858d53ed7a4cf7ab62ddc47855c896",
       "version_major": 2,
       "version_minor": 0
      },
      "text/plain": [
       "class hypothsis:   0%|          | 0/2 [00:00<?, ?it/s]"
      ]
     },
     "metadata": {},
     "output_type": "display_data"
    },
    {
     "data": {
      "application/vnd.jupyter.widget-view+json": {
       "model_id": "d01ba7d8349949fe9eb7173b1694c51f",
       "version_major": 2,
       "version_minor": 0
      },
      "text/plain": [
       "diffusion sampling:   0%|          | 0/200 [00:00<?, ?it/s]"
      ]
     },
     "metadata": {},
     "output_type": "display_data"
    },
    {
     "data": {
      "application/vnd.jupyter.widget-view+json": {
       "model_id": "aa0a8856dc9543a6861729b99bca8476",
       "version_major": 2,
       "version_minor": 0
      },
      "text/plain": [
       "diffusion sampling:   0%|          | 0/200 [00:00<?, ?it/s]"
      ]
     },
     "metadata": {},
     "output_type": "display_data"
    },
    {
     "data": {
      "application/vnd.jupyter.widget-view+json": {
       "model_id": "26a0d2f2b4234c72a9c106b0010ae0d4",
       "version_major": 2,
       "version_minor": 0
      },
      "text/plain": [
       "class hypothsis:   0%|          | 0/2 [00:00<?, ?it/s]"
      ]
     },
     "metadata": {},
     "output_type": "display_data"
    },
    {
     "data": {
      "application/vnd.jupyter.widget-view+json": {
       "model_id": "4a490545ee984ceaa2abd210b7e0e60b",
       "version_major": 2,
       "version_minor": 0
      },
      "text/plain": [
       "diffusion sampling:   0%|          | 0/200 [00:00<?, ?it/s]"
      ]
     },
     "metadata": {},
     "output_type": "display_data"
    },
    {
     "data": {
      "application/vnd.jupyter.widget-view+json": {
       "model_id": "181ceeb649ef47bb81b614591bfc6426",
       "version_major": 2,
       "version_minor": 0
      },
      "text/plain": [
       "diffusion sampling:   0%|          | 0/200 [00:00<?, ?it/s]"
      ]
     },
     "metadata": {},
     "output_type": "display_data"
    },
    {
     "data": {
      "application/vnd.jupyter.widget-view+json": {
       "model_id": "0c0bf4354c37409a9945748f3ec51213",
       "version_major": 2,
       "version_minor": 0
      },
      "text/plain": [
       "class hypothsis:   0%|          | 0/2 [00:00<?, ?it/s]"
      ]
     },
     "metadata": {},
     "output_type": "display_data"
    },
    {
     "data": {
      "application/vnd.jupyter.widget-view+json": {
       "model_id": "4d9ce556d0bf4afa8899bdf3ab9b4788",
       "version_major": 2,
       "version_minor": 0
      },
      "text/plain": [
       "diffusion sampling:   0%|          | 0/200 [00:00<?, ?it/s]"
      ]
     },
     "metadata": {},
     "output_type": "display_data"
    },
    {
     "data": {
      "application/vnd.jupyter.widget-view+json": {
       "model_id": "3f1e48d139674067876821470d674f5f",
       "version_major": 2,
       "version_minor": 0
      },
      "text/plain": [
       "diffusion sampling:   0%|          | 0/200 [00:00<?, ?it/s]"
      ]
     },
     "metadata": {},
     "output_type": "display_data"
    },
    {
     "data": {
      "application/vnd.jupyter.widget-view+json": {
       "model_id": "934503dd5e734b049e9a9b39711535b3",
       "version_major": 2,
       "version_minor": 0
      },
      "text/plain": [
       "class hypothsis:   0%|          | 0/2 [00:00<?, ?it/s]"
      ]
     },
     "metadata": {},
     "output_type": "display_data"
    },
    {
     "data": {
      "application/vnd.jupyter.widget-view+json": {
       "model_id": "80926c19ce6b4992919e20c8114cd75f",
       "version_major": 2,
       "version_minor": 0
      },
      "text/plain": [
       "diffusion sampling:   0%|          | 0/200 [00:00<?, ?it/s]"
      ]
     },
     "metadata": {},
     "output_type": "display_data"
    },
    {
     "data": {
      "application/vnd.jupyter.widget-view+json": {
       "model_id": "4d74eccbb3e145a692e5ce508ba346a3",
       "version_major": 2,
       "version_minor": 0
      },
      "text/plain": [
       "diffusion sampling:   0%|          | 0/200 [00:00<?, ?it/s]"
      ]
     },
     "metadata": {},
     "output_type": "display_data"
    },
    {
     "data": {
      "application/vnd.jupyter.widget-view+json": {
       "model_id": "619064257e6f4d2687281d2f9a24e496",
       "version_major": 2,
       "version_minor": 0
      },
      "text/plain": [
       "class hypothsis:   0%|          | 0/2 [00:00<?, ?it/s]"
      ]
     },
     "metadata": {},
     "output_type": "display_data"
    },
    {
     "data": {
      "application/vnd.jupyter.widget-view+json": {
       "model_id": "cf7ea8c80d994818856e7206de593357",
       "version_major": 2,
       "version_minor": 0
      },
      "text/plain": [
       "diffusion sampling:   0%|          | 0/200 [00:00<?, ?it/s]"
      ]
     },
     "metadata": {},
     "output_type": "display_data"
    },
    {
     "data": {
      "application/vnd.jupyter.widget-view+json": {
       "model_id": "eeed42eb68114c23bc2efd031aac68b8",
       "version_major": 2,
       "version_minor": 0
      },
      "text/plain": [
       "diffusion sampling:   0%|          | 0/200 [00:00<?, ?it/s]"
      ]
     },
     "metadata": {},
     "output_type": "display_data"
    },
    {
     "data": {
      "application/vnd.jupyter.widget-view+json": {
       "model_id": "3ca357adfeb34a2390154a2b77a76b97",
       "version_major": 2,
       "version_minor": 0
      },
      "text/plain": [
       "class hypothsis:   0%|          | 0/2 [00:00<?, ?it/s]"
      ]
     },
     "metadata": {},
     "output_type": "display_data"
    },
    {
     "data": {
      "application/vnd.jupyter.widget-view+json": {
       "model_id": "138215b034c843c5b59c455c3011f7d9",
       "version_major": 2,
       "version_minor": 0
      },
      "text/plain": [
       "diffusion sampling:   0%|          | 0/200 [00:00<?, ?it/s]"
      ]
     },
     "metadata": {},
     "output_type": "display_data"
    },
    {
     "data": {
      "application/vnd.jupyter.widget-view+json": {
       "model_id": "ae083545c3b343c795b759be213e0f34",
       "version_major": 2,
       "version_minor": 0
      },
      "text/plain": [
       "diffusion sampling:   0%|          | 0/200 [00:00<?, ?it/s]"
      ]
     },
     "metadata": {},
     "output_type": "display_data"
    },
    {
     "data": {
      "application/vnd.jupyter.widget-view+json": {
       "model_id": "d919dde7417a405a846647ea739aee15",
       "version_major": 2,
       "version_minor": 0
      },
      "text/plain": [
       "class hypothsis:   0%|          | 0/2 [00:00<?, ?it/s]"
      ]
     },
     "metadata": {},
     "output_type": "display_data"
    },
    {
     "data": {
      "application/vnd.jupyter.widget-view+json": {
       "model_id": "66e210be8f874541a91b4704a4a5ed2e",
       "version_major": 2,
       "version_minor": 0
      },
      "text/plain": [
       "diffusion sampling:   0%|          | 0/200 [00:00<?, ?it/s]"
      ]
     },
     "metadata": {},
     "output_type": "display_data"
    },
    {
     "data": {
      "application/vnd.jupyter.widget-view+json": {
       "model_id": "0eac920258144b22bffdde3ab71463a5",
       "version_major": 2,
       "version_minor": 0
      },
      "text/plain": [
       "diffusion sampling:   0%|          | 0/200 [00:00<?, ?it/s]"
      ]
     },
     "metadata": {},
     "output_type": "display_data"
    },
    {
     "data": {
      "application/vnd.jupyter.widget-view+json": {
       "model_id": "b1b6864dee3a45d1a0b2358e6542ea49",
       "version_major": 2,
       "version_minor": 0
      },
      "text/plain": [
       "class hypothsis:   0%|          | 0/2 [00:00<?, ?it/s]"
      ]
     },
     "metadata": {},
     "output_type": "display_data"
    },
    {
     "data": {
      "application/vnd.jupyter.widget-view+json": {
       "model_id": "751c07c6f78e4816b17698748bbaf729",
       "version_major": 2,
       "version_minor": 0
      },
      "text/plain": [
       "diffusion sampling:   0%|          | 0/200 [00:00<?, ?it/s]"
      ]
     },
     "metadata": {},
     "output_type": "display_data"
    },
    {
     "data": {
      "application/vnd.jupyter.widget-view+json": {
       "model_id": "e94380abecfa4815854dcdf1b4f7e44b",
       "version_major": 2,
       "version_minor": 0
      },
      "text/plain": [
       "diffusion sampling:   0%|          | 0/200 [00:00<?, ?it/s]"
      ]
     },
     "metadata": {},
     "output_type": "display_data"
    },
    {
     "data": {
      "application/vnd.jupyter.widget-view+json": {
       "model_id": "7f49fe7ba42546cc9cc26eb0c1880ac5",
       "version_major": 2,
       "version_minor": 0
      },
      "text/plain": [
       "class hypothsis:   0%|          | 0/2 [00:00<?, ?it/s]"
      ]
     },
     "metadata": {},
     "output_type": "display_data"
    },
    {
     "data": {
      "application/vnd.jupyter.widget-view+json": {
       "model_id": "37b81112ebc74ecdb1b6d38f4b65b20b",
       "version_major": 2,
       "version_minor": 0
      },
      "text/plain": [
       "diffusion sampling:   0%|          | 0/200 [00:00<?, ?it/s]"
      ]
     },
     "metadata": {},
     "output_type": "display_data"
    },
    {
     "data": {
      "application/vnd.jupyter.widget-view+json": {
       "model_id": "bd4db364fc4d476c996d819a12559b19",
       "version_major": 2,
       "version_minor": 0
      },
      "text/plain": [
       "diffusion sampling:   0%|          | 0/200 [00:00<?, ?it/s]"
      ]
     },
     "metadata": {},
     "output_type": "display_data"
    },
    {
     "data": {
      "application/vnd.jupyter.widget-view+json": {
       "model_id": "e518f29dff0943e2bbfe8a75aeb8445c",
       "version_major": 2,
       "version_minor": 0
      },
      "text/plain": [
       "class hypothsis:   0%|          | 0/2 [00:00<?, ?it/s]"
      ]
     },
     "metadata": {},
     "output_type": "display_data"
    },
    {
     "data": {
      "application/vnd.jupyter.widget-view+json": {
       "model_id": "bcfcefe4cf9740e2b1296896933f12fc",
       "version_major": 2,
       "version_minor": 0
      },
      "text/plain": [
       "diffusion sampling:   0%|          | 0/200 [00:00<?, ?it/s]"
      ]
     },
     "metadata": {},
     "output_type": "display_data"
    },
    {
     "data": {
      "application/vnd.jupyter.widget-view+json": {
       "model_id": "8617358144814c388841b3a329a9d9f4",
       "version_major": 2,
       "version_minor": 0
      },
      "text/plain": [
       "diffusion sampling:   0%|          | 0/200 [00:00<?, ?it/s]"
      ]
     },
     "metadata": {},
     "output_type": "display_data"
    },
    {
     "data": {
      "application/vnd.jupyter.widget-view+json": {
       "model_id": "ad09c1bbc3ff4b5cb482ae5195327e76",
       "version_major": 2,
       "version_minor": 0
      },
      "text/plain": [
       "class hypothsis:   0%|          | 0/2 [00:00<?, ?it/s]"
      ]
     },
     "metadata": {},
     "output_type": "display_data"
    },
    {
     "data": {
      "application/vnd.jupyter.widget-view+json": {
       "model_id": "5dd0bccc9cce43b69dd5c78dff221ee5",
       "version_major": 2,
       "version_minor": 0
      },
      "text/plain": [
       "diffusion sampling:   0%|          | 0/200 [00:00<?, ?it/s]"
      ]
     },
     "metadata": {},
     "output_type": "display_data"
    },
    {
     "data": {
      "application/vnd.jupyter.widget-view+json": {
       "model_id": "3aff3b779b2b4217b791bbcc7f2d8262",
       "version_major": 2,
       "version_minor": 0
      },
      "text/plain": [
       "diffusion sampling:   0%|          | 0/200 [00:00<?, ?it/s]"
      ]
     },
     "metadata": {},
     "output_type": "display_data"
    },
    {
     "data": {
      "application/vnd.jupyter.widget-view+json": {
       "model_id": "5f8958f00042401cb2acf2153ba87195",
       "version_major": 2,
       "version_minor": 0
      },
      "text/plain": [
       "class hypothsis:   0%|          | 0/2 [00:00<?, ?it/s]"
      ]
     },
     "metadata": {},
     "output_type": "display_data"
    },
    {
     "data": {
      "application/vnd.jupyter.widget-view+json": {
       "model_id": "526304a1ec694625900e6264334f61fb",
       "version_major": 2,
       "version_minor": 0
      },
      "text/plain": [
       "diffusion sampling:   0%|          | 0/200 [00:00<?, ?it/s]"
      ]
     },
     "metadata": {},
     "output_type": "display_data"
    },
    {
     "data": {
      "application/vnd.jupyter.widget-view+json": {
       "model_id": "1c155db5723941d4afcfb9e8f108c035",
       "version_major": 2,
       "version_minor": 0
      },
      "text/plain": [
       "diffusion sampling:   0%|          | 0/200 [00:00<?, ?it/s]"
      ]
     },
     "metadata": {},
     "output_type": "display_data"
    },
    {
     "data": {
      "application/vnd.jupyter.widget-view+json": {
       "model_id": "8aaf5927371742ac86560aed54a0ed7e",
       "version_major": 2,
       "version_minor": 0
      },
      "text/plain": [
       "class hypothsis:   0%|          | 0/2 [00:00<?, ?it/s]"
      ]
     },
     "metadata": {},
     "output_type": "display_data"
    },
    {
     "data": {
      "application/vnd.jupyter.widget-view+json": {
       "model_id": "6c5738c8f74140b4835ce45ffa855065",
       "version_major": 2,
       "version_minor": 0
      },
      "text/plain": [
       "diffusion sampling:   0%|          | 0/200 [00:00<?, ?it/s]"
      ]
     },
     "metadata": {},
     "output_type": "display_data"
    },
    {
     "data": {
      "application/vnd.jupyter.widget-view+json": {
       "model_id": "7ff39eee86e24768a1d5a70282bff86f",
       "version_major": 2,
       "version_minor": 0
      },
      "text/plain": [
       "diffusion sampling:   0%|          | 0/200 [00:00<?, ?it/s]"
      ]
     },
     "metadata": {},
     "output_type": "display_data"
    },
    {
     "data": {
      "application/vnd.jupyter.widget-view+json": {
       "model_id": "cbbb57c0002c46039cac4954f47d464c",
       "version_major": 2,
       "version_minor": 0
      },
      "text/plain": [
       "class hypothsis:   0%|          | 0/2 [00:00<?, ?it/s]"
      ]
     },
     "metadata": {},
     "output_type": "display_data"
    },
    {
     "data": {
      "application/vnd.jupyter.widget-view+json": {
       "model_id": "9788811f952e4410909963828287717d",
       "version_major": 2,
       "version_minor": 0
      },
      "text/plain": [
       "diffusion sampling:   0%|          | 0/200 [00:00<?, ?it/s]"
      ]
     },
     "metadata": {},
     "output_type": "display_data"
    },
    {
     "data": {
      "application/vnd.jupyter.widget-view+json": {
       "model_id": "ba2f9aca8d3442a086e787b1bb1dca2e",
       "version_major": 2,
       "version_minor": 0
      },
      "text/plain": [
       "diffusion sampling:   0%|          | 0/200 [00:00<?, ?it/s]"
      ]
     },
     "metadata": {},
     "output_type": "display_data"
    },
    {
     "data": {
      "application/vnd.jupyter.widget-view+json": {
       "model_id": "e3115f0ab48d4211ba96c2e68f358ba6",
       "version_major": 2,
       "version_minor": 0
      },
      "text/plain": [
       "class hypothsis:   0%|          | 0/2 [00:00<?, ?it/s]"
      ]
     },
     "metadata": {},
     "output_type": "display_data"
    },
    {
     "data": {
      "application/vnd.jupyter.widget-view+json": {
       "model_id": "c873e459bfab4415ad11d773253e1656",
       "version_major": 2,
       "version_minor": 0
      },
      "text/plain": [
       "diffusion sampling:   0%|          | 0/200 [00:00<?, ?it/s]"
      ]
     },
     "metadata": {},
     "output_type": "display_data"
    },
    {
     "data": {
      "application/vnd.jupyter.widget-view+json": {
       "model_id": "cb4a6455d4874aad8757c911a41f0787",
       "version_major": 2,
       "version_minor": 0
      },
      "text/plain": [
       "diffusion sampling:   0%|          | 0/200 [00:00<?, ?it/s]"
      ]
     },
     "metadata": {},
     "output_type": "display_data"
    },
    {
     "data": {
      "application/vnd.jupyter.widget-view+json": {
       "model_id": "4d04bfa14dd841f0ba14364b4271b181",
       "version_major": 2,
       "version_minor": 0
      },
      "text/plain": [
       "class hypothsis:   0%|          | 0/2 [00:00<?, ?it/s]"
      ]
     },
     "metadata": {},
     "output_type": "display_data"
    },
    {
     "data": {
      "application/vnd.jupyter.widget-view+json": {
       "model_id": "7b23b4f55eb74399bbf4a6e7688bf9d7",
       "version_major": 2,
       "version_minor": 0
      },
      "text/plain": [
       "diffusion sampling:   0%|          | 0/200 [00:00<?, ?it/s]"
      ]
     },
     "metadata": {},
     "output_type": "display_data"
    },
    {
     "data": {
      "application/vnd.jupyter.widget-view+json": {
       "model_id": "820e8c2073aa45918ab0c7ffc7615919",
       "version_major": 2,
       "version_minor": 0
      },
      "text/plain": [
       "diffusion sampling:   0%|          | 0/200 [00:00<?, ?it/s]"
      ]
     },
     "metadata": {},
     "output_type": "display_data"
    },
    {
     "data": {
      "application/vnd.jupyter.widget-view+json": {
       "model_id": "4c206cc04cd943549bf949214e1baf7c",
       "version_major": 2,
       "version_minor": 0
      },
      "text/plain": [
       "class hypothsis:   0%|          | 0/2 [00:00<?, ?it/s]"
      ]
     },
     "metadata": {},
     "output_type": "display_data"
    },
    {
     "data": {
      "application/vnd.jupyter.widget-view+json": {
       "model_id": "0e08048fca8144c191cf28035fe976ea",
       "version_major": 2,
       "version_minor": 0
      },
      "text/plain": [
       "diffusion sampling:   0%|          | 0/200 [00:00<?, ?it/s]"
      ]
     },
     "metadata": {},
     "output_type": "display_data"
    },
    {
     "data": {
      "application/vnd.jupyter.widget-view+json": {
       "model_id": "03c9aa3f433e422ca6d27909d97fc1b6",
       "version_major": 2,
       "version_minor": 0
      },
      "text/plain": [
       "diffusion sampling:   0%|          | 0/200 [00:00<?, ?it/s]"
      ]
     },
     "metadata": {},
     "output_type": "display_data"
    },
    {
     "data": {
      "application/vnd.jupyter.widget-view+json": {
       "model_id": "f774ff28d15540058ec79c512ce3c13f",
       "version_major": 2,
       "version_minor": 0
      },
      "text/plain": [
       "class hypothsis:   0%|          | 0/2 [00:00<?, ?it/s]"
      ]
     },
     "metadata": {},
     "output_type": "display_data"
    },
    {
     "data": {
      "application/vnd.jupyter.widget-view+json": {
       "model_id": "a9e20b3b96a14505a25b63b186f6a894",
       "version_major": 2,
       "version_minor": 0
      },
      "text/plain": [
       "diffusion sampling:   0%|          | 0/200 [00:00<?, ?it/s]"
      ]
     },
     "metadata": {},
     "output_type": "display_data"
    },
    {
     "data": {
      "application/vnd.jupyter.widget-view+json": {
       "model_id": "504ad956b5b243898c2bcfd5ecaef973",
       "version_major": 2,
       "version_minor": 0
      },
      "text/plain": [
       "diffusion sampling:   0%|          | 0/200 [00:00<?, ?it/s]"
      ]
     },
     "metadata": {},
     "output_type": "display_data"
    },
    {
     "data": {
      "application/vnd.jupyter.widget-view+json": {
       "model_id": "2f72b9ae04a4486c8de8e240cc9f9b2d",
       "version_major": 2,
       "version_minor": 0
      },
      "text/plain": [
       "class hypothsis:   0%|          | 0/2 [00:00<?, ?it/s]"
      ]
     },
     "metadata": {},
     "output_type": "display_data"
    },
    {
     "data": {
      "application/vnd.jupyter.widget-view+json": {
       "model_id": "223cadb10d70443d87a61b022e9dde04",
       "version_major": 2,
       "version_minor": 0
      },
      "text/plain": [
       "diffusion sampling:   0%|          | 0/200 [00:00<?, ?it/s]"
      ]
     },
     "metadata": {},
     "output_type": "display_data"
    },
    {
     "data": {
      "application/vnd.jupyter.widget-view+json": {
       "model_id": "a1f90dcafc31438c8f810be4f58ce648",
       "version_major": 2,
       "version_minor": 0
      },
      "text/plain": [
       "diffusion sampling:   0%|          | 0/200 [00:00<?, ?it/s]"
      ]
     },
     "metadata": {},
     "output_type": "display_data"
    },
    {
     "data": {
      "application/vnd.jupyter.widget-view+json": {
       "model_id": "c6cadb1e5bc04f20bd2bc5230cdb66d9",
       "version_major": 2,
       "version_minor": 0
      },
      "text/plain": [
       "class hypothsis:   0%|          | 0/2 [00:00<?, ?it/s]"
      ]
     },
     "metadata": {},
     "output_type": "display_data"
    },
    {
     "data": {
      "application/vnd.jupyter.widget-view+json": {
       "model_id": "48384e63f9ee44958c593cf67cb3d414",
       "version_major": 2,
       "version_minor": 0
      },
      "text/plain": [
       "diffusion sampling:   0%|          | 0/200 [00:00<?, ?it/s]"
      ]
     },
     "metadata": {},
     "output_type": "display_data"
    },
    {
     "data": {
      "application/vnd.jupyter.widget-view+json": {
       "model_id": "a9e6c8b59b9e4e55a17bbb4d0d83f3c1",
       "version_major": 2,
       "version_minor": 0
      },
      "text/plain": [
       "diffusion sampling:   0%|          | 0/200 [00:00<?, ?it/s]"
      ]
     },
     "metadata": {},
     "output_type": "display_data"
    },
    {
     "data": {
      "application/vnd.jupyter.widget-view+json": {
       "model_id": "77c8de11828b422cb9709e0790fe9789",
       "version_major": 2,
       "version_minor": 0
      },
      "text/plain": [
       "class hypothsis:   0%|          | 0/2 [00:00<?, ?it/s]"
      ]
     },
     "metadata": {},
     "output_type": "display_data"
    },
    {
     "data": {
      "application/vnd.jupyter.widget-view+json": {
       "model_id": "541309f5fb9945d4a7b2b653787dba48",
       "version_major": 2,
       "version_minor": 0
      },
      "text/plain": [
       "diffusion sampling:   0%|          | 0/200 [00:00<?, ?it/s]"
      ]
     },
     "metadata": {},
     "output_type": "display_data"
    },
    {
     "data": {
      "application/vnd.jupyter.widget-view+json": {
       "model_id": "3e8257b9374b4a90b769ed4f410f25d3",
       "version_major": 2,
       "version_minor": 0
      },
      "text/plain": [
       "diffusion sampling:   0%|          | 0/200 [00:00<?, ?it/s]"
      ]
     },
     "metadata": {},
     "output_type": "display_data"
    },
    {
     "data": {
      "application/vnd.jupyter.widget-view+json": {
       "model_id": "13c5875e362946f2b21edcbe6b3dc38f",
       "version_major": 2,
       "version_minor": 0
      },
      "text/plain": [
       "class hypothsis:   0%|          | 0/2 [00:00<?, ?it/s]"
      ]
     },
     "metadata": {},
     "output_type": "display_data"
    },
    {
     "data": {
      "application/vnd.jupyter.widget-view+json": {
       "model_id": "acbefb96e187488bb772e1131362441e",
       "version_major": 2,
       "version_minor": 0
      },
      "text/plain": [
       "diffusion sampling:   0%|          | 0/200 [00:00<?, ?it/s]"
      ]
     },
     "metadata": {},
     "output_type": "display_data"
    },
    {
     "data": {
      "application/vnd.jupyter.widget-view+json": {
       "model_id": "a0e7958d35d84892a2acb7809b0c7782",
       "version_major": 2,
       "version_minor": 0
      },
      "text/plain": [
       "diffusion sampling:   0%|          | 0/200 [00:00<?, ?it/s]"
      ]
     },
     "metadata": {},
     "output_type": "display_data"
    },
    {
     "data": {
      "application/vnd.jupyter.widget-view+json": {
       "model_id": "2e054a7101e64bdbad42e27ac8e0ca3a",
       "version_major": 2,
       "version_minor": 0
      },
      "text/plain": [
       "class hypothsis:   0%|          | 0/2 [00:00<?, ?it/s]"
      ]
     },
     "metadata": {},
     "output_type": "display_data"
    },
    {
     "data": {
      "application/vnd.jupyter.widget-view+json": {
       "model_id": "c08742f48a714381b84df22c2dfcc761",
       "version_major": 2,
       "version_minor": 0
      },
      "text/plain": [
       "diffusion sampling:   0%|          | 0/200 [00:00<?, ?it/s]"
      ]
     },
     "metadata": {},
     "output_type": "display_data"
    },
    {
     "data": {
      "application/vnd.jupyter.widget-view+json": {
       "model_id": "9381fe912c654c2fb7a7cc0fedc6ae9e",
       "version_major": 2,
       "version_minor": 0
      },
      "text/plain": [
       "diffusion sampling:   0%|          | 0/200 [00:00<?, ?it/s]"
      ]
     },
     "metadata": {},
     "output_type": "display_data"
    },
    {
     "data": {
      "application/vnd.jupyter.widget-view+json": {
       "model_id": "f7e43d72b88b4f649f67fbd775f4890b",
       "version_major": 2,
       "version_minor": 0
      },
      "text/plain": [
       "class hypothsis:   0%|          | 0/2 [00:00<?, ?it/s]"
      ]
     },
     "metadata": {},
     "output_type": "display_data"
    },
    {
     "data": {
      "application/vnd.jupyter.widget-view+json": {
       "model_id": "381d14e229a84915975494a2d2b92dd7",
       "version_major": 2,
       "version_minor": 0
      },
      "text/plain": [
       "diffusion sampling:   0%|          | 0/200 [00:00<?, ?it/s]"
      ]
     },
     "metadata": {},
     "output_type": "display_data"
    },
    {
     "data": {
      "application/vnd.jupyter.widget-view+json": {
       "model_id": "a4afb9ef3261405fbdd0c34dacfc7912",
       "version_major": 2,
       "version_minor": 0
      },
      "text/plain": [
       "diffusion sampling:   0%|          | 0/200 [00:00<?, ?it/s]"
      ]
     },
     "metadata": {},
     "output_type": "display_data"
    },
    {
     "data": {
      "application/vnd.jupyter.widget-view+json": {
       "model_id": "6aed274b329846209c0f9331c1dea9ab",
       "version_major": 2,
       "version_minor": 0
      },
      "text/plain": [
       "class hypothsis:   0%|          | 0/2 [00:00<?, ?it/s]"
      ]
     },
     "metadata": {},
     "output_type": "display_data"
    },
    {
     "data": {
      "application/vnd.jupyter.widget-view+json": {
       "model_id": "bc87d145aac54cbfa2ee7322e071fa4a",
       "version_major": 2,
       "version_minor": 0
      },
      "text/plain": [
       "diffusion sampling:   0%|          | 0/200 [00:00<?, ?it/s]"
      ]
     },
     "metadata": {},
     "output_type": "display_data"
    },
    {
     "data": {
      "application/vnd.jupyter.widget-view+json": {
       "model_id": "440b8c96e366471f9eb2294047933a8b",
       "version_major": 2,
       "version_minor": 0
      },
      "text/plain": [
       "diffusion sampling:   0%|          | 0/200 [00:00<?, ?it/s]"
      ]
     },
     "metadata": {},
     "output_type": "display_data"
    },
    {
     "data": {
      "application/vnd.jupyter.widget-view+json": {
       "model_id": "45d7f69d4226416bb204372ddd42fd6a",
       "version_major": 2,
       "version_minor": 0
      },
      "text/plain": [
       "class hypothsis:   0%|          | 0/2 [00:00<?, ?it/s]"
      ]
     },
     "metadata": {},
     "output_type": "display_data"
    },
    {
     "data": {
      "application/vnd.jupyter.widget-view+json": {
       "model_id": "85c89f44c34249bfae68a8cf64c36789",
       "version_major": 2,
       "version_minor": 0
      },
      "text/plain": [
       "diffusion sampling:   0%|          | 0/200 [00:00<?, ?it/s]"
      ]
     },
     "metadata": {},
     "output_type": "display_data"
    },
    {
     "data": {
      "application/vnd.jupyter.widget-view+json": {
       "model_id": "bc558e1b97534b589d24ed788a18e6ff",
       "version_major": 2,
       "version_minor": 0
      },
      "text/plain": [
       "diffusion sampling:   0%|          | 0/200 [00:00<?, ?it/s]"
      ]
     },
     "metadata": {},
     "output_type": "display_data"
    },
    {
     "data": {
      "application/vnd.jupyter.widget-view+json": {
       "model_id": "43b1a0d2488240a4b3f485b269eedd65",
       "version_major": 2,
       "version_minor": 0
      },
      "text/plain": [
       "class hypothsis:   0%|          | 0/2 [00:00<?, ?it/s]"
      ]
     },
     "metadata": {},
     "output_type": "display_data"
    },
    {
     "data": {
      "application/vnd.jupyter.widget-view+json": {
       "model_id": "534f7d81585f42cdbd28d136c4e1a409",
       "version_major": 2,
       "version_minor": 0
      },
      "text/plain": [
       "diffusion sampling:   0%|          | 0/200 [00:00<?, ?it/s]"
      ]
     },
     "metadata": {},
     "output_type": "display_data"
    },
    {
     "data": {
      "application/vnd.jupyter.widget-view+json": {
       "model_id": "e990e87853264c52b2579e300bb4c209",
       "version_major": 2,
       "version_minor": 0
      },
      "text/plain": [
       "diffusion sampling:   0%|          | 0/200 [00:00<?, ?it/s]"
      ]
     },
     "metadata": {},
     "output_type": "display_data"
    },
    {
     "data": {
      "application/vnd.jupyter.widget-view+json": {
       "model_id": "29e82bc7a51c4b0dae6e8be1faf91de7",
       "version_major": 2,
       "version_minor": 0
      },
      "text/plain": [
       "class hypothsis:   0%|          | 0/2 [00:00<?, ?it/s]"
      ]
     },
     "metadata": {},
     "output_type": "display_data"
    },
    {
     "data": {
      "application/vnd.jupyter.widget-view+json": {
       "model_id": "ff2c46d52907418b9aabd4fa9d2d2546",
       "version_major": 2,
       "version_minor": 0
      },
      "text/plain": [
       "diffusion sampling:   0%|          | 0/200 [00:00<?, ?it/s]"
      ]
     },
     "metadata": {},
     "output_type": "display_data"
    },
    {
     "data": {
      "application/vnd.jupyter.widget-view+json": {
       "model_id": "de03b0cd86c14b8d87f6ab776e22fab7",
       "version_major": 2,
       "version_minor": 0
      },
      "text/plain": [
       "diffusion sampling:   0%|          | 0/200 [00:00<?, ?it/s]"
      ]
     },
     "metadata": {},
     "output_type": "display_data"
    },
    {
     "data": {
      "application/vnd.jupyter.widget-view+json": {
       "model_id": "2fcbdc6845cf4e1dba55be52b3b425f9",
       "version_major": 2,
       "version_minor": 0
      },
      "text/plain": [
       "class hypothsis:   0%|          | 0/2 [00:00<?, ?it/s]"
      ]
     },
     "metadata": {},
     "output_type": "display_data"
    },
    {
     "data": {
      "application/vnd.jupyter.widget-view+json": {
       "model_id": "a938fa18a34f4aaa92fd105d76370dfd",
       "version_major": 2,
       "version_minor": 0
      },
      "text/plain": [
       "diffusion sampling:   0%|          | 0/200 [00:00<?, ?it/s]"
      ]
     },
     "metadata": {},
     "output_type": "display_data"
    },
    {
     "data": {
      "application/vnd.jupyter.widget-view+json": {
       "model_id": "6a4731e269714fd8888d183bd4e608e7",
       "version_major": 2,
       "version_minor": 0
      },
      "text/plain": [
       "diffusion sampling:   0%|          | 0/200 [00:00<?, ?it/s]"
      ]
     },
     "metadata": {},
     "output_type": "display_data"
    },
    {
     "data": {
      "application/vnd.jupyter.widget-view+json": {
       "model_id": "3fc131db26e24adc85213a9cae3bbca1",
       "version_major": 2,
       "version_minor": 0
      },
      "text/plain": [
       "class hypothsis:   0%|          | 0/2 [00:00<?, ?it/s]"
      ]
     },
     "metadata": {},
     "output_type": "display_data"
    },
    {
     "data": {
      "application/vnd.jupyter.widget-view+json": {
       "model_id": "7625e6e1a7b04c5da61c59d478403e27",
       "version_major": 2,
       "version_minor": 0
      },
      "text/plain": [
       "diffusion sampling:   0%|          | 0/200 [00:00<?, ?it/s]"
      ]
     },
     "metadata": {},
     "output_type": "display_data"
    },
    {
     "data": {
      "application/vnd.jupyter.widget-view+json": {
       "model_id": "81d72cde9d154512a67f1aeb05e6ec6b",
       "version_major": 2,
       "version_minor": 0
      },
      "text/plain": [
       "diffusion sampling:   0%|          | 0/200 [00:00<?, ?it/s]"
      ]
     },
     "metadata": {},
     "output_type": "display_data"
    },
    {
     "data": {
      "application/vnd.jupyter.widget-view+json": {
       "model_id": "ab2c239d80374239b97fa990de77ac3c",
       "version_major": 2,
       "version_minor": 0
      },
      "text/plain": [
       "class hypothsis:   0%|          | 0/2 [00:00<?, ?it/s]"
      ]
     },
     "metadata": {},
     "output_type": "display_data"
    },
    {
     "data": {
      "application/vnd.jupyter.widget-view+json": {
       "model_id": "23c9abdc0d5e4ff39f9a9f96011b0479",
       "version_major": 2,
       "version_minor": 0
      },
      "text/plain": [
       "diffusion sampling:   0%|          | 0/200 [00:00<?, ?it/s]"
      ]
     },
     "metadata": {},
     "output_type": "display_data"
    },
    {
     "data": {
      "application/vnd.jupyter.widget-view+json": {
       "model_id": "53bf7772ec1b45a3b100c0cb53480a4b",
       "version_major": 2,
       "version_minor": 0
      },
      "text/plain": [
       "diffusion sampling:   0%|          | 0/200 [00:00<?, ?it/s]"
      ]
     },
     "metadata": {},
     "output_type": "display_data"
    },
    {
     "data": {
      "application/vnd.jupyter.widget-view+json": {
       "model_id": "c2e15631cb094cd0bd5c9360c399f5aa",
       "version_major": 2,
       "version_minor": 0
      },
      "text/plain": [
       "class hypothsis:   0%|          | 0/2 [00:00<?, ?it/s]"
      ]
     },
     "metadata": {},
     "output_type": "display_data"
    },
    {
     "data": {
      "application/vnd.jupyter.widget-view+json": {
       "model_id": "f8bb33875e43410996863754fb778469",
       "version_major": 2,
       "version_minor": 0
      },
      "text/plain": [
       "diffusion sampling:   0%|          | 0/200 [00:00<?, ?it/s]"
      ]
     },
     "metadata": {},
     "output_type": "display_data"
    },
    {
     "data": {
      "application/vnd.jupyter.widget-view+json": {
       "model_id": "08e0bb0b559a4068a6457d34a36031eb",
       "version_major": 2,
       "version_minor": 0
      },
      "text/plain": [
       "diffusion sampling:   0%|          | 0/200 [00:00<?, ?it/s]"
      ]
     },
     "metadata": {},
     "output_type": "display_data"
    },
    {
     "data": {
      "application/vnd.jupyter.widget-view+json": {
       "model_id": "3439ae7f69d84f14b0d915e7cd7e6b22",
       "version_major": 2,
       "version_minor": 0
      },
      "text/plain": [
       "class hypothsis:   0%|          | 0/2 [00:00<?, ?it/s]"
      ]
     },
     "metadata": {},
     "output_type": "display_data"
    },
    {
     "data": {
      "application/vnd.jupyter.widget-view+json": {
       "model_id": "54784b779ac84ca2bb3baa4ab7ff1bd4",
       "version_major": 2,
       "version_minor": 0
      },
      "text/plain": [
       "diffusion sampling:   0%|          | 0/200 [00:00<?, ?it/s]"
      ]
     },
     "metadata": {},
     "output_type": "display_data"
    },
    {
     "data": {
      "application/vnd.jupyter.widget-view+json": {
       "model_id": "df4166a01f32490b8e3cb78ec3323694",
       "version_major": 2,
       "version_minor": 0
      },
      "text/plain": [
       "diffusion sampling:   0%|          | 0/200 [00:00<?, ?it/s]"
      ]
     },
     "metadata": {},
     "output_type": "display_data"
    },
    {
     "data": {
      "application/vnd.jupyter.widget-view+json": {
       "model_id": "44d7516f632b47e89da4e631c3370c32",
       "version_major": 2,
       "version_minor": 0
      },
      "text/plain": [
       "class hypothsis:   0%|          | 0/2 [00:00<?, ?it/s]"
      ]
     },
     "metadata": {},
     "output_type": "display_data"
    },
    {
     "data": {
      "application/vnd.jupyter.widget-view+json": {
       "model_id": "dc870080749c44a0a4b908bfe86db144",
       "version_major": 2,
       "version_minor": 0
      },
      "text/plain": [
       "diffusion sampling:   0%|          | 0/200 [00:00<?, ?it/s]"
      ]
     },
     "metadata": {},
     "output_type": "display_data"
    },
    {
     "data": {
      "application/vnd.jupyter.widget-view+json": {
       "model_id": "e24fc31f81ae4bf6b90997bfd669806f",
       "version_major": 2,
       "version_minor": 0
      },
      "text/plain": [
       "diffusion sampling:   0%|          | 0/200 [00:00<?, ?it/s]"
      ]
     },
     "metadata": {},
     "output_type": "display_data"
    },
    {
     "data": {
      "application/vnd.jupyter.widget-view+json": {
       "model_id": "9523bc6ef69f4be3a858f0e195bebc29",
       "version_major": 2,
       "version_minor": 0
      },
      "text/plain": [
       "class hypothsis:   0%|          | 0/2 [00:00<?, ?it/s]"
      ]
     },
     "metadata": {},
     "output_type": "display_data"
    },
    {
     "data": {
      "application/vnd.jupyter.widget-view+json": {
       "model_id": "ec9dbbf8493b4a87bd845842b67b8200",
       "version_major": 2,
       "version_minor": 0
      },
      "text/plain": [
       "diffusion sampling:   0%|          | 0/200 [00:00<?, ?it/s]"
      ]
     },
     "metadata": {},
     "output_type": "display_data"
    },
    {
     "data": {
      "application/vnd.jupyter.widget-view+json": {
       "model_id": "cb053d17d19d44d5b1718e0fd7330869",
       "version_major": 2,
       "version_minor": 0
      },
      "text/plain": [
       "diffusion sampling:   0%|          | 0/200 [00:00<?, ?it/s]"
      ]
     },
     "metadata": {},
     "output_type": "display_data"
    },
    {
     "data": {
      "application/vnd.jupyter.widget-view+json": {
       "model_id": "40223275354f453694fa146a49649332",
       "version_major": 2,
       "version_minor": 0
      },
      "text/plain": [
       "class hypothsis:   0%|          | 0/2 [00:00<?, ?it/s]"
      ]
     },
     "metadata": {},
     "output_type": "display_data"
    },
    {
     "data": {
      "application/vnd.jupyter.widget-view+json": {
       "model_id": "98fed7cecc154f9086c2fde1e42e0031",
       "version_major": 2,
       "version_minor": 0
      },
      "text/plain": [
       "diffusion sampling:   0%|          | 0/200 [00:00<?, ?it/s]"
      ]
     },
     "metadata": {},
     "output_type": "display_data"
    },
    {
     "data": {
      "application/vnd.jupyter.widget-view+json": {
       "model_id": "2d566c84a3474280b9f39e14a2ddf90f",
       "version_major": 2,
       "version_minor": 0
      },
      "text/plain": [
       "diffusion sampling:   0%|          | 0/200 [00:00<?, ?it/s]"
      ]
     },
     "metadata": {},
     "output_type": "display_data"
    },
    {
     "data": {
      "application/vnd.jupyter.widget-view+json": {
       "model_id": "694c41ac46894fc0be49e6d9f0b26c94",
       "version_major": 2,
       "version_minor": 0
      },
      "text/plain": [
       "class hypothsis:   0%|          | 0/2 [00:00<?, ?it/s]"
      ]
     },
     "metadata": {},
     "output_type": "display_data"
    },
    {
     "data": {
      "application/vnd.jupyter.widget-view+json": {
       "model_id": "92271e8b37234ff68d66452d0fe9b957",
       "version_major": 2,
       "version_minor": 0
      },
      "text/plain": [
       "diffusion sampling:   0%|          | 0/200 [00:00<?, ?it/s]"
      ]
     },
     "metadata": {},
     "output_type": "display_data"
    },
    {
     "data": {
      "application/vnd.jupyter.widget-view+json": {
       "model_id": "2ab5fb50628f47dc9eb17b3f160ae8cd",
       "version_major": 2,
       "version_minor": 0
      },
      "text/plain": [
       "diffusion sampling:   0%|          | 0/200 [00:00<?, ?it/s]"
      ]
     },
     "metadata": {},
     "output_type": "display_data"
    },
    {
     "data": {
      "application/vnd.jupyter.widget-view+json": {
       "model_id": "6aead460dc77416a9af885557ac2f198",
       "version_major": 2,
       "version_minor": 0
      },
      "text/plain": [
       "class hypothsis:   0%|          | 0/2 [00:00<?, ?it/s]"
      ]
     },
     "metadata": {},
     "output_type": "display_data"
    },
    {
     "data": {
      "application/vnd.jupyter.widget-view+json": {
       "model_id": "db46c46735634794b90e460ac2c7bea9",
       "version_major": 2,
       "version_minor": 0
      },
      "text/plain": [
       "diffusion sampling:   0%|          | 0/200 [00:00<?, ?it/s]"
      ]
     },
     "metadata": {},
     "output_type": "display_data"
    },
    {
     "data": {
      "application/vnd.jupyter.widget-view+json": {
       "model_id": "c44ef662567043ac83086a55dce254f4",
       "version_major": 2,
       "version_minor": 0
      },
      "text/plain": [
       "diffusion sampling:   0%|          | 0/200 [00:00<?, ?it/s]"
      ]
     },
     "metadata": {},
     "output_type": "display_data"
    },
    {
     "data": {
      "application/vnd.jupyter.widget-view+json": {
       "model_id": "fc7ed831b87c448683b9694d0e190036",
       "version_major": 2,
       "version_minor": 0
      },
      "text/plain": [
       "class hypothsis:   0%|          | 0/2 [00:00<?, ?it/s]"
      ]
     },
     "metadata": {},
     "output_type": "display_data"
    },
    {
     "data": {
      "application/vnd.jupyter.widget-view+json": {
       "model_id": "8ae7672f04ed4128ae512a993a779a43",
       "version_major": 2,
       "version_minor": 0
      },
      "text/plain": [
       "diffusion sampling:   0%|          | 0/200 [00:00<?, ?it/s]"
      ]
     },
     "metadata": {},
     "output_type": "display_data"
    },
    {
     "data": {
      "application/vnd.jupyter.widget-view+json": {
       "model_id": "a797c015edba465c85ff4928fac21013",
       "version_major": 2,
       "version_minor": 0
      },
      "text/plain": [
       "diffusion sampling:   0%|          | 0/200 [00:00<?, ?it/s]"
      ]
     },
     "metadata": {},
     "output_type": "display_data"
    },
    {
     "data": {
      "application/vnd.jupyter.widget-view+json": {
       "model_id": "964f8ff425d24e129fc045b8434b8b74",
       "version_major": 2,
       "version_minor": 0
      },
      "text/plain": [
       "class hypothsis:   0%|          | 0/2 [00:00<?, ?it/s]"
      ]
     },
     "metadata": {},
     "output_type": "display_data"
    },
    {
     "data": {
      "application/vnd.jupyter.widget-view+json": {
       "model_id": "b91efb8817de4a2aa5b31e0decf2dfe9",
       "version_major": 2,
       "version_minor": 0
      },
      "text/plain": [
       "diffusion sampling:   0%|          | 0/200 [00:00<?, ?it/s]"
      ]
     },
     "metadata": {},
     "output_type": "display_data"
    },
    {
     "data": {
      "application/vnd.jupyter.widget-view+json": {
       "model_id": "0bf28d44b4e9410a8c69f577190ec1f5",
       "version_major": 2,
       "version_minor": 0
      },
      "text/plain": [
       "diffusion sampling:   0%|          | 0/200 [00:00<?, ?it/s]"
      ]
     },
     "metadata": {},
     "output_type": "display_data"
    },
    {
     "data": {
      "application/vnd.jupyter.widget-view+json": {
       "model_id": "7265f7adb14c47d39de1e2afb368ac2c",
       "version_major": 2,
       "version_minor": 0
      },
      "text/plain": [
       "class hypothsis:   0%|          | 0/2 [00:00<?, ?it/s]"
      ]
     },
     "metadata": {},
     "output_type": "display_data"
    },
    {
     "data": {
      "application/vnd.jupyter.widget-view+json": {
       "model_id": "9611ce9738fe4690810eea095c5c4403",
       "version_major": 2,
       "version_minor": 0
      },
      "text/plain": [
       "diffusion sampling:   0%|          | 0/200 [00:00<?, ?it/s]"
      ]
     },
     "metadata": {},
     "output_type": "display_data"
    },
    {
     "data": {
      "application/vnd.jupyter.widget-view+json": {
       "model_id": "287a0a7c153c4e9592055b0b331a673c",
       "version_major": 2,
       "version_minor": 0
      },
      "text/plain": [
       "diffusion sampling:   0%|          | 0/200 [00:00<?, ?it/s]"
      ]
     },
     "metadata": {},
     "output_type": "display_data"
    },
    {
     "data": {
      "application/vnd.jupyter.widget-view+json": {
       "model_id": "9d56f430cc6f479282b8cd9ebafaee04",
       "version_major": 2,
       "version_minor": 0
      },
      "text/plain": [
       "class hypothsis:   0%|          | 0/2 [00:00<?, ?it/s]"
      ]
     },
     "metadata": {},
     "output_type": "display_data"
    },
    {
     "data": {
      "application/vnd.jupyter.widget-view+json": {
       "model_id": "c40f8bb8eef9443aba82c5dcb0ac8caa",
       "version_major": 2,
       "version_minor": 0
      },
      "text/plain": [
       "diffusion sampling:   0%|          | 0/200 [00:00<?, ?it/s]"
      ]
     },
     "metadata": {},
     "output_type": "display_data"
    },
    {
     "data": {
      "application/vnd.jupyter.widget-view+json": {
       "model_id": "2388da78dec04f159a5b274488bd6cfd",
       "version_major": 2,
       "version_minor": 0
      },
      "text/plain": [
       "diffusion sampling:   0%|          | 0/200 [00:00<?, ?it/s]"
      ]
     },
     "metadata": {},
     "output_type": "display_data"
    },
    {
     "data": {
      "application/vnd.jupyter.widget-view+json": {
       "model_id": "c46d91564a0e4acbb6fa74537da75045",
       "version_major": 2,
       "version_minor": 0
      },
      "text/plain": [
       "class hypothsis:   0%|          | 0/2 [00:00<?, ?it/s]"
      ]
     },
     "metadata": {},
     "output_type": "display_data"
    },
    {
     "data": {
      "application/vnd.jupyter.widget-view+json": {
       "model_id": "038b16a049ba4a1584d4477d540d9356",
       "version_major": 2,
       "version_minor": 0
      },
      "text/plain": [
       "diffusion sampling:   0%|          | 0/200 [00:00<?, ?it/s]"
      ]
     },
     "metadata": {},
     "output_type": "display_data"
    },
    {
     "data": {
      "application/vnd.jupyter.widget-view+json": {
       "model_id": "e3fb61141a4b431b9761cf09d096b4ff",
       "version_major": 2,
       "version_minor": 0
      },
      "text/plain": [
       "diffusion sampling:   0%|          | 0/200 [00:00<?, ?it/s]"
      ]
     },
     "metadata": {},
     "output_type": "display_data"
    },
    {
     "data": {
      "application/vnd.jupyter.widget-view+json": {
       "model_id": "6aca4d0959344d199a89c51cdb6743b6",
       "version_major": 2,
       "version_minor": 0
      },
      "text/plain": [
       "class hypothsis:   0%|          | 0/2 [00:00<?, ?it/s]"
      ]
     },
     "metadata": {},
     "output_type": "display_data"
    },
    {
     "data": {
      "application/vnd.jupyter.widget-view+json": {
       "model_id": "98cf401772934a858c1b4bdb67205d9b",
       "version_major": 2,
       "version_minor": 0
      },
      "text/plain": [
       "diffusion sampling:   0%|          | 0/200 [00:00<?, ?it/s]"
      ]
     },
     "metadata": {},
     "output_type": "display_data"
    },
    {
     "data": {
      "application/vnd.jupyter.widget-view+json": {
       "model_id": "8ea5053ff3fe4d7fb114afc1cd1fc9c0",
       "version_major": 2,
       "version_minor": 0
      },
      "text/plain": [
       "diffusion sampling:   0%|          | 0/200 [00:00<?, ?it/s]"
      ]
     },
     "metadata": {},
     "output_type": "display_data"
    },
    {
     "data": {
      "application/vnd.jupyter.widget-view+json": {
       "model_id": "e8254dd51787476a8fd7cb06830747a7",
       "version_major": 2,
       "version_minor": 0
      },
      "text/plain": [
       "class hypothsis:   0%|          | 0/2 [00:00<?, ?it/s]"
      ]
     },
     "metadata": {},
     "output_type": "display_data"
    },
    {
     "data": {
      "application/vnd.jupyter.widget-view+json": {
       "model_id": "2320bc0f352b4f6aa9a4e5243c63499f",
       "version_major": 2,
       "version_minor": 0
      },
      "text/plain": [
       "diffusion sampling:   0%|          | 0/200 [00:00<?, ?it/s]"
      ]
     },
     "metadata": {},
     "output_type": "display_data"
    },
    {
     "data": {
      "application/vnd.jupyter.widget-view+json": {
       "model_id": "0a373351dd3645c7b38c94fe4ad4c721",
       "version_major": 2,
       "version_minor": 0
      },
      "text/plain": [
       "diffusion sampling:   0%|          | 0/200 [00:00<?, ?it/s]"
      ]
     },
     "metadata": {},
     "output_type": "display_data"
    },
    {
     "data": {
      "application/vnd.jupyter.widget-view+json": {
       "model_id": "e0b7793c25b74eecad5ea2ee557768af",
       "version_major": 2,
       "version_minor": 0
      },
      "text/plain": [
       "class hypothsis:   0%|          | 0/2 [00:00<?, ?it/s]"
      ]
     },
     "metadata": {},
     "output_type": "display_data"
    },
    {
     "data": {
      "application/vnd.jupyter.widget-view+json": {
       "model_id": "ecd55d7adbd347ca9201e5d9f7f570f6",
       "version_major": 2,
       "version_minor": 0
      },
      "text/plain": [
       "diffusion sampling:   0%|          | 0/200 [00:00<?, ?it/s]"
      ]
     },
     "metadata": {},
     "output_type": "display_data"
    },
    {
     "data": {
      "application/vnd.jupyter.widget-view+json": {
       "model_id": "85ebc546b16745ab963ff9944cf01374",
       "version_major": 2,
       "version_minor": 0
      },
      "text/plain": [
       "diffusion sampling:   0%|          | 0/200 [00:00<?, ?it/s]"
      ]
     },
     "metadata": {},
     "output_type": "display_data"
    },
    {
     "data": {
      "application/vnd.jupyter.widget-view+json": {
       "model_id": "a526acf8872d4cbe8e899b53a7877dea",
       "version_major": 2,
       "version_minor": 0
      },
      "text/plain": [
       "class hypothsis:   0%|          | 0/2 [00:00<?, ?it/s]"
      ]
     },
     "metadata": {},
     "output_type": "display_data"
    },
    {
     "data": {
      "application/vnd.jupyter.widget-view+json": {
       "model_id": "d7ff31a658494c84937405987b5b4a68",
       "version_major": 2,
       "version_minor": 0
      },
      "text/plain": [
       "diffusion sampling:   0%|          | 0/200 [00:00<?, ?it/s]"
      ]
     },
     "metadata": {},
     "output_type": "display_data"
    },
    {
     "data": {
      "application/vnd.jupyter.widget-view+json": {
       "model_id": "a2fe6615fed24497a99970be3b129db6",
       "version_major": 2,
       "version_minor": 0
      },
      "text/plain": [
       "diffusion sampling:   0%|          | 0/200 [00:00<?, ?it/s]"
      ]
     },
     "metadata": {},
     "output_type": "display_data"
    }
   ],
   "source": [
    "# run classification for the entire dataset\n",
    "\n",
    "l2_labels_pred, l1_labels_pred, true_labels = ldm_clf.classify_dataset(dataset=imagnet_subset,\n",
    "                                                                       batch_size=1,\n",
    "                                                                       n_trials=1,\n",
    "                                                                       t_sampling_stride=5,\n",
    "                                                                       classes=subset_classes)"
   ]
  },
  {
   "cell_type": "code",
   "execution_count": 13,
   "id": "e7218cea-4b40-486c-9eb2-79e16c6b6c8b",
   "metadata": {},
   "outputs": [
    {
     "name": "stdout",
     "output_type": "stream",
     "text": [
      "L2 accuracy: 98.57142857142858\n",
      "L1 accuracy: 98.57142857142858\n"
     ]
    }
   ],
   "source": [
    "l2_acc = ldm_clf.get_classification_accuracy(l2_labels_pred, true_labels)\n",
    "l1_acc = ldm_clf.get_classification_accuracy(l1_labels_pred, true_labels)\n",
    "\n",
    "print(f\"L2 accuracy: {l2_acc}\")\n",
    "print(f\"L1 accuracy: {l1_acc}\")"
   ]
  }
 ],
 "metadata": {
  "kernelspec": {
   "display_name": "Python 3 (ipykernel)",
   "language": "python",
   "name": "python3"
  },
  "language_info": {
   "codemirror_mode": {
    "name": "ipython",
    "version": 3
   },
   "file_extension": ".py",
   "mimetype": "text/x-python",
   "name": "python",
   "nbconvert_exporter": "python",
   "pygments_lexer": "ipython3",
   "version": "3.8.5"
  }
 },
 "nbformat": 4,
 "nbformat_minor": 5
}
