{
 "cells": [
  {
   "cell_type": "code",
   "execution_count": 1,
   "id": "21c39525-cbc2-4c91-9995-5a958cb93176",
   "metadata": {},
   "outputs": [],
   "source": [
    "from ct_rsna import CTDataset\n",
    "from torchvision import transforms\n",
    "from torchvision.datasets import ImageFolder"
   ]
  },
  {
   "cell_type": "code",
   "execution_count": 2,
   "id": "e7201092-5f7a-4b86-9717-51e3d02b6e06",
   "metadata": {},
   "outputs": [],
   "source": [
    "train_dir = '/home/eladdavid1/data/train'\n",
    "val_dir = '/home/eladdavid1/data/validation'\n",
    "\n",
    "transform = transforms.Compose([\n",
    "    transforms.ToTensor(),  # Convert PIL Image to Tensor\n",
    "    transforms.Normalize(mean=[0.5], std=[0.5])  # Normalize the pixel values\n",
    "])\n"
   ]
  },
  {
   "cell_type": "code",
   "execution_count": 3,
   "id": "7e676716-8c1d-444e-807d-6dd2b58525b6",
   "metadata": {},
   "outputs": [],
   "source": [
    "ctd = CTDataset(data_dir=train_dir, labels_path='train_set.csv', transform=transform)"
   ]
  },
  {
   "cell_type": "code",
   "execution_count": 4,
   "id": "918bdfe7-3700-41c6-9b91-cb3cd171e044",
   "metadata": {},
   "outputs": [
    {
     "name": "stdout",
     "output_type": "stream",
     "text": [
      "[[ 25.  26.  28. ...  21.  21.  21.]\n",
      " [ 25.  25.  26. ...  21.  21.  21.]\n",
      " [ 25.  25.  25. ...  21.  23.  21.]\n",
      " ...\n",
      " [531. 535. 535. ... 520. 520. 520.]\n",
      " [573. 576. 578. ... 505. 506. 510.]\n",
      " [588. 591. 595. ... 510. 513. 518.]]\n"
     ]
    },
    {
     "data": {
      "text/plain": [
       "tensor([[[  49.,   51.,   55.,  ...,   41.,   41.,   41.],\n",
       "         [  49.,   49.,   51.,  ...,   41.,   41.,   41.],\n",
       "         [  49.,   49.,   49.,  ...,   41.,   45.,   41.],\n",
       "         ...,\n",
       "         [1061., 1069., 1069.,  ..., 1039., 1039., 1039.],\n",
       "         [1145., 1151., 1155.,  ..., 1009., 1011., 1019.],\n",
       "         [1175., 1181., 1189.,  ..., 1019., 1025., 1035.]]])"
      ]
     },
     "execution_count": 4,
     "metadata": {},
     "output_type": "execute_result"
    }
   ],
   "source": [
    "ctd[3][0]"
   ]
  }
 ],
 "metadata": {
  "kernelspec": {
   "display_name": "Python 3 (ipykernel)",
   "language": "python",
   "name": "python3"
  },
  "language_info": {
   "codemirror_mode": {
    "name": "ipython",
    "version": 3
   },
   "file_extension": ".py",
   "mimetype": "text/x-python",
   "name": "python",
   "nbconvert_exporter": "python",
   "pygments_lexer": "ipython3",
   "version": "3.8.5"
  }
 },
 "nbformat": 4,
 "nbformat_minor": 5
}
